{
  "nbformat": 4,
  "nbformat_minor": 0,
  "metadata": {
    "colab": {
      "provenance": [],
      "gpuType": "T4",
      "authorship_tag": "ABX9TyO4+XFDYToNc7qrXQ7qnJpN",
      "include_colab_link": true
    },
    "kernelspec": {
      "name": "python3",
      "display_name": "Python 3"
    },
    "language_info": {
      "name": "python"
    },
    "gpuClass": "standard"
  },
  "cells": [
    {
      "cell_type": "markdown",
      "metadata": {
        "id": "view-in-github",
        "colab_type": "text"
      },
      "source": [
        "<a href=\"https://colab.research.google.com/github/samikshagadhave/binary_classification/blob/main/Binary_classification_for_Good_%26_Bad_dataset_with_EfficientNetB4_model_on_T51%26T52%26T53%26T54%26T57%26T58.ipynb\" target=\"_parent\"><img src=\"https://colab.research.google.com/assets/colab-badge.svg\" alt=\"Open In Colab\"/></a>"
      ]
    },
    {
      "cell_type": "code",
      "execution_count": null,
      "metadata": {
        "colab": {
          "base_uri": "https://localhost:8080/"
        },
        "id": "VOwvAY4KUr8g",
        "outputId": "588f245b-f5f0-4044-c346-2063de9a65f6"
      },
      "outputs": [
        {
          "output_type": "stream",
          "name": "stdout",
          "text": [
            "Mounted at /content/gdrive\n"
          ]
        }
      ],
      "source": [
        "from google.colab import drive\n",
        "drive.mount(\"/content/gdrive\")"
      ]
    },
    {
      "cell_type": "code",
      "source": [
        "%cd /content/gdrive"
      ],
      "metadata": {
        "colab": {
          "base_uri": "https://localhost:8080/"
        },
        "id": "Wky_mmEwUvxR",
        "outputId": "242e2c3f-8033-42a5-99af-f345eaadc6dd"
      },
      "execution_count": null,
      "outputs": [
        {
          "output_type": "stream",
          "name": "stdout",
          "text": [
            "/content/gdrive\n"
          ]
        }
      ]
    },
    {
      "cell_type": "code",
      "source": [
        "import pandas as pd\n",
        "\n",
        "df=pd.read_excel(r'/content/gdrive/MyDrive/dataset/T51+T52BAD+T53BAD+T54BAD+T57BAD +T58BAD/Train 1.xlsx')\n",
        "\n",
        "df['OR_Gate']=df['Tower']|df['Transmission line']|df['insulator']|df['vibration damper']\n",
        "#print(df['OR_Gate'])\n",
        "\n",
        "Bad_dataset=list(df[df['OR_Gate']==0][\"Image Name\"])\n",
        "#print(Bad_dataset)\n",
        "\n",
        "Good_dataset=list(df[df['OR_Gate']==1][\"Image Name\"])\n",
        "#print(Good_dataset)\n",
        "path=r\"/content/gdrive/MyDrive/dataset/T51+T52BAD+T53BAD+T54BAD+T57BAD +T58BAD/train/\"\n",
        "\n",
        "img_path_Bad_dataset=r\"/content/gdrive/MyDrive/dataset/T51+T52BAD+T53BAD+T54BAD+T57BAD +T58BAD/Train/bad_dataset/\"\n",
        "\n",
        "img_path_Good_dataset =r\"/content/gdrive/MyDrive/dataset/T51+T52BAD+T53BAD+T54BAD+T57BAD +T58BAD/Train/good_dataset/\"\n",
        "import shutil\n",
        "for i in Bad_dataset:\n",
        "   src_path=path+i\n",
        "   #print(src_path)\n",
        "   dest_path=img_path_Bad_dataset+i\n",
        "   #print(dest_path)\n",
        "   temp=shutil.copy(src_path,dest_path)\n",
        "   #print(temp)\n",
        "   print(\"bad_dataset folder created and relevant images have been moved\")\n",
        "for i in Good_dataset:\n",
        "   src_path=path+i\n",
        "   #print(src_path)\n",
        "   dest_path=img_path_Good_dataset+i\n",
        "   #print(dest_path)\n",
        "   temp=shutil.copy(src_path, dest_path)\n",
        "   print(\"good_dataset folder created and relevant images have been moved\")\n",
        "\n",
        "\n",
        "df=pd.read_excel(r'/content/gdrive/MyDrive/dataset/T51+T52BAD+T53BAD+T54BAD+T57BAD +T58BAD/Test 1.xlsx')\n",
        "\n",
        "df['OR_Gate']=df['Tower']|df['Transmission line']|df['insulator']|df['vibration damper']\n",
        "#print(df['OR_Gate'])\n",
        "\n",
        "Bad_dataset=list(df[df['OR_Gate']==0][\"Image Name\"])\n",
        "Good_dataset=list(df[df['OR_Gate']==1][\"Image Name\"])\n",
        "#print(Good_dataset)\n",
        "path=r\"/content/gdrive/MyDrive/dataset/T51+T52BAD+T53BAD+T54BAD+T57BAD +T58BAD/test/\"\n",
        "\n",
        "img_path_Bad_dataset=r\"/content/gdrive/MyDrive/dataset/T51+T52BAD+T53BAD+T54BAD+T57BAD +T58BAD/Test/bad_dataset/\"\n",
        "img_path_Good_dataset =r\"/content/gdrive/MyDrive/dataset/T51+T52BAD+T53BAD+T54BAD+T57BAD +T58BAD/Test/good_dataset/\"\n",
        "import shutil\n",
        "for i in Bad_dataset:\n",
        "   src_path=path+i\n",
        "   #print(src_path)\n",
        "   dest_path=img_path_Bad_dataset+i\n",
        "   #print(dest_path)\n",
        "   temp=shutil.copy(src_path,dest_path)\n",
        "   #print(temp)\n",
        "   print(\"bad_dataset folder created and relevant images have been moved\")\n",
        "for i in Good_dataset:\n",
        "   src_path=path+i\n",
        "   #print(src_path)\n",
        "   dest_path=img_path_Good_dataset+i\n",
        "   #print(dest_path)\n",
        "   temp=shutil.copy(src_path, dest_path)\n",
        "   print(\"good_dataset folder created and relevant images have been moved\")\n"
      ],
      "metadata": {
        "colab": {
          "base_uri": "https://localhost:8080/"
        },
        "id": "du5chXxegJnn",
        "outputId": "7205bf39-29f4-487e-9d55-cd96882b2553"
      },
      "execution_count": null,
      "outputs": [
        {
          "output_type": "stream",
          "name": "stdout",
          "text": [
            "bad_dataset folder created and relevant images have been moved\n",
            "bad_dataset folder created and relevant images have been moved\n",
            "bad_dataset folder created and relevant images have been moved\n",
            "bad_dataset folder created and relevant images have been moved\n",
            "bad_dataset folder created and relevant images have been moved\n",
            "bad_dataset folder created and relevant images have been moved\n",
            "bad_dataset folder created and relevant images have been moved\n",
            "bad_dataset folder created and relevant images have been moved\n",
            "bad_dataset folder created and relevant images have been moved\n",
            "bad_dataset folder created and relevant images have been moved\n",
            "bad_dataset folder created and relevant images have been moved\n",
            "bad_dataset folder created and relevant images have been moved\n",
            "bad_dataset folder created and relevant images have been moved\n",
            "bad_dataset folder created and relevant images have been moved\n",
            "bad_dataset folder created and relevant images have been moved\n",
            "bad_dataset folder created and relevant images have been moved\n",
            "bad_dataset folder created and relevant images have been moved\n",
            "bad_dataset folder created and relevant images have been moved\n",
            "bad_dataset folder created and relevant images have been moved\n",
            "bad_dataset folder created and relevant images have been moved\n",
            "bad_dataset folder created and relevant images have been moved\n",
            "bad_dataset folder created and relevant images have been moved\n",
            "bad_dataset folder created and relevant images have been moved\n",
            "bad_dataset folder created and relevant images have been moved\n",
            "bad_dataset folder created and relevant images have been moved\n",
            "bad_dataset folder created and relevant images have been moved\n",
            "bad_dataset folder created and relevant images have been moved\n",
            "bad_dataset folder created and relevant images have been moved\n",
            "bad_dataset folder created and relevant images have been moved\n",
            "bad_dataset folder created and relevant images have been moved\n",
            "bad_dataset folder created and relevant images have been moved\n",
            "bad_dataset folder created and relevant images have been moved\n",
            "bad_dataset folder created and relevant images have been moved\n",
            "bad_dataset folder created and relevant images have been moved\n",
            "good_dataset folder created and relevant images have been moved\n",
            "good_dataset folder created and relevant images have been moved\n",
            "good_dataset folder created and relevant images have been moved\n",
            "good_dataset folder created and relevant images have been moved\n",
            "good_dataset folder created and relevant images have been moved\n",
            "good_dataset folder created and relevant images have been moved\n",
            "good_dataset folder created and relevant images have been moved\n",
            "good_dataset folder created and relevant images have been moved\n",
            "good_dataset folder created and relevant images have been moved\n",
            "good_dataset folder created and relevant images have been moved\n",
            "good_dataset folder created and relevant images have been moved\n",
            "good_dataset folder created and relevant images have been moved\n",
            "good_dataset folder created and relevant images have been moved\n",
            "good_dataset folder created and relevant images have been moved\n",
            "good_dataset folder created and relevant images have been moved\n",
            "good_dataset folder created and relevant images have been moved\n",
            "good_dataset folder created and relevant images have been moved\n",
            "good_dataset folder created and relevant images have been moved\n",
            "good_dataset folder created and relevant images have been moved\n",
            "good_dataset folder created and relevant images have been moved\n",
            "good_dataset folder created and relevant images have been moved\n",
            "good_dataset folder created and relevant images have been moved\n",
            "good_dataset folder created and relevant images have been moved\n",
            "good_dataset folder created and relevant images have been moved\n",
            "good_dataset folder created and relevant images have been moved\n",
            "good_dataset folder created and relevant images have been moved\n",
            "good_dataset folder created and relevant images have been moved\n",
            "good_dataset folder created and relevant images have been moved\n",
            "good_dataset folder created and relevant images have been moved\n",
            "good_dataset folder created and relevant images have been moved\n",
            "good_dataset folder created and relevant images have been moved\n",
            "good_dataset folder created and relevant images have been moved\n",
            "good_dataset folder created and relevant images have been moved\n",
            "good_dataset folder created and relevant images have been moved\n",
            "good_dataset folder created and relevant images have been moved\n",
            "good_dataset folder created and relevant images have been moved\n",
            "good_dataset folder created and relevant images have been moved\n",
            "good_dataset folder created and relevant images have been moved\n",
            "good_dataset folder created and relevant images have been moved\n",
            "good_dataset folder created and relevant images have been moved\n",
            "good_dataset folder created and relevant images have been moved\n",
            "good_dataset folder created and relevant images have been moved\n",
            "good_dataset folder created and relevant images have been moved\n",
            "good_dataset folder created and relevant images have been moved\n",
            "good_dataset folder created and relevant images have been moved\n",
            "good_dataset folder created and relevant images have been moved\n",
            "good_dataset folder created and relevant images have been moved\n",
            "good_dataset folder created and relevant images have been moved\n",
            "good_dataset folder created and relevant images have been moved\n",
            "good_dataset folder created and relevant images have been moved\n",
            "good_dataset folder created and relevant images have been moved\n",
            "good_dataset folder created and relevant images have been moved\n",
            "good_dataset folder created and relevant images have been moved\n",
            "good_dataset folder created and relevant images have been moved\n",
            "good_dataset folder created and relevant images have been moved\n",
            "good_dataset folder created and relevant images have been moved\n",
            "good_dataset folder created and relevant images have been moved\n",
            "good_dataset folder created and relevant images have been moved\n",
            "good_dataset folder created and relevant images have been moved\n",
            "good_dataset folder created and relevant images have been moved\n",
            "good_dataset folder created and relevant images have been moved\n",
            "good_dataset folder created and relevant images have been moved\n",
            "good_dataset folder created and relevant images have been moved\n",
            "good_dataset folder created and relevant images have been moved\n",
            "good_dataset folder created and relevant images have been moved\n",
            "good_dataset folder created and relevant images have been moved\n",
            "good_dataset folder created and relevant images have been moved\n",
            "good_dataset folder created and relevant images have been moved\n",
            "good_dataset folder created and relevant images have been moved\n",
            "good_dataset folder created and relevant images have been moved\n",
            "good_dataset folder created and relevant images have been moved\n",
            "good_dataset folder created and relevant images have been moved\n",
            "good_dataset folder created and relevant images have been moved\n",
            "good_dataset folder created and relevant images have been moved\n",
            "good_dataset folder created and relevant images have been moved\n",
            "good_dataset folder created and relevant images have been moved\n",
            "good_dataset folder created and relevant images have been moved\n",
            "good_dataset folder created and relevant images have been moved\n",
            "good_dataset folder created and relevant images have been moved\n",
            "good_dataset folder created and relevant images have been moved\n",
            "good_dataset folder created and relevant images have been moved\n",
            "good_dataset folder created and relevant images have been moved\n",
            "good_dataset folder created and relevant images have been moved\n",
            "good_dataset folder created and relevant images have been moved\n",
            "good_dataset folder created and relevant images have been moved\n",
            "good_dataset folder created and relevant images have been moved\n",
            "good_dataset folder created and relevant images have been moved\n",
            "good_dataset folder created and relevant images have been moved\n",
            "good_dataset folder created and relevant images have been moved\n",
            "good_dataset folder created and relevant images have been moved\n",
            "good_dataset folder created and relevant images have been moved\n",
            "good_dataset folder created and relevant images have been moved\n",
            "good_dataset folder created and relevant images have been moved\n",
            "good_dataset folder created and relevant images have been moved\n",
            "good_dataset folder created and relevant images have been moved\n",
            "good_dataset folder created and relevant images have been moved\n",
            "good_dataset folder created and relevant images have been moved\n",
            "good_dataset folder created and relevant images have been moved\n",
            "good_dataset folder created and relevant images have been moved\n",
            "good_dataset folder created and relevant images have been moved\n",
            "good_dataset folder created and relevant images have been moved\n",
            "good_dataset folder created and relevant images have been moved\n",
            "good_dataset folder created and relevant images have been moved\n",
            "good_dataset folder created and relevant images have been moved\n",
            "good_dataset folder created and relevant images have been moved\n",
            "good_dataset folder created and relevant images have been moved\n",
            "good_dataset folder created and relevant images have been moved\n",
            "good_dataset folder created and relevant images have been moved\n",
            "good_dataset folder created and relevant images have been moved\n",
            "good_dataset folder created and relevant images have been moved\n",
            "good_dataset folder created and relevant images have been moved\n",
            "good_dataset folder created and relevant images have been moved\n",
            "good_dataset folder created and relevant images have been moved\n",
            "good_dataset folder created and relevant images have been moved\n",
            "good_dataset folder created and relevant images have been moved\n",
            "good_dataset folder created and relevant images have been moved\n",
            "good_dataset folder created and relevant images have been moved\n",
            "good_dataset folder created and relevant images have been moved\n",
            "good_dataset folder created and relevant images have been moved\n",
            "good_dataset folder created and relevant images have been moved\n",
            "good_dataset folder created and relevant images have been moved\n",
            "good_dataset folder created and relevant images have been moved\n",
            "good_dataset folder created and relevant images have been moved\n",
            "good_dataset folder created and relevant images have been moved\n",
            "good_dataset folder created and relevant images have been moved\n",
            "good_dataset folder created and relevant images have been moved\n",
            "good_dataset folder created and relevant images have been moved\n",
            "good_dataset folder created and relevant images have been moved\n",
            "good_dataset folder created and relevant images have been moved\n",
            "good_dataset folder created and relevant images have been moved\n",
            "good_dataset folder created and relevant images have been moved\n",
            "good_dataset folder created and relevant images have been moved\n",
            "good_dataset folder created and relevant images have been moved\n",
            "good_dataset folder created and relevant images have been moved\n",
            "good_dataset folder created and relevant images have been moved\n",
            "good_dataset folder created and relevant images have been moved\n",
            "good_dataset folder created and relevant images have been moved\n",
            "good_dataset folder created and relevant images have been moved\n",
            "good_dataset folder created and relevant images have been moved\n",
            "good_dataset folder created and relevant images have been moved\n",
            "good_dataset folder created and relevant images have been moved\n",
            "good_dataset folder created and relevant images have been moved\n",
            "good_dataset folder created and relevant images have been moved\n",
            "good_dataset folder created and relevant images have been moved\n",
            "good_dataset folder created and relevant images have been moved\n",
            "good_dataset folder created and relevant images have been moved\n",
            "good_dataset folder created and relevant images have been moved\n",
            "good_dataset folder created and relevant images have been moved\n",
            "good_dataset folder created and relevant images have been moved\n",
            "good_dataset folder created and relevant images have been moved\n",
            "good_dataset folder created and relevant images have been moved\n",
            "good_dataset folder created and relevant images have been moved\n",
            "good_dataset folder created and relevant images have been moved\n",
            "good_dataset folder created and relevant images have been moved\n",
            "good_dataset folder created and relevant images have been moved\n",
            "good_dataset folder created and relevant images have been moved\n",
            "good_dataset folder created and relevant images have been moved\n",
            "good_dataset folder created and relevant images have been moved\n",
            "good_dataset folder created and relevant images have been moved\n",
            "good_dataset folder created and relevant images have been moved\n",
            "good_dataset folder created and relevant images have been moved\n",
            "good_dataset folder created and relevant images have been moved\n",
            "good_dataset folder created and relevant images have been moved\n",
            "good_dataset folder created and relevant images have been moved\n",
            "good_dataset folder created and relevant images have been moved\n",
            "bad_dataset folder created and relevant images have been moved\n",
            "bad_dataset folder created and relevant images have been moved\n",
            "bad_dataset folder created and relevant images have been moved\n",
            "bad_dataset folder created and relevant images have been moved\n",
            "bad_dataset folder created and relevant images have been moved\n",
            "bad_dataset folder created and relevant images have been moved\n",
            "bad_dataset folder created and relevant images have been moved\n",
            "bad_dataset folder created and relevant images have been moved\n",
            "bad_dataset folder created and relevant images have been moved\n",
            "bad_dataset folder created and relevant images have been moved\n",
            "bad_dataset folder created and relevant images have been moved\n",
            "bad_dataset folder created and relevant images have been moved\n",
            "bad_dataset folder created and relevant images have been moved\n",
            "bad_dataset folder created and relevant images have been moved\n",
            "bad_dataset folder created and relevant images have been moved\n",
            "bad_dataset folder created and relevant images have been moved\n",
            "bad_dataset folder created and relevant images have been moved\n",
            "bad_dataset folder created and relevant images have been moved\n",
            "bad_dataset folder created and relevant images have been moved\n",
            "bad_dataset folder created and relevant images have been moved\n",
            "bad_dataset folder created and relevant images have been moved\n",
            "bad_dataset folder created and relevant images have been moved\n",
            "good_dataset folder created and relevant images have been moved\n",
            "good_dataset folder created and relevant images have been moved\n",
            "good_dataset folder created and relevant images have been moved\n",
            "good_dataset folder created and relevant images have been moved\n",
            "good_dataset folder created and relevant images have been moved\n",
            "good_dataset folder created and relevant images have been moved\n",
            "good_dataset folder created and relevant images have been moved\n",
            "good_dataset folder created and relevant images have been moved\n",
            "good_dataset folder created and relevant images have been moved\n",
            "good_dataset folder created and relevant images have been moved\n",
            "good_dataset folder created and relevant images have been moved\n",
            "good_dataset folder created and relevant images have been moved\n",
            "good_dataset folder created and relevant images have been moved\n",
            "good_dataset folder created and relevant images have been moved\n",
            "good_dataset folder created and relevant images have been moved\n",
            "good_dataset folder created and relevant images have been moved\n",
            "good_dataset folder created and relevant images have been moved\n",
            "good_dataset folder created and relevant images have been moved\n",
            "good_dataset folder created and relevant images have been moved\n",
            "good_dataset folder created and relevant images have been moved\n",
            "good_dataset folder created and relevant images have been moved\n",
            "good_dataset folder created and relevant images have been moved\n",
            "good_dataset folder created and relevant images have been moved\n",
            "good_dataset folder created and relevant images have been moved\n",
            "good_dataset folder created and relevant images have been moved\n",
            "good_dataset folder created and relevant images have been moved\n",
            "good_dataset folder created and relevant images have been moved\n",
            "good_dataset folder created and relevant images have been moved\n",
            "good_dataset folder created and relevant images have been moved\n",
            "good_dataset folder created and relevant images have been moved\n",
            "good_dataset folder created and relevant images have been moved\n",
            "good_dataset folder created and relevant images have been moved\n",
            "good_dataset folder created and relevant images have been moved\n",
            "good_dataset folder created and relevant images have been moved\n",
            "good_dataset folder created and relevant images have been moved\n",
            "good_dataset folder created and relevant images have been moved\n",
            "good_dataset folder created and relevant images have been moved\n",
            "good_dataset folder created and relevant images have been moved\n",
            "good_dataset folder created and relevant images have been moved\n",
            "good_dataset folder created and relevant images have been moved\n",
            "good_dataset folder created and relevant images have been moved\n",
            "good_dataset folder created and relevant images have been moved\n",
            "good_dataset folder created and relevant images have been moved\n",
            "good_dataset folder created and relevant images have been moved\n",
            "good_dataset folder created and relevant images have been moved\n",
            "good_dataset folder created and relevant images have been moved\n",
            "good_dataset folder created and relevant images have been moved\n",
            "good_dataset folder created and relevant images have been moved\n",
            "good_dataset folder created and relevant images have been moved\n",
            "good_dataset folder created and relevant images have been moved\n",
            "good_dataset folder created and relevant images have been moved\n",
            "good_dataset folder created and relevant images have been moved\n",
            "good_dataset folder created and relevant images have been moved\n",
            "good_dataset folder created and relevant images have been moved\n",
            "good_dataset folder created and relevant images have been moved\n",
            "good_dataset folder created and relevant images have been moved\n",
            "good_dataset folder created and relevant images have been moved\n",
            "good_dataset folder created and relevant images have been moved\n",
            "good_dataset folder created and relevant images have been moved\n",
            "good_dataset folder created and relevant images have been moved\n",
            "good_dataset folder created and relevant images have been moved\n",
            "good_dataset folder created and relevant images have been moved\n",
            "good_dataset folder created and relevant images have been moved\n",
            "good_dataset folder created and relevant images have been moved\n"
          ]
        }
      ]
    },
    {
      "cell_type": "code",
      "source": [
        "import tensorflow as tf\n",
        "from tensorflow import keras\n",
        "from tensorflow.keras.layers import Input, Lambda, Dense, Flatten,Dropout,Conv2D,GlobalAveragePooling2D\n",
        "from tensorflow.keras.models import Model\n",
        "from tensorflow.keras.preprocessing import image\n",
        "from tensorflow.keras.models import Sequential\n",
        "import numpy as np\n",
        "import pandas as pd\n",
        "import os\n",
        "import cv2\n",
        "import matplotlib.pyplot as plt\n",
        "\n",
        "train_ds=keras.utils.image_dataset_from_directory(\n",
        "    directory=r'/content/gdrive/MyDrive/dataset/T51+T52BAD+T53BAD+T54BAD+T57BAD +T58BAD/Train',\n",
        "    labels='inferred',\n",
        "    label_mode='int',\n",
        "    batch_size=4,\n",
        "    image_size=(380,380)\n",
        ")\n",
        "validation_ds=keras.utils.image_dataset_from_directory(\n",
        "    directory=r'/content/gdrive/MyDrive/dataset/T51+T52BAD+T53BAD+T54BAD+T57BAD +T58BAD/Test',\n",
        "    labels='inferred',\n",
        "    label_mode='int',\n",
        "    batch_size=4,\n",
        "    image_size=(380,380)\n",
        ")\n",
        "print(train_ds)\n",
        "print(validation_ds)\n",
        "from tensorflow.keras.applications import EfficientNetB4\n",
        "model=EfficientNetB4(weights='imagenet',include_top=False,input_shape=(380,380,3))\n",
        "my_model=Sequential([model,\n",
        "                     Conv2D(1024,3,1,activation='relu'),\n",
        "                     GlobalAveragePooling2D(),\n",
        "                     Dense(1024,activation='relu'),\n",
        "                     Dropout(0.2),\n",
        "                     Dense(1024,activation='relu'),\n",
        "                     Dropout(0.2),\n",
        "                     Dense(1,activation='sigmoid'),\n",
        "                     ])\n",
        "\n",
        "my_model.summary()\n",
        "\n",
        "\n"
      ],
      "metadata": {
        "colab": {
          "base_uri": "https://localhost:8080/"
        },
        "id": "RUuIX4ZpZVkT",
        "outputId": "8282eddd-5eac-4b5b-db21-84f50bf2e8ec"
      },
      "execution_count": null,
      "outputs": [
        {
          "output_type": "stream",
          "name": "stdout",
          "text": [
            "Found 198 files belonging to 2 classes.\n",
            "Found 86 files belonging to 2 classes.\n",
            "<_BatchDataset element_spec=(TensorSpec(shape=(None, 380, 380, 3), dtype=tf.float32, name=None), TensorSpec(shape=(None,), dtype=tf.int32, name=None))>\n",
            "<_BatchDataset element_spec=(TensorSpec(shape=(None, 380, 380, 3), dtype=tf.float32, name=None), TensorSpec(shape=(None,), dtype=tf.int32, name=None))>\n",
            "Downloading data from https://storage.googleapis.com/keras-applications/efficientnetb4_notop.h5\n",
            "71686520/71686520 [==============================] - 0s 0us/step\n",
            "Model: \"sequential\"\n",
            "_________________________________________________________________\n",
            " Layer (type)                Output Shape              Param #   \n",
            "=================================================================\n",
            " efficientnetb4 (Functional)  (None, 12, 12, 1792)     17673823  \n",
            "                                                                 \n",
            " conv2d (Conv2D)             (None, 10, 10, 1024)      16516096  \n",
            "                                                                 \n",
            " global_average_pooling2d (G  (None, 1024)             0         \n",
            " lobalAveragePooling2D)                                          \n",
            "                                                                 \n",
            " dense (Dense)               (None, 1024)              1049600   \n",
            "                                                                 \n",
            " dropout (Dropout)           (None, 1024)              0         \n",
            "                                                                 \n",
            " dense_1 (Dense)             (None, 1024)              1049600   \n",
            "                                                                 \n",
            " dropout_1 (Dropout)         (None, 1024)              0         \n",
            "                                                                 \n",
            " dense_2 (Dense)             (None, 1)                 1025      \n",
            "                                                                 \n",
            "=================================================================\n",
            "Total params: 36,290,144\n",
            "Trainable params: 36,164,937\n",
            "Non-trainable params: 125,207\n",
            "_________________________________________________________________\n"
          ]
        }
      ]
    },
    {
      "cell_type": "code",
      "source": [
        "train_ds=train_ds.prefetch(tf.data.AUTOTUNE)\n",
        "train_ds"
      ],
      "metadata": {
        "colab": {
          "base_uri": "https://localhost:8080/"
        },
        "id": "22po7AacwVVA",
        "outputId": "15f4997d-71ed-49f9-ed3d-bd36aa768308"
      },
      "execution_count": null,
      "outputs": [
        {
          "output_type": "execute_result",
          "data": {
            "text/plain": [
              "<_PrefetchDataset element_spec=(TensorSpec(shape=(None, 380, 380, 3), dtype=tf.float32, name=None), TensorSpec(shape=(None,), dtype=tf.int32, name=None))>"
            ]
          },
          "metadata": {},
          "execution_count": 6
        }
      ]
    },
    {
      "cell_type": "code",
      "source": [
        "validation_ds=validation_ds.prefetch(tf.data.AUTOTUNE)\n",
        "validation_ds"
      ],
      "metadata": {
        "colab": {
          "base_uri": "https://localhost:8080/"
        },
        "id": "BCb5XD4MwVd9",
        "outputId": "ae1f0236-f88c-423e-b3df-6cc59fbb9390"
      },
      "execution_count": null,
      "outputs": [
        {
          "output_type": "execute_result",
          "data": {
            "text/plain": [
              "<_PrefetchDataset element_spec=(TensorSpec(shape=(None, 380, 380, 3), dtype=tf.float32, name=None), TensorSpec(shape=(None,), dtype=tf.int32, name=None))>"
            ]
          },
          "metadata": {},
          "execution_count": 7
        }
      ]
    },
    {
      "cell_type": "code",
      "source": [
        "from tensorflow.keras.optimizers import Adam\n",
        "from tensorflow.keras.losses import BinaryCrossentropy\n",
        "from tensorflow.keras import metrics\n",
        "metrics=['accuracy']\n",
        "my_model.compile(loss=BinaryCrossentropy(),optimizer=Adam(learning_rate=0.001),metrics=metrics)"
      ],
      "metadata": {
        "id": "5h6WMWwoxEwl"
      },
      "execution_count": null,
      "outputs": []
    },
    {
      "cell_type": "code",
      "source": [
        "history=my_model.fit(train_ds,epochs=30,validation_data=validation_ds)"
      ],
      "metadata": {
        "colab": {
          "base_uri": "https://localhost:8080/"
        },
        "id": "lgznnIVR-Ihu",
        "outputId": "e037ad96-d537-4b2e-d823-b00426b93dfd"
      },
      "execution_count": null,
      "outputs": [
        {
          "output_type": "stream",
          "name": "stdout",
          "text": [
            "Epoch 1/30\n",
            "50/50 [==============================] - 36s 647ms/step - loss: 0.0994 - accuracy: 0.9747 - val_loss: 0.5335 - val_accuracy: 0.7442\n",
            "Epoch 2/30\n",
            "50/50 [==============================] - 38s 655ms/step - loss: 0.0382 - accuracy: 0.9747 - val_loss: 6.6902 - val_accuracy: 0.5116\n",
            "Epoch 3/30\n",
            "50/50 [==============================] - 28s 502ms/step - loss: 0.0504 - accuracy: 0.9949 - val_loss: 6.2170 - val_accuracy: 0.5233\n",
            "Epoch 4/30\n",
            "50/50 [==============================] - 32s 575ms/step - loss: 0.0193 - accuracy: 0.9899 - val_loss: 5.5998 - val_accuracy: 0.5116\n",
            "Epoch 5/30\n",
            "50/50 [==============================] - 28s 516ms/step - loss: 0.0182 - accuracy: 0.9949 - val_loss: 13.7930 - val_accuracy: 0.4419\n",
            "Epoch 6/30\n",
            "50/50 [==============================] - 28s 514ms/step - loss: 0.0038 - accuracy: 1.0000 - val_loss: 9.0474 - val_accuracy: 0.5233\n",
            "Epoch 7/30\n",
            "50/50 [==============================] - 28s 525ms/step - loss: 0.0375 - accuracy: 0.9848 - val_loss: 3.7991 - val_accuracy: 0.4419\n",
            "Epoch 8/30\n",
            "50/50 [==============================] - 28s 515ms/step - loss: 0.0283 - accuracy: 0.9899 - val_loss: 6.9708 - val_accuracy: 0.6395\n",
            "Epoch 9/30\n",
            "50/50 [==============================] - 28s 517ms/step - loss: 0.0013 - accuracy: 1.0000 - val_loss: 6.3198 - val_accuracy: 0.6512\n",
            "Epoch 10/30\n",
            "50/50 [==============================] - 27s 502ms/step - loss: 0.2213 - accuracy: 0.9697 - val_loss: 1.1906 - val_accuracy: 0.8140\n",
            "Epoch 11/30\n",
            "50/50 [==============================] - 27s 508ms/step - loss: 0.3087 - accuracy: 0.9091 - val_loss: 0.4820 - val_accuracy: 0.8721\n",
            "Epoch 12/30\n",
            "50/50 [==============================] - 28s 507ms/step - loss: 0.2417 - accuracy: 0.9091 - val_loss: 0.8315 - val_accuracy: 0.8372\n",
            "Epoch 13/30\n",
            "50/50 [==============================] - 28s 510ms/step - loss: 0.1336 - accuracy: 0.9646 - val_loss: 25.2224 - val_accuracy: 0.4419\n",
            "Epoch 14/30\n",
            "50/50 [==============================] - 28s 511ms/step - loss: 0.8003 - accuracy: 0.8636 - val_loss: 0.2685 - val_accuracy: 0.8837\n",
            "Epoch 15/30\n",
            "50/50 [==============================] - 29s 531ms/step - loss: 0.8127 - accuracy: 0.9394 - val_loss: 1.5827 - val_accuracy: 0.6163\n",
            "Epoch 16/30\n",
            "50/50 [==============================] - 27s 496ms/step - loss: 0.2958 - accuracy: 0.9545 - val_loss: 0.6779 - val_accuracy: 0.8023\n",
            "Epoch 17/30\n",
            "50/50 [==============================] - 27s 497ms/step - loss: 0.3355 - accuracy: 0.9293 - val_loss: 1.5794 - val_accuracy: 0.7558\n",
            "Epoch 18/30\n",
            "50/50 [==============================] - 27s 500ms/step - loss: 0.0585 - accuracy: 0.9747 - val_loss: 3.7648 - val_accuracy: 0.7558\n",
            "Epoch 19/30\n",
            "50/50 [==============================] - 27s 501ms/step - loss: 0.2577 - accuracy: 0.9495 - val_loss: 0.8698 - val_accuracy: 0.7907\n",
            "Epoch 20/30\n",
            "50/50 [==============================] - 27s 503ms/step - loss: 0.0644 - accuracy: 0.9848 - val_loss: 1.3171 - val_accuracy: 0.6977\n",
            "Epoch 21/30\n",
            "50/50 [==============================] - 27s 505ms/step - loss: 0.0264 - accuracy: 0.9949 - val_loss: 9.1928 - val_accuracy: 0.4767\n",
            "Epoch 22/30\n",
            "50/50 [==============================] - 27s 502ms/step - loss: 0.0023 - accuracy: 1.0000 - val_loss: 10.0593 - val_accuracy: 0.5349\n",
            "Epoch 23/30\n",
            "50/50 [==============================] - 27s 513ms/step - loss: 0.1287 - accuracy: 0.9798 - val_loss: 5.5367 - val_accuracy: 0.5116\n",
            "Epoch 24/30\n",
            "50/50 [==============================] - 27s 507ms/step - loss: 0.0495 - accuracy: 0.9949 - val_loss: 4.9204 - val_accuracy: 0.5698\n",
            "Epoch 25/30\n",
            "50/50 [==============================] - 28s 524ms/step - loss: 0.0024 - accuracy: 1.0000 - val_loss: 6.3891 - val_accuracy: 0.5465\n",
            "Epoch 26/30\n",
            "50/50 [==============================] - 27s 491ms/step - loss: 0.1428 - accuracy: 0.9848 - val_loss: 12.9237 - val_accuracy: 0.4070\n",
            "Epoch 27/30\n",
            "50/50 [==============================] - 27s 494ms/step - loss: 0.0013 - accuracy: 1.0000 - val_loss: 14.6579 - val_accuracy: 0.4767\n",
            "Epoch 28/30\n",
            "50/50 [==============================] - 28s 506ms/step - loss: 2.3657e-04 - accuracy: 1.0000 - val_loss: 15.8453 - val_accuracy: 0.4767\n",
            "Epoch 29/30\n",
            "50/50 [==============================] - 28s 502ms/step - loss: 6.6617e-05 - accuracy: 1.0000 - val_loss: 15.9105 - val_accuracy: 0.4767\n",
            "Epoch 30/30\n",
            "50/50 [==============================] - 28s 496ms/step - loss: 0.0230 - accuracy: 0.9899 - val_loss: 68.9654 - val_accuracy: 0.3140\n"
          ]
        }
      ]
    },
    {
      "cell_type": "code",
      "source": [
        "import matplotlib.pyplot as plt\n",
        "plt.plot(history.history['accuracy'],color='red',label='train')\n",
        "plt.plot(history.history['val_accuracy'],color='blue',label='validation')\n",
        "plt.legend()\n",
        "plt.show()"
      ],
      "metadata": {
        "colab": {
          "base_uri": "https://localhost:8080/",
          "height": 430
        },
        "id": "9AW9N0mhdrGL",
        "outputId": "d89f5194-56a5-441f-8786-8f36989623de"
      },
      "execution_count": null,
      "outputs": [
        {
          "output_type": "display_data",
          "data": {
            "text/plain": [
              "<Figure size 640x480 with 1 Axes>"
            ],
            "image/png": "[encoded data removed]"
          },
          "metadata": {}
        }
      ]
    },
    {
      "cell_type": "code",
      "source": [
        "import matplotlib.pyplot as plt\n",
        "plt.plot(history.history['loss'],color='red',label='train')\n",
        "plt.plot(history.history['val_loss'],color='blue',label='validation')\n",
        "plt.legend()\n",
        "plt.show()"
      ],
      "metadata": {
        "colab": {
          "base_uri": "https://localhost:8080/",
          "height": 430
        },
        "id": "1mufzdhkeqIj",
        "outputId": "b2f05b67-ed0a-4702-d8bd-bfcf489c61f9"
      },
      "execution_count": null,
      "outputs": [
        {
          "output_type": "display_data",
          "data": {
            "text/plain": [
              "<Figure size 640x480 with 1 Axes>"
            ],
            "image/png": "[encoded data removed]"
          },
          "metadata": {}
        }
      ]
    },
    {
      "cell_type": "code",
      "source": [
        "import cv2\n",
        "test_img=cv2.imread(r'/content/gdrive/MyDrive/dataset/T51+T52BAD+T53BAD+T54BAD+T57BAD +T58BAD/Test/bad_dataset/DJI_0066.jpg')\n",
        "test_img=cv2.resize(test_img,(380,380))\n",
        "test_img\n",
        "img=np.asarray(test_img)\n",
        "img.shape\n",
        "from copy import deepcopy\n",
        "img_2=deepcopy(img)\n",
        "images=[img,img_2]\n",
        "prediction=my_model.predict(np.array(images))\n",
        "print(prediction)"
      ],
      "metadata": {
        "colab": {
          "base_uri": "https://localhost:8080/"
        },
        "id": "qrgURvbWDAfl",
        "outputId": "d9d29903-08d8-46d8-c123-a9b671375981"
      },
      "execution_count": null,
      "outputs": [
        {
          "output_type": "stream",
          "name": "stdout",
          "text": [
            "1/1 [==============================] - 4s 4s/step\n",
            "[[7.5200074e-07]\n",
            " [7.5200074e-07]]\n"
          ]
        }
      ]
    },
    {
      "cell_type": "code",
      "source": [
        "import cv2\n",
        "test_img=cv2.imread(r'/content/gdrive/MyDrive/dataset/T51+T52BAD+T53BAD+T54BAD+T57BAD +T58BAD/Test/bad_dataset/DJI_0108.jpg')\n",
        "test_img=cv2.resize(test_img,(380,380))\n",
        "test_img\n",
        "img=np.asarray(test_img)\n",
        "img.shape\n",
        "from copy import deepcopy\n",
        "img_2=deepcopy(img)\n",
        "images=[img,img_2]\n",
        "prediction=my_model.predict(np.array(images))\n",
        "print(prediction)"
      ],
      "metadata": {
        "colab": {
          "base_uri": "https://localhost:8080/"
        },
        "outputId": "b5e004eb-2338-43c0-d9cc-d4e831934916",
        "id": "Cn2jmkXF3V0b"
      },
      "execution_count": null,
      "outputs": [
        {
          "output_type": "stream",
          "name": "stdout",
          "text": [
            "1/1 [==============================] - 0s 33ms/step\n",
            "[[5.545855e-06]\n",
            " [5.545855e-06]]\n"
          ]
        }
      ]
    },
    {
      "cell_type": "code",
      "source": [
        "import cv2\n",
        "test_img=cv2.imread(r'/content/gdrive/MyDrive/dataset/T51+T52BAD+T53BAD+T54BAD+T57BAD +T58BAD/Test/bad_dataset/DJI_0110.jpg')\n",
        "test_img=cv2.resize(test_img,(380,380))\n",
        "test_img\n",
        "img=np.asarray(test_img)\n",
        "img.shape\n",
        "from copy import deepcopy\n",
        "img_2=deepcopy(img)\n",
        "images=[img,img_2]\n",
        "prediction=my_model.predict(np.array(images))\n",
        "print(prediction)"
      ],
      "metadata": {
        "colab": {
          "base_uri": "https://localhost:8080/"
        },
        "outputId": "1a699e7f-a2f5-4667-df4b-e728b8698a24",
        "id": "KAzWvPzm3W2x"
      },
      "execution_count": null,
      "outputs": [
        {
          "output_type": "stream",
          "name": "stdout",
          "text": [
            "1/1 [==============================] - 0s 35ms/step\n",
            "[[3.8197575e-07]\n",
            " [3.8197575e-07]]\n"
          ]
        }
      ]
    },
    {
      "cell_type": "code",
      "source": [
        "import cv2\n",
        "test_img=cv2.imread(r'/content/gdrive/MyDrive/dataset/T51+T52BAD+T53BAD+T54BAD+T57BAD +T58BAD/Test/bad_dataset/DJI_0489.jpg')\n",
        "test_img=cv2.resize(test_img,(380,380))\n",
        "test_img\n",
        "img=np.asarray(test_img)\n",
        "img.shape\n",
        "from copy import deepcopy\n",
        "img_2=deepcopy(img)\n",
        "images=[img,img_2]\n",
        "prediction=my_model.predict(np.array(images))\n",
        "print(prediction)"
      ],
      "metadata": {
        "colab": {
          "base_uri": "https://localhost:8080/"
        },
        "id": "F-luCjtyDArk",
        "outputId": "396983bf-53cc-4d7b-9e87-51873fddfa13"
      },
      "execution_count": null,
      "outputs": [
        {
          "output_type": "stream",
          "name": "stdout",
          "text": [
            "1/1 [==============================] - 0s 32ms/step\n",
            "[[0.]\n",
            " [0.]]\n"
          ]
        }
      ]
    },
    {
      "cell_type": "code",
      "source": [
        "import cv2\n",
        "test_img=cv2.imread(r'/content/gdrive/MyDrive/dataset/T51+T52BAD+T53BAD+T54BAD+T57BAD +T58BAD/Test/bad_dataset/DJI_0491.jpg')\n",
        "test_img=cv2.resize(test_img,(380,380))\n",
        "test_img\n",
        "img=np.asarray(test_img)\n",
        "img.shape\n",
        "from copy import deepcopy\n",
        "img_2=deepcopy(img)\n",
        "images=[img,img_2]\n",
        "prediction=my_model.predict(np.array(images))\n",
        "print(prediction)"
      ],
      "metadata": {
        "id": "Y4fk0zDYQH9t",
        "colab": {
          "base_uri": "https://localhost:8080/"
        },
        "outputId": "3b4f9897-802f-44d9-ee9a-a6f3ac1d7153"
      },
      "execution_count": null,
      "outputs": [
        {
          "output_type": "stream",
          "name": "stdout",
          "text": [
            "1/1 [==============================] - 0s 37ms/step\n",
            "[[0.]\n",
            " [0.]]\n"
          ]
        }
      ]
    },
    {
      "cell_type": "code",
      "source": [
        "import cv2\n",
        "test_img=cv2.imread(r'/content/gdrive/MyDrive/dataset/T51+T52BAD+T53BAD+T54BAD+T57BAD +T58BAD/Test/bad_dataset/DJI_0493.jpg')\n",
        "test_img=cv2.resize(test_img,(380,380))\n",
        "test_img\n",
        "img=np.asarray(test_img)\n",
        "img.shape\n",
        "from copy import deepcopy\n",
        "img_2=deepcopy(img)\n",
        "images=[img,img_2]\n",
        "prediction=my_model.predict(np.array(images))\n",
        "print(prediction)\n",
        "prediction>0.5"
      ],
      "metadata": {
        "colab": {
          "base_uri": "https://localhost:8080/"
        },
        "id": "hP3WO3rEN9l8",
        "outputId": "de65da98-06f7-4a4d-8876-257c8ed0d853"
      },
      "execution_count": null,
      "outputs": [
        {
          "output_type": "stream",
          "name": "stdout",
          "text": [
            "1/1 [==============================] - 0s 34ms/step\n",
            "[[0.]\n",
            " [0.]]\n"
          ]
        },
        {
          "output_type": "execute_result",
          "data": {
            "text/plain": [
              "array([[False],\n",
              "       [False]])"
            ]
          },
          "metadata": {},
          "execution_count": 18
        }
      ]
    },
    {
      "cell_type": "code",
      "source": [
        "import cv2\n",
        "test_img=cv2.imread(r'/content/gdrive/MyDrive/dataset/T51+T52BAD+T53BAD+T54BAD+T57BAD +T58BAD/Test/bad_dataset/DJI_0495.jpg')\n",
        "test_img=cv2.resize(test_img,(380,380))\n",
        "test_img\n",
        "img=np.asarray(test_img)\n",
        "img.shape\n",
        "from copy import deepcopy\n",
        "img_2=deepcopy(img)\n",
        "images=[img,img_2]\n",
        "prediction=my_model.predict(np.array(images))\n",
        "print(prediction)\n"
      ],
      "metadata": {
        "colab": {
          "base_uri": "https://localhost:8080/"
        },
        "id": "HHgjYRjegRqZ",
        "outputId": "df4bef4e-54d9-41f5-aab0-fbfcd7d2f142"
      },
      "execution_count": null,
      "outputs": [
        {
          "output_type": "stream",
          "name": "stdout",
          "text": [
            "1/1 [==============================] - 0s 35ms/step\n",
            "[[0.]\n",
            " [0.]]\n"
          ]
        }
      ]
    },
    {
      "cell_type": "code",
      "source": [
        "import cv2\n",
        "test_img=cv2.imread(r'/content/gdrive/MyDrive/dataset/T51+T52BAD+T53BAD+T54BAD+T57BAD +T58BAD/Test/bad_dataset/DJI_0497.jpg')\n",
        "test_img=cv2.resize(test_img,(380,380))\n",
        "test_img\n",
        "img=np.asarray(test_img)\n",
        "img.shape\n",
        "from copy import deepcopy\n",
        "img_2=deepcopy(img)\n",
        "images=[img,img_2]\n",
        "prediction=my_model.predict(np.array(images))\n",
        "print(prediction)"
      ],
      "metadata": {
        "colab": {
          "base_uri": "https://localhost:8080/"
        },
        "id": "-iOH72BgibB_",
        "outputId": "c1685909-0967-433e-8dbf-1c8a4195a1df"
      },
      "execution_count": null,
      "outputs": [
        {
          "output_type": "stream",
          "name": "stdout",
          "text": [
            "1/1 [==============================] - 0s 33ms/step\n",
            "[[0.]\n",
            " [0.]]\n"
          ]
        }
      ]
    },
    {
      "cell_type": "code",
      "source": [
        "import cv2\n",
        "test_img=cv2.imread(r'/content/gdrive/MyDrive/dataset/T51+T52BAD+T53BAD+T54BAD+T57BAD +T58BAD/Test/bad_dataset/DJI_0499.jpg')\n",
        "test_img=cv2.resize(test_img,(380,380))\n",
        "test_img\n",
        "img=np.asarray(test_img)\n",
        "img.shape\n",
        "from copy import deepcopy\n",
        "img_2=deepcopy(img)\n",
        "images=[img,img_2]\n",
        "prediction=my_model.predict(np.array(images))\n",
        "print(prediction)"
      ],
      "metadata": {
        "id": "KGUcOcnHRCRw",
        "colab": {
          "base_uri": "https://localhost:8080/"
        },
        "outputId": "40e55a7f-0a86-4b1e-8368-bbc4014c8027"
      },
      "execution_count": null,
      "outputs": [
        {
          "output_type": "stream",
          "name": "stdout",
          "text": [
            "1/1 [==============================] - 0s 34ms/step\n",
            "[[0.]\n",
            " [0.]]\n"
          ]
        }
      ]
    },
    {
      "cell_type": "code",
      "source": [
        "import cv2\n",
        "test_img=cv2.imread(r'/content/gdrive/MyDrive/dataset/T51+T52BAD+T53BAD+T54BAD+T57BAD +T58BAD/Test/bad_dataset/DJI_0501.jpg')\n",
        "test_img=cv2.resize(test_img,(380,380))\n",
        "test_img\n",
        "img=np.asarray(test_img)\n",
        "img.shape\n",
        "from copy import deepcopy\n",
        "img_2=deepcopy(img)\n",
        "images=[img,img_2]\n",
        "prediction=my_model.predict(np.array(images))\n",
        "print(prediction)"
      ],
      "metadata": {
        "colab": {
          "base_uri": "https://localhost:8080/"
        },
        "id": "l7dNeTQvROe4",
        "outputId": "fcc3f64d-d1be-4877-989d-c7905b296c61"
      },
      "execution_count": null,
      "outputs": [
        {
          "output_type": "stream",
          "name": "stdout",
          "text": [
            "1/1 [==============================] - 0s 32ms/step\n",
            "[[3.04728e-24]\n",
            " [3.04728e-24]]\n"
          ]
        }
      ]
    },
    {
      "cell_type": "code",
      "source": [
        "import cv2\n",
        "test_img=cv2.imread(r'/content/gdrive/MyDrive/dataset/T51+T52BAD+T53BAD+T54BAD+T57BAD +T58BAD/Test/bad_dataset/DJI_0503.jpg')\n",
        "test_img=cv2.resize(test_img,(380,380))\n",
        "test_img\n",
        "img=np.asarray(test_img)\n",
        "img.shape\n",
        "from copy import deepcopy\n",
        "img_2=deepcopy(img)\n",
        "images=[img,img_2]\n",
        "prediction=my_model.predict(np.array(images))\n",
        "print(prediction)"
      ],
      "metadata": {
        "colab": {
          "base_uri": "https://localhost:8080/"
        },
        "id": "0UxTKff1pcRz",
        "outputId": "d7b9b39d-6476-4558-d71e-bb4a02ac2c1b"
      },
      "execution_count": null,
      "outputs": [
        {
          "output_type": "stream",
          "name": "stdout",
          "text": [
            "1/1 [==============================] - 0s 35ms/step\n",
            "[[1.4779843e-05]\n",
            " [1.4779843e-05]]\n"
          ]
        }
      ]
    },
    {
      "cell_type": "code",
      "source": [
        "import cv2\n",
        "test_img=cv2.imread(r'/content/gdrive/MyDrive/dataset/T51+T52BAD+T53BAD+T54BAD+T57BAD +T58BAD/Test/bad_dataset/DJI_0505.jpg')\n",
        "test_img=cv2.resize(test_img,(380,380))\n",
        "test_img\n",
        "img=np.asarray(test_img)\n",
        "img.shape\n",
        "from copy import deepcopy\n",
        "img_2=deepcopy(img)\n",
        "images=[img,img_2]\n",
        "prediction=my_model.predict(np.array(images))\n",
        "print(prediction)"
      ],
      "metadata": {
        "colab": {
          "base_uri": "https://localhost:8080/"
        },
        "id": "_rLa93IXpcaD",
        "outputId": "917cccb3-90f2-400e-f374-08f780d8fa73"
      },
      "execution_count": null,
      "outputs": [
        {
          "output_type": "stream",
          "name": "stdout",
          "text": [
            "1/1 [==============================] - 0s 36ms/step\n",
            "[[0.99834895]\n",
            " [0.99834895]]\n"
          ]
        }
      ]
    },
    {
      "cell_type": "code",
      "source": [
        "import cv2\n",
        "test_img=cv2.imread(r'/content/gdrive/MyDrive/dataset/T51+T52BAD+T53BAD+T54BAD+T57BAD +T58BAD/Test/bad_dataset/DJI_0507.jpg')\n",
        "test_img=cv2.resize(test_img,(380,380))\n",
        "test_img\n",
        "img=np.asarray(test_img)\n",
        "img.shape\n",
        "from copy import deepcopy\n",
        "img_2=deepcopy(img)\n",
        "images=[img,img_2]\n",
        "prediction=my_model.predict(np.array(images))\n",
        "print(prediction)"
      ],
      "metadata": {
        "colab": {
          "base_uri": "https://localhost:8080/"
        },
        "id": "3py5wCvppcgG",
        "outputId": "4fb1b1e2-d214-4f2b-c12a-497df682c7c1"
      },
      "execution_count": null,
      "outputs": [
        {
          "output_type": "stream",
          "name": "stdout",
          "text": [
            "1/1 [==============================] - 0s 33ms/step\n",
            "[[1.]\n",
            " [1.]]\n"
          ]
        }
      ]
    },
    {
      "cell_type": "code",
      "source": [
        "import cv2\n",
        "test_img=cv2.imread(r'/content/gdrive/MyDrive/dataset/T51+T52BAD+T53BAD+T54BAD+T57BAD +T58BAD/Test/bad_dataset/DJI_0509.jpg')\n",
        "test_img=cv2.resize(test_img,(380,380))\n",
        "test_img\n",
        "img=np.asarray(test_img)\n",
        "img.shape\n",
        "from copy import deepcopy\n",
        "img_2=deepcopy(img)\n",
        "images=[img,img_2]\n",
        "prediction=my_model.predict(np.array(images))\n",
        "print(prediction)"
      ],
      "metadata": {
        "colab": {
          "base_uri": "https://localhost:8080/"
        },
        "id": "VZj2-Wccpcks",
        "outputId": "14437bd7-8500-4b91-cf4e-ac89396ed66b"
      },
      "execution_count": null,
      "outputs": [
        {
          "output_type": "stream",
          "name": "stdout",
          "text": [
            "1/1 [==============================] - 0s 33ms/step\n",
            "[[1.]\n",
            " [1.]]\n"
          ]
        }
      ]
    },
    {
      "cell_type": "code",
      "source": [
        "import cv2\n",
        "test_img=cv2.imread(r'/content/gdrive/MyDrive/dataset/T51+T52BAD+T53BAD+T54BAD+T57BAD +T58BAD/Test/bad_dataset/DJI_0608.jpg')\n",
        "test_img=cv2.resize(test_img,(380,380))\n",
        "test_img\n",
        "img=np.asarray(test_img)\n",
        "img.shape\n",
        "from copy import deepcopy\n",
        "img_2=deepcopy(img)\n",
        "images=[img,img_2]\n",
        "prediction=my_model.predict(np.array(images))\n",
        "print(prediction)"
      ],
      "metadata": {
        "colab": {
          "base_uri": "https://localhost:8080/"
        },
        "id": "DN8Y72HApcsc",
        "outputId": "01bb0ad6-5597-4674-e004-2f9ebe6b6a1a"
      },
      "execution_count": null,
      "outputs": [
        {
          "output_type": "stream",
          "name": "stdout",
          "text": [
            "1/1 [==============================] - 0s 36ms/step\n",
            "[[0.9530616]\n",
            " [0.9530616]]\n"
          ]
        }
      ]
    },
    {
      "cell_type": "code",
      "source": [
        "import cv2\n",
        "test_img=cv2.imread(r'/content/gdrive/MyDrive/dataset/T51+T52BAD+T53BAD+T54BAD+T57BAD +T58BAD/Test/bad_dataset/DJI_0610.jpg')\n",
        "test_img=cv2.resize(test_img,(380,380))\n",
        "test_img\n",
        "img=np.asarray(test_img)\n",
        "img.shape\n",
        "from copy import deepcopy\n",
        "img_2=deepcopy(img)\n",
        "images=[img,img_2]\n",
        "prediction=my_model.predict(np.array(images))\n",
        "print(prediction)"
      ],
      "metadata": {
        "colab": {
          "base_uri": "https://localhost:8080/"
        },
        "id": "K5i94JRVplWM",
        "outputId": "0f06025e-205b-4fe2-eacf-3a43bb635653"
      },
      "execution_count": null,
      "outputs": [
        {
          "output_type": "stream",
          "name": "stdout",
          "text": [
            "1/1 [==============================] - 0s 59ms/step\n",
            "[[0.98745173]\n",
            " [0.98745173]]\n"
          ]
        }
      ]
    },
    {
      "cell_type": "code",
      "source": [
        "import cv2\n",
        "test_img=cv2.imread(r'/content/gdrive/MyDrive/dataset/T51+T52BAD+T53BAD+T54BAD+T57BAD +T58BAD/Test/bad_dataset/DJI_0976.jpg')\n",
        "test_img=cv2.resize(test_img,(380,380))\n",
        "test_img\n",
        "img=np.asarray(test_img)\n",
        "img.shape\n",
        "from copy import deepcopy\n",
        "img_2=deepcopy(img)\n",
        "images=[img,img_2]\n",
        "prediction=my_model.predict(np.array(images))\n",
        "print(prediction)"
      ],
      "metadata": {
        "colab": {
          "base_uri": "https://localhost:8080/"
        },
        "id": "E4W-iUVGpljT",
        "outputId": "45f577e9-87fe-4c08-a9b2-c6f542e511df"
      },
      "execution_count": null,
      "outputs": [
        {
          "output_type": "stream",
          "name": "stdout",
          "text": [
            "1/1 [==============================] - 0s 32ms/step\n",
            "[[2.614675e-06]\n",
            " [2.614675e-06]]\n"
          ]
        }
      ]
    },
    {
      "cell_type": "code",
      "source": [
        "import cv2\n",
        "test_img=cv2.imread(r'/content/gdrive/MyDrive/dataset/T51+T52BAD+T53BAD+T54BAD+T57BAD +T58BAD/Test/bad_dataset/DJI_0978.jpg')\n",
        "test_img=cv2.resize(test_img,(380,380))\n",
        "test_img\n",
        "img=np.asarray(test_img)\n",
        "img.shape\n",
        "from copy import deepcopy\n",
        "img_2=deepcopy(img)\n",
        "images=[img,img_2]\n",
        "prediction=my_model.predict(np.array(images))\n",
        "print(prediction)"
      ],
      "metadata": {
        "colab": {
          "base_uri": "https://localhost:8080/"
        },
        "id": "zF0oiJgvplu1",
        "outputId": "04fb7a2f-b7ee-45f2-d1e2-228a4546c46a"
      },
      "execution_count": null,
      "outputs": [
        {
          "output_type": "stream",
          "name": "stdout",
          "text": [
            "1/1 [==============================] - 0s 52ms/step\n",
            "[[0.00085713]\n",
            " [0.00085713]]\n"
          ]
        }
      ]
    },
    {
      "cell_type": "code",
      "source": [
        "import cv2\n",
        "test_img=cv2.imread(r'/content/gdrive/MyDrive/dataset/T51+T52BAD+T53BAD+T54BAD+T57BAD +T58BAD/Test/bad_dataset/DJI_0980.jpg')\n",
        "test_img=cv2.resize(test_img,(380,380))\n",
        "test_img\n",
        "img=np.asarray(test_img)\n",
        "img.shape\n",
        "from copy import deepcopy\n",
        "img_2=deepcopy(img)\n",
        "images=[img,img_2]\n",
        "prediction=my_model.predict(np.array(images))\n",
        "print(prediction)"
      ],
      "metadata": {
        "colab": {
          "base_uri": "https://localhost:8080/"
        },
        "id": "qzenyCJFpl3v",
        "outputId": "fd82bf9a-4849-4102-fe21-395730fa3b7c"
      },
      "execution_count": null,
      "outputs": [
        {
          "output_type": "stream",
          "name": "stdout",
          "text": [
            "1/1 [==============================] - 0s 34ms/step\n",
            "[[0.00466501]\n",
            " [0.00466501]]\n"
          ]
        }
      ]
    },
    {
      "cell_type": "code",
      "source": [
        "import cv2\n",
        "test_img=cv2.imread(r'/content/gdrive/MyDrive/dataset/T51+T52BAD+T53BAD+T54BAD+T57BAD +T58BAD/Test/bad_dataset/DJI_0982.jpg')\n",
        "test_img=cv2.resize(test_img,(380,380))\n",
        "test_img\n",
        "img=np.asarray(test_img)\n",
        "img.shape\n",
        "from copy import deepcopy\n",
        "img_2=deepcopy(img)\n",
        "images=[img,img_2]\n",
        "prediction=my_model.predict(np.array(images))\n",
        "print(prediction)"
      ],
      "metadata": {
        "colab": {
          "base_uri": "https://localhost:8080/"
        },
        "id": "mIeOxfNRpmFT",
        "outputId": "e72b0d84-2c13-41a4-b5cf-d6b2eb77d435"
      },
      "execution_count": null,
      "outputs": [
        {
          "output_type": "stream",
          "name": "stdout",
          "text": [
            "1/1 [==============================] - 0s 33ms/step\n",
            "[[0.9059961]\n",
            " [0.9059961]]\n"
          ]
        }
      ]
    },
    {
      "cell_type": "code",
      "source": [
        "import cv2\n",
        "test_img=cv2.imread(r'/content/gdrive/MyDrive/dataset/T51+T52BAD+T53BAD+T54BAD+T57BAD +T58BAD/Test/bad_dataset/DJI_0984.jpg')\n",
        "test_img=cv2.resize(test_img,(380,380))\n",
        "test_img\n",
        "img=np.asarray(test_img)\n",
        "img.shape\n",
        "from copy import deepcopy\n",
        "img_2=deepcopy(img)\n",
        "images=[img,img_2]\n",
        "prediction=my_model.predict(np.array(images))\n",
        "print(prediction)"
      ],
      "metadata": {
        "colab": {
          "base_uri": "https://localhost:8080/"
        },
        "id": "3GOexR-DpylC",
        "outputId": "2489b82d-64a1-4886-e640-4dd41d74b0d4"
      },
      "execution_count": null,
      "outputs": [
        {
          "output_type": "stream",
          "name": "stdout",
          "text": [
            "1/1 [==============================] - 0s 50ms/step\n",
            "[[0.99999726]\n",
            " [0.99999726]]\n"
          ]
        }
      ]
    },
    {
      "cell_type": "code",
      "source": [
        "import cv2\n",
        "test_img=cv2.imread(r'/content/gdrive/MyDrive/dataset/T51+T52BAD+T53BAD+T54BAD+T57BAD +T58BAD/Test/bad_dataset/DJI_0986.jpg')\n",
        "test_img=cv2.resize(test_img,(380,380))\n",
        "test_img\n",
        "img=np.asarray(test_img)\n",
        "img.shape\n",
        "from copy import deepcopy\n",
        "img_2=deepcopy(img)\n",
        "images=[img,img_2]\n",
        "prediction=my_model.predict(np.array(images))\n",
        "print(prediction)"
      ],
      "metadata": {
        "colab": {
          "base_uri": "https://localhost:8080/"
        },
        "id": "xCT3JYatp4Ex",
        "outputId": "3a664e46-ae2c-430d-b0ab-e21124085d4c"
      },
      "execution_count": null,
      "outputs": [
        {
          "output_type": "stream",
          "name": "stdout",
          "text": [
            "1/1 [==============================] - 0s 50ms/step\n",
            "[[1.]\n",
            " [1.]]\n"
          ]
        }
      ]
    },
    {
      "cell_type": "code",
      "source": [
        "import cv2\n",
        "test_img=cv2.imread(r'/content/gdrive/MyDrive/dataset/T51+T52BAD+T53BAD+T54BAD+T57BAD +T58BAD/Test/good_dataset/DJI_0869.jpg')\n",
        "test_img=cv2.resize(test_img,(380,380))\n",
        "test_img\n",
        "img=np.asarray(test_img)\n",
        "img.shape\n",
        "from copy import deepcopy\n",
        "img_2=deepcopy(img)\n",
        "images=[img,img_2]\n",
        "prediction=my_model.predict(np.array(images))\n",
        "print(prediction)"
      ],
      "metadata": {
        "colab": {
          "base_uri": "https://localhost:8080/"
        },
        "id": "o3Eh3uEiqIr3",
        "outputId": "c1a3f0f1-aad4-407a-fdeb-2d605345ca07"
      },
      "execution_count": null,
      "outputs": [
        {
          "output_type": "stream",
          "name": "stdout",
          "text": [
            "1/1 [==============================] - 0s 50ms/step\n",
            "[[0.00636399]\n",
            " [0.00636399]]\n"
          ]
        }
      ]
    },
    {
      "cell_type": "code",
      "source": [
        "import cv2\n",
        "test_img=cv2.imread(r'/content/gdrive/MyDrive/dataset/T51+T52BAD+T53BAD+T54BAD+T57BAD +T58BAD/Test/good_dataset/DJI_0871.jpg')\n",
        "test_img=cv2.resize(test_img,(380,380))\n",
        "test_img\n",
        "img=np.asarray(test_img)\n",
        "img.shape\n",
        "from copy import deepcopy\n",
        "img_2=deepcopy(img)\n",
        "images=[img,img_2]\n",
        "prediction=my_model.predict(np.array(images))\n",
        "print(prediction)"
      ],
      "metadata": {
        "colab": {
          "base_uri": "https://localhost:8080/"
        },
        "id": "utG_g5COqKr1",
        "outputId": "016a418d-225d-4657-b869-b443204ca770"
      },
      "execution_count": null,
      "outputs": [
        {
          "output_type": "stream",
          "name": "stdout",
          "text": [
            "1/1 [==============================] - 0s 34ms/step\n",
            "[[1.]\n",
            " [1.]]\n"
          ]
        }
      ]
    },
    {
      "cell_type": "code",
      "source": [
        "import cv2\n",
        "test_img=cv2.imread(r'/content/gdrive/MyDrive/dataset/T51+T52BAD+T53BAD+T54BAD+T57BAD +T58BAD/Test/good_dataset/DJI_0873.jpg')\n",
        "test_img=cv2.resize(test_img,(380,380))\n",
        "test_img\n",
        "img=np.asarray(test_img)\n",
        "img.shape\n",
        "from copy import deepcopy\n",
        "img_2=deepcopy(img)\n",
        "images=[img,img_2]\n",
        "prediction=my_model.predict(np.array(images))\n",
        "print(prediction)"
      ],
      "metadata": {
        "colab": {
          "base_uri": "https://localhost:8080/"
        },
        "id": "7Juo2ZGLqMzo",
        "outputId": "1077f29f-3ca6-4247-db73-21af45511009"
      },
      "execution_count": null,
      "outputs": [
        {
          "output_type": "stream",
          "name": "stdout",
          "text": [
            "1/1 [==============================] - 0s 51ms/step\n",
            "[[1.]\n",
            " [1.]]\n"
          ]
        }
      ]
    },
    {
      "cell_type": "code",
      "source": [
        "import cv2\n",
        "test_img=cv2.imread(r'/content/gdrive/MyDrive/dataset/T51+T52BAD+T53BAD+T54BAD+T57BAD +T58BAD/Test/good_dataset/DJI_0875.jpg')\n",
        "test_img=cv2.resize(test_img,(380,380))\n",
        "test_img\n",
        "img=np.asarray(test_img)\n",
        "img.shape\n",
        "from copy import deepcopy\n",
        "img_2=deepcopy(img)\n",
        "images=[img,img_2]\n",
        "prediction=my_model.predict(np.array(images))\n",
        "print(prediction)"
      ],
      "metadata": {
        "colab": {
          "base_uri": "https://localhost:8080/"
        },
        "id": "52YICEpyqM9N",
        "outputId": "f010af62-dbfc-4a80-ef90-276765db3321"
      },
      "execution_count": null,
      "outputs": [
        {
          "output_type": "stream",
          "name": "stdout",
          "text": [
            "1/1 [==============================] - 0s 32ms/step\n",
            "[[0.9999999]\n",
            " [0.9999999]]\n"
          ]
        }
      ]
    },
    {
      "cell_type": "code",
      "source": [
        "import cv2\n",
        "test_img=cv2.imread(r'/content/gdrive/MyDrive/dataset/T51+T52BAD+T53BAD+T54BAD+T57BAD +T58BAD/Test/good_dataset/DJI_0877.jpg')\n",
        "test_img=cv2.resize(test_img,(380,380))\n",
        "test_img\n",
        "img=np.asarray(test_img)\n",
        "img.shape\n",
        "from copy import deepcopy\n",
        "img_2=deepcopy(img)\n",
        "images=[img,img_2]\n",
        "prediction=my_model.predict(np.array(images))\n",
        "print(prediction)"
      ],
      "metadata": {
        "colab": {
          "base_uri": "https://localhost:8080/"
        },
        "id": "1NQwfu_7qPku",
        "outputId": "f31c9109-cb3a-4094-e26a-05d1560f5ff7"
      },
      "execution_count": null,
      "outputs": [
        {
          "output_type": "stream",
          "name": "stdout",
          "text": [
            "1/1 [==============================] - 0s 34ms/step\n",
            "[[1.]\n",
            " [1.]]\n"
          ]
        }
      ]
    },
    {
      "cell_type": "code",
      "source": [
        "import cv2\n",
        "test_img=cv2.imread(r'/content/gdrive/MyDrive/dataset/T51+T52BAD+T53BAD+T54BAD+T57BAD +T58BAD/Test/good_dataset/DJI_0879.jpg')\n",
        "test_img=cv2.resize(test_img,(380,380))\n",
        "test_img\n",
        "img=np.asarray(test_img)\n",
        "img.shape\n",
        "from copy import deepcopy\n",
        "img_2=deepcopy(img)\n",
        "images=[img,img_2]\n",
        "prediction=my_model.predict(np.array(images))\n",
        "print(prediction)"
      ],
      "metadata": {
        "colab": {
          "base_uri": "https://localhost:8080/"
        },
        "id": "6q3Mhoq2qSI1",
        "outputId": "3d64c93c-2696-4e9a-ef92-684322995e95"
      },
      "execution_count": null,
      "outputs": [
        {
          "output_type": "stream",
          "name": "stdout",
          "text": [
            "1/1 [==============================] - 0s 33ms/step\n",
            "[[0.99967515]\n",
            " [0.99967515]]\n"
          ]
        }
      ]
    },
    {
      "cell_type": "code",
      "source": [
        "import cv2\n",
        "test_img=cv2.imread(r'/content/gdrive/MyDrive/dataset/T51+T52BAD+T53BAD+T54BAD+T57BAD +T58BAD/Test/good_dataset/DJI_0881.jpg')\n",
        "test_img=cv2.resize(test_img,(380,380))\n",
        "test_img\n",
        "img=np.asarray(test_img)\n",
        "img.shape\n",
        "from copy import deepcopy\n",
        "img_2=deepcopy(img)\n",
        "images=[img,img_2]\n",
        "prediction=my_model.predict(np.array(images))\n",
        "print(prediction)"
      ],
      "metadata": {
        "colab": {
          "base_uri": "https://localhost:8080/"
        },
        "id": "ASMHQsl0qVb9",
        "outputId": "5a78ab3b-fdb9-406c-844c-6dd409f8f7ad"
      },
      "execution_count": null,
      "outputs": [
        {
          "output_type": "stream",
          "name": "stdout",
          "text": [
            "1/1 [==============================] - 0s 48ms/step\n",
            "[[1.0913062e-08]\n",
            " [1.0913062e-08]]\n"
          ]
        }
      ]
    },
    {
      "cell_type": "code",
      "source": [
        "import cv2\n",
        "test_img=cv2.imread(r'/content/gdrive/MyDrive/dataset/T51+T52BAD+T53BAD+T54BAD+T57BAD +T58BAD/Test/good_dataset/DJI_0883.jpg')\n",
        "test_img=cv2.resize(test_img,(380,380))\n",
        "test_img\n",
        "img=np.asarray(test_img)\n",
        "img.shape\n",
        "from copy import deepcopy\n",
        "img_2=deepcopy(img)\n",
        "images=[img,img_2]\n",
        "prediction=my_model.predict(np.array(images))\n",
        "print(prediction)"
      ],
      "metadata": {
        "colab": {
          "base_uri": "https://localhost:8080/"
        },
        "id": "A_SSXtsvqYK-",
        "outputId": "e6753181-a1f9-452c-ccbe-7b16362419db"
      },
      "execution_count": null,
      "outputs": [
        {
          "output_type": "stream",
          "name": "stdout",
          "text": [
            "1/1 [==============================] - 0s 41ms/step\n",
            "[[5.0684502e-23]\n",
            " [5.0684502e-23]]\n"
          ]
        }
      ]
    },
    {
      "cell_type": "code",
      "source": [
        "import cv2\n",
        "test_img=cv2.imread(r'/content/gdrive/MyDrive/dataset/T51+T52BAD+T53BAD+T54BAD+T57BAD +T58BAD/Test/good_dataset/DJI_0885.jpg')\n",
        "test_img=cv2.resize(test_img,(380,380))\n",
        "test_img\n",
        "img=np.asarray(test_img)\n",
        "img.shape\n",
        "from copy import deepcopy\n",
        "img_2=deepcopy(img)\n",
        "images=[img,img_2]\n",
        "prediction=my_model.predict(np.array(images))\n",
        "print(prediction)"
      ],
      "metadata": {
        "colab": {
          "base_uri": "https://localhost:8080/"
        },
        "id": "oCdbpgNyqdBm",
        "outputId": "4dbb1639-6509-4d90-845c-e4784965d472"
      },
      "execution_count": null,
      "outputs": [
        {
          "output_type": "stream",
          "name": "stdout",
          "text": [
            "1/1 [==============================] - 0s 34ms/step\n",
            "[[7.045766e-15]\n",
            " [7.045766e-15]]\n"
          ]
        }
      ]
    },
    {
      "cell_type": "code",
      "source": [
        "import cv2\n",
        "test_img=cv2.imread(r'/content/gdrive/MyDrive/dataset/T51+T52BAD+T53BAD+T54BAD+T57BAD +T58BAD/Test/good_dataset/DJI_0887.jpg')\n",
        "test_img=cv2.resize(test_img,(380,380))\n",
        "test_img\n",
        "img=np.asarray(test_img)\n",
        "img.shape\n",
        "from copy import deepcopy\n",
        "img_2=deepcopy(img)\n",
        "images=[img,img_2]\n",
        "prediction=my_model.predict(np.array(images))\n",
        "print(prediction)"
      ],
      "metadata": {
        "colab": {
          "base_uri": "https://localhost:8080/"
        },
        "id": "HOdwFsj2qfEA",
        "outputId": "2f20ee1a-7b80-4c6f-eb4f-a7b30bfee381"
      },
      "execution_count": null,
      "outputs": [
        {
          "output_type": "stream",
          "name": "stdout",
          "text": [
            "1/1 [==============================] - 0s 51ms/step\n",
            "[[3.03242e-20]\n",
            " [3.03242e-20]]\n"
          ]
        }
      ]
    },
    {
      "cell_type": "code",
      "source": [
        "import cv2\n",
        "test_img=cv2.imread(r'/content/gdrive/MyDrive/dataset/T51+T52BAD+T53BAD+T54BAD+T57BAD +T58BAD/Test/good_dataset/DJI_0889.jpg')\n",
        "test_img=cv2.resize(test_img,(380,380))\n",
        "test_img\n",
        "img=np.asarray(test_img)\n",
        "img.shape\n",
        "from copy import deepcopy\n",
        "img_2=deepcopy(img)\n",
        "images=[img,img_2]\n",
        "prediction=my_model.predict(np.array(images))\n",
        "print(prediction)"
      ],
      "metadata": {
        "colab": {
          "base_uri": "https://localhost:8080/"
        },
        "id": "caW8Uk3mqjCZ",
        "outputId": "e197c85c-359e-462b-9caf-4172247aae7a"
      },
      "execution_count": null,
      "outputs": [
        {
          "output_type": "stream",
          "name": "stdout",
          "text": [
            "1/1 [==============================] - 0s 32ms/step\n",
            "[[9.032079e-23]\n",
            " [9.032079e-23]]\n"
          ]
        }
      ]
    },
    {
      "cell_type": "code",
      "source": [
        "import cv2\n",
        "test_img=cv2.imread(r'/content/gdrive/MyDrive/dataset/T51+T52BAD+T53BAD+T54BAD+T57BAD +T58BAD/Test/good_dataset/DJI_0891.jpg')\n",
        "test_img=cv2.resize(test_img,(380,380))\n",
        "test_img\n",
        "img=np.asarray(test_img)\n",
        "img.shape\n",
        "from copy import deepcopy\n",
        "img_2=deepcopy(img)\n",
        "images=[img,img_2]\n",
        "prediction=my_model.predict(np.array(images))\n",
        "print(prediction)"
      ],
      "metadata": {
        "colab": {
          "base_uri": "https://localhost:8080/"
        },
        "id": "2PTDaAxkqlPT",
        "outputId": "9d93cb6e-8281-47fe-cc00-70422b2f3447"
      },
      "execution_count": null,
      "outputs": [
        {
          "output_type": "stream",
          "name": "stdout",
          "text": [
            "1/1 [==============================] - 0s 33ms/step\n",
            "[[1.229086e-25]\n",
            " [1.229086e-25]]\n"
          ]
        }
      ]
    },
    {
      "cell_type": "code",
      "source": [
        "import cv2\n",
        "test_img=cv2.imread(r'/content/gdrive/MyDrive/dataset/T51+T52BAD+T53BAD+T54BAD+T57BAD +T58BAD/Test/good_dataset/DJI_0893.jpg')\n",
        "test_img=cv2.resize(test_img,(380,380))\n",
        "test_img\n",
        "img=np.asarray(test_img)\n",
        "img.shape\n",
        "from copy import deepcopy\n",
        "img_2=deepcopy(img)\n",
        "images=[img,img_2]\n",
        "prediction=my_model.predict(np.array(images))\n",
        "print(prediction)"
      ],
      "metadata": {
        "colab": {
          "base_uri": "https://localhost:8080/"
        },
        "id": "FsV3ObwDqp67",
        "outputId": "85f9384a-ed04-483b-bfb4-19c34873f799"
      },
      "execution_count": null,
      "outputs": [
        {
          "output_type": "stream",
          "name": "stdout",
          "text": [
            "1/1 [==============================] - 0s 32ms/step\n",
            "[[9.9212075e-21]\n",
            " [9.9212075e-21]]\n"
          ]
        }
      ]
    },
    {
      "cell_type": "code",
      "source": [
        "import cv2\n",
        "test_img=cv2.imread(r'/content/gdrive/MyDrive/dataset/T51+T52BAD+T53BAD+T54BAD+T57BAD +T58BAD/Test/good_dataset/DJI_0895.jpg')\n",
        "test_img=cv2.resize(test_img,(380,380))\n",
        "test_img\n",
        "img=np.asarray(test_img)\n",
        "img.shape\n",
        "from copy import deepcopy\n",
        "img_2=deepcopy(img)\n",
        "images=[img,img_2]\n",
        "prediction=my_model.predict(np.array(images))\n",
        "print(prediction)"
      ],
      "metadata": {
        "colab": {
          "base_uri": "https://localhost:8080/"
        },
        "id": "YlkSpiTfqrxH",
        "outputId": "53d47d6c-3fca-447f-93f7-47de126c16bc"
      },
      "execution_count": null,
      "outputs": [
        {
          "output_type": "stream",
          "name": "stdout",
          "text": [
            "1/1 [==============================] - 0s 32ms/step\n",
            "[[5.2555874e-27]\n",
            " [5.2555874e-27]]\n"
          ]
        }
      ]
    },
    {
      "cell_type": "code",
      "source": [
        "import cv2\n",
        "test_img=cv2.imread(r'/content/gdrive/MyDrive/dataset/T51+T52BAD+T53BAD+T54BAD+T57BAD +T58BAD/Test/good_dataset/DJI_0897.jpg')\n",
        "test_img=cv2.resize(test_img,(380,380))\n",
        "test_img\n",
        "img=np.asarray(test_img)\n",
        "img.shape\n",
        "from copy import deepcopy\n",
        "img_2=deepcopy(img)\n",
        "images=[img,img_2]\n",
        "prediction=my_model.predict(np.array(images))\n",
        "print(prediction)"
      ],
      "metadata": {
        "colab": {
          "base_uri": "https://localhost:8080/"
        },
        "id": "rqCv1AL1qr76",
        "outputId": "bc2cb75f-545a-4c99-e6a9-1f1d729f2ebf"
      },
      "execution_count": null,
      "outputs": [
        {
          "output_type": "stream",
          "name": "stdout",
          "text": [
            "1/1 [==============================] - 0s 33ms/step\n",
            "[[2.7544315e-21]\n",
            " [2.7544315e-21]]\n"
          ]
        }
      ]
    },
    {
      "cell_type": "code",
      "source": [
        "import cv2\n",
        "test_img=cv2.imread(r'/content/gdrive/MyDrive/dataset/T51+T52BAD+T53BAD+T54BAD+T57BAD +T58BAD/Test/good_dataset/DJI_0899.jpg')\n",
        "test_img=cv2.resize(test_img,(380,380))\n",
        "test_img\n",
        "img=np.asarray(test_img)\n",
        "img.shape\n",
        "from copy import deepcopy\n",
        "img_2=deepcopy(img)\n",
        "images=[img,img_2]\n",
        "prediction=my_model.predict(np.array(images))\n",
        "print(prediction)"
      ],
      "metadata": {
        "colab": {
          "base_uri": "https://localhost:8080/"
        },
        "id": "iKconRzXqsDL",
        "outputId": "ff64e84c-b3af-4d12-da71-637aad8926ad"
      },
      "execution_count": null,
      "outputs": [
        {
          "output_type": "stream",
          "name": "stdout",
          "text": [
            "1/1 [==============================] - 0s 34ms/step\n",
            "[[3.4437888e-30]\n",
            " [3.4437888e-30]]\n"
          ]
        }
      ]
    },
    {
      "cell_type": "code",
      "source": [
        "import cv2\n",
        "test_img=cv2.imread(r'/content/gdrive/MyDrive/dataset/T51+T52BAD+T53BAD+T54BAD+T57BAD +T58BAD/Test/good_dataset/DJI_0901.jpg')\n",
        "test_img=cv2.resize(test_img,(380,380))\n",
        "test_img\n",
        "img=np.asarray(test_img)\n",
        "img.shape\n",
        "from copy import deepcopy\n",
        "img_2=deepcopy(img)\n",
        "images=[img,img_2]\n",
        "prediction=my_model.predict(np.array(images))\n",
        "print(prediction)"
      ],
      "metadata": {
        "colab": {
          "base_uri": "https://localhost:8080/"
        },
        "id": "v_YOz1rJqxoU",
        "outputId": "e40f8606-03d4-494c-f3b7-24b3d54641b6"
      },
      "execution_count": null,
      "outputs": [
        {
          "output_type": "stream",
          "name": "stdout",
          "text": [
            "1/1 [==============================] - 0s 33ms/step\n",
            "[[1.5025631e-09]\n",
            " [1.5025631e-09]]\n"
          ]
        }
      ]
    },
    {
      "cell_type": "code",
      "source": [
        "import cv2\n",
        "test_img=cv2.imread(r'/content/gdrive/MyDrive/dataset/T51+T52BAD+T53BAD+T54BAD+T57BAD +T58BAD/Test/good_dataset/DJI_0903.jpg')\n",
        "test_img=cv2.resize(test_img,(380,380))\n",
        "test_img\n",
        "img=np.asarray(test_img)\n",
        "img.shape\n",
        "from copy import deepcopy\n",
        "img_2=deepcopy(img)\n",
        "images=[img,img_2]\n",
        "prediction=my_model.predict(np.array(images))\n",
        "print(prediction)"
      ],
      "metadata": {
        "colab": {
          "base_uri": "https://localhost:8080/"
        },
        "id": "lbEVfPpAqxzK",
        "outputId": "f435d861-5bbe-4ca8-b024-c98092e7efac"
      },
      "execution_count": null,
      "outputs": [
        {
          "output_type": "stream",
          "name": "stdout",
          "text": [
            "1/1 [==============================] - 0s 33ms/step\n",
            "[[0.92571366]\n",
            " [0.92571366]]\n"
          ]
        }
      ]
    },
    {
      "cell_type": "code",
      "source": [
        "import cv2\n",
        "test_img=cv2.imread(r'/content/gdrive/MyDrive/dataset/T51+T52BAD+T53BAD+T54BAD+T57BAD +T58BAD/Test/good_dataset/DJI_0905.jpg')\n",
        "test_img=cv2.resize(test_img,(380,380))\n",
        "test_img\n",
        "img=np.asarray(test_img)\n",
        "img.shape\n",
        "from copy import deepcopy\n",
        "img_2=deepcopy(img)\n",
        "images=[img,img_2]\n",
        "prediction=my_model.predict(np.array(images))\n",
        "print(prediction)"
      ],
      "metadata": {
        "colab": {
          "base_uri": "https://localhost:8080/"
        },
        "id": "g11mDVg-qx9y",
        "outputId": "313d7c13-e0fe-42ef-ad05-71d54dd7730c"
      },
      "execution_count": null,
      "outputs": [
        {
          "output_type": "stream",
          "name": "stdout",
          "text": [
            "1/1 [==============================] - 0s 49ms/step\n",
            "[[0.87448996]\n",
            " [0.87448996]]\n"
          ]
        }
      ]
    },
    {
      "cell_type": "code",
      "source": [
        "import cv2\n",
        "test_img=cv2.imread(r'/content/gdrive/MyDrive/dataset/T51+T52BAD+T53BAD+T54BAD+T57BAD +T58BAD/Test/good_dataset/DJI_0907.jpg')\n",
        "test_img=cv2.resize(test_img,(380,380))\n",
        "test_img\n",
        "img=np.asarray(test_img)\n",
        "img.shape\n",
        "from copy import deepcopy\n",
        "img_2=deepcopy(img)\n",
        "images=[img,img_2]\n",
        "prediction=my_model.predict(np.array(images))\n",
        "print(prediction)"
      ],
      "metadata": {
        "id": "25As9VPKv4eP",
        "colab": {
          "base_uri": "https://localhost:8080/"
        },
        "outputId": "eed5b7c7-a65d-4399-db73-0da61b87ea81"
      },
      "execution_count": null,
      "outputs": [
        {
          "output_type": "stream",
          "name": "stdout",
          "text": [
            "1/1 [==============================] - 0s 34ms/step\n",
            "[[5.1013785e-19]\n",
            " [5.1013785e-19]]\n"
          ]
        }
      ]
    },
    {
      "cell_type": "code",
      "source": [
        "import cv2\n",
        "test_img=cv2.imread(r'/content/gdrive/MyDrive/dataset/T51+T52BAD+T53BAD+T54BAD+T57BAD +T58BAD/Test/good_dataset/DJI_0909.jpg')\n",
        "test_img=cv2.resize(test_img,(380,380))\n",
        "test_img\n",
        "img=np.asarray(test_img)\n",
        "img.shape\n",
        "from copy import deepcopy\n",
        "img_2=deepcopy(img)\n",
        "images=[img,img_2]\n",
        "prediction=my_model.predict(np.array(images))\n",
        "print(prediction)"
      ],
      "metadata": {
        "colab": {
          "base_uri": "https://localhost:8080/"
        },
        "id": "DpR69Pxev78Y",
        "outputId": "efd72bc6-74b8-4f63-e5a2-0716f741d1bc"
      },
      "execution_count": null,
      "outputs": [
        {
          "output_type": "stream",
          "name": "stdout",
          "text": [
            "1/1 [==============================] - 0s 50ms/step\n",
            "[[2.8503822e-26]\n",
            " [2.8503822e-26]]\n"
          ]
        }
      ]
    },
    {
      "cell_type": "code",
      "source": [
        "import cv2\n",
        "test_img=cv2.imread(r'/content/gdrive/MyDrive/dataset/T51+T52BAD+T53BAD+T54BAD+T57BAD +T58BAD/Test/good_dataset/DJI_0911.jpg')\n",
        "test_img=cv2.resize(test_img,(380,380))\n",
        "test_img\n",
        "img=np.asarray(test_img)\n",
        "img.shape\n",
        "from copy import deepcopy\n",
        "img_2=deepcopy(img)\n",
        "images=[img,img_2]\n",
        "prediction=my_model.predict(np.array(images))\n",
        "print(prediction)"
      ],
      "metadata": {
        "colab": {
          "base_uri": "https://localhost:8080/"
        },
        "id": "EshdBjlWv933",
        "outputId": "41907c1b-1e6f-4c4a-d73b-13d0a043b659"
      },
      "execution_count": null,
      "outputs": [
        {
          "output_type": "stream",
          "name": "stdout",
          "text": [
            "1/1 [==============================] - 0s 49ms/step\n",
            "[[1.2710936e-19]\n",
            " [1.2710936e-19]]\n"
          ]
        }
      ]
    },
    {
      "cell_type": "code",
      "source": [
        "import cv2\n",
        "test_img=cv2.imread(r'/content/gdrive/MyDrive/dataset/T51+T52BAD+T53BAD+T54BAD+T57BAD +T58BAD/Test/good_dataset/DJI_0913.jpg')\n",
        "test_img=cv2.resize(test_img,(380,380))\n",
        "test_img\n",
        "img=np.asarray(test_img)\n",
        "img.shape\n",
        "from copy import deepcopy\n",
        "img_2=deepcopy(img)\n",
        "images=[img,img_2]\n",
        "prediction=my_model.predict(np.array(images))\n",
        "print(prediction)"
      ],
      "metadata": {
        "colab": {
          "base_uri": "https://localhost:8080/"
        },
        "id": "3-VKZsaFwA27",
        "outputId": "36453bd3-8d28-46b7-8a5d-6bb776a93be9"
      },
      "execution_count": null,
      "outputs": [
        {
          "output_type": "stream",
          "name": "stdout",
          "text": [
            "1/1 [==============================] - 0s 32ms/step\n",
            "[[8.444922e-20]\n",
            " [8.444922e-20]]\n"
          ]
        }
      ]
    },
    {
      "cell_type": "code",
      "source": [
        "import cv2\n",
        "test_img=cv2.imread(r'/content/gdrive/MyDrive/dataset/T51+T52BAD+T53BAD+T54BAD+T57BAD +T58BAD/Test/good_dataset/DJI_0915.jpg')\n",
        "test_img=cv2.resize(test_img,(380,380))\n",
        "test_img\n",
        "img=np.asarray(test_img)\n",
        "img.shape\n",
        "from copy import deepcopy\n",
        "img_2=deepcopy(img)\n",
        "images=[img,img_2]\n",
        "prediction=my_model.predict(np.array(images))\n",
        "print(prediction)"
      ],
      "metadata": {
        "colab": {
          "base_uri": "https://localhost:8080/"
        },
        "id": "6PljATDxwCna",
        "outputId": "c9355bb5-cfd2-445b-d83b-d95b3d923c43"
      },
      "execution_count": null,
      "outputs": [
        {
          "output_type": "stream",
          "name": "stdout",
          "text": [
            "1/1 [==============================] - 0s 33ms/step\n",
            "[[5.345898e-32]\n",
            " [5.345898e-32]]\n"
          ]
        }
      ]
    },
    {
      "cell_type": "code",
      "source": [
        "import cv2\n",
        "test_img=cv2.imread(r'/content/gdrive/MyDrive/dataset/T51+T52BAD+T53BAD+T54BAD+T57BAD +T58BAD/Test/good_dataset/DJI_0917.jpg')\n",
        "test_img=cv2.resize(test_img,(380,380))\n",
        "test_img\n",
        "img=np.asarray(test_img)\n",
        "img.shape\n",
        "from copy import deepcopy\n",
        "img_2=deepcopy(img)\n",
        "images=[img,img_2]\n",
        "prediction=my_model.predict(np.array(images))\n",
        "print(prediction)"
      ],
      "metadata": {
        "colab": {
          "base_uri": "https://localhost:8080/"
        },
        "id": "59b5FEdJwHip",
        "outputId": "091a3edb-ddc8-4614-9fdd-148c3f1a39dd"
      },
      "execution_count": null,
      "outputs": [
        {
          "output_type": "stream",
          "name": "stdout",
          "text": [
            "1/1 [==============================] - 0s 51ms/step\n",
            "[[1.0085915e-33]\n",
            " [1.0085915e-33]]\n"
          ]
        }
      ]
    },
    {
      "cell_type": "code",
      "source": [
        "import cv2\n",
        "test_img=cv2.imread(r'/content/gdrive/MyDrive/dataset/T51+T52BAD+T53BAD+T54BAD+T57BAD +T58BAD/Test/good_dataset/DJI_0919.jpg')\n",
        "test_img=cv2.resize(test_img,(380,380))\n",
        "test_img\n",
        "img=np.asarray(test_img)\n",
        "img.shape\n",
        "from copy import deepcopy\n",
        "img_2=deepcopy(img)\n",
        "images=[img,img_2]\n",
        "prediction=my_model.predict(np.array(images))\n",
        "print(prediction)"
      ],
      "metadata": {
        "colab": {
          "base_uri": "https://localhost:8080/"
        },
        "id": "SR5lqBFjwKQF",
        "outputId": "ffbaba26-8bfd-4bf4-a093-d5e016012cd6"
      },
      "execution_count": null,
      "outputs": [
        {
          "output_type": "stream",
          "name": "stdout",
          "text": [
            "1/1 [==============================] - 0s 35ms/step\n",
            "[[1.6732492e-36]\n",
            " [1.6732492e-36]]\n"
          ]
        }
      ]
    },
    {
      "cell_type": "code",
      "source": [
        "import cv2\n",
        "test_img=cv2.imread(r'/content/gdrive/MyDrive/dataset/T51+T52BAD+T53BAD+T54BAD+T57BAD +T58BAD/Test/good_dataset/DJI_0921.jpg')\n",
        "test_img=cv2.resize(test_img,(380,380))\n",
        "test_img\n",
        "img=np.asarray(test_img)\n",
        "img.shape\n",
        "from copy import deepcopy\n",
        "img_2=deepcopy(img)\n",
        "images=[img,img_2]\n",
        "prediction=my_model.predict(np.array(images))\n",
        "print(prediction)"
      ],
      "metadata": {
        "colab": {
          "base_uri": "https://localhost:8080/"
        },
        "id": "Vzh3FxVXwO89",
        "outputId": "deee22e6-58d7-4e3c-939e-6de76a4a475f"
      },
      "execution_count": null,
      "outputs": [
        {
          "output_type": "stream",
          "name": "stdout",
          "text": [
            "1/1 [==============================] - 0s 34ms/step\n",
            "[[3.4538248e-31]\n",
            " [3.4538248e-31]]\n"
          ]
        }
      ]
    },
    {
      "cell_type": "code",
      "source": [
        "import cv2\n",
        "test_img=cv2.imread(r'/content/gdrive/MyDrive/dataset/T51+T52BAD+T53BAD+T54BAD+T57BAD +T58BAD/Test/good_dataset/DJI_0923.jpg')\n",
        "test_img=cv2.resize(test_img,(380,380))\n",
        "test_img\n",
        "img=np.asarray(test_img)\n",
        "img.shape\n",
        "from copy import deepcopy\n",
        "img_2=deepcopy(img)\n",
        "images=[img,img_2]\n",
        "prediction=my_model.predict(np.array(images))\n",
        "print(prediction)"
      ],
      "metadata": {
        "colab": {
          "base_uri": "https://localhost:8080/"
        },
        "id": "qL8U8WDqwRBY",
        "outputId": "78610489-b4a6-4d53-a37b-aeb78d1eab0e"
      },
      "execution_count": null,
      "outputs": [
        {
          "output_type": "stream",
          "name": "stdout",
          "text": [
            "1/1 [==============================] - 0s 32ms/step\n",
            "[[1.2576282e-25]\n",
            " [1.2576282e-25]]\n"
          ]
        }
      ]
    },
    {
      "cell_type": "code",
      "source": [
        "import cv2\n",
        "test_img=cv2.imread(r'/content/gdrive/MyDrive/dataset/T51+T52BAD+T53BAD+T54BAD+T57BAD +T58BAD/Test/good_dataset/DJI_0925.jpg')\n",
        "test_img=cv2.resize(test_img,(380,380))\n",
        "test_img\n",
        "img=np.asarray(test_img)\n",
        "img.shape\n",
        "from copy import deepcopy\n",
        "img_2=deepcopy(img)\n",
        "images=[img,img_2]\n",
        "prediction=my_model.predict(np.array(images))\n",
        "print(prediction)"
      ],
      "metadata": {
        "colab": {
          "base_uri": "https://localhost:8080/"
        },
        "id": "JsEsvXubwa1A",
        "outputId": "be673a68-9875-4ec0-ac11-64f93b80bfdc"
      },
      "execution_count": null,
      "outputs": [
        {
          "output_type": "stream",
          "name": "stdout",
          "text": [
            "1/1 [==============================] - 0s 44ms/step\n",
            "[[0.]\n",
            " [0.]]\n"
          ]
        }
      ]
    },
    {
      "cell_type": "code",
      "source": [
        "import cv2\n",
        "test_img=cv2.imread(r'/content/gdrive/MyDrive/dataset/T51+T52BAD+T53BAD+T54BAD+T57BAD +T58BAD/Test/good_dataset/DJI_0927.jpg')\n",
        "test_img=cv2.resize(test_img,(380,380))\n",
        "test_img\n",
        "img=np.asarray(test_img)\n",
        "img.shape\n",
        "from copy import deepcopy\n",
        "img_2=deepcopy(img)\n",
        "images=[img,img_2]\n",
        "prediction=my_model.predict(np.array(images))\n",
        "print(prediction)"
      ],
      "metadata": {
        "id": "IeNlgYCHwddw",
        "colab": {
          "base_uri": "https://localhost:8080/"
        },
        "outputId": "73013d54-fcb5-4103-f9fb-5ec9f5fb94d4"
      },
      "execution_count": null,
      "outputs": [
        {
          "output_type": "stream",
          "name": "stdout",
          "text": [
            "1/1 [==============================] - 0s 36ms/step\n",
            "[[0.]\n",
            " [0.]]\n"
          ]
        }
      ]
    },
    {
      "cell_type": "code",
      "source": [
        "import cv2\n",
        "test_img=cv2.imread(r'/content/gdrive/MyDrive/dataset/T51+T52BAD+T53BAD+T54BAD+T57BAD +T58BAD/Test/good_dataset/DJI_0929.jpg')\n",
        "test_img=cv2.resize(test_img,(380,380))\n",
        "test_img\n",
        "img=np.asarray(test_img)\n",
        "img.shape\n",
        "from copy import deepcopy\n",
        "img_2=deepcopy(img)\n",
        "images=[img,img_2]\n",
        "prediction=my_model.predict(np.array(images))\n",
        "print(prediction)"
      ],
      "metadata": {
        "colab": {
          "base_uri": "https://localhost:8080/"
        },
        "id": "CZHAca5LwfFR",
        "outputId": "6401a943-803e-453f-9982-17b8daeced1e"
      },
      "execution_count": null,
      "outputs": [
        {
          "output_type": "stream",
          "name": "stdout",
          "text": [
            "1/1 [==============================] - 0s 48ms/step\n",
            "[[0.]\n",
            " [0.]]\n"
          ]
        }
      ]
    },
    {
      "cell_type": "code",
      "source": [
        "import cv2\n",
        "test_img=cv2.imread(r'/content/gdrive/MyDrive/dataset/T51+T52BAD+T53BAD+T54BAD+T57BAD +T58BAD/Test/good_dataset/DJI_0931.jpg')\n",
        "test_img=cv2.resize(test_img,(380,380))\n",
        "test_img\n",
        "img=np.asarray(test_img)\n",
        "img.shape\n",
        "from copy import deepcopy\n",
        "img_2=deepcopy(img)\n",
        "images=[img,img_2]\n",
        "prediction=my_model.predict(np.array(images))\n",
        "print(prediction)"
      ],
      "metadata": {
        "colab": {
          "base_uri": "https://localhost:8080/"
        },
        "id": "Sr8b58CLwhwg",
        "outputId": "0520b478-4506-4d38-d4c3-26a02d2f2071"
      },
      "execution_count": null,
      "outputs": [
        {
          "output_type": "stream",
          "name": "stdout",
          "text": [
            "1/1 [==============================] - 0s 35ms/step\n",
            "[[0.]\n",
            " [0.]]\n"
          ]
        }
      ]
    },
    {
      "cell_type": "code",
      "source": [
        "import cv2\n",
        "test_img=cv2.imread(r'/content/gdrive/MyDrive/dataset/T51+T52BAD+T53BAD+T54BAD+T57BAD +T58BAD/Test/good_dataset/DJI_0933.jpg')\n",
        "test_img=cv2.resize(test_img,(380,380))\n",
        "test_img\n",
        "img=np.asarray(test_img)\n",
        "img.shape\n",
        "from copy import deepcopy\n",
        "img_2=deepcopy(img)\n",
        "images=[img,img_2]\n",
        "prediction=my_model.predict(np.array(images))\n",
        "print(prediction)"
      ],
      "metadata": {
        "colab": {
          "base_uri": "https://localhost:8080/"
        },
        "id": "S0zlSYdDxypp",
        "outputId": "1175764f-25c8-4ab7-d5d4-7da6f830ce1b"
      },
      "execution_count": null,
      "outputs": [
        {
          "output_type": "stream",
          "name": "stdout",
          "text": [
            "1/1 [==============================] - 0s 36ms/step\n",
            "[[0.]\n",
            " [0.]]\n"
          ]
        }
      ]
    },
    {
      "cell_type": "code",
      "source": [
        "import cv2\n",
        "test_img=cv2.imread(r'/content/gdrive/MyDrive/dataset/T51+T52BAD+T53BAD+T54BAD+T57BAD +T58BAD/Test/good_dataset/DJI_0935.jpg')\n",
        "test_img=cv2.resize(test_img,(380,380))\n",
        "test_img\n",
        "img=np.asarray(test_img)\n",
        "img.shape\n",
        "from copy import deepcopy\n",
        "img_2=deepcopy(img)\n",
        "images=[img,img_2]\n",
        "prediction=my_model.predict(np.array(images))\n",
        "print(prediction)"
      ],
      "metadata": {
        "colab": {
          "base_uri": "https://localhost:8080/"
        },
        "id": "X8R0Qz_bx4aX",
        "outputId": "aac818b4-36df-443b-ce08-464b64e7eb29"
      },
      "execution_count": null,
      "outputs": [
        {
          "output_type": "stream",
          "name": "stdout",
          "text": [
            "1/1 [==============================] - 0s 45ms/step\n",
            "[[2.5114974e-38]\n",
            " [2.5114974e-38]]\n"
          ]
        }
      ]
    },
    {
      "cell_type": "code",
      "source": [
        "import cv2\n",
        "test_img=cv2.imread(r'/content/gdrive/MyDrive/dataset/T51+T52BAD+T53BAD+T54BAD+T57BAD +T58BAD/Test/good_dataset/DJI_0937.jpg')\n",
        "test_img=cv2.resize(test_img,(380,380))\n",
        "test_img\n",
        "img=np.asarray(test_img)\n",
        "img.shape\n",
        "from copy import deepcopy\n",
        "img_2=deepcopy(img)\n",
        "images=[img,img_2]\n",
        "prediction=my_model.predict(np.array(images))\n",
        "print(prediction)"
      ],
      "metadata": {
        "colab": {
          "base_uri": "https://localhost:8080/"
        },
        "id": "YB4VRHN7x8Nq",
        "outputId": "f79fd787-8672-4cb5-8433-9f6f99fb4178"
      },
      "execution_count": null,
      "outputs": [
        {
          "output_type": "stream",
          "name": "stdout",
          "text": [
            "1/1 [==============================] - 0s 34ms/step\n",
            "[[1.7510442e-09]\n",
            " [1.7510442e-09]]\n"
          ]
        }
      ]
    },
    {
      "cell_type": "code",
      "source": [
        "import cv2\n",
        "test_img=cv2.imread(r'/content/gdrive/MyDrive/dataset/T51+T52BAD+T53BAD+T54BAD+T57BAD +T58BAD/Test/good_dataset/DJI_0939.jpg')\n",
        "test_img=cv2.resize(test_img,(380,380))\n",
        "test_img\n",
        "img=np.asarray(test_img)\n",
        "img.shape\n",
        "from copy import deepcopy\n",
        "img_2=deepcopy(img)\n",
        "images=[img,img_2]\n",
        "prediction=my_model.predict(np.array(images))\n",
        "print(prediction)"
      ],
      "metadata": {
        "colab": {
          "base_uri": "https://localhost:8080/"
        },
        "id": "Y3FSNegXx_l4",
        "outputId": "6f149429-b0f7-4d93-e8d8-61058881690f"
      },
      "execution_count": null,
      "outputs": [
        {
          "output_type": "stream",
          "name": "stdout",
          "text": [
            "1/1 [==============================] - 0s 47ms/step\n",
            "[[1.9280926e-32]\n",
            " [1.9280926e-32]]\n"
          ]
        }
      ]
    },
    {
      "cell_type": "code",
      "source": [
        "import cv2\n",
        "test_img=cv2.imread(r'/content/gdrive/MyDrive/dataset/T51+T52BAD+T53BAD+T54BAD+T57BAD +T58BAD/Test/good_dataset/DJI_0941.jpg')\n",
        "test_img=cv2.resize(test_img,(380,380))\n",
        "test_img\n",
        "img=np.asarray(test_img)\n",
        "img.shape\n",
        "from copy import deepcopy\n",
        "img_2=deepcopy(img)\n",
        "images=[img,img_2]\n",
        "prediction=my_model.predict(np.array(images))\n",
        "print(prediction)"
      ],
      "metadata": {
        "colab": {
          "base_uri": "https://localhost:8080/"
        },
        "id": "rLd0hL0wx_w3",
        "outputId": "44bf9a8b-cb6e-4431-ec24-ef36617b844b"
      },
      "execution_count": null,
      "outputs": [
        {
          "output_type": "stream",
          "name": "stdout",
          "text": [
            "1/1 [==============================] - 0s 36ms/step\n",
            "[[2.8226746e-16]\n",
            " [2.8226746e-16]]\n"
          ]
        }
      ]
    },
    {
      "cell_type": "code",
      "source": [
        "import cv2\n",
        "test_img=cv2.imread(r'/content/gdrive/MyDrive/dataset/T51+T52BAD+T53BAD+T54BAD+T57BAD +T58BAD/Test/good_dataset/DJI_0943.jpg')\n",
        "test_img=cv2.resize(test_img,(380,380))\n",
        "test_img\n",
        "img=np.asarray(test_img)\n",
        "img.shape\n",
        "from copy import deepcopy\n",
        "img_2=deepcopy(img)\n",
        "images=[img,img_2]\n",
        "prediction=my_model.predict(np.array(images))\n",
        "print(prediction)"
      ],
      "metadata": {
        "colab": {
          "base_uri": "https://localhost:8080/"
        },
        "id": "_YCyQSaox_4Y",
        "outputId": "908a16fc-430f-41ab-beb5-3dd0790601c7"
      },
      "execution_count": null,
      "outputs": [
        {
          "output_type": "stream",
          "name": "stdout",
          "text": [
            "1/1 [==============================] - 0s 35ms/step\n",
            "[[5.8471197e-15]\n",
            " [5.8471197e-15]]\n"
          ]
        }
      ]
    },
    {
      "cell_type": "code",
      "source": [
        "import cv2\n",
        "test_img=cv2.imread(r'/content/gdrive/MyDrive/dataset/T51+T52BAD+T53BAD+T54BAD+T57BAD +T58BAD/Test/good_dataset/DJI_0945.jpg')\n",
        "test_img=cv2.resize(test_img,(380,380))\n",
        "test_img\n",
        "img=np.asarray(test_img)\n",
        "img.shape\n",
        "from copy import deepcopy\n",
        "img_2=deepcopy(img)\n",
        "images=[img,img_2]\n",
        "prediction=my_model.predict(np.array(images))\n",
        "print(prediction)"
      ],
      "metadata": {
        "colab": {
          "base_uri": "https://localhost:8080/"
        },
        "id": "BsX_OheUx_-l",
        "outputId": "527c6c20-da7d-432e-8c84-f21186cf7dbe"
      },
      "execution_count": null,
      "outputs": [
        {
          "output_type": "stream",
          "name": "stdout",
          "text": [
            "1/1 [==============================] - 0s 33ms/step\n",
            "[[4.0818696e-15]\n",
            " [4.0818696e-15]]\n"
          ]
        }
      ]
    },
    {
      "cell_type": "code",
      "source": [
        "import cv2\n",
        "test_img=cv2.imread(r'/content/gdrive/MyDrive/dataset/T51+T52BAD+T53BAD+T54BAD+T57BAD +T58BAD/Test/good_dataset/DJI_0947.jpg')\n",
        "test_img=cv2.resize(test_img,(380,380))\n",
        "test_img\n",
        "img=np.asarray(test_img)\n",
        "img.shape\n",
        "from copy import deepcopy\n",
        "img_2=deepcopy(img)\n",
        "images=[img,img_2]\n",
        "prediction=my_model.predict(np.array(images))\n",
        "print(prediction)"
      ],
      "metadata": {
        "colab": {
          "base_uri": "https://localhost:8080/"
        },
        "id": "Q8GmMovVyADu",
        "outputId": "9ec8cb79-5e16-4f9f-cfcf-b2e52d71a66b"
      },
      "execution_count": null,
      "outputs": [
        {
          "output_type": "stream",
          "name": "stdout",
          "text": [
            "1/1 [==============================] - 0s 38ms/step\n",
            "[[2.4494007e-15]\n",
            " [2.4494007e-15]]\n"
          ]
        }
      ]
    },
    {
      "cell_type": "code",
      "source": [
        "import cv2\n",
        "test_img=cv2.imread(r'/content/gdrive/MyDrive/dataset/T51+T52BAD+T53BAD+T54BAD+T57BAD +T58BAD/Test/good_dataset/DJI_0949.jpg')\n",
        "test_img=cv2.resize(test_img,(380,380))\n",
        "test_img\n",
        "img=np.asarray(test_img)\n",
        "img.shape\n",
        "from copy import deepcopy\n",
        "img_2=deepcopy(img)\n",
        "images=[img,img_2]\n",
        "prediction=my_model.predict(np.array(images))\n",
        "print(prediction)"
      ],
      "metadata": {
        "colab": {
          "base_uri": "https://localhost:8080/"
        },
        "id": "6qAfVTIYyAMe",
        "outputId": "404c6c7e-ac28-4f07-efb6-1a7cdec8342a"
      },
      "execution_count": null,
      "outputs": [
        {
          "output_type": "stream",
          "name": "stdout",
          "text": [
            "1/1 [==============================] - 0s 32ms/step\n",
            "[[2.9329026e-15]\n",
            " [2.9329026e-15]]\n"
          ]
        }
      ]
    },
    {
      "cell_type": "code",
      "source": [
        "import cv2\n",
        "test_img=cv2.imread(r'/content/gdrive/MyDrive/dataset/T51+T52BAD+T53BAD+T54BAD+T57BAD +T58BAD/Test/good_dataset/DJI_0951.jpg')\n",
        "test_img=cv2.resize(test_img,(380,380))\n",
        "test_img\n",
        "img=np.asarray(test_img)\n",
        "img.shape\n",
        "from copy import deepcopy\n",
        "img_2=deepcopy(img)\n",
        "images=[img,img_2]\n",
        "prediction=my_model.predict(np.array(images))\n",
        "print(prediction)"
      ],
      "metadata": {
        "colab": {
          "base_uri": "https://localhost:8080/"
        },
        "id": "2oKomCqEyAUb",
        "outputId": "acb5bc36-2e7e-4631-8e50-d642af02dc3e"
      },
      "execution_count": null,
      "outputs": [
        {
          "output_type": "stream",
          "name": "stdout",
          "text": [
            "1/1 [==============================] - 0s 31ms/step\n",
            "[[3.9649624e-27]\n",
            " [3.9649624e-27]]\n"
          ]
        }
      ]
    },
    {
      "cell_type": "code",
      "source": [
        "import cv2\n",
        "test_img=cv2.imread(r'/content/gdrive/MyDrive/dataset/T51+T52BAD+T53BAD+T54BAD+T57BAD +T58BAD/Test/good_dataset/DJI_0953.jpg')\n",
        "test_img=cv2.resize(test_img,(380,380))\n",
        "test_img\n",
        "img=np.asarray(test_img)\n",
        "img.shape\n",
        "from copy import deepcopy\n",
        "img_2=deepcopy(img)\n",
        "images=[img,img_2]\n",
        "prediction=my_model.predict(np.array(images))\n",
        "print(prediction)"
      ],
      "metadata": {
        "colab": {
          "base_uri": "https://localhost:8080/"
        },
        "id": "HgCuieXOyXow",
        "outputId": "6fb4aa6b-8d3f-49e9-8c89-c3aa4076bc4c"
      },
      "execution_count": null,
      "outputs": [
        {
          "output_type": "stream",
          "name": "stdout",
          "text": [
            "1/1 [==============================] - 0s 50ms/step\n",
            "[[3.875051e-34]\n",
            " [3.875051e-34]]\n"
          ]
        }
      ]
    },
    {
      "cell_type": "code",
      "source": [
        "import cv2\n",
        "test_img=cv2.imread(r'/content/gdrive/MyDrive/dataset/T51+T52BAD+T53BAD+T54BAD+T57BAD +T58BAD/Test/good_dataset/DJI_0955.jpg')\n",
        "test_img=cv2.resize(test_img,(380,380))\n",
        "test_img\n",
        "img=np.asarray(test_img)\n",
        "img.shape\n",
        "from copy import deepcopy\n",
        "img_2=deepcopy(img)\n",
        "images=[img,img_2]\n",
        "prediction=my_model.predict(np.array(images))\n",
        "print(prediction)"
      ],
      "metadata": {
        "colab": {
          "base_uri": "https://localhost:8080/"
        },
        "id": "DRRXN3vVyX0_",
        "outputId": "dade1686-edbe-487f-f942-fc1a13558692"
      },
      "execution_count": null,
      "outputs": [
        {
          "output_type": "stream",
          "name": "stdout",
          "text": [
            "1/1 [==============================] - 0s 36ms/step\n",
            "[[0.]\n",
            " [0.]]\n"
          ]
        }
      ]
    },
    {
      "cell_type": "code",
      "source": [
        "import cv2\n",
        "test_img=cv2.imread(r'/content/gdrive/MyDrive/dataset/T51+T52BAD+T53BAD+T54BAD+T57BAD +T58BAD/Test/good_dataset/DJI_0957.jpg')\n",
        "test_img=cv2.resize(test_img,(380,380))\n",
        "test_img\n",
        "img=np.asarray(test_img)\n",
        "img.shape\n",
        "from copy import deepcopy\n",
        "img_2=deepcopy(img)\n",
        "images=[img,img_2]\n",
        "prediction=my_model.predict(np.array(images))\n",
        "print(prediction)"
      ],
      "metadata": {
        "colab": {
          "base_uri": "https://localhost:8080/"
        },
        "id": "DMzdCyTLyX7c",
        "outputId": "b61b90f2-4b0e-496e-e0a1-2c82a73cd4d9"
      },
      "execution_count": null,
      "outputs": [
        {
          "output_type": "stream",
          "name": "stdout",
          "text": [
            "1/1 [==============================] - 0s 39ms/step\n",
            "[[0.]\n",
            " [0.]]\n"
          ]
        }
      ]
    },
    {
      "cell_type": "code",
      "source": [
        "import cv2\n",
        "test_img=cv2.imread(r'/content/gdrive/MyDrive/dataset/T51+T52BAD+T53BAD+T54BAD+T57BAD +T58BAD/Test/good_dataset/DJI_0959.jpg')\n",
        "test_img=cv2.resize(test_img,(380,380))\n",
        "test_img\n",
        "img=np.asarray(test_img)\n",
        "img.shape\n",
        "from copy import deepcopy\n",
        "img_2=deepcopy(img)\n",
        "images=[img,img_2]\n",
        "prediction=my_model.predict(np.array(images))\n",
        "print(prediction)"
      ],
      "metadata": {
        "colab": {
          "base_uri": "https://localhost:8080/"
        },
        "id": "0qnLdt6yyYC4",
        "outputId": "3a70a7d5-4b01-4ea7-ec53-64d474b7aeb2"
      },
      "execution_count": null,
      "outputs": [
        {
          "output_type": "stream",
          "name": "stdout",
          "text": [
            "1/1 [==============================] - 0s 34ms/step\n",
            "[[0.]\n",
            " [0.]]\n"
          ]
        }
      ]
    },
    {
      "cell_type": "code",
      "source": [
        "import cv2\n",
        "test_img=cv2.imread(r'/content/gdrive/MyDrive/dataset/T51+T52BAD+T53BAD+T54BAD+T57BAD +T58BAD/Test/good_dataset/DJI_0961.jpg')\n",
        "test_img=cv2.resize(test_img,(380,380))\n",
        "test_img\n",
        "img=np.asarray(test_img)\n",
        "img.shape\n",
        "from copy import deepcopy\n",
        "img_2=deepcopy(img)\n",
        "images=[img,img_2]\n",
        "prediction=my_model.predict(np.array(images))\n",
        "print(prediction)"
      ],
      "metadata": {
        "colab": {
          "base_uri": "https://localhost:8080/"
        },
        "id": "6QvAIQdKyYJq",
        "outputId": "ee0ff73f-dd9b-4da4-fe90-a46fc11a74d1"
      },
      "execution_count": null,
      "outputs": [
        {
          "output_type": "stream",
          "name": "stdout",
          "text": [
            "1/1 [==============================] - 0s 32ms/step\n",
            "[[0.]\n",
            " [0.]]\n"
          ]
        }
      ]
    },
    {
      "cell_type": "code",
      "source": [
        "import cv2\n",
        "test_img=cv2.imread(r'/content/gdrive/MyDrive/dataset/T51+T52BAD+T53BAD+T54BAD+T57BAD +T58BAD/Test/good_dataset/DJI_0963.jpg')\n",
        "test_img=cv2.resize(test_img,(380,380))\n",
        "test_img\n",
        "img=np.asarray(test_img)\n",
        "img.shape\n",
        "from copy import deepcopy\n",
        "img_2=deepcopy(img)\n",
        "images=[img,img_2]\n",
        "prediction=my_model.predict(np.array(images))\n",
        "print(prediction)"
      ],
      "metadata": {
        "colab": {
          "base_uri": "https://localhost:8080/"
        },
        "id": "Wo_axcLWyYSg",
        "outputId": "5c9cdbaf-a7ec-4ac7-f827-12423523b679"
      },
      "execution_count": null,
      "outputs": [
        {
          "output_type": "stream",
          "name": "stdout",
          "text": [
            "1/1 [==============================] - 0s 32ms/step\n",
            "[[1.5816508e-38]\n",
            " [1.5816508e-38]]\n"
          ]
        }
      ]
    },
    {
      "cell_type": "code",
      "source": [
        "import cv2\n",
        "test_img=cv2.imread(r'/content/gdrive/MyDrive/dataset/T51+T52BAD+T53BAD+T54BAD+T57BAD +T58BAD/Test/good_dataset/DJI_0965.jpg')\n",
        "test_img=cv2.resize(test_img,(380,380))\n",
        "test_img\n",
        "img=np.asarray(test_img)\n",
        "img.shape\n",
        "from copy import deepcopy\n",
        "img_2=deepcopy(img)\n",
        "images=[img,img_2]\n",
        "prediction=my_model.predict(np.array(images))\n",
        "print(prediction)"
      ],
      "metadata": {
        "colab": {
          "base_uri": "https://localhost:8080/"
        },
        "id": "NRMlsbE6ytLP",
        "outputId": "2d189271-77f3-43be-f1c6-e3a84f1129c2"
      },
      "execution_count": null,
      "outputs": [
        {
          "output_type": "stream",
          "name": "stdout",
          "text": [
            "1/1 [==============================] - 0s 66ms/step\n",
            "[[0.]\n",
            " [0.]]\n"
          ]
        }
      ]
    },
    {
      "cell_type": "code",
      "source": [
        "import cv2\n",
        "test_img=cv2.imread(r'/content/gdrive/MyDrive/dataset/T51+T52BAD+T53BAD+T54BAD+T57BAD +T58BAD/Test/good_dataset/DJI_0967.jpg')\n",
        "test_img=cv2.resize(test_img,(380,380))\n",
        "test_img\n",
        "img=np.asarray(test_img)\n",
        "img.shape\n",
        "from copy import deepcopy\n",
        "img_2=deepcopy(img)\n",
        "images=[img,img_2]\n",
        "prediction=my_model.predict(np.array(images))\n",
        "print(prediction)"
      ],
      "metadata": {
        "colab": {
          "base_uri": "https://localhost:8080/"
        },
        "id": "d8uBtuiXyuC5",
        "outputId": "13b137c6-8402-4fc8-8a7d-aa3f534c3e5c"
      },
      "execution_count": null,
      "outputs": [
        {
          "output_type": "stream",
          "name": "stdout",
          "text": [
            "1/1 [==============================] - 0s 32ms/step\n",
            "[[8.478683e-28]\n",
            " [8.478683e-28]]\n"
          ]
        }
      ]
    },
    {
      "cell_type": "code",
      "source": [
        "import cv2\n",
        "test_img=cv2.imread(r'/content/gdrive/MyDrive/dataset/T51+T52BAD+T53BAD+T54BAD+T57BAD +T58BAD/Test/good_dataset/DJI_0969.jpg')\n",
        "test_img=cv2.resize(test_img,(380,380))\n",
        "test_img\n",
        "img=np.asarray(test_img)\n",
        "img.shape\n",
        "from copy import deepcopy\n",
        "img_2=deepcopy(img)\n",
        "images=[img,img_2]\n",
        "prediction=my_model.predict(np.array(images))\n",
        "print(prediction)"
      ],
      "metadata": {
        "colab": {
          "base_uri": "https://localhost:8080/"
        },
        "id": "14icMaZHyuKO",
        "outputId": "b047f7a3-12f8-458f-baf9-40013199c7d8"
      },
      "execution_count": null,
      "outputs": [
        {
          "output_type": "stream",
          "name": "stdout",
          "text": [
            "1/1 [==============================] - 0s 31ms/step\n",
            "[[1.4783091e-24]\n",
            " [1.4783091e-24]]\n"
          ]
        }
      ]
    },
    {
      "cell_type": "code",
      "source": [
        "import cv2\n",
        "test_img=cv2.imread(r'/content/gdrive/MyDrive/dataset/T51+T52BAD+T53BAD+T54BAD+T57BAD +T58BAD/Test/good_dataset/DJI_0971.jpg')\n",
        "test_img=cv2.resize(test_img,(380,380))\n",
        "test_img\n",
        "img=np.asarray(test_img)\n",
        "img.shape\n",
        "from copy import deepcopy\n",
        "img_2=deepcopy(img)\n",
        "images=[img,img_2]\n",
        "prediction=my_model.predict(np.array(images))\n",
        "print(prediction)"
      ],
      "metadata": {
        "colab": {
          "base_uri": "https://localhost:8080/"
        },
        "id": "63qU-ty-yuSH",
        "outputId": "99f5d23d-b810-4e19-e6f0-cf2d23f3ab83"
      },
      "execution_count": null,
      "outputs": [
        {
          "output_type": "stream",
          "name": "stdout",
          "text": [
            "1/1 [==============================] - 0s 56ms/step\n",
            "[[8.5514155e-27]\n",
            " [8.5514155e-27]]\n"
          ]
        }
      ]
    },
    {
      "cell_type": "code",
      "source": [
        "import cv2\n",
        "test_img=cv2.imread(r'/content/gdrive/MyDrive/dataset/T51+T52BAD+T53BAD+T54BAD+T57BAD +T58BAD/Test/good_dataset/DJI_0973.jpg')\n",
        "test_img=cv2.resize(test_img,(380,380))\n",
        "test_img\n",
        "img=np.asarray(test_img)\n",
        "img.shape\n",
        "from copy import deepcopy\n",
        "img_2=deepcopy(img)\n",
        "images=[img,img_2]\n",
        "prediction=my_model.predict(np.array(images))\n",
        "print(prediction)"
      ],
      "metadata": {
        "colab": {
          "base_uri": "https://localhost:8080/"
        },
        "id": "ESVvGvT5yuYN",
        "outputId": "d88d09dc-eda6-4753-ca2f-6b7290059be9"
      },
      "execution_count": null,
      "outputs": [
        {
          "output_type": "stream",
          "name": "stdout",
          "text": [
            "1/1 [==============================] - 0s 32ms/step\n",
            "[[2.1782656e-25]\n",
            " [2.1782656e-25]]\n"
          ]
        }
      ]
    },
    {
      "cell_type": "code",
      "source": [
        "import cv2\n",
        "test_img=cv2.imread(r'/content/gdrive/MyDrive/dataset/T51+T52BAD+T53BAD+T54BAD+T57BAD +T58BAD/Test/good_dataset/DJI_0975.jpg')\n",
        "test_img=cv2.resize(test_img,(380,380))\n",
        "test_img\n",
        "img=np.asarray(test_img)\n",
        "img.shape\n",
        "from copy import deepcopy\n",
        "img_2=deepcopy(img)\n",
        "images=[img,img_2]\n",
        "prediction=my_model.predict(np.array(images))\n",
        "print(prediction)"
      ],
      "metadata": {
        "colab": {
          "base_uri": "https://localhost:8080/"
        },
        "id": "Ut-PpBexyueH",
        "outputId": "c6a126a4-c7ec-44a2-828d-26b62eca2b01"
      },
      "execution_count": null,
      "outputs": [
        {
          "output_type": "stream",
          "name": "stdout",
          "text": [
            "1/1 [==============================] - 0s 48ms/step\n",
            "[[2.2061403e-15]\n",
            " [2.2061403e-15]]\n"
          ]
        }
      ]
    },
    {
      "cell_type": "code",
      "source": [
        "import cv2\n",
        "test_img=cv2.imread(r'/content/gdrive/MyDrive/dataset/T51+T52BAD+T53BAD+T54BAD+T57BAD +T58BAD/Test/good_dataset/DJI_0977.jpg')\n",
        "test_img=cv2.resize(test_img,(380,380))\n",
        "test_img\n",
        "img=np.asarray(test_img)\n",
        "img.shape\n",
        "from copy import deepcopy\n",
        "img_2=deepcopy(img)\n",
        "images=[img,img_2]\n",
        "prediction=my_model.predict(np.array(images))\n",
        "print(prediction)"
      ],
      "metadata": {
        "colab": {
          "base_uri": "https://localhost:8080/"
        },
        "id": "JMWmEvNNyukI",
        "outputId": "3e10032c-7d5b-466e-e2a6-33c857c2324b"
      },
      "execution_count": null,
      "outputs": [
        {
          "output_type": "stream",
          "name": "stdout",
          "text": [
            "1/1 [==============================] - 0s 33ms/step\n",
            "[[2.6722784e-05]\n",
            " [2.6722784e-05]]\n"
          ]
        }
      ]
    },
    {
      "cell_type": "code",
      "source": [
        "import cv2\n",
        "test_img=cv2.imread(r'/content/gdrive/MyDrive/dataset/T51+T52BAD+T53BAD+T54BAD+T57BAD +T58BAD/Test/good_dataset/DJI_0979.jpg')\n",
        "test_img=cv2.resize(test_img,(380,380))\n",
        "test_img\n",
        "img=np.asarray(test_img)\n",
        "img.shape\n",
        "from copy import deepcopy\n",
        "img_2=deepcopy(img)\n",
        "images=[img,img_2]\n",
        "prediction=my_model.predict(np.array(images))\n",
        "print(prediction)"
      ],
      "metadata": {
        "colab": {
          "base_uri": "https://localhost:8080/"
        },
        "id": "bLMJknWkyup-",
        "outputId": "0e973f58-693c-4705-971a-3688a8f34046"
      },
      "execution_count": null,
      "outputs": [
        {
          "output_type": "stream",
          "name": "stdout",
          "text": [
            "1/1 [==============================] - 0s 33ms/step\n",
            "[[8.2351057e-11]\n",
            " [8.2351057e-11]]\n"
          ]
        }
      ]
    },
    {
      "cell_type": "code",
      "source": [
        "import cv2\n",
        "test_img=cv2.imread(r'/content/gdrive/MyDrive/dataset/T51+T52BAD+T53BAD+T54BAD+T57BAD +T58BAD/Test/good_dataset/DJI_0981.jpg')\n",
        "test_img=cv2.resize(test_img,(380,380))\n",
        "test_img\n",
        "img=np.asarray(test_img)\n",
        "img.shape\n",
        "from copy import deepcopy\n",
        "img_2=deepcopy(img)\n",
        "images=[img,img_2]\n",
        "prediction=my_model.predict(np.array(images))\n",
        "print(prediction)"
      ],
      "metadata": {
        "colab": {
          "base_uri": "https://localhost:8080/"
        },
        "id": "by582it0yu03",
        "outputId": "f97ece1f-927c-457c-afa1-84a3ede6239c"
      },
      "execution_count": null,
      "outputs": [
        {
          "output_type": "stream",
          "name": "stdout",
          "text": [
            "1/1 [==============================] - 0s 52ms/step\n",
            "[[3.6123332e-10]\n",
            " [3.6123332e-10]]\n"
          ]
        }
      ]
    },
    {
      "cell_type": "code",
      "source": [
        "import cv2\n",
        "test_img=cv2.imread(r'/content/gdrive/MyDrive/dataset/T51+T52BAD+T53BAD+T54BAD+T57BAD +T58BAD/Test/good_dataset/DJI_0983.jpg')\n",
        "test_img=cv2.resize(test_img,(380,380))\n",
        "test_img\n",
        "img=np.asarray(test_img)\n",
        "img.shape\n",
        "from copy import deepcopy\n",
        "img_2=deepcopy(img)\n",
        "images=[img,img_2]\n",
        "prediction=my_model.predict(np.array(images))\n",
        "print(prediction)"
      ],
      "metadata": {
        "colab": {
          "base_uri": "https://localhost:8080/"
        },
        "id": "StoG_JBTyu7E",
        "outputId": "c0c0248b-fa1e-4691-c986-9e0afce68f57"
      },
      "execution_count": null,
      "outputs": [
        {
          "output_type": "stream",
          "name": "stdout",
          "text": [
            "1/1 [==============================] - 0s 35ms/step\n",
            "[[0.00103394]\n",
            " [0.00103394]]\n"
          ]
        }
      ]
    },
    {
      "cell_type": "code",
      "source": [
        "import cv2\n",
        "test_img=cv2.imread(r'/content/gdrive/MyDrive/dataset/T51+T52BAD+T53BAD+T54BAD+T57BAD +T58BAD/Test/good_dataset/DJI_0985.jpg')\n",
        "test_img=cv2.resize(test_img,(380,380))\n",
        "test_img\n",
        "img=np.asarray(test_img)\n",
        "img.shape\n",
        "from copy import deepcopy\n",
        "img_2=deepcopy(img)\n",
        "images=[img,img_2]\n",
        "prediction=my_model.predict(np.array(images))\n",
        "print(prediction)"
      ],
      "metadata": {
        "colab": {
          "base_uri": "https://localhost:8080/"
        },
        "id": "0gBAmN6jyvA8",
        "outputId": "bbc1b45e-c291-418c-880c-e7138a28f221"
      },
      "execution_count": null,
      "outputs": [
        {
          "output_type": "stream",
          "name": "stdout",
          "text": [
            "1/1 [==============================] - 0s 32ms/step\n",
            "[[0.9930188]\n",
            " [0.9930188]]\n"
          ]
        }
      ]
    },
    {
      "cell_type": "code",
      "source": [
        "import cv2\n",
        "test_img=cv2.imread(r'/content/gdrive/MyDrive/dataset/T51+T52BAD+T53BAD+T54BAD+T57BAD +T58BAD/Test/good_dataset/DJI_0987.jpg')\n",
        "test_img=cv2.resize(test_img,(380,380))\n",
        "test_img\n",
        "img=np.asarray(test_img)\n",
        "img.shape\n",
        "from copy import deepcopy\n",
        "img_2=deepcopy(img)\n",
        "images=[img,img_2]\n",
        "prediction=my_model.predict(np.array(images))\n",
        "print(prediction)"
      ],
      "metadata": {
        "colab": {
          "base_uri": "https://localhost:8080/"
        },
        "id": "ARXQVo0ryvG0",
        "outputId": "08afcc90-a65f-4e9b-9bf3-375a60151752"
      },
      "execution_count": null,
      "outputs": [
        {
          "output_type": "stream",
          "name": "stdout",
          "text": [
            "1/1 [==============================] - 0s 34ms/step\n",
            "[[0.16461892]\n",
            " [0.16461892]]\n"
          ]
        }
      ]
    },
    {
      "cell_type": "code",
      "source": [
        "import cv2\n",
        "test_img=cv2.imread(r'/content/gdrive/MyDrive/dataset/T51+T52BAD+T53BAD+T54BAD+T57BAD +T58BAD/Test/good_dataset/DJI_0989.jpg')\n",
        "test_img=cv2.resize(test_img,(380,380))\n",
        "test_img\n",
        "img=np.asarray(test_img)\n",
        "img.shape\n",
        "from copy import deepcopy\n",
        "img_2=deepcopy(img)\n",
        "images=[img,img_2]\n",
        "prediction=my_model.predict(np.array(images))\n",
        "print(prediction)"
      ],
      "metadata": {
        "colab": {
          "base_uri": "https://localhost:8080/"
        },
        "id": "ClPU_En8yvNC",
        "outputId": "6aa6548e-bc78-4fc2-86bb-d4d99142e900"
      },
      "execution_count": null,
      "outputs": [
        {
          "output_type": "stream",
          "name": "stdout",
          "text": [
            "1/1 [==============================] - 0s 48ms/step\n",
            "[[3.7841306e-07]\n",
            " [3.7841306e-07]]\n"
          ]
        }
      ]
    },
    {
      "cell_type": "code",
      "source": [
        "import cv2\n",
        "test_img=cv2.imread(r'/content/gdrive/MyDrive/dataset/T51+T52BAD+T53BAD+T54BAD+T57BAD +T58BAD/Test/good_dataset/DJI_0991.jpg')\n",
        "test_img=cv2.resize(test_img,(380,380))\n",
        "test_img\n",
        "img=np.asarray(test_img)\n",
        "img.shape\n",
        "from copy import deepcopy\n",
        "img_2=deepcopy(img)\n",
        "images=[img,img_2]\n",
        "prediction=my_model.predict(np.array(images))\n",
        "print(prediction)"
      ],
      "metadata": {
        "colab": {
          "base_uri": "https://localhost:8080/"
        },
        "outputId": "d763f5c7-5c3c-4d1b-b20e-7e812e69adb9",
        "id": "W122F5OD4qCa"
      },
      "execution_count": null,
      "outputs": [
        {
          "output_type": "stream",
          "name": "stdout",
          "text": [
            "1/1 [==============================] - 0s 35ms/step\n",
            "[[9.611011e-14]\n",
            " [9.611011e-14]]\n"
          ]
        }
      ]
    },
    {
      "cell_type": "code",
      "source": [
        "import cv2\n",
        "test_img=cv2.imread(r'/content/gdrive/MyDrive/dataset/T51+T52BAD+T53BAD+T54BAD+T57BAD +T58BAD/Test/good_dataset/DJI_0993.jpg')\n",
        "test_img=cv2.resize(test_img,(380,380))\n",
        "test_img\n",
        "img=np.asarray(test_img)\n",
        "img.shape\n",
        "from copy import deepcopy\n",
        "img_2=deepcopy(img)\n",
        "images=[img,img_2]\n",
        "prediction=my_model.predict(np.array(images))\n",
        "print(prediction)"
      ],
      "metadata": {
        "colab": {
          "base_uri": "https://localhost:8080/"
        },
        "outputId": "5f3edad9-34b6-4d52-809e-7ed50bf0498c",
        "id": "DHPfgCAu4rNy"
      },
      "execution_count": null,
      "outputs": [
        {
          "output_type": "stream",
          "name": "stdout",
          "text": [
            "1/1 [==============================] - 0s 33ms/step\n",
            "[[8.545096e-07]\n",
            " [8.545096e-07]]\n"
          ]
        }
      ]
    },
    {
      "cell_type": "code",
      "source": [
        "import cv2\n",
        "test_img=cv2.imread(r'/content/gdrive/MyDrive/dataset/T51+T52BAD+T53BAD+T54BAD+T57BAD +T58BAD/Test/good_dataset/DJI_0995.jpg')\n",
        "test_img=cv2.resize(test_img,(380,380))\n",
        "test_img\n",
        "img=np.asarray(test_img)\n",
        "img.shape\n",
        "from copy import deepcopy\n",
        "img_2=deepcopy(img)\n",
        "images=[img,img_2]\n",
        "prediction=my_model.predict(np.array(images))\n",
        "print(prediction)"
      ],
      "metadata": {
        "colab": {
          "base_uri": "https://localhost:8080/"
        },
        "outputId": "70147a0d-6f3c-43be-eff4-269084539efe",
        "id": "7VXkxegwbZ53"
      },
      "execution_count": null,
      "outputs": [
        {
          "output_type": "stream",
          "name": "stdout",
          "text": [
            "1/1 [==============================] - 0s 51ms/step\n",
            "[[1.]\n",
            " [1.]]\n"
          ]
        }
      ]
    },
    {
      "cell_type": "code",
      "source": [
        "from sklearn.metrics import classification_report,confusion_matrix\n",
        "truth=['bad','bad','bad','bad','bad','bad','bad','bad','bad','bad','bad','bad','bad','bad','bad','bad','bad','bad','bad','bad','bad','bad','good','good','good','good','good','good','good','good','good','good','good','good','good','good','good','good','good','good','good','good','good','good','good','good','good','good','good','good','good','good','good','good','good','good','good','good','good','good','good','good','good','good','good','good','good','good','good','good','good','good','good','good','good','good','good','good','good','good','good','good','good','good','good','good']\n",
        "prediction=['bad','bad','bad','bad','bad','bad','bad','bad','bad','bad','bad','good','good','good','good','good','bad','bad','bad','good','good','good','bad','good','good','good','good','good','bad','bad','bad','bad','bad','bad','bad','bad','bad','bad','bad','good','good','bad','bad','bad','bad','bad','bad','bad','bad','bad','bad','bad','bad','bad','bad','bad','bad','bad','bad','bad','bad','bad','bad','bad','bad','bad','bad','bad','bad','bad','bad','bad','bad','bad','bad','bad','bad','bad','bad','bad','good','bad','bad','bad','bad','good']\n",
        "print(classification_report(truth,prediction))\n",
        "print(confusion_matrix(truth,prediction))"
      ],
      "metadata": {
        "colab": {
          "base_uri": "https://localhost:8080/"
        },
        "id": "h5iGQqMP3jtY",
        "outputId": "2dccd0b6-789f-4da0-ee1e-076dd004d04e"
      },
      "execution_count": null,
      "outputs": [
        {
          "output_type": "stream",
          "name": "stdout",
          "text": [
            "              precision    recall  f1-score   support\n",
            "\n",
            "         bad       0.20      0.64      0.31        22\n",
            "        good       0.53      0.14      0.22        64\n",
            "\n",
            "    accuracy                           0.27        86\n",
            "   macro avg       0.37      0.39      0.26        86\n",
            "weighted avg       0.45      0.27      0.24        86\n",
            "\n",
            "[[14  8]\n",
            " [55  9]]\n"
          ]
        }
      ]
    },
    {
      "cell_type": "markdown",
      "source": [],
      "metadata": {
        "id": "4OeGk9AS4wSi"
      }
    },
    {
      "cell_type": "markdown",
      "source": [],
      "metadata": {
        "id": "SlaUdcj54wE7"
      }
    }
  ]
}