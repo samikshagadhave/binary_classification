{
  "nbformat": 4,
  "nbformat_minor": 0,
  "metadata": {
    "colab": {
      "provenance": [],
      "gpuType": "T4",
      "authorship_tag": "ABX9TyMHA32YI6B/0p8ltSUkx0Sw",
      "include_colab_link": true
    },
    "kernelspec": {
      "name": "python3",
      "display_name": "Python 3"
    },
    "language_info": {
      "name": "python"
    }
  },
  "cells": [
    {
      "cell_type": "markdown",
      "metadata": {
        "id": "view-in-github",
        "colab_type": "text"
      },
      "source": [
        "<a href=\"https://colab.research.google.com/github/samikshagadhave/binary_classification/blob/main/Binary_classification_for_Good_%26_Bad_dataset_with_EfficientNetB1_model_on_T51%26T52%26T53%26T54%26T57%26T58.ipynb\" target=\"_parent\"><img src=\"https://colab.research.google.com/assets/colab-badge.svg\" alt=\"Open In Colab\"/></a>"
      ]
    },
    {
      "cell_type": "code",
      "execution_count": null,
      "metadata": {
        "colab": {
          "base_uri": "https://localhost:8080/"
        },
        "id": "VOwvAY4KUr8g",
        "outputId": "11c3cd09-4a88-447c-d440-9f1e6da8b518"
      },
      "outputs": [
        {
          "output_type": "stream",
          "name": "stdout",
          "text": [
            "Mounted at /content/gdrive\n"
          ]
        }
      ],
      "source": [
        "from google.colab import drive\n",
        "drive.mount(\"/content/gdrive\")"
      ]
    },
    {
      "cell_type": "code",
      "source": [
        "%cd /content/gdrive"
      ],
      "metadata": {
        "colab": {
          "base_uri": "https://localhost:8080/"
        },
        "id": "Wky_mmEwUvxR",
        "outputId": "4d4b5c82-120e-4953-a7a2-dfe7eeab2b77"
      },
      "execution_count": null,
      "outputs": [
        {
          "output_type": "stream",
          "name": "stdout",
          "text": [
            "/content/gdrive\n"
          ]
        }
      ]
    },
    {
      "cell_type": "code",
      "source": [
        "import pandas as pd\n",
        "\n",
        "df=pd.read_excel(r'/content/gdrive/MyDrive/dataset/T51+T52BAD+T53BAD+T54BAD+T57BAD +T58BAD/Train 1.xlsx')\n",
        "\n",
        "df['OR_Gate']=df['Tower']|df['Transmission line']|df['insulator']|df['vibration damper']\n",
        "#print(df['OR_Gate'])\n",
        "\n",
        "Bad_dataset=list(df[df['OR_Gate']==0][\"Image Name\"])\n",
        "#print(Bad_dataset)\n",
        "\n",
        "Good_dataset=list(df[df['OR_Gate']==1][\"Image Name\"])\n",
        "#print(Good_dataset)\n",
        "path=r\"/content/gdrive/MyDrive/dataset/T51+T52BAD+T53BAD+T54BAD+T57BAD +T58BAD/train/\"\n",
        "\n",
        "img_path_Bad_dataset=r\"/content/gdrive/MyDrive/dataset/T51+T52BAD+T53BAD+T54BAD+T57BAD +T58BAD/Train/bad_dataset/\"\n",
        "\n",
        "img_path_Good_dataset =r\"/content/gdrive/MyDrive/dataset/T51+T52BAD+T53BAD+T54BAD+T57BAD +T58BAD/Train/good_dataset/\"\n",
        "import shutil\n",
        "for i in Bad_dataset:\n",
        "   src_path=path+i\n",
        "   #print(src_path)\n",
        "   dest_path=img_path_Bad_dataset+i\n",
        "   #print(dest_path)\n",
        "   temp=shutil.copy(src_path,dest_path)\n",
        "   #print(temp)\n",
        "   print(\"bad_dataset folder created and relevant images have been moved\")\n",
        "for i in Good_dataset:\n",
        "   src_path=path+i\n",
        "   #print(src_path)\n",
        "   dest_path=img_path_Good_dataset+i\n",
        "   #print(dest_path)\n",
        "   temp=shutil.copy(src_path, dest_path)\n",
        "   print(\"good_dataset folder created and relevant images have been moved\")\n",
        "\n",
        "\n",
        "df=pd.read_excel(r'/content/gdrive/MyDrive/dataset/T51+T52BAD+T53BAD+T54BAD+T57BAD +T58BAD/Test 1.xlsx')\n",
        "\n",
        "df['OR_Gate']=df['Tower']|df['Transmission line']|df['insulator']|df['vibration damper']\n",
        "#print(df['OR_Gate'])\n",
        "\n",
        "Bad_dataset=list(df[df['OR_Gate']==0][\"Image Name\"])\n",
        "Good_dataset=list(df[df['OR_Gate']==1][\"Image Name\"])\n",
        "#print(Good_dataset)\n",
        "path=r\"/content/gdrive/MyDrive/dataset/T51+T52BAD+T53BAD+T54BAD+T57BAD +T58BAD/test/\"\n",
        "\n",
        "img_path_Bad_dataset=r\"/content/gdrive/MyDrive/dataset/T51+T52BAD+T53BAD+T54BAD+T57BAD +T58BAD/Test/bad_dataset/\"\n",
        "img_path_Good_dataset =r\"/content/gdrive/MyDrive/dataset/T51+T52BAD+T53BAD+T54BAD+T57BAD +T58BAD/Test/good_dataset/\"\n",
        "import shutil\n",
        "for i in Bad_dataset:\n",
        "   src_path=path+i\n",
        "   #print(src_path)\n",
        "   dest_path=img_path_Bad_dataset+i\n",
        "   #print(dest_path)\n",
        "   temp=shutil.copy(src_path,dest_path)\n",
        "   #print(temp)\n",
        "   print(\"bad_dataset folder created and relevant images have been moved\")\n",
        "for i in Good_dataset:\n",
        "   src_path=path+i\n",
        "   #print(src_path)\n",
        "   dest_path=img_path_Good_dataset+i\n",
        "   #print(dest_path)\n",
        "   temp=shutil.copy(src_path, dest_path)\n",
        "   print(\"good_dataset folder created and relevant images have been moved\")\n"
      ],
      "metadata": {
        "colab": {
          "base_uri": "https://localhost:8080/"
        },
        "id": "du5chXxegJnn",
        "outputId": "95e3c047-6761-40c1-a241-c3f267cb51e7"
      },
      "execution_count": null,
      "outputs": [
        {
          "output_type": "stream",
          "name": "stdout",
          "text": [
            "bad_dataset folder created and relevant images have been moved\n",
            "bad_dataset folder created and relevant images have been moved\n",
            "bad_dataset folder created and relevant images have been moved\n",
            "bad_dataset folder created and relevant images have been moved\n",
            "bad_dataset folder created and relevant images have been moved\n",
            "bad_dataset folder created and relevant images have been moved\n",
            "bad_dataset folder created and relevant images have been moved\n",
            "bad_dataset folder created and relevant images have been moved\n",
            "bad_dataset folder created and relevant images have been moved\n",
            "bad_dataset folder created and relevant images have been moved\n",
            "bad_dataset folder created and relevant images have been moved\n",
            "bad_dataset folder created and relevant images have been moved\n",
            "bad_dataset folder created and relevant images have been moved\n",
            "bad_dataset folder created and relevant images have been moved\n",
            "bad_dataset folder created and relevant images have been moved\n",
            "bad_dataset folder created and relevant images have been moved\n",
            "bad_dataset folder created and relevant images have been moved\n",
            "bad_dataset folder created and relevant images have been moved\n",
            "bad_dataset folder created and relevant images have been moved\n",
            "bad_dataset folder created and relevant images have been moved\n",
            "bad_dataset folder created and relevant images have been moved\n",
            "bad_dataset folder created and relevant images have been moved\n",
            "bad_dataset folder created and relevant images have been moved\n",
            "bad_dataset folder created and relevant images have been moved\n",
            "bad_dataset folder created and relevant images have been moved\n",
            "bad_dataset folder created and relevant images have been moved\n",
            "bad_dataset folder created and relevant images have been moved\n",
            "bad_dataset folder created and relevant images have been moved\n",
            "bad_dataset folder created and relevant images have been moved\n",
            "bad_dataset folder created and relevant images have been moved\n",
            "bad_dataset folder created and relevant images have been moved\n",
            "bad_dataset folder created and relevant images have been moved\n",
            "bad_dataset folder created and relevant images have been moved\n",
            "bad_dataset folder created and relevant images have been moved\n",
            "good_dataset folder created and relevant images have been moved\n",
            "good_dataset folder created and relevant images have been moved\n",
            "good_dataset folder created and relevant images have been moved\n",
            "good_dataset folder created and relevant images have been moved\n",
            "good_dataset folder created and relevant images have been moved\n",
            "good_dataset folder created and relevant images have been moved\n",
            "good_dataset folder created and relevant images have been moved\n",
            "good_dataset folder created and relevant images have been moved\n",
            "good_dataset folder created and relevant images have been moved\n",
            "good_dataset folder created and relevant images have been moved\n",
            "good_dataset folder created and relevant images have been moved\n",
            "good_dataset folder created and relevant images have been moved\n",
            "good_dataset folder created and relevant images have been moved\n",
            "good_dataset folder created and relevant images have been moved\n",
            "good_dataset folder created and relevant images have been moved\n",
            "good_dataset folder created and relevant images have been moved\n",
            "good_dataset folder created and relevant images have been moved\n",
            "good_dataset folder created and relevant images have been moved\n",
            "good_dataset folder created and relevant images have been moved\n",
            "good_dataset folder created and relevant images have been moved\n",
            "good_dataset folder created and relevant images have been moved\n",
            "good_dataset folder created and relevant images have been moved\n",
            "good_dataset folder created and relevant images have been moved\n",
            "good_dataset folder created and relevant images have been moved\n",
            "good_dataset folder created and relevant images have been moved\n",
            "good_dataset folder created and relevant images have been moved\n",
            "good_dataset folder created and relevant images have been moved\n",
            "good_dataset folder created and relevant images have been moved\n",
            "good_dataset folder created and relevant images have been moved\n",
            "good_dataset folder created and relevant images have been moved\n",
            "good_dataset folder created and relevant images have been moved\n",
            "good_dataset folder created and relevant images have been moved\n",
            "good_dataset folder created and relevant images have been moved\n",
            "good_dataset folder created and relevant images have been moved\n",
            "good_dataset folder created and relevant images have been moved\n",
            "good_dataset folder created and relevant images have been moved\n",
            "good_dataset folder created and relevant images have been moved\n",
            "good_dataset folder created and relevant images have been moved\n",
            "good_dataset folder created and relevant images have been moved\n",
            "good_dataset folder created and relevant images have been moved\n",
            "good_dataset folder created and relevant images have been moved\n",
            "good_dataset folder created and relevant images have been moved\n",
            "good_dataset folder created and relevant images have been moved\n",
            "good_dataset folder created and relevant images have been moved\n",
            "good_dataset folder created and relevant images have been moved\n",
            "good_dataset folder created and relevant images have been moved\n",
            "good_dataset folder created and relevant images have been moved\n",
            "good_dataset folder created and relevant images have been moved\n",
            "good_dataset folder created and relevant images have been moved\n",
            "good_dataset folder created and relevant images have been moved\n",
            "good_dataset folder created and relevant images have been moved\n",
            "good_dataset folder created and relevant images have been moved\n",
            "good_dataset folder created and relevant images have been moved\n",
            "good_dataset folder created and relevant images have been moved\n",
            "good_dataset folder created and relevant images have been moved\n",
            "good_dataset folder created and relevant images have been moved\n",
            "good_dataset folder created and relevant images have been moved\n",
            "good_dataset folder created and relevant images have been moved\n",
            "good_dataset folder created and relevant images have been moved\n",
            "good_dataset folder created and relevant images have been moved\n",
            "good_dataset folder created and relevant images have been moved\n",
            "good_dataset folder created and relevant images have been moved\n",
            "good_dataset folder created and relevant images have been moved\n",
            "good_dataset folder created and relevant images have been moved\n",
            "good_dataset folder created and relevant images have been moved\n",
            "good_dataset folder created and relevant images have been moved\n",
            "good_dataset folder created and relevant images have been moved\n",
            "good_dataset folder created and relevant images have been moved\n",
            "good_dataset folder created and relevant images have been moved\n",
            "good_dataset folder created and relevant images have been moved\n",
            "good_dataset folder created and relevant images have been moved\n",
            "good_dataset folder created and relevant images have been moved\n",
            "good_dataset folder created and relevant images have been moved\n",
            "good_dataset folder created and relevant images have been moved\n",
            "good_dataset folder created and relevant images have been moved\n",
            "good_dataset folder created and relevant images have been moved\n",
            "good_dataset folder created and relevant images have been moved\n",
            "good_dataset folder created and relevant images have been moved\n",
            "good_dataset folder created and relevant images have been moved\n",
            "good_dataset folder created and relevant images have been moved\n",
            "good_dataset folder created and relevant images have been moved\n",
            "good_dataset folder created and relevant images have been moved\n",
            "good_dataset folder created and relevant images have been moved\n",
            "good_dataset folder created and relevant images have been moved\n",
            "good_dataset folder created and relevant images have been moved\n",
            "good_dataset folder created and relevant images have been moved\n",
            "good_dataset folder created and relevant images have been moved\n",
            "good_dataset folder created and relevant images have been moved\n",
            "good_dataset folder created and relevant images have been moved\n",
            "good_dataset folder created and relevant images have been moved\n",
            "good_dataset folder created and relevant images have been moved\n",
            "good_dataset folder created and relevant images have been moved\n",
            "good_dataset folder created and relevant images have been moved\n",
            "good_dataset folder created and relevant images have been moved\n",
            "good_dataset folder created and relevant images have been moved\n",
            "good_dataset folder created and relevant images have been moved\n",
            "good_dataset folder created and relevant images have been moved\n",
            "good_dataset folder created and relevant images have been moved\n",
            "good_dataset folder created and relevant images have been moved\n",
            "good_dataset folder created and relevant images have been moved\n",
            "good_dataset folder created and relevant images have been moved\n",
            "good_dataset folder created and relevant images have been moved\n",
            "good_dataset folder created and relevant images have been moved\n",
            "good_dataset folder created and relevant images have been moved\n",
            "good_dataset folder created and relevant images have been moved\n",
            "good_dataset folder created and relevant images have been moved\n",
            "good_dataset folder created and relevant images have been moved\n",
            "good_dataset folder created and relevant images have been moved\n",
            "good_dataset folder created and relevant images have been moved\n",
            "good_dataset folder created and relevant images have been moved\n",
            "good_dataset folder created and relevant images have been moved\n",
            "good_dataset folder created and relevant images have been moved\n",
            "good_dataset folder created and relevant images have been moved\n",
            "good_dataset folder created and relevant images have been moved\n",
            "good_dataset folder created and relevant images have been moved\n",
            "good_dataset folder created and relevant images have been moved\n",
            "good_dataset folder created and relevant images have been moved\n",
            "good_dataset folder created and relevant images have been moved\n",
            "good_dataset folder created and relevant images have been moved\n",
            "good_dataset folder created and relevant images have been moved\n",
            "good_dataset folder created and relevant images have been moved\n",
            "good_dataset folder created and relevant images have been moved\n",
            "good_dataset folder created and relevant images have been moved\n",
            "good_dataset folder created and relevant images have been moved\n",
            "good_dataset folder created and relevant images have been moved\n",
            "good_dataset folder created and relevant images have been moved\n",
            "good_dataset folder created and relevant images have been moved\n",
            "good_dataset folder created and relevant images have been moved\n",
            "good_dataset folder created and relevant images have been moved\n",
            "good_dataset folder created and relevant images have been moved\n",
            "good_dataset folder created and relevant images have been moved\n",
            "good_dataset folder created and relevant images have been moved\n",
            "good_dataset folder created and relevant images have been moved\n",
            "good_dataset folder created and relevant images have been moved\n",
            "good_dataset folder created and relevant images have been moved\n",
            "good_dataset folder created and relevant images have been moved\n",
            "good_dataset folder created and relevant images have been moved\n",
            "good_dataset folder created and relevant images have been moved\n",
            "good_dataset folder created and relevant images have been moved\n",
            "good_dataset folder created and relevant images have been moved\n",
            "good_dataset folder created and relevant images have been moved\n",
            "good_dataset folder created and relevant images have been moved\n",
            "good_dataset folder created and relevant images have been moved\n",
            "good_dataset folder created and relevant images have been moved\n",
            "good_dataset folder created and relevant images have been moved\n",
            "good_dataset folder created and relevant images have been moved\n",
            "good_dataset folder created and relevant images have been moved\n",
            "good_dataset folder created and relevant images have been moved\n",
            "good_dataset folder created and relevant images have been moved\n",
            "good_dataset folder created and relevant images have been moved\n",
            "good_dataset folder created and relevant images have been moved\n",
            "good_dataset folder created and relevant images have been moved\n",
            "good_dataset folder created and relevant images have been moved\n",
            "good_dataset folder created and relevant images have been moved\n",
            "good_dataset folder created and relevant images have been moved\n",
            "good_dataset folder created and relevant images have been moved\n",
            "good_dataset folder created and relevant images have been moved\n",
            "good_dataset folder created and relevant images have been moved\n",
            "good_dataset folder created and relevant images have been moved\n",
            "good_dataset folder created and relevant images have been moved\n",
            "good_dataset folder created and relevant images have been moved\n",
            "good_dataset folder created and relevant images have been moved\n",
            "good_dataset folder created and relevant images have been moved\n",
            "good_dataset folder created and relevant images have been moved\n",
            "good_dataset folder created and relevant images have been moved\n",
            "bad_dataset folder created and relevant images have been moved\n",
            "bad_dataset folder created and relevant images have been moved\n",
            "bad_dataset folder created and relevant images have been moved\n",
            "bad_dataset folder created and relevant images have been moved\n",
            "bad_dataset folder created and relevant images have been moved\n",
            "bad_dataset folder created and relevant images have been moved\n",
            "bad_dataset folder created and relevant images have been moved\n",
            "bad_dataset folder created and relevant images have been moved\n",
            "bad_dataset folder created and relevant images have been moved\n",
            "bad_dataset folder created and relevant images have been moved\n",
            "bad_dataset folder created and relevant images have been moved\n",
            "bad_dataset folder created and relevant images have been moved\n",
            "bad_dataset folder created and relevant images have been moved\n",
            "bad_dataset folder created and relevant images have been moved\n",
            "bad_dataset folder created and relevant images have been moved\n",
            "bad_dataset folder created and relevant images have been moved\n",
            "bad_dataset folder created and relevant images have been moved\n",
            "bad_dataset folder created and relevant images have been moved\n",
            "bad_dataset folder created and relevant images have been moved\n",
            "bad_dataset folder created and relevant images have been moved\n",
            "bad_dataset folder created and relevant images have been moved\n",
            "bad_dataset folder created and relevant images have been moved\n",
            "good_dataset folder created and relevant images have been moved\n",
            "good_dataset folder created and relevant images have been moved\n",
            "good_dataset folder created and relevant images have been moved\n",
            "good_dataset folder created and relevant images have been moved\n",
            "good_dataset folder created and relevant images have been moved\n",
            "good_dataset folder created and relevant images have been moved\n",
            "good_dataset folder created and relevant images have been moved\n",
            "good_dataset folder created and relevant images have been moved\n",
            "good_dataset folder created and relevant images have been moved\n",
            "good_dataset folder created and relevant images have been moved\n",
            "good_dataset folder created and relevant images have been moved\n",
            "good_dataset folder created and relevant images have been moved\n",
            "good_dataset folder created and relevant images have been moved\n",
            "good_dataset folder created and relevant images have been moved\n",
            "good_dataset folder created and relevant images have been moved\n",
            "good_dataset folder created and relevant images have been moved\n",
            "good_dataset folder created and relevant images have been moved\n",
            "good_dataset folder created and relevant images have been moved\n",
            "good_dataset folder created and relevant images have been moved\n",
            "good_dataset folder created and relevant images have been moved\n",
            "good_dataset folder created and relevant images have been moved\n",
            "good_dataset folder created and relevant images have been moved\n",
            "good_dataset folder created and relevant images have been moved\n",
            "good_dataset folder created and relevant images have been moved\n",
            "good_dataset folder created and relevant images have been moved\n",
            "good_dataset folder created and relevant images have been moved\n",
            "good_dataset folder created and relevant images have been moved\n",
            "good_dataset folder created and relevant images have been moved\n",
            "good_dataset folder created and relevant images have been moved\n",
            "good_dataset folder created and relevant images have been moved\n",
            "good_dataset folder created and relevant images have been moved\n",
            "good_dataset folder created and relevant images have been moved\n",
            "good_dataset folder created and relevant images have been moved\n",
            "good_dataset folder created and relevant images have been moved\n",
            "good_dataset folder created and relevant images have been moved\n",
            "good_dataset folder created and relevant images have been moved\n",
            "good_dataset folder created and relevant images have been moved\n",
            "good_dataset folder created and relevant images have been moved\n",
            "good_dataset folder created and relevant images have been moved\n",
            "good_dataset folder created and relevant images have been moved\n",
            "good_dataset folder created and relevant images have been moved\n",
            "good_dataset folder created and relevant images have been moved\n",
            "good_dataset folder created and relevant images have been moved\n",
            "good_dataset folder created and relevant images have been moved\n",
            "good_dataset folder created and relevant images have been moved\n",
            "good_dataset folder created and relevant images have been moved\n",
            "good_dataset folder created and relevant images have been moved\n",
            "good_dataset folder created and relevant images have been moved\n",
            "good_dataset folder created and relevant images have been moved\n",
            "good_dataset folder created and relevant images have been moved\n",
            "good_dataset folder created and relevant images have been moved\n",
            "good_dataset folder created and relevant images have been moved\n",
            "good_dataset folder created and relevant images have been moved\n",
            "good_dataset folder created and relevant images have been moved\n",
            "good_dataset folder created and relevant images have been moved\n",
            "good_dataset folder created and relevant images have been moved\n",
            "good_dataset folder created and relevant images have been moved\n",
            "good_dataset folder created and relevant images have been moved\n",
            "good_dataset folder created and relevant images have been moved\n",
            "good_dataset folder created and relevant images have been moved\n",
            "good_dataset folder created and relevant images have been moved\n",
            "good_dataset folder created and relevant images have been moved\n",
            "good_dataset folder created and relevant images have been moved\n",
            "good_dataset folder created and relevant images have been moved\n"
          ]
        }
      ]
    },
    {
      "cell_type": "code",
      "source": [
        "import tensorflow as tf\n",
        "from tensorflow import keras\n",
        "from tensorflow.keras.layers import Input, Lambda, Dense, Flatten,Dropout,Conv2D,GlobalAveragePooling2D\n",
        "from tensorflow.keras.models import Model\n",
        "from tensorflow.keras.preprocessing import image\n",
        "from tensorflow.keras.models import Sequential\n",
        "import numpy as np\n",
        "import pandas as pd\n",
        "import os\n",
        "import cv2\n",
        "import matplotlib.pyplot as plt\n",
        "\n",
        "train_ds=keras.utils.image_dataset_from_directory(\n",
        "    directory=r'/content/gdrive/MyDrive/dataset/T51+T52BAD+T53BAD+T54BAD+T57BAD +T58BAD/Train',\n",
        "    labels='inferred',\n",
        "    label_mode='int',\n",
        "    batch_size=4,\n",
        "    image_size=(240,240)\n",
        ")\n",
        "validation_ds=keras.utils.image_dataset_from_directory(\n",
        "    directory=r'/content/gdrive/MyDrive/dataset/T51+T52BAD+T53BAD+T54BAD+T57BAD +T58BAD/Test',\n",
        "    labels='inferred',\n",
        "    label_mode='int',\n",
        "    batch_size=4,\n",
        "    image_size=(240,240)\n",
        ")\n",
        "print(train_ds)\n",
        "print(validation_ds)\n",
        "from tensorflow.keras.applications import EfficientNetB1\n",
        "model=EfficientNetB1(weights='imagenet',include_top=False,input_shape=(240,240,3))\n",
        "my_model=Sequential([model,\n",
        "                     Conv2D(1024,3,1,activation='relu'),\n",
        "                     GlobalAveragePooling2D(),\n",
        "                     Dense(1024,activation='relu'),\n",
        "                     Dropout(0.2),\n",
        "                     Dense(1024,activation='relu'),\n",
        "                     Dropout(0.2),\n",
        "                     Dense(1,activation='sigmoid'),\n",
        "                     ])\n",
        "\n",
        "my_model.summary()\n",
        "\n",
        "\n"
      ],
      "metadata": {
        "colab": {
          "base_uri": "https://localhost:8080/"
        },
        "id": "RUuIX4ZpZVkT",
        "outputId": "661089c6-ea12-4976-c5f5-f8cbcb2d053e"
      },
      "execution_count": null,
      "outputs": [
        {
          "output_type": "stream",
          "name": "stdout",
          "text": [
            "Found 198 files belonging to 2 classes.\n",
            "Found 86 files belonging to 2 classes.\n",
            "<_BatchDataset element_spec=(TensorSpec(shape=(None, 240, 240, 3), dtype=tf.float32, name=None), TensorSpec(shape=(None,), dtype=tf.int32, name=None))>\n",
            "<_BatchDataset element_spec=(TensorSpec(shape=(None, 240, 240, 3), dtype=tf.float32, name=None), TensorSpec(shape=(None,), dtype=tf.int32, name=None))>\n",
            "Downloading data from https://storage.googleapis.com/keras-applications/efficientnetb1_notop.h5\n",
            "27018416/27018416 [==============================] - 0s 0us/step\n",
            "Model: \"sequential\"\n",
            "_________________________________________________________________\n",
            " Layer (type)                Output Shape              Param #   \n",
            "=================================================================\n",
            " efficientnetb1 (Functional)  (None, 8, 8, 1280)       6575239   \n",
            "                                                                 \n",
            " conv2d (Conv2D)             (None, 6, 6, 1024)        11797504  \n",
            "                                                                 \n",
            " global_average_pooling2d (G  (None, 1024)             0         \n",
            " lobalAveragePooling2D)                                          \n",
            "                                                                 \n",
            " dense (Dense)               (None, 1024)              1049600   \n",
            "                                                                 \n",
            " dropout (Dropout)           (None, 1024)              0         \n",
            "                                                                 \n",
            " dense_1 (Dense)             (None, 1024)              1049600   \n",
            "                                                                 \n",
            " dropout_1 (Dropout)         (None, 1024)              0         \n",
            "                                                                 \n",
            " dense_2 (Dense)             (None, 1)                 1025      \n",
            "                                                                 \n",
            "=================================================================\n",
            "Total params: 20,472,968\n",
            "Trainable params: 20,410,913\n",
            "Non-trainable params: 62,055\n",
            "_________________________________________________________________\n"
          ]
        }
      ]
    },
    {
      "cell_type": "code",
      "source": [
        "train_ds=train_ds.prefetch(tf.data.AUTOTUNE)\n",
        "train_ds"
      ],
      "metadata": {
        "colab": {
          "base_uri": "https://localhost:8080/"
        },
        "id": "22po7AacwVVA",
        "outputId": "ebf4f7f9-d85e-4e48-fcc2-914e60c52e18"
      },
      "execution_count": null,
      "outputs": [
        {
          "output_type": "execute_result",
          "data": {
            "text/plain": [
              "<_PrefetchDataset element_spec=(TensorSpec(shape=(None, 240, 240, 3), dtype=tf.float32, name=None), TensorSpec(shape=(None,), dtype=tf.int32, name=None))>"
            ]
          },
          "metadata": {},
          "execution_count": 5
        }
      ]
    },
    {
      "cell_type": "code",
      "source": [
        "validation_ds=validation_ds.prefetch(tf.data.AUTOTUNE)\n",
        "validation_ds"
      ],
      "metadata": {
        "colab": {
          "base_uri": "https://localhost:8080/"
        },
        "id": "BCb5XD4MwVd9",
        "outputId": "4ebc50d2-333b-4fc0-af42-0902a0fccf8f"
      },
      "execution_count": null,
      "outputs": [
        {
          "output_type": "execute_result",
          "data": {
            "text/plain": [
              "<_PrefetchDataset element_spec=(TensorSpec(shape=(None, 240, 240, 3), dtype=tf.float32, name=None), TensorSpec(shape=(None,), dtype=tf.int32, name=None))>"
            ]
          },
          "metadata": {},
          "execution_count": 6
        }
      ]
    },
    {
      "cell_type": "code",
      "source": [
        "from tensorflow.keras.optimizers import Adam\n",
        "from tensorflow.keras.losses import BinaryCrossentropy\n",
        "from tensorflow.keras import metrics\n",
        "metrics=['accuracy']\n",
        "my_model.compile(loss=BinaryCrossentropy(),optimizer=Adam(learning_rate=0.001),metrics=metrics)"
      ],
      "metadata": {
        "id": "5h6WMWwoxEwl"
      },
      "execution_count": null,
      "outputs": []
    },
    {
      "cell_type": "code",
      "source": [
        "history=my_model.fit(train_ds,epochs=30,validation_data=validation_ds)"
      ],
      "metadata": {
        "colab": {
          "base_uri": "https://localhost:8080/"
        },
        "id": "lgznnIVR-Ihu",
        "outputId": "18e4b03f-20ac-4735-8f5b-45f6b88cb2eb"
      },
      "execution_count": null,
      "outputs": [
        {
          "output_type": "stream",
          "name": "stdout",
          "text": [
            "Epoch 1/30\n",
            "50/50 [==============================] - 98s 469ms/step - loss: 0.9630 - accuracy: 0.7778 - val_loss: 0.6708 - val_accuracy: 0.7674\n",
            "Epoch 2/30\n",
            "50/50 [==============================] - 25s 445ms/step - loss: 0.2597 - accuracy: 0.9242 - val_loss: 1.6100 - val_accuracy: 0.3953\n",
            "Epoch 3/30\n",
            "50/50 [==============================] - 24s 438ms/step - loss: 0.4026 - accuracy: 0.8838 - val_loss: 17.0224 - val_accuracy: 0.8256\n",
            "Epoch 4/30\n",
            "50/50 [==============================] - 22s 403ms/step - loss: 0.3526 - accuracy: 0.9091 - val_loss: 299.8161 - val_accuracy: 0.7442\n",
            "Epoch 5/30\n",
            "50/50 [==============================] - 23s 426ms/step - loss: 0.5977 - accuracy: 0.9141 - val_loss: 2.8480 - val_accuracy: 0.7791\n",
            "Epoch 6/30\n",
            "50/50 [==============================] - 24s 436ms/step - loss: 0.3442 - accuracy: 0.9141 - val_loss: 25.2894 - val_accuracy: 0.8256\n",
            "Epoch 7/30\n",
            "50/50 [==============================] - 22s 400ms/step - loss: 0.6996 - accuracy: 0.8939 - val_loss: 36.5407 - val_accuracy: 0.7442\n",
            "Epoch 8/30\n",
            "50/50 [==============================] - 27s 495ms/step - loss: 0.1585 - accuracy: 0.9293 - val_loss: 0.4928 - val_accuracy: 0.8372\n",
            "Epoch 9/30\n",
            "50/50 [==============================] - 27s 495ms/step - loss: 0.2522 - accuracy: 0.9495 - val_loss: 5.3657 - val_accuracy: 0.5000\n",
            "Epoch 10/30\n",
            "50/50 [==============================] - 27s 496ms/step - loss: 0.0671 - accuracy: 0.9697 - val_loss: 2.4306 - val_accuracy: 0.4884\n",
            "Epoch 11/30\n",
            "50/50 [==============================] - 27s 499ms/step - loss: 0.0565 - accuracy: 0.9798 - val_loss: 9.7724 - val_accuracy: 0.4767\n",
            "Epoch 12/30\n",
            "50/50 [==============================] - 24s 442ms/step - loss: 0.0076 - accuracy: 1.0000 - val_loss: 1.8214 - val_accuracy: 0.7093\n",
            "Epoch 13/30\n",
            "50/50 [==============================] - 24s 442ms/step - loss: 0.0155 - accuracy: 0.9949 - val_loss: 9.4041 - val_accuracy: 0.4767\n",
            "Epoch 14/30\n",
            "50/50 [==============================] - 24s 438ms/step - loss: 0.0449 - accuracy: 0.9848 - val_loss: 4.6356 - val_accuracy: 0.4302\n",
            "Epoch 15/30\n",
            "50/50 [==============================] - 23s 427ms/step - loss: 0.1592 - accuracy: 0.9697 - val_loss: 2.1766 - val_accuracy: 0.5465\n",
            "Epoch 16/30\n",
            "50/50 [==============================] - 23s 408ms/step - loss: 0.1522 - accuracy: 0.9848 - val_loss: 28.8626 - val_accuracy: 0.3837\n",
            "Epoch 17/30\n",
            "50/50 [==============================] - 24s 437ms/step - loss: 0.3974 - accuracy: 0.9242 - val_loss: 0.6020 - val_accuracy: 0.8140\n",
            "Epoch 18/30\n",
            "50/50 [==============================] - 27s 499ms/step - loss: 0.1860 - accuracy: 0.9293 - val_loss: 0.4627 - val_accuracy: 0.8721\n",
            "Epoch 19/30\n",
            "50/50 [==============================] - 24s 441ms/step - loss: 0.0697 - accuracy: 0.9596 - val_loss: 0.5505 - val_accuracy: 0.8140\n",
            "Epoch 20/30\n",
            "50/50 [==============================] - 24s 439ms/step - loss: 0.1465 - accuracy: 0.9394 - val_loss: 0.4750 - val_accuracy: 0.7674\n",
            "Epoch 21/30\n",
            "50/50 [==============================] - 27s 499ms/step - loss: 0.1975 - accuracy: 0.9444 - val_loss: 2.3009 - val_accuracy: 0.5116\n",
            "Epoch 22/30\n",
            "50/50 [==============================] - 27s 504ms/step - loss: 0.0203 - accuracy: 0.9949 - val_loss: 4.8875 - val_accuracy: 0.4767\n",
            "Epoch 23/30\n",
            "50/50 [==============================] - 24s 441ms/step - loss: 0.1252 - accuracy: 0.9545 - val_loss: 0.4939 - val_accuracy: 0.8256\n",
            "Epoch 24/30\n",
            "50/50 [==============================] - 24s 443ms/step - loss: 0.0297 - accuracy: 0.9848 - val_loss: 5.1372 - val_accuracy: 0.5349\n",
            "Epoch 25/30\n",
            "50/50 [==============================] - 27s 501ms/step - loss: 0.0203 - accuracy: 0.9949 - val_loss: 6.7361 - val_accuracy: 0.5116\n",
            "Epoch 26/30\n",
            "50/50 [==============================] - 24s 446ms/step - loss: 0.0969 - accuracy: 0.9697 - val_loss: 31.3503 - val_accuracy: 0.5116\n",
            "Epoch 27/30\n",
            "50/50 [==============================] - 31s 584ms/step - loss: 0.1815 - accuracy: 0.9444 - val_loss: 17.3010 - val_accuracy: 0.4884\n",
            "Epoch 28/30\n",
            "50/50 [==============================] - 42s 776ms/step - loss: 0.2290 - accuracy: 0.9697 - val_loss: 1.8258 - val_accuracy: 0.7558\n",
            "Epoch 29/30\n",
            "50/50 [==============================] - 22s 407ms/step - loss: 0.2114 - accuracy: 0.9242 - val_loss: 0.6892 - val_accuracy: 0.8140\n",
            "Epoch 30/30\n",
            "50/50 [==============================] - 24s 426ms/step - loss: 0.0874 - accuracy: 0.9495 - val_loss: 8.2872 - val_accuracy: 0.5465\n"
          ]
        }
      ]
    },
    {
      "cell_type": "code",
      "source": [
        "import matplotlib.pyplot as plt\n",
        "plt.plot(history.history['accuracy'],color='red',label='train')\n",
        "plt.plot(history.history['val_accuracy'],color='blue',label='validation')\n",
        "plt.legend()\n",
        "plt.show()"
      ],
      "metadata": {
        "colab": {
          "base_uri": "https://localhost:8080/",
          "height": 430
        },
        "id": "9AW9N0mhdrGL",
        "outputId": "68df04ca-1aaa-4318-e64b-4078f2fc5728"
      },
      "execution_count": null,
      "outputs": [
        {
          "output_type": "display_data",
          "data": {
            "text/plain": [
              "<Figure size 640x480 with 1 Axes>"
            ],
            "image/png": "[encoded data removed]"
          },
          "metadata": {}
        }
      ]
    },
    {
      "cell_type": "code",
      "source": [
        "import matplotlib.pyplot as plt\n",
        "plt.plot(history.history['loss'],color='red',label='train')\n",
        "plt.plot(history.history['val_loss'],color='blue',label='validation')\n",
        "plt.legend()\n",
        "plt.show()"
      ],
      "metadata": {
        "colab": {
          "base_uri": "https://localhost:8080/",
          "height": 430
        },
        "id": "1mufzdhkeqIj",
        "outputId": "531bd149-d84c-4c67-877a-4e056fcbdf13"
      },
      "execution_count": null,
      "outputs": [
        {
          "output_type": "display_data",
          "data": {
            "text/plain": [
              "<Figure size 640x480 with 1 Axes>"
            ],
            "image/png": "[encoded data removed]"
          },
          "metadata": {}
        }
      ]
    },
    {
      "cell_type": "code",
      "source": [
        "import cv2\n",
        "test_img=cv2.imread(r'/content/gdrive/MyDrive/dataset/T51+T52BAD+T53BAD+T54BAD+T57BAD +T58BAD/Test/bad_dataset/DJI_0066.jpg')\n",
        "test_img=cv2.resize(test_img,(240,240))\n",
        "test_img\n",
        "img=np.asarray(test_img)\n",
        "img.shape\n",
        "from copy import deepcopy\n",
        "img_2=deepcopy(img)\n",
        "images=[img,img_2]\n",
        "prediction=my_model.predict(np.array(images))\n",
        "print(prediction)"
      ],
      "metadata": {
        "colab": {
          "base_uri": "https://localhost:8080/"
        },
        "id": "qrgURvbWDAfl",
        "outputId": "03e6ff62-5c52-4b92-a919-e590389575a8"
      },
      "execution_count": null,
      "outputs": [
        {
          "output_type": "stream",
          "name": "stdout",
          "text": [
            "1/1 [==============================] - 4s 4s/step\n",
            "[[3.8125872e-08]\n",
            " [3.8125872e-08]]\n"
          ]
        }
      ]
    },
    {
      "cell_type": "code",
      "source": [
        "import cv2\n",
        "test_img=cv2.imread(r'/content/gdrive/MyDrive/dataset/T51+T52BAD+T53BAD+T54BAD+T57BAD +T58BAD/Test/bad_dataset/DJI_0108.jpg')\n",
        "test_img=cv2.resize(test_img,(240,240))\n",
        "test_img\n",
        "img=np.asarray(test_img)\n",
        "img.shape\n",
        "from copy import deepcopy\n",
        "img_2=deepcopy(img)\n",
        "images=[img,img_2]\n",
        "prediction=my_model.predict(np.array(images))\n",
        "print(prediction)"
      ],
      "metadata": {
        "colab": {
          "base_uri": "https://localhost:8080/"
        },
        "outputId": "dfbfe09f-b7cd-4c9b-c921-0a74c26cc908",
        "id": "Cn2jmkXF3V0b"
      },
      "execution_count": null,
      "outputs": [
        {
          "output_type": "stream",
          "name": "stdout",
          "text": [
            "1/1 [==============================] - 0s 42ms/step\n",
            "[[1.1563639e-27]\n",
            " [1.1563639e-27]]\n"
          ]
        }
      ]
    },
    {
      "cell_type": "code",
      "source": [
        "import cv2\n",
        "test_img=cv2.imread(r'/content/gdrive/MyDrive/dataset/T51+T52BAD+T53BAD+T54BAD+T57BAD +T58BAD/Test/bad_dataset/DJI_0110.jpg')\n",
        "test_img=cv2.resize(test_img,(240,240))\n",
        "test_img\n",
        "img=np.asarray(test_img)\n",
        "img.shape\n",
        "from copy import deepcopy\n",
        "img_2=deepcopy(img)\n",
        "images=[img,img_2]\n",
        "prediction=my_model.predict(np.array(images))\n",
        "print(prediction)"
      ],
      "metadata": {
        "colab": {
          "base_uri": "https://localhost:8080/"
        },
        "outputId": "3f6273c5-46d3-40bb-c1ca-757483ff8543",
        "id": "KAzWvPzm3W2x"
      },
      "execution_count": null,
      "outputs": [
        {
          "output_type": "stream",
          "name": "stdout",
          "text": [
            "1/1 [==============================] - 0s 71ms/step\n",
            "[[9.291505e-20]\n",
            " [9.291505e-20]]\n"
          ]
        }
      ]
    },
    {
      "cell_type": "code",
      "source": [
        "import cv2\n",
        "test_img=cv2.imread(r'/content/gdrive/MyDrive/dataset/T51+T52BAD+T53BAD+T54BAD+T57BAD +T58BAD/Test/bad_dataset/DJI_0489.jpg')\n",
        "test_img=cv2.resize(test_img,(240,240))\n",
        "test_img\n",
        "img=np.asarray(test_img)\n",
        "img.shape\n",
        "from copy import deepcopy\n",
        "img_2=deepcopy(img)\n",
        "images=[img,img_2]\n",
        "prediction=my_model.predict(np.array(images))\n",
        "print(prediction)"
      ],
      "metadata": {
        "colab": {
          "base_uri": "https://localhost:8080/"
        },
        "id": "F-luCjtyDArk",
        "outputId": "37ed8af6-574b-43ec-b8aa-537bb0cc67bd"
      },
      "execution_count": null,
      "outputs": [
        {
          "output_type": "stream",
          "name": "stdout",
          "text": [
            "1/1 [==============================] - 0s 43ms/step\n",
            "[[0.99806863]\n",
            " [0.99806863]]\n"
          ]
        }
      ]
    },
    {
      "cell_type": "code",
      "source": [
        "import cv2\n",
        "test_img=cv2.imread(r'/content/gdrive/MyDrive/dataset/T51+T52BAD+T53BAD+T54BAD+T57BAD +T58BAD/Test/bad_dataset/DJI_0491.jpg')\n",
        "test_img=cv2.resize(test_img,(240,240))\n",
        "test_img\n",
        "img=np.asarray(test_img)\n",
        "img.shape\n",
        "from copy import deepcopy\n",
        "img_2=deepcopy(img)\n",
        "images=[img,img_2]\n",
        "prediction=my_model.predict(np.array(images))\n",
        "print(prediction)"
      ],
      "metadata": {
        "id": "Y4fk0zDYQH9t",
        "colab": {
          "base_uri": "https://localhost:8080/"
        },
        "outputId": "07657d57-5b9c-47cb-c41a-abd63cefa9bb"
      },
      "execution_count": null,
      "outputs": [
        {
          "output_type": "stream",
          "name": "stdout",
          "text": [
            "1/1 [==============================] - 0s 46ms/step\n",
            "[[0.9999814]\n",
            " [0.9999814]]\n"
          ]
        }
      ]
    },
    {
      "cell_type": "code",
      "source": [
        "import cv2\n",
        "test_img=cv2.imread(r'/content/gdrive/MyDrive/dataset/T51+T52BAD+T53BAD+T54BAD+T57BAD +T58BAD/Test/bad_dataset/DJI_0493.jpg')\n",
        "test_img=cv2.resize(test_img,(240,240))\n",
        "test_img\n",
        "img=np.asarray(test_img)\n",
        "img.shape\n",
        "from copy import deepcopy\n",
        "img_2=deepcopy(img)\n",
        "images=[img,img_2]\n",
        "prediction=my_model.predict(np.array(images))\n",
        "print(prediction)\n"
      ],
      "metadata": {
        "colab": {
          "base_uri": "https://localhost:8080/"
        },
        "id": "hP3WO3rEN9l8",
        "outputId": "3cf14f62-bd09-46b3-f33c-3a430f42818f"
      },
      "execution_count": null,
      "outputs": [
        {
          "output_type": "stream",
          "name": "stdout",
          "text": [
            "1/1 [==============================] - 0s 56ms/step\n",
            "[[0.9999784]\n",
            " [0.9999784]]\n"
          ]
        }
      ]
    },
    {
      "cell_type": "code",
      "source": [
        "import cv2\n",
        "test_img=cv2.imread(r'/content/gdrive/MyDrive/dataset/T51+T52BAD+T53BAD+T54BAD+T57BAD +T58BAD/Test/bad_dataset/DJI_0495.jpg')\n",
        "test_img=cv2.resize(test_img,(240,240))\n",
        "test_img\n",
        "img=np.asarray(test_img)\n",
        "img.shape\n",
        "from copy import deepcopy\n",
        "img_2=deepcopy(img)\n",
        "images=[img,img_2]\n",
        "prediction=my_model.predict(np.array(images))\n",
        "print(prediction)\n"
      ],
      "metadata": {
        "colab": {
          "base_uri": "https://localhost:8080/"
        },
        "id": "HHgjYRjegRqZ",
        "outputId": "a26389c0-2e72-4a6c-8515-d392884b4210"
      },
      "execution_count": null,
      "outputs": [
        {
          "output_type": "stream",
          "name": "stdout",
          "text": [
            "1/1 [==============================] - 0s 49ms/step\n",
            "[[0.99755543]\n",
            " [0.99755543]]\n"
          ]
        }
      ]
    },
    {
      "cell_type": "code",
      "source": [
        "import cv2\n",
        "test_img=cv2.imread(r'/content/gdrive/MyDrive/dataset/T51+T52BAD+T53BAD+T54BAD+T57BAD +T58BAD/Test/bad_dataset/DJI_0497.jpg')\n",
        "test_img=cv2.resize(test_img,(240,240))\n",
        "test_img\n",
        "img=np.asarray(test_img)\n",
        "img.shape\n",
        "from copy import deepcopy\n",
        "img_2=deepcopy(img)\n",
        "images=[img,img_2]\n",
        "prediction=my_model.predict(np.array(images))\n",
        "print(prediction)"
      ],
      "metadata": {
        "colab": {
          "base_uri": "https://localhost:8080/"
        },
        "id": "-iOH72BgibB_",
        "outputId": "adf3dec7-18b9-4f20-df49-ce5a2efdfdc9"
      },
      "execution_count": null,
      "outputs": [
        {
          "output_type": "stream",
          "name": "stdout",
          "text": [
            "1/1 [==============================] - 0s 82ms/step\n",
            "[[0.896505]\n",
            " [0.896505]]\n"
          ]
        }
      ]
    },
    {
      "cell_type": "code",
      "source": [
        "import cv2\n",
        "test_img=cv2.imread(r'/content/gdrive/MyDrive/dataset/T51+T52BAD+T53BAD+T54BAD+T57BAD +T58BAD/Test/bad_dataset/DJI_0499.jpg')\n",
        "test_img=cv2.resize(test_img,(240,240))\n",
        "test_img\n",
        "img=np.asarray(test_img)\n",
        "img.shape\n",
        "from copy import deepcopy\n",
        "img_2=deepcopy(img)\n",
        "images=[img,img_2]\n",
        "prediction=my_model.predict(np.array(images))\n",
        "print(prediction)"
      ],
      "metadata": {
        "id": "KGUcOcnHRCRw",
        "colab": {
          "base_uri": "https://localhost:8080/"
        },
        "outputId": "abb02833-7238-48bb-f6d5-a7199d2b88c2"
      },
      "execution_count": null,
      "outputs": [
        {
          "output_type": "stream",
          "name": "stdout",
          "text": [
            "1/1 [==============================] - 0s 42ms/step\n",
            "[[0.69232106]\n",
            " [0.69232106]]\n"
          ]
        }
      ]
    },
    {
      "cell_type": "code",
      "source": [
        "import cv2\n",
        "test_img=cv2.imread(r'/content/gdrive/MyDrive/dataset/T51+T52BAD+T53BAD+T54BAD+T57BAD +T58BAD/Test/bad_dataset/DJI_0501.jpg')\n",
        "test_img=cv2.resize(test_img,(240,240))\n",
        "test_img\n",
        "img=np.asarray(test_img)\n",
        "img.shape\n",
        "from copy import deepcopy\n",
        "img_2=deepcopy(img)\n",
        "images=[img,img_2]\n",
        "prediction=my_model.predict(np.array(images))\n",
        "print(prediction)"
      ],
      "metadata": {
        "colab": {
          "base_uri": "https://localhost:8080/"
        },
        "id": "l7dNeTQvROe4",
        "outputId": "3b9d1557-38a1-4fe1-df53-9995eb48f14f"
      },
      "execution_count": null,
      "outputs": [
        {
          "output_type": "stream",
          "name": "stdout",
          "text": [
            "1/1 [==============================] - 0s 83ms/step\n",
            "[[0.9882045]\n",
            " [0.9882045]]\n"
          ]
        }
      ]
    },
    {
      "cell_type": "code",
      "source": [
        "import cv2\n",
        "test_img=cv2.imread(r'/content/gdrive/MyDrive/dataset/T51+T52BAD+T53BAD+T54BAD+T57BAD +T58BAD/Test/bad_dataset/DJI_0503.jpg')\n",
        "test_img=cv2.resize(test_img,(240,240))\n",
        "test_img\n",
        "img=np.asarray(test_img)\n",
        "img.shape\n",
        "from copy import deepcopy\n",
        "img_2=deepcopy(img)\n",
        "images=[img,img_2]\n",
        "prediction=my_model.predict(np.array(images))\n",
        "print(prediction)"
      ],
      "metadata": {
        "colab": {
          "base_uri": "https://localhost:8080/"
        },
        "id": "0UxTKff1pcRz",
        "outputId": "b7ae8327-9d84-4f57-8c7b-fbe00218982b"
      },
      "execution_count": null,
      "outputs": [
        {
          "output_type": "stream",
          "name": "stdout",
          "text": [
            "1/1 [==============================] - 0s 41ms/step\n",
            "[[0.9851334]\n",
            " [0.9851334]]\n"
          ]
        }
      ]
    },
    {
      "cell_type": "code",
      "source": [
        "import cv2\n",
        "test_img=cv2.imread(r'/content/gdrive/MyDrive/dataset/T51+T52BAD+T53BAD+T54BAD+T57BAD +T58BAD/Test/bad_dataset/DJI_0505.jpg')\n",
        "test_img=cv2.resize(test_img,(240,240))\n",
        "test_img\n",
        "img=np.asarray(test_img)\n",
        "img.shape\n",
        "from copy import deepcopy\n",
        "img_2=deepcopy(img)\n",
        "images=[img,img_2]\n",
        "prediction=my_model.predict(np.array(images))\n",
        "print(prediction)"
      ],
      "metadata": {
        "colab": {
          "base_uri": "https://localhost:8080/"
        },
        "id": "_rLa93IXpcaD",
        "outputId": "eac732b2-ab77-4b39-ab0c-4d68cff42098"
      },
      "execution_count": null,
      "outputs": [
        {
          "output_type": "stream",
          "name": "stdout",
          "text": [
            "1/1 [==============================] - 0s 39ms/step\n",
            "[[0.9858775]\n",
            " [0.9858775]]\n"
          ]
        }
      ]
    },
    {
      "cell_type": "code",
      "source": [
        "import cv2\n",
        "test_img=cv2.imread(r'/content/gdrive/MyDrive/dataset/T51+T52BAD+T53BAD+T54BAD+T57BAD +T58BAD/Test/bad_dataset/DJI_0507.jpg')\n",
        "test_img=cv2.resize(test_img,(240,240))\n",
        "test_img\n",
        "img=np.asarray(test_img)\n",
        "img.shape\n",
        "from copy import deepcopy\n",
        "img_2=deepcopy(img)\n",
        "images=[img,img_2]\n",
        "prediction=my_model.predict(np.array(images))\n",
        "print(prediction)"
      ],
      "metadata": {
        "colab": {
          "base_uri": "https://localhost:8080/"
        },
        "id": "3py5wCvppcgG",
        "outputId": "edab2e7e-a61c-4107-b15f-bb3677627260"
      },
      "execution_count": null,
      "outputs": [
        {
          "output_type": "stream",
          "name": "stdout",
          "text": [
            "1/1 [==============================] - 0s 76ms/step\n",
            "[[0.99563533]\n",
            " [0.99563533]]\n"
          ]
        }
      ]
    },
    {
      "cell_type": "code",
      "source": [
        "import cv2\n",
        "test_img=cv2.imread(r'/content/gdrive/MyDrive/dataset/T51+T52BAD+T53BAD+T54BAD+T57BAD +T58BAD/Test/bad_dataset/DJI_0509.jpg')\n",
        "test_img=cv2.resize(test_img,(240,240))\n",
        "test_img\n",
        "img=np.asarray(test_img)\n",
        "img.shape\n",
        "from copy import deepcopy\n",
        "img_2=deepcopy(img)\n",
        "images=[img,img_2]\n",
        "prediction=my_model.predict(np.array(images))\n",
        "print(prediction)"
      ],
      "metadata": {
        "colab": {
          "base_uri": "https://localhost:8080/"
        },
        "id": "VZj2-Wccpcks",
        "outputId": "f8f13ca2-e9d3-464c-ab73-c4a02cc837d2"
      },
      "execution_count": null,
      "outputs": [
        {
          "output_type": "stream",
          "name": "stdout",
          "text": [
            "1/1 [==============================] - 0s 41ms/step\n",
            "[[0.9992581]\n",
            " [0.9992581]]\n"
          ]
        }
      ]
    },
    {
      "cell_type": "code",
      "source": [
        "import cv2\n",
        "test_img=cv2.imread(r'/content/gdrive/MyDrive/dataset/T51+T52BAD+T53BAD+T54BAD+T57BAD +T58BAD/Test/bad_dataset/DJI_0608.jpg')\n",
        "test_img=cv2.resize(test_img,(240,240))\n",
        "test_img\n",
        "img=np.asarray(test_img)\n",
        "img.shape\n",
        "from copy import deepcopy\n",
        "img_2=deepcopy(img)\n",
        "images=[img,img_2]\n",
        "prediction=my_model.predict(np.array(images))\n",
        "print(prediction)"
      ],
      "metadata": {
        "colab": {
          "base_uri": "https://localhost:8080/"
        },
        "id": "DN8Y72HApcsc",
        "outputId": "597bffd6-537d-4ecf-8989-8741aa08344a"
      },
      "execution_count": null,
      "outputs": [
        {
          "output_type": "stream",
          "name": "stdout",
          "text": [
            "1/1 [==============================] - 0s 83ms/step\n",
            "[[3.4652878e-08]\n",
            " [3.4652878e-08]]\n"
          ]
        }
      ]
    },
    {
      "cell_type": "code",
      "source": [
        "import cv2\n",
        "test_img=cv2.imread(r'/content/gdrive/MyDrive/dataset/T51+T52BAD+T53BAD+T54BAD+T57BAD +T58BAD/Test/bad_dataset/DJI_0610.jpg')\n",
        "test_img=cv2.resize(test_img,(240,240))\n",
        "test_img\n",
        "img=np.asarray(test_img)\n",
        "img.shape\n",
        "from copy import deepcopy\n",
        "img_2=deepcopy(img)\n",
        "images=[img,img_2]\n",
        "prediction=my_model.predict(np.array(images))\n",
        "print(prediction)"
      ],
      "metadata": {
        "colab": {
          "base_uri": "https://localhost:8080/"
        },
        "id": "K5i94JRVplWM",
        "outputId": "296f28eb-1d0d-4e39-e28a-90dd978cadbc"
      },
      "execution_count": null,
      "outputs": [
        {
          "output_type": "stream",
          "name": "stdout",
          "text": [
            "1/1 [==============================] - 0s 43ms/step\n",
            "[[1.6299955e-18]\n",
            " [1.6299955e-18]]\n"
          ]
        }
      ]
    },
    {
      "cell_type": "code",
      "source": [
        "import cv2\n",
        "test_img=cv2.imread(r'/content/gdrive/MyDrive/dataset/T51+T52BAD+T53BAD+T54BAD+T57BAD +T58BAD/Test/bad_dataset/DJI_0976.jpg')\n",
        "test_img=cv2.resize(test_img,(240,240))\n",
        "test_img\n",
        "img=np.asarray(test_img)\n",
        "img.shape\n",
        "from copy import deepcopy\n",
        "img_2=deepcopy(img)\n",
        "images=[img,img_2]\n",
        "prediction=my_model.predict(np.array(images))\n",
        "print(prediction)"
      ],
      "metadata": {
        "colab": {
          "base_uri": "https://localhost:8080/"
        },
        "id": "E4W-iUVGpljT",
        "outputId": "62b90d59-f85a-48f6-9b00-38514a306d51"
      },
      "execution_count": null,
      "outputs": [
        {
          "output_type": "stream",
          "name": "stdout",
          "text": [
            "1/1 [==============================] - 0s 72ms/step\n",
            "[[0.9998877]\n",
            " [0.9998877]]\n"
          ]
        }
      ]
    },
    {
      "cell_type": "code",
      "source": [
        "import cv2\n",
        "test_img=cv2.imread(r'/content/gdrive/MyDrive/dataset/T51+T52BAD+T53BAD+T54BAD+T57BAD +T58BAD/Test/bad_dataset/DJI_0978.jpg')\n",
        "test_img=cv2.resize(test_img,(240,240))\n",
        "test_img\n",
        "img=np.asarray(test_img)\n",
        "img.shape\n",
        "from copy import deepcopy\n",
        "img_2=deepcopy(img)\n",
        "images=[img,img_2]\n",
        "prediction=my_model.predict(np.array(images))\n",
        "print(prediction)"
      ],
      "metadata": {
        "colab": {
          "base_uri": "https://localhost:8080/"
        },
        "id": "zF0oiJgvplu1",
        "outputId": "7c1b4226-0f78-4930-8e48-90590fc5d554"
      },
      "execution_count": null,
      "outputs": [
        {
          "output_type": "stream",
          "name": "stdout",
          "text": [
            "1/1 [==============================] - 0s 41ms/step\n",
            "[[0.9009827]\n",
            " [0.9009827]]\n"
          ]
        }
      ]
    },
    {
      "cell_type": "code",
      "source": [
        "import cv2\n",
        "test_img=cv2.imread(r'/content/gdrive/MyDrive/dataset/T51+T52BAD+T53BAD+T54BAD+T57BAD +T58BAD/Test/bad_dataset/DJI_0980.jpg')\n",
        "test_img=cv2.resize(test_img,(240,240))\n",
        "test_img\n",
        "img=np.asarray(test_img)\n",
        "img.shape\n",
        "from copy import deepcopy\n",
        "img_2=deepcopy(img)\n",
        "images=[img,img_2]\n",
        "prediction=my_model.predict(np.array(images))\n",
        "print(prediction)"
      ],
      "metadata": {
        "colab": {
          "base_uri": "https://localhost:8080/"
        },
        "id": "qzenyCJFpl3v",
        "outputId": "fd9cc837-b235-4a08-d6a9-e34a79be0bea"
      },
      "execution_count": null,
      "outputs": [
        {
          "output_type": "stream",
          "name": "stdout",
          "text": [
            "1/1 [==============================] - 0s 50ms/step\n",
            "[[0.8643819]\n",
            " [0.8643819]]\n"
          ]
        }
      ]
    },
    {
      "cell_type": "code",
      "source": [
        "import cv2\n",
        "test_img=cv2.imread(r'/content/gdrive/MyDrive/dataset/T51+T52BAD+T53BAD+T54BAD+T57BAD +T58BAD/Test/bad_dataset/DJI_0982.jpg')\n",
        "test_img=cv2.resize(test_img,(240,240))\n",
        "test_img\n",
        "img=np.asarray(test_img)\n",
        "img.shape\n",
        "from copy import deepcopy\n",
        "img_2=deepcopy(img)\n",
        "images=[img,img_2]\n",
        "prediction=my_model.predict(np.array(images))\n",
        "print(prediction)"
      ],
      "metadata": {
        "colab": {
          "base_uri": "https://localhost:8080/"
        },
        "id": "mIeOxfNRpmFT",
        "outputId": "d9f9cc88-85f3-4ae9-a7ee-f5a303fcff3e"
      },
      "execution_count": null,
      "outputs": [
        {
          "output_type": "stream",
          "name": "stdout",
          "text": [
            "1/1 [==============================] - 0s 42ms/step\n",
            "[[0.80375725]\n",
            " [0.80375725]]\n"
          ]
        }
      ]
    },
    {
      "cell_type": "code",
      "source": [
        "import cv2\n",
        "test_img=cv2.imread(r'/content/gdrive/MyDrive/dataset/T51+T52BAD+T53BAD+T54BAD+T57BAD +T58BAD/Test/bad_dataset/DJI_0984.jpg')\n",
        "test_img=cv2.resize(test_img,(240,240))\n",
        "test_img\n",
        "img=np.asarray(test_img)\n",
        "img.shape\n",
        "from copy import deepcopy\n",
        "img_2=deepcopy(img)\n",
        "images=[img,img_2]\n",
        "prediction=my_model.predict(np.array(images))\n",
        "print(prediction)"
      ],
      "metadata": {
        "colab": {
          "base_uri": "https://localhost:8080/"
        },
        "id": "3GOexR-DpylC",
        "outputId": "117a934e-f777-4cfd-bdb6-4d198089b6dd"
      },
      "execution_count": null,
      "outputs": [
        {
          "output_type": "stream",
          "name": "stdout",
          "text": [
            "1/1 [==============================] - 0s 80ms/step\n",
            "[[0.9727505]\n",
            " [0.9727505]]\n"
          ]
        }
      ]
    },
    {
      "cell_type": "code",
      "source": [
        "import cv2\n",
        "test_img=cv2.imread(r'/content/gdrive/MyDrive/dataset/T51+T52BAD+T53BAD+T54BAD+T57BAD +T58BAD/Test/bad_dataset/DJI_0986.jpg')\n",
        "test_img=cv2.resize(test_img,(240,240))\n",
        "test_img\n",
        "img=np.asarray(test_img)\n",
        "img.shape\n",
        "from copy import deepcopy\n",
        "img_2=deepcopy(img)\n",
        "images=[img,img_2]\n",
        "prediction=my_model.predict(np.array(images))\n",
        "print(prediction)"
      ],
      "metadata": {
        "colab": {
          "base_uri": "https://localhost:8080/"
        },
        "id": "xCT3JYatp4Ex",
        "outputId": "631c9ddc-1b0c-4c4d-ed26-871c21021fc9"
      },
      "execution_count": null,
      "outputs": [
        {
          "output_type": "stream",
          "name": "stdout",
          "text": [
            "1/1 [==============================] - 0s 67ms/step\n",
            "[[0.98010224]\n",
            " [0.98010224]]\n"
          ]
        }
      ]
    },
    {
      "cell_type": "code",
      "source": [
        "import cv2\n",
        "test_img=cv2.imread(r'/content/gdrive/MyDrive/dataset/T51+T52BAD+T53BAD+T54BAD+T57BAD +T58BAD/Test/good_dataset/DJI_0869.jpg')\n",
        "test_img=cv2.resize(test_img,(240,240))\n",
        "test_img\n",
        "img=np.asarray(test_img)\n",
        "img.shape\n",
        "from copy import deepcopy\n",
        "img_2=deepcopy(img)\n",
        "images=[img,img_2]\n",
        "prediction=my_model.predict(np.array(images))\n",
        "print(prediction)"
      ],
      "metadata": {
        "colab": {
          "base_uri": "https://localhost:8080/"
        },
        "id": "o3Eh3uEiqIr3",
        "outputId": "25816fad-953f-4eca-c1de-94713728e015"
      },
      "execution_count": null,
      "outputs": [
        {
          "output_type": "stream",
          "name": "stdout",
          "text": [
            "1/1 [==============================] - 0s 40ms/step\n",
            "[[1.]\n",
            " [1.]]\n"
          ]
        }
      ]
    },
    {
      "cell_type": "code",
      "source": [
        "import cv2\n",
        "test_img=cv2.imread(r'/content/gdrive/MyDrive/dataset/T51+T52BAD+T53BAD+T54BAD+T57BAD +T58BAD/Test/good_dataset/DJI_0871.jpg')\n",
        "test_img=cv2.resize(test_img,(240,240))\n",
        "test_img\n",
        "img=np.asarray(test_img)\n",
        "img.shape\n",
        "from copy import deepcopy\n",
        "img_2=deepcopy(img)\n",
        "images=[img,img_2]\n",
        "prediction=my_model.predict(np.array(images))\n",
        "print(prediction)"
      ],
      "metadata": {
        "colab": {
          "base_uri": "https://localhost:8080/"
        },
        "id": "utG_g5COqKr1",
        "outputId": "791e3622-852f-4426-9e3f-37eb35d6d16c"
      },
      "execution_count": null,
      "outputs": [
        {
          "output_type": "stream",
          "name": "stdout",
          "text": [
            "1/1 [==============================] - 0s 49ms/step\n",
            "[[1.]\n",
            " [1.]]\n"
          ]
        }
      ]
    },
    {
      "cell_type": "code",
      "source": [
        "import cv2\n",
        "test_img=cv2.imread(r'/content/gdrive/MyDrive/dataset/T51+T52BAD+T53BAD+T54BAD+T57BAD +T58BAD/Test/good_dataset/DJI_0873.jpg')\n",
        "test_img=cv2.resize(test_img,(240,240))\n",
        "test_img\n",
        "img=np.asarray(test_img)\n",
        "img.shape\n",
        "from copy import deepcopy\n",
        "img_2=deepcopy(img)\n",
        "images=[img,img_2]\n",
        "prediction=my_model.predict(np.array(images))\n",
        "print(prediction)"
      ],
      "metadata": {
        "colab": {
          "base_uri": "https://localhost:8080/"
        },
        "id": "7Juo2ZGLqMzo",
        "outputId": "83199216-beb9-49f2-c674-733a47f9d182"
      },
      "execution_count": null,
      "outputs": [
        {
          "output_type": "stream",
          "name": "stdout",
          "text": [
            "1/1 [==============================] - 0s 43ms/step\n",
            "[[1.]\n",
            " [1.]]\n"
          ]
        }
      ]
    },
    {
      "cell_type": "code",
      "source": [
        "import cv2\n",
        "test_img=cv2.imread(r'/content/gdrive/MyDrive/dataset/T51+T52BAD+T53BAD+T54BAD+T57BAD +T58BAD/Test/good_dataset/DJI_0875.jpg')\n",
        "test_img=cv2.resize(test_img,(240,240))\n",
        "test_img\n",
        "img=np.asarray(test_img)\n",
        "img.shape\n",
        "from copy import deepcopy\n",
        "img_2=deepcopy(img)\n",
        "images=[img,img_2]\n",
        "prediction=my_model.predict(np.array(images))\n",
        "print(prediction)"
      ],
      "metadata": {
        "colab": {
          "base_uri": "https://localhost:8080/"
        },
        "id": "52YICEpyqM9N",
        "outputId": "bb79b633-b4f4-4d1c-cd9c-200f02cb7405"
      },
      "execution_count": null,
      "outputs": [
        {
          "output_type": "stream",
          "name": "stdout",
          "text": [
            "1/1 [==============================] - 0s 44ms/step\n",
            "[[1.]\n",
            " [1.]]\n"
          ]
        }
      ]
    },
    {
      "cell_type": "code",
      "source": [
        "import cv2\n",
        "test_img=cv2.imread(r'/content/gdrive/MyDrive/dataset/T51+T52BAD+T53BAD+T54BAD+T57BAD +T58BAD/Test/good_dataset/DJI_0877.jpg')\n",
        "test_img=cv2.resize(test_img,(240,240))\n",
        "test_img\n",
        "img=np.asarray(test_img)\n",
        "img.shape\n",
        "from copy import deepcopy\n",
        "img_2=deepcopy(img)\n",
        "images=[img,img_2]\n",
        "prediction=my_model.predict(np.array(images))\n",
        "print(prediction)"
      ],
      "metadata": {
        "colab": {
          "base_uri": "https://localhost:8080/"
        },
        "id": "1NQwfu_7qPku",
        "outputId": "82f24196-f458-45eb-c864-6053a52d6a20"
      },
      "execution_count": null,
      "outputs": [
        {
          "output_type": "stream",
          "name": "stdout",
          "text": [
            "1/1 [==============================] - 0s 41ms/step\n",
            "[[1.]\n",
            " [1.]]\n"
          ]
        }
      ]
    },
    {
      "cell_type": "code",
      "source": [
        "import cv2\n",
        "test_img=cv2.imread(r'/content/gdrive/MyDrive/dataset/T51+T52BAD+T53BAD+T54BAD+T57BAD +T58BAD/Test/good_dataset/DJI_0879.jpg')\n",
        "test_img=cv2.resize(test_img,(240,240))\n",
        "test_img\n",
        "img=np.asarray(test_img)\n",
        "img.shape\n",
        "from copy import deepcopy\n",
        "img_2=deepcopy(img)\n",
        "images=[img,img_2]\n",
        "prediction=my_model.predict(np.array(images))\n",
        "print(prediction)"
      ],
      "metadata": {
        "colab": {
          "base_uri": "https://localhost:8080/"
        },
        "id": "6q3Mhoq2qSI1",
        "outputId": "aa6ba749-3951-43e9-fb29-3ab2c5cb282c"
      },
      "execution_count": null,
      "outputs": [
        {
          "output_type": "stream",
          "name": "stdout",
          "text": [
            "1/1 [==============================] - 0s 45ms/step\n",
            "[[0.9999999]\n",
            " [0.9999999]]\n"
          ]
        }
      ]
    },
    {
      "cell_type": "code",
      "source": [
        "import cv2\n",
        "test_img=cv2.imread(r'/content/gdrive/MyDrive/dataset/T51+T52BAD+T53BAD+T54BAD+T57BAD +T58BAD/Test/good_dataset/DJI_0881.jpg')\n",
        "test_img=cv2.resize(test_img,(240,240))\n",
        "test_img\n",
        "img=np.asarray(test_img)\n",
        "img.shape\n",
        "from copy import deepcopy\n",
        "img_2=deepcopy(img)\n",
        "images=[img,img_2]\n",
        "prediction=my_model.predict(np.array(images))\n",
        "print(prediction)"
      ],
      "metadata": {
        "colab": {
          "base_uri": "https://localhost:8080/"
        },
        "id": "ASMHQsl0qVb9",
        "outputId": "3a67cac8-ab6a-4068-e099-d95150f64c0a"
      },
      "execution_count": null,
      "outputs": [
        {
          "output_type": "stream",
          "name": "stdout",
          "text": [
            "1/1 [==============================] - 0s 84ms/step\n",
            "[[1.]\n",
            " [1.]]\n"
          ]
        }
      ]
    },
    {
      "cell_type": "code",
      "source": [
        "import cv2\n",
        "test_img=cv2.imread(r'/content/gdrive/MyDrive/dataset/T51+T52BAD+T53BAD+T54BAD+T57BAD +T58BAD/Test/good_dataset/DJI_0883.jpg')\n",
        "test_img=cv2.resize(test_img,(240,240))\n",
        "test_img\n",
        "img=np.asarray(test_img)\n",
        "img.shape\n",
        "from copy import deepcopy\n",
        "img_2=deepcopy(img)\n",
        "images=[img,img_2]\n",
        "prediction=my_model.predict(np.array(images))\n",
        "print(prediction)"
      ],
      "metadata": {
        "colab": {
          "base_uri": "https://localhost:8080/"
        },
        "id": "A_SSXtsvqYK-",
        "outputId": "b6d8943e-b2da-4e04-cc7f-f29eeea76863"
      },
      "execution_count": null,
      "outputs": [
        {
          "output_type": "stream",
          "name": "stdout",
          "text": [
            "1/1 [==============================] - 0s 39ms/step\n",
            "[[0.99997115]\n",
            " [0.99997115]]\n"
          ]
        }
      ]
    },
    {
      "cell_type": "code",
      "source": [
        "import cv2\n",
        "test_img=cv2.imread(r'/content/gdrive/MyDrive/dataset/T51+T52BAD+T53BAD+T54BAD+T57BAD +T58BAD/Test/good_dataset/DJI_0885.jpg')\n",
        "test_img=cv2.resize(test_img,(240,240))\n",
        "test_img\n",
        "img=np.asarray(test_img)\n",
        "img.shape\n",
        "from copy import deepcopy\n",
        "img_2=deepcopy(img)\n",
        "images=[img,img_2]\n",
        "prediction=my_model.predict(np.array(images))\n",
        "print(prediction)"
      ],
      "metadata": {
        "colab": {
          "base_uri": "https://localhost:8080/"
        },
        "id": "oCdbpgNyqdBm",
        "outputId": "46eea612-e73c-474a-f2b7-4302604c4431"
      },
      "execution_count": null,
      "outputs": [
        {
          "output_type": "stream",
          "name": "stdout",
          "text": [
            "1/1 [==============================] - 0s 41ms/step\n",
            "[[1.]\n",
            " [1.]]\n"
          ]
        }
      ]
    },
    {
      "cell_type": "code",
      "source": [
        "import cv2\n",
        "test_img=cv2.imread(r'/content/gdrive/MyDrive/dataset/T51+T52BAD+T53BAD+T54BAD+T57BAD +T58BAD/Test/good_dataset/DJI_0887.jpg')\n",
        "test_img=cv2.resize(test_img,(240,240))\n",
        "test_img\n",
        "img=np.asarray(test_img)\n",
        "img.shape\n",
        "from copy import deepcopy\n",
        "img_2=deepcopy(img)\n",
        "images=[img,img_2]\n",
        "prediction=my_model.predict(np.array(images))\n",
        "print(prediction)"
      ],
      "metadata": {
        "colab": {
          "base_uri": "https://localhost:8080/"
        },
        "id": "HOdwFsj2qfEA",
        "outputId": "6354fd13-9d90-41f5-d0bf-a6baf0e699c1"
      },
      "execution_count": null,
      "outputs": [
        {
          "output_type": "stream",
          "name": "stdout",
          "text": [
            "1/1 [==============================] - 0s 45ms/step\n",
            "[[0.9406701]\n",
            " [0.9406701]]\n"
          ]
        }
      ]
    },
    {
      "cell_type": "code",
      "source": [
        "import cv2\n",
        "test_img=cv2.imread(r'/content/gdrive/MyDrive/dataset/T51+T52BAD+T53BAD+T54BAD+T57BAD +T58BAD/Test/good_dataset/DJI_0889.jpg')\n",
        "test_img=cv2.resize(test_img,(240,240))\n",
        "test_img\n",
        "img=np.asarray(test_img)\n",
        "img.shape\n",
        "from copy import deepcopy\n",
        "img_2=deepcopy(img)\n",
        "images=[img,img_2]\n",
        "prediction=my_model.predict(np.array(images))\n",
        "print(prediction)"
      ],
      "metadata": {
        "colab": {
          "base_uri": "https://localhost:8080/"
        },
        "id": "caW8Uk3mqjCZ",
        "outputId": "9e73f8ae-4804-44fd-fa0f-653a33009696"
      },
      "execution_count": null,
      "outputs": [
        {
          "output_type": "stream",
          "name": "stdout",
          "text": [
            "1/1 [==============================] - 0s 72ms/step\n",
            "[[1.]\n",
            " [1.]]\n"
          ]
        }
      ]
    },
    {
      "cell_type": "code",
      "source": [
        "import cv2\n",
        "test_img=cv2.imread(r'/content/gdrive/MyDrive/dataset/T51+T52BAD+T53BAD+T54BAD+T57BAD +T58BAD/Test/good_dataset/DJI_0891.jpg')\n",
        "test_img=cv2.resize(test_img,(240,240))\n",
        "test_img\n",
        "img=np.asarray(test_img)\n",
        "img.shape\n",
        "from copy import deepcopy\n",
        "img_2=deepcopy(img)\n",
        "images=[img,img_2]\n",
        "prediction=my_model.predict(np.array(images))\n",
        "print(prediction)"
      ],
      "metadata": {
        "colab": {
          "base_uri": "https://localhost:8080/"
        },
        "id": "2PTDaAxkqlPT",
        "outputId": "7bfc9c20-b288-46b9-8407-bb32010e175f"
      },
      "execution_count": null,
      "outputs": [
        {
          "output_type": "stream",
          "name": "stdout",
          "text": [
            "1/1 [==============================] - 0s 77ms/step\n",
            "[[1.]\n",
            " [1.]]\n"
          ]
        }
      ]
    },
    {
      "cell_type": "code",
      "source": [
        "import cv2\n",
        "test_img=cv2.imread(r'/content/gdrive/MyDrive/dataset/T51+T52BAD+T53BAD+T54BAD+T57BAD +T58BAD/Test/good_dataset/DJI_0893.jpg')\n",
        "test_img=cv2.resize(test_img,(240,240))\n",
        "test_img\n",
        "img=np.asarray(test_img)\n",
        "img.shape\n",
        "from copy import deepcopy\n",
        "img_2=deepcopy(img)\n",
        "images=[img,img_2]\n",
        "prediction=my_model.predict(np.array(images))\n",
        "print(prediction)"
      ],
      "metadata": {
        "colab": {
          "base_uri": "https://localhost:8080/"
        },
        "id": "FsV3ObwDqp67",
        "outputId": "eeff9778-c1bd-4a2d-a7f7-c56f72b9d0fe"
      },
      "execution_count": null,
      "outputs": [
        {
          "output_type": "stream",
          "name": "stdout",
          "text": [
            "1/1 [==============================] - 0s 52ms/step\n",
            "[[1.]\n",
            " [1.]]\n"
          ]
        }
      ]
    },
    {
      "cell_type": "code",
      "source": [
        "import cv2\n",
        "test_img=cv2.imread(r'/content/gdrive/MyDrive/dataset/T51+T52BAD+T53BAD+T54BAD+T57BAD +T58BAD/Test/good_dataset/DJI_0895.jpg')\n",
        "test_img=cv2.resize(test_img,(240,240))\n",
        "test_img\n",
        "img=np.asarray(test_img)\n",
        "img.shape\n",
        "from copy import deepcopy\n",
        "img_2=deepcopy(img)\n",
        "images=[img,img_2]\n",
        "prediction=my_model.predict(np.array(images))\n",
        "print(prediction)"
      ],
      "metadata": {
        "colab": {
          "base_uri": "https://localhost:8080/"
        },
        "id": "YlkSpiTfqrxH",
        "outputId": "79e9f631-636b-45bc-9024-5dbf563ba2b5"
      },
      "execution_count": null,
      "outputs": [
        {
          "output_type": "stream",
          "name": "stdout",
          "text": [
            "1/1 [==============================] - 0s 39ms/step\n",
            "[[1.]\n",
            " [1.]]\n"
          ]
        }
      ]
    },
    {
      "cell_type": "code",
      "source": [
        "import cv2\n",
        "test_img=cv2.imread(r'/content/gdrive/MyDrive/dataset/T51+T52BAD+T53BAD+T54BAD+T57BAD +T58BAD/Test/good_dataset/DJI_0897.jpg')\n",
        "test_img=cv2.resize(test_img,(240,240))\n",
        "test_img\n",
        "img=np.asarray(test_img)\n",
        "img.shape\n",
        "from copy import deepcopy\n",
        "img_2=deepcopy(img)\n",
        "images=[img,img_2]\n",
        "prediction=my_model.predict(np.array(images))\n",
        "print(prediction)"
      ],
      "metadata": {
        "colab": {
          "base_uri": "https://localhost:8080/"
        },
        "id": "rqCv1AL1qr76",
        "outputId": "b00a712a-caf6-4277-cb28-c87f5ab0f9ad"
      },
      "execution_count": null,
      "outputs": [
        {
          "output_type": "stream",
          "name": "stdout",
          "text": [
            "1/1 [==============================] - 0s 42ms/step\n",
            "[[1.]\n",
            " [1.]]\n"
          ]
        }
      ]
    },
    {
      "cell_type": "code",
      "source": [
        "import cv2\n",
        "test_img=cv2.imread(r'/content/gdrive/MyDrive/dataset/T51+T52BAD+T53BAD+T54BAD+T57BAD +T58BAD/Test/good_dataset/DJI_0899.jpg')\n",
        "test_img=cv2.resize(test_img,(240,240))\n",
        "test_img\n",
        "img=np.asarray(test_img)\n",
        "img.shape\n",
        "from copy import deepcopy\n",
        "img_2=deepcopy(img)\n",
        "images=[img,img_2]\n",
        "prediction=my_model.predict(np.array(images))\n",
        "print(prediction)"
      ],
      "metadata": {
        "colab": {
          "base_uri": "https://localhost:8080/"
        },
        "id": "iKconRzXqsDL",
        "outputId": "285d6a7e-d27f-4e12-e4b3-9e22969b9893"
      },
      "execution_count": null,
      "outputs": [
        {
          "output_type": "stream",
          "name": "stdout",
          "text": [
            "1/1 [==============================] - 0s 44ms/step\n",
            "[[1.]\n",
            " [1.]]\n"
          ]
        }
      ]
    },
    {
      "cell_type": "code",
      "source": [
        "import cv2\n",
        "test_img=cv2.imread(r'/content/gdrive/MyDrive/dataset/T51+T52BAD+T53BAD+T54BAD+T57BAD +T58BAD/Test/good_dataset/DJI_0901.jpg')\n",
        "test_img=cv2.resize(test_img,(240,240))\n",
        "test_img\n",
        "img=np.asarray(test_img)\n",
        "img.shape\n",
        "from copy import deepcopy\n",
        "img_2=deepcopy(img)\n",
        "images=[img,img_2]\n",
        "prediction=my_model.predict(np.array(images))\n",
        "print(prediction)"
      ],
      "metadata": {
        "colab": {
          "base_uri": "https://localhost:8080/"
        },
        "id": "v_YOz1rJqxoU",
        "outputId": "ab63254d-3127-4206-f072-ec5b6e68fa45"
      },
      "execution_count": null,
      "outputs": [
        {
          "output_type": "stream",
          "name": "stdout",
          "text": [
            "1/1 [==============================] - 0s 40ms/step\n",
            "[[1.]\n",
            " [1.]]\n"
          ]
        }
      ]
    },
    {
      "cell_type": "code",
      "source": [
        "import cv2\n",
        "test_img=cv2.imread(r'/content/gdrive/MyDrive/dataset/T51+T52BAD+T53BAD+T54BAD+T57BAD +T58BAD/Test/good_dataset/DJI_0903.jpg')\n",
        "test_img=cv2.resize(test_img,(240,240))\n",
        "test_img\n",
        "img=np.asarray(test_img)\n",
        "img.shape\n",
        "from copy import deepcopy\n",
        "img_2=deepcopy(img)\n",
        "images=[img,img_2]\n",
        "prediction=my_model.predict(np.array(images))\n",
        "print(prediction)"
      ],
      "metadata": {
        "colab": {
          "base_uri": "https://localhost:8080/"
        },
        "id": "lbEVfPpAqxzK",
        "outputId": "68fb9b5b-eb5e-4786-ccea-ed26314648e2"
      },
      "execution_count": null,
      "outputs": [
        {
          "output_type": "stream",
          "name": "stdout",
          "text": [
            "1/1 [==============================] - 0s 45ms/step\n",
            "[[1.]\n",
            " [1.]]\n"
          ]
        }
      ]
    },
    {
      "cell_type": "code",
      "source": [
        "import cv2\n",
        "test_img=cv2.imread(r'/content/gdrive/MyDrive/dataset/T51+T52BAD+T53BAD+T54BAD+T57BAD +T58BAD/Test/good_dataset/DJI_0905.jpg')\n",
        "test_img=cv2.resize(test_img,(240,240))\n",
        "test_img\n",
        "img=np.asarray(test_img)\n",
        "img.shape\n",
        "from copy import deepcopy\n",
        "img_2=deepcopy(img)\n",
        "images=[img,img_2]\n",
        "prediction=my_model.predict(np.array(images))\n",
        "print(prediction)"
      ],
      "metadata": {
        "colab": {
          "base_uri": "https://localhost:8080/"
        },
        "id": "g11mDVg-qx9y",
        "outputId": "92251887-730d-477f-f928-c5d091135006"
      },
      "execution_count": null,
      "outputs": [
        {
          "output_type": "stream",
          "name": "stdout",
          "text": [
            "1/1 [==============================] - 0s 50ms/step\n",
            "[[1.]\n",
            " [1.]]\n"
          ]
        }
      ]
    },
    {
      "cell_type": "code",
      "source": [
        "import cv2\n",
        "test_img=cv2.imread(r'/content/gdrive/MyDrive/dataset/T51+T52BAD+T53BAD+T54BAD+T57BAD +T58BAD/Test/good_dataset/DJI_0907.jpg')\n",
        "test_img=cv2.resize(test_img,(240,240))\n",
        "test_img\n",
        "img=np.asarray(test_img)\n",
        "img.shape\n",
        "from copy import deepcopy\n",
        "img_2=deepcopy(img)\n",
        "images=[img,img_2]\n",
        "prediction=my_model.predict(np.array(images))\n",
        "print(prediction)"
      ],
      "metadata": {
        "id": "25As9VPKv4eP",
        "colab": {
          "base_uri": "https://localhost:8080/"
        },
        "outputId": "a439013b-5e93-4ba7-bb1d-ecc05e5ee438"
      },
      "execution_count": null,
      "outputs": [
        {
          "output_type": "stream",
          "name": "stdout",
          "text": [
            "1/1 [==============================] - 0s 39ms/step\n",
            "[[1.]\n",
            " [1.]]\n"
          ]
        }
      ]
    },
    {
      "cell_type": "code",
      "source": [
        "import cv2\n",
        "test_img=cv2.imread(r'/content/gdrive/MyDrive/dataset/T51+T52BAD+T53BAD+T54BAD+T57BAD +T58BAD/Test/good_dataset/DJI_0909.jpg')\n",
        "test_img=cv2.resize(test_img,(240,240))\n",
        "test_img\n",
        "img=np.asarray(test_img)\n",
        "img.shape\n",
        "from copy import deepcopy\n",
        "img_2=deepcopy(img)\n",
        "images=[img,img_2]\n",
        "prediction=my_model.predict(np.array(images))\n",
        "print(prediction)"
      ],
      "metadata": {
        "colab": {
          "base_uri": "https://localhost:8080/"
        },
        "id": "DpR69Pxev78Y",
        "outputId": "4a28840b-1f5d-4b8d-f541-e5c3b27cdf35"
      },
      "execution_count": null,
      "outputs": [
        {
          "output_type": "stream",
          "name": "stdout",
          "text": [
            "1/1 [==============================] - 0s 39ms/step\n",
            "[[1.]\n",
            " [1.]]\n"
          ]
        }
      ]
    },
    {
      "cell_type": "code",
      "source": [
        "import cv2\n",
        "test_img=cv2.imread(r'/content/gdrive/MyDrive/dataset/T51+T52BAD+T53BAD+T54BAD+T57BAD +T58BAD/Test/good_dataset/DJI_0911.jpg')\n",
        "test_img=cv2.resize(test_img,(240,240))\n",
        "test_img\n",
        "img=np.asarray(test_img)\n",
        "img.shape\n",
        "from copy import deepcopy\n",
        "img_2=deepcopy(img)\n",
        "images=[img,img_2]\n",
        "prediction=my_model.predict(np.array(images))\n",
        "print(prediction)"
      ],
      "metadata": {
        "colab": {
          "base_uri": "https://localhost:8080/"
        },
        "id": "EshdBjlWv933",
        "outputId": "4fb093f4-96db-4e7e-caa1-29dedac98752"
      },
      "execution_count": null,
      "outputs": [
        {
          "output_type": "stream",
          "name": "stdout",
          "text": [
            "1/1 [==============================] - 0s 44ms/step\n",
            "[[1.]\n",
            " [1.]]\n"
          ]
        }
      ]
    },
    {
      "cell_type": "code",
      "source": [
        "import cv2\n",
        "test_img=cv2.imread(r'/content/gdrive/MyDrive/dataset/T51+T52BAD+T53BAD+T54BAD+T57BAD +T58BAD/Test/good_dataset/DJI_0913.jpg')\n",
        "test_img=cv2.resize(test_img,(240,240))\n",
        "test_img\n",
        "img=np.asarray(test_img)\n",
        "img.shape\n",
        "from copy import deepcopy\n",
        "img_2=deepcopy(img)\n",
        "images=[img,img_2]\n",
        "prediction=my_model.predict(np.array(images))\n",
        "print(prediction)"
      ],
      "metadata": {
        "colab": {
          "base_uri": "https://localhost:8080/"
        },
        "id": "3-VKZsaFwA27",
        "outputId": "047c42d2-e029-4911-b78b-c04fdb89e8da"
      },
      "execution_count": null,
      "outputs": [
        {
          "output_type": "stream",
          "name": "stdout",
          "text": [
            "1/1 [==============================] - 0s 45ms/step\n",
            "[[1.]\n",
            " [1.]]\n"
          ]
        }
      ]
    },
    {
      "cell_type": "code",
      "source": [
        "import cv2\n",
        "test_img=cv2.imread(r'/content/gdrive/MyDrive/dataset/T51+T52BAD+T53BAD+T54BAD+T57BAD +T58BAD/Test/good_dataset/DJI_0915.jpg')\n",
        "test_img=cv2.resize(test_img,(240,240))\n",
        "test_img\n",
        "img=np.asarray(test_img)\n",
        "img.shape\n",
        "from copy import deepcopy\n",
        "img_2=deepcopy(img)\n",
        "images=[img,img_2]\n",
        "prediction=my_model.predict(np.array(images))\n",
        "print(prediction)"
      ],
      "metadata": {
        "colab": {
          "base_uri": "https://localhost:8080/"
        },
        "id": "6PljATDxwCna",
        "outputId": "e6906c87-a50a-4a4c-ce6e-b2d616969905"
      },
      "execution_count": null,
      "outputs": [
        {
          "output_type": "stream",
          "name": "stdout",
          "text": [
            "1/1 [==============================] - 0s 40ms/step\n",
            "[[1.]\n",
            " [1.]]\n"
          ]
        }
      ]
    },
    {
      "cell_type": "code",
      "source": [
        "import cv2\n",
        "test_img=cv2.imread(r'/content/gdrive/MyDrive/dataset/T51+T52BAD+T53BAD+T54BAD+T57BAD +T58BAD/Test/good_dataset/DJI_0917.jpg')\n",
        "test_img=cv2.resize(test_img,(240,240))\n",
        "test_img\n",
        "img=np.asarray(test_img)\n",
        "img.shape\n",
        "from copy import deepcopy\n",
        "img_2=deepcopy(img)\n",
        "images=[img,img_2]\n",
        "prediction=my_model.predict(np.array(images))\n",
        "print(prediction)"
      ],
      "metadata": {
        "colab": {
          "base_uri": "https://localhost:8080/"
        },
        "id": "59b5FEdJwHip",
        "outputId": "f0c44ea3-1e59-481a-ec58-c45ad1628df8"
      },
      "execution_count": null,
      "outputs": [
        {
          "output_type": "stream",
          "name": "stdout",
          "text": [
            "1/1 [==============================] - 0s 46ms/step\n",
            "[[0.9995964]\n",
            " [0.9995964]]\n"
          ]
        }
      ]
    },
    {
      "cell_type": "code",
      "source": [
        "import cv2\n",
        "test_img=cv2.imread(r'/content/gdrive/MyDrive/dataset/T51+T52BAD+T53BAD+T54BAD+T57BAD +T58BAD/Test/good_dataset/DJI_0919.jpg')\n",
        "test_img=cv2.resize(test_img,(240,240))\n",
        "test_img\n",
        "img=np.asarray(test_img)\n",
        "img.shape\n",
        "from copy import deepcopy\n",
        "img_2=deepcopy(img)\n",
        "images=[img,img_2]\n",
        "prediction=my_model.predict(np.array(images))\n",
        "print(prediction)"
      ],
      "metadata": {
        "colab": {
          "base_uri": "https://localhost:8080/"
        },
        "id": "SR5lqBFjwKQF",
        "outputId": "bbe6d61c-f4c3-46b4-ad64-100d15a0bf45"
      },
      "execution_count": null,
      "outputs": [
        {
          "output_type": "stream",
          "name": "stdout",
          "text": [
            "1/1 [==============================] - 0s 41ms/step\n",
            "[[0.9999454]\n",
            " [0.9999454]]\n"
          ]
        }
      ]
    },
    {
      "cell_type": "code",
      "source": [
        "import cv2\n",
        "test_img=cv2.imread(r'/content/gdrive/MyDrive/dataset/T51+T52BAD+T53BAD+T54BAD+T57BAD +T58BAD/Test/good_dataset/DJI_0921.jpg')\n",
        "test_img=cv2.resize(test_img,(240,240))\n",
        "test_img\n",
        "img=np.asarray(test_img)\n",
        "img.shape\n",
        "from copy import deepcopy\n",
        "img_2=deepcopy(img)\n",
        "images=[img,img_2]\n",
        "prediction=my_model.predict(np.array(images))\n",
        "print(prediction)"
      ],
      "metadata": {
        "colab": {
          "base_uri": "https://localhost:8080/"
        },
        "id": "Vzh3FxVXwO89",
        "outputId": "47c8bdc1-fcb6-43fb-ea04-1d7caf96b966"
      },
      "execution_count": null,
      "outputs": [
        {
          "output_type": "stream",
          "name": "stdout",
          "text": [
            "1/1 [==============================] - 0s 90ms/step\n",
            "[[0.99999976]\n",
            " [0.99999976]]\n"
          ]
        }
      ]
    },
    {
      "cell_type": "code",
      "source": [
        "import cv2\n",
        "test_img=cv2.imread(r'/content/gdrive/MyDrive/dataset/T51+T52BAD+T53BAD+T54BAD+T57BAD +T58BAD/Test/good_dataset/DJI_0923.jpg')\n",
        "test_img=cv2.resize(test_img,(240,240))\n",
        "test_img\n",
        "img=np.asarray(test_img)\n",
        "img.shape\n",
        "from copy import deepcopy\n",
        "img_2=deepcopy(img)\n",
        "images=[img,img_2]\n",
        "prediction=my_model.predict(np.array(images))\n",
        "print(prediction)"
      ],
      "metadata": {
        "colab": {
          "base_uri": "https://localhost:8080/"
        },
        "id": "qL8U8WDqwRBY",
        "outputId": "ea515410-ee08-4ed2-e290-48a75b1b329a"
      },
      "execution_count": null,
      "outputs": [
        {
          "output_type": "stream",
          "name": "stdout",
          "text": [
            "1/1 [==============================] - 0s 41ms/step\n",
            "[[1.]\n",
            " [1.]]\n"
          ]
        }
      ]
    },
    {
      "cell_type": "code",
      "source": [
        "import cv2\n",
        "test_img=cv2.imread(r'/content/gdrive/MyDrive/dataset/T51+T52BAD+T53BAD+T54BAD+T57BAD +T58BAD/Test/good_dataset/DJI_0925.jpg')\n",
        "test_img=cv2.resize(test_img,(240,240))\n",
        "test_img\n",
        "img=np.asarray(test_img)\n",
        "img.shape\n",
        "from copy import deepcopy\n",
        "img_2=deepcopy(img)\n",
        "images=[img,img_2]\n",
        "prediction=my_model.predict(np.array(images))\n",
        "print(prediction)"
      ],
      "metadata": {
        "colab": {
          "base_uri": "https://localhost:8080/"
        },
        "id": "JsEsvXubwa1A",
        "outputId": "d222adaf-3a03-4d5e-de72-9e954e228b58"
      },
      "execution_count": null,
      "outputs": [
        {
          "output_type": "stream",
          "name": "stdout",
          "text": [
            "1/1 [==============================] - 0s 44ms/step\n",
            "[[1.]\n",
            " [1.]]\n"
          ]
        }
      ]
    },
    {
      "cell_type": "code",
      "source": [
        "import cv2\n",
        "test_img=cv2.imread(r'/content/gdrive/MyDrive/dataset/T51+T52BAD+T53BAD+T54BAD+T57BAD +T58BAD/Test/good_dataset/DJI_0927.jpg')\n",
        "test_img=cv2.resize(test_img,(240,240))\n",
        "test_img\n",
        "img=np.asarray(test_img)\n",
        "img.shape\n",
        "from copy import deepcopy\n",
        "img_2=deepcopy(img)\n",
        "images=[img,img_2]\n",
        "prediction=my_model.predict(np.array(images))\n",
        "print(prediction)"
      ],
      "metadata": {
        "id": "IeNlgYCHwddw",
        "colab": {
          "base_uri": "https://localhost:8080/"
        },
        "outputId": "28cb1de0-49a1-4e73-9861-2c5268e1a278"
      },
      "execution_count": null,
      "outputs": [
        {
          "output_type": "stream",
          "name": "stdout",
          "text": [
            "1/1 [==============================] - 0s 42ms/step\n",
            "[[1.]\n",
            " [1.]]\n"
          ]
        }
      ]
    },
    {
      "cell_type": "code",
      "source": [
        "import cv2\n",
        "test_img=cv2.imread(r'/content/gdrive/MyDrive/dataset/T51+T52BAD+T53BAD+T54BAD+T57BAD +T58BAD/Test/good_dataset/DJI_0929.jpg')\n",
        "test_img=cv2.resize(test_img,(240,240))\n",
        "test_img\n",
        "img=np.asarray(test_img)\n",
        "img.shape\n",
        "from copy import deepcopy\n",
        "img_2=deepcopy(img)\n",
        "images=[img,img_2]\n",
        "prediction=my_model.predict(np.array(images))\n",
        "print(prediction)"
      ],
      "metadata": {
        "colab": {
          "base_uri": "https://localhost:8080/"
        },
        "id": "CZHAca5LwfFR",
        "outputId": "f5037930-9ad1-42d8-aebe-97a27fe24793"
      },
      "execution_count": null,
      "outputs": [
        {
          "output_type": "stream",
          "name": "stdout",
          "text": [
            "1/1 [==============================] - 0s 40ms/step\n",
            "[[1.]\n",
            " [1.]]\n"
          ]
        }
      ]
    },
    {
      "cell_type": "code",
      "source": [
        "import cv2\n",
        "test_img=cv2.imread(r'/content/gdrive/MyDrive/dataset/T51+T52BAD+T53BAD+T54BAD+T57BAD +T58BAD/Test/good_dataset/DJI_0931.jpg')\n",
        "test_img=cv2.resize(test_img,(240,240))\n",
        "test_img\n",
        "img=np.asarray(test_img)\n",
        "img.shape\n",
        "from copy import deepcopy\n",
        "img_2=deepcopy(img)\n",
        "images=[img,img_2]\n",
        "prediction=my_model.predict(np.array(images))\n",
        "print(prediction)"
      ],
      "metadata": {
        "colab": {
          "base_uri": "https://localhost:8080/"
        },
        "id": "Sr8b58CLwhwg",
        "outputId": "b58b87d5-f952-47aa-d507-ed9b60a02b42"
      },
      "execution_count": null,
      "outputs": [
        {
          "output_type": "stream",
          "name": "stdout",
          "text": [
            "1/1 [==============================] - 0s 39ms/step\n",
            "[[1.]\n",
            " [1.]]\n"
          ]
        }
      ]
    },
    {
      "cell_type": "code",
      "source": [
        "import cv2\n",
        "test_img=cv2.imread(r'/content/gdrive/MyDrive/dataset/T51+T52BAD+T53BAD+T54BAD+T57BAD +T58BAD/Test/good_dataset/DJI_0933.jpg')\n",
        "test_img=cv2.resize(test_img,(240,240))\n",
        "test_img\n",
        "img=np.asarray(test_img)\n",
        "img.shape\n",
        "from copy import deepcopy\n",
        "img_2=deepcopy(img)\n",
        "images=[img,img_2]\n",
        "prediction=my_model.predict(np.array(images))\n",
        "print(prediction)"
      ],
      "metadata": {
        "colab": {
          "base_uri": "https://localhost:8080/"
        },
        "id": "S0zlSYdDxypp",
        "outputId": "975911e8-09f7-4086-bc0e-0fc8356bb358"
      },
      "execution_count": null,
      "outputs": [
        {
          "output_type": "stream",
          "name": "stdout",
          "text": [
            "1/1 [==============================] - 0s 47ms/step\n",
            "[[1.]\n",
            " [1.]]\n"
          ]
        }
      ]
    },
    {
      "cell_type": "code",
      "source": [
        "import cv2\n",
        "test_img=cv2.imread(r'/content/gdrive/MyDrive/dataset/T51+T52BAD+T53BAD+T54BAD+T57BAD +T58BAD/Test/good_dataset/DJI_0935.jpg')\n",
        "test_img=cv2.resize(test_img,(240,240))\n",
        "test_img\n",
        "img=np.asarray(test_img)\n",
        "img.shape\n",
        "from copy import deepcopy\n",
        "img_2=deepcopy(img)\n",
        "images=[img,img_2]\n",
        "prediction=my_model.predict(np.array(images))\n",
        "print(prediction)"
      ],
      "metadata": {
        "colab": {
          "base_uri": "https://localhost:8080/"
        },
        "id": "X8R0Qz_bx4aX",
        "outputId": "1c332d0a-6a50-4201-efdf-14bfb1de3660"
      },
      "execution_count": null,
      "outputs": [
        {
          "output_type": "stream",
          "name": "stdout",
          "text": [
            "1/1 [==============================] - 0s 43ms/step\n",
            "[[0.99999976]\n",
            " [0.99999976]]\n"
          ]
        }
      ]
    },
    {
      "cell_type": "code",
      "source": [
        "import cv2\n",
        "test_img=cv2.imread(r'/content/gdrive/MyDrive/dataset/T51+T52BAD+T53BAD+T54BAD+T57BAD +T58BAD/Test/good_dataset/DJI_0937.jpg')\n",
        "test_img=cv2.resize(test_img,(240,240))\n",
        "test_img\n",
        "img=np.asarray(test_img)\n",
        "img.shape\n",
        "from copy import deepcopy\n",
        "img_2=deepcopy(img)\n",
        "images=[img,img_2]\n",
        "prediction=my_model.predict(np.array(images))\n",
        "print(prediction)"
      ],
      "metadata": {
        "colab": {
          "base_uri": "https://localhost:8080/"
        },
        "id": "YB4VRHN7x8Nq",
        "outputId": "2d89129c-be90-4339-d896-76b0e77f2be4"
      },
      "execution_count": null,
      "outputs": [
        {
          "output_type": "stream",
          "name": "stdout",
          "text": [
            "1/1 [==============================] - 0s 42ms/step\n",
            "[[0.9999099]\n",
            " [0.9999099]]\n"
          ]
        }
      ]
    },
    {
      "cell_type": "code",
      "source": [
        "import cv2\n",
        "test_img=cv2.imread(r'/content/gdrive/MyDrive/dataset/T51+T52BAD+T53BAD+T54BAD+T57BAD +T58BAD/Test/good_dataset/DJI_0939.jpg')\n",
        "test_img=cv2.resize(test_img,(240,240))\n",
        "test_img\n",
        "img=np.asarray(test_img)\n",
        "img.shape\n",
        "from copy import deepcopy\n",
        "img_2=deepcopy(img)\n",
        "images=[img,img_2]\n",
        "prediction=my_model.predict(np.array(images))\n",
        "print(prediction)"
      ],
      "metadata": {
        "colab": {
          "base_uri": "https://localhost:8080/"
        },
        "id": "Y3FSNegXx_l4",
        "outputId": "88a9e3a3-b0a5-463c-824e-40ec9a1a35b9"
      },
      "execution_count": null,
      "outputs": [
        {
          "output_type": "stream",
          "name": "stdout",
          "text": [
            "1/1 [==============================] - 0s 93ms/step\n",
            "[[0.9999852]\n",
            " [0.9999852]]\n"
          ]
        }
      ]
    },
    {
      "cell_type": "code",
      "source": [
        "import cv2\n",
        "test_img=cv2.imread(r'/content/gdrive/MyDrive/dataset/T51+T52BAD+T53BAD+T54BAD+T57BAD +T58BAD/Test/good_dataset/DJI_0941.jpg')\n",
        "test_img=cv2.resize(test_img,(240,240))\n",
        "test_img\n",
        "img=np.asarray(test_img)\n",
        "img.shape\n",
        "from copy import deepcopy\n",
        "img_2=deepcopy(img)\n",
        "images=[img,img_2]\n",
        "prediction=my_model.predict(np.array(images))\n",
        "print(prediction)"
      ],
      "metadata": {
        "colab": {
          "base_uri": "https://localhost:8080/"
        },
        "id": "rLd0hL0wx_w3",
        "outputId": "a6037a46-b984-4451-c086-ed2133d68850"
      },
      "execution_count": null,
      "outputs": [
        {
          "output_type": "stream",
          "name": "stdout",
          "text": [
            "1/1 [==============================] - 0s 89ms/step\n",
            "[[0.9999999]\n",
            " [0.9999999]]\n"
          ]
        }
      ]
    },
    {
      "cell_type": "code",
      "source": [
        "import cv2\n",
        "test_img=cv2.imread(r'/content/gdrive/MyDrive/dataset/T51+T52BAD+T53BAD+T54BAD+T57BAD +T58BAD/Test/good_dataset/DJI_0943.jpg')\n",
        "test_img=cv2.resize(test_img,(240,240))\n",
        "test_img\n",
        "img=np.asarray(test_img)\n",
        "img.shape\n",
        "from copy import deepcopy\n",
        "img_2=deepcopy(img)\n",
        "images=[img,img_2]\n",
        "prediction=my_model.predict(np.array(images))\n",
        "print(prediction)"
      ],
      "metadata": {
        "colab": {
          "base_uri": "https://localhost:8080/"
        },
        "id": "_YCyQSaox_4Y",
        "outputId": "fc5fcc97-7331-4d3e-ce9a-dc50ab3166aa"
      },
      "execution_count": null,
      "outputs": [
        {
          "output_type": "stream",
          "name": "stdout",
          "text": [
            "1/1 [==============================] - 0s 43ms/step\n",
            "[[1.]\n",
            " [1.]]\n"
          ]
        }
      ]
    },
    {
      "cell_type": "code",
      "source": [
        "import cv2\n",
        "test_img=cv2.imread(r'/content/gdrive/MyDrive/dataset/T51+T52BAD+T53BAD+T54BAD+T57BAD +T58BAD/Test/good_dataset/DJI_0945.jpg')\n",
        "test_img=cv2.resize(test_img,(240,240))\n",
        "test_img\n",
        "img=np.asarray(test_img)\n",
        "img.shape\n",
        "from copy import deepcopy\n",
        "img_2=deepcopy(img)\n",
        "images=[img,img_2]\n",
        "prediction=my_model.predict(np.array(images))\n",
        "print(prediction)"
      ],
      "metadata": {
        "colab": {
          "base_uri": "https://localhost:8080/"
        },
        "id": "BsX_OheUx_-l",
        "outputId": "dbcbccad-a8ad-4685-8d4f-4b9a4f925fc8"
      },
      "execution_count": null,
      "outputs": [
        {
          "output_type": "stream",
          "name": "stdout",
          "text": [
            "1/1 [==============================] - 0s 40ms/step\n",
            "[[0.98674357]\n",
            " [0.98674357]]\n"
          ]
        }
      ]
    },
    {
      "cell_type": "code",
      "source": [
        "import cv2\n",
        "test_img=cv2.imread(r'/content/gdrive/MyDrive/dataset/T51+T52BAD+T53BAD+T54BAD+T57BAD +T58BAD/Test/good_dataset/DJI_0947.jpg')\n",
        "test_img=cv2.resize(test_img,(240,240))\n",
        "test_img\n",
        "img=np.asarray(test_img)\n",
        "img.shape\n",
        "from copy import deepcopy\n",
        "img_2=deepcopy(img)\n",
        "images=[img,img_2]\n",
        "prediction=my_model.predict(np.array(images))\n",
        "print(prediction)"
      ],
      "metadata": {
        "colab": {
          "base_uri": "https://localhost:8080/"
        },
        "id": "Q8GmMovVyADu",
        "outputId": "32851099-4322-47e7-a6fa-b2f3f535fb2e"
      },
      "execution_count": null,
      "outputs": [
        {
          "output_type": "stream",
          "name": "stdout",
          "text": [
            "1/1 [==============================] - 0s 95ms/step\n",
            "[[0.99967694]\n",
            " [0.99967694]]\n"
          ]
        }
      ]
    },
    {
      "cell_type": "code",
      "source": [
        "import cv2\n",
        "test_img=cv2.imread(r'/content/gdrive/MyDrive/dataset/T51+T52BAD+T53BAD+T54BAD+T57BAD +T58BAD/Test/good_dataset/DJI_0949.jpg')\n",
        "test_img=cv2.resize(test_img,(240,240))\n",
        "test_img\n",
        "img=np.asarray(test_img)\n",
        "img.shape\n",
        "from copy import deepcopy\n",
        "img_2=deepcopy(img)\n",
        "images=[img,img_2]\n",
        "prediction=my_model.predict(np.array(images))\n",
        "print(prediction)"
      ],
      "metadata": {
        "colab": {
          "base_uri": "https://localhost:8080/"
        },
        "id": "6qAfVTIYyAMe",
        "outputId": "4454b544-c1cb-4b21-ff22-bd6781775488"
      },
      "execution_count": null,
      "outputs": [
        {
          "output_type": "stream",
          "name": "stdout",
          "text": [
            "1/1 [==============================] - 0s 95ms/step\n",
            "[[0.99977857]\n",
            " [0.99977857]]\n"
          ]
        }
      ]
    },
    {
      "cell_type": "code",
      "source": [
        "import cv2\n",
        "test_img=cv2.imread(r'/content/gdrive/MyDrive/dataset/T51+T52BAD+T53BAD+T54BAD+T57BAD +T58BAD/Test/good_dataset/DJI_0951.jpg')\n",
        "test_img=cv2.resize(test_img,(240,240))\n",
        "test_img\n",
        "img=np.asarray(test_img)\n",
        "img.shape\n",
        "from copy import deepcopy\n",
        "img_2=deepcopy(img)\n",
        "images=[img,img_2]\n",
        "prediction=my_model.predict(np.array(images))\n",
        "print(prediction)"
      ],
      "metadata": {
        "colab": {
          "base_uri": "https://localhost:8080/"
        },
        "id": "2oKomCqEyAUb",
        "outputId": "8d1fdb2c-00d7-43a5-d633-6ca371469e16"
      },
      "execution_count": null,
      "outputs": [
        {
          "output_type": "stream",
          "name": "stdout",
          "text": [
            "1/1 [==============================] - 0s 44ms/step\n",
            "[[0.999941]\n",
            " [0.999941]]\n"
          ]
        }
      ]
    },
    {
      "cell_type": "code",
      "source": [
        "import cv2\n",
        "test_img=cv2.imread(r'/content/gdrive/MyDrive/dataset/T51+T52BAD+T53BAD+T54BAD+T57BAD +T58BAD/Test/good_dataset/DJI_0953.jpg')\n",
        "test_img=cv2.resize(test_img,(240,240))\n",
        "test_img\n",
        "img=np.asarray(test_img)\n",
        "img.shape\n",
        "from copy import deepcopy\n",
        "img_2=deepcopy(img)\n",
        "images=[img,img_2]\n",
        "prediction=my_model.predict(np.array(images))\n",
        "print(prediction)"
      ],
      "metadata": {
        "colab": {
          "base_uri": "https://localhost:8080/"
        },
        "id": "HgCuieXOyXow",
        "outputId": "d3447e20-4a8c-4eb0-f3d2-98b4560a6667"
      },
      "execution_count": null,
      "outputs": [
        {
          "output_type": "stream",
          "name": "stdout",
          "text": [
            "1/1 [==============================] - 0s 64ms/step\n",
            "[[0.9999964]\n",
            " [0.9999964]]\n"
          ]
        }
      ]
    },
    {
      "cell_type": "code",
      "source": [
        "import cv2\n",
        "test_img=cv2.imread(r'/content/gdrive/MyDrive/dataset/T51+T52BAD+T53BAD+T54BAD+T57BAD +T58BAD/Test/good_dataset/DJI_0955.jpg')\n",
        "test_img=cv2.resize(test_img,(240,240))\n",
        "test_img\n",
        "img=np.asarray(test_img)\n",
        "img.shape\n",
        "from copy import deepcopy\n",
        "img_2=deepcopy(img)\n",
        "images=[img,img_2]\n",
        "prediction=my_model.predict(np.array(images))\n",
        "print(prediction)"
      ],
      "metadata": {
        "colab": {
          "base_uri": "https://localhost:8080/"
        },
        "id": "DRRXN3vVyX0_",
        "outputId": "a7ad1602-1f94-4dd6-812a-aa224558aa6a"
      },
      "execution_count": null,
      "outputs": [
        {
          "output_type": "stream",
          "name": "stdout",
          "text": [
            "1/1 [==============================] - 0s 40ms/step\n",
            "[[0.99998987]\n",
            " [0.99998987]]\n"
          ]
        }
      ]
    },
    {
      "cell_type": "code",
      "source": [
        "import cv2\n",
        "test_img=cv2.imread(r'/content/gdrive/MyDrive/dataset/T51+T52BAD+T53BAD+T54BAD+T57BAD +T58BAD/Test/good_dataset/DJI_0957.jpg')\n",
        "test_img=cv2.resize(test_img,(240,240))\n",
        "test_img\n",
        "img=np.asarray(test_img)\n",
        "img.shape\n",
        "from copy import deepcopy\n",
        "img_2=deepcopy(img)\n",
        "images=[img,img_2]\n",
        "prediction=my_model.predict(np.array(images))\n",
        "print(prediction)"
      ],
      "metadata": {
        "colab": {
          "base_uri": "https://localhost:8080/"
        },
        "id": "DMzdCyTLyX7c",
        "outputId": "9860eedc-1dfa-44b2-936e-071d81a911a7"
      },
      "execution_count": null,
      "outputs": [
        {
          "output_type": "stream",
          "name": "stdout",
          "text": [
            "1/1 [==============================] - 0s 39ms/step\n",
            "[[0.9999993]\n",
            " [0.9999993]]\n"
          ]
        }
      ]
    },
    {
      "cell_type": "code",
      "source": [
        "import cv2\n",
        "test_img=cv2.imread(r'/content/gdrive/MyDrive/dataset/T51+T52BAD+T53BAD+T54BAD+T57BAD +T58BAD/Test/good_dataset/DJI_0959.jpg')\n",
        "test_img=cv2.resize(test_img,(240,240))\n",
        "test_img\n",
        "img=np.asarray(test_img)\n",
        "img.shape\n",
        "from copy import deepcopy\n",
        "img_2=deepcopy(img)\n",
        "images=[img,img_2]\n",
        "prediction=my_model.predict(np.array(images))\n",
        "print(prediction)"
      ],
      "metadata": {
        "colab": {
          "base_uri": "https://localhost:8080/"
        },
        "id": "0qnLdt6yyYC4",
        "outputId": "36630c16-5613-47e3-9948-19e6afb74ec2"
      },
      "execution_count": null,
      "outputs": [
        {
          "output_type": "stream",
          "name": "stdout",
          "text": [
            "1/1 [==============================] - 0s 41ms/step\n",
            "[[0.99999833]\n",
            " [0.99999833]]\n"
          ]
        }
      ]
    },
    {
      "cell_type": "code",
      "source": [
        "import cv2\n",
        "test_img=cv2.imread(r'/content/gdrive/MyDrive/dataset/T51+T52BAD+T53BAD+T54BAD+T57BAD +T58BAD/Test/good_dataset/DJI_0961.jpg')\n",
        "test_img=cv2.resize(test_img,(240,240))\n",
        "test_img\n",
        "img=np.asarray(test_img)\n",
        "img.shape\n",
        "from copy import deepcopy\n",
        "img_2=deepcopy(img)\n",
        "images=[img,img_2]\n",
        "prediction=my_model.predict(np.array(images))\n",
        "print(prediction)"
      ],
      "metadata": {
        "colab": {
          "base_uri": "https://localhost:8080/"
        },
        "id": "6QvAIQdKyYJq",
        "outputId": "3df48ddc-01f6-40a3-c0b5-6a1a5b9aadf0"
      },
      "execution_count": null,
      "outputs": [
        {
          "output_type": "stream",
          "name": "stdout",
          "text": [
            "1/1 [==============================] - 0s 98ms/step\n",
            "[[0.99999976]\n",
            " [0.99999976]]\n"
          ]
        }
      ]
    },
    {
      "cell_type": "code",
      "source": [
        "import cv2\n",
        "test_img=cv2.imread(r'/content/gdrive/MyDrive/dataset/T51+T52BAD+T53BAD+T54BAD+T57BAD +T58BAD/Test/good_dataset/DJI_0963.jpg')\n",
        "test_img=cv2.resize(test_img,(240,240))\n",
        "test_img\n",
        "img=np.asarray(test_img)\n",
        "img.shape\n",
        "from copy import deepcopy\n",
        "img_2=deepcopy(img)\n",
        "images=[img,img_2]\n",
        "prediction=my_model.predict(np.array(images))\n",
        "print(prediction)"
      ],
      "metadata": {
        "colab": {
          "base_uri": "https://localhost:8080/"
        },
        "id": "Wo_axcLWyYSg",
        "outputId": "11f52061-12f2-4f13-a9af-404873bf21d3"
      },
      "execution_count": null,
      "outputs": [
        {
          "output_type": "stream",
          "name": "stdout",
          "text": [
            "1/1 [==============================] - 0s 43ms/step\n",
            "[[1.]\n",
            " [1.]]\n"
          ]
        }
      ]
    },
    {
      "cell_type": "code",
      "source": [
        "import cv2\n",
        "test_img=cv2.imread(r'/content/gdrive/MyDrive/dataset/T51+T52BAD+T53BAD+T54BAD+T57BAD +T58BAD/Test/good_dataset/DJI_0965.jpg')\n",
        "test_img=cv2.resize(test_img,(240,240))\n",
        "test_img\n",
        "img=np.asarray(test_img)\n",
        "img.shape\n",
        "from copy import deepcopy\n",
        "img_2=deepcopy(img)\n",
        "images=[img,img_2]\n",
        "prediction=my_model.predict(np.array(images))\n",
        "print(prediction)"
      ],
      "metadata": {
        "colab": {
          "base_uri": "https://localhost:8080/"
        },
        "id": "NRMlsbE6ytLP",
        "outputId": "16a75b02-ee8b-400f-bc0a-eae9e7631622"
      },
      "execution_count": null,
      "outputs": [
        {
          "output_type": "stream",
          "name": "stdout",
          "text": [
            "1/1 [==============================] - 0s 41ms/step\n",
            "[[1.]\n",
            " [1.]]\n"
          ]
        }
      ]
    },
    {
      "cell_type": "code",
      "source": [
        "import cv2\n",
        "test_img=cv2.imread(r'/content/gdrive/MyDrive/dataset/T51+T52BAD+T53BAD+T54BAD+T57BAD +T58BAD/Test/good_dataset/DJI_0967.jpg')\n",
        "test_img=cv2.resize(test_img,(240,240))\n",
        "test_img\n",
        "img=np.asarray(test_img)\n",
        "img.shape\n",
        "from copy import deepcopy\n",
        "img_2=deepcopy(img)\n",
        "images=[img,img_2]\n",
        "prediction=my_model.predict(np.array(images))\n",
        "print(prediction)"
      ],
      "metadata": {
        "colab": {
          "base_uri": "https://localhost:8080/"
        },
        "id": "d8uBtuiXyuC5",
        "outputId": "db92e271-222a-4069-b63b-85f0aeb4d8a9"
      },
      "execution_count": null,
      "outputs": [
        {
          "output_type": "stream",
          "name": "stdout",
          "text": [
            "1/1 [==============================] - 0s 52ms/step\n",
            "[[0.9999858]\n",
            " [0.9999858]]\n"
          ]
        }
      ]
    },
    {
      "cell_type": "code",
      "source": [
        "import cv2\n",
        "test_img=cv2.imread(r'/content/gdrive/MyDrive/dataset/T51+T52BAD+T53BAD+T54BAD+T57BAD +T58BAD/Test/good_dataset/DJI_0969.jpg')\n",
        "test_img=cv2.resize(test_img,(240,240))\n",
        "test_img\n",
        "img=np.asarray(test_img)\n",
        "img.shape\n",
        "from copy import deepcopy\n",
        "img_2=deepcopy(img)\n",
        "images=[img,img_2]\n",
        "prediction=my_model.predict(np.array(images))\n",
        "print(prediction)"
      ],
      "metadata": {
        "colab": {
          "base_uri": "https://localhost:8080/"
        },
        "id": "14icMaZHyuKO",
        "outputId": "c5cc64ea-4644-4bc3-f6f8-53a8b5f77f3a"
      },
      "execution_count": null,
      "outputs": [
        {
          "output_type": "stream",
          "name": "stdout",
          "text": [
            "1/1 [==============================] - 0s 41ms/step\n",
            "[[1.]\n",
            " [1.]]\n"
          ]
        }
      ]
    },
    {
      "cell_type": "code",
      "source": [
        "import cv2\n",
        "test_img=cv2.imread(r'/content/gdrive/MyDrive/dataset/T51+T52BAD+T53BAD+T54BAD+T57BAD +T58BAD/Test/good_dataset/DJI_0971.jpg')\n",
        "test_img=cv2.resize(test_img,(240,240))\n",
        "test_img\n",
        "img=np.asarray(test_img)\n",
        "img.shape\n",
        "from copy import deepcopy\n",
        "img_2=deepcopy(img)\n",
        "images=[img,img_2]\n",
        "prediction=my_model.predict(np.array(images))\n",
        "print(prediction)"
      ],
      "metadata": {
        "colab": {
          "base_uri": "https://localhost:8080/"
        },
        "id": "63qU-ty-yuSH",
        "outputId": "fdf14138-c929-498e-990a-50cc839f4a2d"
      },
      "execution_count": null,
      "outputs": [
        {
          "output_type": "stream",
          "name": "stdout",
          "text": [
            "1/1 [==============================] - 0s 45ms/step\n",
            "[[1.]\n",
            " [1.]]\n"
          ]
        }
      ]
    },
    {
      "cell_type": "code",
      "source": [
        "import cv2\n",
        "test_img=cv2.imread(r'/content/gdrive/MyDrive/dataset/T51+T52BAD+T53BAD+T54BAD+T57BAD +T58BAD/Test/good_dataset/DJI_0973.jpg')\n",
        "test_img=cv2.resize(test_img,(240,240))\n",
        "test_img\n",
        "img=np.asarray(test_img)\n",
        "img.shape\n",
        "from copy import deepcopy\n",
        "img_2=deepcopy(img)\n",
        "images=[img,img_2]\n",
        "prediction=my_model.predict(np.array(images))\n",
        "print(prediction)"
      ],
      "metadata": {
        "colab": {
          "base_uri": "https://localhost:8080/"
        },
        "id": "ESVvGvT5yuYN",
        "outputId": "afca6611-7476-4492-9b29-4f7a697053cc"
      },
      "execution_count": null,
      "outputs": [
        {
          "output_type": "stream",
          "name": "stdout",
          "text": [
            "1/1 [==============================] - 0s 101ms/step\n",
            "[[1.]\n",
            " [1.]]\n"
          ]
        }
      ]
    },
    {
      "cell_type": "code",
      "source": [
        "import cv2\n",
        "test_img=cv2.imread(r'/content/gdrive/MyDrive/dataset/T51+T52BAD+T53BAD+T54BAD+T57BAD +T58BAD/Test/good_dataset/DJI_0975.jpg')\n",
        "test_img=cv2.resize(test_img,(240,240))\n",
        "test_img\n",
        "img=np.asarray(test_img)\n",
        "img.shape\n",
        "from copy import deepcopy\n",
        "img_2=deepcopy(img)\n",
        "images=[img,img_2]\n",
        "prediction=my_model.predict(np.array(images))\n",
        "print(prediction)"
      ],
      "metadata": {
        "colab": {
          "base_uri": "https://localhost:8080/"
        },
        "id": "Ut-PpBexyueH",
        "outputId": "6bdb1ec8-8127-4077-bc60-841d295fb1d8"
      },
      "execution_count": null,
      "outputs": [
        {
          "output_type": "stream",
          "name": "stdout",
          "text": [
            "1/1 [==============================] - 0s 41ms/step\n",
            "[[1.]\n",
            " [1.]]\n"
          ]
        }
      ]
    },
    {
      "cell_type": "code",
      "source": [
        "import cv2\n",
        "test_img=cv2.imread(r'/content/gdrive/MyDrive/dataset/T51+T52BAD+T53BAD+T54BAD+T57BAD +T58BAD/Test/good_dataset/DJI_0977.jpg')\n",
        "test_img=cv2.resize(test_img,(240,240))\n",
        "test_img\n",
        "img=np.asarray(test_img)\n",
        "img.shape\n",
        "from copy import deepcopy\n",
        "img_2=deepcopy(img)\n",
        "images=[img,img_2]\n",
        "prediction=my_model.predict(np.array(images))\n",
        "print(prediction)"
      ],
      "metadata": {
        "colab": {
          "base_uri": "https://localhost:8080/"
        },
        "id": "JMWmEvNNyukI",
        "outputId": "572fbdec-c528-49c0-dc2e-7ad2ef40fc85"
      },
      "execution_count": null,
      "outputs": [
        {
          "output_type": "stream",
          "name": "stdout",
          "text": [
            "1/1 [==============================] - 0s 46ms/step\n",
            "[[1.]\n",
            " [1.]]\n"
          ]
        }
      ]
    },
    {
      "cell_type": "code",
      "source": [
        "import cv2\n",
        "test_img=cv2.imread(r'/content/gdrive/MyDrive/dataset/T51+T52BAD+T53BAD+T54BAD+T57BAD +T58BAD/Test/good_dataset/DJI_0979.jpg')\n",
        "test_img=cv2.resize(test_img,(240,240))\n",
        "test_img\n",
        "img=np.asarray(test_img)\n",
        "img.shape\n",
        "from copy import deepcopy\n",
        "img_2=deepcopy(img)\n",
        "images=[img,img_2]\n",
        "prediction=my_model.predict(np.array(images))\n",
        "print(prediction)"
      ],
      "metadata": {
        "colab": {
          "base_uri": "https://localhost:8080/"
        },
        "id": "bLMJknWkyup-",
        "outputId": "e278a385-3e13-4bb8-fca2-8c25888447a9"
      },
      "execution_count": null,
      "outputs": [
        {
          "output_type": "stream",
          "name": "stdout",
          "text": [
            "1/1 [==============================] - 0s 47ms/step\n",
            "[[1.]\n",
            " [1.]]\n"
          ]
        }
      ]
    },
    {
      "cell_type": "code",
      "source": [
        "import cv2\n",
        "test_img=cv2.imread(r'/content/gdrive/MyDrive/dataset/T51+T52BAD+T53BAD+T54BAD+T57BAD +T58BAD/Test/good_dataset/DJI_0981.jpg')\n",
        "test_img=cv2.resize(test_img,(240,240))\n",
        "test_img\n",
        "img=np.asarray(test_img)\n",
        "img.shape\n",
        "from copy import deepcopy\n",
        "img_2=deepcopy(img)\n",
        "images=[img,img_2]\n",
        "prediction=my_model.predict(np.array(images))\n",
        "print(prediction)"
      ],
      "metadata": {
        "colab": {
          "base_uri": "https://localhost:8080/"
        },
        "id": "by582it0yu03",
        "outputId": "1c5fd26d-75a9-45df-824d-c3edb4857b19"
      },
      "execution_count": null,
      "outputs": [
        {
          "output_type": "stream",
          "name": "stdout",
          "text": [
            "1/1 [==============================] - 0s 86ms/step\n",
            "[[1.]\n",
            " [1.]]\n"
          ]
        }
      ]
    },
    {
      "cell_type": "code",
      "source": [
        "import cv2\n",
        "test_img=cv2.imread(r'/content/gdrive/MyDrive/dataset/T51+T52BAD+T53BAD+T54BAD+T57BAD +T58BAD/Test/good_dataset/DJI_0983.jpg')\n",
        "test_img=cv2.resize(test_img,(240,240))\n",
        "test_img\n",
        "img=np.asarray(test_img)\n",
        "img.shape\n",
        "from copy import deepcopy\n",
        "img_2=deepcopy(img)\n",
        "images=[img,img_2]\n",
        "prediction=my_model.predict(np.array(images))\n",
        "print(prediction)"
      ],
      "metadata": {
        "colab": {
          "base_uri": "https://localhost:8080/"
        },
        "id": "StoG_JBTyu7E",
        "outputId": "02729e01-947c-4245-e3d9-63b4088ccbfe"
      },
      "execution_count": null,
      "outputs": [
        {
          "output_type": "stream",
          "name": "stdout",
          "text": [
            "1/1 [==============================] - 0s 50ms/step\n",
            "[[1.]\n",
            " [1.]]\n"
          ]
        }
      ]
    },
    {
      "cell_type": "code",
      "source": [
        "import cv2\n",
        "test_img=cv2.imread(r'/content/gdrive/MyDrive/dataset/T51+T52BAD+T53BAD+T54BAD+T57BAD +T58BAD/Test/good_dataset/DJI_0985.jpg')\n",
        "test_img=cv2.resize(test_img,(240,240))\n",
        "test_img\n",
        "img=np.asarray(test_img)\n",
        "img.shape\n",
        "from copy import deepcopy\n",
        "img_2=deepcopy(img)\n",
        "images=[img,img_2]\n",
        "prediction=my_model.predict(np.array(images))\n",
        "print(prediction)"
      ],
      "metadata": {
        "colab": {
          "base_uri": "https://localhost:8080/"
        },
        "id": "0gBAmN6jyvA8",
        "outputId": "3aadc903-bbb0-4c2d-e33b-48b2658428ef"
      },
      "execution_count": null,
      "outputs": [
        {
          "output_type": "stream",
          "name": "stdout",
          "text": [
            "1/1 [==============================] - 0s 131ms/step\n",
            "[[1.]\n",
            " [1.]]\n"
          ]
        }
      ]
    },
    {
      "cell_type": "code",
      "source": [
        "import cv2\n",
        "test_img=cv2.imread(r'/content/gdrive/MyDrive/dataset/T51+T52BAD+T53BAD+T54BAD+T57BAD +T58BAD/Test/good_dataset/DJI_0987.jpg')\n",
        "test_img=cv2.resize(test_img,(240,240))\n",
        "test_img\n",
        "img=np.asarray(test_img)\n",
        "img.shape\n",
        "from copy import deepcopy\n",
        "img_2=deepcopy(img)\n",
        "images=[img,img_2]\n",
        "prediction=my_model.predict(np.array(images))\n",
        "print(prediction)"
      ],
      "metadata": {
        "colab": {
          "base_uri": "https://localhost:8080/"
        },
        "id": "ARXQVo0ryvG0",
        "outputId": "b96309dd-b149-4794-8e45-51f1068cbd11"
      },
      "execution_count": null,
      "outputs": [
        {
          "output_type": "stream",
          "name": "stdout",
          "text": [
            "1/1 [==============================] - 0s 99ms/step\n",
            "[[1.]\n",
            " [1.]]\n"
          ]
        }
      ]
    },
    {
      "cell_type": "code",
      "source": [
        "import cv2\n",
        "test_img=cv2.imread(r'/content/gdrive/MyDrive/dataset/T51+T52BAD+T53BAD+T54BAD+T57BAD +T58BAD/Test/good_dataset/DJI_0989.jpg')\n",
        "test_img=cv2.resize(test_img,(240,240))\n",
        "test_img\n",
        "img=np.asarray(test_img)\n",
        "img.shape\n",
        "from copy import deepcopy\n",
        "img_2=deepcopy(img)\n",
        "images=[img,img_2]\n",
        "prediction=my_model.predict(np.array(images))\n",
        "print(prediction)"
      ],
      "metadata": {
        "colab": {
          "base_uri": "https://localhost:8080/"
        },
        "id": "ClPU_En8yvNC",
        "outputId": "301d09e4-428a-46c1-bac2-c471b111ca98"
      },
      "execution_count": null,
      "outputs": [
        {
          "output_type": "stream",
          "name": "stdout",
          "text": [
            "1/1 [==============================] - 0s 45ms/step\n",
            "[[0.99999917]\n",
            " [0.99999917]]\n"
          ]
        }
      ]
    },
    {
      "cell_type": "code",
      "source": [
        "import cv2\n",
        "test_img=cv2.imread(r'/content/gdrive/MyDrive/dataset/T51+T52BAD+T53BAD+T54BAD+T57BAD +T58BAD/Test/good_dataset/DJI_0991.jpg')\n",
        "test_img=cv2.resize(test_img,(240,240))\n",
        "test_img\n",
        "img=np.asarray(test_img)\n",
        "img.shape\n",
        "from copy import deepcopy\n",
        "img_2=deepcopy(img)\n",
        "images=[img,img_2]\n",
        "prediction=my_model.predict(np.array(images))\n",
        "print(prediction)"
      ],
      "metadata": {
        "colab": {
          "base_uri": "https://localhost:8080/"
        },
        "outputId": "31f40825-3723-4223-9435-fa55727ab0f3",
        "id": "W122F5OD4qCa"
      },
      "execution_count": null,
      "outputs": [
        {
          "output_type": "stream",
          "name": "stdout",
          "text": [
            "1/1 [==============================] - 0s 41ms/step\n",
            "[[0.99997866]\n",
            " [0.99997866]]\n"
          ]
        }
      ]
    },
    {
      "cell_type": "code",
      "source": [
        "import cv2\n",
        "test_img=cv2.imread(r'/content/gdrive/MyDrive/dataset/T51+T52BAD+T53BAD+T54BAD+T57BAD +T58BAD/Test/good_dataset/DJI_0993.jpg')\n",
        "test_img=cv2.resize(test_img,(240,240))\n",
        "test_img\n",
        "img=np.asarray(test_img)\n",
        "img.shape\n",
        "from copy import deepcopy\n",
        "img_2=deepcopy(img)\n",
        "images=[img,img_2]\n",
        "prediction=my_model.predict(np.array(images))\n",
        "print(prediction)"
      ],
      "metadata": {
        "colab": {
          "base_uri": "https://localhost:8080/"
        },
        "outputId": "1d4176e4-2f39-4552-803e-34f4789f8e02",
        "id": "DHPfgCAu4rNy"
      },
      "execution_count": null,
      "outputs": [
        {
          "output_type": "stream",
          "name": "stdout",
          "text": [
            "1/1 [==============================] - 0s 43ms/step\n",
            "[[0.9951434]\n",
            " [0.9951434]]\n"
          ]
        }
      ]
    },
    {
      "cell_type": "code",
      "source": [
        "import cv2\n",
        "test_img=cv2.imread(r'/content/gdrive/MyDrive/dataset/T51+T52BAD+T53BAD+T54BAD+T57BAD +T58BAD/Test/good_dataset/DJI_0995.jpg')\n",
        "test_img=cv2.resize(test_img,(240,240))\n",
        "test_img\n",
        "img=np.asarray(test_img)\n",
        "img.shape\n",
        "from copy import deepcopy\n",
        "img_2=deepcopy(img)\n",
        "images=[img,img_2]\n",
        "prediction=my_model.predict(np.array(images))\n",
        "print(prediction)"
      ],
      "metadata": {
        "colab": {
          "base_uri": "https://localhost:8080/"
        },
        "outputId": "0407f171-7e3b-408d-b7d4-ff9d840eee3f",
        "id": "qR8Jhk-g4rc3"
      },
      "execution_count": null,
      "outputs": [
        {
          "output_type": "stream",
          "name": "stdout",
          "text": [
            "1/1 [==============================] - 0s 88ms/step\n",
            "[[0.9997867]\n",
            " [0.9997867]]\n"
          ]
        }
      ]
    },
    {
      "cell_type": "code",
      "source": [
        "from sklearn.metrics import classification_report,confusion_matrix\n",
        "truth=['bad','bad','bad','bad','bad','bad','bad','bad','bad','bad','bad','bad','bad','bad','bad','bad','bad','bad','bad','bad','bad','bad','good','good','good','good','good','good','good','good','good','good','good','good','good','good','good','good','good','good','good','good','good','good','good','good','good','good','good','good','good','good','good','good','good','good','good','good','good','good','good','good','good','good','good','good','good','good','good','good','good','good','good','good','good','good','good','good','good','good','good','good','good','good','good','good']\n",
        "prediction=['bad','bad','bad','good','good','good','good','good','good','good','good','good','good','good','bad','bad','good','good','good','good','good','good','good','good','good','good','good','good','good','good','good','good','good','good','good','good','good','good','good','good','good','good','good','good','good','good','good','good','good','good','good','good','good','good','good','good','good','good','good','good','good','good','good','good','good','good','good','good','good','good','good','good','good','good','good','good','good','good','good','good','good','good','good','good','good','good']\n",
        "print(classification_report(truth,prediction))\n",
        "print(confusion_matrix(truth,prediction))"
      ],
      "metadata": {
        "colab": {
          "base_uri": "https://localhost:8080/"
        },
        "id": "h5iGQqMP3jtY",
        "outputId": "81bc4b5e-c5e9-4913-a180-7424b761269e"
      },
      "execution_count": null,
      "outputs": [
        {
          "output_type": "stream",
          "name": "stdout",
          "text": [
            "              precision    recall  f1-score   support\n",
            "\n",
            "         bad       1.00      0.23      0.37        22\n",
            "        good       0.79      1.00      0.88        64\n",
            "\n",
            "    accuracy                           0.80        86\n",
            "   macro avg       0.90      0.61      0.63        86\n",
            "weighted avg       0.84      0.80      0.75        86\n",
            "\n",
            "[[ 5 17]\n",
            " [ 0 64]]\n"
          ]
        }
      ]
    },
    {
      "cell_type": "markdown",
      "source": [],
      "metadata": {
        "id": "4OeGk9AS4wSi"
      }
    },
    {
      "cell_type": "markdown",
      "source": [],
      "metadata": {
        "id": "SlaUdcj54wE7"
      }
    }
  ]
}