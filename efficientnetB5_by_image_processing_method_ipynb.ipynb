{
  "nbformat": 4,
  "nbformat_minor": 0,
  "metadata": {
    "colab": {
      "provenance": [],
      "gpuType": "T4",
      "authorship_tag": "ABX9TyMPwGBMFpI4vUIi8+E4doLo",
      "include_colab_link": true
    },
    "kernelspec": {
      "name": "python3",
      "display_name": "Python 3"
    },
    "language_info": {
      "name": "python"
    }
  },
  "cells": [
    {
      "cell_type": "markdown",
      "metadata": {
        "id": "view-in-github",
        "colab_type": "text"
      },
      "source": [
        "<a href=\"https://colab.research.google.com/github/samikshagadhave/binary_classification/blob/main/efficientnetB5_by_image_processing_method_ipynb.ipynb\" target=\"_parent\"><img src=\"https://colab.research.google.com/assets/colab-badge.svg\" alt=\"Open In Colab\"/></a>"
      ]
    },
    {
      "cell_type": "code",
      "execution_count": null,
      "metadata": {
        "id": "8-RMACz4UwLv",
        "colab": {
          "base_uri": "https://localhost:8080/"
        },
        "outputId": "5fb0cbe2-b5b4-40c1-c806-ef0c11e62051"
      },
      "outputs": [
        {
          "output_type": "stream",
          "name": "stdout",
          "text": [
            "Mounted at /content/gdrive\n"
          ]
        }
      ],
      "source": [
        "from google.colab import drive\n",
        "drive.mount(\"/content/gdrive\")"
      ]
    },
    {
      "cell_type": "code",
      "source": [
        "%cd /content/gdrive"
      ],
      "metadata": {
        "id": "aFvi6X01U1l2",
        "colab": {
          "base_uri": "https://localhost:8080/"
        },
        "outputId": "586e27b2-3b5b-4267-e4ab-50b695c79997"
      },
      "execution_count": null,
      "outputs": [
        {
          "output_type": "stream",
          "name": "stdout",
          "text": [
            "/content/gdrive\n"
          ]
        }
      ]
    },
    {
      "cell_type": "code",
      "source": [
        "import pandas as pd\n",
        "\n",
        "df=pd.read_excel(r'/content/gdrive/MyDrive/T51+T52BAD+T53BAD+T54BAD+T57BAD +T58BAD/Train 1.xlsx')\n",
        "\n",
        "df['OR_Gate']=df['Tower']|df['Transmission line']|df['insulator']|df['vibration damper']\n",
        "#print(df['OR_Gate'])\n",
        "\n",
        "Bad_dataset=list(df[df['OR_Gate']==0][\"Image Name\"])\n",
        "#print(Bad_dataset)\n",
        "\n",
        "Good_dataset=list(df[df['OR_Gate']==1][\"Image Name\"])\n",
        "#print(Good_dataset)\n",
        "path=r\"/content/gdrive/MyDrive/T51+T52BAD+T53BAD+T54BAD+T57BAD +T58BAD/train/\"\n",
        "\n",
        "img_path_Bad_dataset=r\"/content/gdrive/MyDrive/T51+T52BAD+T53BAD+T54BAD+T57BAD +T58BAD/Train/bad_dataset/\"\n",
        "\n",
        "img_path_Good_dataset =r\"/content/gdrive/MyDrive/T51+T52BAD+T53BAD+T54BAD+T57BAD +T58BAD/Train/good_dataset/\"\n",
        "import shutil\n",
        "for i in Bad_dataset:\n",
        "   src_path=path+i\n",
        "   #print(src_path)\n",
        "   dest_path=img_path_Bad_dataset+i\n",
        "   #print(dest_path)\n",
        "   temp=shutil.copy(src_path,dest_path)\n",
        "   #print(temp)\n",
        "   print(\"bad_dataset folder created and relevant images have been moved\")\n",
        "for i in Good_dataset:\n",
        "   src_path=path+i\n",
        "   #print(src_path)\n",
        "   dest_path=img_path_Good_dataset+i\n",
        "   #print(dest_path)\n",
        "   temp=shutil.copy(src_path, dest_path)\n",
        "   print(\"good_dataset folder created and relevant images have been moved\")\n",
        "\n",
        "\n",
        "df=pd.read_excel(r'/content/gdrive/MyDrive/T51+T52BAD+T53BAD+T54BAD+T57BAD +T58BAD/Test 1.xlsx')\n",
        "\n",
        "df['OR_Gate']=df['Tower']|df['Transmission line']|df['insulator']|df['vibration damper']\n",
        "#print(df['OR_Gate'])\n",
        "\n",
        "Bad_dataset=list(df[df['OR_Gate']==0][\"Image Name\"])\n",
        "Good_dataset=list(df[df['OR_Gate']==1][\"Image Name\"])\n",
        "#print(Good_dataset)\n",
        "path=r\"/content/gdrive/MyDrive/T51+T52BAD+T53BAD+T54BAD+T57BAD +T58BAD/test/\"\n",
        "\n",
        "img_path_Bad_dataset=r\"/content/gdrive/MyDrive/T51+T52BAD+T53BAD+T54BAD+T57BAD +T58BAD/Test/bad_dataset/\"\n",
        "img_path_Good_dataset =r\"/content/gdrive/MyDrive/T51+T52BAD+T53BAD+T54BAD+T57BAD +T58BAD/Test/good_dataset/\"\n",
        "import shutil\n",
        "for i in Bad_dataset:\n",
        "   src_path=path+i\n",
        "   #print(src_path)\n",
        "   dest_path=img_path_Bad_dataset+i\n",
        "   #print(dest_path)\n",
        "   temp=shutil.copy(src_path,dest_path)\n",
        "   #print(temp)\n",
        "   print(\"bad_dataset folder created and relevant images have been moved\")\n",
        "for i in Good_dataset:\n",
        "   src_path=path+i\n",
        "   #print(src_path)\n",
        "   dest_path=img_path_Good_dataset+i\n",
        "   #print(dest_path)\n",
        "   temp=shutil.copy(src_path, dest_path)\n",
        "   print(\"good_dataset folder created and relevant images have been moved\")\n"
      ],
      "metadata": {
        "id": "Det1UpoBU1wE",
        "colab": {
          "base_uri": "https://localhost:8080/"
        },
        "outputId": "6389827f-6ca9-42fd-aba4-23b843f95767"
      },
      "execution_count": null,
      "outputs": [
        {
          "output_type": "stream",
          "name": "stdout",
          "text": [
            "bad_dataset folder created and relevant images have been moved\n",
            "bad_dataset folder created and relevant images have been moved\n",
            "bad_dataset folder created and relevant images have been moved\n",
            "bad_dataset folder created and relevant images have been moved\n",
            "bad_dataset folder created and relevant images have been moved\n",
            "bad_dataset folder created and relevant images have been moved\n",
            "bad_dataset folder created and relevant images have been moved\n",
            "bad_dataset folder created and relevant images have been moved\n",
            "bad_dataset folder created and relevant images have been moved\n",
            "bad_dataset folder created and relevant images have been moved\n",
            "bad_dataset folder created and relevant images have been moved\n",
            "bad_dataset folder created and relevant images have been moved\n",
            "bad_dataset folder created and relevant images have been moved\n",
            "bad_dataset folder created and relevant images have been moved\n",
            "bad_dataset folder created and relevant images have been moved\n",
            "bad_dataset folder created and relevant images have been moved\n",
            "bad_dataset folder created and relevant images have been moved\n",
            "bad_dataset folder created and relevant images have been moved\n",
            "bad_dataset folder created and relevant images have been moved\n",
            "bad_dataset folder created and relevant images have been moved\n",
            "bad_dataset folder created and relevant images have been moved\n",
            "bad_dataset folder created and relevant images have been moved\n",
            "bad_dataset folder created and relevant images have been moved\n",
            "bad_dataset folder created and relevant images have been moved\n",
            "bad_dataset folder created and relevant images have been moved\n",
            "bad_dataset folder created and relevant images have been moved\n",
            "bad_dataset folder created and relevant images have been moved\n",
            "bad_dataset folder created and relevant images have been moved\n",
            "bad_dataset folder created and relevant images have been moved\n",
            "bad_dataset folder created and relevant images have been moved\n",
            "bad_dataset folder created and relevant images have been moved\n",
            "bad_dataset folder created and relevant images have been moved\n",
            "bad_dataset folder created and relevant images have been moved\n",
            "bad_dataset folder created and relevant images have been moved\n",
            "good_dataset folder created and relevant images have been moved\n",
            "good_dataset folder created and relevant images have been moved\n",
            "good_dataset folder created and relevant images have been moved\n",
            "good_dataset folder created and relevant images have been moved\n",
            "good_dataset folder created and relevant images have been moved\n",
            "good_dataset folder created and relevant images have been moved\n",
            "good_dataset folder created and relevant images have been moved\n",
            "good_dataset folder created and relevant images have been moved\n",
            "good_dataset folder created and relevant images have been moved\n",
            "good_dataset folder created and relevant images have been moved\n",
            "good_dataset folder created and relevant images have been moved\n",
            "good_dataset folder created and relevant images have been moved\n",
            "good_dataset folder created and relevant images have been moved\n",
            "good_dataset folder created and relevant images have been moved\n",
            "good_dataset folder created and relevant images have been moved\n",
            "good_dataset folder created and relevant images have been moved\n",
            "good_dataset folder created and relevant images have been moved\n",
            "good_dataset folder created and relevant images have been moved\n",
            "good_dataset folder created and relevant images have been moved\n",
            "good_dataset folder created and relevant images have been moved\n",
            "good_dataset folder created and relevant images have been moved\n",
            "good_dataset folder created and relevant images have been moved\n",
            "good_dataset folder created and relevant images have been moved\n",
            "good_dataset folder created and relevant images have been moved\n",
            "good_dataset folder created and relevant images have been moved\n",
            "good_dataset folder created and relevant images have been moved\n",
            "good_dataset folder created and relevant images have been moved\n",
            "good_dataset folder created and relevant images have been moved\n",
            "good_dataset folder created and relevant images have been moved\n",
            "good_dataset folder created and relevant images have been moved\n",
            "good_dataset folder created and relevant images have been moved\n",
            "good_dataset folder created and relevant images have been moved\n",
            "good_dataset folder created and relevant images have been moved\n",
            "good_dataset folder created and relevant images have been moved\n",
            "good_dataset folder created and relevant images have been moved\n",
            "good_dataset folder created and relevant images have been moved\n",
            "good_dataset folder created and relevant images have been moved\n",
            "good_dataset folder created and relevant images have been moved\n",
            "good_dataset folder created and relevant images have been moved\n",
            "good_dataset folder created and relevant images have been moved\n",
            "good_dataset folder created and relevant images have been moved\n",
            "good_dataset folder created and relevant images have been moved\n",
            "good_dataset folder created and relevant images have been moved\n",
            "good_dataset folder created and relevant images have been moved\n",
            "good_dataset folder created and relevant images have been moved\n",
            "good_dataset folder created and relevant images have been moved\n",
            "good_dataset folder created and relevant images have been moved\n",
            "good_dataset folder created and relevant images have been moved\n",
            "good_dataset folder created and relevant images have been moved\n",
            "good_dataset folder created and relevant images have been moved\n",
            "good_dataset folder created and relevant images have been moved\n",
            "good_dataset folder created and relevant images have been moved\n",
            "good_dataset folder created and relevant images have been moved\n",
            "good_dataset folder created and relevant images have been moved\n",
            "good_dataset folder created and relevant images have been moved\n",
            "good_dataset folder created and relevant images have been moved\n",
            "good_dataset folder created and relevant images have been moved\n",
            "good_dataset folder created and relevant images have been moved\n",
            "good_dataset folder created and relevant images have been moved\n",
            "good_dataset folder created and relevant images have been moved\n",
            "good_dataset folder created and relevant images have been moved\n",
            "good_dataset folder created and relevant images have been moved\n",
            "good_dataset folder created and relevant images have been moved\n",
            "good_dataset folder created and relevant images have been moved\n",
            "good_dataset folder created and relevant images have been moved\n",
            "good_dataset folder created and relevant images have been moved\n",
            "good_dataset folder created and relevant images have been moved\n",
            "good_dataset folder created and relevant images have been moved\n",
            "good_dataset folder created and relevant images have been moved\n",
            "good_dataset folder created and relevant images have been moved\n",
            "good_dataset folder created and relevant images have been moved\n",
            "good_dataset folder created and relevant images have been moved\n",
            "good_dataset folder created and relevant images have been moved\n",
            "good_dataset folder created and relevant images have been moved\n",
            "good_dataset folder created and relevant images have been moved\n",
            "good_dataset folder created and relevant images have been moved\n",
            "good_dataset folder created and relevant images have been moved\n",
            "good_dataset folder created and relevant images have been moved\n",
            "good_dataset folder created and relevant images have been moved\n",
            "good_dataset folder created and relevant images have been moved\n",
            "good_dataset folder created and relevant images have been moved\n",
            "good_dataset folder created and relevant images have been moved\n",
            "good_dataset folder created and relevant images have been moved\n",
            "good_dataset folder created and relevant images have been moved\n",
            "good_dataset folder created and relevant images have been moved\n",
            "good_dataset folder created and relevant images have been moved\n",
            "good_dataset folder created and relevant images have been moved\n",
            "good_dataset folder created and relevant images have been moved\n",
            "good_dataset folder created and relevant images have been moved\n",
            "good_dataset folder created and relevant images have been moved\n",
            "good_dataset folder created and relevant images have been moved\n",
            "good_dataset folder created and relevant images have been moved\n",
            "good_dataset folder created and relevant images have been moved\n",
            "good_dataset folder created and relevant images have been moved\n",
            "good_dataset folder created and relevant images have been moved\n",
            "good_dataset folder created and relevant images have been moved\n",
            "good_dataset folder created and relevant images have been moved\n",
            "good_dataset folder created and relevant images have been moved\n",
            "good_dataset folder created and relevant images have been moved\n",
            "good_dataset folder created and relevant images have been moved\n",
            "good_dataset folder created and relevant images have been moved\n",
            "good_dataset folder created and relevant images have been moved\n",
            "good_dataset folder created and relevant images have been moved\n",
            "good_dataset folder created and relevant images have been moved\n",
            "good_dataset folder created and relevant images have been moved\n",
            "good_dataset folder created and relevant images have been moved\n",
            "good_dataset folder created and relevant images have been moved\n",
            "good_dataset folder created and relevant images have been moved\n",
            "good_dataset folder created and relevant images have been moved\n",
            "good_dataset folder created and relevant images have been moved\n",
            "good_dataset folder created and relevant images have been moved\n",
            "good_dataset folder created and relevant images have been moved\n",
            "good_dataset folder created and relevant images have been moved\n",
            "good_dataset folder created and relevant images have been moved\n",
            "good_dataset folder created and relevant images have been moved\n",
            "good_dataset folder created and relevant images have been moved\n",
            "good_dataset folder created and relevant images have been moved\n",
            "good_dataset folder created and relevant images have been moved\n",
            "good_dataset folder created and relevant images have been moved\n",
            "good_dataset folder created and relevant images have been moved\n",
            "good_dataset folder created and relevant images have been moved\n",
            "good_dataset folder created and relevant images have been moved\n",
            "good_dataset folder created and relevant images have been moved\n",
            "good_dataset folder created and relevant images have been moved\n",
            "good_dataset folder created and relevant images have been moved\n",
            "good_dataset folder created and relevant images have been moved\n",
            "good_dataset folder created and relevant images have been moved\n",
            "good_dataset folder created and relevant images have been moved\n",
            "good_dataset folder created and relevant images have been moved\n",
            "good_dataset folder created and relevant images have been moved\n",
            "good_dataset folder created and relevant images have been moved\n",
            "good_dataset folder created and relevant images have been moved\n",
            "good_dataset folder created and relevant images have been moved\n",
            "good_dataset folder created and relevant images have been moved\n",
            "good_dataset folder created and relevant images have been moved\n",
            "good_dataset folder created and relevant images have been moved\n",
            "good_dataset folder created and relevant images have been moved\n",
            "good_dataset folder created and relevant images have been moved\n",
            "good_dataset folder created and relevant images have been moved\n",
            "good_dataset folder created and relevant images have been moved\n",
            "good_dataset folder created and relevant images have been moved\n",
            "good_dataset folder created and relevant images have been moved\n",
            "good_dataset folder created and relevant images have been moved\n",
            "good_dataset folder created and relevant images have been moved\n",
            "good_dataset folder created and relevant images have been moved\n",
            "good_dataset folder created and relevant images have been moved\n",
            "good_dataset folder created and relevant images have been moved\n",
            "good_dataset folder created and relevant images have been moved\n",
            "good_dataset folder created and relevant images have been moved\n",
            "good_dataset folder created and relevant images have been moved\n",
            "good_dataset folder created and relevant images have been moved\n",
            "good_dataset folder created and relevant images have been moved\n",
            "good_dataset folder created and relevant images have been moved\n",
            "good_dataset folder created and relevant images have been moved\n",
            "good_dataset folder created and relevant images have been moved\n",
            "good_dataset folder created and relevant images have been moved\n",
            "good_dataset folder created and relevant images have been moved\n",
            "good_dataset folder created and relevant images have been moved\n",
            "good_dataset folder created and relevant images have been moved\n",
            "good_dataset folder created and relevant images have been moved\n",
            "good_dataset folder created and relevant images have been moved\n",
            "good_dataset folder created and relevant images have been moved\n",
            "good_dataset folder created and relevant images have been moved\n",
            "good_dataset folder created and relevant images have been moved\n",
            "good_dataset folder created and relevant images have been moved\n",
            "bad_dataset folder created and relevant images have been moved\n",
            "bad_dataset folder created and relevant images have been moved\n",
            "bad_dataset folder created and relevant images have been moved\n",
            "bad_dataset folder created and relevant images have been moved\n",
            "bad_dataset folder created and relevant images have been moved\n",
            "bad_dataset folder created and relevant images have been moved\n",
            "bad_dataset folder created and relevant images have been moved\n",
            "bad_dataset folder created and relevant images have been moved\n",
            "bad_dataset folder created and relevant images have been moved\n",
            "bad_dataset folder created and relevant images have been moved\n",
            "bad_dataset folder created and relevant images have been moved\n",
            "bad_dataset folder created and relevant images have been moved\n",
            "bad_dataset folder created and relevant images have been moved\n",
            "bad_dataset folder created and relevant images have been moved\n",
            "bad_dataset folder created and relevant images have been moved\n",
            "bad_dataset folder created and relevant images have been moved\n",
            "bad_dataset folder created and relevant images have been moved\n",
            "bad_dataset folder created and relevant images have been moved\n",
            "bad_dataset folder created and relevant images have been moved\n",
            "bad_dataset folder created and relevant images have been moved\n",
            "bad_dataset folder created and relevant images have been moved\n",
            "bad_dataset folder created and relevant images have been moved\n",
            "good_dataset folder created and relevant images have been moved\n",
            "good_dataset folder created and relevant images have been moved\n",
            "good_dataset folder created and relevant images have been moved\n",
            "good_dataset folder created and relevant images have been moved\n",
            "good_dataset folder created and relevant images have been moved\n",
            "good_dataset folder created and relevant images have been moved\n",
            "good_dataset folder created and relevant images have been moved\n",
            "good_dataset folder created and relevant images have been moved\n",
            "good_dataset folder created and relevant images have been moved\n",
            "good_dataset folder created and relevant images have been moved\n",
            "good_dataset folder created and relevant images have been moved\n",
            "good_dataset folder created and relevant images have been moved\n",
            "good_dataset folder created and relevant images have been moved\n",
            "good_dataset folder created and relevant images have been moved\n",
            "good_dataset folder created and relevant images have been moved\n",
            "good_dataset folder created and relevant images have been moved\n",
            "good_dataset folder created and relevant images have been moved\n",
            "good_dataset folder created and relevant images have been moved\n",
            "good_dataset folder created and relevant images have been moved\n",
            "good_dataset folder created and relevant images have been moved\n",
            "good_dataset folder created and relevant images have been moved\n",
            "good_dataset folder created and relevant images have been moved\n",
            "good_dataset folder created and relevant images have been moved\n",
            "good_dataset folder created and relevant images have been moved\n",
            "good_dataset folder created and relevant images have been moved\n",
            "good_dataset folder created and relevant images have been moved\n",
            "good_dataset folder created and relevant images have been moved\n",
            "good_dataset folder created and relevant images have been moved\n",
            "good_dataset folder created and relevant images have been moved\n",
            "good_dataset folder created and relevant images have been moved\n",
            "good_dataset folder created and relevant images have been moved\n",
            "good_dataset folder created and relevant images have been moved\n",
            "good_dataset folder created and relevant images have been moved\n",
            "good_dataset folder created and relevant images have been moved\n",
            "good_dataset folder created and relevant images have been moved\n",
            "good_dataset folder created and relevant images have been moved\n",
            "good_dataset folder created and relevant images have been moved\n",
            "good_dataset folder created and relevant images have been moved\n",
            "good_dataset folder created and relevant images have been moved\n",
            "good_dataset folder created and relevant images have been moved\n",
            "good_dataset folder created and relevant images have been moved\n",
            "good_dataset folder created and relevant images have been moved\n",
            "good_dataset folder created and relevant images have been moved\n",
            "good_dataset folder created and relevant images have been moved\n",
            "good_dataset folder created and relevant images have been moved\n",
            "good_dataset folder created and relevant images have been moved\n",
            "good_dataset folder created and relevant images have been moved\n",
            "good_dataset folder created and relevant images have been moved\n",
            "good_dataset folder created and relevant images have been moved\n",
            "good_dataset folder created and relevant images have been moved\n",
            "good_dataset folder created and relevant images have been moved\n",
            "good_dataset folder created and relevant images have been moved\n",
            "good_dataset folder created and relevant images have been moved\n",
            "good_dataset folder created and relevant images have been moved\n",
            "good_dataset folder created and relevant images have been moved\n",
            "good_dataset folder created and relevant images have been moved\n",
            "good_dataset folder created and relevant images have been moved\n",
            "good_dataset folder created and relevant images have been moved\n",
            "good_dataset folder created and relevant images have been moved\n",
            "good_dataset folder created and relevant images have been moved\n",
            "good_dataset folder created and relevant images have been moved\n",
            "good_dataset folder created and relevant images have been moved\n",
            "good_dataset folder created and relevant images have been moved\n",
            "good_dataset folder created and relevant images have been moved\n"
          ]
        }
      ]
    },
    {
      "cell_type": "code",
      "source": [
        "import tensorflow as tf\n",
        "from tensorflow import keras\n",
        "from tensorflow.keras.layers import Input, Lambda, Dense, Flatten,Dropout,Conv2D,GlobalAveragePooling2D\n",
        "from tensorflow.keras.models import Model\n",
        "from tensorflow.keras.preprocessing import image\n",
        "from tensorflow.keras.models import Sequential\n",
        "import numpy as np\n",
        "import pandas as pd\n",
        "import os\n",
        "import cv2\n",
        "import matplotlib.pyplot as plt\n",
        "\n",
        "train_ds=keras.utils.image_dataset_from_directory(\n",
        "    directory=r'/content/gdrive/MyDrive/T51+T52BAD+T53BAD+T54BAD+T57BAD +T58BAD/Train',\n",
        "    labels='inferred',\n",
        "    label_mode='int',\n",
        "    batch_size=4,\n",
        "    image_size=(456,456)\n",
        ")\n",
        "validation_ds=keras.utils.image_dataset_from_directory(\n",
        "    directory=r'/content/gdrive/MyDrive/T51+T52BAD+T53BAD+T54BAD+T57BAD +T58BAD/Test',\n",
        "    labels='inferred',\n",
        "    label_mode='int',\n",
        "    batch_size=4,\n",
        "    image_size=(456,456)\n",
        ")\n",
        "print(train_ds)\n",
        "print(validation_ds)\n",
        "\n"
      ],
      "metadata": {
        "id": "3iIMLQ30U11c",
        "colab": {
          "base_uri": "https://localhost:8080/"
        },
        "outputId": "a74411f1-d79e-4152-a4e6-a4048de8d8d3"
      },
      "execution_count": null,
      "outputs": [
        {
          "output_type": "stream",
          "name": "stdout",
          "text": [
            "Found 198 files belonging to 2 classes.\n",
            "Found 86 files belonging to 2 classes.\n",
            "<_BatchDataset element_spec=(TensorSpec(shape=(None, 456, 456, 3), dtype=tf.float32, name=None), TensorSpec(shape=(None,), dtype=tf.int32, name=None))>\n",
            "<_BatchDataset element_spec=(TensorSpec(shape=(None, 456, 456, 3), dtype=tf.float32, name=None), TensorSpec(shape=(None,), dtype=tf.int32, name=None))>\n"
          ]
        }
      ]
    },
    {
      "cell_type": "code",
      "source": [
        "def process(image,label):\n",
        "   image=tf.cast(image/255.,tf.float32)\n",
        "   return image,label\n",
        "train_ds=train_ds.map(process)\n",
        "validation_ds=validation_ds.map(process)"
      ],
      "metadata": {
        "id": "Y86B5n5KnRoe"
      },
      "execution_count": null,
      "outputs": []
    },
    {
      "cell_type": "code",
      "source": [
        "from tensorflow.keras.applications import EfficientNetB5\n",
        "model=EfficientNetB5(weights='imagenet',include_top=False,input_shape=(456,456,3))\n",
        "my_model=Sequential([model,\n",
        "                     Conv2D(1024,3,1,activation='relu'),\n",
        "                     GlobalAveragePooling2D(),\n",
        "                     Dense(1024,activation='relu'),\n",
        "                     Dropout(0.2),\n",
        "                     Dense(1024,activation='relu'),\n",
        "                     Dropout(0.2),\n",
        "                     Dense(1,activation='sigmoid'),\n",
        "                     ])\n",
        "my_model.summary()"
      ],
      "metadata": {
        "id": "PIyPbQyynGrR",
        "colab": {
          "base_uri": "https://localhost:8080/"
        },
        "outputId": "083abb61-1222-4954-a5ac-cb0c386727f6"
      },
      "execution_count": null,
      "outputs": [
        {
          "output_type": "stream",
          "name": "stdout",
          "text": [
            "Downloading data from https://storage.googleapis.com/keras-applications/efficientnetb5_notop.h5\n",
            "115263384/115263384 [==============================] - 1s 0us/step\n",
            "Model: \"sequential\"\n",
            "_________________________________________________________________\n",
            " Layer (type)                Output Shape              Param #   \n",
            "=================================================================\n",
            " efficientnetb5 (Functional)  (None, 15, 15, 2048)     28513527  \n",
            "                                                                 \n",
            " conv2d (Conv2D)             (None, 13, 13, 1024)      18875392  \n",
            "                                                                 \n",
            " global_average_pooling2d (G  (None, 1024)             0         \n",
            " lobalAveragePooling2D)                                          \n",
            "                                                                 \n",
            " dense (Dense)               (None, 1024)              1049600   \n",
            "                                                                 \n",
            " dropout (Dropout)           (None, 1024)              0         \n",
            "                                                                 \n",
            " dense_1 (Dense)             (None, 1024)              1049600   \n",
            "                                                                 \n",
            " dropout_1 (Dropout)         (None, 1024)              0         \n",
            "                                                                 \n",
            " dense_2 (Dense)             (None, 1)                 1025      \n",
            "                                                                 \n",
            "=================================================================\n",
            "Total params: 49,489,144\n",
            "Trainable params: 49,316,401\n",
            "Non-trainable params: 172,743\n",
            "_________________________________________________________________\n"
          ]
        }
      ]
    },
    {
      "cell_type": "code",
      "source": [
        "from tensorflow.keras.optimizers import Adam\n",
        "from tensorflow.keras.losses import BinaryCrossentropy\n",
        "from tensorflow.keras import metrics\n",
        "metrics=['accuracy']\n",
        "my_model.compile(loss=BinaryCrossentropy(),optimizer=Adam(learning_rate=0.001),metrics=metrics)"
      ],
      "metadata": {
        "id": "pjlF5qdXVUvM"
      },
      "execution_count": null,
      "outputs": []
    },
    {
      "cell_type": "code",
      "source": [
        "history=my_model.fit(train_ds,epochs=5,validation_data=validation_ds)"
      ],
      "metadata": {
        "id": "d_tU3w1pVU3E",
        "colab": {
          "base_uri": "https://localhost:8080/"
        },
        "outputId": "1e4005ac-6977-4169-e844-250c99d12c36"
      },
      "execution_count": null,
      "outputs": [
        {
          "output_type": "stream",
          "name": "stdout",
          "text": [
            "Epoch 1/5\n"
          ]
        }
      ]
    },
    {
      "cell_type": "code",
      "source": [
        "from PIL import ImageEnhance\n",
        "from PIL import Image\n",
        "from tensorflow.keras.preprocessing.image import load_img, img_to_array\n",
        "from tensorflow.keras.models import load_model\n",
        "import numpy as np\n",
        "image=Image.open('/content/gdrive/MyDrive/T51+T52BAD+T53BAD+T54BAD+T57BAD +T58BAD/Test/bad_dataset/DJI_0066.jpg')\n",
        "print(type(image))\n",
        "print(image.mode)\n",
        "print(image.format)\n",
        "image_resized=image.resize((456,456))\n",
        "image=np.expand_dims(image_resized,axis=0)\n",
        "pred=my_model.predict(image)\n",
        "print(pred)"
      ],
      "metadata": {
        "id": "lgZ4c5OOp4UN",
        "colab": {
          "base_uri": "https://localhost:8080/",
          "height": 277
        },
        "outputId": "b212e875-532c-4198-857c-77b604cb611d"
      },
      "execution_count": null,
      "outputs": [
        {
          "output_type": "stream",
          "name": "stdout",
          "text": [
            "<class 'PIL.JpegImagePlugin.JpegImageFile'>\n",
            "RGB\n",
            "JPEG\n"
          ]
        },
        {
          "output_type": "error",
          "ename": "NameError",
          "evalue": "ignored",
          "traceback": [
            "\u001b[0;31m---------------------------------------------------------------------------\u001b[0m",
            "\u001b[0;31mNameError\u001b[0m                                 Traceback (most recent call last)",
            "\u001b[0;32m<ipython-input-1-1e5a3a775f66>\u001b[0m in \u001b[0;36m<cell line: 12>\u001b[0;34m()\u001b[0m\n\u001b[1;32m     10\u001b[0m \u001b[0mimage_resized\u001b[0m\u001b[0;34m=\u001b[0m\u001b[0mimage\u001b[0m\u001b[0;34m.\u001b[0m\u001b[0mresize\u001b[0m\u001b[0;34m(\u001b[0m\u001b[0;34m(\u001b[0m\u001b[0;36m456\u001b[0m\u001b[0;34m,\u001b[0m\u001b[0;36m456\u001b[0m\u001b[0;34m)\u001b[0m\u001b[0;34m)\u001b[0m\u001b[0;34m\u001b[0m\u001b[0;34m\u001b[0m\u001b[0m\n\u001b[1;32m     11\u001b[0m \u001b[0mimage\u001b[0m\u001b[0;34m=\u001b[0m\u001b[0mnp\u001b[0m\u001b[0;34m.\u001b[0m\u001b[0mexpand_dims\u001b[0m\u001b[0;34m(\u001b[0m\u001b[0mimage_resized\u001b[0m\u001b[0;34m,\u001b[0m\u001b[0maxis\u001b[0m\u001b[0;34m=\u001b[0m\u001b[0;36m0\u001b[0m\u001b[0;34m)\u001b[0m\u001b[0;34m\u001b[0m\u001b[0;34m\u001b[0m\u001b[0m\n\u001b[0;32m---> 12\u001b[0;31m \u001b[0mpred\u001b[0m\u001b[0;34m=\u001b[0m\u001b[0mmy_model\u001b[0m\u001b[0;34m.\u001b[0m\u001b[0mpredict\u001b[0m\u001b[0;34m(\u001b[0m\u001b[0mimage\u001b[0m\u001b[0;34m)\u001b[0m\u001b[0;34m\u001b[0m\u001b[0;34m\u001b[0m\u001b[0m\n\u001b[0m\u001b[1;32m     13\u001b[0m \u001b[0mprint\u001b[0m\u001b[0;34m(\u001b[0m\u001b[0mpred\u001b[0m\u001b[0;34m)\u001b[0m\u001b[0;34m\u001b[0m\u001b[0;34m\u001b[0m\u001b[0m\n",
            "\u001b[0;31mNameError\u001b[0m: name 'my_model' is not defined"
          ]
        }
      ]
    },
    {
      "cell_type": "code",
      "source": [
        "from PIL import ImageEnhance\n",
        "from PIL import Image\n",
        "from tensorflow.keras.preprocessing.image import load_img, img_to_array\n",
        "from tensorflow.keras.models import load_model\n",
        "image=Image.open('/content/gdrive/MyDrive/T51+T52BAD+T53BAD+T54BAD+T57BAD +T58BAD/Test/bad_dataset/DJI_0108.jpg')\n",
        "print(type(image))\n",
        "print(image.mode)\n",
        "print(image.format)\n",
        "image_resized=image.resize((456,456))\n",
        "image=np.expand_dims(image_resized,axis=0)\n",
        "pred=my_model.predict(image)\n",
        "print(pred)"
      ],
      "metadata": {
        "id": "m90nyPuJqUYu"
      },
      "execution_count": null,
      "outputs": []
    },
    {
      "cell_type": "code",
      "source": [
        "from PIL import ImageEnhance\n",
        "from PIL import Image\n",
        "from tensorflow.keras.preprocessing.image import load_img, img_to_array\n",
        "from tensorflow.keras.models import load_model\n",
        "image=Image.open('/content/gdrive/MyDrive/T51+T52BAD+T53BAD+T54BAD+T57BAD +T58BAD/Test/bad_dataset/DJI_0110.jpg')\n",
        "print(type(image))\n",
        "print(image.mode)\n",
        "print(image.format)\n",
        "image_resized=image.resize((456,456))\n",
        "image=np.expand_dims(image_resized,axis=0)\n",
        "pred=my_model.predict(image)\n",
        "print(pred)"
      ],
      "metadata": {
        "id": "p4qaPUCZqUim"
      },
      "execution_count": null,
      "outputs": []
    },
    {
      "cell_type": "code",
      "source": [
        "from PIL import ImageEnhance\n",
        "from PIL import Image\n",
        "from tensorflow.keras.preprocessing.image import load_img, img_to_array\n",
        "from tensorflow.keras.models import load_model\n",
        "image=Image.open('/content/gdrive/MyDrive/T51+T52BAD+T53BAD+T54BAD+T57BAD +T58BAD/Test/bad_dataset/DJI_0489.jpg')\n",
        "print(type(image))\n",
        "print(image.mode)\n",
        "print(image.format)\n",
        "image_resized=image.resize((456,456))\n",
        "image=np.expand_dims(image_resized,axis=0)\n",
        "pred=my_model.predict(image)\n",
        "print(pred)"
      ],
      "metadata": {
        "id": "PYx2i71_qUsV"
      },
      "execution_count": null,
      "outputs": []
    },
    {
      "cell_type": "code",
      "source": [
        "from PIL import ImageEnhance\n",
        "from PIL import Image\n",
        "from tensorflow.keras.preprocessing.image import load_img, img_to_array\n",
        "from tensorflow.keras.models import load_model\n",
        "image=Image.open('/content/gdrive/MyDrive/T51+T52BAD+T53BAD+T54BAD+T57BAD +T58BAD/Test/bad_dataset/DJI_0491.jpg')\n",
        "image_resized=image.resize((456,456))\n",
        "image=np.expand_dims(image_resized,axis=0)\n",
        "pred=my_model.predict(image)\n",
        "print(pred)"
      ],
      "metadata": {
        "id": "Aq1JprU_qU2W"
      },
      "execution_count": null,
      "outputs": []
    },
    {
      "cell_type": "code",
      "source": [
        "from PIL import ImageEnhance\n",
        "from PIL import Image\n",
        "from tensorflow.keras.preprocessing.image import load_img, img_to_array\n",
        "from tensorflow.keras.models import load_model\n",
        "image=Image.open('/content/gdrive/MyDrive/T51+T52BAD+T53BAD+T54BAD+T57BAD +T58BAD/Test/bad_dataset/DJI_0493.jpg')\n",
        "image_resized=image.resize((456,456))\n",
        "image=np.expand_dims(image_resized,axis=0)\n",
        "pred=my_model.predict(image)\n",
        "print(pred)"
      ],
      "metadata": {
        "id": "50LUahQ_qU-s"
      },
      "execution_count": null,
      "outputs": []
    },
    {
      "cell_type": "code",
      "source": [
        "from PIL import ImageEnhance\n",
        "from PIL import Image\n",
        "from tensorflow.keras.preprocessing.image import load_img, img_to_array\n",
        "from tensorflow.keras.models import load_model\n",
        "image=Image.open('/content/gdrive/MyDrive/T51+T52BAD+T53BAD+T54BAD+T57BAD +T58BAD/Test/bad_dataset/DJI_0495.jpg')\n",
        "image_resized=image.resize((456,456))\n",
        "image=np.expand_dims(image_resized,axis=0)\n",
        "pred=my_model.predict(image)\n",
        "print(pred)"
      ],
      "metadata": {
        "id": "MbeqpE2aqVHd"
      },
      "execution_count": null,
      "outputs": []
    },
    {
      "cell_type": "code",
      "source": [
        "from PIL import ImageEnhance\n",
        "from PIL import Image\n",
        "from tensorflow.keras.preprocessing.image import load_img, img_to_array\n",
        "from tensorflow.keras.models import load_model\n",
        "image=Image.open('/content/gdrive/MyDrive/T51+T52BAD+T53BAD+T54BAD+T57BAD +T58BAD/Test/bad_dataset/DJI_0497.jpg')\n",
        "image_resized=image.resize((456,456))\n",
        "image=np.expand_dims(image_resized,axis=0)\n",
        "pred=my_model.predict(image)\n",
        "print(pred)"
      ],
      "metadata": {
        "id": "6-H8ale_qVQO"
      },
      "execution_count": null,
      "outputs": []
    },
    {
      "cell_type": "code",
      "source": [
        "from PIL import ImageEnhance\n",
        "from PIL import Image\n",
        "from tensorflow.keras.preprocessing.image import load_img, img_to_array\n",
        "from tensorflow.keras.models import load_model\n",
        "image=Image.open('/content/gdrive/MyDrive/T51+T52BAD+T53BAD+T54BAD+T57BAD +T58BAD/Test/bad_dataset/DJI_0499.jpg')\n",
        "image_resized=image.resize((456,456))\n",
        "image=np.expand_dims(image_resized,axis=0)\n",
        "pred=my_model.predict(image)\n",
        "print(pred)"
      ],
      "metadata": {
        "id": "5c9PA_8kqVZF"
      },
      "execution_count": null,
      "outputs": []
    },
    {
      "cell_type": "code",
      "source": [
        "from PIL import ImageEnhance\n",
        "from PIL import Image\n",
        "from tensorflow.keras.preprocessing.image import load_img, img_to_array\n",
        "from tensorflow.keras.models import load_model\n",
        "image=Image.open('/content/gdrive/MyDrive/T51+T52BAD+T53BAD+T54BAD+T57BAD +T58BAD/Test/bad_dataset/DJI_0501.jpg')\n",
        "image_resized=image.resize((456,456))\n",
        "image=np.expand_dims(image_resized,axis=0)\n",
        "pred=my_model.predict(image)\n",
        "print(pred)"
      ],
      "metadata": {
        "id": "u2kUvXYWqVhu"
      },
      "execution_count": null,
      "outputs": []
    },
    {
      "cell_type": "code",
      "source": [
        "from PIL import ImageEnhance\n",
        "from PIL import Image\n",
        "from tensorflow.keras.preprocessing.image import load_img, img_to_array\n",
        "from tensorflow.keras.models import load_model\n",
        "image=Image.open('/content/gdrive/MyDrive/T51+T52BAD+T53BAD+T54BAD+T57BAD +T58BAD/Test/bad_dataset/DJI_0503.jpg')\n",
        "image_resized=image.resize((456,456))\n",
        "image=np.expand_dims(image_resized,axis=0)\n",
        "pred=my_model.predict(image)\n",
        "print(pred)"
      ],
      "metadata": {
        "id": "4KJ7qz3NqVqs"
      },
      "execution_count": null,
      "outputs": []
    },
    {
      "cell_type": "code",
      "source": [
        "from PIL import ImageEnhance\n",
        "from PIL import Image\n",
        "from tensorflow.keras.preprocessing.image import load_img, img_to_array\n",
        "from tensorflow.keras.models import load_model\n",
        "image=Image.open('/content/gdrive/MyDrive/T51+T52BAD+T53BAD+T54BAD+T57BAD +T58BAD/Test/bad_dataset/DJI_0505.jpg')\n",
        "image_resized=image.resize((456,456))\n",
        "image=np.expand_dims(image_resized,axis=0)\n",
        "pred=my_model.predict(image)\n",
        "print(pred)"
      ],
      "metadata": {
        "id": "4arF6Fi8qVzr"
      },
      "execution_count": null,
      "outputs": []
    },
    {
      "cell_type": "code",
      "source": [
        "from PIL import ImageEnhance\n",
        "from PIL import Image\n",
        "from tensorflow.keras.preprocessing.image import load_img, img_to_array\n",
        "from tensorflow.keras.models import load_model\n",
        "image=Image.open('/content/gdrive/MyDrive/T51+T52BAD+T53BAD+T54BAD+T57BAD +T58BAD/Test/bad_dataset/DJI_0507.jpg')\n",
        "image_resized=image.resize((456,456))\n",
        "image=np.expand_dims(image_resized,axis=0)\n",
        "pred=my_model.predict(image)\n",
        "print(pred)"
      ],
      "metadata": {
        "id": "fus0ZlXFqV9C"
      },
      "execution_count": null,
      "outputs": []
    },
    {
      "cell_type": "code",
      "source": [
        "from PIL import ImageEnhance\n",
        "from PIL import Image\n",
        "from tensorflow.keras.preprocessing.image import load_img, img_to_array\n",
        "from tensorflow.keras.models import load_model\n",
        "image=Image.open('/content/gdrive/MyDrive/T51+T52BAD+T53BAD+T54BAD+T57BAD +T58BAD/Test/bad_dataset/DJI_0509.jpg')\n",
        "image_resized=image.resize((456,456))\n",
        "image=np.expand_dims(image_resized,axis=0)\n",
        "pred=my_model.predict(image)\n",
        "print(pred)"
      ],
      "metadata": {
        "id": "67zMNUvQqWGd"
      },
      "execution_count": null,
      "outputs": []
    },
    {
      "cell_type": "code",
      "source": [
        "from PIL import ImageEnhance\n",
        "from PIL import Image\n",
        "from tensorflow.keras.preprocessing.image import load_img, img_to_array\n",
        "from tensorflow.keras.models import load_model\n",
        "image=Image.open('/content/gdrive/MyDrive/T51+T52BAD+T53BAD+T54BAD+T57BAD +T58BAD/Test/bad_dataset/DJI_0608.jpg')\n",
        "image_resized=image.resize((456,456))\n",
        "image=np.expand_dims(image_resized,axis=0)\n",
        "pred=my_model.predict(image)\n",
        "print(pred)"
      ],
      "metadata": {
        "id": "QDopExW-qWPj"
      },
      "execution_count": null,
      "outputs": []
    },
    {
      "cell_type": "code",
      "source": [
        "from PIL import ImageEnhance\n",
        "from PIL import Image\n",
        "from tensorflow.keras.preprocessing.image import load_img, img_to_array\n",
        "from tensorflow.keras.models import load_model\n",
        "image=Image.open('/content/gdrive/MyDrive/T51+T52BAD+T53BAD+T54BAD+T57BAD +T58BAD/Test/bad_dataset/DJI_0610.jpg')\n",
        "image_resized=image.resize((456,456))\n",
        "image=np.expand_dims(image_resized,axis=0)\n",
        "pred=my_model.predict(image)\n",
        "print(pred)"
      ],
      "metadata": {
        "id": "-nIUyyHyqWY8"
      },
      "execution_count": null,
      "outputs": []
    },
    {
      "cell_type": "code",
      "source": [
        "from PIL import ImageEnhance\n",
        "from PIL import Image\n",
        "from tensorflow.keras.preprocessing.image import load_img, img_to_array\n",
        "from tensorflow.keras.models import load_model\n",
        "image=Image.open('/content/gdrive/MyDrive/T51+T52BAD+T53BAD+T54BAD+T57BAD +T58BAD/Test/bad_dataset/DJI_0976.jpg')\n",
        "image_resized=image.resize((456,456))\n",
        "image=np.expand_dims(image_resized,axis=0)\n",
        "pred=my_model.predict(image)\n",
        "print(pred)"
      ],
      "metadata": {
        "id": "IYVYixSMqWiV"
      },
      "execution_count": null,
      "outputs": []
    },
    {
      "cell_type": "code",
      "source": [
        "from PIL import ImageEnhance\n",
        "from PIL import Image\n",
        "from tensorflow.keras.preprocessing.image import load_img, img_to_array\n",
        "from tensorflow.keras.models import load_model\n",
        "image=Image.open('/content/gdrive/MyDrive/T51+T52BAD+T53BAD+T54BAD+T57BAD +T58BAD/Test/bad_dataset/DJI_0978.jpg')\n",
        "image_resized=image.resize((456,456))\n",
        "image=np.expand_dims(image_resized,axis=0)\n",
        "pred=my_model.predict(image)\n",
        "print(pred)"
      ],
      "metadata": {
        "id": "trqZbH5iqWsF"
      },
      "execution_count": null,
      "outputs": []
    },
    {
      "cell_type": "code",
      "source": [
        "from PIL import ImageEnhance\n",
        "from PIL import Image\n",
        "from tensorflow.keras.preprocessing.image import load_img, img_to_array\n",
        "from tensorflow.keras.models import load_model\n",
        "image=Image.open('/content/gdrive/MyDrive/T51+T52BAD+T53BAD+T54BAD+T57BAD +T58BAD/Test/bad_dataset/DJI_0980.jpg')\n",
        "image_resized=image.resize((456,456))\n",
        "image=np.expand_dims(image_resized,axis=0)\n",
        "pred=my_model.predict(image)\n",
        "print(pred)"
      ],
      "metadata": {
        "id": "ssF7LdVgqW1u"
      },
      "execution_count": null,
      "outputs": []
    },
    {
      "cell_type": "code",
      "source": [
        "from PIL import ImageEnhance\n",
        "from PIL import Image\n",
        "from tensorflow.keras.preprocessing.image import load_img, img_to_array\n",
        "from tensorflow.keras.models import load_model\n",
        "image=Image.open('/content/gdrive/MyDrive/T51+T52BAD+T53BAD+T54BAD+T57BAD +T58BAD/Test/bad_dataset/DJI_0982.jpg')\n",
        "image_resized=image.resize((456,456))\n",
        "image=np.expand_dims(image_resized,axis=0)\n",
        "pred=my_model.predict(image)\n",
        "print(pred)"
      ],
      "metadata": {
        "id": "vLAqDzZFqW_T"
      },
      "execution_count": null,
      "outputs": []
    },
    {
      "cell_type": "code",
      "source": [
        "from PIL import ImageEnhance\n",
        "from PIL import Image\n",
        "from tensorflow.keras.preprocessing.image import load_img, img_to_array\n",
        "from tensorflow.keras.models import load_model\n",
        "image=Image.open('/content/gdrive/MyDrive/T51+T52BAD+T53BAD+T54BAD+T57BAD +T58BAD/Test/bad_dataset/DJI_0984.jpg')\n",
        "image_resized=image.resize((456,456))\n",
        "image=np.expand_dims(image_resized,axis=0)\n",
        "pred=my_model.predict(image)\n",
        "print(pred)"
      ],
      "metadata": {
        "id": "rL6V1hhGqXRs"
      },
      "execution_count": null,
      "outputs": []
    },
    {
      "cell_type": "code",
      "source": [
        "from PIL import ImageEnhance\n",
        "from PIL import Image\n",
        "from tensorflow.keras.preprocessing.image import load_img, img_to_array\n",
        "from tensorflow.keras.models import load_model\n",
        "image=Image.open('/content/gdrive/MyDrive/T51+T52BAD+T53BAD+T54BAD+T57BAD +T58BAD/Test/bad_dataset/DJI_0986.jpg')\n",
        "image_resized=image.resize((456,456))\n",
        "image=np.expand_dims(image_resized,axis=0)\n",
        "pred=my_model.predict(image)\n",
        "print(pred)"
      ],
      "metadata": {
        "id": "nRZnDvZ3qXZs"
      },
      "execution_count": null,
      "outputs": []
    },
    {
      "cell_type": "code",
      "source": [
        "from PIL import ImageEnhance\n",
        "from PIL import Image\n",
        "from tensorflow.keras.preprocessing.image import load_img, img_to_array\n",
        "from tensorflow.keras.models import load_model\n",
        "image=Image.open('/content/gdrive/MyDrive/T51+T52BAD+T53BAD+T54BAD+T57BAD +T58BAD/Test/good_dataset/DJI_0869.jpg')\n",
        "image_resized=image.resize((456,456))\n",
        "image=np.expand_dims(image_resized,axis=0)\n",
        "pred=my_model.predict(image)\n",
        "print(pred)"
      ],
      "metadata": {
        "id": "H543NtDNrisG"
      },
      "execution_count": null,
      "outputs": []
    },
    {
      "cell_type": "code",
      "source": [
        "from PIL import ImageEnhance\n",
        "from PIL import Image\n",
        "from tensorflow.keras.preprocessing.image import load_img, img_to_array\n",
        "from tensorflow.keras.models import load_model\n",
        "image=Image.open('/content/gdrive/MyDrive/T51+T52BAD+T53BAD+T54BAD+T57BAD +T58BAD/Test/good_dataset/DJI_0871.jpg')\n",
        "image_resized=image.resize((456,456))\n",
        "image=np.expand_dims(image_resized,axis=0)\n",
        "pred=my_model.predict(image)\n",
        "print(pred)"
      ],
      "metadata": {
        "id": "3y5h8Qsfrpnj"
      },
      "execution_count": null,
      "outputs": []
    },
    {
      "cell_type": "code",
      "source": [
        "from PIL import ImageEnhance\n",
        "from PIL import Image\n",
        "from tensorflow.keras.preprocessing.image import load_img, img_to_array\n",
        "from tensorflow.keras.models import load_model\n",
        "image=Image.open('/content/gdrive/MyDrive/T51+T52BAD+T53BAD+T54BAD+T57BAD +T58BAD/Test/good_dataset/DJI_0873.jpg')\n",
        "image_resized=image.resize((456,456))\n",
        "image=np.expand_dims(image_resized,axis=0)\n",
        "pred=my_model.predict(image)\n",
        "print(pred)"
      ],
      "metadata": {
        "id": "A_CFxH2zrpwz"
      },
      "execution_count": null,
      "outputs": []
    },
    {
      "cell_type": "code",
      "source": [
        "from PIL import ImageEnhance\n",
        "from PIL import Image\n",
        "from tensorflow.keras.preprocessing.image import load_img, img_to_array\n",
        "from tensorflow.keras.models import load_model\n",
        "image=Image.open('/content/gdrive/MyDrive/T51+T52BAD+T53BAD+T54BAD+T57BAD +T58BAD/Test/good_dataset/DJI_0875.jpg')\n",
        "image_resized=image.resize((456,456))\n",
        "image=np.expand_dims(image_resized,axis=0)\n",
        "pred=my_model.predict(image)\n",
        "print(pred)"
      ],
      "metadata": {
        "id": "wSU3-_eFrp4k"
      },
      "execution_count": null,
      "outputs": []
    },
    {
      "cell_type": "code",
      "source": [
        "from PIL import ImageEnhance\n",
        "from PIL import Image\n",
        "from tensorflow.keras.preprocessing.image import load_img, img_to_array\n",
        "from tensorflow.keras.models import load_model\n",
        "image=Image.open('/content/gdrive/MyDrive/T51+T52BAD+T53BAD+T54BAD+T57BAD +T58BAD/Test/good_dataset/DJI_0877.jpg')\n",
        "image_resized=image.resize((456,456))\n",
        "image=np.expand_dims(image_resized,axis=0)\n",
        "pred=my_model.predict(image)\n",
        "print(pred)"
      ],
      "metadata": {
        "id": "__8pzoOwrp_z"
      },
      "execution_count": null,
      "outputs": []
    },
    {
      "cell_type": "code",
      "source": [
        "from PIL import ImageEnhance\n",
        "from PIL import Image\n",
        "from tensorflow.keras.preprocessing.image import load_img, img_to_array\n",
        "from tensorflow.keras.models import load_model\n",
        "image=Image.open('/content/gdrive/MyDrive/T51+T52BAD+T53BAD+T54BAD+T57BAD +T58BAD/Test/good_dataset/DJI_0879.jpg')\n",
        "image_resized=image.resize((456,456))\n",
        "image=np.expand_dims(image_resized,axis=0)\n",
        "pred=my_model.predict(image)\n",
        "print(pred)"
      ],
      "metadata": {
        "id": "apaehi77rqG9"
      },
      "execution_count": null,
      "outputs": []
    },
    {
      "cell_type": "code",
      "source": [
        "from PIL import ImageEnhance\n",
        "from PIL import Image\n",
        "from tensorflow.keras.preprocessing.image import load_img, img_to_array\n",
        "from tensorflow.keras.models import load_model\n",
        "image=Image.open('/content/gdrive/MyDrive/T51+T52BAD+T53BAD+T54BAD+T57BAD +T58BAD/Test/good_dataset/DJI_0881.jpg')\n",
        "image_resized=image.resize((456,456))\n",
        "image=np.expand_dims(image_resized,axis=0)\n",
        "pred=my_model.predict(image)\n",
        "print(pred)"
      ],
      "metadata": {
        "id": "OOAdcq45rqNy"
      },
      "execution_count": null,
      "outputs": []
    },
    {
      "cell_type": "code",
      "source": [
        "from PIL import ImageEnhance\n",
        "from PIL import Image\n",
        "from tensorflow.keras.preprocessing.image import load_img, img_to_array\n",
        "from tensorflow.keras.models import load_model\n",
        "image=Image.open('/content/gdrive/MyDrive/T51+T52BAD+T53BAD+T54BAD+T57BAD +T58BAD/Test/good_dataset/DJI_0883.jpg')\n",
        "image_resized=image.resize((456,456))\n",
        "image=np.expand_dims(image_resized,axis=0)\n",
        "pred=my_model.predict(image)\n",
        "print(pred)"
      ],
      "metadata": {
        "id": "JfKZ614LrqU7"
      },
      "execution_count": null,
      "outputs": []
    },
    {
      "cell_type": "code",
      "source": [
        "from PIL import ImageEnhance\n",
        "from PIL import Image\n",
        "from tensorflow.keras.preprocessing.image import load_img, img_to_array\n",
        "from tensorflow.keras.models import load_model\n",
        "image=Image.open('/content/gdrive/MyDrive/T51+T52BAD+T53BAD+T54BAD+T57BAD +T58BAD/Test/good_dataset/DJI_0885.jpg')\n",
        "image_resized=image.resize((456,456))\n",
        "image=np.expand_dims(image_resized,axis=0)\n",
        "pred=my_model.predict(image)\n",
        "print(pred)"
      ],
      "metadata": {
        "id": "DNNGYsJArqbr"
      },
      "execution_count": null,
      "outputs": []
    },
    {
      "cell_type": "code",
      "source": [
        "from PIL import ImageEnhance\n",
        "from PIL import Image\n",
        "from tensorflow.keras.preprocessing.image import load_img, img_to_array\n",
        "from tensorflow.keras.models import load_model\n",
        "image=Image.open('/content/gdrive/MyDrive/T51+T52BAD+T53BAD+T54BAD+T57BAD +T58BAD/Test/good_dataset/DJI_0887.jpg')\n",
        "image_resized=image.resize((456,456))\n",
        "image=np.expand_dims(image_resized,axis=0)\n",
        "pred=my_model.predict(image)\n",
        "print(pred)"
      ],
      "metadata": {
        "id": "4gPtaSbOrqia"
      },
      "execution_count": null,
      "outputs": []
    },
    {
      "cell_type": "code",
      "source": [
        "from PIL import ImageEnhance\n",
        "from PIL import Image\n",
        "from tensorflow.keras.preprocessing.image import load_img, img_to_array\n",
        "from tensorflow.keras.models import load_model\n",
        "image=Image.open('/content/gdrive/MyDrive/T51+T52BAD+T53BAD+T54BAD+T57BAD +T58BAD/Test/good_dataset/DJI_0889.jpg')\n",
        "image_resized=image.resize((456,456))\n",
        "image=np.expand_dims(image_resized,axis=0)\n",
        "pred=my_model.predict(image)\n",
        "print(pred)"
      ],
      "metadata": {
        "id": "a43vviYlrqpM"
      },
      "execution_count": null,
      "outputs": []
    },
    {
      "cell_type": "code",
      "source": [
        "from PIL import ImageEnhance\n",
        "from PIL import Image\n",
        "from tensorflow.keras.preprocessing.image import load_img, img_to_array\n",
        "from tensorflow.keras.models import load_model\n",
        "image=Image.open('/content/gdrive/MyDrive/T51+T52BAD+T53BAD+T54BAD+T57BAD +T58BAD/Test/good_dataset/DJI_0891.jpg')\n",
        "image_resized=image.resize((456,456))\n",
        "image=np.expand_dims(image_resized,axis=0)\n",
        "pred=my_model.predict(image)\n",
        "print(pred)"
      ],
      "metadata": {
        "id": "NH9077TvrqwR"
      },
      "execution_count": null,
      "outputs": []
    },
    {
      "cell_type": "code",
      "source": [
        "from PIL import ImageEnhance\n",
        "from PIL import Image\n",
        "from tensorflow.keras.preprocessing.image import load_img, img_to_array\n",
        "from tensorflow.keras.models import load_model\n",
        "image=Image.open('/content/gdrive/MyDrive/T51+T52BAD+T53BAD+T54BAD+T57BAD +T58BAD/Test/good_dataset/DJI_0893.jpg')\n",
        "image_resized=image.resize((456,456))\n",
        "image=np.expand_dims(image_resized,axis=0)\n",
        "pred=my_model.predict(image)\n",
        "print(pred)"
      ],
      "metadata": {
        "id": "DSWDVITwrq70"
      },
      "execution_count": null,
      "outputs": []
    },
    {
      "cell_type": "code",
      "source": [
        "from PIL import ImageEnhance\n",
        "from PIL import Image\n",
        "from tensorflow.keras.preprocessing.image import load_img, img_to_array\n",
        "from tensorflow.keras.models import load_model\n",
        "image=Image.open('/content/gdrive/MyDrive/T51+T52BAD+T53BAD+T54BAD+T57BAD +T58BAD/Test/good_dataset/DJI_0895.jpg')\n",
        "image_resized=image.resize((456,456))\n",
        "image=np.expand_dims(image_resized,axis=0)\n",
        "pred=my_model.predict(image)\n",
        "print(pred)"
      ],
      "metadata": {
        "id": "X-4Mlmb0rsw9"
      },
      "execution_count": null,
      "outputs": []
    },
    {
      "cell_type": "code",
      "source": [
        "from PIL import ImageEnhance\n",
        "from PIL import Image\n",
        "from tensorflow.keras.preprocessing.image import load_img, img_to_array\n",
        "from tensorflow.keras.models import load_model\n",
        "image=Image.open('/content/gdrive/MyDrive/T51+T52BAD+T53BAD+T54BAD+T57BAD +T58BAD/Test/good_dataset/DJI_0897.jpg')\n",
        "image_resized=image.resize((456,456))\n",
        "image=np.expand_dims(image_resized,axis=0)\n",
        "pred=my_model.predict(image)\n",
        "print(pred)"
      ],
      "metadata": {
        "id": "zBVzEEPars68"
      },
      "execution_count": null,
      "outputs": []
    },
    {
      "cell_type": "code",
      "source": [
        "from PIL import ImageEnhance\n",
        "from PIL import Image\n",
        "from tensorflow.keras.preprocessing.image import load_img, img_to_array\n",
        "from tensorflow.keras.models import load_model\n",
        "image=Image.open('/content/gdrive/MyDrive/T51+T52BAD+T53BAD+T54BAD+T57BAD +T58BAD/Test/good_dataset/DJI_0899.jpg')\n",
        "image_resized=image.resize((456,456))\n",
        "image=np.expand_dims(image_resized,axis=0)\n",
        "pred=my_model.predict(image)\n",
        "print(pred)"
      ],
      "metadata": {
        "id": "Zx1EIRXBrtEd"
      },
      "execution_count": null,
      "outputs": []
    },
    {
      "cell_type": "code",
      "source": [
        "from PIL import ImageEnhance\n",
        "from PIL import Image\n",
        "from tensorflow.keras.preprocessing.image import load_img, img_to_array\n",
        "from tensorflow.keras.models import load_model\n",
        "image=Image.open('/content/gdrive/MyDrive/T51+T52BAD+T53BAD+T54BAD+T57BAD +T58BAD/Test/good_dataset/DJI_0901.jpg')\n",
        "image_resized=image.resize((456,456))\n",
        "image=np.expand_dims(image_resized,axis=0)\n",
        "pred=my_model.predict(image)\n",
        "print(pred)"
      ],
      "metadata": {
        "id": "e-JVHa-3rtMl"
      },
      "execution_count": null,
      "outputs": []
    },
    {
      "cell_type": "code",
      "source": [
        "from PIL import ImageEnhance\n",
        "from PIL import Image\n",
        "from tensorflow.keras.preprocessing.image import load_img, img_to_array\n",
        "from tensorflow.keras.models import load_model\n",
        "image=Image.open('/content/gdrive/MyDrive/T51+T52BAD+T53BAD+T54BAD+T57BAD +T58BAD/Test/good_dataset/DJI_0903.jpg')\n",
        "image_resized=image.resize((456,456))\n",
        "image=np.expand_dims(image_resized,axis=0)\n",
        "pred=my_model.predict(image)\n",
        "print(pred)"
      ],
      "metadata": {
        "id": "rmtccLbBrtVx"
      },
      "execution_count": null,
      "outputs": []
    },
    {
      "cell_type": "code",
      "source": [
        "from PIL import ImageEnhance\n",
        "from PIL import Image\n",
        "from tensorflow.keras.preprocessing.image import load_img, img_to_array\n",
        "from tensorflow.keras.models import load_model\n",
        "image=Image.open('/content/gdrive/MyDrive/T51+T52BAD+T53BAD+T54BAD+T57BAD +T58BAD/Test/good_dataset/DJI_0905.jpg')\n",
        "image_resized=image.resize((456,456))\n",
        "image=np.expand_dims(image_resized,axis=0)\n",
        "pred=my_model.predict(image)\n",
        "print(pred)"
      ],
      "metadata": {
        "id": "Utx3bgnprtdM"
      },
      "execution_count": null,
      "outputs": []
    },
    {
      "cell_type": "code",
      "source": [
        "from PIL import ImageEnhance\n",
        "from PIL import Image\n",
        "from tensorflow.keras.preprocessing.image import load_img, img_to_array\n",
        "from tensorflow.keras.models import load_model\n",
        "image=Image.open('/content/gdrive/MyDrive/T51+T52BAD+T53BAD+T54BAD+T57BAD +T58BAD/Test/good_dataset/DJI_0907.jpg')\n",
        "image_resized=image.resize((456,456))\n",
        "image=np.expand_dims(image_resized,axis=0)\n",
        "pred=my_model.predict(image)\n",
        "print(pred)"
      ],
      "metadata": {
        "id": "yoKsMYrOrtls"
      },
      "execution_count": null,
      "outputs": []
    },
    {
      "cell_type": "code",
      "source": [
        "from PIL import ImageEnhance\n",
        "from PIL import Image\n",
        "from tensorflow.keras.preprocessing.image import load_img, img_to_array\n",
        "from tensorflow.keras.models import load_model\n",
        "image=Image.open('/content/gdrive/MyDrive/T51+T52BAD+T53BAD+T54BAD+T57BAD +T58BAD/Test/good_dataset/DJI_0909.jpg')\n",
        "image_resized=image.resize((456,456))\n",
        "image=np.expand_dims(image_resized,axis=0)\n",
        "pred=my_model.predict(image)\n",
        "print(pred)"
      ],
      "metadata": {
        "id": "DnVmo5yyrtua"
      },
      "execution_count": null,
      "outputs": []
    },
    {
      "cell_type": "code",
      "source": [
        "from PIL import ImageEnhance\n",
        "from PIL import Image\n",
        "from tensorflow.keras.preprocessing.image import load_img, img_to_array\n",
        "from tensorflow.keras.models import load_model\n",
        "image=Image.open('/content/gdrive/MyDrive/T51+T52BAD+T53BAD+T54BAD+T57BAD +T58BAD/Test/good_dataset/DJI_0911.jpg')\n",
        "image_resized=image.resize((456,456))\n",
        "image=np.expand_dims(image_resized,axis=0)\n",
        "pred=my_model.predict(image)\n",
        "print(pred)"
      ],
      "metadata": {
        "id": "TZ8i9WIrrt5C"
      },
      "execution_count": null,
      "outputs": []
    },
    {
      "cell_type": "code",
      "source": [
        "from PIL import ImageEnhance\n",
        "from PIL import Image\n",
        "from tensorflow.keras.preprocessing.image import load_img, img_to_array\n",
        "from tensorflow.keras.models import load_model\n",
        "image=Image.open('/content/gdrive/MyDrive/T51+T52BAD+T53BAD+T54BAD+T57BAD +T58BAD/Test/good_dataset/DJI_0913.jpg')\n",
        "image_resized=image.resize((456,456))\n",
        "image=np.expand_dims(image_resized,axis=0)\n",
        "pred=my_model.predict(image)\n",
        "print(pred)"
      ],
      "metadata": {
        "id": "ElUg4tmeruBy"
      },
      "execution_count": null,
      "outputs": []
    },
    {
      "cell_type": "code",
      "source": [
        "from PIL import ImageEnhance\n",
        "from PIL import Image\n",
        "from tensorflow.keras.preprocessing.image import load_img, img_to_array\n",
        "from tensorflow.keras.models import load_model\n",
        "image=Image.open('/content/gdrive/MyDrive/T51+T52BAD+T53BAD+T54BAD+T57BAD +T58BAD/Test/good_dataset/DJI_0915.jpg')\n",
        "image_resized=image.resize((456,456))\n",
        "image=np.expand_dims(image_resized,axis=0)\n",
        "pred=my_model.predict(image)\n",
        "print(pred)"
      ],
      "metadata": {
        "id": "32Xh9dWDruK5"
      },
      "execution_count": null,
      "outputs": []
    },
    {
      "cell_type": "code",
      "source": [
        "from PIL import ImageEnhance\n",
        "from PIL import Image\n",
        "from tensorflow.keras.preprocessing.image import load_img, img_to_array\n",
        "from tensorflow.keras.models import load_model\n",
        "image=Image.open('/content/gdrive/MyDrive/T51+T52BAD+T53BAD+T54BAD+T57BAD +T58BAD/Test/good_dataset/DJI_0917.jpg')\n",
        "image_resized=image.resize((456,456))\n",
        "image=np.expand_dims(image_resized,axis=0)\n",
        "pred=my_model.predict(image)\n",
        "print(pred)"
      ],
      "metadata": {
        "id": "v6cqJ5ForuTq"
      },
      "execution_count": null,
      "outputs": []
    },
    {
      "cell_type": "code",
      "source": [
        "from PIL import ImageEnhance\n",
        "from PIL import Image\n",
        "from tensorflow.keras.preprocessing.image import load_img, img_to_array\n",
        "from tensorflow.keras.models import load_model\n",
        "image=Image.open('/content/gdrive/MyDrive/T51+T52BAD+T53BAD+T54BAD+T57BAD +T58BAD/Test/good_dataset/DJI_0919.jpg')\n",
        "image_resized=image.resize((456,456))\n",
        "image=np.expand_dims(image_resized,axis=0)\n",
        "pred=my_model.predict(image)\n",
        "print(pred)"
      ],
      "metadata": {
        "id": "2yQbDz2jrudS"
      },
      "execution_count": null,
      "outputs": []
    },
    {
      "cell_type": "code",
      "source": [
        "from PIL import ImageEnhance\n",
        "from PIL import Image\n",
        "from tensorflow.keras.preprocessing.image import load_img, img_to_array\n",
        "from tensorflow.keras.models import load_model\n",
        "image=Image.open('/content/gdrive/MyDrive/T51+T52BAD+T53BAD+T54BAD+T57BAD +T58BAD/Test/good_dataset/DJI_0921.jpg')\n",
        "image_resized=image.resize((456,456))\n",
        "image=np.expand_dims(image_resized,axis=0)\n",
        "pred=my_model.predict(image)\n",
        "print(pred)"
      ],
      "metadata": {
        "id": "z3mSnnforul6"
      },
      "execution_count": null,
      "outputs": []
    },
    {
      "cell_type": "code",
      "source": [
        "from PIL import ImageEnhance\n",
        "from PIL import Image\n",
        "from tensorflow.keras.preprocessing.image import load_img, img_to_array\n",
        "from tensorflow.keras.models import load_model\n",
        "image=Image.open('/content/gdrive/MyDrive/T51+T52BAD+T53BAD+T54BAD+T57BAD +T58BAD/Test/good_dataset/DJI_0923.jpg')\n",
        "image_resized=image.resize((456,456))\n",
        "image=np.expand_dims(image_resized,axis=0)\n",
        "pred=my_model.predict(image)\n",
        "print(pred)"
      ],
      "metadata": {
        "id": "2MpMIlH2ruuq"
      },
      "execution_count": null,
      "outputs": []
    },
    {
      "cell_type": "code",
      "source": [
        "from PIL import ImageEnhance\n",
        "from PIL import Image\n",
        "from tensorflow.keras.preprocessing.image import load_img, img_to_array\n",
        "from tensorflow.keras.models import load_model\n",
        "image=Image.open('/content/gdrive/MyDrive/T51+T52BAD+T53BAD+T54BAD+T57BAD +T58BAD/Test/good_dataset/DJI_0925.jpg')\n",
        "image_resized=image.resize((456,456))\n",
        "image=np.expand_dims(image_resized,axis=0)\n",
        "pred=my_model.predict(image)\n",
        "print(pred)"
      ],
      "metadata": {
        "id": "lGLjeemCru5B"
      },
      "execution_count": null,
      "outputs": []
    },
    {
      "cell_type": "code",
      "source": [
        "from PIL import ImageEnhance\n",
        "from PIL import Image\n",
        "from tensorflow.keras.preprocessing.image import load_img, img_to_array\n",
        "from tensorflow.keras.models import load_model\n",
        "image=Image.open('/content/gdrive/MyDrive/T51+T52BAD+T53BAD+T54BAD+T57BAD +T58BAD/Test/good_dataset/DJI_0927.jpg')\n",
        "image_resized=image.resize((456,456))\n",
        "image=np.expand_dims(image_resized,axis=0)\n",
        "pred=my_model.predict(image)\n",
        "print(pred)"
      ],
      "metadata": {
        "id": "7vn7EInLrvBi"
      },
      "execution_count": null,
      "outputs": []
    },
    {
      "cell_type": "code",
      "source": [
        "from PIL import ImageEnhance\n",
        "from PIL import Image\n",
        "from tensorflow.keras.preprocessing.image import load_img, img_to_array\n",
        "from tensorflow.keras.models import load_model\n",
        "image=Image.open('/content/gdrive/MyDrive/T51+T52BAD+T53BAD+T54BAD+T57BAD +T58BAD/Test/good_dataset/DJI_0929.jpg')\n",
        "image_resized=image.resize((456,456))\n",
        "image=np.expand_dims(image_resized,axis=0)\n",
        "pred=my_model.predict(image)\n",
        "print(pred)"
      ],
      "metadata": {
        "id": "TnYsirS-rvK6"
      },
      "execution_count": null,
      "outputs": []
    },
    {
      "cell_type": "code",
      "source": [
        "from PIL import ImageEnhance\n",
        "from PIL import Image\n",
        "from tensorflow.keras.preprocessing.image import load_img, img_to_array\n",
        "from tensorflow.keras.models import load_model\n",
        "image=Image.open('/content/gdrive/MyDrive/T51+T52BAD+T53BAD+T54BAD+T57BAD +T58BAD/Test/good_dataset/DJI_0931.jpg')\n",
        "image_resized=image.resize((456,456))\n",
        "image=np.expand_dims(image_resized,axis=0)\n",
        "pred=my_model.predict(image)\n",
        "print(pred)"
      ],
      "metadata": {
        "id": "rLVOWPEyrvUJ"
      },
      "execution_count": null,
      "outputs": []
    },
    {
      "cell_type": "code",
      "source": [
        "from PIL import ImageEnhance\n",
        "from PIL import Image\n",
        "from tensorflow.keras.preprocessing.image import load_img, img_to_array\n",
        "from tensorflow.keras.models import load_model\n",
        "image=Image.open('/content/gdrive/MyDrive/T51+T52BAD+T53BAD+T54BAD+T57BAD +T58BAD/Test/good_dataset/DJI_0933.jpg')\n",
        "image_resized=image.resize((456,456))\n",
        "image=np.expand_dims(image_resized,axis=0)\n",
        "pred=my_model.predict(image)\n",
        "print(pred)"
      ],
      "metadata": {
        "id": "gwPh3xcWrvdJ"
      },
      "execution_count": null,
      "outputs": []
    },
    {
      "cell_type": "code",
      "source": [
        "from PIL import ImageEnhance\n",
        "from PIL import Image\n",
        "from tensorflow.keras.preprocessing.image import load_img, img_to_array\n",
        "from tensorflow.keras.models import load_model\n",
        "image=Image.open('/content/gdrive/MyDrive/T51+T52BAD+T53BAD+T54BAD+T57BAD +T58BAD/Test/good_dataset/DJI_0935.jpg')\n",
        "image_resized=image.resize((456,456))\n",
        "image=np.expand_dims(image_resized,axis=0)\n",
        "pred=my_model.predict(image)\n",
        "print(pred)"
      ],
      "metadata": {
        "id": "D-V3P0odrvpC"
      },
      "execution_count": null,
      "outputs": []
    },
    {
      "cell_type": "code",
      "source": [
        "from PIL import ImageEnhance\n",
        "from PIL import Image\n",
        "from tensorflow.keras.preprocessing.image import load_img, img_to_array\n",
        "from tensorflow.keras.models import load_model\n",
        "image=Image.open('/content/gdrive/MyDrive/T51+T52BAD+T53BAD+T54BAD+T57BAD +T58BAD/Test/good_dataset/DJI_0937.jpg')\n",
        "image_resized=image.resize((456,456))\n",
        "image=np.expand_dims(image_resized,axis=0)\n",
        "pred=my_model.predict(image)\n",
        "print(pred)"
      ],
      "metadata": {
        "id": "YjXDa56mrv4u"
      },
      "execution_count": null,
      "outputs": []
    },
    {
      "cell_type": "code",
      "source": [
        "from PIL import ImageEnhance\n",
        "from PIL import Image\n",
        "from tensorflow.keras.preprocessing.image import load_img, img_to_array\n",
        "from tensorflow.keras.models import load_model\n",
        "image=Image.open('/content/gdrive/MyDrive/T51+T52BAD+T53BAD+T54BAD+T57BAD +T58BAD/Test/good_dataset/DJI_0939.jpg')\n",
        "image_resized=image.resize((456,456))\n",
        "image=np.expand_dims(image_resized,axis=0)\n",
        "pred=my_model.predict(image)\n",
        "print(pred)"
      ],
      "metadata": {
        "id": "MaLhd0dKrwBW"
      },
      "execution_count": null,
      "outputs": []
    },
    {
      "cell_type": "code",
      "source": [
        "from PIL import ImageEnhance\n",
        "from PIL import Image\n",
        "from tensorflow.keras.preprocessing.image import load_img, img_to_array\n",
        "from tensorflow.keras.models import load_model\n",
        "image=Image.open('/content/gdrive/MyDrive/T51+T52BAD+T53BAD+T54BAD+T57BAD +T58BAD/Test/good_dataset/DJI_0941.jpg')\n",
        "image_resized=image.resize((456,456))\n",
        "image=np.expand_dims(image_resized,axis=0)\n",
        "pred=my_model.predict(image)\n",
        "print(pred)"
      ],
      "metadata": {
        "id": "ZxKL5zM3rwKM"
      },
      "execution_count": null,
      "outputs": []
    },
    {
      "cell_type": "code",
      "source": [
        "from PIL import ImageEnhance\n",
        "from PIL import Image\n",
        "from tensorflow.keras.preprocessing.image import load_img, img_to_array\n",
        "from tensorflow.keras.models import load_model\n",
        "image=Image.open('/content/gdrive/MyDrive/T51+T52BAD+T53BAD+T54BAD+T57BAD +T58BAD/Test/good_dataset/DJI_0943.jpg')\n",
        "image_resized=image.resize((456,456))\n",
        "image=np.expand_dims(image_resized,axis=0)\n",
        "pred=my_model.predict(image)\n",
        "print(pred)"
      ],
      "metadata": {
        "id": "NHO3kBSwrzB-"
      },
      "execution_count": null,
      "outputs": []
    },
    {
      "cell_type": "code",
      "source": [
        "from PIL import ImageEnhance\n",
        "from PIL import Image\n",
        "from tensorflow.keras.preprocessing.image import load_img, img_to_array\n",
        "from tensorflow.keras.models import load_model\n",
        "image=Image.open('/content/gdrive/MyDrive/T51+T52BAD+T53BAD+T54BAD+T57BAD +T58BAD/Test/good_dataset/DJI_0945.jpg')\n",
        "image_resized=image.resize((456,456))\n",
        "image=np.expand_dims(image_resized,axis=0)\n",
        "pred=my_model.predict(image)\n",
        "print(pred)"
      ],
      "metadata": {
        "id": "gi5JDrvcrzKT"
      },
      "execution_count": null,
      "outputs": []
    },
    {
      "cell_type": "code",
      "source": [
        "from PIL import ImageEnhance\n",
        "from PIL import Image\n",
        "from tensorflow.keras.preprocessing.image import load_img, img_to_array\n",
        "from tensorflow.keras.models import load_model\n",
        "image=Image.open('/content/gdrive/MyDrive/T51+T52BAD+T53BAD+T54BAD+T57BAD +T58BAD/Test/good_dataset/DJI_0947.jpg')\n",
        "image_resized=image.resize((456,456))\n",
        "image=np.expand_dims(image_resized,axis=0)\n",
        "pred=my_model.predict(image)\n",
        "print(pred)"
      ],
      "metadata": {
        "id": "WtPY9Ul6rzRc"
      },
      "execution_count": null,
      "outputs": []
    },
    {
      "cell_type": "code",
      "source": [
        "from PIL import ImageEnhance\n",
        "from PIL import Image\n",
        "from tensorflow.keras.preprocessing.image import load_img, img_to_array\n",
        "from tensorflow.keras.models import load_model\n",
        "image=Image.open('/content/gdrive/MyDrive/T51+T52BAD+T53BAD+T54BAD+T57BAD +T58BAD/Test/good_dataset/DJI_0949.jpg')\n",
        "image_resized=image.resize((456,456))\n",
        "image=np.expand_dims(image_resized,axis=0)\n",
        "pred=my_model.predict(image)\n",
        "print(pred)"
      ],
      "metadata": {
        "id": "8jfcLkP0rzYa"
      },
      "execution_count": null,
      "outputs": []
    },
    {
      "cell_type": "code",
      "source": [
        "from PIL import ImageEnhance\n",
        "from PIL import Image\n",
        "from tensorflow.keras.preprocessing.image import load_img, img_to_array\n",
        "from tensorflow.keras.models import load_model\n",
        "image=Image.open('/content/gdrive/MyDrive/T51+T52BAD+T53BAD+T54BAD+T57BAD +T58BAD/Test/good_dataset/DJI_0951.jpg')\n",
        "image_resized=image.resize((456,456))\n",
        "image=np.expand_dims(image_resized,axis=0)\n",
        "pred=my_model.predict(image)\n",
        "print(pred)"
      ],
      "metadata": {
        "id": "_orW39L4rzej"
      },
      "execution_count": null,
      "outputs": []
    },
    {
      "cell_type": "code",
      "source": [
        "from PIL import ImageEnhance\n",
        "from PIL import Image\n",
        "from tensorflow.keras.preprocessing.image import load_img, img_to_array\n",
        "from tensorflow.keras.models import load_model\n",
        "image=Image.open('/content/gdrive/MyDrive/T51+T52BAD+T53BAD+T54BAD+T57BAD +T58BAD/Test/good_dataset/DJI_0953.jpg')\n",
        "image_resized=image.resize((456,456))\n",
        "image=np.expand_dims(image_resized,axis=0)\n",
        "pred=my_model.predict(image)\n",
        "print(pred)"
      ],
      "metadata": {
        "id": "G714V0y0rzk8"
      },
      "execution_count": null,
      "outputs": []
    },
    {
      "cell_type": "code",
      "source": [
        "from PIL import ImageEnhance\n",
        "from PIL import Image\n",
        "from tensorflow.keras.preprocessing.image import load_img, img_to_array\n",
        "from tensorflow.keras.models import load_model\n",
        "image=Image.open('/content/gdrive/MyDrive/T51+T52BAD+T53BAD+T54BAD+T57BAD +T58BAD/Test/good_dataset/DJI_0955.jpg')\n",
        "image_resized=image.resize((456,456))\n",
        "image=np.expand_dims(image_resized,axis=0)\n",
        "pred=my_model.predict(image)\n",
        "print(pred)"
      ],
      "metadata": {
        "id": "2XJuCcgtrzrK"
      },
      "execution_count": null,
      "outputs": []
    },
    {
      "cell_type": "code",
      "source": [
        "from PIL import ImageEnhance\n",
        "from PIL import Image\n",
        "from tensorflow.keras.preprocessing.image import load_img, img_to_array\n",
        "from tensorflow.keras.models import load_model\n",
        "image=Image.open('/content/gdrive/MyDrive/T51+T52BAD+T53BAD+T54BAD+T57BAD +T58BAD/Test/good_dataset/DJI_0957.jpg')\n",
        "image_resized=image.resize((456,456))\n",
        "image=np.expand_dims(image_resized,axis=0)\n",
        "pred=my_model.predict(image)\n",
        "print(pred)"
      ],
      "metadata": {
        "id": "1lMWdJ3frzxa"
      },
      "execution_count": null,
      "outputs": []
    },
    {
      "cell_type": "code",
      "source": [
        "from PIL import ImageEnhance\n",
        "from PIL import Image\n",
        "from tensorflow.keras.preprocessing.image import load_img, img_to_array\n",
        "from tensorflow.keras.models import load_model\n",
        "image=Image.open('/content/gdrive/MyDrive/T51+T52BAD+T53BAD+T54BAD+T57BAD +T58BAD/Test/good_dataset/DJI_0959.jpg')\n",
        "image_resized=image.resize((456,456))\n",
        "image=np.expand_dims(image_resized,axis=0)\n",
        "pred=my_model.predict(image)\n",
        "print(pred)"
      ],
      "metadata": {
        "id": "cktYn3rLrz3r"
      },
      "execution_count": null,
      "outputs": []
    },
    {
      "cell_type": "code",
      "source": [
        "from PIL import ImageEnhance\n",
        "from PIL import Image\n",
        "from tensorflow.keras.preprocessing.image import load_img, img_to_array\n",
        "from tensorflow.keras.models import load_model\n",
        "image=Image.open('/content/gdrive/MyDrive/T51+T52BAD+T53BAD+T54BAD+T57BAD +T58BAD/Test/good_dataset/DJI_0961.jpg')\n",
        "image_resized=image.resize((456,456))\n",
        "image=np.expand_dims(image_resized,axis=0)\n",
        "pred=my_model.predict(image)\n",
        "print(pred)"
      ],
      "metadata": {
        "id": "dI81wQh-rz-j"
      },
      "execution_count": null,
      "outputs": []
    },
    {
      "cell_type": "code",
      "source": [
        "from PIL import ImageEnhance\n",
        "from PIL import Image\n",
        "from tensorflow.keras.preprocessing.image import load_img, img_to_array\n",
        "from tensorflow.keras.models import load_model\n",
        "image=Image.open('/content/gdrive/MyDrive/T51+T52BAD+T53BAD+T54BAD+T57BAD +T58BAD/Test/good_dataset/DJI_0963.jpg')\n",
        "image_resized=image.resize((456,456))\n",
        "image=np.expand_dims(image_resized,axis=0)\n",
        "pred=my_model.predict(image)\n",
        "print(pred)"
      ],
      "metadata": {
        "id": "WOVBVRlVr0Fa"
      },
      "execution_count": null,
      "outputs": []
    },
    {
      "cell_type": "code",
      "source": [
        "from PIL import ImageEnhance\n",
        "from PIL import Image\n",
        "from tensorflow.keras.preprocessing.image import load_img, img_to_array\n",
        "from tensorflow.keras.models import load_model\n",
        "image=Image.open('/content/gdrive/MyDrive/T51+T52BAD+T53BAD+T54BAD+T57BAD +T58BAD/Test/good_dataset/DJI_0965.jpg')\n",
        "image_resized=image.resize((456,456))\n",
        "image=np.expand_dims(image_resized,axis=0)\n",
        "pred=my_model.predict(image)\n",
        "print(pred)"
      ],
      "metadata": {
        "id": "fWHPsSKnr0La"
      },
      "execution_count": null,
      "outputs": []
    },
    {
      "cell_type": "code",
      "source": [
        "from PIL import ImageEnhance\n",
        "from PIL import Image\n",
        "from tensorflow.keras.preprocessing.image import load_img, img_to_array\n",
        "from tensorflow.keras.models import load_model\n",
        "image=Image.open('/content/gdrive/MyDrive/T51+T52BAD+T53BAD+T54BAD+T57BAD +T58BAD/Test/good_dataset/DJI_0967.jpg')\n",
        "image_resized=image.resize((456,456))\n",
        "image=np.expand_dims(image_resized,axis=0)\n",
        "pred=my_model.predict(image)\n",
        "print(pred)"
      ],
      "metadata": {
        "id": "op8EitFbr146"
      },
      "execution_count": null,
      "outputs": []
    },
    {
      "cell_type": "code",
      "source": [
        "from PIL import ImageEnhance\n",
        "from PIL import Image\n",
        "from tensorflow.keras.preprocessing.image import load_img, img_to_array\n",
        "from tensorflow.keras.models import load_model\n",
        "image=Image.open('/content/gdrive/MyDrive/T51+T52BAD+T53BAD+T54BAD+T57BAD +T58BAD/Test/good_dataset/DJI_0969.jpg')\n",
        "image_resized=image.resize((456,456))\n",
        "image=np.expand_dims(image_resized,axis=0)\n",
        "pred=my_model.predict(image)\n",
        "print(pred)"
      ],
      "metadata": {
        "id": "makYdg4Gr2AC"
      },
      "execution_count": null,
      "outputs": []
    },
    {
      "cell_type": "code",
      "source": [
        "from PIL import ImageEnhance\n",
        "from PIL import Image\n",
        "from tensorflow.keras.preprocessing.image import load_img, img_to_array\n",
        "from tensorflow.keras.models import load_model\n",
        "image=Image.open('/content/gdrive/MyDrive/T51+T52BAD+T53BAD+T54BAD+T57BAD +T58BAD/Test/good_dataset/DJI_0971.jpg')\n",
        "image_resized=image.resize((456,456))\n",
        "image=np.expand_dims(image_resized,axis=0)\n",
        "pred=my_model.predict(image)\n",
        "print(pred)"
      ],
      "metadata": {
        "id": "n1FmiLugr2Gi"
      },
      "execution_count": null,
      "outputs": []
    },
    {
      "cell_type": "code",
      "source": [
        "from PIL import ImageEnhance\n",
        "from PIL import Image\n",
        "from tensorflow.keras.preprocessing.image import load_img, img_to_array\n",
        "from tensorflow.keras.models import load_model\n",
        "image=Image.open('/content/gdrive/MyDrive/T51+T52BAD+T53BAD+T54BAD+T57BAD +T58BAD/Test/good_dataset/DJI_0973.jpg')\n",
        "image_resized=image.resize((456,456))\n",
        "image=np.expand_dims(image_resized,axis=0)\n",
        "pred=my_model.predict(image)\n",
        "print(pred)"
      ],
      "metadata": {
        "id": "RVHO8L2pr2Ni"
      },
      "execution_count": null,
      "outputs": []
    },
    {
      "cell_type": "code",
      "source": [
        "from PIL import ImageEnhance\n",
        "from PIL import Image\n",
        "from tensorflow.keras.preprocessing.image import load_img, img_to_array\n",
        "from tensorflow.keras.models import load_model\n",
        "image=Image.open('/content/gdrive/MyDrive/T51+T52BAD+T53BAD+T54BAD+T57BAD +T58BAD/Test/good_dataset/DJI_0975.jpg')\n",
        "image_resized=image.resize((456,456))\n",
        "image=np.expand_dims(image_resized,axis=0)\n",
        "pred=my_model.predict(image)\n",
        "print(pred)"
      ],
      "metadata": {
        "id": "2swEasXCr2Ui"
      },
      "execution_count": null,
      "outputs": []
    },
    {
      "cell_type": "code",
      "source": [
        "from PIL import ImageEnhance\n",
        "from PIL import Image\n",
        "from tensorflow.keras.preprocessing.image import load_img, img_to_array\n",
        "from tensorflow.keras.models import load_model\n",
        "image=Image.open('/content/gdrive/MyDrive/T51+T52BAD+T53BAD+T54BAD+T57BAD +T58BAD/Test/good_dataset/DJI_0977.jpg')\n",
        "image_resized=image.resize((456,456))\n",
        "image=np.expand_dims(image_resized,axis=0)\n",
        "pred=my_model.predict(image)\n",
        "print(pred)"
      ],
      "metadata": {
        "id": "Ed-4ktvYr2a6"
      },
      "execution_count": null,
      "outputs": []
    },
    {
      "cell_type": "code",
      "source": [
        "from PIL import ImageEnhance\n",
        "from PIL import Image\n",
        "from tensorflow.keras.preprocessing.image import load_img, img_to_array\n",
        "from tensorflow.keras.models import load_model\n",
        "image=Image.open('/content/gdrive/MyDrive/T51+T52BAD+T53BAD+T54BAD+T57BAD +T58BAD/Test/good_dataset/DJI_0979.jpg')\n",
        "image_resized=image.resize((456,456))\n",
        "image=np.expand_dims(image_resized,axis=0)\n",
        "pred=my_model.predict(image)\n",
        "print(pred)"
      ],
      "metadata": {
        "id": "-ygKNK9hr2hS"
      },
      "execution_count": null,
      "outputs": []
    },
    {
      "cell_type": "code",
      "source": [
        "from PIL import ImageEnhance\n",
        "from PIL import Image\n",
        "from tensorflow.keras.preprocessing.image import load_img, img_to_array\n",
        "from tensorflow.keras.models import load_model\n",
        "image=Image.open('/content/gdrive/MyDrive/T51+T52BAD+T53BAD+T54BAD+T57BAD +T58BAD/Test/good_dataset/DJI_0981.jpg')\n",
        "image_resized=image.resize((456,456))\n",
        "image=np.expand_dims(image_resized,axis=0)\n",
        "pred=my_model.predict(image)\n",
        "print(pred)"
      ],
      "metadata": {
        "id": "YaQyyklGr2oD"
      },
      "execution_count": null,
      "outputs": []
    },
    {
      "cell_type": "code",
      "source": [
        "from PIL import ImageEnhance\n",
        "from PIL import Image\n",
        "from tensorflow.keras.preprocessing.image import load_img, img_to_array\n",
        "from tensorflow.keras.models import load_model\n",
        "image=Image.open('/content/gdrive/MyDrive/T51+T52BAD+T53BAD+T54BAD+T57BAD +T58BAD/Test/good_dataset/DJI_0983.jpg')\n",
        "image_resized=image.resize((456,456))\n",
        "image=np.expand_dims(image_resized,axis=0)\n",
        "pred=my_model.predict(image)\n",
        "print(pred)"
      ],
      "metadata": {
        "id": "TYUod0TQr2uK"
      },
      "execution_count": null,
      "outputs": []
    },
    {
      "cell_type": "code",
      "source": [
        "from PIL import ImageEnhance\n",
        "from PIL import Image\n",
        "from tensorflow.keras.preprocessing.image import load_img, img_to_array\n",
        "from tensorflow.keras.models import load_model\n",
        "image=Image.open('/content/gdrive/MyDrive/T51+T52BAD+T53BAD+T54BAD+T57BAD +T58BAD/Test/good_dataset/DJI_0985.jpg')\n",
        "image_resized=image.resize((456,456))\n",
        "image=np.expand_dims(image_resized,axis=0)\n",
        "pred=my_model.predict(image)\n",
        "print(pred)"
      ],
      "metadata": {
        "id": "vEpsOhnmr20i"
      },
      "execution_count": null,
      "outputs": []
    },
    {
      "cell_type": "code",
      "source": [
        "from PIL import ImageEnhance\n",
        "from PIL import Image\n",
        "from tensorflow.keras.preprocessing.image import load_img, img_to_array\n",
        "from tensorflow.keras.models import load_model\n",
        "image=Image.open('/content/gdrive/MyDrive/T51+T52BAD+T53BAD+T54BAD+T57BAD +T58BAD/Test/good_dataset/DJI_0987.jpg')\n",
        "image_resized=image.resize((456,456))\n",
        "image=np.expand_dims(image_resized,axis=0)\n",
        "pred=my_model.predict(image)\n",
        "print(pred)"
      ],
      "metadata": {
        "id": "foGgJjm7r27D"
      },
      "execution_count": null,
      "outputs": []
    },
    {
      "cell_type": "code",
      "source": [
        "from PIL import ImageEnhance\n",
        "from PIL import Image\n",
        "from tensorflow.keras.preprocessing.image import load_img, img_to_array\n",
        "from tensorflow.keras.models import load_model\n",
        "image=Image.open('/content/gdrive/MyDrive/T51+T52BAD+T53BAD+T54BAD+T57BAD +T58BAD/Test/good_dataset/DJI_0989.jpg')\n",
        "image_resized=image.resize((456,456))\n",
        "image=np.expand_dims(image_resized,axis=0)\n",
        "pred=my_model.predict(image)\n",
        "print(pred)"
      ],
      "metadata": {
        "id": "MpfQl60lr3Bz"
      },
      "execution_count": null,
      "outputs": []
    },
    {
      "cell_type": "code",
      "source": [
        "from PIL import ImageEnhance\n",
        "from PIL import Image\n",
        "from tensorflow.keras.preprocessing.image import load_img, img_to_array\n",
        "from tensorflow.keras.models import load_model\n",
        "image=Image.open('/content/gdrive/MyDrive/T51+T52BAD+T53BAD+T54BAD+T57BAD +T58BAD/Test/good_dataset/DJI_0991.jpg')\n",
        "image_resized=image.resize((456,456))\n",
        "image=np.expand_dims(image_resized,axis=0)\n",
        "pred=my_model.predict(image)\n",
        "print(pred)"
      ],
      "metadata": {
        "id": "QZx7dR23r45v"
      },
      "execution_count": null,
      "outputs": []
    },
    {
      "cell_type": "code",
      "source": [
        "from PIL import ImageEnhance\n",
        "from PIL import Image\n",
        "from tensorflow.keras.preprocessing.image import load_img, img_to_array\n",
        "from tensorflow.keras.models import load_model\n",
        "image=Image.open('/content/gdrive/MyDrive/T51+T52BAD+T53BAD+T54BAD+T57BAD +T58BAD/Test/good_dataset/DJI_0993.jpg')\n",
        "image_resized=image.resize((456,456))\n",
        "image=np.expand_dims(image_resized,axis=0)\n",
        "pred=my_model.predict(image)\n",
        "print(pred)"
      ],
      "metadata": {
        "id": "X-qaYvDWr5Bz"
      },
      "execution_count": null,
      "outputs": []
    },
    {
      "cell_type": "code",
      "source": [
        "from PIL import ImageEnhance\n",
        "from PIL import Image\n",
        "from tensorflow.keras.preprocessing.image import load_img, img_to_array\n",
        "from tensorflow.keras.models import load_model\n",
        "image=Image.open('/content/gdrive/MyDrive/T51+T52BAD+T53BAD+T54BAD+T57BAD +T58BAD/Test/good_dataset/DJI_0995.jpg')\n",
        "image_resized=image.resize((456,456))\n",
        "image=np.expand_dims(image_resized,axis=0)\n",
        "pred=my_model.predict(image)\n",
        "print(pred)"
      ],
      "metadata": {
        "id": "7YBvt66mr5JE"
      },
      "execution_count": null,
      "outputs": []
    },
    {
      "cell_type": "code",
      "source": [
        "from sklearn.metrics import classification_report,confusion_matrix\n",
        "truth=['bad','bad','bad','bad','bad','bad','bad','bad','bad','bad','bad','bad','bad','bad','bad','bad','bad','bad','bad','bad','bad','bad','good','good','good','good','good','good','good','good','good','good','good','good','good','good','good','good','good','good','good','good','good','good','good','good','good','good','good','good','good','good','good','good','good','good','good','good','good','good','good','good','good','good','good','good','good','good','good','good','good','good','good','good','good','good','good','good','good','good','good','good','good','good','good','good']\n",
        "prediction=['good','good','good','good','good','good','good','good','good','good','good','good','good','good','good','good','good','good','good','good','good','good','good','good','good','good','good','good','good','good','good','good','good','good','good','good','good','good','good','good','good','good','good','good','good','good','good','good','good','good','good','good','good','good','good','good','good','good','good','good','good','good','good','good','good','good','good','good','good','good','good','good','good','good','good','good','good','good','good','good','good','good','good','good','good','good']\n",
        "print(classification_report(truth,prediction))\n",
        "print(confusion_matrix(truth,prediction))"
      ],
      "metadata": {
        "id": "y1wcTaFNsUBc"
      },
      "execution_count": null,
      "outputs": []
    },
    {
      "cell_type": "code",
      "source": [
        "from PIL import Image\n",
        "import matplotlib.pyplot as plt\n",
        "image=Image.open('/content/gdrive/MyDrive/T51+T52BAD+T53BAD+T54BAD+T57BAD +T58BAD/Test/bad_dataset/DJI_0066.jpg')\n",
        "print(type(image))\n",
        "print(image.mode)\n",
        "print(image.format)\n"
      ],
      "metadata": {
        "id": "FuebeD8nYe4N"
      },
      "execution_count": null,
      "outputs": []
    },
    {
      "cell_type": "code",
      "source": [
        "from PIL import Image\n",
        "import matplotlib.pyplot as plt\n",
        "image=Image.open('/content/gdrive/MyDrive/T51+T52BAD+T53BAD+T54BAD+T57BAD +T58BAD/Test/bad_dataset/DJI_0108.jpg')\n",
        "print(type(image))\n",
        "print(image.mode)\n",
        "print(image.format)\n"
      ],
      "metadata": {
        "id": "1-CmQWtXYfFw"
      },
      "execution_count": null,
      "outputs": []
    },
    {
      "cell_type": "code",
      "source": [
        "from PIL import Image\n",
        "import matplotlib.pyplot as plt\n",
        "image=Image.open('/content/gdrive/MyDrive/T51+T52BAD+T53BAD+T54BAD+T57BAD +T58BAD/Test/bad_dataset/DJI_0110.jpg')\n",
        "print(type(image))\n",
        "print(image.mode)\n",
        "print(image.format)\n"
      ],
      "metadata": {
        "id": "9Q2AHlg4YfeI"
      },
      "execution_count": null,
      "outputs": []
    },
    {
      "cell_type": "code",
      "source": [
        "from PIL import Image\n",
        "import matplotlib.pyplot as plt\n",
        "image=Image.open('/content/gdrive/MyDrive/T51+T52BAD+T53BAD+T54BAD+T57BAD +T58BAD/Test/bad_dataset/DJI_0489.jpg')\n",
        "print(type(image))\n",
        "print(image.mode)\n",
        "print(image.format)\n"
      ],
      "metadata": {
        "id": "LVcgkodJYfg8"
      },
      "execution_count": null,
      "outputs": []
    },
    {
      "cell_type": "code",
      "source": [
        "from PIL import Image\n",
        "import matplotlib.pyplot as plt\n",
        "image=Image.open('/content/gdrive/MyDrive/T51+T52BAD+T53BAD+T54BAD+T57BAD +T58BAD/Test/bad_dataset/DJI_0491.jpg')\n",
        "print(type(image))\n",
        "print(image.mode)\n",
        "print(image.format)\n"
      ],
      "metadata": {
        "id": "TH6t7q79YfuQ"
      },
      "execution_count": null,
      "outputs": []
    },
    {
      "cell_type": "code",
      "source": [
        "from PIL import Image\n",
        "import matplotlib.pyplot as plt\n",
        "image=Image.open('/content/gdrive/MyDrive/T51+T52BAD+T53BAD+T54BAD+T57BAD +T58BAD/Test/bad_dataset/DJI_0493.jpg')\n",
        "print(type(image))\n",
        "print(image.mode)\n",
        "print(image.format)\n"
      ],
      "metadata": {
        "id": "UYsjXJWiYf9m"
      },
      "execution_count": null,
      "outputs": []
    },
    {
      "cell_type": "code",
      "source": [
        "from PIL import Image\n",
        "import matplotlib.pyplot as plt\n",
        "image=Image.open('/content/gdrive/MyDrive/T51+T52BAD+T53BAD+T54BAD+T57BAD +T58BAD/Test/bad_dataset/DJI_0495.jpg')\n",
        "print(type(image))\n",
        "print(image.mode)\n",
        "print(image.format)\n"
      ],
      "metadata": {
        "id": "yH1dI-q6YgL5"
      },
      "execution_count": null,
      "outputs": []
    },
    {
      "cell_type": "code",
      "source": [
        "from PIL import Image\n",
        "import matplotlib.pyplot as plt\n",
        "image=Image.open('/content/gdrive/MyDrive/T51+T52BAD+T53BAD+T54BAD+T57BAD +T58BAD/Test/bad_dataset/DJI_0497.jpg')\n",
        "print(type(image))\n",
        "print(image.mode)\n",
        "print(image.format)\n"
      ],
      "metadata": {
        "id": "Ep2crld_YgqD"
      },
      "execution_count": null,
      "outputs": []
    },
    {
      "cell_type": "code",
      "source": [
        "from PIL import Image\n",
        "import matplotlib.pyplot as plt\n",
        "image=Image.open('/content/gdrive/MyDrive/T51+T52BAD+T53BAD+T54BAD+T57BAD +T58BAD/Test/bad_dataset/DJI_0499.jpg')\n",
        "print(type(image))\n",
        "print(image.mode)\n",
        "print(image.format)\n"
      ],
      "metadata": {
        "id": "Jz-JC8l5Yg3R"
      },
      "execution_count": null,
      "outputs": []
    },
    {
      "cell_type": "code",
      "source": [
        "from PIL import Image\n",
        "import matplotlib.pyplot as plt\n",
        "image=Image.open('/content/gdrive/MyDrive/T51+T52BAD+T53BAD+T54BAD+T57BAD +T58BAD/Test/bad_dataset/DJI_0501.jpg')\n",
        "print(type(image))\n",
        "print(image.mode)\n",
        "print(image.format)\n"
      ],
      "metadata": {
        "id": "wMh4DQk9YhEh"
      },
      "execution_count": null,
      "outputs": []
    },
    {
      "cell_type": "code",
      "source": [
        "from PIL import Image\n",
        "import matplotlib.pyplot as plt\n",
        "image=Image.open('/content/gdrive/MyDrive/T51+T52BAD+T53BAD+T54BAD+T57BAD +T58BAD/Test/bad_dataset/DJI_0503.jpg')\n",
        "print(type(image))\n",
        "print(image.mode)\n",
        "print(image.format)\n"
      ],
      "metadata": {
        "id": "xX6lOeEdYhTl"
      },
      "execution_count": null,
      "outputs": []
    },
    {
      "cell_type": "code",
      "source": [
        "from PIL import Image\n",
        "import matplotlib.pyplot as plt\n",
        "image=Image.open('/content/gdrive/MyDrive/T51+T52BAD+T53BAD+T54BAD+T57BAD +T58BAD/Test/bad_dataset/DJI_0505.jpg')\n",
        "print(type(image))\n",
        "print(image.mode)\n",
        "print(image.format)\n"
      ],
      "metadata": {
        "id": "rPMCwbMbYhiM"
      },
      "execution_count": null,
      "outputs": []
    },
    {
      "cell_type": "code",
      "source": [
        "from PIL import Image\n",
        "import matplotlib.pyplot as plt\n",
        "image=Image.open('/content/gdrive/MyDrive/T51+T52BAD+T53BAD+T54BAD+T57BAD +T58BAD/Test/bad_dataset/DJI_0507.jpg')\n",
        "print(type(image))\n",
        "print(image.mode)\n",
        "print(image.format)\n"
      ],
      "metadata": {
        "id": "7kcPgD4jYhyE"
      },
      "execution_count": null,
      "outputs": []
    },
    {
      "cell_type": "code",
      "source": [
        "from PIL import Image\n",
        "import matplotlib.pyplot as plt\n",
        "image=Image.open('/content/gdrive/MyDrive/T51+T52BAD+T53BAD+T54BAD+T57BAD +T58BAD/Test/bad_dataset/DJI_0509.jpg')\n",
        "print(type(image))\n",
        "print(image.mode)\n",
        "print(image.format)\n"
      ],
      "metadata": {
        "id": "hnaIijFxYh_Q"
      },
      "execution_count": null,
      "outputs": []
    },
    {
      "cell_type": "code",
      "source": [
        "from PIL import Image\n",
        "import matplotlib.pyplot as plt\n",
        "image=Image.open('/content/gdrive/MyDrive/T51+T52BAD+T53BAD+T54BAD+T57BAD +T58BAD/Test/bad_dataset/DJI_0608.jpg')\n",
        "print(type(image))\n",
        "print(image.mode)\n",
        "print(image.format)\n"
      ],
      "metadata": {
        "id": "JOSzAcBWYiNG"
      },
      "execution_count": null,
      "outputs": []
    },
    {
      "cell_type": "code",
      "source": [
        "from PIL import Image\n",
        "import matplotlib.pyplot as plt\n",
        "image=Image.open('/content/gdrive/MyDrive/T51+T52BAD+T53BAD+T54BAD+T57BAD +T58BAD/Test/bad_dataset/DJI_0610.jpg')\n",
        "print(type(image))\n",
        "print(image.mode)\n",
        "print(image.format)\n"
      ],
      "metadata": {
        "id": "HHgLVqNCrlHd"
      },
      "execution_count": null,
      "outputs": []
    },
    {
      "cell_type": "code",
      "source": [
        "from PIL import Image\n",
        "import matplotlib.pyplot as plt\n",
        "image=Image.open('/content/gdrive/MyDrive/T51+T52BAD+T53BAD+T54BAD+T57BAD +T58BAD/Test/bad_dataset/DJI_0976.jpg')\n",
        "print(type(image))\n",
        "print(image.mode)\n",
        "print(image.format)\n"
      ],
      "metadata": {
        "id": "shCq9Hf_IkDe"
      },
      "execution_count": null,
      "outputs": []
    },
    {
      "cell_type": "code",
      "source": [
        "from PIL import Image\n",
        "import matplotlib.pyplot as plt\n",
        "image=Image.open('/content/gdrive/MyDrive/T51+T52BAD+T53BAD+T54BAD+T57BAD +T58BAD/Test/bad_dataset/DJI_0978.jpg')\n",
        "print(type(image))\n",
        "print(image.mode)\n",
        "print(image.format)\n"
      ],
      "metadata": {
        "id": "0qiJ4uujIkhn"
      },
      "execution_count": null,
      "outputs": []
    },
    {
      "cell_type": "code",
      "source": [
        "from PIL import Image\n",
        "import matplotlib.pyplot as plt\n",
        "image=Image.open('/content/gdrive/MyDrive/T51+T52BAD+T53BAD+T54BAD+T57BAD +T58BAD/Test/bad_dataset/DJI_0980.jpg')\n",
        "print(type(image))\n",
        "print(image.mode)\n",
        "print(image.format)\n"
      ],
      "metadata": {
        "id": "KYyR229KIkww"
      },
      "execution_count": null,
      "outputs": []
    },
    {
      "cell_type": "code",
      "source": [
        "from PIL import Image\n",
        "import matplotlib.pyplot as plt\n",
        "image=Image.open('/content/gdrive/MyDrive/T51+T52BAD+T53BAD+T54BAD+T57BAD +T58BAD/Test/bad_dataset/DJI_0982.jpg')\n",
        "print(type(image))\n",
        "print(image.mode)\n",
        "print(image.format)\n"
      ],
      "metadata": {
        "id": "uPIDHDXIIk8H"
      },
      "execution_count": null,
      "outputs": []
    },
    {
      "cell_type": "code",
      "source": [
        "from PIL import Image\n",
        "import matplotlib.pyplot as plt\n",
        "image=Image.open('/content/gdrive/MyDrive/T51+T52BAD+T53BAD+T54BAD+T57BAD +T58BAD/Test/bad_dataset/DJI_0984.jpg')\n",
        "print(type(image))\n",
        "print(image.mode)\n",
        "print(image.format)\n"
      ],
      "metadata": {
        "id": "S93ypDziIlFH"
      },
      "execution_count": null,
      "outputs": []
    },
    {
      "cell_type": "code",
      "source": [
        "from PIL import Image\n",
        "import matplotlib.pyplot as plt\n",
        "image=Image.open('/content/gdrive/MyDrive/T51+T52BAD+T53BAD+T54BAD+T57BAD +T58BAD/Test/bad_dataset/DJI_0986.jpg')\n",
        "print(type(image))\n",
        "print(image.mode)\n",
        "print(image.format)\n"
      ],
      "metadata": {
        "id": "9Mu8U8aqIlNx"
      },
      "execution_count": null,
      "outputs": []
    },
    {
      "cell_type": "markdown",
      "source": [
        " image DJI_0066.jpg is not detected by efficientnetB1 model because brightness is poor, so we can apply resizing+brightness combination.\n",
        "\n"
      ],
      "metadata": {
        "id": "zdGzNKOwh-Gc"
      }
    },
    {
      "cell_type": "code",
      "source": [
        "from PIL import ImageEnhance\n",
        "from PIL import Image\n",
        "import numpy as np\n",
        "\n",
        "from tensorflow.keras.preprocessing.image import load_img, img_to_array\n",
        "from tensorflow.keras.models import load_model\n",
        "from tensorflow.keras.applications import imagenet_utils\n",
        "img=Image.open('/content/gdrive/MyDrive/T51+T52BAD+T53BAD+T54BAD+T57BAD +T58BAD/Test/bad_dataset/DJI_0066.jpg')\n",
        "img_resize=img.resize((456,456))\n",
        "#plt.imshow(img_resize,cmap='gray')\n",
        "curr_bri=ImageEnhance.Brightness(img_resize)\n",
        "new_bri=1.6\n",
        "img_brightened=curr_bri.enhance(new_bri)\n",
        "plt.imshow(img_brightened)\n",
        "image =img_to_array(img_brightened)\n",
        "print(image.shape)\n",
        "img1 = np.expand_dims(image,axis=0)\n",
        "print(img1.shape)\n",
        "#from copy import deepcopy\n",
        "#img_2=deepcopy(img1)\n",
        "#images=[img1,img_2]\n",
        "prediction=my_model.predict(img1)\n",
        "print(prediction)\n"
      ],
      "metadata": {
        "id": "pHhoM9j__ilu"
      },
      "execution_count": null,
      "outputs": []
    },
    {
      "cell_type": "markdown",
      "source": [
        "before image proceesing bad image predict good,\n",
        "after image proceesing bad image predict good. so this image proceesing method can not predict correctly."
      ],
      "metadata": {
        "id": "nIW2mtpuzVZa"
      }
    },
    {
      "cell_type": "markdown",
      "source": [
        "image DJI_0108.jpg is not detected by efficientnetB1 model because brightness is poor, so we can apply resizing+brightness combination.\n",
        "\n",
        "\n"
      ],
      "metadata": {
        "id": "qvAqMf_-YIip"
      }
    },
    {
      "cell_type": "code",
      "source": [
        "from PIL import ImageEnhance\n",
        "from PIL import Image\n",
        "from tensorflow.keras.preprocessing.image import load_img, img_to_array\n",
        "from tensorflow.keras.models import load_model\n",
        "image=Image.open('/content/gdrive/MyDrive/T51+T52BAD+T53BAD+T54BAD+T57BAD +T58BAD/Test/bad_dataset/DJI_0108.jpg')\n",
        "img_resize=image.resize((456,456))\n",
        "\n",
        "curr_bri=ImageEnhance.Brightness(img_resize)\n",
        "new_bri=1.6\n",
        "img_brightened=curr_bri.enhance(new_bri)\n",
        "plt.imshow(img_brightened)\n",
        "img = img_to_array(img_brightened)\n",
        "img = img.reshape(1,456,456,3)\n",
        "\n",
        "pred=my_model.predict(img)\n",
        "print(pred)\n",
        "#pred==1\n"
      ],
      "metadata": {
        "id": "I0kX4EceZmx_"
      },
      "execution_count": null,
      "outputs": []
    },
    {
      "cell_type": "markdown",
      "source": [
        "before image proceesing bad image predict good, after image proceesing bad image predict good. so this image proceesing method can not predict correctly."
      ],
      "metadata": {
        "id": "bVvFcX6ez76W"
      }
    },
    {
      "cell_type": "markdown",
      "source": [
        "image DJI_0110.jpg is not detected by efficientnetB1 model because brightness is poor, so we can apply resizing+brightness combination."
      ],
      "metadata": {
        "id": "JAdh7g3uYBsZ"
      }
    },
    {
      "cell_type": "code",
      "source": [
        "from PIL import ImageEnhance\n",
        "from PIL import Image\n",
        "from tensorflow.keras.preprocessing.image import load_img, img_to_array\n",
        "from tensorflow.keras.models import load_model\n",
        "image=Image.open('/content/gdrive/MyDrive/T51+T52BAD+T53BAD+T54BAD+T57BAD +T58BAD/Test/bad_dataset/DJI_0110.jpg')\n",
        "img_resize=image.resize((456,456))\n",
        "\n",
        "curr_bri=ImageEnhance.Brightness(img_resize)\n",
        "new_bri=1.6\n",
        "img_brightened=curr_bri.enhance(new_bri)\n",
        "plt.imshow(img_brightened)\n",
        "img = img_to_array(img_brightened)\n",
        "img = img.reshape(1,456,456,3)\n",
        "\n",
        "pred=my_model.predict(img)\n",
        "print(pred)\n"
      ],
      "metadata": {
        "id": "QKWn65rgZsgW"
      },
      "execution_count": null,
      "outputs": []
    },
    {
      "cell_type": "markdown",
      "source": [
        "before image proceesing bad image predict good, after image proceesing bad image predict good. so this image proceesing method can not predict correctly."
      ],
      "metadata": {
        "id": "d8iTL4L0z92l"
      }
    },
    {
      "cell_type": "markdown",
      "source": [
        "image DJI_0489.jpg is not detected by efficientB1 model because brightness is poor, so we can apply resizing+brightness combination."
      ],
      "metadata": {
        "id": "QbBmbqB_YbgC"
      }
    },
    {
      "cell_type": "code",
      "source": [
        "from PIL import ImageEnhance\n",
        "from PIL import Image\n",
        "from tensorflow.keras.preprocessing.image import load_img, img_to_array\n",
        "from tensorflow.keras.models import load_model\n",
        "image=Image.open('/content/gdrive/MyDrive/T51+T52BAD+T53BAD+T54BAD+T57BAD +T58BAD/Test/bad_dataset/DJI_0489.jpg')\n",
        "img_resize=image.resize((456,456))\n",
        "\n",
        "curr_bri=ImageEnhance.Brightness(img_resize)\n",
        "new_bri=1.6\n",
        "img_brightened=curr_bri.enhance(new_bri)\n",
        "plt.imshow(img_brightened)\n",
        "img = img_to_array(img_brightened)\n",
        "img = img.reshape(1,456,456,3)\n",
        "\n",
        "pred=my_model.predict(img)\n",
        "print(pred)\n"
      ],
      "metadata": {
        "id": "JoIzksoHZsmV"
      },
      "execution_count": null,
      "outputs": []
    },
    {
      "cell_type": "markdown",
      "source": [
        "before image proceesing bad image predict good, after image proceesing bad image predict good. so this image proceesing method can not predict correctly."
      ],
      "metadata": {
        "id": "OZqMp_Gc0IqH"
      }
    },
    {
      "cell_type": "markdown",
      "source": [
        "image DJI_0491.jpg is not detected by efficientB1 model because brightness is poor, so we can apply resizing+brightness combination."
      ],
      "metadata": {
        "id": "z30Lme8NZAN3"
      }
    },
    {
      "cell_type": "code",
      "source": [
        "from PIL import ImageEnhance\n",
        "from PIL import Image\n",
        "from tensorflow.keras.preprocessing.image import load_img, img_to_array\n",
        "from tensorflow.keras.models import load_model\n",
        "image=Image.open('/content/gdrive/MyDrive/T51+T52BAD+T53BAD+T54BAD+T57BAD +T58BAD/Test/bad_dataset/DJI_0491.jpg')\n",
        "img_resize=image.resize((456,456))\n",
        "\n",
        "curr_bri=ImageEnhance.Brightness(img_resize)\n",
        "new_bri=1.6\n",
        "img_brightened=curr_bri.enhance(new_bri)\n",
        "plt.imshow(img_brightened)\n",
        "img = img_to_array(img_brightened)\n",
        "img = img.reshape(1,456,456,3)\n",
        "\n",
        "\n",
        "pred=my_model.predict(img)\n",
        "print(pred)\n"
      ],
      "metadata": {
        "id": "SLnUgLrVZsqk"
      },
      "execution_count": null,
      "outputs": []
    },
    {
      "cell_type": "markdown",
      "source": [
        "before image proceesing bad image predict good, after image proceesing bad image predict good. so this image proceesing method can not predict correctly."
      ],
      "metadata": {
        "id": "4fb09oWi0K7v"
      }
    },
    {
      "cell_type": "markdown",
      "source": [
        "image DJI_0493.jpg is not detected by efficientB1 model because brightness is poor, so we can apply resizing+brightness combination."
      ],
      "metadata": {
        "id": "fvCvIj8XZEjQ"
      }
    },
    {
      "cell_type": "code",
      "source": [
        "from PIL import ImageEnhance\n",
        "from PIL import Image\n",
        "from tensorflow.keras.preprocessing.image import load_img, img_to_array\n",
        "from tensorflow.keras.models import load_model\n",
        "image=Image.open('/content/gdrive/MyDrive/T51+T52BAD+T53BAD+T54BAD+T57BAD +T58BAD/Test/bad_dataset/DJI_0493.jpg')\n",
        "img_resize=image.resize((456,456))\n",
        "\n",
        "curr_bri=ImageEnhance.Brightness(img_resize)\n",
        "new_bri=1.6\n",
        "img_brightened=curr_bri.enhance(new_bri)\n",
        "plt.imshow(img_brightened)\n",
        "img = img_to_array(img_brightened)\n",
        "img = img.reshape(1,456,456,3)\n",
        "\n",
        "pred=my_model.predict(img)\n",
        "print(pred)\n"
      ],
      "metadata": {
        "id": "IrrumgsEZsud"
      },
      "execution_count": null,
      "outputs": []
    },
    {
      "cell_type": "markdown",
      "source": [
        "before image proceesing bad image predict good, after image proceesing bad image predict good. so this image proceesing method can not predict correctly."
      ],
      "metadata": {
        "id": "2VMjhdfh0M0x"
      }
    },
    {
      "cell_type": "markdown",
      "source": [
        "image DJI_0495.jpg is not detected by efficientB1 model because brightness is poor, so we can apply resizing+brightness combination."
      ],
      "metadata": {
        "id": "Nq9Y85nmZJdA"
      }
    },
    {
      "cell_type": "code",
      "source": [
        "from PIL import ImageEnhance\n",
        "from PIL import Image\n",
        "from tensorflow.keras.preprocessing.image import load_img, img_to_array\n",
        "from tensorflow.keras.models import load_model\n",
        "image=Image.open('/content/gdrive/MyDrive/T51+T52BAD+T53BAD+T54BAD+T57BAD +T58BAD/Test/bad_dataset/DJI_0495.jpg')\n",
        "img_resize=image.resize((456,456))\n",
        "\n",
        "curr_bri=ImageEnhance.Brightness(img_resize)\n",
        "new_bri=1.6\n",
        "img_brightened=curr_bri.enhance(new_bri)\n",
        "plt.imshow(img_brightened)\n",
        "img = img_to_array(img_brightened)\n",
        "img = img.reshape(1,456,456,3)\n",
        "\n",
        "\n",
        "pred=my_model.predict(img)\n",
        "print(pred)\n"
      ],
      "metadata": {
        "id": "3AMovC0NZsx7"
      },
      "execution_count": null,
      "outputs": []
    },
    {
      "cell_type": "markdown",
      "source": [
        "before image proceesing bad image predict good, after image proceesing bad image predict good. so this image proceesing method can not predict correctly."
      ],
      "metadata": {
        "id": "6kpZ9cEN0PPr"
      }
    },
    {
      "cell_type": "markdown",
      "source": [
        "image DJI_0497.jpg is not detected by efficientB1 model because brightness is poor, so we can apply resizing+brightness combination."
      ],
      "metadata": {
        "id": "r7JTbpEXZPim"
      }
    },
    {
      "cell_type": "code",
      "source": [
        "from PIL import ImageEnhance\n",
        "from PIL import Image\n",
        "from tensorflow.keras.preprocessing.image import load_img, img_to_array\n",
        "from tensorflow.keras.models import load_model\n",
        "image=Image.open('/content/gdrive/MyDrive/T51+T52BAD+T53BAD+T54BAD+T57BAD +T58BAD/Test/bad_dataset/DJI_0497.jpg')\n",
        "img_resize=image.resize((456,456))\n",
        "#plt.imshow(img_resize,cmap='gray')\n",
        "curr_bri=ImageEnhance.Brightness(img_resize)\n",
        "new_bri=1.6\n",
        "img_brightened=curr_bri.enhance(new_bri)\n",
        "plt.imshow(img_brightened)\n",
        "\n",
        "img = img_to_array(img_brightened)\n",
        "img = img.reshape(1,456,456,3)\n",
        "#print(img.shape)\n",
        "#display(img_brightened)\n",
        "pred=my_model.predict(img)\n",
        "print(pred)\n"
      ],
      "metadata": {
        "id": "MasLjd7fZs1v"
      },
      "execution_count": null,
      "outputs": []
    },
    {
      "cell_type": "markdown",
      "source": [
        "before image proceesing bad image predict good, after image proceesing bad image predict good. so this image proceesing method can not predict correctly."
      ],
      "metadata": {
        "id": "2LhioVTs0Rdl"
      }
    },
    {
      "cell_type": "markdown",
      "source": [
        "image DJI_0499.jpg is not detected by efficientB1 model because brightness is poor, so we can apply resizing+brightness combination."
      ],
      "metadata": {
        "id": "CouPZbLMZUXe"
      }
    },
    {
      "cell_type": "code",
      "source": [
        "from PIL import ImageEnhance\n",
        "from PIL import Image\n",
        "from tensorflow.keras.preprocessing.image import load_img, img_to_array\n",
        "from tensorflow.keras.models import load_model\n",
        "image=Image.open('/content/gdrive/MyDrive/T51+T52BAD+T53BAD+T54BAD+T57BAD +T58BAD/Test/bad_dataset/DJI_0499.jpg')\n",
        "img_resize=image.resize((456,456))\n",
        "#plt.imshow(img_resize,cmap='gray')\n",
        "curr_bri=ImageEnhance.Brightness(img_resize)\n",
        "new_bri=1.6\n",
        "img_brightened=curr_bri.enhance(new_bri)\n",
        "plt.imshow(img_brightened)\n",
        "img = img_to_array(img_brightened)\n",
        "img = img.reshape(1,456,456,3)\n",
        "#print(img.shape)\n",
        "#display(img_brightened)\n",
        "pred=my_model.predict(img)\n",
        "print(pred)\n"
      ],
      "metadata": {
        "id": "3DeSpqf2Zs5r"
      },
      "execution_count": null,
      "outputs": []
    },
    {
      "cell_type": "markdown",
      "source": [
        "before image proceesing bad image predict good, after image proceesing bad image predict good. so this image proceesing method can not predict correctly."
      ],
      "metadata": {
        "id": "KoAHOJ8F0TNP"
      }
    },
    {
      "cell_type": "markdown",
      "source": [
        "image DJI_0501.jpg is not detected by efficientB1 model because brightness is poor, so we can apply resizing+brightness combination."
      ],
      "metadata": {
        "id": "IhMa9P0IZY7i"
      }
    },
    {
      "cell_type": "code",
      "source": [
        "from PIL import ImageEnhance\n",
        "from PIL import Image\n",
        "from tensorflow.keras.preprocessing.image import load_img, img_to_array\n",
        "from tensorflow.keras.models import load_model\n",
        "image=Image.open('/content/gdrive/MyDrive/T51+T52BAD+T53BAD+T54BAD+T57BAD +T58BAD/Test/bad_dataset/DJI_0501.jpg')\n",
        "img_resize=image.resize((456,456))\n",
        "#plt.imshow(img_resize,cmap='gray')\n",
        "curr_bri=ImageEnhance.Brightness(img_resize)\n",
        "new_bri=1.6\n",
        "img_brightened=curr_bri.enhance(new_bri)\n",
        "plt.imshow(img_brightened)\n",
        "img = img_to_array(img_brightened)\n",
        "img = img.reshape(1,456,456,3)\n",
        "#print(img.shape)\n",
        "#display(img_brightened)\n",
        "pred=my_model.predict(img)\n",
        "print(pred)\n"
      ],
      "metadata": {
        "id": "tCHOG3NIZzsL"
      },
      "execution_count": null,
      "outputs": []
    },
    {
      "cell_type": "markdown",
      "source": [
        "before image proceesing bad image predict good, after image proceesing bad image predict good. so this image proceesing method can not predict correctly."
      ],
      "metadata": {
        "id": "pMPNedib0VEx"
      }
    },
    {
      "cell_type": "markdown",
      "source": [
        "image DJI_0503.jpg is not detected by efficientB1 model because brightness is poor, so we can apply resizing+brightness combination."
      ],
      "metadata": {
        "id": "A5NKZvxgZfg-"
      }
    },
    {
      "cell_type": "code",
      "source": [
        "from PIL import ImageEnhance\n",
        "from PIL import Image\n",
        "from tensorflow.keras.preprocessing.image import load_img, img_to_array\n",
        "from tensorflow.keras.models import load_model\n",
        "image=Image.open('/content/gdrive/MyDrive/T51+T52BAD+T53BAD+T54BAD+T57BAD +T58BAD/Test/bad_dataset/DJI_0503.jpg')\n",
        "img_resize=image.resize((456,456))\n",
        "#plt.imshow(img_resize,cmap='gray')\n",
        "curr_bri=ImageEnhance.Brightness(img_resize)\n",
        "new_bri=1.6\n",
        "img_brightened=curr_bri.enhance(new_bri)\n",
        "plt.imshow(img_brightened)\n",
        "img = img_to_array(img_brightened)\n",
        "img = img.reshape(1,456,456,3)\n",
        "#print(img.shape)\n",
        "#display(img_brightened)\n",
        "pred=my_model.predict(img)\n",
        "print(pred)\n"
      ],
      "metadata": {
        "id": "3bLPqoNwZz2r"
      },
      "execution_count": null,
      "outputs": []
    },
    {
      "cell_type": "markdown",
      "source": [
        "before image proceesing bad image predict good, after image proceesing bad image predict good. so this image proceesing method can not predict correctly."
      ],
      "metadata": {
        "id": "KZNgEICV0XgQ"
      }
    },
    {
      "cell_type": "markdown",
      "source": [
        "image DJI_0505.jpg is not detected by efficientB1 model because brightness is poor, so we can apply resizing+brightness combination."
      ],
      "metadata": {
        "id": "0KCA03sHZklP"
      }
    },
    {
      "cell_type": "code",
      "source": [
        "from PIL import ImageEnhance\n",
        "from PIL import Image\n",
        "from tensorflow.keras.preprocessing.image import load_img, img_to_array\n",
        "from tensorflow.keras.models import load_model\n",
        "image=Image.open('/content/gdrive/MyDrive/T51+T52BAD+T53BAD+T54BAD+T57BAD +T58BAD/Test/bad_dataset/DJI_0505.jpg')\n",
        "img_resize=image.resize((456,456))\n",
        "#plt.imshow(img_resize,cmap='gray')\n",
        "curr_bri=ImageEnhance.Brightness(img_resize)\n",
        "new_bri=1.6\n",
        "img_brightened=curr_bri.enhance(new_bri)\n",
        "img = img_to_array(img_brightened)\n",
        "plt.imshow(img_brightened)\n",
        "img = img.reshape(1,456,456,3)\n",
        "#print(img.shape)\n",
        "#display(img_brightened)\n",
        "pred=my_model.predict(img)\n",
        "print(pred)\n"
      ],
      "metadata": {
        "id": "m8ZgZ-nFZz6j"
      },
      "execution_count": null,
      "outputs": []
    },
    {
      "cell_type": "markdown",
      "source": [
        "before image proceesing bad image predict good, after image proceesing bad image predict good. so this image proceesing method can not predict correctly."
      ],
      "metadata": {
        "id": "IdllwL3P0Zh4"
      }
    },
    {
      "cell_type": "markdown",
      "source": [
        "image DJI_0507.jpg is not detected by efficientB1 model because brightness is poor, so we can apply resizing+brightness combination."
      ],
      "metadata": {
        "id": "yjgDpUstZpI_"
      }
    },
    {
      "cell_type": "code",
      "source": [
        "from PIL import ImageEnhance\n",
        "from PIL import Image\n",
        "from tensorflow.keras.preprocessing.image import load_img, img_to_array\n",
        "from tensorflow.keras.models import load_model\n",
        "image=Image.open('/content/gdrive/MyDrive/T51+T52BAD+T53BAD+T54BAD+T57BAD +T58BAD/Test/bad_dataset/DJI_0507.jpg')\n",
        "img_resize=image.resize((456,456))\n",
        "#plt.imshow(img_resize,cmap='gray')\n",
        "curr_bri=ImageEnhance.Brightness(img_resize)\n",
        "new_bri=1.6\n",
        "img_brightened=curr_bri.enhance(new_bri)\n",
        "plt.imshow(img_brightened)\n",
        "img = img_to_array(img_brightened)\n",
        "img = img.reshape(1,456,456,3)\n",
        "#print(img.shape)\n",
        "#display(img_brightened)\n",
        "pred=my_model.predict(img)\n",
        "print(pred)\n"
      ],
      "metadata": {
        "id": "D2mwMzN7Zz-z"
      },
      "execution_count": null,
      "outputs": []
    },
    {
      "cell_type": "markdown",
      "source": [
        "before image proceesing bad image predict good, after image proceesing bad image predict good. so this image proceesing method can not predict correctly."
      ],
      "metadata": {
        "id": "vA29AGfv0bwL"
      }
    },
    {
      "cell_type": "markdown",
      "source": [
        "image DJI_0509.jpg is not detected by efficientB1 model because brightness is poor, so we can apply resizing+brightness combination."
      ],
      "metadata": {
        "id": "l58_iD-sZs90"
      }
    },
    {
      "cell_type": "code",
      "source": [
        "from PIL import ImageEnhance\n",
        "from PIL import Image\n",
        "from tensorflow.keras.preprocessing.image import load_img, img_to_array\n",
        "from tensorflow.keras.models import load_model\n",
        "image=Image.open('/content/gdrive/MyDrive/T51+T52BAD+T53BAD+T54BAD+T57BAD +T58BAD/Test/bad_dataset/DJI_0509.jpg')\n",
        "img_resize=image.resize((456,456))\n",
        "#plt.imshow(img_resize,cmap='gray')\n",
        "curr_bri=ImageEnhance.Brightness(img_resize)\n",
        "new_bri=1.6\n",
        "img_brightened=curr_bri.enhance(new_bri)\n",
        "plt.imshow(img_brightened)\n",
        "img = img_to_array(img_brightened)\n",
        "img = img.reshape(1,456,456,3)\n",
        "#print(img.shape)\n",
        "#display(img_brightened)\n",
        "pred=my_model.predict(img)\n",
        "print(pred)\n"
      ],
      "metadata": {
        "id": "FeCvyFWyZ0C5"
      },
      "execution_count": null,
      "outputs": []
    },
    {
      "cell_type": "markdown",
      "source": [
        "before image proceesing bad image predict good, after image proceesing bad image predict good. so this image proceesing method can not predict correctly."
      ],
      "metadata": {
        "id": "l4HBQkh_0d7F"
      }
    },
    {
      "cell_type": "markdown",
      "source": [
        "image DJI_0608.jpg is not detected by efficientB1 model because brightness is poor, so we can apply resizing+brightness combination."
      ],
      "metadata": {
        "id": "UTBX68MAZxn_"
      }
    },
    {
      "cell_type": "code",
      "source": [
        "from PIL import ImageEnhance\n",
        "from PIL import Image\n",
        "from tensorflow.keras.preprocessing.image import load_img, img_to_array\n",
        "from tensorflow.keras.models import load_model\n",
        "image=Image.open('/content/gdrive/MyDrive/T51+T52BAD+T53BAD+T54BAD+T57BAD +T58BAD/Test/bad_dataset/DJI_0608.jpg')\n",
        "img_resize=image.resize((456,456))\n",
        "#plt.imshow(img_resize,cmap='gray')\n",
        "curr_bri=ImageEnhance.Brightness(img_resize)\n",
        "new_bri=1.6\n",
        "img_brightened=curr_bri.enhance(new_bri)\n",
        "plt.imshow(img_brightened)\n",
        "img = img_to_array(img_brightened)\n",
        "img = img.reshape(1,456,456,3)\n",
        "#print(img.shape)\n",
        "#display(img_brightened)\n",
        "pred=my_model.predict(img)\n",
        "print(pred)\n"
      ],
      "metadata": {
        "id": "Nc9gKU4pZ0Gj"
      },
      "execution_count": null,
      "outputs": []
    },
    {
      "cell_type": "markdown",
      "source": [
        "before image proceesing bad image predict good, after image proceesing bad image predict good. so this image proceesing method can not predict correctly."
      ],
      "metadata": {
        "id": "JMkQxxJS0f-o"
      }
    },
    {
      "cell_type": "markdown",
      "source": [
        "image DJI_0610.jpg is not detected by efficientB1 model because brightness is poor, so we can apply resizing+brightness combination."
      ],
      "metadata": {
        "id": "ROVcsuuaZ1_l"
      }
    },
    {
      "cell_type": "code",
      "source": [
        "from PIL import ImageEnhance\n",
        "from PIL import Image\n",
        "from tensorflow.keras.preprocessing.image import load_img, img_to_array\n",
        "from tensorflow.keras.models import load_model\n",
        "image=Image.open('/content/gdrive/MyDrive/T51+T52BAD+T53BAD+T54BAD+T57BAD +T58BAD/Test/bad_dataset/DJI_0610.jpg')\n",
        "img_resize=image.resize((456,456))\n",
        "#plt.imshow(img_resize,cmap='gray')\n",
        "curr_bri=ImageEnhance.Brightness(img_resize)\n",
        "new_bri=1.6\n",
        "img_brightened=curr_bri.enhance(new_bri)\n",
        "plt.imshow(img_brightened)\n",
        "img = img_to_array(img_brightened)\n",
        "img = img.reshape(1,456,456,3)\n",
        "#print(img.shape)\n",
        "#display(img_brightened)\n",
        "pred=my_model.predict(img)\n",
        "print(pred)\n"
      ],
      "metadata": {
        "id": "C7E31d-ZZ5ul"
      },
      "execution_count": null,
      "outputs": []
    },
    {
      "cell_type": "markdown",
      "source": [
        "before image proceesing bad image predict good, after image proceesing bad image predict good. so this image proceesing method can not predict correctly."
      ],
      "metadata": {
        "id": "Ljm-07V20h10"
      }
    },
    {
      "cell_type": "markdown",
      "source": [
        "image DJI_0976.jpg is not detected by efficientB1 model because brightness is poor, so we can apply resizing+brightness combination.\n",
        "\n"
      ],
      "metadata": {
        "id": "hGYiCVW7XL2x"
      }
    },
    {
      "cell_type": "code",
      "source": [
        "from PIL import ImageEnhance\n",
        "from PIL import Image\n",
        "from tensorflow.keras.preprocessing.image import load_img, img_to_array\n",
        "from tensorflow.keras.models import load_model\n",
        "image=Image.open('/content/gdrive/MyDrive/T51+T52BAD+T53BAD+T54BAD+T57BAD +T58BAD/Test/bad_dataset/DJI_0976.jpg')\n",
        "img_resize=image.resize((456,456))\n",
        "#plt.imshow(img_resize,cmap='gray')\n",
        "curr_bri=ImageEnhance.Brightness(img_resize)\n",
        "new_bri=1.6\n",
        "img_brightened=curr_bri.enhance(new_bri)\n",
        "plt.imshow(img_brightened)\n",
        "img = img_to_array(img_brightened)\n",
        "img = img.reshape(1,456,456,3)\n",
        "#print(img.shape)\n",
        "#display(img_brightened)\n",
        "pred=my_model.predict(img)\n",
        "print(pred)\n"
      ],
      "metadata": {
        "id": "1-yQuFdiXXmB"
      },
      "execution_count": null,
      "outputs": []
    },
    {
      "cell_type": "markdown",
      "source": [
        "before image proceesing bad image predict good, after image proceesing bad image predict good. so this image proceesing method can not predict correctly."
      ],
      "metadata": {
        "id": "mduxT61Z0kJl"
      }
    },
    {
      "cell_type": "markdown",
      "source": [
        "image DJI_0978.jpg is not detected by efficientB1 model because brightness is poor, so we can apply resizing+brightness combination.\n",
        "\n"
      ],
      "metadata": {
        "id": "fqNZQ4FrXhz_"
      }
    },
    {
      "cell_type": "code",
      "source": [
        "from PIL import ImageEnhance\n",
        "from PIL import Image\n",
        "from tensorflow.keras.preprocessing.image import load_img, img_to_array\n",
        "from tensorflow.keras.models import load_model\n",
        "image=Image.open('/content/gdrive/MyDrive/T51+T52BAD+T53BAD+T54BAD+T57BAD +T58BAD/Test/bad_dataset/DJI_0978.jpg')\n",
        "img_resize=image.resize((456,456))\n",
        "#plt.imshow(img_resize,cmap='gray')\n",
        "curr_bri=ImageEnhance.Brightness(img_resize)\n",
        "new_bri=1.6\n",
        "img_brightened=curr_bri.enhance(new_bri)\n",
        "plt.imshow(img_brightened)\n",
        "img = img_to_array(img_brightened)\n",
        "img = img.reshape(1,456,456,3)\n",
        "#print(img.shape)\n",
        "#display(img_brightened)\n",
        "pred=my_model.predict(img)\n",
        "print(pred)\n"
      ],
      "metadata": {
        "id": "nukIHWioXXzN"
      },
      "execution_count": null,
      "outputs": []
    },
    {
      "cell_type": "markdown",
      "source": [
        "before image proceesing bad image predict good, after image proceesing bad image predict good. so this image proceesing method can not predict correctly."
      ],
      "metadata": {
        "id": "w4QlcgLe0mTY"
      }
    },
    {
      "cell_type": "markdown",
      "source": [
        "image DJI_0980.jpg is not detected by efficientB1 model because brightness is poor, so we can apply resizing+brightness combination.\n",
        "\n"
      ],
      "metadata": {
        "id": "WLfPSefmXu2r"
      }
    },
    {
      "cell_type": "code",
      "source": [
        "from PIL import ImageEnhance\n",
        "from PIL import Image\n",
        "from tensorflow.keras.preprocessing.image import load_img, img_to_array\n",
        "from tensorflow.keras.models import load_model\n",
        "image=Image.open('/content/gdrive/MyDrive/T51+T52BAD+T53BAD+T54BAD+T57BAD +T58BAD/Test/bad_dataset/DJI_0980.jpg')\n",
        "img_resize=image.resize((456,456))\n",
        "#plt.imshow(img_resize,cmap='gray')\n",
        "curr_bri=ImageEnhance.Brightness(img_resize)\n",
        "new_bri=1.6\n",
        "img_brightened=curr_bri.enhance(new_bri)\n",
        "plt.imshow(img_brightened)\n",
        "img = img_to_array(img_brightened)\n",
        "img = img.reshape(1,456,456,3)\n",
        "#print(img.shape)\n",
        "#display(img_brightened)\n",
        "pred=my_model.predict(img)\n",
        "print(pred)\n"
      ],
      "metadata": {
        "id": "0M0MeKHTXX-a"
      },
      "execution_count": null,
      "outputs": []
    },
    {
      "cell_type": "markdown",
      "source": [
        "before image proceesing bad image predict good, after image proceesing bad image predict good. so this image proceesing method can not predict correctly."
      ],
      "metadata": {
        "id": "petWef0h0okR"
      }
    },
    {
      "cell_type": "markdown",
      "source": [
        "image DJI_0982.jpg is not detected by efficientB1 model because brightness is poor, so we can apply resizing+brightness combination.\n",
        "\n"
      ],
      "metadata": {
        "id": "ix2T7i4RX2Eo"
      }
    },
    {
      "cell_type": "code",
      "source": [
        "from PIL import ImageEnhance\n",
        "from PIL import Image\n",
        "from tensorflow.keras.preprocessing.image import load_img, img_to_array\n",
        "from tensorflow.keras.models import load_model\n",
        "image=Image.open('/content/gdrive/MyDrive/T51+T52BAD+T53BAD+T54BAD+T57BAD +T58BAD/Test/bad_dataset/DJI_0982.jpg')\n",
        "img_resize=image.resize((456,456))\n",
        "#plt.imshow(img_resize,cmap='gray')\n",
        "curr_bri=ImageEnhance.Brightness(img_resize)\n",
        "new_bri=1.6\n",
        "img_brightened=curr_bri.enhance(new_bri)\n",
        "plt.imshow(img_brightened)\n",
        "img = img_to_array(img_brightened)\n",
        "img = img.reshape(1,456,456,3)\n",
        "#print(img.shape)\n",
        "#display(img_brightened)\n",
        "pred=my_model.predict(img)\n",
        "print(pred)\n"
      ],
      "metadata": {
        "id": "7sK64QUsXYHj"
      },
      "execution_count": null,
      "outputs": []
    },
    {
      "cell_type": "markdown",
      "source": [
        "before image proceesing bad image predict good, after image proceesing bad image predict good. so this image proceesing method can not predict correctly."
      ],
      "metadata": {
        "id": "XxHS9Ngr0q8d"
      }
    },
    {
      "cell_type": "markdown",
      "source": [
        "image DJI_0984.jpg is not detected by efficientB1 model because brightness is poor, so we can apply resizing+brightness combination.\n",
        "\n"
      ],
      "metadata": {
        "id": "1ovYURFtX8FZ"
      }
    },
    {
      "cell_type": "code",
      "source": [
        "from PIL import ImageEnhance\n",
        "from PIL import Image\n",
        "from tensorflow.keras.preprocessing.image import load_img, img_to_array\n",
        "from tensorflow.keras.models import load_model\n",
        "image=Image.open('/content/gdrive/MyDrive/T51+T52BAD+T53BAD+T54BAD+T57BAD +T58BAD/Test/bad_dataset/DJI_0984.jpg')\n",
        "img_resize=image.resize((456,456))\n",
        "#plt.imshow(img_resize,cmap='gray')\n",
        "curr_bri=ImageEnhance.Brightness(img_resize)\n",
        "new_bri=1.6\n",
        "img_brightened=curr_bri.enhance(new_bri)\n",
        "plt.imshow(img_brightened)\n",
        "img = img_to_array(img_brightened)\n",
        "img = img.reshape(1,456,456,3)\n",
        "#print(img.shape)\n",
        "#display(img_brightened)\n",
        "pred=my_model.predict(img)\n",
        "print(pred)\n"
      ],
      "metadata": {
        "id": "-WZcUoa1XYQ8"
      },
      "execution_count": null,
      "outputs": []
    },
    {
      "cell_type": "markdown",
      "source": [
        "before image proceesing bad image predict good, after image proceesing bad image predict good. so this image proceesing method can not predict correctly."
      ],
      "metadata": {
        "id": "tAUVg6GZ0tms"
      }
    },
    {
      "cell_type": "markdown",
      "source": [
        "image DJI_0986.jpg is not detected by efficientB1 model because brightness is poor, so we can apply resizing+brightness combination.\n",
        "\n"
      ],
      "metadata": {
        "id": "N-Bw4OAiYDoZ"
      }
    },
    {
      "cell_type": "code",
      "source": [
        "from PIL import ImageEnhance\n",
        "from PIL import Image\n",
        "from tensorflow.keras.preprocessing.image import load_img, img_to_array\n",
        "from tensorflow.keras.models import load_model\n",
        "image=Image.open('/content/gdrive/MyDrive/T51+T52BAD+T53BAD+T54BAD+T57BAD +T58BAD/Test/bad_dataset/DJI_0986.jpg')\n",
        "img_resize=image.resize((456,456))\n",
        "#plt.imshow(img_resize,cmap='gray')\n",
        "curr_bri=ImageEnhance.Brightness(img_resize)\n",
        "new_bri=1.6\n",
        "img_brightened=curr_bri.enhance(new_bri)\n",
        "plt.imshow(img_brightened)\n",
        "img = img_to_array(img_brightened)\n",
        "img = img.reshape(1,456,456,3)\n",
        "#print(img.shape)\n",
        "#display(img_brightened)\n",
        "pred=my_model.predict(img)\n",
        "print(pred)\n"
      ],
      "metadata": {
        "id": "wxnTGXswXYan"
      },
      "execution_count": null,
      "outputs": []
    },
    {
      "cell_type": "markdown",
      "source": [
        "\n",
        "before image proceesing bad image predict good, after image proceesing bad image predict good. so this image proceesing method can not predict correctly.\n"
      ],
      "metadata": {
        "id": "A3Thhza40viN"
      }
    },
    {
      "cell_type": "code",
      "source": [
        "from sklearn.metrics import classification_report,confusion_matrix\n",
        "truth=['bad','bad','bad','bad','bad','bad','bad','bad','bad','bad','bad','bad','bad','bad','bad','bad','bad','bad','bad','bad','bad','bad','good','good','good','good','good','good','good','good','good','good','good','good','good','good','good','good','good','good','good','good','good','good','good','good','good','good','good','good','good','good','good','good','good','good','good','good','good','good','good','good','good','good','good','good','good','good','good','good','good','good','good','good','good','good','good','good','good','good','good','good','good','good','good','good']\n",
        "prediction=['good','good','good','good','good','good','good','good','good','good','good','good','good','good','good','good','good','good','good','good','good','good','good','good','good','good','good','good','good','good','good','good','good','good','good','good','good','good','good','good','good','good','good','good','good','good','good','good','good','good','good','good','good','good','good','good','good','good','good','good','good','good','good','good','good','good','good','good','good','good','good','good','good','good','good','good','good','good','good','good','good','good','good','good','good','good']\n",
        "print(classification_report(truth,prediction))\n",
        "print(confusion_matrix(truth,prediction))"
      ],
      "metadata": {
        "id": "UppuosD_ukCm"
      },
      "execution_count": null,
      "outputs": []
    },
    {
      "cell_type": "markdown",
      "source": [
        "Image DJI_0066.jpg is not detected by efficientnetB1 because contrast is poor ,so we apply resizing+contrast to the image\n"
      ],
      "metadata": {
        "id": "Kq7xr08o0TuX"
      }
    },
    {
      "cell_type": "code",
      "source": [
        "from PIL import ImageEnhance\n",
        "from PIL import Image\n",
        "from tensorflow.keras.preprocessing.image import load_img, img_to_array\n",
        "from tensorflow.keras.models import load_model\n",
        "image=Image.open('/content/gdrive/MyDrive/T51+T52BAD+T53BAD+T54BAD+T57BAD +T58BAD/Test/bad_dataset/DJI_0066.jpg')\n",
        "img_resize=image.resize((240,240))\n",
        "#plt.imshow(img_resize,cmap='gray')\n",
        "curr_con=ImageEnhance.Contrast(img_resize)\n",
        "new_con=1.6\n",
        "img_contrast=curr_con.enhance(new_con)\n",
        "plt.imshow(img_contrast)\n",
        "img = img_to_array(img_contrast)\n",
        "img = img.reshape(1,240,240,3)\n",
        "#print(img.shape)\n",
        "#display(img_brightened)\n",
        "pred=my_model.predict(img)\n",
        "print(pred)\n"
      ],
      "metadata": {
        "id": "yZvb18iJZccv"
      },
      "execution_count": null,
      "outputs": []
    },
    {
      "cell_type": "markdown",
      "source": [
        "before image proceesing bad image predict good, after image proceesing bad image predict good. so this image proceesing method can not predict correctly."
      ],
      "metadata": {
        "id": "U4l4JocR06eH"
      }
    },
    {
      "cell_type": "markdown",
      "source": [
        "Image DJI_0108.jpg is not detected by efficientnetB1 because contrast is poor ,so we apply resizing+contrast to the image"
      ],
      "metadata": {
        "id": "zEoApOoDZA1m"
      }
    },
    {
      "cell_type": "code",
      "source": [
        "from PIL import ImageEnhance\n",
        "from PIL import Image\n",
        "from tensorflow.keras.preprocessing.image import load_img, img_to_array\n",
        "from tensorflow.keras.models import load_model\n",
        "image=Image.open('/content/gdrive/MyDrive/T51+T52BAD+T53BAD+T54BAD+T57BAD +T58BAD/Test/bad_dataset/DJI_0108.jpg')\n",
        "img_resize=image.resize((240,240))\n",
        "#plt.imshow(img_resize,cmap='gray')\n",
        "curr_con=ImageEnhance.Contrast(img_resize)\n",
        "new_con=1.6\n",
        "img_contrast=curr_con.enhance(new_con)\n",
        "plt.imshow(img_contrast)\n",
        "img = img_to_array(img_contrast)\n",
        "img = img.reshape(1,240,240,3)\n",
        "#print(img.shape)\n",
        "#display(img_brightened)\n",
        "pred=my_model.predict(img)\n",
        "print(pred)\n"
      ],
      "metadata": {
        "id": "N1jg3SdiZg3j"
      },
      "execution_count": null,
      "outputs": []
    },
    {
      "cell_type": "markdown",
      "source": [
        "before image proceesing bad image predict good, after image proceesing bad image predict good. so this image proceesing method can not predict correctly."
      ],
      "metadata": {
        "id": "uUrzqzeF08Nz"
      }
    },
    {
      "cell_type": "markdown",
      "source": [
        "Image DJI_0110.jpg is not detected by efficientnetB1 because contrast is poor ,so we apply resizing+contrast to the image"
      ],
      "metadata": {
        "id": "TiNB8tceZA75"
      }
    },
    {
      "cell_type": "code",
      "source": [
        "from PIL import ImageEnhance\n",
        "from PIL import Image\n",
        "from tensorflow.keras.preprocessing.image import load_img, img_to_array\n",
        "from tensorflow.keras.models import load_model\n",
        "image=Image.open('/content/gdrive/MyDrive/T51+T52BAD+T53BAD+T54BAD+T57BAD +T58BAD/Test/bad_dataset/DJI_0110.jpg')\n",
        "img_resize=image.resize((240,240))\n",
        "#plt.imshow(img_resize,cmap='gray')\n",
        "curr_con=ImageEnhance.Contrast(img_resize)\n",
        "new_con=1.6\n",
        "img_contrast=curr_con.enhance(new_con)\n",
        "plt.imshow(img_contrast)\n",
        "img = img_to_array(img_contrast)\n",
        "img = img.reshape(1,240,240,3)\n",
        "#print(img.shape)\n",
        "#display(img_brightened)\n",
        "pred=my_model.predict(img)\n",
        "print(pred)\n"
      ],
      "metadata": {
        "id": "g26EYOcuZq_2"
      },
      "execution_count": null,
      "outputs": []
    },
    {
      "cell_type": "markdown",
      "source": [
        "before image proceesing bad image predict good, after image proceesing bad image predict good. so this image proceesing method can not predict correctly."
      ],
      "metadata": {
        "id": "fk92ouNe0_DX"
      }
    },
    {
      "cell_type": "markdown",
      "source": [
        "Image DJI_0489.jpg is not detected by efficientnetB1 because contrast is poor ,so we apply resizing+contrast to the image"
      ],
      "metadata": {
        "id": "CVtvISAEZBGi"
      }
    },
    {
      "cell_type": "code",
      "source": [
        "from PIL import ImageEnhance\n",
        "from PIL import Image\n",
        "from tensorflow.keras.preprocessing.image import load_img, img_to_array\n",
        "from tensorflow.keras.models import load_model\n",
        "image=Image.open('/content/gdrive/MyDrive/T51+T52BAD+T53BAD+T54BAD+T57BAD +T58BAD/Test/bad_dataset/DJI_0489.jpg')\n",
        "img_resize=image.resize((240,240))\n",
        "#plt.imshow(img_resize,cmap='gray')\n",
        "curr_con=ImageEnhance.Contrast(img_resize)\n",
        "new_con=1.6\n",
        "img_contrast=curr_con.enhance(new_con)\n",
        "plt.imshow(img_contrast)\n",
        "img = img_to_array(img_contrast)\n",
        "img = img.reshape(1,240,240,3)\n",
        "#print(img.shape)\n",
        "#display(img_brightened)\n",
        "pred=my_model.predict(img)\n",
        "print(pred)\n"
      ],
      "metadata": {
        "id": "SP0M-qNj0eaF"
      },
      "execution_count": null,
      "outputs": []
    },
    {
      "cell_type": "markdown",
      "source": [
        "before image proceesing bad image predict good, after image proceesing bad image predict good. so this image proceesing method can not predict correctly."
      ],
      "metadata": {
        "id": "6tHcIVJx1CsF"
      }
    },
    {
      "cell_type": "markdown",
      "source": [
        "Image DJI_0491.jpg is not detected by efficientnetB1 because contrast is poor ,so we apply resizing+contrast to the image"
      ],
      "metadata": {
        "id": "jbllbEXGajIe"
      }
    },
    {
      "cell_type": "code",
      "source": [
        "from PIL import ImageEnhance\n",
        "from PIL import Image\n",
        "from tensorflow.keras.preprocessing.image import load_img, img_to_array\n",
        "from tensorflow.keras.models import load_model\n",
        "image=Image.open('/content/gdrive/MyDrive/T51+T52BAD+T53BAD+T54BAD+T57BAD +T58BAD/Test/bad_dataset/DJI_0491.jpg')\n",
        "img_resize=image.resize((240,240))\n",
        "#plt.imshow(img_resize,cmap='gray')\n",
        "curr_con=ImageEnhance.Contrast(img_resize)\n",
        "new_con=1.6\n",
        "img_contrast=curr_con.enhance(new_con)\n",
        "plt.imshow(img_contrast)\n",
        "img = img_to_array(img_contrast)\n",
        "img = img.reshape(1,240,240,3)\n",
        "#print(img.shape)\n",
        "#display(img_brightened)\n",
        "pred=my_model.predict(img)\n",
        "print(pred)\n"
      ],
      "metadata": {
        "id": "qDKWHmWX070B"
      },
      "execution_count": null,
      "outputs": []
    },
    {
      "cell_type": "markdown",
      "source": [
        "before image proceesing bad image predict good, after image proceesing bad image predict good. so this image proceesing method can not predict correctly."
      ],
      "metadata": {
        "id": "OWwV2gMm1Fgd"
      }
    },
    {
      "cell_type": "markdown",
      "source": [
        "Image DJI_0493.jpg is not detected by efficientnetB1 because contrast is poor ,so we apply resizing+contrast to the image"
      ],
      "metadata": {
        "id": "rkDZx2X7anmC"
      }
    },
    {
      "cell_type": "code",
      "source": [
        "from PIL import ImageEnhance\n",
        "from PIL import Image\n",
        "from tensorflow.keras.preprocessing.image import load_img, img_to_array\n",
        "from tensorflow.keras.models import load_model\n",
        "image=Image.open('/content/gdrive/MyDrive/T51+T52BAD+T53BAD+T54BAD+T57BAD +T58BAD/Test/bad_dataset/DJI_0493.jpg')\n",
        "img_resize=image.resize((240,240))\n",
        "#plt.imshow(img_resize,cmap='gray')\n",
        "curr_con=ImageEnhance.Contrast(img_resize)\n",
        "new_con=1.6\n",
        "img_contrast=curr_con.enhance(new_con)\n",
        "plt.imshow(img_contrast)\n",
        "img = img_to_array(img_contrast)\n",
        "img = img.reshape(1,240,240,3)\n",
        "#print(img.shape)\n",
        "#display(img_brightened)\n",
        "pred=my_model.predict(img)\n",
        "print(pred)\n"
      ],
      "metadata": {
        "id": "v6loOE_Y09tP"
      },
      "execution_count": null,
      "outputs": []
    },
    {
      "cell_type": "markdown",
      "source": [
        "before image proceesing bad image predict good, after image proceesing bad image predict good. so this image proceesing method can not predict correctly."
      ],
      "metadata": {
        "id": "GFOlj4gq1HpV"
      }
    },
    {
      "cell_type": "markdown",
      "source": [
        "Image DJI_0495.jpg is not detected by efficientnetB1 because contrast is poor ,so we apply resizing+contrast to the image"
      ],
      "metadata": {
        "id": "nXExq_jXar46"
      }
    },
    {
      "cell_type": "code",
      "source": [
        "from PIL import ImageEnhance\n",
        "from PIL import Image\n",
        "from tensorflow.keras.preprocessing.image import load_img, img_to_array\n",
        "from tensorflow.keras.models import load_model\n",
        "image=Image.open('/content/gdrive/MyDrive/T51+T52BAD+T53BAD+T54BAD+T57BAD +T58BAD/Test/bad_dataset/DJI_0495.jpg')\n",
        "img_resize=image.resize((240,240))\n",
        "#plt.imshow(img_resize,cmap='gray')\n",
        "curr_con=ImageEnhance.Contrast(img_resize)\n",
        "new_con=1.6\n",
        "img_contrast=curr_con.enhance(new_con)\n",
        "plt.imshow(img_contrast)\n",
        "img = img_to_array(img_contrast)\n",
        "img = img.reshape(1,240,240,3)\n",
        "#print(img.shape)\n",
        "#display(img_brightened)\n",
        "pred=my_model.predict(img)\n",
        "print(pred)\n"
      ],
      "metadata": {
        "id": "4MohTvYo0968"
      },
      "execution_count": null,
      "outputs": []
    },
    {
      "cell_type": "markdown",
      "source": [
        "before image proceesing bad image predict good, after image proceesing bad image predict good. so this image proceesing method can not predict correctly."
      ],
      "metadata": {
        "id": "TDvKSZ5t1Kxi"
      }
    },
    {
      "cell_type": "markdown",
      "source": [
        "Image DJI_0497.jpg is not detected by efficientnetB1 because contrast is poor ,so we apply resizing+contrast to the image"
      ],
      "metadata": {
        "id": "SFzgnhmHa3MP"
      }
    },
    {
      "cell_type": "code",
      "source": [
        "from PIL import ImageEnhance\n",
        "from PIL import Image\n",
        "from tensorflow.keras.preprocessing.image import load_img, img_to_array\n",
        "from tensorflow.keras.models import load_model\n",
        "image=Image.open('/content/gdrive/MyDrive/T51+T52BAD+T53BAD+T54BAD+T57BAD +T58BAD/Test/bad_dataset/DJI_0497.jpg')\n",
        "img_resize=image.resize((240,240))\n",
        "#plt.imshow(img_resize,cmap='gray')\n",
        "curr_con=ImageEnhance.Contrast(img_resize)\n",
        "new_con=1.6\n",
        "img_contrast=curr_con.enhance(new_con)\n",
        "plt.imshow(img_contrast)\n",
        "img = img_to_array(img_contrast)\n",
        "img = img.reshape(1,240,240,3)\n",
        "#print(img.shape)\n",
        "#display(img_brightened)\n",
        "pred=my_model.predict(img)\n",
        "print(pred)\n"
      ],
      "metadata": {
        "id": "xoVWVLxA0-Hf"
      },
      "execution_count": null,
      "outputs": []
    },
    {
      "cell_type": "markdown",
      "source": [
        "before image proceesing bad image predict good, after image proceesing bad image predict good. so this image proceesing method can not predict correctly."
      ],
      "metadata": {
        "id": "eefeBPaS1NXC"
      }
    },
    {
      "cell_type": "markdown",
      "source": [
        "Image DJI_0499.jpg is not detected by efficientnetB1 because contrast is poor ,so we apply resizing+contrast to the image."
      ],
      "metadata": {
        "id": "YZOX4NLyaEoq"
      }
    },
    {
      "cell_type": "code",
      "source": [
        "from PIL import ImageEnhance\n",
        "from PIL import Image\n",
        "from tensorflow.keras.preprocessing.image import load_img, img_to_array\n",
        "from tensorflow.keras.models import load_model\n",
        "image=Image.open('/content/gdrive/MyDrive/T51+T52BAD+T53BAD+T54BAD+T57BAD +T58BAD/Test/bad_dataset/DJI_0499.jpg')\n",
        "img_resize=image.resize((240,240))\n",
        "#plt.imshow(img_resize,cmap='gray')\n",
        "curr_con=ImageEnhance.Contrast(img_resize)\n",
        "new_con=1.6\n",
        "img_contrast=curr_con.enhance(new_con)\n",
        "plt.imshow(img_contrast)\n",
        "img = img_to_array(img_contrast)\n",
        "img = img.reshape(1,240,240,3)\n",
        "#print(img.shape)\n",
        "#display(img_brightened)\n",
        "pred=my_model.predict(img)\n",
        "print(pred)\n"
      ],
      "metadata": {
        "id": "UmbgRidEaAij"
      },
      "execution_count": null,
      "outputs": []
    },
    {
      "cell_type": "markdown",
      "source": [
        "before image proceesing bad image predict good, after image proceesing bad image predict good. so this image proceesing method can not predict correctly."
      ],
      "metadata": {
        "id": "Bfhr7cBC1P1O"
      }
    },
    {
      "cell_type": "markdown",
      "source": [
        "Image DJI_0501.jpg is not detected by efficientnetB1 because contrast is poor ,so we apply resizing+contrast to the image"
      ],
      "metadata": {
        "id": "uPR09Pooa8WH"
      }
    },
    {
      "cell_type": "code",
      "source": [
        "from PIL import ImageEnhance\n",
        "from PIL import Image\n",
        "from tensorflow.keras.preprocessing.image import load_img, img_to_array\n",
        "from tensorflow.keras.models import load_model\n",
        "image=Image.open('/content/gdrive/MyDrive/T51+T52BAD+T53BAD+T54BAD+T57BAD +T58BAD/Test/bad_dataset/DJI_0501.jpg')\n",
        "img_resize=image.resize((240,240))\n",
        "#plt.imshow(img_resize,cmap='gray')\n",
        "curr_con=ImageEnhance.Contrast(img_resize)\n",
        "new_con=1.6\n",
        "img_contrast=curr_con.enhance(new_con)\n",
        "plt.imshow(img_contrast)\n",
        "img = img_to_array(img_contrast)\n",
        "img = img.reshape(1,240,240,3)\n",
        "#print(img.shape)\n",
        "#display(img_brightened)\n",
        "pred=my_model.predict(img)\n",
        "print(pred)\n"
      ],
      "metadata": {
        "id": "xSfTMAMl0-S2"
      },
      "execution_count": null,
      "outputs": []
    },
    {
      "cell_type": "markdown",
      "source": [
        "before image proceesing bad image predict good, after image proceesing bad image predict good. so this image proceesing method can not predict correctly."
      ],
      "metadata": {
        "id": "Tp8tmWUH1Rs1"
      }
    },
    {
      "cell_type": "markdown",
      "source": [
        "Image DJI_0503.jpg is not detected by efficientnetB1 because contrast is poor ,so we apply resizing+contrast to the image"
      ],
      "metadata": {
        "id": "y8zG9XjDbCw3"
      }
    },
    {
      "cell_type": "code",
      "source": [
        "from PIL import ImageEnhance\n",
        "from PIL import Image\n",
        "from tensorflow.keras.preprocessing.image import load_img, img_to_array\n",
        "from tensorflow.keras.models import load_model\n",
        "image=Image.open('/content/gdrive/MyDrive/T51+T52BAD+T53BAD+T54BAD+T57BAD +T58BAD/Test/bad_dataset/DJI_0503.jpg')\n",
        "img_resize=image.resize((240,240))\n",
        "#plt.imshow(img_resize,cmap='gray')\n",
        "curr_con=ImageEnhance.Contrast(img_resize)\n",
        "new_con=1.6\n",
        "img_contrast=curr_con.enhance(new_con)\n",
        "plt.imshow(img_contrast)\n",
        "img = img_to_array(img_contrast)\n",
        "img = img.reshape(1,240,240,3)\n",
        "#print(img.shape)\n",
        "#display(img_brightened)\n",
        "pred=my_model.predict(img)\n",
        "print(pred)\n"
      ],
      "metadata": {
        "id": "B8nnkive0-e_"
      },
      "execution_count": null,
      "outputs": []
    },
    {
      "cell_type": "markdown",
      "source": [
        "before image proceesing bad image predict good, after image proceesing bad image predict good. so this image proceesing method can not predict correctly."
      ],
      "metadata": {
        "id": "hTU7zIAq1WG_"
      }
    },
    {
      "cell_type": "markdown",
      "source": [
        "Image DJI_0505.jpg is not detected by efficientnetB1 because contrast is poor ,so we apply resizing+contrast to the image"
      ],
      "metadata": {
        "id": "ZKFgJVOqbHrp"
      }
    },
    {
      "cell_type": "code",
      "source": [
        "from PIL import ImageEnhance\n",
        "from PIL import Image\n",
        "from tensorflow.keras.preprocessing.image import load_img, img_to_array\n",
        "from tensorflow.keras.models import load_model\n",
        "image=Image.open('/content/gdrive/MyDrive/T51+T52BAD+T53BAD+T54BAD+T57BAD +T58BAD/Test/bad_dataset/DJI_0505.jpg')\n",
        "img_resize=image.resize((240,240))\n",
        "#plt.imshow(img_resize,cmap='gray')\n",
        "curr_con=ImageEnhance.Contrast(img_resize)\n",
        "new_con=1.6\n",
        "img_contrast=curr_con.enhance(new_con)\n",
        "plt.imshow(img_contrast)\n",
        "img = img_to_array(img_contrast)\n",
        "img = img.reshape(1,240,240,3)\n",
        "#print(img.shape)\n",
        "#display(img_brightened)\n",
        "pred=my_model.predict(img)\n",
        "print(pred)\n"
      ],
      "metadata": {
        "id": "PCqWNdIS0-o3"
      },
      "execution_count": null,
      "outputs": []
    },
    {
      "cell_type": "markdown",
      "source": [
        "before image proceesing bad image predict good, after image proceesing bad image predict good. so this image proceesing method can not predict correctly."
      ],
      "metadata": {
        "id": "K1NF90tT1atF"
      }
    },
    {
      "cell_type": "markdown",
      "source": [
        "Image DJI_0507.jpg is not detected by efficientnetB1 because contrast is poor ,so we apply resizing+contrast to the image"
      ],
      "metadata": {
        "id": "t63wyN7pbLnp"
      }
    },
    {
      "cell_type": "code",
      "source": [
        "from PIL import ImageEnhance\n",
        "from PIL import Image\n",
        "from tensorflow.keras.preprocessing.image import load_img, img_to_array\n",
        "from tensorflow.keras.models import load_model\n",
        "image=Image.open('/content/gdrive/MyDrive/T51+T52BAD+T53BAD+T54BAD+T57BAD +T58BAD/Test/bad_dataset/DJI_0507.jpg')\n",
        "img_resize=image.resize((240,240))\n",
        "#plt.imshow(img_resize,cmap='gray')\n",
        "curr_con=ImageEnhance.Contrast(img_resize)\n",
        "new_con=1.6\n",
        "img_contrast=curr_con.enhance(new_con)\n",
        "plt.imshow(img_contrast)\n",
        "img = img_to_array(img_contrast)\n",
        "img = img.reshape(1,240,240,3)\n",
        "#print(img.shape)\n",
        "#display(img_brightened)\n",
        "pred=my_model.predict(img)\n",
        "print(pred)\n"
      ],
      "metadata": {
        "id": "Mgt9hCEg0-2P"
      },
      "execution_count": null,
      "outputs": []
    },
    {
      "cell_type": "markdown",
      "source": [
        "before image proceesing bad image predict good, after image proceesing bad image predict good. so this image proceesing method can not predict correctly."
      ],
      "metadata": {
        "id": "jCh3WNex1czD"
      }
    },
    {
      "cell_type": "markdown",
      "source": [
        "Image DJI_0509.jpg is not detected by efficientnetB1 because contrast is poor ,so we apply resizing+contrast to the image"
      ],
      "metadata": {
        "id": "MCDSj-HbbQA1"
      }
    },
    {
      "cell_type": "code",
      "source": [
        "from PIL import ImageEnhance\n",
        "from PIL import Image\n",
        "from tensorflow.keras.preprocessing.image import load_img, img_to_array\n",
        "from tensorflow.keras.models import load_model\n",
        "image=Image.open('/content/gdrive/MyDrive/T51+T52BAD+T53BAD+T54BAD+T57BAD +T58BAD/Test/bad_dataset/DJI_0509.jpg')\n",
        "img_resize=image.resize((240,240))\n",
        "#plt.imshow(img_resize,cmap='gray')\n",
        "curr_con=ImageEnhance.Contrast(img_resize)\n",
        "new_con=1.6\n",
        "img_contrast=curr_con.enhance(new_con)\n",
        "plt.imshow(img_contrast)\n",
        "img = img_to_array(img_contrast)\n",
        "img = img.reshape(1,240,240,3)\n",
        "#print(img.shape)\n",
        "#display(img_brightened)\n",
        "pred=my_model.predict(img)\n",
        "print(pred)\n"
      ],
      "metadata": {
        "id": "3nwK4ZoF0_BO"
      },
      "execution_count": null,
      "outputs": []
    },
    {
      "cell_type": "markdown",
      "source": [
        "before image proceesing bad image predict good, after image proceesing bad image predict good. so this image proceesing method can not predict correctly."
      ],
      "metadata": {
        "id": "cQgLClJx1eqw"
      }
    },
    {
      "cell_type": "markdown",
      "source": [
        "Image DJI_0608.jpg is not detected by efficientnetB1 because contrast is poor ,so we apply resizing+contrast to the image"
      ],
      "metadata": {
        "id": "obedEDxGaTjU"
      }
    },
    {
      "cell_type": "code",
      "source": [
        "from PIL import ImageEnhance\n",
        "from PIL import Image\n",
        "from tensorflow.keras.preprocessing.image import load_img, img_to_array\n",
        "from tensorflow.keras.models import load_model\n",
        "image=Image.open('/content/gdrive/MyDrive/T51+T52BAD+T53BAD+T54BAD+T57BAD +T58BAD/Test/bad_dataset/DJI_0608.jpg')\n",
        "img_resize=image.resize((240,240))\n",
        "#plt.imshow(img_resize,cmap='gray')\n",
        "curr_con=ImageEnhance.Contrast(img_resize)\n",
        "new_con=1.6\n",
        "img_contrast=curr_con.enhance(new_con)\n",
        "plt.imshow(img_contrast)\n",
        "img = img_to_array(img_contrast)\n",
        "img = img.reshape(1,240,240,3)\n",
        "#print(img.shape)\n",
        "#display(img_brightened)\n",
        "pred=my_model.predict(img)\n",
        "print(pred)\n"
      ],
      "metadata": {
        "id": "6urSGIdYbXBf"
      },
      "execution_count": null,
      "outputs": []
    },
    {
      "cell_type": "markdown",
      "source": [
        "before image proceesing bad image predict good, after image proceesing bad image predict good. so this image proceesing method can not predict correctly."
      ],
      "metadata": {
        "id": "V0DEU3aB1gWe"
      }
    },
    {
      "cell_type": "markdown",
      "source": [
        "Image DJI_0610.jpg is not detected by efficientnetB1 because contrast is poor ,so we apply resizing+contrast to the image"
      ],
      "metadata": {
        "id": "cVWjYaXoaWw0"
      }
    },
    {
      "cell_type": "code",
      "source": [
        "from PIL import ImageEnhance\n",
        "from PIL import Image\n",
        "from tensorflow.keras.preprocessing.image import load_img, img_to_array\n",
        "from tensorflow.keras.models import load_model\n",
        "image=Image.open('/content/gdrive/MyDrive/T51+T52BAD+T53BAD+T54BAD+T57BAD +T58BAD/Test/bad_dataset/DJI_0610.jpg')\n",
        "img_resize=image.resize((240,240))\n",
        "#plt.imshow(img_resize,cmap='gray')\n",
        "curr_con=ImageEnhance.Contrast(img_resize)\n",
        "new_con=1.6\n",
        "img_contrast=curr_con.enhance(new_con)\n",
        "plt.imshow(img_contrast)\n",
        "img = img_to_array(img_contrast)\n",
        "img = img.reshape(1,240,240,3)\n",
        "#print(img.shape)\n",
        "#display(img_brightened)\n",
        "pred=my_model.predict(img)\n",
        "print(pred)\n"
      ],
      "metadata": {
        "id": "_iFdy-GQbcfa"
      },
      "execution_count": null,
      "outputs": []
    },
    {
      "cell_type": "markdown",
      "source": [
        "before image proceesing bad image predict good, after image proceesing bad image predict good. so this image proceesing method can not predict correctly."
      ],
      "metadata": {
        "id": "o1hKDi711iH8"
      }
    },
    {
      "cell_type": "markdown",
      "source": [
        "Image DJI_0976.jpg is not detected by efficientnetB1 because contrast is poor ,so we apply resizing+contrast to the image"
      ],
      "metadata": {
        "id": "tGcvPnh2bXIT"
      }
    },
    {
      "cell_type": "code",
      "source": [
        "from PIL import ImageEnhance\n",
        "from PIL import Image\n",
        "from tensorflow.keras.preprocessing.image import load_img, img_to_array\n",
        "from tensorflow.keras.models import load_model\n",
        "image=Image.open('/content/gdrive/MyDrive/T51+T52BAD+T53BAD+T54BAD+T57BAD +T58BAD/Test/bad_dataset/DJI_0976.jpg')\n",
        "img_resize=image.resize((240,240))\n",
        "#plt.imshow(img_resize,cmap='gray')\n",
        "curr_con=ImageEnhance.Contrast(img_resize)\n",
        "new_con=1.6\n",
        "img_contrast=curr_con.enhance(new_con)\n",
        "plt.imshow(img_contrast)\n",
        "img = img_to_array(img_contrast)\n",
        "img = img.reshape(1,240,240,3)\n",
        "#print(img.shape)\n",
        "#display(img_brightened)\n",
        "pred=my_model.predict(img)\n",
        "print(pred)\n"
      ],
      "metadata": {
        "id": "4MFvSIfW0_O9"
      },
      "execution_count": null,
      "outputs": []
    },
    {
      "cell_type": "markdown",
      "source": [
        "before image proceesing bad image predict good, after image proceesing bad image predict good. so this image proceesing method can not predict correctly."
      ],
      "metadata": {
        "id": "9l3N28_31kYW"
      }
    },
    {
      "cell_type": "markdown",
      "source": [
        "Image DJI_0978.jpg is not detected by efficientnetB1 because contrast is poor ,so we apply resizing+contrast to the image"
      ],
      "metadata": {
        "id": "cPNI6g0ibbTM"
      }
    },
    {
      "cell_type": "code",
      "source": [
        "from PIL import ImageEnhance\n",
        "from PIL import Image\n",
        "from tensorflow.keras.preprocessing.image import load_img, img_to_array\n",
        "from tensorflow.keras.models import load_model\n",
        "image=Image.open('/content/gdrive/MyDrive/T51+T52BAD+T53BAD+T54BAD+T57BAD +T58BAD/Test/bad_dataset/DJI_0978.jpg')\n",
        "img_resize=image.resize((240,240))\n",
        "#plt.imshow(img_resize,cmap='gray')\n",
        "curr_con=ImageEnhance.Contrast(img_resize)\n",
        "new_con=1.6\n",
        "img_contrast=curr_con.enhance(new_con)\n",
        "plt.imshow(img_contrast)\n",
        "img = img_to_array(img_contrast)\n",
        "img = img.reshape(1,240,240,3)\n",
        "#print(img.shape)\n",
        "#display(img_brightened)\n",
        "pred=my_model.predict(img)\n",
        "print(pred)\n"
      ],
      "metadata": {
        "id": "dctMUqdF0_Y_"
      },
      "execution_count": null,
      "outputs": []
    },
    {
      "cell_type": "markdown",
      "source": [
        "before image proceesing bad image predict good, after image proceesing bad image predict good. so this image proceesing method can not predict correctly."
      ],
      "metadata": {
        "id": "GwZRTr-K1mKM"
      }
    },
    {
      "cell_type": "markdown",
      "source": [
        "Image DJI_0980.jpg is not detected by efficientnetB1 because contrast is poor ,so we apply resizing+contrast to the image"
      ],
      "metadata": {
        "id": "SRNPlKSibfT4"
      }
    },
    {
      "cell_type": "code",
      "source": [
        "from PIL import ImageEnhance\n",
        "from PIL import Image\n",
        "from tensorflow.keras.preprocessing.image import load_img, img_to_array\n",
        "from tensorflow.keras.models import load_model\n",
        "image=Image.open('/content/gdrive/MyDrive/T51+T52BAD+T53BAD+T54BAD+T57BAD +T58BAD/Test/bad_dataset/DJI_0980.jpg')\n",
        "img_resize=image.resize((240,240))\n",
        "#plt.imshow(img_resize,cmap='gray')\n",
        "curr_con=ImageEnhance.Contrast(img_resize)\n",
        "new_con=1.6\n",
        "img_contrast=curr_con.enhance(new_con)\n",
        "plt.imshow(img_contrast)\n",
        "img = img_to_array(img_contrast)\n",
        "img = img.reshape(1,240,240,3)\n",
        "#print(img.shape)\n",
        "#display(img_brightened)\n",
        "pred=my_model.predict(img)\n",
        "print(pred)\n"
      ],
      "metadata": {
        "id": "gkmAsOUr0_kQ"
      },
      "execution_count": null,
      "outputs": []
    },
    {
      "cell_type": "markdown",
      "source": [
        "before image proceesing bad image predict good, after image proceesing bad image predict good. so this image proceesing method can not predict correctly."
      ],
      "metadata": {
        "id": "vsMl410y1oX5"
      }
    },
    {
      "cell_type": "markdown",
      "source": [
        "Image DJI_0982.jpg is not detected by efficientnetB1 because contrast is poor ,so we apply resizing+contrast to the image"
      ],
      "metadata": {
        "id": "fJuO0n3TbnC9"
      }
    },
    {
      "cell_type": "code",
      "source": [
        "from PIL import ImageEnhance\n",
        "from PIL import Image\n",
        "from tensorflow.keras.preprocessing.image import load_img, img_to_array\n",
        "from tensorflow.keras.models import load_model\n",
        "image=Image.open('/content/gdrive/MyDrive/T51+T52BAD+T53BAD+T54BAD+T57BAD +T58BAD/Test/bad_dataset/DJI_0982.jpg')\n",
        "img_resize=image.resize((240,240))\n",
        "#plt.imshow(img_resize,cmap='gray')\n",
        "curr_con=ImageEnhance.Contrast(img_resize)\n",
        "new_con=1.6\n",
        "img_contrast=curr_con.enhance(new_con)\n",
        "plt.imshow(img_contrast)\n",
        "img = img_to_array(img_contrast)\n",
        "img = img.reshape(1,240,240,3)\n",
        "#print(img.shape)\n",
        "#display(img_brightened)\n",
        "pred=my_model.predict(img)\n",
        "print(pred)\n"
      ],
      "metadata": {
        "id": "NlSjNQbZ0_yk"
      },
      "execution_count": null,
      "outputs": []
    },
    {
      "cell_type": "markdown",
      "source": [
        "before image proceesing bad image predict good, after image proceesing bad image predict good. so this image proceesing method can not predict correctly."
      ],
      "metadata": {
        "id": "1neWIvRE1rSF"
      }
    },
    {
      "cell_type": "markdown",
      "source": [
        "Image DJI_0984.jpg is not detected by efficientnetB1 because contrast is poor ,so we apply resizing+contrast to the image"
      ],
      "metadata": {
        "id": "FFcCONQabsWR"
      }
    },
    {
      "cell_type": "code",
      "source": [
        "from PIL import ImageEnhance\n",
        "from PIL import Image\n",
        "from tensorflow.keras.preprocessing.image import load_img, img_to_array\n",
        "from tensorflow.keras.models import load_model\n",
        "image=Image.open('/content/gdrive/MyDrive/T51+T52BAD+T53BAD+T54BAD+T57BAD +T58BAD/Test/bad_dataset/DJI_0984.jpg')\n",
        "img_resize=image.resize((240,240))\n",
        "#plt.imshow(img_resize,cmap='gray')\n",
        "curr_con=ImageEnhance.Contrast(img_resize)\n",
        "new_con=1.6\n",
        "img_contrast=curr_con.enhance(new_con)\n",
        "plt.imshow(img_contrast)\n",
        "img = img_to_array(img_contrast)\n",
        "img = img.reshape(1,240,240,3)\n",
        "#print(img.shape)\n",
        "#display(img_brightened)\n",
        "pred=my_model.predict(img)\n",
        "print(pred)\n"
      ],
      "metadata": {
        "id": "6WaLGCit0__Y"
      },
      "execution_count": null,
      "outputs": []
    },
    {
      "cell_type": "markdown",
      "source": [
        "before image proceesing bad image predict good, after image proceesing bad image predict good. so this image proceesing method can not predict correctly."
      ],
      "metadata": {
        "id": "BSIXIv241tq6"
      }
    },
    {
      "cell_type": "markdown",
      "source": [
        "Image DJI_0986.jpg is not detected by efficientnetB1 because contrast is poor ,so we apply resizing+contrast to the image"
      ],
      "metadata": {
        "id": "8jZ4abaAbzW_"
      }
    },
    {
      "cell_type": "code",
      "source": [
        "from PIL import ImageEnhance\n",
        "from PIL import Image\n",
        "from tensorflow.keras.preprocessing.image import load_img, img_to_array\n",
        "from tensorflow.keras.models import load_model\n",
        "image=Image.open('/content/gdrive/MyDrive/T51+T52BAD+T53BAD+T54BAD+T57BAD +T58BAD/Test/bad_dataset/DJI_0986.jpg')\n",
        "img_resize=image.resize((240,240))\n",
        "#plt.imshow(img_resize,cmap='gray')\n",
        "curr_con=ImageEnhance.Contrast(img_resize)\n",
        "new_con=1.6\n",
        "img_contrast=curr_con.enhance(new_con)\n",
        "plt.imshow(img_contrast)\n",
        "img = img_to_array(img_contrast)\n",
        "img = img.reshape(1,240,240,3)\n",
        "#print(img.shape)\n",
        "#display(img_brightened)\n",
        "pred=my_model.predict(img)\n",
        "print(pred)\n"
      ],
      "metadata": {
        "id": "qTqhGCqF1AV_"
      },
      "execution_count": null,
      "outputs": []
    },
    {
      "cell_type": "markdown",
      "source": [
        "before image proceesing bad image predict good, after image proceesing bad image predict good. so this image proceesing method can not predict correctly."
      ],
      "metadata": {
        "id": "eY3yJPNT1vsB"
      }
    },
    {
      "cell_type": "code",
      "source": [
        "from sklearn.metrics import classification_report,confusion_matrix\n",
        "truth=['bad','bad','bad','bad','bad','bad','bad','bad','bad','bad','bad','bad','bad','bad','bad','bad','bad','bad','bad','bad','bad','bad','good','good','good','good','good','good','good','good','good','good','good','good','good','good','good','good','good','good','good','good','good','good','good','good','good','good','good','good','good','good','good','good','good','good','good','good','good','good','good','good','good','good','good','good','good','good','good','good','good','good','good','good','good','good','good','good','good','good','good','good','good','good','good','good']\n",
        "prediction=['good','good','good','good','good','good','good','good','good','good','good','good','good','good','good','good','good','good','good','good','good','good','good','good','good','good','good','good','good','good','good','good','good','good','good','good','good','good','good','good','good','good','good','good','good','good','good','good','good','good','good','good','good','good','good','good','good','good','good','good','good','good','good','good','good','good','good','good','good','good','good','good','good','good','good','good','good','good','good','good','good','good','good','good','good','good']\n",
        "print(classification_report(truth,prediction))\n",
        "print(confusion_matrix(truth,prediction))"
      ],
      "metadata": {
        "id": "OgyzxrHbyKi1"
      },
      "execution_count": null,
      "outputs": []
    },
    {
      "cell_type": "markdown",
      "source": [],
      "metadata": {
        "id": "TnClNziMwfk0"
      }
    },
    {
      "cell_type": "markdown",
      "source": [
        "Image DJI_0066.jpg is not detected by efficientnetB1 because it is dark image ,so we apply resizing+color to the image.\n"
      ],
      "metadata": {
        "id": "klWCuuaq11Rt"
      }
    },
    {
      "cell_type": "code",
      "source": [
        "from PIL import ImageEnhance\n",
        "from PIL import Image\n",
        "from tensorflow.keras.preprocessing.image import load_img, img_to_array\n",
        "from tensorflow.keras.models import load_model\n",
        "image=Image.open('/content/gdrive/MyDrive/T51+T52BAD+T53BAD+T54BAD+T57BAD +T58BAD/Test/bad_dataset/DJI_0066.jpg')\n",
        "img_resize=image.resize((240,240))\n",
        "#plt.imshow(img_resize,cmap='gray')\n",
        "curr_col=ImageEnhance.Color(img_resize)\n",
        "new_col=1.6\n",
        "img_color=curr_col.enhance(new_col)\n",
        "plt.imshow(img_color)\n",
        "img = img_to_array(img_color)\n",
        "img = img.reshape(1,240,240,3)\n",
        "#print(img.shape)\n",
        "#display(img_brightened)\n",
        "pred=my_model.predict(img)\n",
        "print(pred)\n"
      ],
      "metadata": {
        "id": "uKtOQty8cI-N"
      },
      "execution_count": null,
      "outputs": []
    },
    {
      "cell_type": "markdown",
      "source": [
        "before image proceesing bad image predict good, after image proceesing bad image predict good. so this image proceesing method can not predict correctly."
      ],
      "metadata": {
        "id": "P806sbuO1zq1"
      }
    },
    {
      "cell_type": "markdown",
      "source": [
        "Image DJI_0108.jpg is not detected by efficientnetB1 because it is dark image ,so we apply resizing+color to the image.\n"
      ],
      "metadata": {
        "id": "-4xfyjHybp9B"
      }
    },
    {
      "cell_type": "code",
      "source": [
        "from PIL import ImageEnhance\n",
        "from PIL import Image\n",
        "from tensorflow.keras.preprocessing.image import load_img, img_to_array\n",
        "from tensorflow.keras.models import load_model\n",
        "image=Image.open('/content/gdrive/MyDrive/T51+T52BAD+T53BAD+T54BAD+T57BAD +T58BAD/Test/bad_dataset/DJI_0108.jpg')\n",
        "img_resize=image.resize((240,240))\n",
        "#plt.imshow(img_resize,cmap='gray')\n",
        "curr_col=ImageEnhance.Color(img_resize)\n",
        "new_col=1.6\n",
        "img_color=curr_col.enhance(new_col)\n",
        "plt.imshow(img_color)\n",
        "img = img_to_array(img_color)\n",
        "img = img.reshape(1,240,240,3)\n",
        "#print(img.shape)\n",
        "#display(img_brightened)\n",
        "pred=my_model.predict(img)\n",
        "print(pred)\n"
      ],
      "metadata": {
        "id": "I5MTS6NvcNp5"
      },
      "execution_count": null,
      "outputs": []
    },
    {
      "cell_type": "markdown",
      "source": [
        "before image proceesing bad image predict good, after image proceesing bad image predict good. so this image proceesing method can not predict correctly."
      ],
      "metadata": {
        "id": "rHyCRYnB14v6"
      }
    },
    {
      "cell_type": "markdown",
      "source": [
        "Image DJI_0110.jpg is not detected by efficientnetB1 because it is dark image ,so we apply resizing+color to the image.\n"
      ],
      "metadata": {
        "id": "KLP8YVixbqIM"
      }
    },
    {
      "cell_type": "code",
      "source": [
        "from PIL import ImageEnhance\n",
        "from PIL import Image\n",
        "from tensorflow.keras.preprocessing.image import load_img, img_to_array\n",
        "from tensorflow.keras.models import load_model\n",
        "image=Image.open('/content/gdrive/MyDrive/T51+T52BAD+T53BAD+T54BAD+T57BAD +T58BAD/Test/bad_dataset/DJI_0110.jpg')\n",
        "img_resize=image.resize((240,240))\n",
        "#plt.imshow(img_resize,cmap='gray')\n",
        "curr_col=ImageEnhance.Color(img_resize)\n",
        "new_col=1.6\n",
        "img_color=curr_col.enhance(new_col)\n",
        "plt.imshow(img_color)\n",
        "img = img_to_array(img_color)\n",
        "img = img.reshape(1,240,240,3)\n",
        "#print(img.shape)\n",
        "#display(img_brightened)\n",
        "pred=my_model.predict(img)\n",
        "print(pred)\n"
      ],
      "metadata": {
        "id": "jX-eydR7cSVP"
      },
      "execution_count": null,
      "outputs": []
    },
    {
      "cell_type": "markdown",
      "source": [
        "before image proceesing bad image predict good, after image proceesing bad image predict good. so this image proceesing method can not predict correctly."
      ],
      "metadata": {
        "id": "Ty1wXqcN18Sy"
      }
    },
    {
      "cell_type": "markdown",
      "source": [
        "Image DJI_0489.jpg is not detected by efficientnetB1 because it is dark image ,so we apply resizing+color to the image.\n"
      ],
      "metadata": {
        "id": "A6YEvfr3bqVa"
      }
    },
    {
      "cell_type": "code",
      "source": [
        "from PIL import ImageEnhance\n",
        "from PIL import Image\n",
        "from tensorflow.keras.preprocessing.image import load_img, img_to_array\n",
        "from tensorflow.keras.models import load_model\n",
        "image=Image.open('/content/gdrive/MyDrive/T51+T52BAD+T53BAD+T54BAD+T57BAD +T58BAD/Test/bad_dataset/DJI_0489.jpg')\n",
        "img_resize=image.resize((240,240))\n",
        "#plt.imshow(img_resize,cmap='gray')\n",
        "curr_col=ImageEnhance.Color(img_resize)\n",
        "new_col=1.6\n",
        "img_color=curr_col.enhance(new_col)\n",
        "plt.imshow(img_color)\n",
        "img = img_to_array(img_color)\n",
        "img = img.reshape(1,240,240,3)\n",
        "#print(img.shape)\n",
        "#display(img_brightened)\n",
        "pred=my_model.predict(img)\n",
        "print(pred)\n"
      ],
      "metadata": {
        "id": "b7NkbV2j2G5Y"
      },
      "execution_count": null,
      "outputs": []
    },
    {
      "cell_type": "markdown",
      "source": [
        "before image proceesing bad image predict good, after image proceesing bad image predict good. so this image proceesing method can not predict correctly."
      ],
      "metadata": {
        "id": "lsjAc8xB1-vs"
      }
    },
    {
      "cell_type": "markdown",
      "source": [
        "Image DJI_0491.jpg is not detected by efficientnetB1 because it is dark image ,so we apply resizing+color to the image."
      ],
      "metadata": {
        "id": "p8LBPJZEcvVh"
      }
    },
    {
      "cell_type": "code",
      "source": [
        "from PIL import ImageEnhance\n",
        "from PIL import Image\n",
        "from tensorflow.keras.preprocessing.image import load_img, img_to_array\n",
        "from tensorflow.keras.models import load_model\n",
        "image=Image.open('/content/gdrive/MyDrive/T51+T52BAD+T53BAD+T54BAD+T57BAD +T58BAD/Test/bad_dataset/DJI_0491.jpg')\n",
        "img_resize=image.resize((240,240))\n",
        "#plt.imshow(img_resize,cmap='gray')\n",
        "curr_col=ImageEnhance.Color(img_resize)\n",
        "new_col=1.6\n",
        "img_color=curr_col.enhance(new_col)\n",
        "plt.imshow(img_color)\n",
        "img = img_to_array(img_color)\n",
        "img = img.reshape(1,240,240,3)\n",
        "#print(img.shape)\n",
        "#display(img_brightened)\n",
        "pred=my_model.predict(img)\n",
        "print(pred)\n"
      ],
      "metadata": {
        "id": "Sm2wQY7r3lpG"
      },
      "execution_count": null,
      "outputs": []
    },
    {
      "cell_type": "markdown",
      "source": [
        "before image proceesing bad image predict good, after image proceesing bad image predict good. so this image proceesing method can not predict correctly."
      ],
      "metadata": {
        "id": "n3AWrIvP2GDa"
      }
    },
    {
      "cell_type": "markdown",
      "source": [
        "Image DJI_0493.jpg is not detected by efficientnetB1 because it is dark image ,so we apply resizing+color to the image."
      ],
      "metadata": {
        "id": "pJg2mz1ycyZy"
      }
    },
    {
      "cell_type": "code",
      "source": [
        "from PIL import ImageEnhance\n",
        "from PIL import Image\n",
        "from tensorflow.keras.preprocessing.image import load_img, img_to_array\n",
        "from tensorflow.keras.models import load_model\n",
        "image=Image.open('/content/gdrive/MyDrive/T51+T52BAD+T53BAD+T54BAD+T57BAD +T58BAD/Test/bad_dataset/DJI_0493.jpg')\n",
        "img_resize=image.resize((240,240))\n",
        "#plt.imshow(img_resize,cmap='gray')\n",
        "curr_col=ImageEnhance.Color(img_resize)\n",
        "new_col=1.6\n",
        "img_color=curr_col.enhance(new_col)\n",
        "plt.imshow(img_color)\n",
        "img = img_to_array(img_color)\n",
        "img = img.reshape(1,240,240,3)\n",
        "#print(img.shape)\n",
        "#display(img_brightened)\n",
        "pred=my_model.predict(img)\n",
        "print(pred)\n"
      ],
      "metadata": {
        "id": "u-Tzqqvh3lzE"
      },
      "execution_count": null,
      "outputs": []
    },
    {
      "cell_type": "markdown",
      "source": [
        "before image proceesing bad image predict good, after image proceesing bad image predict good. so this image proceesing method can not predict correctly."
      ],
      "metadata": {
        "id": "gaDsDazV2IMF"
      }
    },
    {
      "cell_type": "markdown",
      "source": [
        "Image DJI_0495.jpg is not detected by efficientnetB1 because it is dark image ,so we apply resizing+color to the image."
      ],
      "metadata": {
        "id": "H-MlTUjbc3GG"
      }
    },
    {
      "cell_type": "code",
      "source": [
        "from PIL import ImageEnhance\n",
        "from PIL import Image\n",
        "from tensorflow.keras.preprocessing.image import load_img, img_to_array\n",
        "from tensorflow.keras.models import load_model\n",
        "image=Image.open('/content/gdrive/MyDrive/T51+T52BAD+T53BAD+T54BAD+T57BAD +T58BAD/Test/bad_dataset/DJI_0495.jpg')\n",
        "img_resize=image.resize((240,240))\n",
        "#plt.imshow(img_resize,cmap='gray')\n",
        "curr_col=ImageEnhance.Color(img_resize)\n",
        "new_col=1.6\n",
        "img_color=curr_col.enhance(new_col)\n",
        "plt.imshow(img_color)\n",
        "img = img_to_array(img_color)\n",
        "img = img.reshape(1,240,240,3)\n",
        "#print(img.shape)\n",
        "#display(img_brightened)\n",
        "pred=my_model.predict(img)\n",
        "print(pred)\n"
      ],
      "metadata": {
        "id": "9bWEPQuC3l8_"
      },
      "execution_count": null,
      "outputs": []
    },
    {
      "cell_type": "markdown",
      "source": [
        "before image proceesing bad image predict good, after image proceesing bad image predict good. so this image proceesing method can not predict correctly."
      ],
      "metadata": {
        "id": "5GLeEECB2KyX"
      }
    },
    {
      "cell_type": "markdown",
      "source": [
        "Image DJI_0497.jpg is not detected by efficientnetB1 because it is dark image ,so we apply resizing+color to the image."
      ],
      "metadata": {
        "id": "19-LvRC0c62m"
      }
    },
    {
      "cell_type": "code",
      "source": [
        "from PIL import ImageEnhance\n",
        "from PIL import Image\n",
        "from tensorflow.keras.preprocessing.image import load_img, img_to_array\n",
        "from tensorflow.keras.models import load_model\n",
        "image=Image.open('/content/gdrive/MyDrive/T51+T52BAD+T53BAD+T54BAD+T57BAD +T58BAD/Test/bad_dataset/DJI_0497.jpg')\n",
        "img_resize=image.resize((240,240))\n",
        "#plt.imshow(img_resize,cmap='gray')\n",
        "curr_col=ImageEnhance.Color(img_resize)\n",
        "\n",
        "new_col=1.6\n",
        "img_color=curr_col.enhance(new_col)\n",
        "plt.imshow(img_color)\n",
        "img = img_to_array(img_color)\n",
        "img = img.reshape(1,240,240,3)\n",
        "#print(img.shape)\n",
        "#display(img_brightened)\n",
        "pred=my_model.predict(img)\n",
        "print(pred)\n"
      ],
      "metadata": {
        "id": "6SvvfBGU3mGm"
      },
      "execution_count": null,
      "outputs": []
    },
    {
      "cell_type": "markdown",
      "source": [
        "before image proceesing bad image predict good, after image proceesing bad image predict good. so this image proceesing method can not predict correctly."
      ],
      "metadata": {
        "id": "C4bmtRpE2No9"
      }
    },
    {
      "cell_type": "markdown",
      "source": [
        "Image DJI_0499.jpg is not detected by efficientnetB1 because it is dark image ,so we apply resizing+color to the image."
      ],
      "metadata": {
        "id": "OaJcfro8chzC"
      }
    },
    {
      "cell_type": "code",
      "source": [
        "from PIL import ImageEnhance\n",
        "from PIL import Image\n",
        "from tensorflow.keras.preprocessing.image import load_img, img_to_array\n",
        "from tensorflow.keras.models import load_model\n",
        "image=Image.open('/content/gdrive/MyDrive/T51+T52BAD+T53BAD+T54BAD+T57BAD +T58BAD/Test/bad_dataset/DJI_0499.jpg')\n",
        "img_resize=image.resize((240,240))\n",
        "#plt.imshow(img_resize,cmap='gray')\n",
        "curr_col=ImageEnhance.Color(img_resize)\n",
        "new_col=1.6\n",
        "img_color=curr_col.enhance(new_col)\n",
        "plt.imshow(img_color)\n",
        "img = img_to_array(img_color)\n",
        "img = img.reshape(1,240,240,3)\n",
        "#print(img.shape)\n",
        "#display(img_brightened)\n",
        "pred=my_model.predict(img)\n",
        "print(pred)\n"
      ],
      "metadata": {
        "id": "4WMKu-AOceGe"
      },
      "execution_count": null,
      "outputs": []
    },
    {
      "cell_type": "markdown",
      "source": [
        "before image proceesing bad image predict good, after image proceesing bad image predict good. so this image proceesing method can not predict correctly."
      ],
      "metadata": {
        "id": "GFMz8Z2U2Pjh"
      }
    },
    {
      "cell_type": "markdown",
      "source": [
        "Image DJI_0501.jpg is not detected by efficientnetB1 because it is dark image ,so we apply resizing+color to the image."
      ],
      "metadata": {
        "id": "_yix3z25c_Dl"
      }
    },
    {
      "cell_type": "code",
      "source": [
        "from PIL import ImageEnhance\n",
        "from PIL import Image\n",
        "from tensorflow.keras.preprocessing.image import load_img, img_to_array\n",
        "from tensorflow.keras.models import load_model\n",
        "image=Image.open('/content/gdrive/MyDrive/T51+T52BAD+T53BAD+T54BAD+T57BAD +T58BAD/Test/bad_dataset/DJI_0501.jpg')\n",
        "img_resize=image.resize((240,240))\n",
        "#plt.imshow(img_resize,cmap='gray')\n",
        "curr_col=ImageEnhance.Color(img_resize)\n",
        "new_col=1.6\n",
        "img_color=curr_col.enhance(new_col)\n",
        "plt.imshow(img_color)\n",
        "img = img_to_array(img_color)\n",
        "img = img.reshape(1,240,240,3)\n",
        "#print(img.shape)\n",
        "#display(img_brightened)\n",
        "pred=my_model.predict(img)\n",
        "print(pred)\n"
      ],
      "metadata": {
        "id": "JR6R9dNT3mQX"
      },
      "execution_count": null,
      "outputs": []
    },
    {
      "cell_type": "markdown",
      "source": [
        "before image proceesing bad image predict good, after image proceesing bad image predict good. so this image proceesing method can not predict correctly."
      ],
      "metadata": {
        "id": "nZ-BwXgL2Rl_"
      }
    },
    {
      "cell_type": "markdown",
      "source": [
        "Image DJI_0503.jpg is not detected by efficientnetB1 because it is dark image ,so we apply resizing+color to the image."
      ],
      "metadata": {
        "id": "d5rbTqh7dEMv"
      }
    },
    {
      "cell_type": "code",
      "source": [
        "from PIL import ImageEnhance\n",
        "from PIL import Image\n",
        "from tensorflow.keras.preprocessing.image import load_img, img_to_array\n",
        "from tensorflow.keras.models import load_model\n",
        "image=Image.open('/content/gdrive/MyDrive/T51+T52BAD+T53BAD+T54BAD+T57BAD +T58BAD/Test/bad_dataset/DJI_0503.jpg')\n",
        "img_resize=image.resize((240,240))\n",
        "#plt.imshow(img_resize,cmap='gray')\n",
        "curr_col=ImageEnhance.Color(img_resize)\n",
        "new_col=1.6\n",
        "img_color=curr_col.enhance(new_col)\n",
        "plt.imshow(img_color)\n",
        "img = img_to_array(img_color)\n",
        "img = img.reshape(1,240,240,3)\n",
        "#print(img.shape)\n",
        "#display(img_brightened)\n",
        "pred=my_model.predict(img)\n",
        "print(pred)\n"
      ],
      "metadata": {
        "id": "gE4v2XiR3mZ-"
      },
      "execution_count": null,
      "outputs": []
    },
    {
      "cell_type": "markdown",
      "source": [
        "before image proceesing bad image predict good, after image proceesing bad image predict good. so this image proceesing method can not predict correctly."
      ],
      "metadata": {
        "id": "dyNxQjtg2T4v"
      }
    },
    {
      "cell_type": "markdown",
      "source": [
        "Image DJI_0505.jpg is not detected by efficientnetB1 because it is dark image ,so we apply resizing+color to the image."
      ],
      "metadata": {
        "id": "JEpW37KcdKvP"
      }
    },
    {
      "cell_type": "code",
      "source": [
        "from PIL import ImageEnhance\n",
        "from PIL import Image\n",
        "from tensorflow.keras.preprocessing.image import load_img, img_to_array\n",
        "from tensorflow.keras.models import load_model\n",
        "image=Image.open('/content/gdrive/MyDrive/T51+T52BAD+T53BAD+T54BAD+T57BAD +T58BAD/Test/bad_dataset/DJI_0505.jpg')\n",
        "img_resize=image.resize((240,240))\n",
        "#plt.imshow(img_resize,cmap='gray')\n",
        "curr_col=ImageEnhance.Color(img_resize)\n",
        "new_col=1.6\n",
        "img_color=curr_col.enhance(new_col)\n",
        "plt.imshow(img_color)\n",
        "img = img_to_array(img_color)\n",
        "img = img.reshape(1,240,240,3)\n",
        "#print(img.shape)\n",
        "#display(img_brightened)\n",
        "pred=my_model.predict(img)\n",
        "print(pred)\n"
      ],
      "metadata": {
        "id": "59xkF4bC3mjm"
      },
      "execution_count": null,
      "outputs": []
    },
    {
      "cell_type": "markdown",
      "source": [
        "before image proceesing bad image predict good, after image proceesing bad image predict good. so this image proceesing method can not predict correctly."
      ],
      "metadata": {
        "id": "wrMDaIG-2WYI"
      }
    },
    {
      "cell_type": "markdown",
      "source": [
        "Image DJI_0507.jpg is not detected by efficientnetB1 because it is dark image ,so we apply resizing+color to the image."
      ],
      "metadata": {
        "id": "uVWxjpLsdQJu"
      }
    },
    {
      "cell_type": "code",
      "source": [
        "from PIL import ImageEnhance\n",
        "from PIL import Image\n",
        "from tensorflow.keras.preprocessing.image import load_img, img_to_array\n",
        "from tensorflow.keras.models import load_model\n",
        "image=Image.open('/content/gdrive/MyDrive/T51+T52BAD+T53BAD+T54BAD+T57BAD +T58BAD/Test/bad_dataset/DJI_0507.jpg')\n",
        "img_resize=image.resize((240,240))\n",
        "#plt.imshow(img_resize,cmap='gray')\n",
        "curr_col=ImageEnhance.Color(img_resize)\n",
        "new_col=1.6\n",
        "img_color=curr_col.enhance(new_col)\n",
        "plt.imshow(img_color)\n",
        "img = img_to_array(img_color)\n",
        "img = img.reshape(1,240,240,3)\n",
        "#print(img.shape)\n",
        "#display(img_brightened)\n",
        "pred=my_model.predict(img)\n",
        "print(pred)\n"
      ],
      "metadata": {
        "id": "ld4lDTEQ3mue"
      },
      "execution_count": null,
      "outputs": []
    },
    {
      "cell_type": "markdown",
      "source": [
        "before image proceesing bad image predict good, after image proceesing bad image predict good. so this image proceesing method can not predict correctly."
      ],
      "metadata": {
        "id": "t47z7bOo2ZHl"
      }
    },
    {
      "cell_type": "markdown",
      "source": [
        "Image DJI_0509.jpg is not detected by efficientnetB1 because it is dark image ,so we apply resizing+color to the image."
      ],
      "metadata": {
        "id": "vksRD2BEdVyR"
      }
    },
    {
      "cell_type": "code",
      "source": [
        "from PIL import ImageEnhance\n",
        "from PIL import Image\n",
        "from tensorflow.keras.preprocessing.image import load_img, img_to_array\n",
        "from tensorflow.keras.models import load_model\n",
        "image=Image.open('/content/gdrive/MyDrive/T51+T52BAD+T53BAD+T54BAD+T57BAD +T58BAD/Test/bad_dataset/DJI_0509.jpg')\n",
        "img_resize=image.resize((240,240))\n",
        "#plt.imshow(img_resize,cmap='gray')\n",
        "curr_col=ImageEnhance.Color(img_resize)\n",
        "new_col=1.6\n",
        "img_color=curr_col.enhance(new_col)\n",
        "plt.imshow(img_color)\n",
        "img = img_to_array(img_color)\n",
        "img = img.reshape(1,240,240,3)\n",
        "#print(img.shape)\n",
        "#display(img_brightened)\n",
        "pred=my_model.predict(img)\n",
        "print(pred)\n"
      ],
      "metadata": {
        "id": "sfDkejvZ3m38"
      },
      "execution_count": null,
      "outputs": []
    },
    {
      "cell_type": "markdown",
      "source": [
        "before image proceesing bad image predict good, after image proceesing bad image predict good. so this image proceesing method can not predict correctly."
      ],
      "metadata": {
        "id": "KKF5_kcY2bkz"
      }
    },
    {
      "cell_type": "markdown",
      "source": [
        "Image DJI_0608.jpg is not detected by efficientnetB1 because it is dark image ,so we apply resizing+color to the image."
      ],
      "metadata": {
        "id": "8YZ5Sb3kct57"
      }
    },
    {
      "cell_type": "code",
      "source": [
        "from PIL import ImageEnhance\n",
        "from PIL import Image\n",
        "from tensorflow.keras.preprocessing.image import load_img, img_to_array\n",
        "from tensorflow.keras.models import load_model\n",
        "image=Image.open('/content/gdrive/MyDrive/T51+T52BAD+T53BAD+T54BAD+T57BAD +T58BAD/Test/bad_dataset/DJI_0608.jpg')\n",
        "img_resize=image.resize((240,240))\n",
        "#plt.imshow(img_resize,cmap='gray')\n",
        "curr_col=ImageEnhance.Color(img_resize)\n",
        "new_col=1.6\n",
        "img_color=curr_col.enhance(new_col)\n",
        "plt.imshow(img_color)\n",
        "img = img_to_array(img_color)\n",
        "img = img.reshape(1,240,240,3)\n",
        "#print(img.shape)\n",
        "#display(img_brightened)\n",
        "pred=my_model.predict(img)\n",
        "print(pred)\n"
      ],
      "metadata": {
        "id": "xy26vVs4c4Ej"
      },
      "execution_count": null,
      "outputs": []
    },
    {
      "cell_type": "markdown",
      "source": [
        "before image proceesing bad image predict good, after image proceesing bad image predict good. so this image proceesing method can not predict correctly."
      ],
      "metadata": {
        "id": "TPniw1aq2db-"
      }
    },
    {
      "cell_type": "markdown",
      "source": [
        "Image DJI_0610.jpg is not detected by efficientnetB1 because it is dark image ,so we apply resizing+color to the image."
      ],
      "metadata": {
        "id": "5sZMdWiXct_L"
      }
    },
    {
      "cell_type": "code",
      "source": [
        "from PIL import ImageEnhance\n",
        "from PIL import Image\n",
        "from tensorflow.keras.preprocessing.image import load_img, img_to_array\n",
        "from tensorflow.keras.models import load_model\n",
        "image=Image.open('/content/gdrive/MyDrive/T51+T52BAD+T53BAD+T54BAD+T57BAD +T58BAD/Test/bad_dataset/DJI_0610.jpg')\n",
        "img_resize=image.resize((240,240))\n",
        "#plt.imshow(img_resize,cmap='gray')\n",
        "curr_col=ImageEnhance.Color(img_resize)\n",
        "new_col=1.6\n",
        "img_color=curr_col.enhance(new_col)\n",
        "plt.imshow(img_color)\n",
        "img = img_to_array(img_color)\n",
        "img = img.reshape(1,240,240,3)\n",
        "#print(img.shape)\n",
        "#display(img_brightened)\n",
        "pred=my_model.predict(img)\n",
        "print(pred)\n"
      ],
      "metadata": {
        "id": "ldYgWIexc8AV"
      },
      "execution_count": null,
      "outputs": []
    },
    {
      "cell_type": "markdown",
      "source": [
        "before image proceesing bad image predict good, after image proceesing bad image predict good. so this image proceesing method can not predict correctly."
      ],
      "metadata": {
        "id": "E_uydSXS2fsQ"
      }
    },
    {
      "cell_type": "markdown",
      "source": [
        "Image DJI_0976.jpg is not detected by efficientnetB1 because it is dark image ,so we apply resizing+color to the image."
      ],
      "metadata": {
        "id": "BhGTdOx9dafd"
      }
    },
    {
      "cell_type": "code",
      "source": [
        "from PIL import ImageEnhance\n",
        "from PIL import Image\n",
        "from tensorflow.keras.preprocessing.image import load_img, img_to_array\n",
        "from tensorflow.keras.models import load_model\n",
        "image=Image.open('/content/gdrive/MyDrive/T51+T52BAD+T53BAD+T54BAD+T57BAD +T58BAD/Test/bad_dataset/DJI_0976.jpg')\n",
        "img_resize=image.resize((240,240))\n",
        "#plt.imshow(img_resize,cmap='gray')\n",
        "curr_col=ImageEnhance.Color(img_resize)\n",
        "new_col=1.6\n",
        "img_color=curr_col.enhance(new_col)\n",
        "plt.imshow(img_color)\n",
        "img = img_to_array(img_color)\n",
        "img = img.reshape(1,240,240,3)\n",
        "#print(img.shape)\n",
        "#display(img_brightened)\n",
        "pred=my_model.predict(img)\n",
        "print(pred)\n"
      ],
      "metadata": {
        "id": "KN9I38pY3nCM"
      },
      "execution_count": null,
      "outputs": []
    },
    {
      "cell_type": "markdown",
      "source": [
        "before image proceesing bad image predict good, after image proceesing bad image predict good. so this image proceesing method can not predict correctly."
      ],
      "metadata": {
        "id": "v00bONzd2h_G"
      }
    },
    {
      "cell_type": "markdown",
      "source": [
        "Image DJI_0978.jpg is not detected by efficientnetB1 because it is dark image ,so we apply resizing+color to the image."
      ],
      "metadata": {
        "id": "E2mN6pAQde4I"
      }
    },
    {
      "cell_type": "code",
      "source": [
        "from PIL import ImageEnhance\n",
        "from PIL import Image\n",
        "from tensorflow.keras.preprocessing.image import load_img, img_to_array\n",
        "from tensorflow.keras.models import load_model\n",
        "image=Image.open('/content/gdrive/MyDrive/T51+T52BAD+T53BAD+T54BAD+T57BAD +T58BAD/Test/bad_dataset/DJI_0978.jpg')\n",
        "img_resize=image.resize((240,240))\n",
        "#plt.imshow(img_resize,cmap='gray')\n",
        "curr_col=ImageEnhance.Color(img_resize)\n",
        "new_col=1.6\n",
        "img_color=curr_col.enhance(new_col)\n",
        "plt.imshow(img_color)\n",
        "img = img_to_array(img_color)\n",
        "img = img.reshape(1,240,240,3)\n",
        "#print(img.shape)\n",
        "#display(img_brightened)\n",
        "pred=my_model.predict(img)\n",
        "print(pred)\n"
      ],
      "metadata": {
        "id": "a2yYqtbd3nMv"
      },
      "execution_count": null,
      "outputs": []
    },
    {
      "cell_type": "markdown",
      "source": [
        "before image proceesing bad image predict good, after image proceesing bad image predict good. so this image proceesing method can not predict correctly."
      ],
      "metadata": {
        "id": "jA6N0Ie82kM9"
      }
    },
    {
      "cell_type": "markdown",
      "source": [
        "Image DJI_0980.jpg is not detected by efficientnetB1 because it is dark image ,so we apply resizing+color to the image."
      ],
      "metadata": {
        "id": "qFAkZcsddkRJ"
      }
    },
    {
      "cell_type": "code",
      "source": [
        "from PIL import ImageEnhance\n",
        "from PIL import Image\n",
        "from tensorflow.keras.preprocessing.image import load_img, img_to_array\n",
        "from tensorflow.keras.models import load_model\n",
        "image=Image.open('/content/gdrive/MyDrive/T51+T52BAD+T53BAD+T54BAD+T57BAD +T58BAD/Test/bad_dataset/DJI_0980.jpg')\n",
        "img_resize=image.resize((240,240))\n",
        "#plt.imshow(img_resize,cmap='gray')\n",
        "curr_col=ImageEnhance.Color(img_resize)\n",
        "new_col=1.6\n",
        "img_color=curr_col.enhance(new_col)\n",
        "plt.imshow(img_color)\n",
        "img = img_to_array(img_color)\n",
        "img = img.reshape(1,240,240,3)\n",
        "#print(img.shape)\n",
        "#display(img_brightened)\n",
        "pred=my_model.predict(img)\n",
        "print(pred)\n"
      ],
      "metadata": {
        "id": "_3SSreZQ3nWe"
      },
      "execution_count": null,
      "outputs": []
    },
    {
      "cell_type": "markdown",
      "source": [
        "before image proceesing bad image predict good, after image proceesing bad image predict good. so this image proceesing method can not predict correctly."
      ],
      "metadata": {
        "id": "YOVltxUe2mHs"
      }
    },
    {
      "cell_type": "markdown",
      "source": [
        "Image DJI_0982.jpg is not detected by efficientnetB1 because it is dark image ,so we apply resizing+color to the image."
      ],
      "metadata": {
        "id": "Kuf7dUgndowh"
      }
    },
    {
      "cell_type": "code",
      "source": [
        "from PIL import ImageEnhance\n",
        "from PIL import Image\n",
        "from tensorflow.keras.preprocessing.image import load_img, img_to_array\n",
        "from tensorflow.keras.models import load_model\n",
        "image=Image.open('/content/gdrive/MyDrive/T51+T52BAD+T53BAD+T54BAD+T57BAD +T58BAD/Test/bad_dataset/DJI_0982.jpg')\n",
        "img_resize=image.resize((240,240))\n",
        "#plt.imshow(img_resize,cmap='gray')\n",
        "curr_col=ImageEnhance.Color(img_resize)\n",
        "new_col=1.6\n",
        "img_color=curr_col.enhance(new_col)\n",
        "plt.imshow(img_color)\n",
        "img = img_to_array(img_color)\n",
        "img = img.reshape(1,240,240,3)\n",
        "#print(img.shape)\n",
        "#display(img_brightened)\n",
        "pred=my_model.predict(img)\n",
        "print(pred)\n"
      ],
      "metadata": {
        "id": "SxB12Xwf3ngv"
      },
      "execution_count": null,
      "outputs": []
    },
    {
      "cell_type": "markdown",
      "source": [
        "before image proceesing bad image predict good, after image proceesing bad image predict good. so this image proceesing method can not predict correctly."
      ],
      "metadata": {
        "id": "4kfyKdpA2ofY"
      }
    },
    {
      "cell_type": "markdown",
      "source": [
        "Image DJI_0984.jpg is not detected by efficientnetB1 because it is dark image ,so we apply resizing+color to the image."
      ],
      "metadata": {
        "id": "wyXHD9J0dt92"
      }
    },
    {
      "cell_type": "code",
      "source": [
        "from PIL import ImageEnhance\n",
        "from PIL import Image\n",
        "from tensorflow.keras.preprocessing.image import load_img, img_to_array\n",
        "from tensorflow.keras.models import load_model\n",
        "image=Image.open('/content/gdrive/MyDrive/T51+T52BAD+T53BAD+T54BAD+T57BAD +T58BAD/Test/bad_dataset/DJI_0984.jpg')\n",
        "img_resize=image.resize((240,240))\n",
        "#plt.imshow(img_resize,cmap='gray')\n",
        "curr_col=ImageEnhance.Color(img_resize)\n",
        "new_col=1.6\n",
        "img_color=curr_col.enhance(new_col)\n",
        "plt.imshow(img_color)\n",
        "img = img_to_array(img_color)\n",
        "img = img.reshape(1,240,240,3)\n",
        "#print(img.shape)\n",
        "#display(img_brightened)\n",
        "pred=my_model.predict(img)\n",
        "print(pred)\n"
      ],
      "metadata": {
        "id": "-ja3w6b_3nr3"
      },
      "execution_count": null,
      "outputs": []
    },
    {
      "cell_type": "markdown",
      "source": [
        "before image proceesing bad image predict good, after image proceesing bad image predict good. so this image proceesing method can not predict correctly."
      ],
      "metadata": {
        "id": "td0lNjqx2qqq"
      }
    },
    {
      "cell_type": "markdown",
      "source": [
        "Image DJI_0986.jpg is not detected by efficientnetB1 because it is dark image ,so we apply resizing+color to the image."
      ],
      "metadata": {
        "id": "maP2_-G4dx-h"
      }
    },
    {
      "cell_type": "code",
      "source": [
        "from PIL import ImageEnhance\n",
        "from PIL import Image\n",
        "from tensorflow.keras.preprocessing.image import load_img, img_to_array\n",
        "from tensorflow.keras.models import load_model\n",
        "image=Image.open('/content/gdrive/MyDrive/T51+T52BAD+T53BAD+T54BAD+T57BAD +T58BAD/Test/bad_dataset/DJI_0986.jpg')\n",
        "img_resize=image.resize((240,240))\n",
        "#plt.imshow(img_resize,cmap='gray')\n",
        "curr_col=ImageEnhance.Color(img_resize)\n",
        "new_col=1.6\n",
        "img_color=curr_col.enhance(new_col)\n",
        "plt.imshow(img_color)\n",
        "img = img_to_array(img_color)\n",
        "img = img.reshape(1,240,240,3)\n",
        "#print(img.shape)\n",
        "#display(img_brightened)\n",
        "pred=my_model.predict(img)\n",
        "print(pred)\n"
      ],
      "metadata": {
        "id": "8x6KiwLW3n2G"
      },
      "execution_count": null,
      "outputs": []
    },
    {
      "cell_type": "markdown",
      "source": [
        "before image proceesing bad image predict good, after image proceesing bad image predict good. so this image proceesing method can not predict correctly."
      ],
      "metadata": {
        "id": "cnetLVMB2skt"
      }
    },
    {
      "cell_type": "code",
      "source": [
        "from sklearn.metrics import classification_report,confusion_matrix\n",
        "truth=['bad','bad','bad','bad','bad','bad','bad','bad','bad','bad','bad','bad','bad','bad','bad','bad','bad','bad','bad','bad','bad','bad','good','good','good','good','good','good','good','good','good','good','good','good','good','good','good','good','good','good','good','good','good','good','good','good','good','good','good','good','good','good','good','good','good','good','good','good','good','good','good','good','good','good','good','good','good','good','good','good','good','good','good','good','good','good','good','good','good','good','good','good','good','good','good','good']\n",
        "prediction=['good','good','good','good','good','good','good','good','good','good','good','good','good','good','good','good','good','good','good','good','good','good','good','good','good','good','good','good','good','good','good','good','good','good','good','good','good','good','good','good','good','good','good','good','good','good','good','good','good','good','good','good','good','good','good','good','good','good','good','good','good','good','good','good','good','good','good','good','good','good','good','good','good','good','good','good','good','good','good','good','good','good','good','good','good','good']\n",
        "print(classification_report(truth,prediction))\n",
        "print(confusion_matrix(truth,prediction))"
      ],
      "metadata": {
        "id": "xQcwibtyxrKN"
      },
      "execution_count": null,
      "outputs": []
    },
    {
      "cell_type": "markdown",
      "source": [
        "before image processing method  f1-score= 0.74\n",
        "\n",
        "> Image processing method     F1-score\n",
        "\n",
        "1.   resizing+brightness          0.74\n",
        "\n",
        "2.   resizing+contrast            0.74\n",
        "\n",
        "3.   resizing+color               0.74\n",
        "\n"
      ],
      "metadata": {
        "id": "zXXBkxUNeoVT"
      }
    }
  ]
}