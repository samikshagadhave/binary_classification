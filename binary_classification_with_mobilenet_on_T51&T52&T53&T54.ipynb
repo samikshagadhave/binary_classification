{
  "cells": [
    {
      "cell_type": "markdown",
      "metadata": {
        "id": "view-in-github",
        "colab_type": "text"
      },
      "source": [
        "<a href=\"https://colab.research.google.com/github/samikshagadhave/binary_classification/blob/main/binary_classification_with_mobilenet_on_T51%26T52%26T53%26T54.ipynb\" target=\"_parent\"><img src=\"https://colab.research.google.com/assets/colab-badge.svg\" alt=\"Open In Colab\"/></a>"
      ]
    },
    {
      "cell_type": "code",
      "execution_count": null,
      "metadata": {
        "colab": {
          "base_uri": "https://localhost:8080/"
        },
        "id": "Sm274-P8tCEI",
        "outputId": "14248500-9a6d-457b-a15e-7d3793f3696f"
      },
      "outputs": [
        {
          "output_type": "stream",
          "name": "stdout",
          "text": [
            "Drive already mounted at /content/gdrive; to attempt to forcibly remount, call drive.mount(\"/content/gdrive\", force_remount=True).\n"
          ]
        }
      ],
      "source": [
        "from google.colab import drive\n",
        "drive.mount(\"/content/gdrive\")"
      ]
    },
    {
      "cell_type": "code",
      "execution_count": null,
      "metadata": {
        "colab": {
          "base_uri": "https://localhost:8080/"
        },
        "id": "Wky_mmEwUvxR",
        "outputId": "67f64cfa-d88b-493e-cae5-8e70f9dc7f2c"
      },
      "outputs": [
        {
          "output_type": "stream",
          "name": "stdout",
          "text": [
            "/content/gdrive\n"
          ]
        }
      ],
      "source": [
        "%cd /content/gdrive"
      ]
    },
    {
      "cell_type": "code",
      "execution_count": null,
      "metadata": {
        "colab": {
          "base_uri": "https://localhost:8080/"
        },
        "id": "du5chXxegJnn",
        "outputId": "aacf84ad-f369-4536-edd0-8c769712192c"
      },
      "outputs": [
        {
          "output_type": "stream",
          "name": "stdout",
          "text": [
            "bad_dataset folder created and relevant images have been moved\n",
            "bad_dataset folder created and relevant images have been moved\n",
            "bad_dataset folder created and relevant images have been moved\n",
            "bad_dataset folder created and relevant images have been moved\n",
            "bad_dataset folder created and relevant images have been moved\n",
            "bad_dataset folder created and relevant images have been moved\n",
            "bad_dataset folder created and relevant images have been moved\n",
            "bad_dataset folder created and relevant images have been moved\n",
            "bad_dataset folder created and relevant images have been moved\n",
            "bad_dataset folder created and relevant images have been moved\n",
            "bad_dataset folder created and relevant images have been moved\n",
            "bad_dataset folder created and relevant images have been moved\n",
            "bad_dataset folder created and relevant images have been moved\n",
            "bad_dataset folder created and relevant images have been moved\n",
            "bad_dataset folder created and relevant images have been moved\n",
            "bad_dataset folder created and relevant images have been moved\n",
            "bad_dataset folder created and relevant images have been moved\n",
            "bad_dataset folder created and relevant images have been moved\n",
            "bad_dataset folder created and relevant images have been moved\n",
            "bad_dataset folder created and relevant images have been moved\n",
            "bad_dataset folder created and relevant images have been moved\n",
            "bad_dataset folder created and relevant images have been moved\n",
            "bad_dataset folder created and relevant images have been moved\n",
            "bad_dataset folder created and relevant images have been moved\n",
            "bad_dataset folder created and relevant images have been moved\n",
            "bad_dataset folder created and relevant images have been moved\n",
            "bad_dataset folder created and relevant images have been moved\n",
            "good_dataset folder created and relevant images have been moved\n",
            "good_dataset folder created and relevant images have been moved\n",
            "good_dataset folder created and relevant images have been moved\n",
            "good_dataset folder created and relevant images have been moved\n",
            "good_dataset folder created and relevant images have been moved\n",
            "good_dataset folder created and relevant images have been moved\n",
            "good_dataset folder created and relevant images have been moved\n",
            "good_dataset folder created and relevant images have been moved\n",
            "good_dataset folder created and relevant images have been moved\n",
            "good_dataset folder created and relevant images have been moved\n",
            "good_dataset folder created and relevant images have been moved\n",
            "good_dataset folder created and relevant images have been moved\n",
            "good_dataset folder created and relevant images have been moved\n",
            "good_dataset folder created and relevant images have been moved\n",
            "good_dataset folder created and relevant images have been moved\n",
            "good_dataset folder created and relevant images have been moved\n",
            "good_dataset folder created and relevant images have been moved\n",
            "good_dataset folder created and relevant images have been moved\n",
            "good_dataset folder created and relevant images have been moved\n",
            "good_dataset folder created and relevant images have been moved\n",
            "good_dataset folder created and relevant images have been moved\n",
            "good_dataset folder created and relevant images have been moved\n",
            "good_dataset folder created and relevant images have been moved\n",
            "good_dataset folder created and relevant images have been moved\n",
            "good_dataset folder created and relevant images have been moved\n",
            "good_dataset folder created and relevant images have been moved\n",
            "good_dataset folder created and relevant images have been moved\n",
            "good_dataset folder created and relevant images have been moved\n",
            "good_dataset folder created and relevant images have been moved\n",
            "good_dataset folder created and relevant images have been moved\n",
            "good_dataset folder created and relevant images have been moved\n",
            "good_dataset folder created and relevant images have been moved\n",
            "good_dataset folder created and relevant images have been moved\n",
            "good_dataset folder created and relevant images have been moved\n",
            "good_dataset folder created and relevant images have been moved\n",
            "good_dataset folder created and relevant images have been moved\n",
            "good_dataset folder created and relevant images have been moved\n",
            "good_dataset folder created and relevant images have been moved\n",
            "good_dataset folder created and relevant images have been moved\n",
            "good_dataset folder created and relevant images have been moved\n",
            "good_dataset folder created and relevant images have been moved\n",
            "good_dataset folder created and relevant images have been moved\n",
            "good_dataset folder created and relevant images have been moved\n",
            "good_dataset folder created and relevant images have been moved\n",
            "good_dataset folder created and relevant images have been moved\n",
            "good_dataset folder created and relevant images have been moved\n",
            "good_dataset folder created and relevant images have been moved\n",
            "good_dataset folder created and relevant images have been moved\n",
            "good_dataset folder created and relevant images have been moved\n",
            "good_dataset folder created and relevant images have been moved\n",
            "good_dataset folder created and relevant images have been moved\n",
            "good_dataset folder created and relevant images have been moved\n",
            "good_dataset folder created and relevant images have been moved\n",
            "good_dataset folder created and relevant images have been moved\n",
            "good_dataset folder created and relevant images have been moved\n",
            "good_dataset folder created and relevant images have been moved\n",
            "good_dataset folder created and relevant images have been moved\n",
            "good_dataset folder created and relevant images have been moved\n",
            "good_dataset folder created and relevant images have been moved\n",
            "good_dataset folder created and relevant images have been moved\n",
            "good_dataset folder created and relevant images have been moved\n",
            "good_dataset folder created and relevant images have been moved\n",
            "good_dataset folder created and relevant images have been moved\n",
            "good_dataset folder created and relevant images have been moved\n",
            "good_dataset folder created and relevant images have been moved\n",
            "good_dataset folder created and relevant images have been moved\n",
            "good_dataset folder created and relevant images have been moved\n",
            "good_dataset folder created and relevant images have been moved\n",
            "good_dataset folder created and relevant images have been moved\n",
            "good_dataset folder created and relevant images have been moved\n",
            "good_dataset folder created and relevant images have been moved\n",
            "good_dataset folder created and relevant images have been moved\n",
            "good_dataset folder created and relevant images have been moved\n",
            "good_dataset folder created and relevant images have been moved\n",
            "good_dataset folder created and relevant images have been moved\n",
            "good_dataset folder created and relevant images have been moved\n",
            "good_dataset folder created and relevant images have been moved\n",
            "good_dataset folder created and relevant images have been moved\n",
            "good_dataset folder created and relevant images have been moved\n",
            "good_dataset folder created and relevant images have been moved\n",
            "good_dataset folder created and relevant images have been moved\n",
            "good_dataset folder created and relevant images have been moved\n",
            "good_dataset folder created and relevant images have been moved\n",
            "good_dataset folder created and relevant images have been moved\n",
            "good_dataset folder created and relevant images have been moved\n",
            "good_dataset folder created and relevant images have been moved\n",
            "good_dataset folder created and relevant images have been moved\n",
            "good_dataset folder created and relevant images have been moved\n",
            "good_dataset folder created and relevant images have been moved\n",
            "good_dataset folder created and relevant images have been moved\n",
            "good_dataset folder created and relevant images have been moved\n",
            "good_dataset folder created and relevant images have been moved\n",
            "good_dataset folder created and relevant images have been moved\n",
            "good_dataset folder created and relevant images have been moved\n",
            "good_dataset folder created and relevant images have been moved\n",
            "good_dataset folder created and relevant images have been moved\n",
            "good_dataset folder created and relevant images have been moved\n",
            "good_dataset folder created and relevant images have been moved\n",
            "good_dataset folder created and relevant images have been moved\n",
            "good_dataset folder created and relevant images have been moved\n",
            "good_dataset folder created and relevant images have been moved\n",
            "good_dataset folder created and relevant images have been moved\n",
            "good_dataset folder created and relevant images have been moved\n",
            "good_dataset folder created and relevant images have been moved\n",
            "good_dataset folder created and relevant images have been moved\n",
            "good_dataset folder created and relevant images have been moved\n",
            "good_dataset folder created and relevant images have been moved\n",
            "good_dataset folder created and relevant images have been moved\n",
            "good_dataset folder created and relevant images have been moved\n",
            "good_dataset folder created and relevant images have been moved\n",
            "good_dataset folder created and relevant images have been moved\n",
            "good_dataset folder created and relevant images have been moved\n",
            "good_dataset folder created and relevant images have been moved\n",
            "good_dataset folder created and relevant images have been moved\n",
            "good_dataset folder created and relevant images have been moved\n",
            "good_dataset folder created and relevant images have been moved\n",
            "good_dataset folder created and relevant images have been moved\n",
            "good_dataset folder created and relevant images have been moved\n",
            "good_dataset folder created and relevant images have been moved\n",
            "good_dataset folder created and relevant images have been moved\n",
            "good_dataset folder created and relevant images have been moved\n",
            "good_dataset folder created and relevant images have been moved\n",
            "good_dataset folder created and relevant images have been moved\n",
            "good_dataset folder created and relevant images have been moved\n",
            "good_dataset folder created and relevant images have been moved\n",
            "good_dataset folder created and relevant images have been moved\n",
            "good_dataset folder created and relevant images have been moved\n",
            "good_dataset folder created and relevant images have been moved\n",
            "good_dataset folder created and relevant images have been moved\n",
            "good_dataset folder created and relevant images have been moved\n",
            "good_dataset folder created and relevant images have been moved\n",
            "good_dataset folder created and relevant images have been moved\n",
            "good_dataset folder created and relevant images have been moved\n",
            "good_dataset folder created and relevant images have been moved\n",
            "good_dataset folder created and relevant images have been moved\n",
            "good_dataset folder created and relevant images have been moved\n",
            "good_dataset folder created and relevant images have been moved\n",
            "good_dataset folder created and relevant images have been moved\n",
            "good_dataset folder created and relevant images have been moved\n",
            "good_dataset folder created and relevant images have been moved\n",
            "good_dataset folder created and relevant images have been moved\n",
            "good_dataset folder created and relevant images have been moved\n",
            "good_dataset folder created and relevant images have been moved\n",
            "good_dataset folder created and relevant images have been moved\n",
            "good_dataset folder created and relevant images have been moved\n",
            "good_dataset folder created and relevant images have been moved\n",
            "good_dataset folder created and relevant images have been moved\n",
            "good_dataset folder created and relevant images have been moved\n",
            "good_dataset folder created and relevant images have been moved\n",
            "good_dataset folder created and relevant images have been moved\n",
            "good_dataset folder created and relevant images have been moved\n",
            "good_dataset folder created and relevant images have been moved\n",
            "good_dataset folder created and relevant images have been moved\n",
            "good_dataset folder created and relevant images have been moved\n",
            "good_dataset folder created and relevant images have been moved\n",
            "good_dataset folder created and relevant images have been moved\n",
            "good_dataset folder created and relevant images have been moved\n",
            "good_dataset folder created and relevant images have been moved\n",
            "good_dataset folder created and relevant images have been moved\n",
            "good_dataset folder created and relevant images have been moved\n",
            "good_dataset folder created and relevant images have been moved\n",
            "good_dataset folder created and relevant images have been moved\n",
            "good_dataset folder created and relevant images have been moved\n",
            "good_dataset folder created and relevant images have been moved\n",
            "good_dataset folder created and relevant images have been moved\n",
            "bad_dataset folder created and relevant images have been moved\n",
            "bad_dataset folder created and relevant images have been moved\n",
            "bad_dataset folder created and relevant images have been moved\n",
            "bad_dataset folder created and relevant images have been moved\n",
            "bad_dataset folder created and relevant images have been moved\n",
            "bad_dataset folder created and relevant images have been moved\n",
            "bad_dataset folder created and relevant images have been moved\n",
            "bad_dataset folder created and relevant images have been moved\n",
            "bad_dataset folder created and relevant images have been moved\n",
            "bad_dataset folder created and relevant images have been moved\n",
            "bad_dataset folder created and relevant images have been moved\n",
            "bad_dataset folder created and relevant images have been moved\n",
            "bad_dataset folder created and relevant images have been moved\n",
            "bad_dataset folder created and relevant images have been moved\n",
            "bad_dataset folder created and relevant images have been moved\n",
            "bad_dataset folder created and relevant images have been moved\n",
            "bad_dataset folder created and relevant images have been moved\n",
            "bad_dataset folder created and relevant images have been moved\n",
            "good_dataset folder created and relevant images have been moved\n",
            "good_dataset folder created and relevant images have been moved\n",
            "good_dataset folder created and relevant images have been moved\n",
            "good_dataset folder created and relevant images have been moved\n",
            "good_dataset folder created and relevant images have been moved\n",
            "good_dataset folder created and relevant images have been moved\n",
            "good_dataset folder created and relevant images have been moved\n",
            "good_dataset folder created and relevant images have been moved\n",
            "good_dataset folder created and relevant images have been moved\n",
            "good_dataset folder created and relevant images have been moved\n",
            "good_dataset folder created and relevant images have been moved\n",
            "good_dataset folder created and relevant images have been moved\n",
            "good_dataset folder created and relevant images have been moved\n",
            "good_dataset folder created and relevant images have been moved\n",
            "good_dataset folder created and relevant images have been moved\n",
            "good_dataset folder created and relevant images have been moved\n",
            "good_dataset folder created and relevant images have been moved\n",
            "good_dataset folder created and relevant images have been moved\n",
            "good_dataset folder created and relevant images have been moved\n",
            "good_dataset folder created and relevant images have been moved\n",
            "good_dataset folder created and relevant images have been moved\n",
            "good_dataset folder created and relevant images have been moved\n",
            "good_dataset folder created and relevant images have been moved\n",
            "good_dataset folder created and relevant images have been moved\n",
            "good_dataset folder created and relevant images have been moved\n",
            "good_dataset folder created and relevant images have been moved\n",
            "good_dataset folder created and relevant images have been moved\n",
            "good_dataset folder created and relevant images have been moved\n",
            "good_dataset folder created and relevant images have been moved\n",
            "good_dataset folder created and relevant images have been moved\n",
            "good_dataset folder created and relevant images have been moved\n",
            "good_dataset folder created and relevant images have been moved\n",
            "good_dataset folder created and relevant images have been moved\n",
            "good_dataset folder created and relevant images have been moved\n",
            "good_dataset folder created and relevant images have been moved\n",
            "good_dataset folder created and relevant images have been moved\n",
            "good_dataset folder created and relevant images have been moved\n",
            "good_dataset folder created and relevant images have been moved\n",
            "good_dataset folder created and relevant images have been moved\n",
            "good_dataset folder created and relevant images have been moved\n",
            "good_dataset folder created and relevant images have been moved\n",
            "good_dataset folder created and relevant images have been moved\n",
            "good_dataset folder created and relevant images have been moved\n",
            "good_dataset folder created and relevant images have been moved\n",
            "good_dataset folder created and relevant images have been moved\n",
            "good_dataset folder created and relevant images have been moved\n",
            "good_dataset folder created and relevant images have been moved\n",
            "good_dataset folder created and relevant images have been moved\n",
            "good_dataset folder created and relevant images have been moved\n",
            "good_dataset folder created and relevant images have been moved\n",
            "good_dataset folder created and relevant images have been moved\n",
            "good_dataset folder created and relevant images have been moved\n",
            "good_dataset folder created and relevant images have been moved\n",
            "good_dataset folder created and relevant images have been moved\n",
            "good_dataset folder created and relevant images have been moved\n",
            "good_dataset folder created and relevant images have been moved\n",
            "good_dataset folder created and relevant images have been moved\n",
            "good_dataset folder created and relevant images have been moved\n",
            "good_dataset folder created and relevant images have been moved\n",
            "good_dataset folder created and relevant images have been moved\n",
            "good_dataset folder created and relevant images have been moved\n",
            "good_dataset folder created and relevant images have been moved\n",
            "good_dataset folder created and relevant images have been moved\n",
            "good_dataset folder created and relevant images have been moved\n"
          ]
        }
      ],
      "source": [
        "import pandas as pd\n",
        "\n",
        "df=pd.read_excel(r'/content/gdrive/MyDrive/dataset/T51+T52BAD+T53BAD+T54BAD/Train 1.xlsx')\n",
        "\n",
        "df['OR_Gate']=df['Tower']|df['Transmission line']|df['insulator']|df['vibration damper']\n",
        "#print(df['OR_Gate'])\n",
        "\n",
        "Bad_dataset=list(df[df['OR_Gate']==0][\"Image Name\"])\n",
        "#print(Bad_dataset)\n",
        "\n",
        "Good_dataset=list(df[df['OR_Gate']==1][\"Image Name\"])\n",
        "#print(Good_dataset)\n",
        "path=r\"/content/gdrive/MyDrive/dataset/T51+T52BAD+T53BAD+T54BAD/train/\"\n",
        "\n",
        "img_path_Bad_dataset=r\"/content/gdrive/MyDrive/dataset/T51+T52BAD+T53BAD+T54BAD/Train/bad_dataset/\"\n",
        "\n",
        "img_path_Good_dataset =r\"/content/gdrive/MyDrive/dataset/T51+T52BAD+T53BAD+T54BAD/Train/good_dataset/\"\n",
        "import shutil\n",
        "for i in Bad_dataset:\n",
        "   src_path=path+i\n",
        "   #print(src_path)\n",
        "   dest_path=img_path_Bad_dataset+i\n",
        "   #print(dest_path)\n",
        "   temp=shutil.copy(src_path,dest_path)\n",
        "   #print(temp)\n",
        "   print(\"bad_dataset folder created and relevant images have been moved\")\n",
        "for i in Good_dataset:\n",
        "   src_path=path+i\n",
        "   #print(src_path)\n",
        "   dest_path=img_path_Good_dataset+i\n",
        "   #print(dest_path)\n",
        "   temp=shutil.copy(src_path, dest_path)\n",
        "   print(\"good_dataset folder created and relevant images have been moved\")\n",
        "\n",
        "\n",
        "df=pd.read_excel(r'/content/gdrive/MyDrive/dataset/T51+T52BAD+T53BAD+T54BAD/Test 1.xlsx')\n",
        "\n",
        "df['OR_Gate']=df['Tower']|df['Transmission line']|df['insulator']|df['vibration damper']\n",
        "#print(df['OR_Gate'])\n",
        "\n",
        "Bad_dataset=list(df[df['OR_Gate']==0][\"Image Name\"])\n",
        "Good_dataset=list(df[df['OR_Gate']==1][\"Image Name\"])\n",
        "#print(Good_dataset)\n",
        "path=r\"/content/gdrive/MyDrive/dataset/T51+T52BAD+T53BAD+T54BAD/test/\"\n",
        "\n",
        "img_path_Bad_dataset=r\"/content/gdrive/MyDrive/dataset/T51+T52BAD+T53BAD+T54BAD/Test/bad_dataset/\"\n",
        "img_path_Good_dataset =r\"/content/gdrive/MyDrive/dataset/T51+T52BAD+T53BAD+T54BAD/Test/good_dataset/\"\n",
        "import shutil\n",
        "for i in Bad_dataset:\n",
        "   src_path=path+i\n",
        "   #print(src_path)\n",
        "   dest_path=img_path_Bad_dataset+i\n",
        "   #print(dest_path)\n",
        "   temp=shutil.copy(src_path,dest_path)\n",
        "   #print(temp)\n",
        "   print(\"bad_dataset folder created and relevant images have been moved\")\n",
        "for i in Good_dataset:\n",
        "   src_path=path+i\n",
        "   #print(src_path)\n",
        "   dest_path=img_path_Good_dataset+i\n",
        "   #print(dest_path)\n",
        "   temp=shutil.copy(src_path, dest_path)\n",
        "   print(\"good_dataset folder created and relevant images have been moved\")\n"
      ]
    },
    {
      "cell_type": "code",
      "execution_count": null,
      "metadata": {
        "colab": {
          "base_uri": "https://localhost:8080/"
        },
        "id": "RUuIX4ZpZVkT",
        "outputId": "e20c4dd1-bbc2-4e83-f5f4-4a159da51a50"
      },
      "outputs": [
        {
          "output_type": "stream",
          "name": "stdout",
          "text": [
            "Found 191 files belonging to 2 classes.\n",
            "Found 82 files belonging to 2 classes.\n",
            "<_BatchDataset element_spec=(TensorSpec(shape=(None, 128, 128, 3), dtype=tf.float32, name=None), TensorSpec(shape=(None,), dtype=tf.int32, name=None))>\n",
            "<_BatchDataset element_spec=(TensorSpec(shape=(None, 128, 128, 3), dtype=tf.float32, name=None), TensorSpec(shape=(None,), dtype=tf.int32, name=None))>\n"
          ]
        }
      ],
      "source": [
        "import tensorflow as tf\n",
        "from tensorflow import keras\n",
        "from tensorflow.keras.layers import Dense, Flatten,Dropout,Conv2D,GlobalAveragePooling2D\n",
        "from tensorflow.keras.preprocessing import image\n",
        "from tensorflow.keras.models import Sequential\n",
        "import numpy as np\n",
        "import pandas as pd\n",
        "import os\n",
        "import cv2\n",
        "import matplotlib.pyplot as plt\n",
        "\n",
        "train_ds=keras.utils.image_dataset_from_directory(\n",
        "    directory=r'/content/gdrive/MyDrive/dataset/T51+T52BAD+T53BAD+T54BAD/Train',\n",
        "    labels='inferred',\n",
        "    label_mode='int',\n",
        "    batch_size=32,\n",
        "    image_size=(128,128)\n",
        ")\n",
        "validation_ds=keras.utils.image_dataset_from_directory(\n",
        "    directory=r'/content/gdrive/MyDrive/dataset/T51+T52BAD+T53BAD+T54BAD/Test',\n",
        "    labels='inferred',\n",
        "    label_mode='int',\n",
        "    batch_size=32,\n",
        "    image_size=(128,128)\n",
        ")\n",
        "\n",
        "print(train_ds)\n",
        "print(validation_ds)\n"
      ]
    },
    {
      "cell_type": "code",
      "source": [
        "from tensorflow.keras.applications import MobileNetV2\n",
        "model=MobileNetV2(include_top=False,input_shape=(128,128,3),pooling='avg',weights='imagenet')\n",
        "my_model=Sequential([model,\n",
        "\n",
        "                     Dense(512,activation='relu'),\n",
        "                     Dropout(0.2),\n",
        "                     Dense(1,activation='sigmoid'),\n",
        "                     ])\n",
        "\n",
        "my_model.summary()\n",
        "\n",
        "\n"
      ],
      "metadata": {
        "colab": {
          "base_uri": "https://localhost:8080/"
        },
        "id": "lBBKPD3fu8jV",
        "outputId": "bdf2fb9d-2e4b-4cee-e252-4a79163fb2d9"
      },
      "execution_count": null,
      "outputs": [
        {
          "output_type": "stream",
          "name": "stdout",
          "text": [
            "Model: \"sequential\"\n",
            "_________________________________________________________________\n",
            " Layer (type)                Output Shape              Param #   \n",
            "=================================================================\n",
            " mobilenetv2_1.00_128 (Funct  (None, 1280)             2257984   \n",
            " ional)                                                          \n",
            "                                                                 \n",
            " dense (Dense)               (None, 512)               655872    \n",
            "                                                                 \n",
            " dropout (Dropout)           (None, 512)               0         \n",
            "                                                                 \n",
            " dense_1 (Dense)             (None, 1)                 513       \n",
            "                                                                 \n",
            "=================================================================\n",
            "Total params: 2,914,369\n",
            "Trainable params: 2,880,257\n",
            "Non-trainable params: 34,112\n",
            "_________________________________________________________________\n"
          ]
        }
      ]
    },
    {
      "cell_type": "code",
      "source": [
        "train_ds=train_ds.prefetch(tf.data.AUTOTUNE)\n",
        "train_ds"
      ],
      "metadata": {
        "colab": {
          "base_uri": "https://localhost:8080/"
        },
        "id": "22po7AacwVVA",
        "outputId": "d6178e4c-23c5-4a21-8291-961be504cbf8"
      },
      "execution_count": null,
      "outputs": [
        {
          "output_type": "execute_result",
          "data": {
            "text/plain": [
              "<_PrefetchDataset element_spec=(TensorSpec(shape=(None, 128, 128, 3), dtype=tf.float32, name=None), TensorSpec(shape=(None,), dtype=tf.int32, name=None))>"
            ]
          },
          "metadata": {},
          "execution_count": 7
        }
      ]
    },
    {
      "cell_type": "code",
      "source": [
        "validation_ds=validation_ds.prefetch(tf.data.AUTOTUNE)\n",
        "validation_ds"
      ],
      "metadata": {
        "colab": {
          "base_uri": "https://localhost:8080/"
        },
        "id": "pl3K2Unj62zi",
        "outputId": "db1ecafb-3a0e-4203-83d5-c0c2294a275e"
      },
      "execution_count": null,
      "outputs": [
        {
          "output_type": "execute_result",
          "data": {
            "text/plain": [
              "<_PrefetchDataset element_spec=(TensorSpec(shape=(None, 128, 128, 3), dtype=tf.float32, name=None), TensorSpec(shape=(None,), dtype=tf.int32, name=None))>"
            ]
          },
          "metadata": {},
          "execution_count": 8
        }
      ]
    },
    {
      "cell_type": "code",
      "execution_count": null,
      "metadata": {
        "id": "43hilu7Su8V_"
      },
      "outputs": [],
      "source": [
        "from tensorflow.keras.optimizers import Adam\n",
        "from tensorflow.keras.losses import binary_crossentropy\n",
        "from tensorflow.keras import metrics\n",
        "metrics=['accuracy']\n",
        "model.compile(loss='binary_crossentropy',optimizer=Adam(learning_rate=0.001),metrics=metrics)"
      ]
    },
    {
      "cell_type": "code",
      "execution_count": null,
      "metadata": {
        "colab": {
          "base_uri": "https://localhost:8080/"
        },
        "id": "cBtSXjAzvSIv",
        "outputId": "ccec0279-8096-4066-b671-7464fe873856"
      },
      "outputs": [
        {
          "output_type": "stream",
          "name": "stdout",
          "text": [
            "Epoch 1/30\n",
            "6/6 [==============================] - 62s 3s/step - loss: 5.2188 - accuracy: 0.0052 - val_loss: 9.0432 - val_accuracy: 0.0000e+00\n",
            "Epoch 2/30\n",
            "6/6 [==============================] - 19s 1s/step - loss: 4.4077 - accuracy: 0.0000e+00 - val_loss: 9.4203 - val_accuracy: 0.0000e+00\n",
            "Epoch 3/30\n",
            "6/6 [==============================] - 24s 2s/step - loss: 3.7979 - accuracy: 0.0000e+00 - val_loss: 9.7768 - val_accuracy: 0.0000e+00\n",
            "Epoch 4/30\n",
            "6/6 [==============================] - 24s 1s/step - loss: 3.1798 - accuracy: 0.0000e+00 - val_loss: 10.1543 - val_accuracy: 0.0000e+00\n",
            "Epoch 5/30\n",
            "6/6 [==============================] - 24s 2s/step - loss: 2.3332 - accuracy: 0.0000e+00 - val_loss: 10.4049 - val_accuracy: 0.0000e+00\n",
            "Epoch 6/30\n",
            "6/6 [==============================] - 19s 1s/step - loss: 1.6547 - accuracy: 0.0000e+00 - val_loss: 9.8940 - val_accuracy: 0.0000e+00\n",
            "Epoch 7/30\n",
            "6/6 [==============================] - 21s 1s/step - loss: 1.3425 - accuracy: 0.0000e+00 - val_loss: 9.1898 - val_accuracy: 0.0000e+00\n",
            "Epoch 8/30\n",
            "6/6 [==============================] - 19s 1s/step - loss: 1.0314 - accuracy: 0.0000e+00 - val_loss: 9.3810 - val_accuracy: 0.0000e+00\n",
            "Epoch 9/30\n",
            "6/6 [==============================] - 21s 1s/step - loss: 0.8816 - accuracy: 0.0000e+00 - val_loss: 9.8455 - val_accuracy: 0.0000e+00\n",
            "Epoch 10/30\n",
            "6/6 [==============================] - 21s 1s/step - loss: 0.7468 - accuracy: 0.0000e+00 - val_loss: 10.1728 - val_accuracy: 0.0000e+00\n",
            "Epoch 11/30\n",
            "6/6 [==============================] - 21s 1s/step - loss: 0.6844 - accuracy: 0.0000e+00 - val_loss: 10.4792 - val_accuracy: 0.0000e+00\n",
            "Epoch 12/30\n",
            "6/6 [==============================] - 19s 1s/step - loss: 0.6255 - accuracy: 0.0000e+00 - val_loss: 10.7331 - val_accuracy: 0.0000e+00\n",
            "Epoch 13/30\n",
            "6/6 [==============================] - 21s 1s/step - loss: 0.5661 - accuracy: 0.0000e+00 - val_loss: 10.8861 - val_accuracy: 0.0000e+00\n",
            "Epoch 14/30\n",
            "6/6 [==============================] - 19s 1s/step - loss: 0.5090 - accuracy: 0.0000e+00 - val_loss: 11.0221 - val_accuracy: 0.0000e+00\n",
            "Epoch 15/30\n",
            "6/6 [==============================] - 21s 1s/step - loss: 0.4630 - accuracy: 0.0000e+00 - val_loss: 11.1579 - val_accuracy: 0.0000e+00\n",
            "Epoch 16/30\n",
            "6/6 [==============================] - 28s 2s/step - loss: 0.4194 - accuracy: 0.0000e+00 - val_loss: 11.2534 - val_accuracy: 0.0000e+00\n",
            "Epoch 17/30\n",
            "6/6 [==============================] - 19s 1s/step - loss: 0.3957 - accuracy: 0.0000e+00 - val_loss: 11.2977 - val_accuracy: 0.0000e+00\n",
            "Epoch 18/30\n",
            "6/6 [==============================] - 21s 1s/step - loss: 0.3609 - accuracy: 0.0000e+00 - val_loss: 11.3179 - val_accuracy: 0.0000e+00\n",
            "Epoch 19/30\n",
            "6/6 [==============================] - 19s 1s/step - loss: 0.3433 - accuracy: 0.0000e+00 - val_loss: 11.3289 - val_accuracy: 0.0000e+00\n",
            "Epoch 20/30\n",
            "6/6 [==============================] - 24s 2s/step - loss: 0.3151 - accuracy: 0.0000e+00 - val_loss: 11.3380 - val_accuracy: 0.0000e+00\n",
            "Epoch 21/30\n",
            "6/6 [==============================] - 19s 1s/step - loss: 0.2916 - accuracy: 0.0000e+00 - val_loss: 11.3421 - val_accuracy: 0.0000e+00\n",
            "Epoch 22/30\n",
            "6/6 [==============================] - 21s 2s/step - loss: 0.2705 - accuracy: 0.0000e+00 - val_loss: 11.3431 - val_accuracy: 0.0000e+00\n",
            "Epoch 23/30\n",
            "6/6 [==============================] - 19s 1s/step - loss: 0.2521 - accuracy: 0.0000e+00 - val_loss: 11.3287 - val_accuracy: 0.0000e+00\n",
            "Epoch 24/30\n",
            "6/6 [==============================] - 21s 1s/step - loss: 0.2303 - accuracy: 0.0000e+00 - val_loss: 11.3057 - val_accuracy: 0.0000e+00\n",
            "Epoch 25/30\n",
            "6/6 [==============================] - 19s 1s/step - loss: 0.2025 - accuracy: 0.0000e+00 - val_loss: 11.2699 - val_accuracy: 0.0000e+00\n",
            "Epoch 26/30\n",
            "6/6 [==============================] - 24s 2s/step - loss: 0.1796 - accuracy: 0.0000e+00 - val_loss: 11.2218 - val_accuracy: 0.0000e+00\n",
            "Epoch 27/30\n",
            "6/6 [==============================] - 19s 1s/step - loss: 0.1666 - accuracy: 0.0000e+00 - val_loss: 11.1720 - val_accuracy: 0.0000e+00\n",
            "Epoch 28/30\n",
            "6/6 [==============================] - 21s 1s/step - loss: 0.1390 - accuracy: 0.0052 - val_loss: 11.1405 - val_accuracy: 0.0000e+00\n",
            "Epoch 29/30\n",
            "6/6 [==============================] - 19s 1s/step - loss: 0.1310 - accuracy: 0.0052 - val_loss: 11.1109 - val_accuracy: 0.0000e+00\n",
            "Epoch 30/30\n",
            "6/6 [==============================] - 21s 1s/step - loss: 0.1276 - accuracy: 0.0000e+00 - val_loss: 11.1023 - val_accuracy: 0.0000e+00\n"
          ]
        }
      ],
      "source": [
        "history=model.fit(train_ds,epochs=30,validation_data=validation_ds)"
      ]
    },
    {
      "cell_type": "code",
      "source": [
        "import matplotlib.pyplot as plt\n",
        "plt.plot(history.history['accuracy'],color='red',label='train')\n",
        "plt.plot(history.history['val_accuracy'],color='blue',label='validation')\n",
        "plt.legend()\n",
        "plt.show()"
      ],
      "metadata": {
        "colab": {
          "base_uri": "https://localhost:8080/",
          "height": 430
        },
        "id": "idLOFQgSuXja",
        "outputId": "a92d09ca-4761-41e8-c588-dc7323804441"
      },
      "execution_count": null,
      "outputs": [
        {
          "output_type": "display_data",
          "data": {
            "text/plain": [
              "<Figure size 640x480 with 1 Axes>"
            ],
            "image/png": "[encoded data removed]"
          },
          "metadata": {}
        }
      ]
    },
    {
      "cell_type": "code",
      "source": [
        "import matplotlib.pyplot as plt\n",
        "plt.plot(history.history['loss'],color='red',label='train')\n",
        "plt.plot(history.history['val_loss'],color='blue',label='validation')\n",
        "plt.legend()\n",
        "plt.show()"
      ],
      "metadata": {
        "colab": {
          "base_uri": "https://localhost:8080/",
          "height": 430
        },
        "id": "focwwyEpuXqJ",
        "outputId": "46d6546a-3e80-49c2-e469-4d3e08113df4"
      },
      "execution_count": null,
      "outputs": [
        {
          "output_type": "display_data",
          "data": {
            "text/plain": [
              "<Figure size 640x480 with 1 Axes>"
            ],
            "image/png": "[encoded data removed]"
          },
          "metadata": {}
        }
      ]
    },
    {
      "cell_type": "code",
      "source": [
        "import cv2\n",
        "image=cv2.imread('/content/gdrive/MyDrive/dataset/T51+T52BAD+T53BAD+T54BAD/Test/bad_dataset/DJI_0066.jpg')\n",
        "image_resized=cv2.resize(image,(128,128))\n",
        "image=np.expand_dims(image_resized,axis=0)\n",
        "pred=model.predict(image)\n",
        "print(pred)"
      ],
      "metadata": {
        "colab": {
          "base_uri": "https://localhost:8080/"
        },
        "id": "9S2axkV8uX-x",
        "outputId": "e0cbfc36-1f5f-4311-b716-adb97f84dc40"
      },
      "execution_count": null,
      "outputs": [
        {
          "output_type": "stream",
          "name": "stdout",
          "text": [
            "1/1 [==============================] - 0s 32ms/step\n",
            "[[0.        0.        0.        ... 0.        4.7172513 0.       ]]\n"
          ]
        }
      ]
    },
    {
      "cell_type": "code",
      "source": [
        "import cv2\n",
        "image=cv2.imread('/content/gdrive/MyDrive/dataset/T51+T52BAD+T53BAD+T54BAD/Test/bad_dataset/DJI_0489.jpg')\n",
        "image_resized=cv2.resize(image,(128,128))\n",
        "image=np.expand_dims(image_resized,axis=0)\n",
        "pred=model.predict(image)\n",
        "print(pred)\n"
      ],
      "metadata": {
        "colab": {
          "base_uri": "https://localhost:8080/"
        },
        "id": "VMyv3TmfuYHZ",
        "outputId": "c5b6629f-8fc6-4657-8022-078333b2d200"
      },
      "execution_count": null,
      "outputs": [
        {
          "output_type": "stream",
          "name": "stdout",
          "text": [
            "1/1 [==============================] - 0s 23ms/step\n",
            "[[0.       0.       0.       ... 0.       4.697802 0.      ]]\n"
          ]
        }
      ]
    },
    {
      "cell_type": "code",
      "source": [
        "import cv2\n",
        "image=cv2.imread('/content/gdrive/MyDrive/dataset/T51+T52BAD+T53BAD+T54BAD/Test/bad_dataset/DJI_0491.jpg')\n",
        "image_resized=cv2.resize(image,(128,128))\n",
        "image=np.expand_dims(image_resized,axis=0)\n",
        "pred=model.predict(image)\n",
        "print(pred)"
      ],
      "metadata": {
        "colab": {
          "base_uri": "https://localhost:8080/"
        },
        "id": "4TCIn3-YyImC",
        "outputId": "230fb632-da7f-424f-d25f-330fbe8e8152"
      },
      "execution_count": null,
      "outputs": [
        {
          "output_type": "stream",
          "name": "stdout",
          "text": [
            "1/1 [==============================] - 0s 27ms/step\n",
            "[[0.        0.        0.        ... 0.        4.6973667 0.       ]]\n"
          ]
        }
      ]
    },
    {
      "cell_type": "code",
      "source": [
        "import cv2\n",
        "image=cv2.imread('/content/gdrive/MyDrive/dataset/T51+T52BAD+T53BAD+T54BAD/Test/bad_dataset/DJI_0493.jpg')\n",
        "image_resized=cv2.resize(image,(128,128))\n",
        "image=np.expand_dims(image_resized,axis=0)\n",
        "pred=model.predict(image)\n",
        "print(pred)"
      ],
      "metadata": {
        "colab": {
          "base_uri": "https://localhost:8080/"
        },
        "id": "aI_YgSGOyIvH",
        "outputId": "61786c25-126d-43df-bf78-64401991fdfe"
      },
      "execution_count": null,
      "outputs": [
        {
          "output_type": "stream",
          "name": "stdout",
          "text": [
            "1/1 [==============================] - 0s 24ms/step\n",
            "[[0.       0.       0.       ... 0.       4.634754 0.      ]]\n"
          ]
        }
      ]
    },
    {
      "cell_type": "code",
      "source": [
        "import cv2\n",
        "image=cv2.imread('/content/gdrive/MyDrive/dataset/T51+T52BAD+T53BAD+T54BAD/Test/bad_dataset/DJI_0495.jpg')\n",
        "image_resized=cv2.resize(image,(128,128))\n",
        "image=np.expand_dims(image_resized,axis=0)\n",
        "pred=model.predict(image)\n",
        "print(pred)"
      ],
      "metadata": {
        "colab": {
          "base_uri": "https://localhost:8080/"
        },
        "id": "aEo4t7JSyI0f",
        "outputId": "9243a7d0-30e9-4c60-8fcd-aa5c6de2765c"
      },
      "execution_count": null,
      "outputs": [
        {
          "output_type": "stream",
          "name": "stdout",
          "text": [
            "1/1 [==============================] - 0s 23ms/step\n",
            "[[0.        0.        0.        ... 0.        4.7304897 0.       ]]\n"
          ]
        }
      ]
    },
    {
      "cell_type": "code",
      "source": [
        "import cv2\n",
        "image=cv2.imread('/content/gdrive/MyDrive/dataset/T51+T52BAD+T53BAD+T54BAD/Test/bad_dataset/DJI_0497.jpg')\n",
        "image_resized=cv2.resize(image,(128,128))\n",
        "image=np.expand_dims(image_resized,axis=0)\n",
        "pred=model.predict(image)\n",
        "print(pred)"
      ],
      "metadata": {
        "colab": {
          "base_uri": "https://localhost:8080/"
        },
        "id": "2OZVArZfyI5v",
        "outputId": "f8e1560b-8ca2-4c59-e269-9b3d513a266c"
      },
      "execution_count": null,
      "outputs": [
        {
          "output_type": "stream",
          "name": "stdout",
          "text": [
            "1/1 [==============================] - 0s 29ms/step\n",
            "[[0.       0.       0.       ... 0.       4.688527 0.      ]]\n"
          ]
        }
      ]
    },
    {
      "cell_type": "code",
      "source": [
        "import cv2\n",
        "image=cv2.imread('/content/gdrive/MyDrive/dataset/T51+T52BAD+T53BAD+T54BAD/Test/bad_dataset/DJI_0499.jpg')\n",
        "image_resized=cv2.resize(image,(128,128))\n",
        "image=np.expand_dims(image_resized,axis=0)\n",
        "pred=model.predict(image)\n",
        "print(pred)"
      ],
      "metadata": {
        "colab": {
          "base_uri": "https://localhost:8080/"
        },
        "id": "XER8ZPSsyI-X",
        "outputId": "e9fa0007-ad27-4111-e57d-665ae5e1ceb9"
      },
      "execution_count": null,
      "outputs": [
        {
          "output_type": "stream",
          "name": "stdout",
          "text": [
            "1/1 [==============================] - 0s 23ms/step\n",
            "[[0.        0.        0.        ... 0.        4.6390853 0.       ]]\n"
          ]
        }
      ]
    },
    {
      "cell_type": "code",
      "source": [
        "import cv2\n",
        "image=cv2.imread('/content/gdrive/MyDrive/dataset/T51+T52BAD+T53BAD+T54BAD/Test/bad_dataset/DJI_0501.jpg')\n",
        "image_resized=cv2.resize(image,(128,128))\n",
        "image=np.expand_dims(image_resized,axis=0)\n",
        "pred=model.predict(image)\n",
        "print(pred)"
      ],
      "metadata": {
        "colab": {
          "base_uri": "https://localhost:8080/"
        },
        "id": "itQI98K2yJF4",
        "outputId": "81410ef6-f2fe-4f9d-d044-d88694a60785"
      },
      "execution_count": null,
      "outputs": [
        {
          "output_type": "stream",
          "name": "stdout",
          "text": [
            "1/1 [==============================] - 0s 27ms/step\n",
            "[[0.       0.       0.       ... 0.       4.797221 0.      ]]\n"
          ]
        }
      ]
    },
    {
      "cell_type": "code",
      "source": [
        "import cv2\n",
        "image=cv2.imread('/content/gdrive/MyDrive/dataset/T51+T52BAD+T53BAD+T54BAD/Test/bad_dataset/DJI_0503.jpg')\n",
        "image_resized=cv2.resize(image,(128,128))\n",
        "image=np.expand_dims(image_resized,axis=0)\n",
        "pred=model.predict(image)\n",
        "print(pred)"
      ],
      "metadata": {
        "colab": {
          "base_uri": "https://localhost:8080/"
        },
        "id": "mqD_ATasyJNK",
        "outputId": "b20f36d0-5a2b-4fe0-853c-cd473701a3c8"
      },
      "execution_count": null,
      "outputs": [
        {
          "output_type": "stream",
          "name": "stdout",
          "text": [
            "1/1 [==============================] - 0s 23ms/step\n",
            "[[0.        0.        0.        ... 0.        4.3274555 0.       ]]\n"
          ]
        }
      ]
    },
    {
      "cell_type": "code",
      "source": [
        "import cv2\n",
        "image=cv2.imread('/content/gdrive/MyDrive/dataset/T51+T52BAD+T53BAD+T54BAD/Test/bad_dataset/DJI_0505.jpg')\n",
        "image_resized=cv2.resize(image,(128,128))\n",
        "image=np.expand_dims(image_resized,axis=0)\n",
        "pred=model.predict(image)\n",
        "print(pred)"
      ],
      "metadata": {
        "colab": {
          "base_uri": "https://localhost:8080/"
        },
        "id": "hcZzpJPZyJaR",
        "outputId": "32385ad4-6406-4933-a68d-0c94d6e9a782"
      },
      "execution_count": null,
      "outputs": [
        {
          "output_type": "stream",
          "name": "stdout",
          "text": [
            "1/1 [==============================] - 0s 29ms/step\n",
            "[[0.        0.        0.        ... 0.        4.7085557 0.       ]]\n"
          ]
        }
      ]
    },
    {
      "cell_type": "code",
      "source": [
        "import cv2\n",
        "image=cv2.imread('/content/gdrive/MyDrive/dataset/T51+T52BAD+T53BAD+T54BAD/Test/bad_dataset/DJI_0507.jpg')\n",
        "image_resized=cv2.resize(image,(128,128))\n",
        "image=np.expand_dims(image_resized,axis=0)\n",
        "pred=model.predict(image)\n",
        "print(pred)"
      ],
      "metadata": {
        "colab": {
          "base_uri": "https://localhost:8080/"
        },
        "id": "qalg6PIcyJeX",
        "outputId": "5353a208-a6c7-4712-9391-da58256900b7"
      },
      "execution_count": null,
      "outputs": [
        {
          "output_type": "stream",
          "name": "stdout",
          "text": [
            "1/1 [==============================] - 0s 28ms/step\n",
            "[[0.        0.        0.        ... 0.        4.7496285 0.       ]]\n"
          ]
        }
      ]
    },
    {
      "cell_type": "code",
      "source": [
        "import cv2\n",
        "image=cv2.imread('/content/gdrive/MyDrive/dataset/T51+T52BAD+T53BAD+T54BAD/Test/bad_dataset/DJI_0509.jpg')\n",
        "image_resized=cv2.resize(image,(128,128))\n",
        "image=np.expand_dims(image_resized,axis=0)\n",
        "pred=model.predict(image)\n",
        "print(pred)"
      ],
      "metadata": {
        "colab": {
          "base_uri": "https://localhost:8080/"
        },
        "id": "45gJQtu8yJic",
        "outputId": "23229293-a9d4-4681-b5cd-d11daf7db9bf"
      },
      "execution_count": null,
      "outputs": [
        {
          "output_type": "stream",
          "name": "stdout",
          "text": [
            "1/1 [==============================] - 0s 38ms/step\n",
            "[[0.        0.        0.        ... 0.        5.3668747 0.       ]]\n"
          ]
        }
      ]
    },
    {
      "cell_type": "code",
      "source": [
        "import cv2\n",
        "image=cv2.imread('/content/gdrive/MyDrive/dataset/T51+T52BAD+T53BAD+T54BAD/Test/bad_dataset/DJI_0976.jpg')\n",
        "image_resized=cv2.resize(image,(128,128))\n",
        "image=np.expand_dims(image_resized,axis=0)\n",
        "pred=model.predict(image)\n",
        "print(pred)"
      ],
      "metadata": {
        "colab": {
          "base_uri": "https://localhost:8080/"
        },
        "id": "i7A98hWsyJrh",
        "outputId": "84df8a72-d5da-4ba5-c877-b0b2d4b54e0b"
      },
      "execution_count": null,
      "outputs": [
        {
          "output_type": "stream",
          "name": "stdout",
          "text": [
            "1/1 [==============================] - 0s 24ms/step\n",
            "[[0.        0.        0.        ... 0.        4.7504277 0.       ]]\n"
          ]
        }
      ]
    },
    {
      "cell_type": "code",
      "source": [
        "import cv2\n",
        "image=cv2.imread('/content/gdrive/MyDrive/dataset/T51+T52BAD+T53BAD+T54BAD/Test/bad_dataset/DJI_0978.jpg')\n",
        "image_resized=cv2.resize(image,(128,128))\n",
        "image=np.expand_dims(image_resized,axis=0)\n",
        "pred=model.predict(image)\n",
        "print(pred)"
      ],
      "metadata": {
        "colab": {
          "base_uri": "https://localhost:8080/"
        },
        "id": "YCmCr-ztyJvY",
        "outputId": "f91c7880-3e63-4def-e498-a9c8c8846e63"
      },
      "execution_count": null,
      "outputs": [
        {
          "output_type": "stream",
          "name": "stdout",
          "text": [
            "1/1 [==============================] - 0s 23ms/step\n",
            "[[0.       0.       0.       ... 0.       4.919549 0.      ]]\n"
          ]
        }
      ]
    },
    {
      "cell_type": "code",
      "source": [
        "import cv2\n",
        "image=cv2.imread('/content/gdrive/MyDrive/dataset/T51+T52BAD+T53BAD+T54BAD/Test/bad_dataset/DJI_0980.jpg')\n",
        "image_resized=cv2.resize(image,(128,128))\n",
        "image=np.expand_dims(image_resized,axis=0)\n",
        "pred=model.predict(image)\n",
        "print(pred)"
      ],
      "metadata": {
        "colab": {
          "base_uri": "https://localhost:8080/"
        },
        "id": "sPhR9XE0yJzf",
        "outputId": "9e47bc0b-f33e-44c9-c42d-04f2d51cfe3d"
      },
      "execution_count": null,
      "outputs": [
        {
          "output_type": "stream",
          "name": "stdout",
          "text": [
            "1/1 [==============================] - 0s 24ms/step\n",
            "[[0.       0.       0.       ... 0.       5.033539 0.      ]]\n"
          ]
        }
      ]
    },
    {
      "cell_type": "code",
      "source": [
        "import cv2\n",
        "image=cv2.imread('/content/gdrive/MyDrive/dataset/T51+T52BAD+T53BAD+T54BAD/Test/bad_dataset/DJI_0982.jpg')\n",
        "image_resized=cv2.resize(image,(128,128))\n",
        "image=np.expand_dims(image_resized,axis=0)\n",
        "pred=model.predict(image)\n",
        "print(pred)"
      ],
      "metadata": {
        "colab": {
          "base_uri": "https://localhost:8080/"
        },
        "id": "1hogmtY6yJ4H",
        "outputId": "5569df3c-ce4f-4828-89df-9a8ebcc9626a"
      },
      "execution_count": null,
      "outputs": [
        {
          "output_type": "stream",
          "name": "stdout",
          "text": [
            "1/1 [==============================] - 0s 24ms/step\n",
            "[[0.        0.        0.        ... 0.        4.7572503 0.       ]]\n"
          ]
        }
      ]
    },
    {
      "cell_type": "code",
      "source": [
        "import cv2\n",
        "image=cv2.imread('/content/gdrive/MyDrive/dataset/T51+T52BAD+T53BAD+T54BAD/Test/bad_dataset/DJI_0984.jpg')\n",
        "image_resized=cv2.resize(image,(128,128))\n",
        "image=np.expand_dims(image_resized,axis=0)\n",
        "pred=model.predict(image)\n",
        "print(pred)"
      ],
      "metadata": {
        "colab": {
          "base_uri": "https://localhost:8080/"
        },
        "id": "yKgIi8cdyJ9p",
        "outputId": "7b8a9d28-afc1-42d0-ed3b-cb7dbdb06111"
      },
      "execution_count": null,
      "outputs": [
        {
          "output_type": "stream",
          "name": "stdout",
          "text": [
            "1/1 [==============================] - 0s 23ms/step\n",
            "[[0.        0.        0.        ... 0.        5.1376934 0.       ]]\n"
          ]
        }
      ]
    },
    {
      "cell_type": "code",
      "source": [
        "import cv2\n",
        "image=cv2.imread('/content/gdrive/MyDrive/dataset/T51+T52BAD+T53BAD+T54BAD/Test/bad_dataset/DJI_0986.jpg')\n",
        "image_resized=cv2.resize(image,(128,128))\n",
        "image=np.expand_dims(image_resized,axis=0)\n",
        "pred=model.predict(image)\n",
        "print(pred)"
      ],
      "metadata": {
        "colab": {
          "base_uri": "https://localhost:8080/"
        },
        "id": "FwpUlXIjyKCf",
        "outputId": "7153fec5-2f03-4ae6-82db-1ce98628386b"
      },
      "execution_count": null,
      "outputs": [
        {
          "output_type": "stream",
          "name": "stdout",
          "text": [
            "1/1 [==============================] - 0s 30ms/step\n",
            "[[0.        0.        0.        ... 0.        5.6173253 0.       ]]\n"
          ]
        }
      ]
    },
    {
      "cell_type": "code",
      "source": [
        "import cv2\n",
        "image=cv2.imread('/content/gdrive/MyDrive/dataset/T51+T52BAD+T53BAD+T54BAD/Test/good_dataset/DJI_0869.jpg')\n",
        "image_resized=cv2.resize(image,(128,128))\n",
        "image=np.expand_dims(image_resized,axis=0)\n",
        "pred=model.predict(image)\n",
        "print(pred)"
      ],
      "metadata": {
        "colab": {
          "base_uri": "https://localhost:8080/"
        },
        "id": "_yueCjN7yKHq",
        "outputId": "4f324591-3350-4d2e-cf3b-ed1481855e1d"
      },
      "execution_count": null,
      "outputs": [
        {
          "output_type": "stream",
          "name": "stdout",
          "text": [
            "1/1 [==============================] - 0s 35ms/step\n",
            "[[0.       0.       0.       ... 0.       4.870348 0.      ]]\n"
          ]
        }
      ]
    },
    {
      "cell_type": "code",
      "source": [
        "import cv2\n",
        "image=cv2.imread('/content/gdrive/MyDrive/dataset/T51+T52BAD+T53BAD+T54BAD/Test/good_dataset/DJI_0871.jpg')\n",
        "image_resized=cv2.resize(image,(128,128))\n",
        "image=np.expand_dims(image_resized,axis=0)\n",
        "pred=model.predict(image)\n",
        "print(pred)"
      ],
      "metadata": {
        "colab": {
          "base_uri": "https://localhost:8080/"
        },
        "id": "WjUe7W3NyKNQ",
        "outputId": "ddc53707-e213-4cb5-be2c-de198cd6dce6"
      },
      "execution_count": null,
      "outputs": [
        {
          "output_type": "stream",
          "name": "stdout",
          "text": [
            "1/1 [==============================] - 0s 26ms/step\n",
            "[[0.        0.        0.        ... 0.        4.7292795 0.       ]]\n"
          ]
        }
      ]
    },
    {
      "cell_type": "code",
      "source": [
        "import cv2\n",
        "image=cv2.imread('/content/gdrive/MyDrive/dataset/T51+T52BAD+T53BAD+T54BAD/Test/good_dataset/DJI_0873.jpg')\n",
        "image_resized=cv2.resize(image,(128,128))\n",
        "image=np.expand_dims(image_resized,axis=0)\n",
        "pred=model.predict(image)\n",
        "print(pred)"
      ],
      "metadata": {
        "colab": {
          "base_uri": "https://localhost:8080/"
        },
        "id": "4I6v0oFJyKSv",
        "outputId": "b17f7665-fc5b-4189-815c-f52ba2dccee6"
      },
      "execution_count": null,
      "outputs": [
        {
          "output_type": "stream",
          "name": "stdout",
          "text": [
            "1/1 [==============================] - 0s 23ms/step\n",
            "[[0.       0.       0.       ... 0.       4.619981 0.      ]]\n"
          ]
        }
      ]
    },
    {
      "cell_type": "code",
      "source": [
        "import cv2\n",
        "image=cv2.imread('/content/gdrive/MyDrive/dataset/T51+T52BAD+T53BAD+T54BAD/Test/good_dataset/DJI_0875.jpg')\n",
        "image_resized=cv2.resize(image,(128,128))\n",
        "image=np.expand_dims(image_resized,axis=0)\n",
        "pred=model.predict(image)\n",
        "print(pred)"
      ],
      "metadata": {
        "colab": {
          "base_uri": "https://localhost:8080/"
        },
        "id": "tnWMQvzbyqt-",
        "outputId": "5cd2676b-1108-42fe-a66c-1436cf57a4f8"
      },
      "execution_count": null,
      "outputs": [
        {
          "output_type": "stream",
          "name": "stdout",
          "text": [
            "1/1 [==============================] - 0s 23ms/step\n",
            "[[0.       0.       0.       ... 0.       4.746073 0.      ]]\n"
          ]
        }
      ]
    },
    {
      "cell_type": "code",
      "source": [
        "import cv2\n",
        "image=cv2.imread('/content/gdrive/MyDrive/dataset/T51+T52BAD+T53BAD+T54BAD/Test/good_dataset/DJI_0877.jpg')\n",
        "image_resized=cv2.resize(image,(128,128))\n",
        "image=np.expand_dims(image_resized,axis=0)\n",
        "pred=model.predict(image)\n",
        "print(pred)"
      ],
      "metadata": {
        "colab": {
          "base_uri": "https://localhost:8080/"
        },
        "id": "ykt9vcRByq3k",
        "outputId": "471bdf1f-9a7e-4683-aabd-21ac8044c154"
      },
      "execution_count": null,
      "outputs": [
        {
          "output_type": "stream",
          "name": "stdout",
          "text": [
            "1/1 [==============================] - 0s 25ms/step\n",
            "[[0.        0.        0.        ... 0.        4.7903547 0.       ]]\n"
          ]
        }
      ]
    },
    {
      "cell_type": "code",
      "source": [
        "import cv2\n",
        "image=cv2.imread('/content/gdrive/MyDrive/dataset/T51+T52BAD+T53BAD+T54BAD/Test/good_dataset/DJI_0879.jpg')\n",
        "image_resized=cv2.resize(image,(128,128))\n",
        "image=np.expand_dims(image_resized,axis=0)\n",
        "pred=model.predict(image)\n",
        "print(pred)"
      ],
      "metadata": {
        "colab": {
          "base_uri": "https://localhost:8080/"
        },
        "id": "6RnbMQvzyq-U",
        "outputId": "1c99fc5e-0eb4-45c5-87ff-60a5c7892e08"
      },
      "execution_count": null,
      "outputs": [
        {
          "output_type": "stream",
          "name": "stdout",
          "text": [
            "1/1 [==============================] - 0s 22ms/step\n",
            "[[0.       0.       0.       ... 0.       4.391263 0.      ]]\n"
          ]
        }
      ]
    },
    {
      "cell_type": "code",
      "source": [
        "import cv2\n",
        "image=cv2.imread('/content/gdrive/MyDrive/dataset/T51+T52BAD+T53BAD+T54BAD/Test/good_dataset/DJI_0881.jpg')\n",
        "image_resized=cv2.resize(image,(128,128))\n",
        "image=np.expand_dims(image_resized,axis=0)\n",
        "pred=model.predict(image)\n",
        "print(pred)"
      ],
      "metadata": {
        "colab": {
          "base_uri": "https://localhost:8080/"
        },
        "id": "KMFiibNtyrGN",
        "outputId": "d9edcf43-7a23-4392-95ab-cb6e605e7928"
      },
      "execution_count": null,
      "outputs": [
        {
          "output_type": "stream",
          "name": "stdout",
          "text": [
            "1/1 [==============================] - 0s 35ms/step\n",
            "[[0.       0.       0.       ... 0.       4.289433 0.      ]]\n"
          ]
        }
      ]
    },
    {
      "cell_type": "code",
      "source": [
        "import cv2\n",
        "image=cv2.imread('/content/gdrive/MyDrive/dataset/T51+T52BAD+T53BAD+T54BAD/Test/good_dataset/DJI_0883.jpg')\n",
        "image_resized=cv2.resize(image,(128,128))\n",
        "image=np.expand_dims(image_resized,axis=0)\n",
        "pred=model.predict(image)\n",
        "print(pred)"
      ],
      "metadata": {
        "colab": {
          "base_uri": "https://localhost:8080/"
        },
        "id": "9jOAHLVIyrTU",
        "outputId": "e0533ad0-4fad-4d5e-a87e-24fc5f7e3561"
      },
      "execution_count": null,
      "outputs": [
        {
          "output_type": "stream",
          "name": "stdout",
          "text": [
            "1/1 [==============================] - 0s 23ms/step\n",
            "[[0.        0.        0.        ... 0.        4.8543835 0.       ]]\n"
          ]
        }
      ]
    },
    {
      "cell_type": "code",
      "source": [
        "import cv2\n",
        "image=cv2.imread('/content/gdrive/MyDrive/dataset/T51+T52BAD+T53BAD+T54BAD/Test/good_dataset/DJI_0885.jpg')\n",
        "image_resized=cv2.resize(image,(128,128))\n",
        "image=np.expand_dims(image_resized,axis=0)\n",
        "pred=model.predict(image)\n",
        "print(pred)"
      ],
      "metadata": {
        "colab": {
          "base_uri": "https://localhost:8080/"
        },
        "id": "GJTqbsALyyZu",
        "outputId": "8afd9f8c-d0b1-4411-c288-cc8cc6ef0419"
      },
      "execution_count": null,
      "outputs": [
        {
          "output_type": "stream",
          "name": "stdout",
          "text": [
            "1/1 [==============================] - 0s 24ms/step\n",
            "[[0.      0.      0.      ... 0.      4.76245 0.     ]]\n"
          ]
        }
      ]
    },
    {
      "cell_type": "code",
      "source": [
        "import cv2\n",
        "image=cv2.imread('/content/gdrive/MyDrive/dataset/T51+T52BAD+T53BAD+T54BAD/Test/good_dataset/DJI_0887.jpg')\n",
        "image_resized=cv2.resize(image,(128,128))\n",
        "image=np.expand_dims(image_resized,axis=0)\n",
        "pred=model.predict(image)\n",
        "print(pred)"
      ],
      "metadata": {
        "colab": {
          "base_uri": "https://localhost:8080/"
        },
        "id": "J8bFdhRIyyhu",
        "outputId": "90694ba6-6eec-44bf-c5b8-6732db0579a1"
      },
      "execution_count": null,
      "outputs": [
        {
          "output_type": "stream",
          "name": "stdout",
          "text": [
            "1/1 [==============================] - 0s 38ms/step\n",
            "[[0.        0.        0.        ... 0.        4.7189465 0.       ]]\n"
          ]
        }
      ]
    },
    {
      "cell_type": "code",
      "source": [
        "import cv2\n",
        "image=cv2.imread('/content/gdrive/MyDrive/dataset/T51+T52BAD+T53BAD+T54BAD/Test/good_dataset/DJI_0889.jpg')\n",
        "image_resized=cv2.resize(image,(128,128))\n",
        "image=np.expand_dims(image_resized,axis=0)\n",
        "pred=model.predict(image)\n",
        "print(pred)"
      ],
      "metadata": {
        "colab": {
          "base_uri": "https://localhost:8080/"
        },
        "id": "ktHb4Eleyyp2",
        "outputId": "e72e084e-fba7-406e-8280-8b147b32b959"
      },
      "execution_count": null,
      "outputs": [
        {
          "output_type": "stream",
          "name": "stdout",
          "text": [
            "1/1 [==============================] - 0s 22ms/step\n",
            "[[0.        0.        0.        ... 0.        4.6965265 0.       ]]\n"
          ]
        }
      ]
    },
    {
      "cell_type": "code",
      "source": [
        "import cv2\n",
        "image=cv2.imread('/content/gdrive/MyDrive/dataset/T51+T52BAD+T53BAD+T54BAD/Test/good_dataset/DJI_0891.jpg')\n",
        "image_resized=cv2.resize(image,(128,128))\n",
        "image=np.expand_dims(image_resized,axis=0)\n",
        "pred=model.predict(image)\n",
        "print(pred)"
      ],
      "metadata": {
        "colab": {
          "base_uri": "https://localhost:8080/"
        },
        "id": "ZdYn_4m9yy2e",
        "outputId": "71ed301b-cc76-4b09-8f80-67afa371563f"
      },
      "execution_count": null,
      "outputs": [
        {
          "output_type": "stream",
          "name": "stdout",
          "text": [
            "1/1 [==============================] - 0s 23ms/step\n",
            "[[0.        0.        0.        ... 0.        4.5985913 0.       ]]\n"
          ]
        }
      ]
    },
    {
      "cell_type": "code",
      "source": [
        "import cv2\n",
        "image=cv2.imread('/content/gdrive/MyDrive/dataset/T51+T52BAD+T53BAD+T54BAD/Test/good_dataset/DJI_0893.jpg')\n",
        "image_resized=cv2.resize(image,(128,128))\n",
        "image=np.expand_dims(image_resized,axis=0)\n",
        "pred=model.predict(image)\n",
        "print(pred)"
      ],
      "metadata": {
        "colab": {
          "base_uri": "https://localhost:8080/"
        },
        "id": "NC_baL4Uyy8e",
        "outputId": "fdd32095-2696-4d0e-8242-53ba504eadd1"
      },
      "execution_count": null,
      "outputs": [
        {
          "output_type": "stream",
          "name": "stdout",
          "text": [
            "1/1 [==============================] - 0s 28ms/step\n",
            "[[0.       0.       0.       ... 0.       4.785534 0.      ]]\n"
          ]
        }
      ]
    },
    {
      "cell_type": "code",
      "source": [
        "import cv2\n",
        "image=cv2.imread('/content/gdrive/MyDrive/dataset/T51+T52BAD+T53BAD+T54BAD/Test/good_dataset/DJI_0895.jpg')\n",
        "image_resized=cv2.resize(image,(128,128))\n",
        "image=np.expand_dims(image_resized,axis=0)\n",
        "pred=model.predict(image)\n",
        "print(pred)"
      ],
      "metadata": {
        "colab": {
          "base_uri": "https://localhost:8080/"
        },
        "id": "3QD4J4NTyzD-",
        "outputId": "6bcbc4b0-4bdd-4c71-eeb2-afd67aa84b8f"
      },
      "execution_count": null,
      "outputs": [
        {
          "output_type": "stream",
          "name": "stdout",
          "text": [
            "1/1 [==============================] - 0s 23ms/step\n",
            "[[0.       0.       0.       ... 0.       4.677159 0.      ]]\n"
          ]
        }
      ]
    },
    {
      "cell_type": "code",
      "source": [
        "import cv2\n",
        "image=cv2.imread('/content/gdrive/MyDrive/dataset/T51+T52BAD+T53BAD+T54BAD/Test/good_dataset/DJI_0897.jpg')\n",
        "image_resized=cv2.resize(image,(128,128))\n",
        "image=np.expand_dims(image_resized,axis=0)\n",
        "pred=model.predict(image)\n",
        "print(pred)"
      ],
      "metadata": {
        "colab": {
          "base_uri": "https://localhost:8080/"
        },
        "id": "1BMvl8uFy8ke",
        "outputId": "47816808-798c-4c09-b5d1-4d857bf71208"
      },
      "execution_count": null,
      "outputs": [
        {
          "output_type": "stream",
          "name": "stdout",
          "text": [
            "1/1 [==============================] - 0s 23ms/step\n",
            "[[0.    0.    0.    ... 0.    4.813 0.   ]]\n"
          ]
        }
      ]
    },
    {
      "cell_type": "code",
      "source": [
        "import cv2\n",
        "image=cv2.imread('/content/gdrive/MyDrive/dataset/T51+T52BAD+T53BAD+T54BAD/Test/good_dataset/DJI_0899.jpg')\n",
        "image_resized=cv2.resize(image,(128,128))\n",
        "image=np.expand_dims(image_resized,axis=0)\n",
        "pred=model.predict(image)\n",
        "print(pred)"
      ],
      "metadata": {
        "colab": {
          "base_uri": "https://localhost:8080/"
        },
        "id": "CsUsEOMny8qn",
        "outputId": "52d6d697-0357-456e-e414-0995b46de8b2"
      },
      "execution_count": null,
      "outputs": [
        {
          "output_type": "stream",
          "name": "stdout",
          "text": [
            "1/1 [==============================] - 0s 24ms/step\n",
            "[[0.       0.       0.       ... 0.       4.712628 0.      ]]\n"
          ]
        }
      ]
    },
    {
      "cell_type": "code",
      "source": [
        "import cv2\n",
        "image=cv2.imread('/content/gdrive/MyDrive/dataset/T51+T52BAD+T53BAD+T54BAD/Test/good_dataset/DJI_0901.jpg')\n",
        "image_resized=cv2.resize(image,(128,128))\n",
        "image=np.expand_dims(image_resized,axis=0)\n",
        "pred=model.predict(image)\n",
        "print(pred)"
      ],
      "metadata": {
        "colab": {
          "base_uri": "https://localhost:8080/"
        },
        "id": "ilfehi1ay8ym",
        "outputId": "d81cf08f-eac7-4e94-8a40-2a69b3fef971"
      },
      "execution_count": null,
      "outputs": [
        {
          "output_type": "stream",
          "name": "stdout",
          "text": [
            "1/1 [==============================] - 0s 23ms/step\n",
            "[[0.        0.        0.        ... 0.        4.6427236 0.       ]]\n"
          ]
        }
      ]
    },
    {
      "cell_type": "code",
      "source": [
        "import cv2\n",
        "image=cv2.imread('/content/gdrive/MyDrive/dataset/T51+T52BAD+T53BAD+T54BAD/Test/good_dataset/DJI_0903.jpg')\n",
        "image_resized=cv2.resize(image,(128,128))\n",
        "image=np.expand_dims(image_resized,axis=0)\n",
        "pred=model.predict(image)\n",
        "print(pred)"
      ],
      "metadata": {
        "colab": {
          "base_uri": "https://localhost:8080/"
        },
        "id": "RoYzi1l9y9C2",
        "outputId": "78ec97a1-c9fc-4fd2-b1a8-2e31ea0b0e74"
      },
      "execution_count": null,
      "outputs": [
        {
          "output_type": "stream",
          "name": "stdout",
          "text": [
            "1/1 [==============================] - 0s 23ms/step\n",
            "[[0.       0.       0.       ... 0.       4.668577 0.      ]]\n"
          ]
        }
      ]
    },
    {
      "cell_type": "code",
      "source": [
        "import cv2\n",
        "image=cv2.imread('/content/gdrive/MyDrive/dataset/T51+T52BAD+T53BAD+T54BAD/Test/good_dataset/DJI_0905.jpg')\n",
        "image_resized=cv2.resize(image,(128,128))\n",
        "image=np.expand_dims(image_resized,axis=0)\n",
        "pred=model.predict(image)\n",
        "print(pred)"
      ],
      "metadata": {
        "colab": {
          "base_uri": "https://localhost:8080/"
        },
        "id": "_8pqP_hGy9Hf",
        "outputId": "70736674-50d8-4e6f-8db5-eeae0575cc0e"
      },
      "execution_count": null,
      "outputs": [
        {
          "output_type": "stream",
          "name": "stdout",
          "text": [
            "1/1 [==============================] - 0s 25ms/step\n",
            "[[0.       0.       0.       ... 0.       4.833275 0.      ]]\n"
          ]
        }
      ]
    },
    {
      "cell_type": "code",
      "source": [
        "import cv2\n",
        "image=cv2.imread('/content/gdrive/MyDrive/dataset/T51+T52BAD+T53BAD+T54BAD/Test/good_dataset/DJI_0907.jpg')\n",
        "image_resized=cv2.resize(image,(128,128))\n",
        "image=np.expand_dims(image_resized,axis=0)\n",
        "pred=model.predict(image)\n",
        "print(pred)"
      ],
      "metadata": {
        "colab": {
          "base_uri": "https://localhost:8080/"
        },
        "id": "NiJNYriNy9Y1",
        "outputId": "aeafb11d-a048-4678-e1d0-a4a7d94b2c0f"
      },
      "execution_count": null,
      "outputs": [
        {
          "output_type": "stream",
          "name": "stdout",
          "text": [
            "1/1 [==============================] - 0s 26ms/step\n",
            "[[0.        0.        0.        ... 0.        4.9557004 0.       ]]\n"
          ]
        }
      ]
    },
    {
      "cell_type": "code",
      "source": [
        "import cv2\n",
        "image=cv2.imread('/content/gdrive/MyDrive/dataset/T51+T52BAD+T53BAD+T54BAD/Test/good_dataset/DJI_0909.jpg')\n",
        "image_resized=cv2.resize(image,(128,128))\n",
        "image=np.expand_dims(image_resized,axis=0)\n",
        "pred=model.predict(image)\n",
        "print(pred)"
      ],
      "metadata": {
        "colab": {
          "base_uri": "https://localhost:8080/"
        },
        "id": "Un5E11G4ukwZ",
        "outputId": "810810e1-50b4-4c3d-b528-2fda5f8f4bcc"
      },
      "execution_count": null,
      "outputs": [
        {
          "output_type": "stream",
          "name": "stdout",
          "text": [
            "1/1 [==============================] - 0s 23ms/step\n",
            "[[0.        0.        0.        ... 0.        4.7299237 0.       ]]\n"
          ]
        }
      ]
    },
    {
      "cell_type": "code",
      "source": [
        "import cv2\n",
        "image=cv2.imread('/content/gdrive/MyDrive/dataset/T51+T52BAD+T53BAD+T54BAD/Test/good_dataset/DJI_0911.jpg')\n",
        "image_resized=cv2.resize(image,(128,128))\n",
        "image=np.expand_dims(image_resized,axis=0)\n",
        "pred=model.predict(image)\n",
        "print(pred)"
      ],
      "metadata": {
        "colab": {
          "base_uri": "https://localhost:8080/"
        },
        "id": "IEt-OfTNuk3x",
        "outputId": "31267259-9ef2-47d4-8c5e-3988f565e3d7"
      },
      "execution_count": null,
      "outputs": [
        {
          "output_type": "stream",
          "name": "stdout",
          "text": [
            "1/1 [==============================] - 0s 27ms/step\n",
            "[[0.       0.       0.       ... 0.       4.748265 0.      ]]\n"
          ]
        }
      ]
    },
    {
      "cell_type": "code",
      "source": [
        "import cv2\n",
        "image=cv2.imread('/content/gdrive/MyDrive/dataset/T51+T52BAD+T53BAD+T54BAD/Test/good_dataset/DJI_0913.jpg')\n",
        "image_resized=cv2.resize(image,(128,128))\n",
        "image=np.expand_dims(image_resized,axis=0)\n",
        "pred=model.predict(image)\n",
        "print(pred)"
      ],
      "metadata": {
        "colab": {
          "base_uri": "https://localhost:8080/"
        },
        "id": "jqEQbSqTuk8X",
        "outputId": "55cdd5f0-5a4d-4bd7-de6a-a22937d4a44d"
      },
      "execution_count": null,
      "outputs": [
        {
          "output_type": "stream",
          "name": "stdout",
          "text": [
            "1/1 [==============================] - 0s 26ms/step\n",
            "[[0.        0.        0.        ... 0.        4.8276024 0.       ]]\n"
          ]
        }
      ]
    },
    {
      "cell_type": "code",
      "source": [
        "import cv2\n",
        "image=cv2.imread('/content/gdrive/MyDrive/dataset/T51+T52BAD+T53BAD+T54BAD/Test/good_dataset/DJI_0915.jpg')\n",
        "image_resized=cv2.resize(image,(128,128))\n",
        "image=np.expand_dims(image_resized,axis=0)\n",
        "pred=model.predict(image)\n",
        "print(pred)"
      ],
      "metadata": {
        "colab": {
          "base_uri": "https://localhost:8080/"
        },
        "id": "GNgI5i2julAo",
        "outputId": "95499f43-af1b-4106-d14d-1c1271d9736c"
      },
      "execution_count": null,
      "outputs": [
        {
          "output_type": "stream",
          "name": "stdout",
          "text": [
            "1/1 [==============================] - 0s 22ms/step\n",
            "[[0.        0.        0.        ... 0.        4.7324986 0.       ]]\n"
          ]
        }
      ]
    },
    {
      "cell_type": "code",
      "source": [
        "import cv2\n",
        "image=cv2.imread('/content/gdrive/MyDrive/dataset/T51+T52BAD+T53BAD+T54BAD/Test/good_dataset/DJI_0917.jpg')\n",
        "image_resized=cv2.resize(image,(128,128))\n",
        "image=np.expand_dims(image_resized,axis=0)\n",
        "pred=model.predict(image)\n",
        "print(pred)"
      ],
      "metadata": {
        "colab": {
          "base_uri": "https://localhost:8080/"
        },
        "id": "24nlTND8ulFJ",
        "outputId": "32883ee1-d3d5-408d-c6a7-e1a9d367d72c"
      },
      "execution_count": null,
      "outputs": [
        {
          "output_type": "stream",
          "name": "stdout",
          "text": [
            "1/1 [==============================] - 0s 25ms/step\n",
            "[[0.        0.        0.        ... 0.        4.7453246 0.       ]]\n"
          ]
        }
      ]
    },
    {
      "cell_type": "code",
      "source": [
        "import cv2\n",
        "image=cv2.imread('/content/gdrive/MyDrive/dataset/T51+T52BAD+T53BAD+T54BAD/Test/good_dataset/DJI_0919.jpg')\n",
        "image_resized=cv2.resize(image,(128,128))\n",
        "image=np.expand_dims(image_resized,axis=0)\n",
        "pred=model.predict(image)\n",
        "print(pred)"
      ],
      "metadata": {
        "colab": {
          "base_uri": "https://localhost:8080/"
        },
        "id": "cHXLMn-2ulK6",
        "outputId": "f7ec26e6-36f4-42c3-ae97-0f99288be659"
      },
      "execution_count": null,
      "outputs": [
        {
          "output_type": "stream",
          "name": "stdout",
          "text": [
            "1/1 [==============================] - 0s 45ms/step\n",
            "[[0.        0.        0.        ... 0.        4.7510805 0.       ]]\n"
          ]
        }
      ]
    },
    {
      "cell_type": "code",
      "source": [
        "import cv2\n",
        "image=cv2.imread('/content/gdrive/MyDrive/dataset/T51+T52BAD+T53BAD+T54BAD/Test/good_dataset/DJI_0921.jpg')\n",
        "image_resized=cv2.resize(image,(128,128))\n",
        "image=np.expand_dims(image_resized,axis=0)\n",
        "pred=model.predict(image)\n",
        "print(pred)"
      ],
      "metadata": {
        "colab": {
          "base_uri": "https://localhost:8080/"
        },
        "id": "1gXCNCr5umJC",
        "outputId": "7f405d28-3daa-45e2-bfa6-6199941a97af"
      },
      "execution_count": null,
      "outputs": [
        {
          "output_type": "stream",
          "name": "stdout",
          "text": [
            "1/1 [==============================] - 0s 25ms/step\n",
            "[[0.      0.      0.      ... 0.      4.76645 0.     ]]\n"
          ]
        }
      ]
    },
    {
      "cell_type": "code",
      "source": [
        "import cv2\n",
        "image=cv2.imread('/content/gdrive/MyDrive/dataset/T51+T52BAD+T53BAD+T54BAD/Test/good_dataset/DJI_0923.jpg')\n",
        "image_resized=cv2.resize(image,(128,128))\n",
        "image=np.expand_dims(image_resized,axis=0)\n",
        "pred=model.predict(image)\n",
        "print(pred)"
      ],
      "metadata": {
        "colab": {
          "base_uri": "https://localhost:8080/"
        },
        "id": "8WpctlAaumN2",
        "outputId": "698fc4ce-79a0-4151-b064-8a2d59e99111"
      },
      "execution_count": null,
      "outputs": [
        {
          "output_type": "stream",
          "name": "stdout",
          "text": [
            "1/1 [==============================] - 0s 37ms/step\n",
            "[[0.       0.       0.       ... 0.       4.753066 0.      ]]\n"
          ]
        }
      ]
    },
    {
      "cell_type": "markdown",
      "source": [],
      "metadata": {
        "id": "xJQLMlM9X8Lo"
      }
    },
    {
      "cell_type": "code",
      "source": [
        "import cv2\n",
        "image=cv2.imread('/content/gdrive/MyDrive/dataset/T51+T52BAD+T53BAD+T54BAD/Test/good_dataset/DJI_0925.jpg')\n",
        "image_resized=cv2.resize(image,(128,128))\n",
        "image=np.expand_dims(image_resized,axis=0)\n",
        "pred=model.predict(image)\n",
        "print(pred)"
      ],
      "metadata": {
        "colab": {
          "base_uri": "https://localhost:8080/"
        },
        "id": "O6J_TmE_umSJ",
        "outputId": "f9977d9d-15b6-4568-c41a-6c3af5a44991"
      },
      "execution_count": null,
      "outputs": [
        {
          "output_type": "stream",
          "name": "stdout",
          "text": [
            "1/1 [==============================] - 0s 25ms/step\n",
            "[[0.        0.        0.        ... 0.        4.7842703 0.       ]]\n"
          ]
        }
      ]
    },
    {
      "cell_type": "code",
      "source": [
        "import cv2\n",
        "image=cv2.imread('/content/gdrive/MyDrive/dataset/T51+T52BAD+T53BAD+T54BAD/Test/good_dataset/DJI_0927.jpg')\n",
        "image_resized=cv2.resize(image,(128,128))\n",
        "image=np.expand_dims(image_resized,axis=0)\n",
        "pred=model.predict(image)\n",
        "print(pred)"
      ],
      "metadata": {
        "colab": {
          "base_uri": "https://localhost:8080/"
        },
        "id": "0LC-To6numWd",
        "outputId": "30261762-9364-4c96-eba7-20e057831d6b"
      },
      "execution_count": null,
      "outputs": [
        {
          "output_type": "stream",
          "name": "stdout",
          "text": [
            "1/1 [==============================] - 0s 22ms/step\n",
            "[[0.       0.       0.       ... 0.       4.982724 0.      ]]\n"
          ]
        }
      ]
    },
    {
      "cell_type": "code",
      "source": [
        "import cv2\n",
        "image=cv2.imread('/content/gdrive/MyDrive/dataset/T51+T52BAD+T53BAD+T54BAD/Test/good_dataset/DJI_0929.jpg')\n",
        "image_resized=cv2.resize(image,(128,128))\n",
        "image=np.expand_dims(image_resized,axis=0)\n",
        "pred=model.predict(image)\n",
        "print(pred)"
      ],
      "metadata": {
        "colab": {
          "base_uri": "https://localhost:8080/"
        },
        "id": "UgkFmRYEuma4",
        "outputId": "1bcabbf1-0d06-41a4-e58b-b07c3d9ac1a2"
      },
      "execution_count": null,
      "outputs": [
        {
          "output_type": "stream",
          "name": "stdout",
          "text": [
            "1/1 [==============================] - 0s 24ms/step\n",
            "[[0.        0.        0.        ... 0.        4.8775735 0.       ]]\n"
          ]
        }
      ]
    },
    {
      "cell_type": "code",
      "source": [
        "import cv2\n",
        "image=cv2.imread('/content/gdrive/MyDrive/dataset/T51+T52BAD+T53BAD+T54BAD/Test/good_dataset/DJI_0931.jpg')\n",
        "image_resized=cv2.resize(image,(128,128))\n",
        "image=np.expand_dims(image_resized,axis=0)\n",
        "pred=model.predict(image)\n",
        "print(pred)"
      ],
      "metadata": {
        "colab": {
          "base_uri": "https://localhost:8080/"
        },
        "id": "WLOFUWPUumfU",
        "outputId": "0adc33c9-986e-40cc-9368-2c135a1c97d5"
      },
      "execution_count": null,
      "outputs": [
        {
          "output_type": "stream",
          "name": "stdout",
          "text": [
            "1/1 [==============================] - 0s 23ms/step\n",
            "[[0.        0.        0.        ... 0.        4.7590237 0.       ]]\n"
          ]
        }
      ]
    },
    {
      "cell_type": "code",
      "source": [
        "import cv2\n",
        "image=cv2.imread('/content/gdrive/MyDrive/dataset/T51+T52BAD+T53BAD+T54BAD/Test/good_dataset/DJI_0933.jpg')\n",
        "image_resized=cv2.resize(image,(128,128))\n",
        "image=np.expand_dims(image_resized,axis=0)\n",
        "pred=model.predict(image)\n",
        "print(pred)"
      ],
      "metadata": {
        "colab": {
          "base_uri": "https://localhost:8080/"
        },
        "id": "L82Kdd7fumje",
        "outputId": "97aff33c-5de1-41fa-8429-ca921fcea4eb"
      },
      "execution_count": null,
      "outputs": [
        {
          "output_type": "stream",
          "name": "stdout",
          "text": [
            "1/1 [==============================] - 0s 23ms/step\n",
            "[[0.       0.       0.       ... 0.       4.711358 0.      ]]\n"
          ]
        }
      ]
    },
    {
      "cell_type": "code",
      "source": [
        "import cv2\n",
        "image=cv2.imread('/content/gdrive/MyDrive/dataset/T51+T52BAD+T53BAD+T54BAD/Test/good_dataset/DJI_0935.jpg')\n",
        "image_resized=cv2.resize(image,(128,128))\n",
        "image=np.expand_dims(image_resized,axis=0)\n",
        "pred=model.predict(image)\n",
        "print(pred)"
      ],
      "metadata": {
        "colab": {
          "base_uri": "https://localhost:8080/"
        },
        "id": "YiZBdzf7umnq",
        "outputId": "5e64a042-2576-4866-9304-20d7f3ba9504"
      },
      "execution_count": null,
      "outputs": [
        {
          "output_type": "stream",
          "name": "stdout",
          "text": [
            "1/1 [==============================] - 0s 36ms/step\n",
            "[[0.       0.       0.       ... 0.       4.816512 0.      ]]\n"
          ]
        }
      ]
    },
    {
      "cell_type": "code",
      "source": [
        "import cv2\n",
        "image=cv2.imread('/content/gdrive/MyDrive/dataset/T51+T52BAD+T53BAD+T54BAD/Test/good_dataset/DJI_0937.jpg')\n",
        "image_resized=cv2.resize(image,(128,128))\n",
        "image=np.expand_dims(image_resized,axis=0)\n",
        "pred=model.predict(image)\n",
        "print(pred)"
      ],
      "metadata": {
        "colab": {
          "base_uri": "https://localhost:8080/"
        },
        "id": "dbvj7DLBumr4",
        "outputId": "ceb6ca23-2969-4ad8-d398-9d5c5b8eba7f"
      },
      "execution_count": null,
      "outputs": [
        {
          "output_type": "stream",
          "name": "stdout",
          "text": [
            "1/1 [==============================] - 0s 23ms/step\n",
            "[[0.        0.        0.        ... 0.        5.4431977 0.       ]]\n"
          ]
        }
      ]
    },
    {
      "cell_type": "code",
      "source": [
        "import cv2\n",
        "image=cv2.imread('/content/gdrive/MyDrive/dataset/T51+T52BAD+T53BAD+T54BAD/Test/good_dataset/DJI_0939.jpg')\n",
        "image_resized=cv2.resize(image,(128,128))\n",
        "image=np.expand_dims(image_resized,axis=0)\n",
        "pred=model.predict(image)\n",
        "print(pred)"
      ],
      "metadata": {
        "colab": {
          "base_uri": "https://localhost:8080/"
        },
        "id": "03dAP8NwumwA",
        "outputId": "e415db10-a5c0-4e3e-fda9-1b7ae345c973"
      },
      "execution_count": null,
      "outputs": [
        {
          "output_type": "stream",
          "name": "stdout",
          "text": [
            "1/1 [==============================] - 0s 43ms/step\n",
            "[[0.        0.        0.        ... 0.        4.7511225 0.       ]]\n"
          ]
        }
      ]
    },
    {
      "cell_type": "code",
      "source": [
        "import cv2\n",
        "image=cv2.imread('/content/gdrive/MyDrive/dataset/T51+T52BAD+T53BAD+T54BAD/Test/good_dataset/DJI_0941.jpg')\n",
        "image_resized=cv2.resize(image,(128,128))\n",
        "image=np.expand_dims(image_resized,axis=0)\n",
        "pred=model.predict(image)\n",
        "print(pred)"
      ],
      "metadata": {
        "colab": {
          "base_uri": "https://localhost:8080/"
        },
        "id": "MGV5Jwdcum1B",
        "outputId": "51d1ba66-a417-4674-8035-da4b76043e03"
      },
      "execution_count": null,
      "outputs": [
        {
          "output_type": "stream",
          "name": "stdout",
          "text": [
            "1/1 [==============================] - 0s 22ms/step\n",
            "[[0.       0.       0.       ... 0.       4.664874 0.      ]]\n"
          ]
        }
      ]
    },
    {
      "cell_type": "code",
      "source": [
        "import cv2\n",
        "image=cv2.imread('/content/gdrive/MyDrive/dataset/T51+T52BAD+T53BAD+T54BAD/Test/good_dataset/DJI_0943.jpg')\n",
        "image_resized=cv2.resize(image,(128,128))\n",
        "image=np.expand_dims(image_resized,axis=0)\n",
        "pred=model.predict(image)\n",
        "print(pred)"
      ],
      "metadata": {
        "colab": {
          "base_uri": "https://localhost:8080/"
        },
        "id": "cZTxVwanum5m",
        "outputId": "7677b711-2ebe-4360-a89b-0105521a6eb0"
      },
      "execution_count": null,
      "outputs": [
        {
          "output_type": "stream",
          "name": "stdout",
          "text": [
            "1/1 [==============================] - 0s 22ms/step\n",
            "[[0.        0.        0.        ... 0.        4.7189584 0.       ]]\n"
          ]
        }
      ]
    },
    {
      "cell_type": "code",
      "source": [
        "import cv2\n",
        "image=cv2.imread('/content/gdrive/MyDrive/dataset/T51+T52BAD+T53BAD+T54BAD/Test/good_dataset/DJI_0945.jpg')\n",
        "image_resized=cv2.resize(image,(128,128))\n",
        "image=np.expand_dims(image_resized,axis=0)\n",
        "pred=model.predict(image)\n",
        "print(pred)"
      ],
      "metadata": {
        "colab": {
          "base_uri": "https://localhost:8080/"
        },
        "id": "lRzgy_JXum-4",
        "outputId": "8d4aaf29-274b-4702-b32b-bc3ca91720ed"
      },
      "execution_count": null,
      "outputs": [
        {
          "output_type": "stream",
          "name": "stdout",
          "text": [
            "1/1 [==============================] - 0s 23ms/step\n",
            "[[0.       0.       0.       ... 0.       4.800815 0.      ]]\n"
          ]
        }
      ]
    },
    {
      "cell_type": "code",
      "source": [
        "import cv2\n",
        "image=cv2.imread('/content/gdrive/MyDrive/dataset/T51+T52BAD+T53BAD+T54BAD/Test/good_dataset/DJI_0947.jpg')\n",
        "image_resized=cv2.resize(image,(128,128))\n",
        "image=np.expand_dims(image_resized,axis=0)\n",
        "pred=model.predict(image)\n",
        "print(pred)"
      ],
      "metadata": {
        "colab": {
          "base_uri": "https://localhost:8080/"
        },
        "id": "58x3kL8munDg",
        "outputId": "55c83052-42e9-4ca3-f8f0-a979e93ed6ec"
      },
      "execution_count": null,
      "outputs": [
        {
          "output_type": "stream",
          "name": "stdout",
          "text": [
            "1/1 [==============================] - 0s 30ms/step\n",
            "[[0.       0.       0.       ... 0.       4.978181 0.      ]]\n"
          ]
        }
      ]
    },
    {
      "cell_type": "code",
      "source": [
        "import cv2\n",
        "image=cv2.imread('/content/gdrive/MyDrive/dataset/T51+T52BAD+T53BAD+T54BAD/Test/good_dataset/DJI_0949.jpg')\n",
        "image_resized=cv2.resize(image,(128,128))\n",
        "image=np.expand_dims(image_resized,axis=0)\n",
        "pred=model.predict(image)\n",
        "print(pred)"
      ],
      "metadata": {
        "colab": {
          "base_uri": "https://localhost:8080/"
        },
        "id": "QKUJE5-PunHr",
        "outputId": "5518a801-b7be-4dfa-cbeb-53c350b2ef72"
      },
      "execution_count": null,
      "outputs": [
        {
          "output_type": "stream",
          "name": "stdout",
          "text": [
            "1/1 [==============================] - 0s 30ms/step\n",
            "[[0.       0.       0.       ... 0.       5.080002 0.      ]]\n"
          ]
        }
      ]
    },
    {
      "cell_type": "code",
      "source": [
        "import cv2\n",
        "image=cv2.imread('/content/gdrive/MyDrive/dataset/T51+T52BAD+T53BAD+T54BAD/Test/good_dataset/DJI_0951.jpg')\n",
        "image_resized=cv2.resize(image,(128,128))\n",
        "image=np.expand_dims(image_resized,axis=0)\n",
        "pred=model.predict(image)\n",
        "print(pred)"
      ],
      "metadata": {
        "colab": {
          "base_uri": "https://localhost:8080/"
        },
        "id": "LUC0j67sunMY",
        "outputId": "48fda9ec-76fc-44b5-da6a-8744d8d9f273"
      },
      "execution_count": null,
      "outputs": [
        {
          "output_type": "stream",
          "name": "stdout",
          "text": [
            "1/1 [==============================] - 0s 26ms/step\n",
            "[[0.       0.       0.       ... 0.       5.193167 0.      ]]\n"
          ]
        }
      ]
    },
    {
      "cell_type": "code",
      "source": [
        "import cv2\n",
        "image=cv2.imread('/content/gdrive/MyDrive/dataset/T51+T52BAD+T53BAD+T54BAD/Test/good_dataset/DJI_0953.jpg')\n",
        "image_resized=cv2.resize(image,(128,128))\n",
        "image=np.expand_dims(image_resized,axis=0)\n",
        "pred=model.predict(image)\n",
        "print(pred)"
      ],
      "metadata": {
        "colab": {
          "base_uri": "https://localhost:8080/"
        },
        "id": "oPllpclQunPw",
        "outputId": "483c57b2-211b-455c-ca5f-fbe20329f566"
      },
      "execution_count": null,
      "outputs": [
        {
          "output_type": "stream",
          "name": "stdout",
          "text": [
            "1/1 [==============================] - 0s 37ms/step\n",
            "[[0.        0.        0.        ... 0.        5.2862816 0.       ]]\n"
          ]
        }
      ]
    },
    {
      "cell_type": "code",
      "source": [
        "import cv2\n",
        "image=cv2.imread('/content/gdrive/MyDrive/dataset/T51+T52BAD+T53BAD+T54BAD/Test/good_dataset/DJI_0955.jpg')\n",
        "image_resized=cv2.resize(image,(128,128))\n",
        "image=np.expand_dims(image_resized,axis=0)\n",
        "pred=model.predict(image)\n",
        "print(pred)"
      ],
      "metadata": {
        "colab": {
          "base_uri": "https://localhost:8080/"
        },
        "id": "qEl-hTpGunUc",
        "outputId": "58b0661b-3516-455a-f138-4c7059180492"
      },
      "execution_count": null,
      "outputs": [
        {
          "output_type": "stream",
          "name": "stdout",
          "text": [
            "1/1 [==============================] - 0s 27ms/step\n",
            "[[0.       0.       0.       ... 0.       5.143283 0.      ]]\n"
          ]
        }
      ]
    },
    {
      "cell_type": "code",
      "source": [
        "import cv2\n",
        "image=cv2.imread('/content/gdrive/MyDrive/dataset/T51+T52BAD+T53BAD+T54BAD/Test/good_dataset/DJI_0957.jpg')\n",
        "image_resized=cv2.resize(image,(128,128))\n",
        "image=np.expand_dims(image_resized,axis=0)\n",
        "pred=model.predict(image)\n",
        "print(pred)"
      ],
      "metadata": {
        "colab": {
          "base_uri": "https://localhost:8080/"
        },
        "id": "jJ8NlozpunYJ",
        "outputId": "ec5fd4cf-4dcf-4523-ea1f-1281b9f8d8c3"
      },
      "execution_count": null,
      "outputs": [
        {
          "output_type": "stream",
          "name": "stdout",
          "text": [
            "1/1 [==============================] - 0s 25ms/step\n",
            "[[0.       0.       0.       ... 0.       5.132703 0.      ]]\n"
          ]
        }
      ]
    },
    {
      "cell_type": "code",
      "source": [
        "import cv2\n",
        "image=cv2.imread('/content/gdrive/MyDrive/dataset/T51+T52BAD+T53BAD+T54BAD/Test/good_dataset/DJI_0959.jpg')\n",
        "image_resized=cv2.resize(image,(128,128))\n",
        "image=np.expand_dims(image_resized,axis=0)\n",
        "pred=model.predict(image)\n",
        "print(pred)"
      ],
      "metadata": {
        "colab": {
          "base_uri": "https://localhost:8080/"
        },
        "id": "zyMfDSvIunbw",
        "outputId": "8929fbe5-4998-4949-98e0-d90cd1250605"
      },
      "execution_count": null,
      "outputs": [
        {
          "output_type": "stream",
          "name": "stdout",
          "text": [
            "1/1 [==============================] - 0s 34ms/step\n",
            "[[0.        0.        0.        ... 0.        4.9558754 0.       ]]\n"
          ]
        }
      ]
    },
    {
      "cell_type": "code",
      "source": [
        "import cv2\n",
        "image=cv2.imread('/content/gdrive/MyDrive/dataset/T51+T52BAD+T53BAD+T54BAD/Test/good_dataset/DJI_0961.jpg')\n",
        "image_resized=cv2.resize(image,(128,128))\n",
        "image=np.expand_dims(image_resized,axis=0)\n",
        "pred=model.predict(image)\n",
        "print(pred)"
      ],
      "metadata": {
        "colab": {
          "base_uri": "https://localhost:8080/"
        },
        "id": "Lf5ZY6pXv7j6",
        "outputId": "b5b825dc-fd0d-46ab-d68d-36756e2eb2bd"
      },
      "execution_count": null,
      "outputs": [
        {
          "output_type": "stream",
          "name": "stdout",
          "text": [
            "1/1 [==============================] - 0s 26ms/step\n",
            "[[0.        0.        0.        ... 0.        4.8169603 0.       ]]\n"
          ]
        }
      ]
    },
    {
      "cell_type": "code",
      "source": [
        "import cv2\n",
        "image=cv2.imread('/content/gdrive/MyDrive/dataset/T51+T52BAD+T53BAD+T54BAD/Test/good_dataset/DJI_0963.jpg')\n",
        "image_resized=cv2.resize(image,(128,128))\n",
        "image=np.expand_dims(image_resized,axis=0)\n",
        "pred=model.predict(image)\n",
        "print(pred)"
      ],
      "metadata": {
        "colab": {
          "base_uri": "https://localhost:8080/"
        },
        "id": "3SaXaaZsv7op",
        "outputId": "9b15e9a0-2cdf-4747-af88-d5181b570796"
      },
      "execution_count": null,
      "outputs": [
        {
          "output_type": "stream",
          "name": "stdout",
          "text": [
            "1/1 [==============================] - 0s 23ms/step\n",
            "[[0.       0.       0.       ... 0.       4.742015 0.      ]]\n"
          ]
        }
      ]
    },
    {
      "cell_type": "code",
      "source": [
        "import cv2\n",
        "image=cv2.imread('/content/gdrive/MyDrive/dataset/T51+T52BAD+T53BAD+T54BAD/Test/good_dataset/DJI_0965.jpg')\n",
        "image_resized=cv2.resize(image,(128,128))\n",
        "image=np.expand_dims(image_resized,axis=0)\n",
        "pred=model.predict(image)\n",
        "print(pred)"
      ],
      "metadata": {
        "colab": {
          "base_uri": "https://localhost:8080/"
        },
        "id": "nqy8TB9Pv7sx",
        "outputId": "936f3a77-005a-44d3-8af0-465eea85e283"
      },
      "execution_count": null,
      "outputs": [
        {
          "output_type": "stream",
          "name": "stdout",
          "text": [
            "1/1 [==============================] - 0s 26ms/step\n",
            "[[0.        0.        0.        ... 0.        4.9092216 0.       ]]\n"
          ]
        }
      ]
    },
    {
      "cell_type": "code",
      "source": [
        "import cv2\n",
        "image=cv2.imread('/content/gdrive/MyDrive/dataset/T51+T52BAD+T53BAD+T54BAD/Test/good_dataset/DJI_0967.jpg')\n",
        "image_resized=cv2.resize(image,(128,128))\n",
        "image=np.expand_dims(image_resized,axis=0)\n",
        "pred=model.predict(image)\n",
        "print(pred)"
      ],
      "metadata": {
        "colab": {
          "base_uri": "https://localhost:8080/"
        },
        "id": "9XMCle0tv7ww",
        "outputId": "5ea4ef1a-459b-4125-ea3e-d46551a4cd4c"
      },
      "execution_count": null,
      "outputs": [
        {
          "output_type": "stream",
          "name": "stdout",
          "text": [
            "1/1 [==============================] - 0s 28ms/step\n",
            "[[0.        0.        0.        ... 0.        4.7965355 0.       ]]\n"
          ]
        }
      ]
    },
    {
      "cell_type": "code",
      "source": [
        "import cv2\n",
        "image=cv2.imread('/content/gdrive/MyDrive/dataset/T51+T52BAD+T53BAD+T54BAD/Test/good_dataset/DJI_0969.jpg')\n",
        "image_resized=cv2.resize(image,(128,128))\n",
        "image=np.expand_dims(image_resized,axis=0)\n",
        "pred=model.predict(image)\n",
        "print(pred)"
      ],
      "metadata": {
        "colab": {
          "base_uri": "https://localhost:8080/"
        },
        "id": "SWMBeRWev71B",
        "outputId": "e7def8a2-84da-4d71-abbf-04b7bb7af6d0"
      },
      "execution_count": null,
      "outputs": [
        {
          "output_type": "stream",
          "name": "stdout",
          "text": [
            "1/1 [==============================] - 0s 23ms/step\n",
            "[[0.       0.       0.       ... 0.       4.946515 0.      ]]\n"
          ]
        }
      ]
    },
    {
      "cell_type": "code",
      "source": [
        "import cv2\n",
        "image=cv2.imread('/content/gdrive/MyDrive/dataset/T51+T52BAD+T53BAD+T54BAD/Test/good_dataset/DJI_0971.jpg')\n",
        "image_resized=cv2.resize(image,(128,128))\n",
        "image=np.expand_dims(image_resized,axis=0)\n",
        "pred=model.predict(image)\n",
        "print(pred)"
      ],
      "metadata": {
        "colab": {
          "base_uri": "https://localhost:8080/"
        },
        "id": "3ERpY_FSv746",
        "outputId": "8b583f04-c744-4ab3-ed79-973c893fef66"
      },
      "execution_count": null,
      "outputs": [
        {
          "output_type": "stream",
          "name": "stdout",
          "text": [
            "1/1 [==============================] - 0s 24ms/step\n",
            "[[0.        0.        0.        ... 0.        4.8804245 0.       ]]\n"
          ]
        }
      ]
    },
    {
      "cell_type": "code",
      "source": [
        "import cv2\n",
        "image=cv2.imread('/content/gdrive/MyDrive/dataset/T51+T52BAD+T53BAD+T54BAD/Test/good_dataset/DJI_0973.jpg')\n",
        "image_resized=cv2.resize(image,(128,128))\n",
        "image=np.expand_dims(image_resized,axis=0)\n",
        "pred=model.predict(image)\n",
        "print(pred)"
      ],
      "metadata": {
        "colab": {
          "base_uri": "https://localhost:8080/"
        },
        "id": "XDx0RXjYv79A",
        "outputId": "76a18c6b-5f5d-45be-c68a-7f4e42064493"
      },
      "execution_count": null,
      "outputs": [
        {
          "output_type": "stream",
          "name": "stdout",
          "text": [
            "1/1 [==============================] - 0s 23ms/step\n",
            "[[0.        0.        0.        ... 0.        4.7946672 0.       ]]\n"
          ]
        }
      ]
    },
    {
      "cell_type": "code",
      "source": [
        "import cv2\n",
        "image=cv2.imread('/content/gdrive/MyDrive/dataset/T51+T52BAD+T53BAD+T54BAD/Test/good_dataset/DJI_0975.jpg')\n",
        "image_resized=cv2.resize(image,(128,128))\n",
        "image=np.expand_dims(image_resized,axis=0)\n",
        "pred=model.predict(image)\n",
        "print(pred)"
      ],
      "metadata": {
        "colab": {
          "base_uri": "https://localhost:8080/"
        },
        "id": "4YJcqOWjv8BI",
        "outputId": "6a7a5196-39b9-4f83-9d9a-a53b109ab535"
      },
      "execution_count": null,
      "outputs": [
        {
          "output_type": "stream",
          "name": "stdout",
          "text": [
            "1/1 [==============================] - 0s 22ms/step\n",
            "[[0.       0.       0.       ... 0.       4.905726 0.      ]]\n"
          ]
        }
      ]
    },
    {
      "cell_type": "code",
      "source": [
        "import cv2\n",
        "image=cv2.imread('/content/gdrive/MyDrive/dataset/T51+T52BAD+T53BAD+T54BAD/Test/good_dataset/DJI_0977.jpg')\n",
        "image_resized=cv2.resize(image,(128,128))\n",
        "image=np.expand_dims(image_resized,axis=0)\n",
        "pred=model.predict(image)\n",
        "print(pred)"
      ],
      "metadata": {
        "colab": {
          "base_uri": "https://localhost:8080/"
        },
        "id": "cQckOnyDv8FA",
        "outputId": "dc3514a0-aa70-40fe-8abf-be5707f94c2e"
      },
      "execution_count": null,
      "outputs": [
        {
          "output_type": "stream",
          "name": "stdout",
          "text": [
            "1/1 [==============================] - 0s 33ms/step\n",
            "[[0.       0.       0.       ... 0.       4.973693 0.      ]]\n"
          ]
        }
      ]
    },
    {
      "cell_type": "code",
      "source": [
        "import cv2\n",
        "image=cv2.imread('/content/gdrive/MyDrive/dataset/T51+T52BAD+T53BAD+T54BAD/Test/good_dataset/DJI_0979.jpg')\n",
        "image_resized=cv2.resize(image,(128,128))\n",
        "image=np.expand_dims(image_resized,axis=0)\n",
        "pred=model.predict(image)\n",
        "print(pred)"
      ],
      "metadata": {
        "colab": {
          "base_uri": "https://localhost:8080/"
        },
        "id": "eqyFrLxov8Iq",
        "outputId": "ef49b109-637d-4bfd-8140-8d461a6ef922"
      },
      "execution_count": null,
      "outputs": [
        {
          "output_type": "stream",
          "name": "stdout",
          "text": [
            "1/1 [==============================] - 0s 22ms/step\n",
            "[[0.      0.      0.      ... 0.      4.96601 0.     ]]\n"
          ]
        }
      ]
    },
    {
      "cell_type": "code",
      "source": [
        "import cv2\n",
        "image=cv2.imread('/content/gdrive/MyDrive/dataset/T51+T52BAD+T53BAD+T54BAD/Test/good_dataset/DJI_0981.jpg')\n",
        "image_resized=cv2.resize(image,(128,128))\n",
        "image=np.expand_dims(image_resized,axis=0)\n",
        "pred=model.predict(image)\n",
        "print(pred)"
      ],
      "metadata": {
        "colab": {
          "base_uri": "https://localhost:8080/"
        },
        "id": "SSw78z_Bv8MC",
        "outputId": "615de41d-b5ef-44cc-9c96-db73438e445d"
      },
      "execution_count": null,
      "outputs": [
        {
          "output_type": "stream",
          "name": "stdout",
          "text": [
            "1/1 [==============================] - 0s 38ms/step\n",
            "[[0.      0.      0.      ... 0.      5.06108 0.     ]]\n"
          ]
        }
      ]
    },
    {
      "cell_type": "code",
      "source": [
        "import cv2\n",
        "image=cv2.imread('/content/gdrive/MyDrive/dataset/T51+T52BAD+T53BAD+T54BAD/Test/good_dataset/DJI_0983.jpg')\n",
        "image_resized=cv2.resize(image,(128,128))\n",
        "image=np.expand_dims(image_resized,axis=0)\n",
        "pred=model.predict(image)\n",
        "print(pred)"
      ],
      "metadata": {
        "colab": {
          "base_uri": "https://localhost:8080/"
        },
        "id": "uPIQ1GYRwggJ",
        "outputId": "15f6a8f7-ce19-4f91-fdee-2b6c537cca62"
      },
      "execution_count": null,
      "outputs": [
        {
          "output_type": "stream",
          "name": "stdout",
          "text": [
            "1/1 [==============================] - 0s 25ms/step\n",
            "[[0.       0.       0.       ... 0.       5.067629 0.      ]]\n"
          ]
        }
      ]
    },
    {
      "cell_type": "code",
      "source": [
        "import cv2\n",
        "image=cv2.imread('/content/gdrive/MyDrive/dataset/T51+T52BAD+T53BAD+T54BAD/Test/good_dataset/DJI_0985.jpg')\n",
        "image_resized=cv2.resize(image,(128,128))\n",
        "image=np.expand_dims(image_resized,axis=0)\n",
        "pred=model.predict(image)\n",
        "print(pred)"
      ],
      "metadata": {
        "colab": {
          "base_uri": "https://localhost:8080/"
        },
        "id": "a1Q9O2gswgsH",
        "outputId": "ea5da85c-14b4-45c1-85d1-5b56e7dce03c"
      },
      "execution_count": null,
      "outputs": [
        {
          "output_type": "stream",
          "name": "stdout",
          "text": [
            "1/1 [==============================] - 0s 24ms/step\n",
            "[[0.        0.        0.        ... 0.        4.8321733 0.       ]]\n"
          ]
        }
      ]
    },
    {
      "cell_type": "code",
      "source": [
        "import cv2\n",
        "image=cv2.imread('/content/gdrive/MyDrive/dataset/T51+T52BAD+T53BAD+T54BAD/Test/good_dataset/DJI_0987.jpg')\n",
        "image_resized=cv2.resize(image,(128,128))\n",
        "image=np.expand_dims(image_resized,axis=0)\n",
        "pred=model.predict(image)\n",
        "print(pred)"
      ],
      "metadata": {
        "colab": {
          "base_uri": "https://localhost:8080/"
        },
        "id": "__UL6VTrwgyq",
        "outputId": "433277ec-cc15-44c9-8642-54e9b212fec4"
      },
      "execution_count": null,
      "outputs": [
        {
          "output_type": "stream",
          "name": "stdout",
          "text": [
            "1/1 [==============================] - 0s 33ms/step\n",
            "[[0.       0.       0.       ... 0.       4.814024 0.      ]]\n"
          ]
        }
      ]
    },
    {
      "cell_type": "code",
      "source": [
        "import cv2\n",
        "image=cv2.imread('/content/gdrive/MyDrive/dataset/T51+T52BAD+T53BAD+T54BAD/Test/good_dataset/DJI_0989.jpg')\n",
        "image_resized=cv2.resize(image,(128,128))\n",
        "image=np.expand_dims(image_resized,axis=0)\n",
        "pred=model.predict(image)\n",
        "print(pred)"
      ],
      "metadata": {
        "colab": {
          "base_uri": "https://localhost:8080/"
        },
        "id": "FC1i9yy7wg7J",
        "outputId": "fd493dfb-97bb-4eeb-e9e2-381591f7412f"
      },
      "execution_count": null,
      "outputs": [
        {
          "output_type": "stream",
          "name": "stdout",
          "text": [
            "1/1 [==============================] - 0s 39ms/step\n",
            "[[0.        0.        0.        ... 0.        4.7993264 0.       ]]\n"
          ]
        }
      ]
    },
    {
      "cell_type": "code",
      "source": [
        "import cv2\n",
        "image=cv2.imread('/content/gdrive/MyDrive/dataset/T51+T52BAD+T53BAD+T54BAD/Test/good_dataset/DJI_0991.jpg')\n",
        "image_resized=cv2.resize(image,(128,128))\n",
        "image=np.expand_dims(image_resized,axis=0)\n",
        "pred=model.predict(image)\n",
        "print(pred)"
      ],
      "metadata": {
        "colab": {
          "base_uri": "https://localhost:8080/"
        },
        "id": "yiJJNoMDwirZ",
        "outputId": "f79db005-150f-4e07-d160-9b61219e01f7"
      },
      "execution_count": null,
      "outputs": [
        {
          "output_type": "stream",
          "name": "stdout",
          "text": [
            "1/1 [==============================] - 0s 24ms/step\n",
            "[[0.       0.       0.       ... 0.       4.763401 0.      ]]\n"
          ]
        }
      ]
    },
    {
      "cell_type": "code",
      "source": [
        "import cv2\n",
        "image=cv2.imread('/content/gdrive/MyDrive/dataset/T51+T52BAD+T53BAD+T54BAD/Test/good_dataset/DJI_0993.jpg')\n",
        "image_resized=cv2.resize(image,(128,128))\n",
        "image=np.expand_dims(image_resized,axis=0)\n",
        "pred=model.predict(image)\n",
        "print(pred)"
      ],
      "metadata": {
        "colab": {
          "base_uri": "https://localhost:8080/"
        },
        "id": "qjV44lnhw4M6",
        "outputId": "a458c009-ac64-4663-9937-b503e9bac645"
      },
      "execution_count": null,
      "outputs": [
        {
          "output_type": "stream",
          "name": "stdout",
          "text": [
            "1/1 [==============================] - 0s 29ms/step\n",
            "[[0.       0.       0.       ... 0.       4.969332 0.      ]]\n"
          ]
        }
      ]
    },
    {
      "cell_type": "code",
      "source": [
        "import cv2\n",
        "image=cv2.imread('/content/gdrive/MyDrive/dataset/T51+T52BAD+T53BAD+T54BAD/Test/good_dataset/DJI_0995.jpg')\n",
        "image_resized=cv2.resize(image,(128,128))\n",
        "image=np.expand_dims(image_resized,axis=0)\n",
        "pred=model.predict(image)\n",
        "print(pred)"
      ],
      "metadata": {
        "colab": {
          "base_uri": "https://localhost:8080/"
        },
        "outputId": "e58de8f7-6164-4646-bd66-c770fcc456b5",
        "id": "lqF_ymficCmz"
      },
      "execution_count": null,
      "outputs": [
        {
          "output_type": "stream",
          "name": "stdout",
          "text": [
            "1/1 [==============================] - 0s 33ms/step\n",
            "[[0.       0.       0.       ... 0.       5.098462 0.      ]]\n"
          ]
        }
      ]
    },
    {
      "cell_type": "code",
      "source": [
        "\n",
        "from sklearn.metrics import classification_report,confusion_matrix\n",
        "truth=['bad','bad','bad','bad','bad','bad','bad','bad','bad','bad','bad','bad','bad','bad','bad','bad','bad','bad','good','good','good','good','good','good','good','good','good','good','good','good','good','good','good','good','good','good','good','good','good','good','good','good','good','good','good','good','good','good','good','good','good','good','good','good','good','good','good','good','good','good','good','good','good','good','good','good','good','good','good','good','good','good','good','good','good','good','good','good','good','good','good','good']\n",
        "prediction=['bad','bad','bad','bad','bad','bad','bad','bad','bad','bad','bad','bad','bad','bad','bad','bad','bad','bad','bad','bad','bad','bad','bad','bad','bad','bad','bad','bad','bad','bad','bad','bad','bad','bad','bad','bad','bad','bad','bad','bad','bad','bad','bad','bad','bad','bad','bad','bad','bad','bad','bad','bad','bad','bad','bad','bad','bad','bad','bad','bad','bad','bad','bad','bad','bad','bad','bad','bad','bad','bad','bad','bad','bad','bad','bad','bad','bad','bad','bad','bad','bad','bad']\n",
        "print(classification_report(truth,prediction))\n",
        "print(confusion_matrix(truth,prediction))"
      ],
      "metadata": {
        "colab": {
          "base_uri": "https://localhost:8080/"
        },
        "id": "UrtaRxfvwX53",
        "outputId": "2cb8d50d-5f15-4e2b-c59c-b15428a398c8"
      },
      "execution_count": null,
      "outputs": [
        {
          "output_type": "stream",
          "name": "stdout",
          "text": [
            "              precision    recall  f1-score   support\n",
            "\n",
            "         bad       0.22      1.00      0.36        18\n",
            "        good       0.00      0.00      0.00        64\n",
            "\n",
            "    accuracy                           0.22        82\n",
            "   macro avg       0.11      0.50      0.18        82\n",
            "weighted avg       0.05      0.22      0.08        82\n",
            "\n",
            "[[18  0]\n",
            " [64  0]]\n"
          ]
        },
        {
          "output_type": "stream",
          "name": "stderr",
          "text": [
            "/usr/local/lib/python3.10/dist-packages/sklearn/metrics/_classification.py:1344: UndefinedMetricWarning: Precision and F-score are ill-defined and being set to 0.0 in labels with no predicted samples. Use `zero_division` parameter to control this behavior.\n",
            "  _warn_prf(average, modifier, msg_start, len(result))\n",
            "/usr/local/lib/python3.10/dist-packages/sklearn/metrics/_classification.py:1344: UndefinedMetricWarning: Precision and F-score are ill-defined and being set to 0.0 in labels with no predicted samples. Use `zero_division` parameter to control this behavior.\n",
            "  _warn_prf(average, modifier, msg_start, len(result))\n",
            "/usr/local/lib/python3.10/dist-packages/sklearn/metrics/_classification.py:1344: UndefinedMetricWarning: Precision and F-score are ill-defined and being set to 0.0 in labels with no predicted samples. Use `zero_division` parameter to control this behavior.\n",
            "  _warn_prf(average, modifier, msg_start, len(result))\n"
          ]
        }
      ]
    }
  ],
  "metadata": {
    "colab": {
      "provenance": [],
      "gpuType": "T4",
      "authorship_tag": "ABX9TyNlNwyCUuk2O7d6VOUkity9",
      "include_colab_link": true
    },
    "gpuClass": "standard",
    "kernelspec": {
      "display_name": "Python 3",
      "name": "python3"
    },
    "language_info": {
      "name": "python"
    }
  },
  "nbformat": 4,
  "nbformat_minor": 0
}