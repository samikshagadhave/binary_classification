{
  "cells": [
    {
      "cell_type": "markdown",
      "metadata": {
        "id": "view-in-github",
        "colab_type": "text"
      },
      "source": [
        "<a href=\"https://colab.research.google.com/github/samikshagadhave/binary_classification/blob/main/binary_classification_with_VGG16_on_transmission_dataset.ipynb\" target=\"_parent\"><img src=\"https://colab.research.google.com/assets/colab-badge.svg\" alt=\"Open In Colab\"/></a>"
      ]
    },
    {
      "cell_type": "code",
      "execution_count": null,
      "metadata": {
        "colab": {
          "base_uri": "https://localhost:8080/"
        },
        "id": "Sm274-P8tCEI",
        "outputId": "44e4ce90-5380-439d-ee3b-4c0f915883b6"
      },
      "outputs": [
        {
          "output_type": "stream",
          "name": "stdout",
          "text": [
            "Mounted at /content/gdrive\n"
          ]
        }
      ],
      "source": [
        "from google.colab import drive\n",
        "drive.mount(\"/content/gdrive\")"
      ]
    },
    {
      "cell_type": "code",
      "execution_count": null,
      "metadata": {
        "colab": {
          "base_uri": "https://localhost:8080/"
        },
        "id": "Wky_mmEwUvxR",
        "outputId": "87454fd2-1031-41b5-d0a4-00f31b41076a"
      },
      "outputs": [
        {
          "output_type": "stream",
          "name": "stdout",
          "text": [
            "/content/gdrive\n"
          ]
        }
      ],
      "source": [
        "%cd /content/gdrive"
      ]
    },
    {
      "cell_type": "code",
      "execution_count": null,
      "metadata": {
        "colab": {
          "base_uri": "https://localhost:8080/"
        },
        "id": "du5chXxegJnn",
        "outputId": "371fd337-03d4-4dd3-fd1f-d358793b2852"
      },
      "outputs": [
        {
          "output_type": "stream",
          "name": "stdout",
          "text": [
            "bad_dataset folder created and relevant images have been moved\n",
            "bad_dataset folder created and relevant images have been moved\n",
            "bad_dataset folder created and relevant images have been moved\n",
            "bad_dataset folder created and relevant images have been moved\n",
            "bad_dataset folder created and relevant images have been moved\n",
            "bad_dataset folder created and relevant images have been moved\n",
            "bad_dataset folder created and relevant images have been moved\n",
            "bad_dataset folder created and relevant images have been moved\n",
            "bad_dataset folder created and relevant images have been moved\n",
            "bad_dataset folder created and relevant images have been moved\n",
            "bad_dataset folder created and relevant images have been moved\n",
            "bad_dataset folder created and relevant images have been moved\n",
            "bad_dataset folder created and relevant images have been moved\n",
            "bad_dataset folder created and relevant images have been moved\n",
            "bad_dataset folder created and relevant images have been moved\n",
            "bad_dataset folder created and relevant images have been moved\n",
            "bad_dataset folder created and relevant images have been moved\n",
            "bad_dataset folder created and relevant images have been moved\n",
            "bad_dataset folder created and relevant images have been moved\n",
            "bad_dataset folder created and relevant images have been moved\n",
            "bad_dataset folder created and relevant images have been moved\n",
            "bad_dataset folder created and relevant images have been moved\n",
            "bad_dataset folder created and relevant images have been moved\n",
            "bad_dataset folder created and relevant images have been moved\n",
            "bad_dataset folder created and relevant images have been moved\n",
            "bad_dataset folder created and relevant images have been moved\n",
            "bad_dataset folder created and relevant images have been moved\n",
            "bad_dataset folder created and relevant images have been moved\n",
            "bad_dataset folder created and relevant images have been moved\n",
            "bad_dataset folder created and relevant images have been moved\n",
            "bad_dataset folder created and relevant images have been moved\n",
            "bad_dataset folder created and relevant images have been moved\n",
            "bad_dataset folder created and relevant images have been moved\n",
            "bad_dataset folder created and relevant images have been moved\n",
            "good_dataset folder created and relevant images have been moved\n",
            "good_dataset folder created and relevant images have been moved\n",
            "good_dataset folder created and relevant images have been moved\n",
            "good_dataset folder created and relevant images have been moved\n",
            "good_dataset folder created and relevant images have been moved\n",
            "good_dataset folder created and relevant images have been moved\n",
            "good_dataset folder created and relevant images have been moved\n",
            "good_dataset folder created and relevant images have been moved\n",
            "good_dataset folder created and relevant images have been moved\n",
            "good_dataset folder created and relevant images have been moved\n",
            "good_dataset folder created and relevant images have been moved\n",
            "good_dataset folder created and relevant images have been moved\n",
            "good_dataset folder created and relevant images have been moved\n",
            "good_dataset folder created and relevant images have been moved\n",
            "good_dataset folder created and relevant images have been moved\n",
            "good_dataset folder created and relevant images have been moved\n",
            "good_dataset folder created and relevant images have been moved\n",
            "good_dataset folder created and relevant images have been moved\n",
            "good_dataset folder created and relevant images have been moved\n",
            "good_dataset folder created and relevant images have been moved\n",
            "good_dataset folder created and relevant images have been moved\n",
            "good_dataset folder created and relevant images have been moved\n",
            "good_dataset folder created and relevant images have been moved\n",
            "good_dataset folder created and relevant images have been moved\n",
            "good_dataset folder created and relevant images have been moved\n",
            "good_dataset folder created and relevant images have been moved\n",
            "good_dataset folder created and relevant images have been moved\n",
            "good_dataset folder created and relevant images have been moved\n",
            "good_dataset folder created and relevant images have been moved\n",
            "good_dataset folder created and relevant images have been moved\n",
            "good_dataset folder created and relevant images have been moved\n",
            "good_dataset folder created and relevant images have been moved\n",
            "good_dataset folder created and relevant images have been moved\n",
            "good_dataset folder created and relevant images have been moved\n",
            "good_dataset folder created and relevant images have been moved\n",
            "good_dataset folder created and relevant images have been moved\n",
            "good_dataset folder created and relevant images have been moved\n",
            "good_dataset folder created and relevant images have been moved\n",
            "good_dataset folder created and relevant images have been moved\n",
            "good_dataset folder created and relevant images have been moved\n",
            "good_dataset folder created and relevant images have been moved\n",
            "good_dataset folder created and relevant images have been moved\n",
            "good_dataset folder created and relevant images have been moved\n",
            "good_dataset folder created and relevant images have been moved\n",
            "good_dataset folder created and relevant images have been moved\n",
            "good_dataset folder created and relevant images have been moved\n",
            "good_dataset folder created and relevant images have been moved\n",
            "good_dataset folder created and relevant images have been moved\n",
            "good_dataset folder created and relevant images have been moved\n",
            "good_dataset folder created and relevant images have been moved\n",
            "good_dataset folder created and relevant images have been moved\n",
            "good_dataset folder created and relevant images have been moved\n",
            "good_dataset folder created and relevant images have been moved\n",
            "good_dataset folder created and relevant images have been moved\n",
            "good_dataset folder created and relevant images have been moved\n",
            "good_dataset folder created and relevant images have been moved\n",
            "good_dataset folder created and relevant images have been moved\n",
            "good_dataset folder created and relevant images have been moved\n",
            "good_dataset folder created and relevant images have been moved\n",
            "good_dataset folder created and relevant images have been moved\n",
            "good_dataset folder created and relevant images have been moved\n",
            "good_dataset folder created and relevant images have been moved\n",
            "good_dataset folder created and relevant images have been moved\n",
            "good_dataset folder created and relevant images have been moved\n",
            "good_dataset folder created and relevant images have been moved\n",
            "good_dataset folder created and relevant images have been moved\n",
            "good_dataset folder created and relevant images have been moved\n",
            "good_dataset folder created and relevant images have been moved\n",
            "good_dataset folder created and relevant images have been moved\n",
            "good_dataset folder created and relevant images have been moved\n",
            "good_dataset folder created and relevant images have been moved\n",
            "good_dataset folder created and relevant images have been moved\n",
            "good_dataset folder created and relevant images have been moved\n",
            "good_dataset folder created and relevant images have been moved\n",
            "good_dataset folder created and relevant images have been moved\n",
            "good_dataset folder created and relevant images have been moved\n",
            "good_dataset folder created and relevant images have been moved\n",
            "good_dataset folder created and relevant images have been moved\n",
            "good_dataset folder created and relevant images have been moved\n",
            "good_dataset folder created and relevant images have been moved\n",
            "good_dataset folder created and relevant images have been moved\n",
            "good_dataset folder created and relevant images have been moved\n",
            "good_dataset folder created and relevant images have been moved\n",
            "good_dataset folder created and relevant images have been moved\n",
            "good_dataset folder created and relevant images have been moved\n",
            "good_dataset folder created and relevant images have been moved\n",
            "good_dataset folder created and relevant images have been moved\n",
            "good_dataset folder created and relevant images have been moved\n",
            "good_dataset folder created and relevant images have been moved\n",
            "good_dataset folder created and relevant images have been moved\n",
            "good_dataset folder created and relevant images have been moved\n",
            "good_dataset folder created and relevant images have been moved\n",
            "good_dataset folder created and relevant images have been moved\n",
            "good_dataset folder created and relevant images have been moved\n",
            "good_dataset folder created and relevant images have been moved\n",
            "good_dataset folder created and relevant images have been moved\n",
            "good_dataset folder created and relevant images have been moved\n",
            "good_dataset folder created and relevant images have been moved\n",
            "good_dataset folder created and relevant images have been moved\n",
            "good_dataset folder created and relevant images have been moved\n",
            "good_dataset folder created and relevant images have been moved\n",
            "good_dataset folder created and relevant images have been moved\n",
            "good_dataset folder created and relevant images have been moved\n",
            "good_dataset folder created and relevant images have been moved\n",
            "good_dataset folder created and relevant images have been moved\n",
            "good_dataset folder created and relevant images have been moved\n",
            "good_dataset folder created and relevant images have been moved\n",
            "good_dataset folder created and relevant images have been moved\n",
            "good_dataset folder created and relevant images have been moved\n",
            "good_dataset folder created and relevant images have been moved\n",
            "good_dataset folder created and relevant images have been moved\n",
            "good_dataset folder created and relevant images have been moved\n",
            "good_dataset folder created and relevant images have been moved\n",
            "good_dataset folder created and relevant images have been moved\n",
            "good_dataset folder created and relevant images have been moved\n",
            "good_dataset folder created and relevant images have been moved\n",
            "good_dataset folder created and relevant images have been moved\n",
            "good_dataset folder created and relevant images have been moved\n",
            "good_dataset folder created and relevant images have been moved\n",
            "good_dataset folder created and relevant images have been moved\n",
            "good_dataset folder created and relevant images have been moved\n",
            "good_dataset folder created and relevant images have been moved\n",
            "good_dataset folder created and relevant images have been moved\n",
            "good_dataset folder created and relevant images have been moved\n",
            "good_dataset folder created and relevant images have been moved\n",
            "good_dataset folder created and relevant images have been moved\n",
            "good_dataset folder created and relevant images have been moved\n",
            "good_dataset folder created and relevant images have been moved\n",
            "good_dataset folder created and relevant images have been moved\n",
            "good_dataset folder created and relevant images have been moved\n",
            "good_dataset folder created and relevant images have been moved\n",
            "good_dataset folder created and relevant images have been moved\n",
            "good_dataset folder created and relevant images have been moved\n",
            "good_dataset folder created and relevant images have been moved\n",
            "good_dataset folder created and relevant images have been moved\n",
            "good_dataset folder created and relevant images have been moved\n",
            "good_dataset folder created and relevant images have been moved\n",
            "good_dataset folder created and relevant images have been moved\n",
            "good_dataset folder created and relevant images have been moved\n",
            "good_dataset folder created and relevant images have been moved\n",
            "good_dataset folder created and relevant images have been moved\n",
            "good_dataset folder created and relevant images have been moved\n",
            "good_dataset folder created and relevant images have been moved\n",
            "good_dataset folder created and relevant images have been moved\n",
            "good_dataset folder created and relevant images have been moved\n",
            "good_dataset folder created and relevant images have been moved\n",
            "good_dataset folder created and relevant images have been moved\n",
            "good_dataset folder created and relevant images have been moved\n",
            "good_dataset folder created and relevant images have been moved\n",
            "good_dataset folder created and relevant images have been moved\n",
            "good_dataset folder created and relevant images have been moved\n",
            "good_dataset folder created and relevant images have been moved\n",
            "good_dataset folder created and relevant images have been moved\n",
            "good_dataset folder created and relevant images have been moved\n",
            "good_dataset folder created and relevant images have been moved\n",
            "good_dataset folder created and relevant images have been moved\n",
            "good_dataset folder created and relevant images have been moved\n",
            "good_dataset folder created and relevant images have been moved\n",
            "good_dataset folder created and relevant images have been moved\n",
            "good_dataset folder created and relevant images have been moved\n",
            "good_dataset folder created and relevant images have been moved\n",
            "good_dataset folder created and relevant images have been moved\n",
            "good_dataset folder created and relevant images have been moved\n",
            "good_dataset folder created and relevant images have been moved\n",
            "good_dataset folder created and relevant images have been moved\n",
            "bad_dataset folder created and relevant images have been moved\n",
            "bad_dataset folder created and relevant images have been moved\n",
            "bad_dataset folder created and relevant images have been moved\n",
            "bad_dataset folder created and relevant images have been moved\n",
            "bad_dataset folder created and relevant images have been moved\n",
            "bad_dataset folder created and relevant images have been moved\n",
            "bad_dataset folder created and relevant images have been moved\n",
            "bad_dataset folder created and relevant images have been moved\n",
            "bad_dataset folder created and relevant images have been moved\n",
            "bad_dataset folder created and relevant images have been moved\n",
            "bad_dataset folder created and relevant images have been moved\n",
            "bad_dataset folder created and relevant images have been moved\n",
            "bad_dataset folder created and relevant images have been moved\n",
            "bad_dataset folder created and relevant images have been moved\n",
            "bad_dataset folder created and relevant images have been moved\n",
            "bad_dataset folder created and relevant images have been moved\n",
            "bad_dataset folder created and relevant images have been moved\n",
            "bad_dataset folder created and relevant images have been moved\n",
            "bad_dataset folder created and relevant images have been moved\n",
            "bad_dataset folder created and relevant images have been moved\n",
            "bad_dataset folder created and relevant images have been moved\n",
            "bad_dataset folder created and relevant images have been moved\n",
            "good_dataset folder created and relevant images have been moved\n",
            "good_dataset folder created and relevant images have been moved\n",
            "good_dataset folder created and relevant images have been moved\n",
            "good_dataset folder created and relevant images have been moved\n",
            "good_dataset folder created and relevant images have been moved\n",
            "good_dataset folder created and relevant images have been moved\n",
            "good_dataset folder created and relevant images have been moved\n",
            "good_dataset folder created and relevant images have been moved\n",
            "good_dataset folder created and relevant images have been moved\n",
            "good_dataset folder created and relevant images have been moved\n",
            "good_dataset folder created and relevant images have been moved\n",
            "good_dataset folder created and relevant images have been moved\n",
            "good_dataset folder created and relevant images have been moved\n",
            "good_dataset folder created and relevant images have been moved\n",
            "good_dataset folder created and relevant images have been moved\n",
            "good_dataset folder created and relevant images have been moved\n",
            "good_dataset folder created and relevant images have been moved\n",
            "good_dataset folder created and relevant images have been moved\n",
            "good_dataset folder created and relevant images have been moved\n",
            "good_dataset folder created and relevant images have been moved\n",
            "good_dataset folder created and relevant images have been moved\n",
            "good_dataset folder created and relevant images have been moved\n",
            "good_dataset folder created and relevant images have been moved\n",
            "good_dataset folder created and relevant images have been moved\n",
            "good_dataset folder created and relevant images have been moved\n",
            "good_dataset folder created and relevant images have been moved\n",
            "good_dataset folder created and relevant images have been moved\n",
            "good_dataset folder created and relevant images have been moved\n",
            "good_dataset folder created and relevant images have been moved\n",
            "good_dataset folder created and relevant images have been moved\n",
            "good_dataset folder created and relevant images have been moved\n",
            "good_dataset folder created and relevant images have been moved\n",
            "good_dataset folder created and relevant images have been moved\n",
            "good_dataset folder created and relevant images have been moved\n",
            "good_dataset folder created and relevant images have been moved\n",
            "good_dataset folder created and relevant images have been moved\n",
            "good_dataset folder created and relevant images have been moved\n",
            "good_dataset folder created and relevant images have been moved\n",
            "good_dataset folder created and relevant images have been moved\n",
            "good_dataset folder created and relevant images have been moved\n",
            "good_dataset folder created and relevant images have been moved\n",
            "good_dataset folder created and relevant images have been moved\n",
            "good_dataset folder created and relevant images have been moved\n",
            "good_dataset folder created and relevant images have been moved\n",
            "good_dataset folder created and relevant images have been moved\n",
            "good_dataset folder created and relevant images have been moved\n",
            "good_dataset folder created and relevant images have been moved\n",
            "good_dataset folder created and relevant images have been moved\n",
            "good_dataset folder created and relevant images have been moved\n",
            "good_dataset folder created and relevant images have been moved\n",
            "good_dataset folder created and relevant images have been moved\n",
            "good_dataset folder created and relevant images have been moved\n",
            "good_dataset folder created and relevant images have been moved\n",
            "good_dataset folder created and relevant images have been moved\n",
            "good_dataset folder created and relevant images have been moved\n",
            "good_dataset folder created and relevant images have been moved\n",
            "good_dataset folder created and relevant images have been moved\n",
            "good_dataset folder created and relevant images have been moved\n",
            "good_dataset folder created and relevant images have been moved\n",
            "good_dataset folder created and relevant images have been moved\n",
            "good_dataset folder created and relevant images have been moved\n",
            "good_dataset folder created and relevant images have been moved\n",
            "good_dataset folder created and relevant images have been moved\n",
            "good_dataset folder created and relevant images have been moved\n"
          ]
        }
      ],
      "source": [
        "import pandas as pd\n",
        "\n",
        "df=pd.read_excel(r'/content/gdrive/MyDrive/dataset/T51+T52BAD+T53BAD+T54BAD+T57BAD +T58BAD/Train 1.xlsx')\n",
        "\n",
        "df['OR_Gate']=df['Tower']|df['Transmission line']|df['insulator']|df['vibration damper']\n",
        "#print(df['OR_Gate'])\n",
        "\n",
        "Bad_dataset=list(df[df['OR_Gate']==0][\"Image Name\"])\n",
        "#print(Bad_dataset)\n",
        "\n",
        "Good_dataset=list(df[df['OR_Gate']==1][\"Image Name\"])\n",
        "#print(Good_dataset)\n",
        "path=r\"/content/gdrive/MyDrive/dataset/T51+T52BAD+T53BAD+T54BAD+T57BAD +T58BAD/train/\"\n",
        "\n",
        "img_path_Bad_dataset=r\"/content/gdrive/MyDrive/dataset/T51+T52BAD+T53BAD+T54BAD+T57BAD +T58BAD/Train/bad_dataset/\"\n",
        "\n",
        "img_path_Good_dataset =r\"/content/gdrive/MyDrive/dataset/T51+T52BAD+T53BAD+T54BAD+T57BAD +T58BAD/Train/good_dataset/\"\n",
        "import shutil\n",
        "for i in Bad_dataset:\n",
        "   src_path=path+i\n",
        "   #print(src_path)\n",
        "   dest_path=img_path_Bad_dataset+i\n",
        "   #print(dest_path)\n",
        "   temp=shutil.copy(src_path,dest_path)\n",
        "   #print(temp)\n",
        "   print(\"bad_dataset folder created and relevant images have been moved\")\n",
        "for i in Good_dataset:\n",
        "   src_path=path+i\n",
        "   #print(src_path)\n",
        "   dest_path=img_path_Good_dataset+i\n",
        "   #print(dest_path)\n",
        "   temp=shutil.copy(src_path, dest_path)\n",
        "   print(\"good_dataset folder created and relevant images have been moved\")\n",
        "\n",
        "\n",
        "df=pd.read_excel(r'/content/gdrive/MyDrive/dataset/T51+T52BAD+T53BAD+T54BAD+T57BAD +T58BAD/Test 1.xlsx')\n",
        "\n",
        "df['OR_Gate']=df['Tower']|df['Transmission line']|df['insulator']|df['vibration damper']\n",
        "#print(df['OR_Gate'])\n",
        "\n",
        "Bad_dataset=list(df[df['OR_Gate']==0][\"Image Name\"])\n",
        "Good_dataset=list(df[df['OR_Gate']==1][\"Image Name\"])\n",
        "#print(Good_dataset)\n",
        "path=r\"/content/gdrive/MyDrive/dataset/T51+T52BAD+T53BAD+T54BAD+T57BAD +T58BAD/test/\"\n",
        "\n",
        "img_path_Bad_dataset=r\"/content/gdrive/MyDrive/dataset/T51+T52BAD+T53BAD+T54BAD+T57BAD +T58BAD/Test/bad_dataset/\"\n",
        "img_path_Good_dataset =r\"/content/gdrive/MyDrive/dataset/T51+T52BAD+T53BAD+T54BAD+T57BAD +T58BAD/Test/good_dataset/\"\n",
        "import shutil\n",
        "for i in Bad_dataset:\n",
        "   src_path=path+i\n",
        "   #print(src_path)\n",
        "   dest_path=img_path_Bad_dataset+i\n",
        "   #print(dest_path)\n",
        "   temp=shutil.copy(src_path,dest_path)\n",
        "   #print(temp)\n",
        "   print(\"bad_dataset folder created and relevant images have been moved\")\n",
        "for i in Good_dataset:\n",
        "   src_path=path+i\n",
        "   #print(src_path)\n",
        "   dest_path=img_path_Good_dataset+i\n",
        "   #print(dest_path)\n",
        "   temp=shutil.copy(src_path, dest_path)\n",
        "   print(\"good_dataset folder created and relevant images have been moved\")\n"
      ]
    },
    {
      "cell_type": "code",
      "execution_count": null,
      "metadata": {
        "colab": {
          "base_uri": "https://localhost:8080/"
        },
        "id": "RUuIX4ZpZVkT",
        "outputId": "47fe9e25-e129-4f1e-ba3b-4d0825385e43"
      },
      "outputs": [
        {
          "output_type": "stream",
          "name": "stdout",
          "text": [
            "Found 198 files belonging to 2 classes.\n",
            "Found 86 files belonging to 2 classes.\n",
            "<_BatchDataset element_spec=(TensorSpec(shape=(None, 128, 128, 3), dtype=tf.float32, name=None), TensorSpec(shape=(None,), dtype=tf.int32, name=None))>\n",
            "<_BatchDataset element_spec=(TensorSpec(shape=(None, 128, 128, 3), dtype=tf.float32, name=None), TensorSpec(shape=(None,), dtype=tf.int32, name=None))>\n"
          ]
        }
      ],
      "source": [
        "import tensorflow as tf\n",
        "from tensorflow import keras\n",
        "from tensorflow.keras.layers import Dense, Flatten,Dropout\n",
        "from tensorflow.keras.preprocessing import image\n",
        "from tensorflow.keras.models import Sequential\n",
        "import numpy as np\n",
        "import pandas as pd\n",
        "import os\n",
        "import cv2\n",
        "import matplotlib.pyplot as plt\n",
        "\n",
        "train_ds=keras.utils.image_dataset_from_directory(\n",
        "    directory=r'/content/gdrive/MyDrive/dataset/T51+T52BAD+T53BAD+T54BAD+T57BAD +T58BAD/Train',\n",
        "    labels='inferred',\n",
        "    label_mode='int',\n",
        "    batch_size=32,\n",
        "    image_size=(128,128)\n",
        ")\n",
        "validation_ds=keras.utils.image_dataset_from_directory(\n",
        "    directory=r'/content/gdrive/MyDrive/dataset/T51+T52BAD+T53BAD+T54BAD+T57BAD +T58BAD/Test',\n",
        "    labels='inferred',\n",
        "    label_mode='int',\n",
        "    batch_size=32,\n",
        "    image_size=(128,128)\n",
        ")\n",
        "\n",
        "print(train_ds)\n",
        "print(validation_ds)\n"
      ]
    },
    {
      "cell_type": "code",
      "execution_count": null,
      "metadata": {
        "colab": {
          "base_uri": "https://localhost:8080/"
        },
        "id": "-aEyna08thf2",
        "outputId": "7244d7aa-9020-4d79-e247-2d0b9c4e6ddd"
      },
      "outputs": [
        {
          "output_type": "stream",
          "name": "stdout",
          "text": [
            "Downloading data from https://storage.googleapis.com/tensorflow/keras-applications/vgg16/vgg16_weights_tf_dim_ordering_tf_kernels_notop.h5\n",
            "58889256/58889256 [==============================] - 0s 0us/step\n",
            "Model: \"vgg16\"\n",
            "_________________________________________________________________\n",
            " Layer (type)                Output Shape              Param #   \n",
            "=================================================================\n",
            " input_1 (InputLayer)        [(None, 128, 128, 3)]     0         \n",
            "                                                                 \n",
            " block1_conv1 (Conv2D)       (None, 128, 128, 64)      1792      \n",
            "                                                                 \n",
            " block1_conv2 (Conv2D)       (None, 128, 128, 64)      36928     \n",
            "                                                                 \n",
            " block1_pool (MaxPooling2D)  (None, 64, 64, 64)        0         \n",
            "                                                                 \n",
            " block2_conv1 (Conv2D)       (None, 64, 64, 128)       73856     \n",
            "                                                                 \n",
            " block2_conv2 (Conv2D)       (None, 64, 64, 128)       147584    \n",
            "                                                                 \n",
            " block2_pool (MaxPooling2D)  (None, 32, 32, 128)       0         \n",
            "                                                                 \n",
            " block3_conv1 (Conv2D)       (None, 32, 32, 256)       295168    \n",
            "                                                                 \n",
            " block3_conv2 (Conv2D)       (None, 32, 32, 256)       590080    \n",
            "                                                                 \n",
            " block3_conv3 (Conv2D)       (None, 32, 32, 256)       590080    \n",
            "                                                                 \n",
            " block3_pool (MaxPooling2D)  (None, 16, 16, 256)       0         \n",
            "                                                                 \n",
            " block4_conv1 (Conv2D)       (None, 16, 16, 512)       1180160   \n",
            "                                                                 \n",
            " block4_conv2 (Conv2D)       (None, 16, 16, 512)       2359808   \n",
            "                                                                 \n",
            " block4_conv3 (Conv2D)       (None, 16, 16, 512)       2359808   \n",
            "                                                                 \n",
            " block4_pool (MaxPooling2D)  (None, 8, 8, 512)         0         \n",
            "                                                                 \n",
            " block5_conv1 (Conv2D)       (None, 8, 8, 512)         2359808   \n",
            "                                                                 \n",
            " block5_conv2 (Conv2D)       (None, 8, 8, 512)         2359808   \n",
            "                                                                 \n",
            " block5_conv3 (Conv2D)       (None, 8, 8, 512)         2359808   \n",
            "                                                                 \n",
            " block5_pool (MaxPooling2D)  (None, 4, 4, 512)         0         \n",
            "                                                                 \n",
            "=================================================================\n",
            "Total params: 14,714,688\n",
            "Trainable params: 14,714,688\n",
            "Non-trainable params: 0\n",
            "_________________________________________________________________\n"
          ]
        }
      ],
      "source": [
        "from tensorflow.keras.applications import VGG16\n",
        "from tensorflow.keras import layers\n",
        "conv_base=VGG16(input_shape=(128,128,3),include_top=False,weights='imagenet')\n",
        "conv_base.summary()\n",
        "for layer in conv_base.layers:\n",
        "  layer.trainable=False\n",
        "model=Sequential()\n",
        "model.add(conv_base)\n",
        "model.add(layers.Flatten())\n",
        "model.add(layers.Dense(256,activation='relu'))\n",
        "model.add(Dropout(0.2))\n",
        "model.add(layers.Dense(1,activation='sigmoid'))\n",
        "model.add(Dropout(0.2))\n",
        ""
      ]
    },
    {
      "cell_type": "code",
      "execution_count": null,
      "metadata": {
        "colab": {
          "base_uri": "https://localhost:8080/"
        },
        "id": "uY3ZN16ILmAh",
        "outputId": "38497c49-a4b2-4cc7-9333-7a186d1a8f26"
      },
      "outputs": [
        {
          "output_type": "stream",
          "name": "stdout",
          "text": [
            "Model: \"sequential\"\n",
            "_________________________________________________________________\n",
            " Layer (type)                Output Shape              Param #   \n",
            "=================================================================\n",
            " vgg16 (Functional)          (None, 4, 4, 512)         14714688  \n",
            "                                                                 \n",
            " flatten (Flatten)           (None, 8192)              0         \n",
            "                                                                 \n",
            " dense (Dense)               (None, 256)               2097408   \n",
            "                                                                 \n",
            " dropout (Dropout)           (None, 256)               0         \n",
            "                                                                 \n",
            " dense_1 (Dense)             (None, 1)                 257       \n",
            "                                                                 \n",
            " dropout_1 (Dropout)         (None, 1)                 0         \n",
            "                                                                 \n",
            "=================================================================\n",
            "Total params: 16,812,353\n",
            "Trainable params: 2,097,665\n",
            "Non-trainable params: 14,714,688\n",
            "_________________________________________________________________\n"
          ]
        }
      ],
      "source": [
        "model.summary()\n"
      ]
    },
    {
      "cell_type": "code",
      "execution_count": null,
      "metadata": {
        "id": "43hilu7Su8V_"
      },
      "outputs": [],
      "source": [
        "from tensorflow.keras.optimizers import Adam\n",
        "from tensorflow.keras.losses import BinaryCrossentropy\n",
        "from tensorflow.keras.metrics import Metric\n",
        "Metric=['accuracy','Precision','Recall']\n",
        "model.compile(loss='BinaryCrossentropy',optimizer=Adam(learning_rate=0.001),metrics=Metric)"
      ]
    },
    {
      "cell_type": "code",
      "execution_count": null,
      "metadata": {
        "colab": {
          "base_uri": "https://localhost:8080/"
        },
        "id": "cBtSXjAzvSIv",
        "outputId": "6911f145-0481-419a-d98d-d0c86192ff52"
      },
      "outputs": [
        {
          "output_type": "stream",
          "name": "stdout",
          "text": [
            "Epoch 1/30\n",
            "7/7 [==============================] - 22s 964ms/step - loss: 4.9583 - accuracy: 0.6768 - precision: 0.8086 - recall: 0.7988 - val_loss: 3.9010 - val_accuracy: 0.7442 - val_precision: 0.7442 - val_recall: 1.0000\n",
            "Epoch 2/30\n",
            "7/7 [==============================] - 21s 1s/step - loss: 4.7237 - accuracy: 0.6919 - precision: 0.8084 - recall: 0.8232 - val_loss: 3.9010 - val_accuracy: 0.7442 - val_precision: 0.7442 - val_recall: 1.0000\n",
            "Epoch 3/30\n",
            "7/7 [==============================] - 22s 1s/step - loss: 5.2699 - accuracy: 0.6566 - precision: 0.8038 - recall: 0.7744 - val_loss: 3.9010 - val_accuracy: 0.7442 - val_precision: 0.7442 - val_recall: 1.0000\n",
            "Epoch 4/30\n",
            "7/7 [==============================] - 19s 955ms/step - loss: 4.5741 - accuracy: 0.7020 - precision: 0.8387 - recall: 0.7927 - val_loss: 3.9010 - val_accuracy: 0.7442 - val_precision: 0.7442 - val_recall: 1.0000\n",
            "Epoch 5/30\n",
            "7/7 [==============================] - 20s 1s/step - loss: 5.0362 - accuracy: 0.6717 - precision: 0.8075 - recall: 0.7927 - val_loss: 3.9010 - val_accuracy: 0.7442 - val_precision: 0.7442 - val_recall: 1.0000\n",
            "Epoch 6/30\n",
            "7/7 [==============================] - 20s 951ms/step - loss: 5.0416 - accuracy: 0.6717 - precision: 0.8322 - recall: 0.7561 - val_loss: 3.9010 - val_accuracy: 0.7442 - val_precision: 0.7442 - val_recall: 1.0000\n",
            "Epoch 7/30\n",
            "7/7 [==============================] - 21s 1s/step - loss: 4.9592 - accuracy: 0.6768 - precision: 0.8125 - recall: 0.7927 - val_loss: 3.9010 - val_accuracy: 0.7442 - val_precision: 0.7442 - val_recall: 1.0000\n",
            "Epoch 8/30\n",
            "7/7 [==============================] - 19s 944ms/step - loss: 4.1076 - accuracy: 0.7323 - precision: 0.8491 - recall: 0.8232 - val_loss: 3.9010 - val_accuracy: 0.7442 - val_precision: 0.7442 - val_recall: 1.0000\n",
            "Epoch 9/30\n",
            "7/7 [==============================] - 22s 1s/step - loss: 4.8849 - accuracy: 0.6818 - precision: 0.8301 - recall: 0.7744 - val_loss: 3.9010 - val_accuracy: 0.7442 - val_precision: 0.7442 - val_recall: 1.0000\n",
            "Epoch 10/30\n",
            "7/7 [==============================] - 20s 959ms/step - loss: 4.7308 - accuracy: 0.6919 - precision: 0.8411 - recall: 0.7744 - val_loss: 3.9010 - val_accuracy: 0.7442 - val_precision: 0.7442 - val_recall: 1.0000\n",
            "Epoch 11/30\n",
            "7/7 [==============================] - 21s 1s/step - loss: 5.1177 - accuracy: 0.6667 - precision: 0.8224 - recall: 0.7622 - val_loss: 3.9010 - val_accuracy: 0.7442 - val_precision: 0.7442 - val_recall: 1.0000\n",
            "Epoch 12/30\n",
            "7/7 [==============================] - 24s 2s/step - loss: 5.2744 - accuracy: 0.6566 - precision: 0.8243 - recall: 0.7439 - val_loss: 3.9010 - val_accuracy: 0.7442 - val_precision: 0.7442 - val_recall: 1.0000\n",
            "Epoch 13/30\n",
            "7/7 [==============================] - 24s 2s/step - loss: 4.5741 - accuracy: 0.7020 - precision: 0.8387 - recall: 0.7927 - val_loss: 3.9010 - val_accuracy: 0.7442 - val_precision: 0.7442 - val_recall: 1.0000\n",
            "Epoch 14/30\n",
            "7/7 [==============================] - 20s 945ms/step - loss: 4.4962 - accuracy: 0.7071 - precision: 0.8397 - recall: 0.7988 - val_loss: 3.9010 - val_accuracy: 0.7442 - val_precision: 0.7442 - val_recall: 1.0000\n",
            "Epoch 15/30\n",
            "7/7 [==============================] - 21s 1s/step - loss: 4.8061 - accuracy: 0.6869 - precision: 0.8269 - recall: 0.7866 - val_loss: 3.9010 - val_accuracy: 0.7442 - val_precision: 0.7442 - val_recall: 1.0000\n",
            "Epoch 16/30\n",
            "7/7 [==============================] - 20s 958ms/step - loss: 4.9601 - accuracy: 0.6768 - precision: 0.8165 - recall: 0.7866 - val_loss: 3.9010 - val_accuracy: 0.7442 - val_precision: 0.7442 - val_recall: 1.0000\n",
            "Epoch 17/30\n",
            "7/7 [==============================] - 21s 1s/step - loss: 4.9610 - accuracy: 0.6768 - precision: 0.8205 - recall: 0.7805 - val_loss: 3.9010 - val_accuracy: 0.7442 - val_precision: 0.7442 - val_recall: 1.0000\n",
            "Epoch 18/30\n",
            "7/7 [==============================] - 20s 946ms/step - loss: 4.4945 - accuracy: 0.7071 - precision: 0.8313 - recall: 0.8110 - val_loss: 3.9010 - val_accuracy: 0.7442 - val_precision: 0.7442 - val_recall: 1.0000\n",
            "Epoch 19/30\n",
            "7/7 [==============================] - 24s 2s/step - loss: 4.5759 - accuracy: 0.7020 - precision: 0.8477 - recall: 0.7805 - val_loss: 3.9010 - val_accuracy: 0.7442 - val_precision: 0.7442 - val_recall: 1.0000\n",
            "Epoch 20/30\n",
            "7/7 [==============================] - 21s 1s/step - loss: 4.9601 - accuracy: 0.6768 - precision: 0.8165 - recall: 0.7866 - val_loss: 3.9010 - val_accuracy: 0.7442 - val_precision: 0.7442 - val_recall: 1.0000\n",
            "Epoch 21/30\n",
            "7/7 [==============================] - 20s 964ms/step - loss: 4.2599 - accuracy: 0.7222 - precision: 0.8303 - recall: 0.8354 - val_loss: 3.9010 - val_accuracy: 0.7442 - val_precision: 0.7442 - val_recall: 1.0000\n",
            "Epoch 22/30\n",
            "7/7 [==============================] - 21s 1s/step - loss: 4.1802 - accuracy: 0.7273 - precision: 0.8235 - recall: 0.8537 - val_loss: 3.9010 - val_accuracy: 0.7442 - val_precision: 0.7442 - val_recall: 1.0000\n",
            "Epoch 23/30\n",
            "7/7 [==============================] - 21s 878ms/step - loss: 4.4174 - accuracy: 0.7121 - precision: 0.8365 - recall: 0.8110 - val_loss: 3.9010 - val_accuracy: 0.7442 - val_precision: 0.7442 - val_recall: 1.0000\n",
            "Epoch 24/30\n",
            "7/7 [==============================] - 20s 948ms/step - loss: 4.9601 - accuracy: 0.6768 - precision: 0.8165 - recall: 0.7866 - val_loss: 3.9010 - val_accuracy: 0.7442 - val_precision: 0.7442 - val_recall: 1.0000\n",
            "Epoch 25/30\n",
            "7/7 [==============================] - 21s 1s/step - loss: 4.1811 - accuracy: 0.7273 - precision: 0.8274 - recall: 0.8476 - val_loss: 3.9010 - val_accuracy: 0.7442 - val_precision: 0.7442 - val_recall: 1.0000\n",
            "Epoch 26/30\n",
            "7/7 [==============================] - 20s 967ms/step - loss: 5.0380 - accuracy: 0.6717 - precision: 0.8153 - recall: 0.7805 - val_loss: 3.9010 - val_accuracy: 0.7442 - val_precision: 0.7442 - val_recall: 1.0000\n",
            "Epoch 27/30\n",
            "7/7 [==============================] - 21s 1s/step - loss: 4.8822 - accuracy: 0.6818 - precision: 0.8176 - recall: 0.7927 - val_loss: 3.9010 - val_accuracy: 0.7442 - val_precision: 0.7442 - val_recall: 1.0000\n",
            "Epoch 28/30\n",
            "7/7 [==============================] - 19s 941ms/step - loss: 5.4266 - accuracy: 0.6465 - precision: 0.8052 - recall: 0.7561 - val_loss: 3.9010 - val_accuracy: 0.7442 - val_precision: 0.7442 - val_recall: 1.0000\n",
            "Epoch 29/30\n",
            "7/7 [==============================] - 21s 1s/step - loss: 5.0398 - accuracy: 0.6717 - precision: 0.8235 - recall: 0.7683 - val_loss: 3.9010 - val_accuracy: 0.7442 - val_precision: 0.7442 - val_recall: 1.0000\n",
            "Epoch 30/30\n",
            "7/7 [==============================] - 19s 943ms/step - loss: 4.3378 - accuracy: 0.7172 - precision: 0.8293 - recall: 0.8293 - val_loss: 3.9010 - val_accuracy: 0.7442 - val_precision: 0.7442 - val_recall: 1.0000\n"
          ]
        }
      ],
      "source": [
        "history=model.fit(train_ds,validation_data=validation_ds,epochs=30)"
      ]
    },
    {
      "cell_type": "markdown",
      "source": [],
      "metadata": {
        "id": "FVRELyG_SDCO"
      }
    },
    {
      "cell_type": "code",
      "source": [
        "import matplotlib.pyplot as plt\n",
        "plt.plot(history.history['accuracy'],color='red',label='train')\n",
        "plt.plot(history.history['val_accuracy'],color='blue',label='validation')\n",
        "plt.legend()\n",
        "plt.show()"
      ],
      "metadata": {
        "colab": {
          "base_uri": "https://localhost:8080/",
          "height": 430
        },
        "id": "idLOFQgSuXja",
        "outputId": "d9918c3c-9014-49e2-a5ee-649d910842f1"
      },
      "execution_count": null,
      "outputs": [
        {
          "output_type": "display_data",
          "data": {
            "text/plain": [
              "<Figure size 640x480 with 1 Axes>"
            ],
            "image/png": "[encoded data removed]"
          },
          "metadata": {}
        }
      ]
    },
    {
      "cell_type": "code",
      "source": [
        "import matplotlib.pyplot as plt\n",
        "plt.plot(history.history['loss'],color='red',label='train')\n",
        "plt.plot(history.history['val_loss'],color='blue',label='validation')\n",
        "plt.legend()\n",
        "plt.show()"
      ],
      "metadata": {
        "colab": {
          "base_uri": "https://localhost:8080/",
          "height": 434
        },
        "id": "focwwyEpuXqJ",
        "outputId": "e8c3b0e5-b598-42df-ea58-ab11676e70a4"
      },
      "execution_count": null,
      "outputs": [
        {
          "output_type": "display_data",
          "data": {
            "text/plain": [
              "<Figure size 640x480 with 1 Axes>"
            ],
            "image/png": "[encoded data removed]"
          },
          "metadata": {}
        }
      ]
    },
    {
      "cell_type": "code",
      "source": [
        "import cv2\n",
        "image=cv2.imread('/content/gdrive/MyDrive/dataset/T51+T52BAD+T53BAD+T54BAD+T57BAD +T58BAD/Test/bad_dataset/DJI_0066.jpg')\n",
        "image_resized=cv2.resize(image,(128,128))\n",
        "image=np.expand_dims(image_resized,axis=0)\n",
        "pred=model.predict(image)\n",
        "print(pred)"
      ],
      "metadata": {
        "colab": {
          "base_uri": "https://localhost:8080/"
        },
        "id": "9S2axkV8uX-x",
        "outputId": "10c9601a-4915-4512-ec19-a60e5ecb5ff6"
      },
      "execution_count": null,
      "outputs": [
        {
          "output_type": "stream",
          "name": "stdout",
          "text": [
            "1/1 [==============================] - 1s 648ms/step\n",
            "[[1.]]\n"
          ]
        }
      ]
    },
    {
      "cell_type": "code",
      "source": [
        "import cv2\n",
        "image=cv2.imread('/content/gdrive/MyDrive/dataset/T51+T52BAD+T53BAD+T54BAD+T57BAD +T58BAD/Test/bad_dataset/DJI_0108.jpg')\n",
        "image_resized=cv2.resize(image,(128,128))\n",
        "image=np.expand_dims(image_resized,axis=0)\n",
        "pred=model.predict(image)\n",
        "print(pred)\n"
      ],
      "metadata": {
        "colab": {
          "base_uri": "https://localhost:8080/"
        },
        "id": "VMyv3TmfuYHZ",
        "outputId": "b4cd5547-545f-4207-fa1f-539f6429ec0e"
      },
      "execution_count": null,
      "outputs": [
        {
          "output_type": "stream",
          "name": "stdout",
          "text": [
            "1/1 [==============================] - 0s 20ms/step\n",
            "[[1.]]\n"
          ]
        }
      ]
    },
    {
      "cell_type": "code",
      "source": [
        "import cv2\n",
        "image=cv2.imread('/content/gdrive/MyDrive/dataset/T51+T52BAD+T53BAD+T54BAD+T57BAD +T58BAD/Test/bad_dataset/DJI_0110.jpg')\n",
        "image_resized=cv2.resize(image,(128,128))\n",
        "image=np.expand_dims(image_resized,axis=0)\n",
        "pred=model.predict(image)\n",
        "print(pred)"
      ],
      "metadata": {
        "colab": {
          "base_uri": "https://localhost:8080/"
        },
        "id": "4TCIn3-YyImC",
        "outputId": "25462f54-4baf-43ad-de95-9a64751851ae"
      },
      "execution_count": null,
      "outputs": [
        {
          "output_type": "stream",
          "name": "stdout",
          "text": [
            "1/1 [==============================] - 0s 20ms/step\n",
            "[[1.]]\n"
          ]
        }
      ]
    },
    {
      "cell_type": "code",
      "source": [
        "import cv2\n",
        "image=cv2.imread('/content/gdrive/MyDrive/dataset/T51+T52BAD+T53BAD+T54BAD+T57BAD +T58BAD/Test/bad_dataset/DJI_0489.jpg')\n",
        "image_resized=cv2.resize(image,(128,128))\n",
        "image=np.expand_dims(image_resized,axis=0)\n",
        "pred=model.predict(image)\n",
        "print(pred)"
      ],
      "metadata": {
        "colab": {
          "base_uri": "https://localhost:8080/"
        },
        "id": "aI_YgSGOyIvH",
        "outputId": "6a26a10b-99aa-45ae-850b-d889f910c90b"
      },
      "execution_count": null,
      "outputs": [
        {
          "output_type": "stream",
          "name": "stdout",
          "text": [
            "1/1 [==============================] - 0s 20ms/step\n",
            "[[1.]]\n"
          ]
        }
      ]
    },
    {
      "cell_type": "code",
      "source": [
        "import cv2\n",
        "image=cv2.imread('/content/gdrive/MyDrive/dataset/T51+T52BAD+T53BAD+T54BAD+T57BAD +T58BAD/Test/bad_dataset/DJI_0491.jpg')\n",
        "image_resized=cv2.resize(image,(128,128))\n",
        "image=np.expand_dims(image_resized,axis=0)\n",
        "pred=model.predict(image)\n",
        "print(pred)"
      ],
      "metadata": {
        "colab": {
          "base_uri": "https://localhost:8080/"
        },
        "id": "aEo4t7JSyI0f",
        "outputId": "8003fded-23c1-4e35-86b5-9a1db519925c"
      },
      "execution_count": null,
      "outputs": [
        {
          "output_type": "stream",
          "name": "stdout",
          "text": [
            "1/1 [==============================] - 0s 20ms/step\n",
            "[[1.]]\n"
          ]
        }
      ]
    },
    {
      "cell_type": "code",
      "source": [
        "import cv2\n",
        "image=cv2.imread('/content/gdrive/MyDrive/dataset/T51+T52BAD+T53BAD+T54BAD+T57BAD +T58BAD/Test/bad_dataset/DJI_0493.jpg')\n",
        "image_resized=cv2.resize(image,(128,128))\n",
        "image=np.expand_dims(image_resized,axis=0)\n",
        "pred=model.predict(image)\n",
        "print(pred)"
      ],
      "metadata": {
        "colab": {
          "base_uri": "https://localhost:8080/"
        },
        "id": "2OZVArZfyI5v",
        "outputId": "4548064b-700d-4d6d-9bc2-827729925364"
      },
      "execution_count": null,
      "outputs": [
        {
          "output_type": "stream",
          "name": "stdout",
          "text": [
            "1/1 [==============================] - 0s 27ms/step\n",
            "[[1.]]\n"
          ]
        }
      ]
    },
    {
      "cell_type": "code",
      "source": [
        "import cv2\n",
        "image=cv2.imread('/content/gdrive/MyDrive/dataset/T51+T52BAD+T53BAD+T54BAD+T57BAD +T58BAD/Test/bad_dataset/DJI_0495.jpg')\n",
        "image_resized=cv2.resize(image,(128,128))\n",
        "image=np.expand_dims(image_resized,axis=0)\n",
        "pred=model.predict(image)\n",
        "print(pred)"
      ],
      "metadata": {
        "colab": {
          "base_uri": "https://localhost:8080/"
        },
        "id": "XER8ZPSsyI-X",
        "outputId": "c3cf6626-c74c-45e1-aa17-b1f1f5eed2bc"
      },
      "execution_count": null,
      "outputs": [
        {
          "output_type": "stream",
          "name": "stdout",
          "text": [
            "1/1 [==============================] - 0s 20ms/step\n",
            "[[1.]]\n"
          ]
        }
      ]
    },
    {
      "cell_type": "code",
      "source": [
        "import cv2\n",
        "image=cv2.imread('/content/gdrive/MyDrive/dataset/T51+T52BAD+T53BAD+T54BAD+T57BAD +T58BAD/Test/bad_dataset/DJI_0497.jpg')\n",
        "image_resized=cv2.resize(image,(128,128))\n",
        "image=np.expand_dims(image_resized,axis=0)\n",
        "pred=model.predict(image)\n",
        "print(pred)"
      ],
      "metadata": {
        "colab": {
          "base_uri": "https://localhost:8080/"
        },
        "id": "itQI98K2yJF4",
        "outputId": "a53a0a2d-fa83-455f-e4e9-45e8a05f6173"
      },
      "execution_count": null,
      "outputs": [
        {
          "output_type": "stream",
          "name": "stdout",
          "text": [
            "1/1 [==============================] - 0s 19ms/step\n",
            "[[1.]]\n"
          ]
        }
      ]
    },
    {
      "cell_type": "code",
      "source": [
        "import cv2\n",
        "image=cv2.imread('/content/gdrive/MyDrive/dataset/T51+T52BAD+T53BAD+T54BAD+T57BAD +T58BAD/Test/bad_dataset/DJI_0499.jpg')\n",
        "image_resized=cv2.resize(image,(128,128))\n",
        "image=np.expand_dims(image_resized,axis=0)\n",
        "pred=model.predict(image)\n",
        "print(pred)"
      ],
      "metadata": {
        "colab": {
          "base_uri": "https://localhost:8080/"
        },
        "id": "mqD_ATasyJNK",
        "outputId": "7ae8a89a-b4c8-47ff-d997-4353bb34aae1"
      },
      "execution_count": null,
      "outputs": [
        {
          "output_type": "stream",
          "name": "stdout",
          "text": [
            "1/1 [==============================] - 0s 21ms/step\n",
            "[[1.]]\n"
          ]
        }
      ]
    },
    {
      "cell_type": "code",
      "source": [
        "import cv2\n",
        "image=cv2.imread('/content/gdrive/MyDrive/dataset/T51+T52BAD+T53BAD+T54BAD+T57BAD +T58BAD/Test/bad_dataset/DJI_0501.jpg')\n",
        "image_resized=cv2.resize(image,(128,128))\n",
        "image=np.expand_dims(image_resized,axis=0)\n",
        "pred=model.predict(image)\n",
        "print(pred)"
      ],
      "metadata": {
        "colab": {
          "base_uri": "https://localhost:8080/"
        },
        "id": "hcZzpJPZyJaR",
        "outputId": "69bd1281-ccd8-448d-d1dc-675b218d77ba"
      },
      "execution_count": null,
      "outputs": [
        {
          "output_type": "stream",
          "name": "stdout",
          "text": [
            "1/1 [==============================] - 0s 22ms/step\n",
            "[[1.]]\n"
          ]
        }
      ]
    },
    {
      "cell_type": "code",
      "source": [
        "import cv2\n",
        "image=cv2.imread('/content/gdrive/MyDrive/dataset/T51+T52BAD+T53BAD+T54BAD+T57BAD +T58BAD/Test/bad_dataset/DJI_0503.jpg')\n",
        "image_resized=cv2.resize(image,(128,128))\n",
        "image=np.expand_dims(image_resized,axis=0)\n",
        "pred=model.predict(image)\n",
        "print(pred)"
      ],
      "metadata": {
        "colab": {
          "base_uri": "https://localhost:8080/"
        },
        "id": "qalg6PIcyJeX",
        "outputId": "b6778d70-3cac-4156-cde4-534c7255a5eb"
      },
      "execution_count": null,
      "outputs": [
        {
          "output_type": "stream",
          "name": "stdout",
          "text": [
            "1/1 [==============================] - 0s 21ms/step\n",
            "[[1.]]\n"
          ]
        }
      ]
    },
    {
      "cell_type": "code",
      "source": [
        "import cv2\n",
        "image=cv2.imread('/content/gdrive/MyDrive/dataset/T51+T52BAD+T53BAD+T54BAD+T57BAD +T58BAD/Test/bad_dataset/DJI_0505.jpg')\n",
        "image_resized=cv2.resize(image,(128,128))\n",
        "image=np.expand_dims(image_resized,axis=0)\n",
        "pred=model.predict(image)\n",
        "print(pred)"
      ],
      "metadata": {
        "colab": {
          "base_uri": "https://localhost:8080/"
        },
        "id": "45gJQtu8yJic",
        "outputId": "9c2f8461-8e4a-4330-fae4-08b611f4775e"
      },
      "execution_count": null,
      "outputs": [
        {
          "output_type": "stream",
          "name": "stdout",
          "text": [
            "1/1 [==============================] - 0s 19ms/step\n",
            "[[1.]]\n"
          ]
        }
      ]
    },
    {
      "cell_type": "code",
      "source": [
        "import cv2\n",
        "image=cv2.imread('/content/gdrive/MyDrive/dataset/T51+T52BAD+T53BAD+T54BAD+T57BAD +T58BAD/Test/bad_dataset/DJI_0507.jpg')\n",
        "image_resized=cv2.resize(image,(128,128))\n",
        "image=np.expand_dims(image_resized,axis=0)\n",
        "pred=model.predict(image)\n",
        "print(pred)"
      ],
      "metadata": {
        "colab": {
          "base_uri": "https://localhost:8080/"
        },
        "id": "i7A98hWsyJrh",
        "outputId": "140f9f08-9a02-49dc-c73a-4a2a468452b7"
      },
      "execution_count": null,
      "outputs": [
        {
          "output_type": "stream",
          "name": "stdout",
          "text": [
            "1/1 [==============================] - 0s 21ms/step\n",
            "[[1.]]\n"
          ]
        }
      ]
    },
    {
      "cell_type": "code",
      "source": [
        "import cv2\n",
        "image=cv2.imread('/content/gdrive/MyDrive/dataset/T51+T52BAD+T53BAD+T54BAD+T57BAD +T58BAD/Test/bad_dataset/DJI_0509.jpg')\n",
        "image_resized=cv2.resize(image,(128,128))\n",
        "image=np.expand_dims(image_resized,axis=0)\n",
        "pred=model.predict(image)\n",
        "print(pred)"
      ],
      "metadata": {
        "colab": {
          "base_uri": "https://localhost:8080/"
        },
        "id": "YCmCr-ztyJvY",
        "outputId": "c0d00711-4ea6-40d7-ab9d-5bdcb9123f95"
      },
      "execution_count": null,
      "outputs": [
        {
          "output_type": "stream",
          "name": "stdout",
          "text": [
            "1/1 [==============================] - 0s 67ms/step\n",
            "[[1.]]\n"
          ]
        }
      ]
    },
    {
      "cell_type": "code",
      "source": [
        "import cv2\n",
        "image=cv2.imread('/content/gdrive/MyDrive/dataset/T51+T52BAD+T53BAD+T54BAD+T57BAD +T58BAD/Test/bad_dataset/DJI_0608.jpg')\n",
        "image_resized=cv2.resize(image,(128,128))\n",
        "image=np.expand_dims(image_resized,axis=0)\n",
        "pred=model.predict(image)\n",
        "print(pred)"
      ],
      "metadata": {
        "colab": {
          "base_uri": "https://localhost:8080/"
        },
        "id": "sPhR9XE0yJzf",
        "outputId": "0189df1b-7bbb-484b-eca2-48c3f47f566e"
      },
      "execution_count": null,
      "outputs": [
        {
          "output_type": "stream",
          "name": "stdout",
          "text": [
            "1/1 [==============================] - 0s 92ms/step\n",
            "[[1.]]\n"
          ]
        }
      ]
    },
    {
      "cell_type": "code",
      "source": [
        "import cv2\n",
        "image=cv2.imread('/content/gdrive/MyDrive/dataset/T51+T52BAD+T53BAD+T54BAD+T57BAD +T58BAD/Test/bad_dataset/DJI_0610.jpg')\n",
        "image_resized=cv2.resize(image,(128,128))\n",
        "image=np.expand_dims(image_resized,axis=0)\n",
        "pred=model.predict(image)\n",
        "print(pred)"
      ],
      "metadata": {
        "colab": {
          "base_uri": "https://localhost:8080/"
        },
        "id": "1hogmtY6yJ4H",
        "outputId": "b6fe3535-c404-43c9-c9e1-f2edc6f3bc9d"
      },
      "execution_count": null,
      "outputs": [
        {
          "output_type": "stream",
          "name": "stdout",
          "text": [
            "1/1 [==============================] - 0s 25ms/step\n",
            "[[1.]]\n"
          ]
        }
      ]
    },
    {
      "cell_type": "code",
      "source": [
        "import cv2\n",
        "image=cv2.imread('/content/gdrive/MyDrive/dataset/T51+T52BAD+T53BAD+T54BAD+T57BAD +T58BAD/Test/bad_dataset/DJI_0976.jpg')\n",
        "image_resized=cv2.resize(image,(128,128))\n",
        "image=np.expand_dims(image_resized,axis=0)\n",
        "pred=model.predict(image)\n",
        "print(pred)"
      ],
      "metadata": {
        "colab": {
          "base_uri": "https://localhost:8080/"
        },
        "id": "yKgIi8cdyJ9p",
        "outputId": "2d892088-5f60-4bac-a28e-99d62c048b88"
      },
      "execution_count": null,
      "outputs": [
        {
          "output_type": "stream",
          "name": "stdout",
          "text": [
            "1/1 [==============================] - 0s 21ms/step\n",
            "[[1.]]\n"
          ]
        }
      ]
    },
    {
      "cell_type": "code",
      "source": [
        "import cv2\n",
        "image=cv2.imread('/content/gdrive/MyDrive/dataset/T51+T52BAD+T53BAD+T54BAD+T57BAD +T58BAD/Test/bad_dataset/DJI_0978.jpg')\n",
        "image_resized=cv2.resize(image,(128,128))\n",
        "image=np.expand_dims(image_resized,axis=0)\n",
        "pred=model.predict(image)\n",
        "print(pred)"
      ],
      "metadata": {
        "colab": {
          "base_uri": "https://localhost:8080/"
        },
        "id": "FwpUlXIjyKCf",
        "outputId": "380680cf-a8d4-41b1-9547-379af1e879b4"
      },
      "execution_count": null,
      "outputs": [
        {
          "output_type": "stream",
          "name": "stdout",
          "text": [
            "1/1 [==============================] - 0s 29ms/step\n",
            "[[1.]]\n"
          ]
        }
      ]
    },
    {
      "cell_type": "code",
      "source": [
        "import cv2\n",
        "image=cv2.imread('/content/gdrive/MyDrive/dataset/T51+T52BAD+T53BAD+T54BAD+T57BAD +T58BAD/Test/bad_dataset/DJI_0980.jpg')\n",
        "image_resized=cv2.resize(image,(128,128))\n",
        "image=np.expand_dims(image_resized,axis=0)\n",
        "pred=model.predict(image)\n",
        "print(pred)"
      ],
      "metadata": {
        "colab": {
          "base_uri": "https://localhost:8080/"
        },
        "id": "_yueCjN7yKHq",
        "outputId": "352311a9-df29-4748-99a6-c607d050a857"
      },
      "execution_count": null,
      "outputs": [
        {
          "output_type": "stream",
          "name": "stdout",
          "text": [
            "1/1 [==============================] - 0s 19ms/step\n",
            "[[1.]]\n"
          ]
        }
      ]
    },
    {
      "cell_type": "code",
      "source": [
        "import cv2\n",
        "image=cv2.imread('/content/gdrive/MyDrive/dataset/T51+T52BAD+T53BAD+T54BAD+T57BAD +T58BAD/Test/bad_dataset/DJI_0982.jpg')\n",
        "image_resized=cv2.resize(image,(128,128))\n",
        "image=np.expand_dims(image_resized,axis=0)\n",
        "pred=model.predict(image)\n",
        "print(pred)"
      ],
      "metadata": {
        "colab": {
          "base_uri": "https://localhost:8080/"
        },
        "id": "WjUe7W3NyKNQ",
        "outputId": "faf3fa72-5efe-4392-a269-f98838e6afcf"
      },
      "execution_count": null,
      "outputs": [
        {
          "output_type": "stream",
          "name": "stdout",
          "text": [
            "1/1 [==============================] - 0s 21ms/step\n",
            "[[1.]]\n"
          ]
        }
      ]
    },
    {
      "cell_type": "code",
      "source": [
        "import cv2\n",
        "image=cv2.imread('/content/gdrive/MyDrive/dataset/T51+T52BAD+T53BAD+T54BAD+T57BAD +T58BAD/Test/bad_dataset/DJI_0984.jpg')\n",
        "image_resized=cv2.resize(image,(128,128))\n",
        "image=np.expand_dims(image_resized,axis=0)\n",
        "pred=model.predict(image)\n",
        "print(pred)"
      ],
      "metadata": {
        "colab": {
          "base_uri": "https://localhost:8080/"
        },
        "id": "4I6v0oFJyKSv",
        "outputId": "d8062669-98f5-4d41-835c-707d43a0a514"
      },
      "execution_count": null,
      "outputs": [
        {
          "output_type": "stream",
          "name": "stdout",
          "text": [
            "1/1 [==============================] - 0s 19ms/step\n",
            "[[1.]]\n"
          ]
        }
      ]
    },
    {
      "cell_type": "code",
      "source": [
        "import cv2\n",
        "image=cv2.imread('/content/gdrive/MyDrive/dataset/T51+T52BAD+T53BAD+T54BAD+T57BAD +T58BAD/Test/bad_dataset/DJI_0986.jpg')\n",
        "image_resized=cv2.resize(image,(128,128))\n",
        "image=np.expand_dims(image_resized,axis=0)\n",
        "pred=model.predict(image)\n",
        "print(pred)"
      ],
      "metadata": {
        "colab": {
          "base_uri": "https://localhost:8080/"
        },
        "id": "tnWMQvzbyqt-",
        "outputId": "5e377360-3c2b-4c7f-983a-c96708b23a72"
      },
      "execution_count": null,
      "outputs": [
        {
          "output_type": "stream",
          "name": "stdout",
          "text": [
            "1/1 [==============================] - 0s 22ms/step\n",
            "[[1.]]\n"
          ]
        }
      ]
    },
    {
      "cell_type": "code",
      "source": [
        "import cv2\n",
        "image=cv2.imread('/content/gdrive/MyDrive/dataset/T51+T52BAD+T53BAD+T54BAD+T57BAD +T58BAD/Test/good_dataset/DJI_0869.jpg')\n",
        "image_resized=cv2.resize(image,(128,128))\n",
        "image=np.expand_dims(image_resized,axis=0)\n",
        "pred=model.predict(image)\n",
        "print(pred)"
      ],
      "metadata": {
        "colab": {
          "base_uri": "https://localhost:8080/"
        },
        "id": "ykt9vcRByq3k",
        "outputId": "e88f4332-2f3c-4edd-a9a1-f6e8ad2072c6"
      },
      "execution_count": null,
      "outputs": [
        {
          "output_type": "stream",
          "name": "stdout",
          "text": [
            "1/1 [==============================] - 0s 28ms/step\n",
            "[[1.]]\n"
          ]
        }
      ]
    },
    {
      "cell_type": "code",
      "source": [
        "import cv2\n",
        "image=cv2.imread('/content/gdrive/MyDrive/dataset/T51+T52BAD+T53BAD+T54BAD+T57BAD +T58BAD/Test/good_dataset/DJI_0871.jpg')\n",
        "image_resized=cv2.resize(image,(128,128))\n",
        "image=np.expand_dims(image_resized,axis=0)\n",
        "pred=model.predict(image)\n",
        "print(pred)"
      ],
      "metadata": {
        "colab": {
          "base_uri": "https://localhost:8080/"
        },
        "id": "6RnbMQvzyq-U",
        "outputId": "e57d7d9e-6fa2-4bbf-dc5e-1012e11fbfbf"
      },
      "execution_count": null,
      "outputs": [
        {
          "output_type": "stream",
          "name": "stdout",
          "text": [
            "1/1 [==============================] - 0s 19ms/step\n",
            "[[1.]]\n"
          ]
        }
      ]
    },
    {
      "cell_type": "code",
      "source": [
        "import cv2\n",
        "image=cv2.imread('/content/gdrive/MyDrive/dataset/T51+T52BAD+T53BAD+T54BAD+T57BAD +T58BAD/Test/good_dataset/DJI_0873.jpg')\n",
        "image_resized=cv2.resize(image,(128,128))\n",
        "image=np.expand_dims(image_resized,axis=0)\n",
        "pred=model.predict(image)\n",
        "print(pred)"
      ],
      "metadata": {
        "colab": {
          "base_uri": "https://localhost:8080/"
        },
        "id": "KMFiibNtyrGN",
        "outputId": "10a7b8c8-6242-4e0d-9e03-9645fde171b1"
      },
      "execution_count": null,
      "outputs": [
        {
          "output_type": "stream",
          "name": "stdout",
          "text": [
            "1/1 [==============================] - 0s 21ms/step\n",
            "[[1.]]\n"
          ]
        }
      ]
    },
    {
      "cell_type": "code",
      "source": [
        "import cv2\n",
        "image=cv2.imread('/content/gdrive/MyDrive/dataset/T51+T52BAD+T53BAD+T54BAD+T57BAD +T58BAD/Test/good_dataset/DJI_0875.jpg')\n",
        "image_resized=cv2.resize(image,(128,128))\n",
        "image=np.expand_dims(image_resized,axis=0)\n",
        "pred=model.predict(image)\n",
        "print(pred)"
      ],
      "metadata": {
        "colab": {
          "base_uri": "https://localhost:8080/"
        },
        "id": "9jOAHLVIyrTU",
        "outputId": "7656481a-5263-4e13-cc76-2697a76bd348"
      },
      "execution_count": null,
      "outputs": [
        {
          "output_type": "stream",
          "name": "stdout",
          "text": [
            "1/1 [==============================] - 0s 24ms/step\n",
            "[[1.]]\n"
          ]
        }
      ]
    },
    {
      "cell_type": "code",
      "source": [
        "import cv2\n",
        "image=cv2.imread('/content/gdrive/MyDrive/dataset/T51+T52BAD+T53BAD+T54BAD+T57BAD +T58BAD/Test/good_dataset/DJI_0877.jpg')\n",
        "image_resized=cv2.resize(image,(128,128))\n",
        "image=np.expand_dims(image_resized,axis=0)\n",
        "pred=model.predict(image)\n",
        "print(pred)"
      ],
      "metadata": {
        "colab": {
          "base_uri": "https://localhost:8080/"
        },
        "id": "GJTqbsALyyZu",
        "outputId": "a7cd6032-3ccb-438e-e6b9-4fb86414fb06"
      },
      "execution_count": null,
      "outputs": [
        {
          "output_type": "stream",
          "name": "stdout",
          "text": [
            "1/1 [==============================] - 0s 22ms/step\n",
            "[[1.]]\n"
          ]
        }
      ]
    },
    {
      "cell_type": "code",
      "source": [
        "import cv2\n",
        "image=cv2.imread('/content/gdrive/MyDrive/dataset/T51+T52BAD+T53BAD+T54BAD+T57BAD +T58BAD/Test/good_dataset/DJI_0879.jpg')\n",
        "image_resized=cv2.resize(image,(128,128))\n",
        "image=np.expand_dims(image_resized,axis=0)\n",
        "pred=model.predict(image)\n",
        "print(pred)"
      ],
      "metadata": {
        "colab": {
          "base_uri": "https://localhost:8080/"
        },
        "id": "J8bFdhRIyyhu",
        "outputId": "560c4544-e57c-4ab1-aa9c-7668cd5689a7"
      },
      "execution_count": null,
      "outputs": [
        {
          "output_type": "stream",
          "name": "stdout",
          "text": [
            "1/1 [==============================] - 0s 32ms/step\n",
            "[[1.]]\n"
          ]
        }
      ]
    },
    {
      "cell_type": "code",
      "source": [
        "import cv2\n",
        "image=cv2.imread('/content/gdrive/MyDrive/dataset/T51+T52BAD+T53BAD+T54BAD+T57BAD +T58BAD/Test/good_dataset/DJI_0881.jpg')\n",
        "image_resized=cv2.resize(image,(128,128))\n",
        "image=np.expand_dims(image_resized,axis=0)\n",
        "pred=model.predict(image)\n",
        "print(pred)"
      ],
      "metadata": {
        "colab": {
          "base_uri": "https://localhost:8080/"
        },
        "id": "ktHb4Eleyyp2",
        "outputId": "51f4d398-74ae-49f7-f275-96f26f5c9272"
      },
      "execution_count": null,
      "outputs": [
        {
          "output_type": "stream",
          "name": "stdout",
          "text": [
            "1/1 [==============================] - 0s 28ms/step\n",
            "[[1.]]\n"
          ]
        }
      ]
    },
    {
      "cell_type": "code",
      "source": [
        "import cv2\n",
        "image=cv2.imread('/content/gdrive/MyDrive/dataset/T51+T52BAD+T53BAD+T54BAD+T57BAD +T58BAD/Test/good_dataset/DJI_0883.jpg')\n",
        "image_resized=cv2.resize(image,(128,128))\n",
        "image=np.expand_dims(image_resized,axis=0)\n",
        "pred=model.predict(image)\n",
        "print(pred)"
      ],
      "metadata": {
        "colab": {
          "base_uri": "https://localhost:8080/"
        },
        "id": "ZdYn_4m9yy2e",
        "outputId": "231a6a39-5933-4ffe-b34b-a8d0c5c063ff"
      },
      "execution_count": null,
      "outputs": [
        {
          "output_type": "stream",
          "name": "stdout",
          "text": [
            "1/1 [==============================] - 0s 19ms/step\n",
            "[[1.]]\n"
          ]
        }
      ]
    },
    {
      "cell_type": "code",
      "source": [
        "import cv2\n",
        "image=cv2.imread('/content/gdrive/MyDrive/dataset/T51+T52BAD+T53BAD+T54BAD+T57BAD +T58BAD/Test/good_dataset/DJI_0885.jpg')\n",
        "image_resized=cv2.resize(image,(128,128))\n",
        "image=np.expand_dims(image_resized,axis=0)\n",
        "pred=model.predict(image)\n",
        "print(pred)"
      ],
      "metadata": {
        "colab": {
          "base_uri": "https://localhost:8080/"
        },
        "id": "NC_baL4Uyy8e",
        "outputId": "fb6bd45f-7c56-4318-e911-6bade3a3cba7"
      },
      "execution_count": null,
      "outputs": [
        {
          "output_type": "stream",
          "name": "stdout",
          "text": [
            "1/1 [==============================] - 0s 21ms/step\n",
            "[[1.]]\n"
          ]
        }
      ]
    },
    {
      "cell_type": "code",
      "source": [
        "import cv2\n",
        "image=cv2.imread('/content/gdrive/MyDrive/dataset/T51+T52BAD+T53BAD+T54BAD+T57BAD +T58BAD/Test/good_dataset/DJI_0887.jpg')\n",
        "image_resized=cv2.resize(image,(128,128))\n",
        "image=np.expand_dims(image_resized,axis=0)\n",
        "pred=model.predict(image)\n",
        "print(pred)"
      ],
      "metadata": {
        "colab": {
          "base_uri": "https://localhost:8080/"
        },
        "id": "3QD4J4NTyzD-",
        "outputId": "68b9f2be-afed-4576-93a6-0ae4186f7b22"
      },
      "execution_count": null,
      "outputs": [
        {
          "output_type": "stream",
          "name": "stdout",
          "text": [
            "1/1 [==============================] - 0s 30ms/step\n",
            "[[1.]]\n"
          ]
        }
      ]
    },
    {
      "cell_type": "code",
      "source": [
        "import cv2\n",
        "image=cv2.imread('/content/gdrive/MyDrive/dataset/T51+T52BAD+T53BAD+T54BAD+T57BAD +T58BAD/Test/good_dataset/DJI_0889.jpg')\n",
        "image_resized=cv2.resize(image,(128,128))\n",
        "image=np.expand_dims(image_resized,axis=0)\n",
        "pred=model.predict(image)\n",
        "print(pred)"
      ],
      "metadata": {
        "colab": {
          "base_uri": "https://localhost:8080/"
        },
        "id": "1BMvl8uFy8ke",
        "outputId": "22a92221-cacd-4d62-c91f-559e819c46dc"
      },
      "execution_count": null,
      "outputs": [
        {
          "output_type": "stream",
          "name": "stdout",
          "text": [
            "1/1 [==============================] - 0s 19ms/step\n",
            "[[1.]]\n"
          ]
        }
      ]
    },
    {
      "cell_type": "code",
      "source": [
        "import cv2\n",
        "image=cv2.imread('/content/gdrive/MyDrive/dataset/T51+T52BAD+T53BAD+T54BAD+T57BAD +T58BAD/Test/good_dataset/DJI_0891.jpg')\n",
        "image_resized=cv2.resize(image,(128,128))\n",
        "image=np.expand_dims(image_resized,axis=0)\n",
        "pred=model.predict(image)\n",
        "print(pred)"
      ],
      "metadata": {
        "colab": {
          "base_uri": "https://localhost:8080/"
        },
        "id": "CsUsEOMny8qn",
        "outputId": "4a18fd96-dd29-4323-f56f-03d3a44736d2"
      },
      "execution_count": null,
      "outputs": [
        {
          "output_type": "stream",
          "name": "stdout",
          "text": [
            "1/1 [==============================] - 0s 20ms/step\n",
            "[[1.]]\n"
          ]
        }
      ]
    },
    {
      "cell_type": "code",
      "source": [
        "import cv2\n",
        "image=cv2.imread('/content/gdrive/MyDrive/dataset/T51+T52BAD+T53BAD+T54BAD+T57BAD +T58BAD/Test/good_dataset/DJI_0893.jpg')\n",
        "image_resized=cv2.resize(image,(128,128))\n",
        "image=np.expand_dims(image_resized,axis=0)\n",
        "pred=model.predict(image)\n",
        "print(pred)"
      ],
      "metadata": {
        "colab": {
          "base_uri": "https://localhost:8080/"
        },
        "id": "ilfehi1ay8ym",
        "outputId": "a7a74ec3-0e30-4e71-d91e-257d5103ae37"
      },
      "execution_count": null,
      "outputs": [
        {
          "output_type": "stream",
          "name": "stdout",
          "text": [
            "1/1 [==============================] - 0s 21ms/step\n",
            "[[1.]]\n"
          ]
        }
      ]
    },
    {
      "cell_type": "code",
      "source": [
        "import cv2\n",
        "image=cv2.imread('/content/gdrive/MyDrive/dataset/T51+T52BAD+T53BAD+T54BAD+T57BAD +T58BAD/Test/good_dataset/DJI_0895.jpg')\n",
        "image_resized=cv2.resize(image,(128,128))\n",
        "image=np.expand_dims(image_resized,axis=0)\n",
        "pred=model.predict(image)\n",
        "print(pred)"
      ],
      "metadata": {
        "colab": {
          "base_uri": "https://localhost:8080/"
        },
        "id": "RoYzi1l9y9C2",
        "outputId": "7636b34d-075a-4297-deb8-218e6d059152"
      },
      "execution_count": null,
      "outputs": [
        {
          "output_type": "stream",
          "name": "stdout",
          "text": [
            "1/1 [==============================] - 0s 29ms/step\n",
            "[[1.]]\n"
          ]
        }
      ]
    },
    {
      "cell_type": "code",
      "source": [
        "import cv2\n",
        "image=cv2.imread('/content/gdrive/MyDrive/dataset/T51+T52BAD+T53BAD+T54BAD+T57BAD +T58BAD/Test/good_dataset/DJI_0897.jpg')\n",
        "image_resized=cv2.resize(image,(128,128))\n",
        "image=np.expand_dims(image_resized,axis=0)\n",
        "pred=model.predict(image)\n",
        "print(pred)"
      ],
      "metadata": {
        "colab": {
          "base_uri": "https://localhost:8080/"
        },
        "id": "_8pqP_hGy9Hf",
        "outputId": "9b4787ce-65b5-4819-93c7-c0f7c32b7710"
      },
      "execution_count": null,
      "outputs": [
        {
          "output_type": "stream",
          "name": "stdout",
          "text": [
            "1/1 [==============================] - 0s 25ms/step\n",
            "[[1.]]\n"
          ]
        }
      ]
    },
    {
      "cell_type": "code",
      "source": [
        "import cv2\n",
        "image=cv2.imread('/content/gdrive/MyDrive/dataset/T51+T52BAD+T53BAD+T54BAD+T57BAD +T58BAD/Test/good_dataset/DJI_0899.jpg')\n",
        "image_resized=cv2.resize(image,(128,128))\n",
        "image=np.expand_dims(image_resized,axis=0)\n",
        "pred=model.predict(image)\n",
        "print(pred)"
      ],
      "metadata": {
        "colab": {
          "base_uri": "https://localhost:8080/"
        },
        "id": "NiJNYriNy9Y1",
        "outputId": "9bb87ab9-50a1-49f3-9080-d4c0b26811d6"
      },
      "execution_count": null,
      "outputs": [
        {
          "output_type": "stream",
          "name": "stdout",
          "text": [
            "1/1 [==============================] - 0s 20ms/step\n",
            "[[1.]]\n"
          ]
        }
      ]
    },
    {
      "cell_type": "code",
      "source": [
        "import cv2\n",
        "image=cv2.imread('/content/gdrive/MyDrive/dataset/T51+T52BAD+T53BAD+T54BAD+T57BAD +T58BAD/Test/good_dataset/DJI_0901.jpg')\n",
        "image_resized=cv2.resize(image,(128,128))\n",
        "image=np.expand_dims(image_resized,axis=0)\n",
        "pred=model.predict(image)\n",
        "print(pred)"
      ],
      "metadata": {
        "colab": {
          "base_uri": "https://localhost:8080/"
        },
        "id": "Un5E11G4ukwZ",
        "outputId": "ff07cb1f-d371-438c-bfff-5e1933749bab"
      },
      "execution_count": null,
      "outputs": [
        {
          "output_type": "stream",
          "name": "stdout",
          "text": [
            "1/1 [==============================] - 0s 25ms/step\n",
            "[[1.]]\n"
          ]
        }
      ]
    },
    {
      "cell_type": "code",
      "source": [
        "import cv2\n",
        "image=cv2.imread('/content/gdrive/MyDrive/dataset/T51+T52BAD+T53BAD+T54BAD+T57BAD +T58BAD/Test/good_dataset/DJI_0903.jpg')\n",
        "image_resized=cv2.resize(image,(128,128))\n",
        "image=np.expand_dims(image_resized,axis=0)\n",
        "pred=model.predict(image)\n",
        "print(pred)"
      ],
      "metadata": {
        "colab": {
          "base_uri": "https://localhost:8080/"
        },
        "id": "IEt-OfTNuk3x",
        "outputId": "1f6da374-3806-4252-9133-f7d972169bd5"
      },
      "execution_count": null,
      "outputs": [
        {
          "output_type": "stream",
          "name": "stdout",
          "text": [
            "1/1 [==============================] - 0s 21ms/step\n",
            "[[1.]]\n"
          ]
        }
      ]
    },
    {
      "cell_type": "code",
      "source": [
        "import cv2\n",
        "image=cv2.imread('/content/gdrive/MyDrive/dataset/T51+T52BAD+T53BAD+T54BAD+T57BAD +T58BAD/Test/good_dataset/DJI_0905.jpg')\n",
        "image_resized=cv2.resize(image,(128,128))\n",
        "image=np.expand_dims(image_resized,axis=0)\n",
        "pred=model.predict(image)\n",
        "print(pred)"
      ],
      "metadata": {
        "colab": {
          "base_uri": "https://localhost:8080/"
        },
        "id": "jqEQbSqTuk8X",
        "outputId": "a618ac73-d9db-4107-d335-8d6633c67449"
      },
      "execution_count": null,
      "outputs": [
        {
          "output_type": "stream",
          "name": "stdout",
          "text": [
            "1/1 [==============================] - 0s 21ms/step\n",
            "[[1.]]\n"
          ]
        }
      ]
    },
    {
      "cell_type": "code",
      "source": [
        "import cv2\n",
        "image=cv2.imread('/content/gdrive/MyDrive/dataset/T51+T52BAD+T53BAD+T54BAD+T57BAD +T58BAD/Test/good_dataset/DJI_0907.jpg')\n",
        "image_resized=cv2.resize(image,(128,128))\n",
        "image=np.expand_dims(image_resized,axis=0)\n",
        "pred=model.predict(image)\n",
        "print(pred)"
      ],
      "metadata": {
        "colab": {
          "base_uri": "https://localhost:8080/"
        },
        "id": "GNgI5i2julAo",
        "outputId": "5d5abd06-3b4c-44e4-e4ae-3e0d5e26d56f"
      },
      "execution_count": null,
      "outputs": [
        {
          "output_type": "stream",
          "name": "stdout",
          "text": [
            "1/1 [==============================] - 0s 19ms/step\n",
            "[[1.]]\n"
          ]
        }
      ]
    },
    {
      "cell_type": "code",
      "source": [
        "import cv2\n",
        "image=cv2.imread('/content/gdrive/MyDrive/dataset/T51+T52BAD+T53BAD+T54BAD+T57BAD +T58BAD/Test/good_dataset/DJI_0909.jpg')\n",
        "image_resized=cv2.resize(image,(128,128))\n",
        "image=np.expand_dims(image_resized,axis=0)\n",
        "pred=model.predict(image)\n",
        "print(pred)"
      ],
      "metadata": {
        "colab": {
          "base_uri": "https://localhost:8080/"
        },
        "id": "24nlTND8ulFJ",
        "outputId": "c8553d49-def5-406d-8993-1feb02a974c8"
      },
      "execution_count": null,
      "outputs": [
        {
          "output_type": "stream",
          "name": "stdout",
          "text": [
            "1/1 [==============================] - 0s 23ms/step\n",
            "[[1.]]\n"
          ]
        }
      ]
    },
    {
      "cell_type": "code",
      "source": [
        "import cv2\n",
        "image=cv2.imread('/content/gdrive/MyDrive/dataset/T51+T52BAD+T53BAD+T54BAD+T57BAD +T58BAD/Test/good_dataset/DJI_0911.jpg')\n",
        "image_resized=cv2.resize(image,(128,128))\n",
        "image=np.expand_dims(image_resized,axis=0)\n",
        "pred=model.predict(image)\n",
        "print(pred)"
      ],
      "metadata": {
        "colab": {
          "base_uri": "https://localhost:8080/"
        },
        "id": "cHXLMn-2ulK6",
        "outputId": "ae890f97-7691-44dc-f939-040e1de341f2"
      },
      "execution_count": null,
      "outputs": [
        {
          "output_type": "stream",
          "name": "stdout",
          "text": [
            "1/1 [==============================] - 0s 19ms/step\n",
            "[[1.]]\n"
          ]
        }
      ]
    },
    {
      "cell_type": "code",
      "source": [
        "import cv2\n",
        "image=cv2.imread('/content/gdrive/MyDrive/dataset/T51+T52BAD+T53BAD+T54BAD+T57BAD +T58BAD/Test/good_dataset/DJI_0913.jpg')\n",
        "image_resized=cv2.resize(image,(128,128))\n",
        "image=np.expand_dims(image_resized,axis=0)\n",
        "pred=model.predict(image)\n",
        "print(pred)"
      ],
      "metadata": {
        "colab": {
          "base_uri": "https://localhost:8080/"
        },
        "id": "1gXCNCr5umJC",
        "outputId": "18acbde1-ea09-49ea-ad0c-4bca542c3e98"
      },
      "execution_count": null,
      "outputs": [
        {
          "output_type": "stream",
          "name": "stdout",
          "text": [
            "1/1 [==============================] - 0s 28ms/step\n",
            "[[1.]]\n"
          ]
        }
      ]
    },
    {
      "cell_type": "code",
      "source": [
        "import cv2\n",
        "image=cv2.imread('/content/gdrive/MyDrive/dataset/T51+T52BAD+T53BAD+T54BAD+T57BAD +T58BAD/Test/good_dataset/DJI_0915.jpg')\n",
        "image_resized=cv2.resize(image,(128,128))\n",
        "image=np.expand_dims(image_resized,axis=0)\n",
        "pred=model.predict(image)\n",
        "print(pred)"
      ],
      "metadata": {
        "colab": {
          "base_uri": "https://localhost:8080/"
        },
        "id": "8WpctlAaumN2",
        "outputId": "d2ecd2f9-4a92-4709-8433-e18ce5cc8c29"
      },
      "execution_count": null,
      "outputs": [
        {
          "output_type": "stream",
          "name": "stdout",
          "text": [
            "1/1 [==============================] - 0s 21ms/step\n",
            "[[1.]]\n"
          ]
        }
      ]
    },
    {
      "cell_type": "markdown",
      "source": [],
      "metadata": {
        "id": "xJQLMlM9X8Lo"
      }
    },
    {
      "cell_type": "code",
      "source": [
        "import cv2\n",
        "image=cv2.imread('/content/gdrive/MyDrive/dataset/T51+T52BAD+T53BAD+T54BAD+T57BAD +T58BAD/Test/good_dataset/DJI_0917.jpg')\n",
        "image_resized=cv2.resize(image,(128,128))\n",
        "image=np.expand_dims(image_resized,axis=0)\n",
        "pred=model.predict(image)\n",
        "print(pred)"
      ],
      "metadata": {
        "colab": {
          "base_uri": "https://localhost:8080/"
        },
        "id": "O6J_TmE_umSJ",
        "outputId": "397b4c04-9939-4005-9243-8780710ac996"
      },
      "execution_count": null,
      "outputs": [
        {
          "output_type": "stream",
          "name": "stdout",
          "text": [
            "1/1 [==============================] - 0s 21ms/step\n",
            "[[1.]]\n"
          ]
        }
      ]
    },
    {
      "cell_type": "code",
      "source": [
        "import cv2\n",
        "image=cv2.imread('/content/gdrive/MyDrive/dataset/T51+T52BAD+T53BAD+T54BAD+T57BAD +T58BAD/Test/good_dataset/DJI_0919.jpg')\n",
        "image_resized=cv2.resize(image,(128,128))\n",
        "image=np.expand_dims(image_resized,axis=0)\n",
        "pred=model.predict(image)\n",
        "print(pred)"
      ],
      "metadata": {
        "colab": {
          "base_uri": "https://localhost:8080/"
        },
        "id": "0LC-To6numWd",
        "outputId": "dd671586-e402-4edc-81b5-4f8405861640"
      },
      "execution_count": null,
      "outputs": [
        {
          "output_type": "stream",
          "name": "stdout",
          "text": [
            "1/1 [==============================] - 0s 19ms/step\n",
            "[[1.]]\n"
          ]
        }
      ]
    },
    {
      "cell_type": "code",
      "source": [
        "import cv2\n",
        "image=cv2.imread('/content/gdrive/MyDrive/dataset/T51+T52BAD+T53BAD+T54BAD+T57BAD +T58BAD/Test/good_dataset/DJI_0921.jpg')\n",
        "image_resized=cv2.resize(image,(128,128))\n",
        "image=np.expand_dims(image_resized,axis=0)\n",
        "pred=model.predict(image)\n",
        "print(pred)"
      ],
      "metadata": {
        "colab": {
          "base_uri": "https://localhost:8080/"
        },
        "id": "UgkFmRYEuma4",
        "outputId": "28e20b43-41ba-4403-93f9-803bc99c7256"
      },
      "execution_count": null,
      "outputs": [
        {
          "output_type": "stream",
          "name": "stdout",
          "text": [
            "1/1 [==============================] - 0s 29ms/step\n",
            "[[1.]]\n"
          ]
        }
      ]
    },
    {
      "cell_type": "code",
      "source": [
        "import cv2\n",
        "image=cv2.imread('/content/gdrive/MyDrive/dataset/T51+T52BAD+T53BAD+T54BAD+T57BAD +T58BAD/Test/good_dataset/DJI_0923.jpg')\n",
        "image_resized=cv2.resize(image,(128,128))\n",
        "image=np.expand_dims(image_resized,axis=0)\n",
        "pred=model.predict(image)\n",
        "print(pred)"
      ],
      "metadata": {
        "colab": {
          "base_uri": "https://localhost:8080/"
        },
        "id": "WLOFUWPUumfU",
        "outputId": "8152b51a-9f54-4b82-de7b-0f36dbcc977d"
      },
      "execution_count": null,
      "outputs": [
        {
          "output_type": "stream",
          "name": "stdout",
          "text": [
            "1/1 [==============================] - 0s 19ms/step\n",
            "[[1.]]\n"
          ]
        }
      ]
    },
    {
      "cell_type": "code",
      "source": [
        "import cv2\n",
        "image=cv2.imread('/content/gdrive/MyDrive/dataset/T51+T52BAD+T53BAD+T54BAD+T57BAD +T58BAD/Test/good_dataset/DJI_0925.jpg')\n",
        "image_resized=cv2.resize(image,(128,128))\n",
        "image=np.expand_dims(image_resized,axis=0)\n",
        "pred=model.predict(image)\n",
        "print(pred)"
      ],
      "metadata": {
        "colab": {
          "base_uri": "https://localhost:8080/"
        },
        "id": "L82Kdd7fumje",
        "outputId": "017105bc-02b6-4309-d879-e255b8feda2c"
      },
      "execution_count": null,
      "outputs": [
        {
          "output_type": "stream",
          "name": "stdout",
          "text": [
            "1/1 [==============================] - 0s 19ms/step\n",
            "[[1.]]\n"
          ]
        }
      ]
    },
    {
      "cell_type": "code",
      "source": [
        "import cv2\n",
        "image=cv2.imread('/content/gdrive/MyDrive/dataset/T51+T52BAD+T53BAD+T54BAD+T57BAD +T58BAD/Test/good_dataset/DJI_0927.jpg')\n",
        "image_resized=cv2.resize(image,(128,128))\n",
        "image=np.expand_dims(image_resized,axis=0)\n",
        "pred=model.predict(image)\n",
        "print(pred)"
      ],
      "metadata": {
        "colab": {
          "base_uri": "https://localhost:8080/"
        },
        "id": "YiZBdzf7umnq",
        "outputId": "1950245f-e8b8-40b7-d487-280bcfd11cc4"
      },
      "execution_count": null,
      "outputs": [
        {
          "output_type": "stream",
          "name": "stdout",
          "text": [
            "1/1 [==============================] - 0s 27ms/step\n",
            "[[1.]]\n"
          ]
        }
      ]
    },
    {
      "cell_type": "code",
      "source": [
        "import cv2\n",
        "image=cv2.imread('/content/gdrive/MyDrive/dataset/T51+T52BAD+T53BAD+T54BAD+T57BAD +T58BAD/Test/good_dataset/DJI_0929.jpg')\n",
        "image_resized=cv2.resize(image,(128,128))\n",
        "image=np.expand_dims(image_resized,axis=0)\n",
        "pred=model.predict(image)\n",
        "print(pred)"
      ],
      "metadata": {
        "colab": {
          "base_uri": "https://localhost:8080/"
        },
        "id": "dbvj7DLBumr4",
        "outputId": "5264f479-0904-4994-906f-3ad65f739122"
      },
      "execution_count": null,
      "outputs": [
        {
          "output_type": "stream",
          "name": "stdout",
          "text": [
            "1/1 [==============================] - 0s 23ms/step\n",
            "[[1.]]\n"
          ]
        }
      ]
    },
    {
      "cell_type": "code",
      "source": [
        "import cv2\n",
        "image=cv2.imread('/content/gdrive/MyDrive/dataset/T51+T52BAD+T53BAD+T54BAD+T57BAD +T58BAD/Test/good_dataset/DJI_0931.jpg')\n",
        "image_resized=cv2.resize(image,(128,128))\n",
        "image=np.expand_dims(image_resized,axis=0)\n",
        "pred=model.predict(image)\n",
        "print(pred)"
      ],
      "metadata": {
        "colab": {
          "base_uri": "https://localhost:8080/"
        },
        "id": "03dAP8NwumwA",
        "outputId": "a44f81ef-6133-4795-86af-c8d4ba863113"
      },
      "execution_count": null,
      "outputs": [
        {
          "output_type": "stream",
          "name": "stdout",
          "text": [
            "1/1 [==============================] - 0s 22ms/step\n",
            "[[1.]]\n"
          ]
        }
      ]
    },
    {
      "cell_type": "code",
      "source": [
        "import cv2\n",
        "image=cv2.imread('/content/gdrive/MyDrive/dataset/T51+T52BAD+T53BAD+T54BAD+T57BAD +T58BAD/Test/good_dataset/DJI_0933.jpg')\n",
        "image_resized=cv2.resize(image,(128,128))\n",
        "image=np.expand_dims(image_resized,axis=0)\n",
        "pred=model.predict(image)\n",
        "print(pred)"
      ],
      "metadata": {
        "colab": {
          "base_uri": "https://localhost:8080/"
        },
        "id": "MGV5Jwdcum1B",
        "outputId": "770aac4a-93da-4a84-97da-76fabc02e569"
      },
      "execution_count": null,
      "outputs": [
        {
          "output_type": "stream",
          "name": "stdout",
          "text": [
            "1/1 [==============================] - 0s 22ms/step\n",
            "[[1.]]\n"
          ]
        }
      ]
    },
    {
      "cell_type": "code",
      "source": [
        "import cv2\n",
        "image=cv2.imread('/content/gdrive/MyDrive/dataset/T51+T52BAD+T53BAD+T54BAD+T57BAD +T58BAD/Test/good_dataset/DJI_0935.jpg')\n",
        "image_resized=cv2.resize(image,(128,128))\n",
        "image=np.expand_dims(image_resized,axis=0)\n",
        "pred=model.predict(image)\n",
        "print(pred)"
      ],
      "metadata": {
        "colab": {
          "base_uri": "https://localhost:8080/"
        },
        "id": "cZTxVwanum5m",
        "outputId": "f1d4481f-73bc-4bdd-dfaf-43d6c9307107"
      },
      "execution_count": null,
      "outputs": [
        {
          "output_type": "stream",
          "name": "stdout",
          "text": [
            "1/1 [==============================] - 0s 21ms/step\n",
            "[[1.]]\n"
          ]
        }
      ]
    },
    {
      "cell_type": "code",
      "source": [
        "import cv2\n",
        "image=cv2.imread('/content/gdrive/MyDrive/dataset/T51+T52BAD+T53BAD+T54BAD+T57BAD +T58BAD/Test/good_dataset/DJI_0937.jpg')\n",
        "image_resized=cv2.resize(image,(128,128))\n",
        "image=np.expand_dims(image_resized,axis=0)\n",
        "pred=model.predict(image)\n",
        "print(pred)"
      ],
      "metadata": {
        "colab": {
          "base_uri": "https://localhost:8080/"
        },
        "id": "lRzgy_JXum-4",
        "outputId": "24ee488e-893c-4d5b-d95a-653baad0482a"
      },
      "execution_count": null,
      "outputs": [
        {
          "output_type": "stream",
          "name": "stdout",
          "text": [
            "1/1 [==============================] - 0s 22ms/step\n",
            "[[1.]]\n"
          ]
        }
      ]
    },
    {
      "cell_type": "code",
      "source": [
        "import cv2\n",
        "image=cv2.imread('/content/gdrive/MyDrive/dataset/T51+T52BAD+T53BAD+T54BAD+T57BAD +T58BAD/Test/good_dataset/DJI_0939.jpg')\n",
        "image_resized=cv2.resize(image,(128,128))\n",
        "image=np.expand_dims(image_resized,axis=0)\n",
        "pred=model.predict(image)\n",
        "print(pred)"
      ],
      "metadata": {
        "colab": {
          "base_uri": "https://localhost:8080/"
        },
        "id": "58x3kL8munDg",
        "outputId": "4bcb389c-a28a-4d2d-9562-e54519bb4fab"
      },
      "execution_count": null,
      "outputs": [
        {
          "output_type": "stream",
          "name": "stdout",
          "text": [
            "1/1 [==============================] - 0s 20ms/step\n",
            "[[1.]]\n"
          ]
        }
      ]
    },
    {
      "cell_type": "code",
      "source": [
        "import cv2\n",
        "image=cv2.imread('/content/gdrive/MyDrive/dataset/T51+T52BAD+T53BAD+T54BAD+T57BAD +T58BAD/Test/good_dataset/DJI_0941.jpg')\n",
        "image_resized=cv2.resize(image,(128,128))\n",
        "image=np.expand_dims(image_resized,axis=0)\n",
        "pred=model.predict(image)\n",
        "print(pred)"
      ],
      "metadata": {
        "colab": {
          "base_uri": "https://localhost:8080/"
        },
        "id": "QKUJE5-PunHr",
        "outputId": "4331f06d-7c1f-4520-e7c2-0e56065702d9"
      },
      "execution_count": null,
      "outputs": [
        {
          "output_type": "stream",
          "name": "stdout",
          "text": [
            "1/1 [==============================] - 0s 27ms/step\n",
            "[[1.]]\n"
          ]
        }
      ]
    },
    {
      "cell_type": "code",
      "source": [
        "import cv2\n",
        "image=cv2.imread('/content/gdrive/MyDrive/dataset/T51+T52BAD+T53BAD+T54BAD+T57BAD +T58BAD/Test/good_dataset/DJI_0943.jpg')\n",
        "image_resized=cv2.resize(image,(128,128))\n",
        "image=np.expand_dims(image_resized,axis=0)\n",
        "pred=model.predict(image)\n",
        "print(pred)"
      ],
      "metadata": {
        "colab": {
          "base_uri": "https://localhost:8080/"
        },
        "id": "LUC0j67sunMY",
        "outputId": "4ced5733-7e17-41a2-929a-75a1b4c81ed5"
      },
      "execution_count": null,
      "outputs": [
        {
          "output_type": "stream",
          "name": "stdout",
          "text": [
            "1/1 [==============================] - 0s 19ms/step\n",
            "[[1.]]\n"
          ]
        }
      ]
    },
    {
      "cell_type": "code",
      "source": [
        "import cv2\n",
        "image=cv2.imread('/content/gdrive/MyDrive/dataset/T51+T52BAD+T53BAD+T54BAD+T57BAD +T58BAD/Test/good_dataset/DJI_0945.jpg')\n",
        "image_resized=cv2.resize(image,(128,128))\n",
        "image=np.expand_dims(image_resized,axis=0)\n",
        "pred=model.predict(image)\n",
        "print(pred)"
      ],
      "metadata": {
        "colab": {
          "base_uri": "https://localhost:8080/"
        },
        "id": "oPllpclQunPw",
        "outputId": "3456447a-6589-4249-b44a-62f1d31d451d"
      },
      "execution_count": null,
      "outputs": [
        {
          "output_type": "stream",
          "name": "stdout",
          "text": [
            "1/1 [==============================] - 0s 18ms/step\n",
            "[[1.]]\n"
          ]
        }
      ]
    },
    {
      "cell_type": "code",
      "source": [
        "import cv2\n",
        "image=cv2.imread('/content/gdrive/MyDrive/dataset/T51+T52BAD+T53BAD+T54BAD+T57BAD +T58BAD/Test/good_dataset/DJI_0947.jpg')\n",
        "image_resized=cv2.resize(image,(128,128))\n",
        "image=np.expand_dims(image_resized,axis=0)\n",
        "pred=model.predict(image)\n",
        "print(pred)"
      ],
      "metadata": {
        "colab": {
          "base_uri": "https://localhost:8080/"
        },
        "id": "qEl-hTpGunUc",
        "outputId": "abd3a090-0436-40db-cc8d-3c1c844a73ab"
      },
      "execution_count": null,
      "outputs": [
        {
          "output_type": "stream",
          "name": "stdout",
          "text": [
            "1/1 [==============================] - 0s 30ms/step\n",
            "[[1.]]\n"
          ]
        }
      ]
    },
    {
      "cell_type": "code",
      "source": [
        "import cv2\n",
        "image=cv2.imread('/content/gdrive/MyDrive/dataset/T51+T52BAD+T53BAD+T54BAD+T57BAD +T58BAD/Test/good_dataset/DJI_0949.jpg')\n",
        "image_resized=cv2.resize(image,(128,128))\n",
        "image=np.expand_dims(image_resized,axis=0)\n",
        "pred=model.predict(image)\n",
        "print(pred)"
      ],
      "metadata": {
        "colab": {
          "base_uri": "https://localhost:8080/"
        },
        "id": "jJ8NlozpunYJ",
        "outputId": "242b1d39-bf42-40b5-975a-2f401090028a"
      },
      "execution_count": null,
      "outputs": [
        {
          "output_type": "stream",
          "name": "stdout",
          "text": [
            "1/1 [==============================] - 0s 20ms/step\n",
            "[[1.]]\n"
          ]
        }
      ]
    },
    {
      "cell_type": "code",
      "source": [
        "import cv2\n",
        "image=cv2.imread('/content/gdrive/MyDrive/dataset/T51+T52BAD+T53BAD+T54BAD+T57BAD +T58BAD/Test/good_dataset/DJI_0951.jpg')\n",
        "image_resized=cv2.resize(image,(128,128))\n",
        "image=np.expand_dims(image_resized,axis=0)\n",
        "pred=model.predict(image)\n",
        "print(pred)"
      ],
      "metadata": {
        "colab": {
          "base_uri": "https://localhost:8080/"
        },
        "id": "zyMfDSvIunbw",
        "outputId": "8aad9add-ffff-48a5-dd45-b0eb33a2aeb3"
      },
      "execution_count": null,
      "outputs": [
        {
          "output_type": "stream",
          "name": "stdout",
          "text": [
            "1/1 [==============================] - 0s 19ms/step\n",
            "[[1.]]\n"
          ]
        }
      ]
    },
    {
      "cell_type": "code",
      "source": [
        "import cv2\n",
        "image=cv2.imread('/content/gdrive/MyDrive/dataset/T51+T52BAD+T53BAD+T54BAD+T57BAD +T58BAD/Test/good_dataset/DJI_0953.jpg')\n",
        "image_resized=cv2.resize(image,(128,128))\n",
        "image=np.expand_dims(image_resized,axis=0)\n",
        "pred=model.predict(image)\n",
        "print(pred)"
      ],
      "metadata": {
        "colab": {
          "base_uri": "https://localhost:8080/"
        },
        "id": "Lf5ZY6pXv7j6",
        "outputId": "df191f88-067b-4ae2-900b-9ab34fab8c16"
      },
      "execution_count": null,
      "outputs": [
        {
          "output_type": "stream",
          "name": "stdout",
          "text": [
            "1/1 [==============================] - 0s 22ms/step\n",
            "[[1.]]\n"
          ]
        }
      ]
    },
    {
      "cell_type": "code",
      "source": [
        "import cv2\n",
        "image=cv2.imread('/content/gdrive/MyDrive/dataset/T51+T52BAD+T53BAD+T54BAD+T57BAD +T58BAD/Test/good_dataset/DJI_0955.jpg')\n",
        "image_resized=cv2.resize(image,(128,128))\n",
        "image=np.expand_dims(image_resized,axis=0)\n",
        "pred=model.predict(image)\n",
        "print(pred)"
      ],
      "metadata": {
        "colab": {
          "base_uri": "https://localhost:8080/"
        },
        "id": "3SaXaaZsv7op",
        "outputId": "fdf24261-bd5e-4668-b321-07fbd853b28d"
      },
      "execution_count": null,
      "outputs": [
        {
          "output_type": "stream",
          "name": "stdout",
          "text": [
            "1/1 [==============================] - 0s 19ms/step\n",
            "[[1.]]\n"
          ]
        }
      ]
    },
    {
      "cell_type": "code",
      "source": [
        "import cv2\n",
        "image=cv2.imread('/content/gdrive/MyDrive/dataset/T51+T52BAD+T53BAD+T54BAD+T57BAD +T58BAD/Test/good_dataset/DJI_0957.jpg')\n",
        "image_resized=cv2.resize(image,(128,128))\n",
        "image=np.expand_dims(image_resized,axis=0)\n",
        "pred=model.predict(image)\n",
        "print(pred)"
      ],
      "metadata": {
        "colab": {
          "base_uri": "https://localhost:8080/"
        },
        "id": "nqy8TB9Pv7sx",
        "outputId": "1cd8333c-67db-45f6-f8c8-85bf2bea6e8f"
      },
      "execution_count": null,
      "outputs": [
        {
          "output_type": "stream",
          "name": "stdout",
          "text": [
            "1/1 [==============================] - 0s 21ms/step\n",
            "[[1.]]\n"
          ]
        }
      ]
    },
    {
      "cell_type": "code",
      "source": [
        "import cv2\n",
        "image=cv2.imread('/content/gdrive/MyDrive/dataset/T51+T52BAD+T53BAD+T54BAD+T57BAD +T58BAD/Test/good_dataset/DJI_0959.jpg')\n",
        "image_resized=cv2.resize(image,(128,128))\n",
        "image=np.expand_dims(image_resized,axis=0)\n",
        "pred=model.predict(image)\n",
        "print(pred)"
      ],
      "metadata": {
        "colab": {
          "base_uri": "https://localhost:8080/"
        },
        "id": "9XMCle0tv7ww",
        "outputId": "45316267-9a1c-4ffb-e2f6-2e461395dc92"
      },
      "execution_count": null,
      "outputs": [
        {
          "output_type": "stream",
          "name": "stdout",
          "text": [
            "1/1 [==============================] - 0s 33ms/step\n",
            "[[1.]]\n"
          ]
        }
      ]
    },
    {
      "cell_type": "code",
      "source": [
        "import cv2\n",
        "image=cv2.imread('/content/gdrive/MyDrive/dataset/T51+T52BAD+T53BAD+T54BAD+T57BAD +T58BAD/Test/good_dataset/DJI_0961.jpg')\n",
        "image_resized=cv2.resize(image,(128,128))\n",
        "image=np.expand_dims(image_resized,axis=0)\n",
        "pred=model.predict(image)\n",
        "print(pred)"
      ],
      "metadata": {
        "colab": {
          "base_uri": "https://localhost:8080/"
        },
        "id": "SWMBeRWev71B",
        "outputId": "178a74b9-5f11-46e2-fc9e-e27162a36a4c"
      },
      "execution_count": null,
      "outputs": [
        {
          "output_type": "stream",
          "name": "stdout",
          "text": [
            "1/1 [==============================] - 0s 19ms/step\n",
            "[[1.]]\n"
          ]
        }
      ]
    },
    {
      "cell_type": "code",
      "source": [
        "import cv2\n",
        "image=cv2.imread('/content/gdrive/MyDrive/dataset/T51+T52BAD+T53BAD+T54BAD+T57BAD +T58BAD/Test/good_dataset/DJI_0963.jpg')\n",
        "image_resized=cv2.resize(image,(128,128))\n",
        "image=np.expand_dims(image_resized,axis=0)\n",
        "pred=model.predict(image)\n",
        "print(pred)"
      ],
      "metadata": {
        "colab": {
          "base_uri": "https://localhost:8080/"
        },
        "id": "3ERpY_FSv746",
        "outputId": "d89cc504-7902-4761-8337-e43024157d33"
      },
      "execution_count": null,
      "outputs": [
        {
          "output_type": "stream",
          "name": "stdout",
          "text": [
            "1/1 [==============================] - 0s 22ms/step\n",
            "[[1.]]\n"
          ]
        }
      ]
    },
    {
      "cell_type": "code",
      "source": [
        "import cv2\n",
        "image=cv2.imread('/content/gdrive/MyDrive/dataset/T51+T52BAD+T53BAD+T54BAD+T57BAD +T58BAD/Test/good_dataset/DJI_0965.jpg')\n",
        "image_resized=cv2.resize(image,(128,128))\n",
        "image=np.expand_dims(image_resized,axis=0)\n",
        "pred=model.predict(image)\n",
        "print(pred)"
      ],
      "metadata": {
        "colab": {
          "base_uri": "https://localhost:8080/"
        },
        "id": "XDx0RXjYv79A",
        "outputId": "9120aca0-f9ab-49d6-c6fe-34e0554e5b7d"
      },
      "execution_count": null,
      "outputs": [
        {
          "output_type": "stream",
          "name": "stdout",
          "text": [
            "1/1 [==============================] - 0s 19ms/step\n",
            "[[1.]]\n"
          ]
        }
      ]
    },
    {
      "cell_type": "code",
      "source": [
        "import cv2\n",
        "image=cv2.imread('/content/gdrive/MyDrive/dataset/T51+T52BAD+T53BAD+T54BAD+T57BAD +T58BAD/Test/good_dataset/DJI_0967.jpg')\n",
        "image_resized=cv2.resize(image,(128,128))\n",
        "image=np.expand_dims(image_resized,axis=0)\n",
        "pred=model.predict(image)\n",
        "print(pred)"
      ],
      "metadata": {
        "colab": {
          "base_uri": "https://localhost:8080/"
        },
        "id": "4YJcqOWjv8BI",
        "outputId": "1cf971e2-3143-4a08-a23e-fb571b4acfa7"
      },
      "execution_count": null,
      "outputs": [
        {
          "output_type": "stream",
          "name": "stdout",
          "text": [
            "1/1 [==============================] - 0s 23ms/step\n",
            "[[1.]]\n"
          ]
        }
      ]
    },
    {
      "cell_type": "code",
      "source": [
        "import cv2\n",
        "image=cv2.imread('/content/gdrive/MyDrive/dataset/T51+T52BAD+T53BAD+T54BAD+T57BAD +T58BAD/Test/good_dataset/DJI_0969.jpg')\n",
        "image_resized=cv2.resize(image,(128,128))\n",
        "image=np.expand_dims(image_resized,axis=0)\n",
        "pred=model.predict(image)\n",
        "print(pred)"
      ],
      "metadata": {
        "colab": {
          "base_uri": "https://localhost:8080/"
        },
        "id": "cQckOnyDv8FA",
        "outputId": "ea79f25c-d85d-4d51-c9b8-0e591c81e7d5"
      },
      "execution_count": null,
      "outputs": [
        {
          "output_type": "stream",
          "name": "stdout",
          "text": [
            "1/1 [==============================] - 0s 20ms/step\n",
            "[[1.]]\n"
          ]
        }
      ]
    },
    {
      "cell_type": "code",
      "source": [
        "import cv2\n",
        "image=cv2.imread('/content/gdrive/MyDrive/dataset/T51+T52BAD+T53BAD+T54BAD+T57BAD +T58BAD/Test/good_dataset/DJI_0971.jpg')\n",
        "image_resized=cv2.resize(image,(128,128))\n",
        "image=np.expand_dims(image_resized,axis=0)\n",
        "pred=model.predict(image)\n",
        "print(pred)"
      ],
      "metadata": {
        "colab": {
          "base_uri": "https://localhost:8080/"
        },
        "id": "eqyFrLxov8Iq",
        "outputId": "70e96258-bd1e-406f-844b-a481829151ff"
      },
      "execution_count": null,
      "outputs": [
        {
          "output_type": "stream",
          "name": "stdout",
          "text": [
            "1/1 [==============================] - 0s 19ms/step\n",
            "[[1.]]\n"
          ]
        }
      ]
    },
    {
      "cell_type": "code",
      "source": [
        "import cv2\n",
        "image=cv2.imread('/content/gdrive/MyDrive/dataset/T51+T52BAD+T53BAD+T54BAD+T57BAD +T58BAD/Test/good_dataset/DJI_0973.jpg')\n",
        "image_resized=cv2.resize(image,(128,128))\n",
        "image=np.expand_dims(image_resized,axis=0)\n",
        "pred=model.predict(image)\n",
        "print(pred)"
      ],
      "metadata": {
        "colab": {
          "base_uri": "https://localhost:8080/"
        },
        "id": "SSw78z_Bv8MC",
        "outputId": "fe4ea162-def5-4f86-fecd-011335854972"
      },
      "execution_count": null,
      "outputs": [
        {
          "output_type": "stream",
          "name": "stdout",
          "text": [
            "1/1 [==============================] - 0s 22ms/step\n",
            "[[1.]]\n"
          ]
        }
      ]
    },
    {
      "cell_type": "code",
      "source": [
        "import cv2\n",
        "image=cv2.imread('/content/gdrive/MyDrive/dataset/T51+T52BAD+T53BAD+T54BAD+T57BAD +T58BAD/Test/good_dataset/DJI_0975.jpg')\n",
        "image_resized=cv2.resize(image,(128,128))\n",
        "image=np.expand_dims(image_resized,axis=0)\n",
        "pred=model.predict(image)\n",
        "print(pred)"
      ],
      "metadata": {
        "colab": {
          "base_uri": "https://localhost:8080/"
        },
        "id": "uPIQ1GYRwggJ",
        "outputId": "5a6e7a69-f565-45f7-d7d3-ec14c70177c7"
      },
      "execution_count": null,
      "outputs": [
        {
          "output_type": "stream",
          "name": "stdout",
          "text": [
            "1/1 [==============================] - 0s 26ms/step\n",
            "[[1.]]\n"
          ]
        }
      ]
    },
    {
      "cell_type": "code",
      "source": [
        "import cv2\n",
        "image=cv2.imread('/content/gdrive/MyDrive/dataset/T51+T52BAD+T53BAD+T54BAD+T57BAD +T58BAD/Test/good_dataset/DJI_0977.jpg')\n",
        "image_resized=cv2.resize(image,(128,128))\n",
        "image=np.expand_dims(image_resized,axis=0)\n",
        "pred=model.predict(image)\n",
        "print(pred)"
      ],
      "metadata": {
        "colab": {
          "base_uri": "https://localhost:8080/"
        },
        "id": "a1Q9O2gswgsH",
        "outputId": "3653fa4b-6d39-489f-b600-f0e94d235f77"
      },
      "execution_count": null,
      "outputs": [
        {
          "output_type": "stream",
          "name": "stdout",
          "text": [
            "1/1 [==============================] - 0s 20ms/step\n",
            "[[1.]]\n"
          ]
        }
      ]
    },
    {
      "cell_type": "code",
      "source": [
        "import cv2\n",
        "image=cv2.imread('/content/gdrive/MyDrive/dataset/T51+T52BAD+T53BAD+T54BAD+T57BAD +T58BAD/Test/good_dataset/DJI_0979.jpg')\n",
        "image_resized=cv2.resize(image,(128,128))\n",
        "image=np.expand_dims(image_resized,axis=0)\n",
        "pred=model.predict(image)\n",
        "print(pred)"
      ],
      "metadata": {
        "colab": {
          "base_uri": "https://localhost:8080/"
        },
        "id": "__UL6VTrwgyq",
        "outputId": "4b6585c5-f3c9-4913-bbe7-9b39a93ac70c"
      },
      "execution_count": null,
      "outputs": [
        {
          "output_type": "stream",
          "name": "stdout",
          "text": [
            "1/1 [==============================] - 0s 21ms/step\n",
            "[[1.]]\n"
          ]
        }
      ]
    },
    {
      "cell_type": "code",
      "source": [
        "import cv2\n",
        "image=cv2.imread('/content/gdrive/MyDrive/dataset/T51+T52BAD+T53BAD+T54BAD+T57BAD +T58BAD/Test/good_dataset/DJI_0981.jpg')\n",
        "image_resized=cv2.resize(image,(128,128))\n",
        "image=np.expand_dims(image_resized,axis=0)\n",
        "pred=model.predict(image)\n",
        "print(pred)"
      ],
      "metadata": {
        "colab": {
          "base_uri": "https://localhost:8080/"
        },
        "id": "FC1i9yy7wg7J",
        "outputId": "f81153b2-ce82-4519-9817-64e80acdfca8"
      },
      "execution_count": null,
      "outputs": [
        {
          "output_type": "stream",
          "name": "stdout",
          "text": [
            "1/1 [==============================] - 0s 22ms/step\n",
            "[[1.]]\n"
          ]
        }
      ]
    },
    {
      "cell_type": "code",
      "source": [
        "import cv2\n",
        "image=cv2.imread('/content/gdrive/MyDrive/dataset/T51+T52BAD+T53BAD+T54BAD+T57BAD +T58BAD/Test/good_dataset/DJI_0983.jpg')\n",
        "image_resized=cv2.resize(image,(128,128))\n",
        "image=np.expand_dims(image_resized,axis=0)\n",
        "pred=model.predict(image)\n",
        "print(pred)"
      ],
      "metadata": {
        "colab": {
          "base_uri": "https://localhost:8080/"
        },
        "id": "yiJJNoMDwirZ",
        "outputId": "e7ed6683-b19d-406e-c7f7-d25bee3ba77d"
      },
      "execution_count": null,
      "outputs": [
        {
          "output_type": "stream",
          "name": "stdout",
          "text": [
            "1/1 [==============================] - 0s 20ms/step\n",
            "[[1.]]\n"
          ]
        }
      ]
    },
    {
      "cell_type": "code",
      "source": [
        "import cv2\n",
        "image=cv2.imread('/content/gdrive/MyDrive/dataset/T51+T52BAD+T53BAD+T54BAD+T57BAD +T58BAD/Test/good_dataset/DJI_0985.jpg')\n",
        "image_resized=cv2.resize(image,(128,128))\n",
        "image=np.expand_dims(image_resized,axis=0)\n",
        "pred=model.predict(image)\n",
        "print(pred)"
      ],
      "metadata": {
        "colab": {
          "base_uri": "https://localhost:8080/"
        },
        "id": "qjV44lnhw4M6",
        "outputId": "8c0351ba-15ee-4124-f31e-cd0bbed2d5aa"
      },
      "execution_count": null,
      "outputs": [
        {
          "output_type": "stream",
          "name": "stdout",
          "text": [
            "1/1 [==============================] - 0s 22ms/step\n",
            "[[1.]]\n"
          ]
        }
      ]
    },
    {
      "cell_type": "code",
      "source": [
        "import cv2\n",
        "image=cv2.imread('/content/gdrive/MyDrive/dataset/T51+T52BAD+T53BAD+T54BAD+T57BAD +T58BAD/Test/good_dataset/DJI_0987.jpg')\n",
        "image_resized=cv2.resize(image,(128,128))\n",
        "image=np.expand_dims(image_resized,axis=0)\n",
        "pred=model.predict(image)\n",
        "print(pred)"
      ],
      "metadata": {
        "colab": {
          "base_uri": "https://localhost:8080/"
        },
        "outputId": "b8b385b4-3c44-4afd-98d9-b5a9c0e43bb0",
        "id": "lqF_ymficCmz"
      },
      "execution_count": null,
      "outputs": [
        {
          "output_type": "stream",
          "name": "stdout",
          "text": [
            "1/1 [==============================] - 0s 19ms/step\n",
            "[[1.]]\n"
          ]
        }
      ]
    },
    {
      "cell_type": "code",
      "source": [
        "import cv2\n",
        "image=cv2.imread('/content/gdrive/MyDrive/dataset/T51+T52BAD+T53BAD+T54BAD+T57BAD +T58BAD/Test/good_dataset/DJI_0989.jpg')\n",
        "image_resized=cv2.resize(image,(128,128))\n",
        "image=np.expand_dims(image_resized,axis=0)\n",
        "pred=model.predict(image)\n",
        "print(pred)"
      ],
      "metadata": {
        "colab": {
          "base_uri": "https://localhost:8080/"
        },
        "outputId": "9a34c0dd-b2d2-454d-9d91-083469d557ee",
        "id": "GZRARjtfi8Ei"
      },
      "execution_count": null,
      "outputs": [
        {
          "output_type": "stream",
          "name": "stdout",
          "text": [
            "1/1 [==============================] - 0s 36ms/step\n",
            "[[1.]]\n"
          ]
        }
      ]
    },
    {
      "cell_type": "code",
      "source": [
        "import cv2\n",
        "image=cv2.imread('/content/gdrive/MyDrive/dataset/T51+T52BAD+T53BAD+T54BAD+T57BAD +T58BAD/Test/good_dataset/DJI_0991.jpg')\n",
        "image_resized=cv2.resize(image,(128,128))\n",
        "image=np.expand_dims(image_resized,axis=0)\n",
        "pred=model.predict(image)\n",
        "print(pred)"
      ],
      "metadata": {
        "colab": {
          "base_uri": "https://localhost:8080/"
        },
        "outputId": "dd6eee98-ca81-4b6c-ed1a-c69c01634d13",
        "id": "9XW-jvc1i88J"
      },
      "execution_count": null,
      "outputs": [
        {
          "output_type": "stream",
          "name": "stdout",
          "text": [
            "1/1 [==============================] - 0s 19ms/step\n",
            "[[1.]]\n"
          ]
        }
      ]
    },
    {
      "cell_type": "code",
      "source": [
        "import cv2\n",
        "image=cv2.imread('/content/gdrive/MyDrive/dataset/T51+T52BAD+T53BAD+T54BAD+T57BAD +T58BAD/Test/good_dataset/DJI_0993.jpg')\n",
        "image_resized=cv2.resize(image,(128,128))\n",
        "image=np.expand_dims(image_resized,axis=0)\n",
        "pred=model.predict(image)\n",
        "print(pred)"
      ],
      "metadata": {
        "colab": {
          "base_uri": "https://localhost:8080/"
        },
        "outputId": "24b18c63-24cf-411c-ea6b-04883fafec15",
        "id": "95m7cQ_Ic84Z"
      },
      "execution_count": null,
      "outputs": [
        {
          "output_type": "stream",
          "name": "stdout",
          "text": [
            "1/1 [==============================] - 0s 22ms/step\n",
            "[[1.]]\n"
          ]
        }
      ]
    },
    {
      "cell_type": "code",
      "source": [
        "import cv2\n",
        "image=cv2.imread('/content/gdrive/MyDrive/dataset/T51+T52BAD+T53BAD+T54BAD+T57BAD +T58BAD/Test/good_dataset/DJI_0995.jpg')\n",
        "image_resized=cv2.resize(image,(128,128))\n",
        "image=np.expand_dims(image_resized,axis=0)\n",
        "pred=model.predict(image)\n",
        "print(pred)"
      ],
      "metadata": {
        "colab": {
          "base_uri": "https://localhost:8080/"
        },
        "outputId": "47642da2-130e-4f9d-db30-e817dab49377",
        "id": "qVWM3vvjc98H"
      },
      "execution_count": null,
      "outputs": [
        {
          "output_type": "stream",
          "name": "stdout",
          "text": [
            "1/1 [==============================] - 0s 20ms/step\n",
            "[[1.]]\n"
          ]
        }
      ]
    },
    {
      "cell_type": "code",
      "source": [
        "\n",
        "from sklearn.metrics import classification_report,confusion_matrix\n",
        "truth=['bad','bad','bad','bad','bad','bad','bad','bad','bad','bad','bad','bad','bad','bad','bad','bad','bad','bad','bad','bad','bad','bad','good','good','good','good','good','good','good','good','good','good','good','good','good','good','good','good','good','good','good','good','good','good','good','good','good','good','good','good','good','good','good','good','good','good','good','good','good','good','good','good','good','good','good','good','good','good','good','good','good','good','good','good','good','good','good','good','good','good','good','good','good','good','good','good']\n",
        "prediction=['good','good','good','good','good','good','good','good','good','good','good','good','good','good','good','good','good','good','good','good','good','good','good','good','good','good','good','good','good','good','good','good','good','good','good','good','good','good','good','good','good','good','good','good','good','good','good','good','good','good','good','good','good','good','good','good','good','good','good','good','good','good','good','good','good','good','good','good','good','good','good','good','good','good','good','good','good','good','good','good','good','good','good','good','good','good']\n",
        "print(classification_report(truth,prediction))\n",
        "print(confusion_matrix(truth,prediction))"
      ],
      "metadata": {
        "colab": {
          "base_uri": "https://localhost:8080/"
        },
        "id": "UrtaRxfvwX53",
        "outputId": "79f38de0-2b1a-453d-8e0a-d5276d235567"
      },
      "execution_count": null,
      "outputs": [
        {
          "output_type": "stream",
          "name": "stdout",
          "text": [
            "              precision    recall  f1-score   support\n",
            "\n",
            "         bad       0.00      0.00      0.00        22\n",
            "        good       0.74      1.00      0.85        64\n",
            "\n",
            "    accuracy                           0.74        86\n",
            "   macro avg       0.37      0.50      0.43        86\n",
            "weighted avg       0.55      0.74      0.64        86\n",
            "\n",
            "[[ 0 22]\n",
            " [ 0 64]]\n"
          ]
        },
        {
          "output_type": "stream",
          "name": "stderr",
          "text": [
            "/usr/local/lib/python3.10/dist-packages/sklearn/metrics/_classification.py:1344: UndefinedMetricWarning: Precision and F-score are ill-defined and being set to 0.0 in labels with no predicted samples. Use `zero_division` parameter to control this behavior.\n",
            "  _warn_prf(average, modifier, msg_start, len(result))\n",
            "/usr/local/lib/python3.10/dist-packages/sklearn/metrics/_classification.py:1344: UndefinedMetricWarning: Precision and F-score are ill-defined and being set to 0.0 in labels with no predicted samples. Use `zero_division` parameter to control this behavior.\n",
            "  _warn_prf(average, modifier, msg_start, len(result))\n",
            "/usr/local/lib/python3.10/dist-packages/sklearn/metrics/_classification.py:1344: UndefinedMetricWarning: Precision and F-score are ill-defined and being set to 0.0 in labels with no predicted samples. Use `zero_division` parameter to control this behavior.\n",
            "  _warn_prf(average, modifier, msg_start, len(result))\n"
          ]
        }
      ]
    },
    {
      "cell_type": "markdown",
      "source": [
        "training f1-score=1\n",
        "validation f1-score=0.90"
      ],
      "metadata": {
        "id": "j4NSm6abS87F"
      }
    }
  ],
  "metadata": {
    "colab": {
      "provenance": [],
      "gpuType": "T4",
      "authorship_tag": "ABX9TyMHglzhtWV/lU7GOWvlVSPc",
      "include_colab_link": true
    },
    "gpuClass": "standard",
    "kernelspec": {
      "display_name": "Python 3",
      "name": "python3"
    },
    "language_info": {
      "name": "python"
    }
  },
  "nbformat": 4,
  "nbformat_minor": 0
}