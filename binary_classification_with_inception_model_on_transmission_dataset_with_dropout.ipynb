{
  "cells": [
    {
      "cell_type": "markdown",
      "metadata": {
        "id": "view-in-github",
        "colab_type": "text"
      },
      "source": [
        "<a href=\"https://colab.research.google.com/github/samikshagadhave/binary_classification/blob/main/binary_classification_with_inception_model_on_transmission_dataset_with_dropout.ipynb\" target=\"_parent\"><img src=\"https://colab.research.google.com/assets/colab-badge.svg\" alt=\"Open In Colab\"/></a>"
      ]
    },
    {
      "cell_type": "code",
      "execution_count": null,
      "metadata": {
        "colab": {
          "base_uri": "https://localhost:8080/"
        },
        "id": "Sm274-P8tCEI",
        "outputId": "e8fe740f-0c2f-4b03-bd6b-28a58722903b"
      },
      "outputs": [
        {
          "output_type": "stream",
          "name": "stdout",
          "text": [
            "Mounted at /content/gdrive\n"
          ]
        }
      ],
      "source": [
        "from google.colab import drive\n",
        "drive.mount(\"/content/gdrive\")"
      ]
    },
    {
      "cell_type": "code",
      "execution_count": null,
      "metadata": {
        "colab": {
          "base_uri": "https://localhost:8080/"
        },
        "id": "Wky_mmEwUvxR",
        "outputId": "95f0c9f9-22cd-4167-88e1-353ea1843ff2"
      },
      "outputs": [
        {
          "output_type": "stream",
          "name": "stdout",
          "text": [
            "/content/gdrive\n"
          ]
        }
      ],
      "source": [
        "%cd /content/gdrive"
      ]
    },
    {
      "cell_type": "code",
      "execution_count": null,
      "metadata": {
        "colab": {
          "base_uri": "https://localhost:8080/"
        },
        "id": "du5chXxegJnn",
        "outputId": "665930ce-8630-4b2e-e5b9-a4104368cbac"
      },
      "outputs": [
        {
          "output_type": "stream",
          "name": "stdout",
          "text": [
            "bad_dataset folder created and relevant images have been moved\n",
            "bad_dataset folder created and relevant images have been moved\n",
            "bad_dataset folder created and relevant images have been moved\n",
            "bad_dataset folder created and relevant images have been moved\n",
            "bad_dataset folder created and relevant images have been moved\n",
            "bad_dataset folder created and relevant images have been moved\n",
            "bad_dataset folder created and relevant images have been moved\n",
            "bad_dataset folder created and relevant images have been moved\n",
            "bad_dataset folder created and relevant images have been moved\n",
            "bad_dataset folder created and relevant images have been moved\n",
            "bad_dataset folder created and relevant images have been moved\n",
            "bad_dataset folder created and relevant images have been moved\n",
            "bad_dataset folder created and relevant images have been moved\n",
            "bad_dataset folder created and relevant images have been moved\n",
            "bad_dataset folder created and relevant images have been moved\n",
            "bad_dataset folder created and relevant images have been moved\n",
            "bad_dataset folder created and relevant images have been moved\n",
            "bad_dataset folder created and relevant images have been moved\n",
            "bad_dataset folder created and relevant images have been moved\n",
            "bad_dataset folder created and relevant images have been moved\n",
            "bad_dataset folder created and relevant images have been moved\n",
            "bad_dataset folder created and relevant images have been moved\n",
            "bad_dataset folder created and relevant images have been moved\n",
            "bad_dataset folder created and relevant images have been moved\n",
            "bad_dataset folder created and relevant images have been moved\n",
            "bad_dataset folder created and relevant images have been moved\n",
            "bad_dataset folder created and relevant images have been moved\n",
            "bad_dataset folder created and relevant images have been moved\n",
            "bad_dataset folder created and relevant images have been moved\n",
            "bad_dataset folder created and relevant images have been moved\n",
            "bad_dataset folder created and relevant images have been moved\n",
            "bad_dataset folder created and relevant images have been moved\n",
            "bad_dataset folder created and relevant images have been moved\n",
            "bad_dataset folder created and relevant images have been moved\n",
            "good_dataset folder created and relevant images have been moved\n",
            "good_dataset folder created and relevant images have been moved\n",
            "good_dataset folder created and relevant images have been moved\n",
            "good_dataset folder created and relevant images have been moved\n",
            "good_dataset folder created and relevant images have been moved\n",
            "good_dataset folder created and relevant images have been moved\n",
            "good_dataset folder created and relevant images have been moved\n",
            "good_dataset folder created and relevant images have been moved\n",
            "good_dataset folder created and relevant images have been moved\n",
            "good_dataset folder created and relevant images have been moved\n",
            "good_dataset folder created and relevant images have been moved\n",
            "good_dataset folder created and relevant images have been moved\n",
            "good_dataset folder created and relevant images have been moved\n",
            "good_dataset folder created and relevant images have been moved\n",
            "good_dataset folder created and relevant images have been moved\n",
            "good_dataset folder created and relevant images have been moved\n",
            "good_dataset folder created and relevant images have been moved\n",
            "good_dataset folder created and relevant images have been moved\n",
            "good_dataset folder created and relevant images have been moved\n",
            "good_dataset folder created and relevant images have been moved\n",
            "good_dataset folder created and relevant images have been moved\n",
            "good_dataset folder created and relevant images have been moved\n",
            "good_dataset folder created and relevant images have been moved\n",
            "good_dataset folder created and relevant images have been moved\n",
            "good_dataset folder created and relevant images have been moved\n",
            "good_dataset folder created and relevant images have been moved\n",
            "good_dataset folder created and relevant images have been moved\n",
            "good_dataset folder created and relevant images have been moved\n",
            "good_dataset folder created and relevant images have been moved\n",
            "good_dataset folder created and relevant images have been moved\n",
            "good_dataset folder created and relevant images have been moved\n",
            "good_dataset folder created and relevant images have been moved\n",
            "good_dataset folder created and relevant images have been moved\n",
            "good_dataset folder created and relevant images have been moved\n",
            "good_dataset folder created and relevant images have been moved\n",
            "good_dataset folder created and relevant images have been moved\n",
            "good_dataset folder created and relevant images have been moved\n",
            "good_dataset folder created and relevant images have been moved\n",
            "good_dataset folder created and relevant images have been moved\n",
            "good_dataset folder created and relevant images have been moved\n",
            "good_dataset folder created and relevant images have been moved\n",
            "good_dataset folder created and relevant images have been moved\n",
            "good_dataset folder created and relevant images have been moved\n",
            "good_dataset folder created and relevant images have been moved\n",
            "good_dataset folder created and relevant images have been moved\n",
            "good_dataset folder created and relevant images have been moved\n",
            "good_dataset folder created and relevant images have been moved\n",
            "good_dataset folder created and relevant images have been moved\n",
            "good_dataset folder created and relevant images have been moved\n",
            "good_dataset folder created and relevant images have been moved\n",
            "good_dataset folder created and relevant images have been moved\n",
            "good_dataset folder created and relevant images have been moved\n",
            "good_dataset folder created and relevant images have been moved\n",
            "good_dataset folder created and relevant images have been moved\n",
            "good_dataset folder created and relevant images have been moved\n",
            "good_dataset folder created and relevant images have been moved\n",
            "good_dataset folder created and relevant images have been moved\n",
            "good_dataset folder created and relevant images have been moved\n",
            "good_dataset folder created and relevant images have been moved\n",
            "good_dataset folder created and relevant images have been moved\n",
            "good_dataset folder created and relevant images have been moved\n",
            "good_dataset folder created and relevant images have been moved\n",
            "good_dataset folder created and relevant images have been moved\n",
            "good_dataset folder created and relevant images have been moved\n",
            "good_dataset folder created and relevant images have been moved\n",
            "good_dataset folder created and relevant images have been moved\n",
            "good_dataset folder created and relevant images have been moved\n",
            "good_dataset folder created and relevant images have been moved\n",
            "good_dataset folder created and relevant images have been moved\n",
            "good_dataset folder created and relevant images have been moved\n",
            "good_dataset folder created and relevant images have been moved\n",
            "good_dataset folder created and relevant images have been moved\n",
            "good_dataset folder created and relevant images have been moved\n",
            "good_dataset folder created and relevant images have been moved\n",
            "good_dataset folder created and relevant images have been moved\n",
            "good_dataset folder created and relevant images have been moved\n",
            "good_dataset folder created and relevant images have been moved\n",
            "good_dataset folder created and relevant images have been moved\n",
            "good_dataset folder created and relevant images have been moved\n",
            "good_dataset folder created and relevant images have been moved\n",
            "good_dataset folder created and relevant images have been moved\n",
            "good_dataset folder created and relevant images have been moved\n",
            "good_dataset folder created and relevant images have been moved\n",
            "good_dataset folder created and relevant images have been moved\n",
            "good_dataset folder created and relevant images have been moved\n",
            "good_dataset folder created and relevant images have been moved\n",
            "good_dataset folder created and relevant images have been moved\n",
            "good_dataset folder created and relevant images have been moved\n",
            "good_dataset folder created and relevant images have been moved\n",
            "good_dataset folder created and relevant images have been moved\n",
            "good_dataset folder created and relevant images have been moved\n",
            "good_dataset folder created and relevant images have been moved\n",
            "good_dataset folder created and relevant images have been moved\n",
            "good_dataset folder created and relevant images have been moved\n",
            "good_dataset folder created and relevant images have been moved\n",
            "good_dataset folder created and relevant images have been moved\n",
            "good_dataset folder created and relevant images have been moved\n",
            "good_dataset folder created and relevant images have been moved\n",
            "good_dataset folder created and relevant images have been moved\n",
            "good_dataset folder created and relevant images have been moved\n",
            "good_dataset folder created and relevant images have been moved\n",
            "good_dataset folder created and relevant images have been moved\n",
            "good_dataset folder created and relevant images have been moved\n",
            "good_dataset folder created and relevant images have been moved\n",
            "good_dataset folder created and relevant images have been moved\n",
            "good_dataset folder created and relevant images have been moved\n",
            "good_dataset folder created and relevant images have been moved\n",
            "good_dataset folder created and relevant images have been moved\n",
            "good_dataset folder created and relevant images have been moved\n",
            "good_dataset folder created and relevant images have been moved\n",
            "good_dataset folder created and relevant images have been moved\n",
            "good_dataset folder created and relevant images have been moved\n",
            "good_dataset folder created and relevant images have been moved\n",
            "good_dataset folder created and relevant images have been moved\n",
            "good_dataset folder created and relevant images have been moved\n",
            "good_dataset folder created and relevant images have been moved\n",
            "good_dataset folder created and relevant images have been moved\n",
            "good_dataset folder created and relevant images have been moved\n",
            "good_dataset folder created and relevant images have been moved\n",
            "good_dataset folder created and relevant images have been moved\n",
            "good_dataset folder created and relevant images have been moved\n",
            "good_dataset folder created and relevant images have been moved\n",
            "good_dataset folder created and relevant images have been moved\n",
            "good_dataset folder created and relevant images have been moved\n",
            "good_dataset folder created and relevant images have been moved\n",
            "good_dataset folder created and relevant images have been moved\n",
            "good_dataset folder created and relevant images have been moved\n",
            "good_dataset folder created and relevant images have been moved\n",
            "good_dataset folder created and relevant images have been moved\n",
            "good_dataset folder created and relevant images have been moved\n",
            "good_dataset folder created and relevant images have been moved\n",
            "good_dataset folder created and relevant images have been moved\n",
            "good_dataset folder created and relevant images have been moved\n",
            "good_dataset folder created and relevant images have been moved\n",
            "good_dataset folder created and relevant images have been moved\n",
            "good_dataset folder created and relevant images have been moved\n",
            "good_dataset folder created and relevant images have been moved\n",
            "good_dataset folder created and relevant images have been moved\n",
            "good_dataset folder created and relevant images have been moved\n",
            "good_dataset folder created and relevant images have been moved\n",
            "good_dataset folder created and relevant images have been moved\n",
            "good_dataset folder created and relevant images have been moved\n",
            "good_dataset folder created and relevant images have been moved\n",
            "good_dataset folder created and relevant images have been moved\n",
            "good_dataset folder created and relevant images have been moved\n",
            "good_dataset folder created and relevant images have been moved\n",
            "good_dataset folder created and relevant images have been moved\n",
            "good_dataset folder created and relevant images have been moved\n",
            "good_dataset folder created and relevant images have been moved\n",
            "good_dataset folder created and relevant images have been moved\n",
            "good_dataset folder created and relevant images have been moved\n",
            "good_dataset folder created and relevant images have been moved\n",
            "good_dataset folder created and relevant images have been moved\n",
            "good_dataset folder created and relevant images have been moved\n",
            "good_dataset folder created and relevant images have been moved\n",
            "good_dataset folder created and relevant images have been moved\n",
            "good_dataset folder created and relevant images have been moved\n",
            "good_dataset folder created and relevant images have been moved\n",
            "good_dataset folder created and relevant images have been moved\n",
            "good_dataset folder created and relevant images have been moved\n",
            "good_dataset folder created and relevant images have been moved\n",
            "good_dataset folder created and relevant images have been moved\n",
            "good_dataset folder created and relevant images have been moved\n",
            "good_dataset folder created and relevant images have been moved\n",
            "good_dataset folder created and relevant images have been moved\n",
            "bad_dataset folder created and relevant images have been moved\n",
            "bad_dataset folder created and relevant images have been moved\n",
            "bad_dataset folder created and relevant images have been moved\n",
            "bad_dataset folder created and relevant images have been moved\n",
            "bad_dataset folder created and relevant images have been moved\n",
            "bad_dataset folder created and relevant images have been moved\n",
            "bad_dataset folder created and relevant images have been moved\n",
            "bad_dataset folder created and relevant images have been moved\n",
            "bad_dataset folder created and relevant images have been moved\n",
            "bad_dataset folder created and relevant images have been moved\n",
            "bad_dataset folder created and relevant images have been moved\n",
            "bad_dataset folder created and relevant images have been moved\n",
            "bad_dataset folder created and relevant images have been moved\n",
            "bad_dataset folder created and relevant images have been moved\n",
            "bad_dataset folder created and relevant images have been moved\n",
            "bad_dataset folder created and relevant images have been moved\n",
            "bad_dataset folder created and relevant images have been moved\n",
            "bad_dataset folder created and relevant images have been moved\n",
            "bad_dataset folder created and relevant images have been moved\n",
            "bad_dataset folder created and relevant images have been moved\n",
            "bad_dataset folder created and relevant images have been moved\n",
            "bad_dataset folder created and relevant images have been moved\n",
            "good_dataset folder created and relevant images have been moved\n",
            "good_dataset folder created and relevant images have been moved\n",
            "good_dataset folder created and relevant images have been moved\n",
            "good_dataset folder created and relevant images have been moved\n",
            "good_dataset folder created and relevant images have been moved\n",
            "good_dataset folder created and relevant images have been moved\n",
            "good_dataset folder created and relevant images have been moved\n",
            "good_dataset folder created and relevant images have been moved\n",
            "good_dataset folder created and relevant images have been moved\n",
            "good_dataset folder created and relevant images have been moved\n",
            "good_dataset folder created and relevant images have been moved\n",
            "good_dataset folder created and relevant images have been moved\n",
            "good_dataset folder created and relevant images have been moved\n",
            "good_dataset folder created and relevant images have been moved\n",
            "good_dataset folder created and relevant images have been moved\n",
            "good_dataset folder created and relevant images have been moved\n",
            "good_dataset folder created and relevant images have been moved\n",
            "good_dataset folder created and relevant images have been moved\n",
            "good_dataset folder created and relevant images have been moved\n",
            "good_dataset folder created and relevant images have been moved\n",
            "good_dataset folder created and relevant images have been moved\n",
            "good_dataset folder created and relevant images have been moved\n",
            "good_dataset folder created and relevant images have been moved\n",
            "good_dataset folder created and relevant images have been moved\n",
            "good_dataset folder created and relevant images have been moved\n",
            "good_dataset folder created and relevant images have been moved\n",
            "good_dataset folder created and relevant images have been moved\n",
            "good_dataset folder created and relevant images have been moved\n",
            "good_dataset folder created and relevant images have been moved\n",
            "good_dataset folder created and relevant images have been moved\n",
            "good_dataset folder created and relevant images have been moved\n",
            "good_dataset folder created and relevant images have been moved\n",
            "good_dataset folder created and relevant images have been moved\n",
            "good_dataset folder created and relevant images have been moved\n",
            "good_dataset folder created and relevant images have been moved\n",
            "good_dataset folder created and relevant images have been moved\n",
            "good_dataset folder created and relevant images have been moved\n",
            "good_dataset folder created and relevant images have been moved\n",
            "good_dataset folder created and relevant images have been moved\n",
            "good_dataset folder created and relevant images have been moved\n",
            "good_dataset folder created and relevant images have been moved\n",
            "good_dataset folder created and relevant images have been moved\n",
            "good_dataset folder created and relevant images have been moved\n",
            "good_dataset folder created and relevant images have been moved\n",
            "good_dataset folder created and relevant images have been moved\n",
            "good_dataset folder created and relevant images have been moved\n",
            "good_dataset folder created and relevant images have been moved\n",
            "good_dataset folder created and relevant images have been moved\n",
            "good_dataset folder created and relevant images have been moved\n",
            "good_dataset folder created and relevant images have been moved\n",
            "good_dataset folder created and relevant images have been moved\n",
            "good_dataset folder created and relevant images have been moved\n",
            "good_dataset folder created and relevant images have been moved\n",
            "good_dataset folder created and relevant images have been moved\n",
            "good_dataset folder created and relevant images have been moved\n",
            "good_dataset folder created and relevant images have been moved\n",
            "good_dataset folder created and relevant images have been moved\n",
            "good_dataset folder created and relevant images have been moved\n",
            "good_dataset folder created and relevant images have been moved\n",
            "good_dataset folder created and relevant images have been moved\n",
            "good_dataset folder created and relevant images have been moved\n",
            "good_dataset folder created and relevant images have been moved\n",
            "good_dataset folder created and relevant images have been moved\n",
            "good_dataset folder created and relevant images have been moved\n"
          ]
        }
      ],
      "source": [
        "import pandas as pd\n",
        "\n",
        "df=pd.read_excel(r'/content/gdrive/MyDrive/dataset/T51+T52BAD+T53BAD+T54BAD+T57BAD +T58BAD/Train 1.xlsx')\n",
        "\n",
        "df['OR_Gate']=df['Tower']|df['Transmission line']|df['insulator']|df['vibration damper']\n",
        "#print(df['OR_Gate'])\n",
        "\n",
        "Bad_dataset=list(df[df['OR_Gate']==0][\"Image Name\"])\n",
        "#print(Bad_dataset)\n",
        "\n",
        "Good_dataset=list(df[df['OR_Gate']==1][\"Image Name\"])\n",
        "#print(Good_dataset)\n",
        "path=r\"/content/gdrive/MyDrive/dataset/T51+T52BAD+T53BAD+T54BAD+T57BAD +T58BAD/train/\"\n",
        "\n",
        "img_path_Bad_dataset=r\"/content/gdrive/MyDrive/dataset/T51+T52BAD+T53BAD+T54BAD+T57BAD +T58BAD/Train/bad_dataset/\"\n",
        "\n",
        "img_path_Good_dataset =r\"/content/gdrive/MyDrive/dataset/T51+T52BAD+T53BAD+T54BAD+T57BAD +T58BAD/Train/good_dataset/\"\n",
        "import shutil\n",
        "for i in Bad_dataset:\n",
        "   src_path=path+i\n",
        "   #print(src_path)\n",
        "   dest_path=img_path_Bad_dataset+i\n",
        "   #print(dest_path)\n",
        "   temp=shutil.copy(src_path,dest_path)\n",
        "   #print(temp)\n",
        "   print(\"bad_dataset folder created and relevant images have been moved\")\n",
        "for i in Good_dataset:\n",
        "   src_path=path+i\n",
        "   #print(src_path)\n",
        "   dest_path=img_path_Good_dataset+i\n",
        "   #print(dest_path)\n",
        "   temp=shutil.copy(src_path, dest_path)\n",
        "   print(\"good_dataset folder created and relevant images have been moved\")\n",
        "\n",
        "\n",
        "df=pd.read_excel(r'/content/gdrive/MyDrive/dataset/T51+T52BAD+T53BAD+T54BAD+T57BAD +T58BAD/Test 1.xlsx')\n",
        "\n",
        "df['OR_Gate']=df['Tower']|df['Transmission line']|df['insulator']|df['vibration damper']\n",
        "#print(df['OR_Gate'])\n",
        "\n",
        "Bad_dataset=list(df[df['OR_Gate']==0][\"Image Name\"])\n",
        "Good_dataset=list(df[df['OR_Gate']==1][\"Image Name\"])\n",
        "#print(Good_dataset)\n",
        "path=r\"/content/gdrive/MyDrive/dataset/T51+T52BAD+T53BAD+T54BAD+T57BAD +T58BAD/test/\"\n",
        "\n",
        "img_path_Bad_dataset=r\"/content/gdrive/MyDrive/dataset/T51+T52BAD+T53BAD+T54BAD+T57BAD +T58BAD/Test/bad_dataset/\"\n",
        "img_path_Good_dataset =r\"/content/gdrive/MyDrive/dataset/T51+T52BAD+T53BAD+T54BAD+T57BAD +T58BAD/Test/good_dataset/\"\n",
        "import shutil\n",
        "for i in Bad_dataset:\n",
        "   src_path=path+i\n",
        "   #print(src_path)\n",
        "   dest_path=img_path_Bad_dataset+i\n",
        "   #print(dest_path)\n",
        "   temp=shutil.copy(src_path,dest_path)\n",
        "   #print(temp)\n",
        "   print(\"bad_dataset folder created and relevant images have been moved\")\n",
        "for i in Good_dataset:\n",
        "   src_path=path+i\n",
        "   #print(src_path)\n",
        "   dest_path=img_path_Good_dataset+i\n",
        "   #print(dest_path)\n",
        "   temp=shutil.copy(src_path, dest_path)\n",
        "   print(\"good_dataset folder created and relevant images have been moved\")\n"
      ]
    },
    {
      "cell_type": "code",
      "execution_count": null,
      "metadata": {
        "colab": {
          "base_uri": "https://localhost:8080/"
        },
        "id": "RUuIX4ZpZVkT",
        "outputId": "4f2940bc-fbd1-49bc-c451-356bf3934c72"
      },
      "outputs": [
        {
          "output_type": "stream",
          "name": "stdout",
          "text": [
            "Found 198 files belonging to 2 classes.\n",
            "Found 86 files belonging to 2 classes.\n",
            "<_BatchDataset element_spec=(TensorSpec(shape=(None, 128, 128, 3), dtype=tf.float32, name=None), TensorSpec(shape=(None,), dtype=tf.int32, name=None))>\n",
            "<_BatchDataset element_spec=(TensorSpec(shape=(None, 128, 128, 3), dtype=tf.float32, name=None), TensorSpec(shape=(None,), dtype=tf.int32, name=None))>\n"
          ]
        }
      ],
      "source": [
        "import tensorflow as tf\n",
        "from tensorflow import keras\n",
        "from tensorflow.keras.layers import Dense, Flatten,BatchNormalization,Dropout\n",
        "from tensorflow.keras.preprocessing import image\n",
        "from tensorflow.keras.models import Sequential\n",
        "import numpy as np\n",
        "import pandas as pd\n",
        "import os\n",
        "import cv2\n",
        "import matplotlib.pyplot as plt\n",
        "\n",
        "train_ds=keras.utils.image_dataset_from_directory(\n",
        "    directory=r'/content/gdrive/MyDrive/dataset/T51+T52BAD+T53BAD+T54BAD+T57BAD +T58BAD/Train',\n",
        "    labels='inferred',\n",
        "    label_mode='int',\n",
        "    batch_size=32,\n",
        "    image_size=(128,128)\n",
        ")\n",
        "validation_ds=keras.utils.image_dataset_from_directory(\n",
        "    directory=r'/content/gdrive/MyDrive/dataset/T51+T52BAD+T53BAD+T54BAD+T57BAD +T58BAD/Test',\n",
        "    labels='inferred',\n",
        "    label_mode='int',\n",
        "    batch_size=32,\n",
        "    image_size=(128,128)\n",
        ")\n",
        "\n",
        "print(train_ds)\n",
        "print(validation_ds)\n"
      ]
    },
    {
      "cell_type": "code",
      "execution_count": null,
      "metadata": {
        "colab": {
          "base_uri": "https://localhost:8080/"
        },
        "id": "-aEyna08thf2",
        "outputId": "fe92ad6b-c0f3-4b49-bd4d-7c14dad96d4b"
      },
      "outputs": [
        {
          "output_type": "stream",
          "name": "stdout",
          "text": [
            "Model: \"sequential_1\"\n",
            "_________________________________________________________________\n",
            " Layer (type)                Output Shape              Param #   \n",
            "=================================================================\n",
            " inception_v3 (Functional)   (None, 2048)              21802784  \n",
            "                                                                 \n",
            " flatten_1 (Flatten)         (None, 2048)              0         \n",
            "                                                                 \n",
            " batch_normalization_191 (Ba  (None, 2048)             8192      \n",
            " tchNormalization)                                               \n",
            "                                                                 \n",
            " dense_3 (Dense)             (None, 2048)              4196352   \n",
            "                                                                 \n",
            " batch_normalization_192 (Ba  (None, 2048)             8192      \n",
            " tchNormalization)                                               \n",
            "                                                                 \n",
            " dropout_3 (Dropout)         (None, 2048)              0         \n",
            "                                                                 \n",
            " dense_4 (Dense)             (None, 1024)              2098176   \n",
            "                                                                 \n",
            " batch_normalization_193 (Ba  (None, 1024)             4096      \n",
            " tchNormalization)                                               \n",
            "                                                                 \n",
            " dropout_4 (Dropout)         (None, 1024)              0         \n",
            "                                                                 \n",
            " dense_5 (Dense)             (None, 1)                 1025      \n",
            "                                                                 \n",
            " dropout_5 (Dropout)         (None, 1)                 0         \n",
            "                                                                 \n",
            "=================================================================\n",
            "Total params: 28,118,817\n",
            "Trainable params: 6,305,793\n",
            "Non-trainable params: 21,813,024\n",
            "_________________________________________________________________\n"
          ]
        }
      ],
      "source": [
        "from tensorflow.keras.applications import InceptionV3\n",
        "from tensorflow.keras import layers\n",
        "\n",
        "model=Sequential()\n",
        "model.add(InceptionV3(input_shape=(128,128,3),include_top=False,pooling='avg',weights='imagenet'))\n",
        "model.add(Flatten())\n",
        "model.add(BatchNormalization())\n",
        "model.add(Dense(2048,activation='relu'))\n",
        "model.add(BatchNormalization())\n",
        "model.add(Dropout(0.5))\n",
        "model.add(Dense(1024,activation='relu'))\n",
        "model.add(BatchNormalization())\n",
        "model.add(Dropout(0.5))\n",
        "model.add(Dense(1,activation='sigmoid'))\n",
        "model.add(Dropout(0.5))\n",
        "model.layers[0].trainable=False\n",
        "model.summary()\n"
      ]
    },
    {
      "cell_type": "code",
      "execution_count": null,
      "metadata": {
        "id": "43hilu7Su8V_"
      },
      "outputs": [],
      "source": [
        "from tensorflow.keras.optimizers import Adam\n",
        "from tensorflow.keras.losses import BinaryCrossentropy\n",
        "from tensorflow.keras.metrics import Metric\n",
        "Metric=['accuracy','Precision','Recall']\n",
        "model.compile(loss='BinaryCrossentropy',optimizer=Adam(learning_rate=0.001),metrics=Metric)"
      ]
    },
    {
      "cell_type": "code",
      "execution_count": null,
      "metadata": {
        "colab": {
          "base_uri": "https://localhost:8080/"
        },
        "id": "cBtSXjAzvSIv",
        "outputId": "f7d4f810-40bf-4b51-b560-a6d921873e04"
      },
      "outputs": [
        {
          "output_type": "stream",
          "name": "stdout",
          "text": [
            "Epoch 1/30\n",
            "7/7 [==============================] - 28s 1s/step - loss: 7.2625 - accuracy: 0.4192 - precision: 0.9016 - recall: 0.3354 - val_loss: 11.4790 - val_accuracy: 0.2558 - val_precision: 0.0000e+00 - val_recall: 0.0000e+00\n",
            "Epoch 2/30\n",
            "7/7 [==============================] - 21s 1s/step - loss: 7.1455 - accuracy: 0.4747 - precision: 0.9286 - recall: 0.3963 - val_loss: 11.4790 - val_accuracy: 0.2558 - val_precision: 0.0000e+00 - val_recall: 0.0000e+00\n",
            "Epoch 3/30\n",
            "7/7 [==============================] - 21s 1s/step - loss: 7.3980 - accuracy: 0.4394 - precision: 0.9344 - recall: 0.3476 - val_loss: 11.4790 - val_accuracy: 0.2558 - val_precision: 0.0000e+00 - val_recall: 0.0000e+00\n",
            "Epoch 4/30\n",
            "7/7 [==============================] - 21s 911ms/step - loss: 6.6546 - accuracy: 0.5051 - precision: 0.9583 - recall: 0.4207 - val_loss: 11.4790 - val_accuracy: 0.2558 - val_precision: 0.0000e+00 - val_recall: 0.0000e+00\n",
            "Epoch 5/30\n",
            "7/7 [==============================] - 24s 2s/step - loss: 7.4033 - accuracy: 0.4848 - precision: 0.9189 - recall: 0.4146 - val_loss: 11.4790 - val_accuracy: 0.2558 - val_precision: 0.0000e+00 - val_recall: 0.0000e+00\n",
            "Epoch 6/30\n",
            "7/7 [==============================] - 21s 1s/step - loss: 7.0344 - accuracy: 0.5303 - precision: 0.9610 - recall: 0.4512 - val_loss: 11.4791 - val_accuracy: 0.2558 - val_precision: 0.0000e+00 - val_recall: 0.0000e+00\n",
            "Epoch 7/30\n",
            "7/7 [==============================] - 24s 2s/step - loss: 7.4873 - accuracy: 0.5101 - precision: 0.9241 - recall: 0.4451 - val_loss: 11.4034 - val_accuracy: 0.2442 - val_precision: 0.0000e+00 - val_recall: 0.0000e+00\n",
            "Epoch 8/30\n",
            "7/7 [==============================] - 19s 927ms/step - loss: 6.8807 - accuracy: 0.5303 - precision: 0.9610 - recall: 0.4512 - val_loss: 11.3386 - val_accuracy: 0.2442 - val_precision: 0.0000e+00 - val_recall: 0.0000e+00\n",
            "Epoch 9/30\n",
            "7/7 [==============================] - 21s 1s/step - loss: 7.4321 - accuracy: 0.5000 - precision: 0.9221 - recall: 0.4329 - val_loss: 11.2457 - val_accuracy: 0.2558 - val_precision: 0.0000e+00 - val_recall: 0.0000e+00\n",
            "Epoch 10/30\n",
            "7/7 [==============================] - 19s 923ms/step - loss: 6.8239 - accuracy: 0.5404 - precision: 0.9740 - recall: 0.4573 - val_loss: 9.6526 - val_accuracy: 0.2558 - val_precision: 0.0000e+00 - val_recall: 0.0000e+00\n",
            "Epoch 11/30\n",
            "7/7 [==============================] - 21s 1s/step - loss: 6.3345 - accuracy: 0.5808 - precision: 0.9451 - recall: 0.5244 - val_loss: 9.0077 - val_accuracy: 0.2442 - val_precision: 0.0000e+00 - val_recall: 0.0000e+00\n",
            "Epoch 12/30\n",
            "7/7 [==============================] - 19s 920ms/step - loss: 7.0665 - accuracy: 0.5202 - precision: 0.9157 - recall: 0.4634 - val_loss: 7.4818 - val_accuracy: 0.2209 - val_precision: 0.2857 - val_recall: 0.0312\n",
            "Epoch 13/30\n",
            "7/7 [==============================] - 21s 1s/step - loss: 6.5442 - accuracy: 0.5606 - precision: 0.9425 - recall: 0.5000 - val_loss: 2.8386 - val_accuracy: 0.5000 - val_precision: 0.9565 - val_recall: 0.3438\n",
            "Epoch 14/30\n",
            "7/7 [==============================] - 21s 1s/step - loss: 6.2827 - accuracy: 0.5758 - precision: 0.9348 - recall: 0.5244 - val_loss: 2.0203 - val_accuracy: 0.6395 - val_precision: 1.0000 - val_recall: 0.5156\n",
            "Epoch 15/30\n",
            "7/7 [==============================] - 19s 917ms/step - loss: 5.8459 - accuracy: 0.5707 - precision: 0.9759 - recall: 0.4939 - val_loss: 3.6181 - val_accuracy: 0.3721 - val_precision: 1.0000 - val_recall: 0.1562\n",
            "Epoch 16/30\n",
            "7/7 [==============================] - 21s 1s/step - loss: 6.0465 - accuracy: 0.5909 - precision: 0.9663 - recall: 0.5244 - val_loss: 3.8282 - val_accuracy: 0.2558 - val_precision: 0.5000 - val_recall: 0.0938\n",
            "Epoch 17/30\n",
            "7/7 [==============================] - 19s 906ms/step - loss: 7.2592 - accuracy: 0.4899 - precision: 0.8987 - recall: 0.4329 - val_loss: 3.1126 - val_accuracy: 0.4651 - val_precision: 0.7812 - val_recall: 0.3906\n",
            "Epoch 18/30\n",
            "7/7 [==============================] - 21s 1s/step - loss: 5.5072 - accuracy: 0.5808 - precision: 0.9263 - recall: 0.5366 - val_loss: 2.5545 - val_accuracy: 0.4767 - val_precision: 0.7879 - val_recall: 0.4062\n",
            "Epoch 19/30\n",
            "7/7 [==============================] - 19s 934ms/step - loss: 6.7910 - accuracy: 0.5253 - precision: 0.9487 - recall: 0.4512 - val_loss: 2.2987 - val_accuracy: 0.6163 - val_precision: 0.8605 - val_recall: 0.5781\n",
            "Epoch 20/30\n",
            "7/7 [==============================] - 24s 2s/step - loss: 6.7269 - accuracy: 0.5101 - precision: 0.9589 - recall: 0.4268 - val_loss: 1.7403 - val_accuracy: 0.6977 - val_precision: 0.8800 - val_recall: 0.6875\n",
            "Epoch 21/30\n",
            "7/7 [==============================] - 19s 919ms/step - loss: 6.2809 - accuracy: 0.5707 - precision: 0.9647 - recall: 0.5000 - val_loss: 1.9593 - val_accuracy: 0.6047 - val_precision: 0.7778 - val_recall: 0.6562\n",
            "Epoch 22/30\n",
            "7/7 [==============================] - 21s 1s/step - loss: 6.5258 - accuracy: 0.5606 - precision: 0.9326 - recall: 0.5061 - val_loss: 2.1441 - val_accuracy: 0.4535 - val_precision: 0.6977 - val_recall: 0.4688\n",
            "Epoch 23/30\n",
            "7/7 [==============================] - 19s 923ms/step - loss: 5.5717 - accuracy: 0.6111 - precision: 0.9394 - recall: 0.5671 - val_loss: 1.1754 - val_accuracy: 0.7558 - val_precision: 0.8308 - val_recall: 0.8438\n",
            "Epoch 24/30\n",
            "7/7 [==============================] - 21s 1s/step - loss: 6.2804 - accuracy: 0.5657 - precision: 0.9432 - recall: 0.5061 - val_loss: 0.7682 - val_accuracy: 0.8023 - val_precision: 0.8507 - val_recall: 0.8906\n",
            "Epoch 25/30\n",
            "7/7 [==============================] - 19s 854ms/step - loss: 6.1798 - accuracy: 0.5859 - precision: 0.9457 - recall: 0.5305 - val_loss: 0.5643 - val_accuracy: 0.8023 - val_precision: 0.8507 - val_recall: 0.8906\n",
            "Epoch 26/30\n",
            "7/7 [==============================] - 22s 1s/step - loss: 6.5515 - accuracy: 0.5758 - precision: 0.9545 - recall: 0.5122 - val_loss: 0.5870 - val_accuracy: 0.7907 - val_precision: 0.8382 - val_recall: 0.8906\n",
            "Epoch 27/30\n",
            "7/7 [==============================] - 21s 1s/step - loss: 6.1580 - accuracy: 0.6010 - precision: 0.9474 - recall: 0.5488 - val_loss: 0.6982 - val_accuracy: 0.7791 - val_precision: 0.8261 - val_recall: 0.8906\n",
            "Epoch 28/30\n",
            "7/7 [==============================] - 19s 930ms/step - loss: 5.9264 - accuracy: 0.6111 - precision: 0.9394 - recall: 0.5671 - val_loss: 0.7510 - val_accuracy: 0.7674 - val_precision: 0.8143 - val_recall: 0.8906\n",
            "Epoch 29/30\n",
            "7/7 [==============================] - 21s 1s/step - loss: 6.3301 - accuracy: 0.5808 - precision: 0.9551 - recall: 0.5183 - val_loss: 0.4919 - val_accuracy: 0.8256 - val_precision: 0.8451 - val_recall: 0.9375\n",
            "Epoch 30/30\n",
            "7/7 [==============================] - 19s 843ms/step - loss: 7.2504 - accuracy: 0.5253 - precision: 0.9375 - recall: 0.4573 - val_loss: 0.3771 - val_accuracy: 0.8488 - val_precision: 0.8592 - val_recall: 0.9531\n"
          ]
        }
      ],
      "source": [
        "history=model.fit(train_ds,validation_data=validation_ds,epochs=30)"
      ]
    },
    {
      "cell_type": "code",
      "source": [
        "import matplotlib.pyplot as plt\n",
        "plt.plot(history.history['accuracy'],color='red',label='train')\n",
        "plt.plot(history.history['val_accuracy'],color='blue',label='validation')\n",
        "plt.legend()\n",
        "plt.show()"
      ],
      "metadata": {
        "colab": {
          "base_uri": "https://localhost:8080/",
          "height": 430
        },
        "id": "idLOFQgSuXja",
        "outputId": "47bc91df-8345-49b0-dbc9-935f945c1151"
      },
      "execution_count": null,
      "outputs": [
        {
          "output_type": "display_data",
          "data": {
            "text/plain": [
              "<Figure size 640x480 with 1 Axes>"
            ],
            "image/png": "[encoded data removed]"
          },
          "metadata": {}
        }
      ]
    },
    {
      "cell_type": "code",
      "source": [
        "import matplotlib.pyplot as plt\n",
        "plt.plot(history.history['loss'],color='red',label='train')\n",
        "plt.plot(history.history['val_loss'],color='blue',label='validation')\n",
        "plt.legend()\n",
        "plt.show()"
      ],
      "metadata": {
        "colab": {
          "base_uri": "https://localhost:8080/",
          "height": 434
        },
        "id": "focwwyEpuXqJ",
        "outputId": "cff9b1c5-46d7-4771-c66f-af2111fdfac6"
      },
      "execution_count": null,
      "outputs": [
        {
          "output_type": "display_data",
          "data": {
            "text/plain": [
              "<Figure size 640x480 with 1 Axes>"
            ],
            "image/png": "[encoded data removed]"
          },
          "metadata": {}
        }
      ]
    },
    {
      "cell_type": "code",
      "source": [
        "import cv2\n",
        "image=cv2.imread('/content/gdrive/MyDrive/dataset/T51+T52BAD+T53BAD+T54BAD+T57BAD +T58BAD/Test/bad_dataset/DJI_0066.jpg')\n",
        "image_resized=cv2.resize(image,(128,128))\n",
        "image=np.expand_dims(image_resized,axis=0)\n",
        "pred=model.predict(image)\n",
        "print(pred)"
      ],
      "metadata": {
        "colab": {
          "base_uri": "https://localhost:8080/"
        },
        "id": "9S2axkV8uX-x",
        "outputId": "f028231c-fa9a-4375-d7b3-b82a8998be68"
      },
      "execution_count": null,
      "outputs": [
        {
          "output_type": "stream",
          "name": "stdout",
          "text": [
            "1/1 [==============================] - 1s 1s/step\n",
            "[[5.350227e-08]]\n"
          ]
        }
      ]
    },
    {
      "cell_type": "code",
      "source": [
        "import cv2\n",
        "image=cv2.imread('/content/gdrive/MyDrive/dataset/T51+T52BAD+T53BAD+T54BAD+T57BAD/Test/bad_dataset/DJI_0489.jpg')\n",
        "image_resized=cv2.resize(image,(128,128))\n",
        "image=np.expand_dims(image_resized,axis=0)\n",
        "pred=model.predict(image)\n",
        "print(pred)\n"
      ],
      "metadata": {
        "colab": {
          "base_uri": "https://localhost:8080/"
        },
        "id": "VMyv3TmfuYHZ",
        "outputId": "8d077472-65e8-484f-fa26-be84d323f292"
      },
      "execution_count": null,
      "outputs": [
        {
          "output_type": "stream",
          "name": "stdout",
          "text": [
            "1/1 [==============================] - 0s 27ms/step\n",
            "[[0.9767808]]\n"
          ]
        }
      ]
    },
    {
      "cell_type": "code",
      "source": [
        "import cv2\n",
        "image=cv2.imread('/content/gdrive/MyDrive/dataset/T51+T52BAD+T53BAD+T54BAD+T57BAD +T58BAD/Test/bad_dataset/DJI_0108.jpg')\n",
        "image_resized=cv2.resize(image,(128,128))\n",
        "image=np.expand_dims(image_resized,axis=0)\n",
        "pred=model.predict(image)\n",
        "print(pred)"
      ],
      "metadata": {
        "colab": {
          "base_uri": "https://localhost:8080/"
        },
        "id": "4TCIn3-YyImC",
        "outputId": "8e42ec55-f775-4bb3-fabc-1ac817bb5415"
      },
      "execution_count": null,
      "outputs": [
        {
          "output_type": "stream",
          "name": "stdout",
          "text": [
            "1/1 [==============================] - 0s 27ms/step\n",
            "[[2.3186832e-08]]\n"
          ]
        }
      ]
    },
    {
      "cell_type": "code",
      "source": [
        "import cv2\n",
        "image=cv2.imread('/content/gdrive/MyDrive/dataset/T51+T52BAD+T53BAD+T54BAD+T57BAD +T58BAD/Test/bad_dataset/DJI_0110.jpg')\n",
        "image_resized=cv2.resize(image,(128,128))\n",
        "image=np.expand_dims(image_resized,axis=0)\n",
        "pred=model.predict(image)\n",
        "print(pred)"
      ],
      "metadata": {
        "colab": {
          "base_uri": "https://localhost:8080/"
        },
        "id": "aI_YgSGOyIvH",
        "outputId": "2db0a347-b6c7-451b-ee2c-8181d3e5efee"
      },
      "execution_count": null,
      "outputs": [
        {
          "output_type": "stream",
          "name": "stdout",
          "text": [
            "1/1 [==============================] - 0s 27ms/step\n",
            "[[4.1796674e-10]]\n"
          ]
        }
      ]
    },
    {
      "cell_type": "code",
      "source": [
        "import cv2\n",
        "image=cv2.imread('/content/gdrive/MyDrive/dataset/T51+T52BAD+T53BAD+T54BAD+T57BAD +T58BAD/Test/bad_dataset/DJI_0491.jpg')\n",
        "image_resized=cv2.resize(image,(128,128))\n",
        "image=np.expand_dims(image_resized,axis=0)\n",
        "pred=model.predict(image)\n",
        "print(pred)"
      ],
      "metadata": {
        "colab": {
          "base_uri": "https://localhost:8080/"
        },
        "id": "2OZVArZfyI5v",
        "outputId": "e8ce6b1f-29e6-4f78-97e9-abd7ec483b26"
      },
      "execution_count": null,
      "outputs": [
        {
          "output_type": "stream",
          "name": "stdout",
          "text": [
            "1/1 [==============================] - 0s 28ms/step\n",
            "[[0.91893697]]\n"
          ]
        }
      ]
    },
    {
      "cell_type": "code",
      "source": [
        "import cv2\n",
        "image=cv2.imread('/content/gdrive/MyDrive/dataset/T51+T52BAD+T53BAD+T54BAD+T57BAD +T58BAD/Test/bad_dataset/DJI_0493.jpg')\n",
        "image_resized=cv2.resize(image,(128,128))\n",
        "image=np.expand_dims(image_resized,axis=0)\n",
        "pred=model.predict(image)\n",
        "print(pred)"
      ],
      "metadata": {
        "colab": {
          "base_uri": "https://localhost:8080/"
        },
        "id": "XER8ZPSsyI-X",
        "outputId": "9b1abf26-a200-4c96-f274-2029c046bdb7"
      },
      "execution_count": null,
      "outputs": [
        {
          "output_type": "stream",
          "name": "stdout",
          "text": [
            "1/1 [==============================] - 0s 27ms/step\n",
            "[[0.8883201]]\n"
          ]
        }
      ]
    },
    {
      "cell_type": "code",
      "source": [
        "import cv2\n",
        "image=cv2.imread('/content/gdrive/MyDrive/dataset/T51+T52BAD+T53BAD+T54BAD+T57BAD +T58BAD/Test/bad_dataset/DJI_0495.jpg')\n",
        "image_resized=cv2.resize(image,(128,128))\n",
        "image=np.expand_dims(image_resized,axis=0)\n",
        "pred=model.predict(image)\n",
        "print(pred)"
      ],
      "metadata": {
        "colab": {
          "base_uri": "https://localhost:8080/"
        },
        "id": "itQI98K2yJF4",
        "outputId": "bd3a022b-fbdc-4929-c8e9-5271659d6234"
      },
      "execution_count": null,
      "outputs": [
        {
          "output_type": "stream",
          "name": "stdout",
          "text": [
            "1/1 [==============================] - 0s 40ms/step\n",
            "[[0.96124154]]\n"
          ]
        }
      ]
    },
    {
      "cell_type": "code",
      "source": [
        "import cv2\n",
        "image=cv2.imread('/content/gdrive/MyDrive/dataset/T51+T52BAD+T53BAD+T54BAD+T57BAD +T58BAD/Test/bad_dataset/DJI_0497.jpg')\n",
        "image_resized=cv2.resize(image,(128,128))\n",
        "image=np.expand_dims(image_resized,axis=0)\n",
        "pred=model.predict(image)\n",
        "print(pred)"
      ],
      "metadata": {
        "colab": {
          "base_uri": "https://localhost:8080/"
        },
        "id": "mqD_ATasyJNK",
        "outputId": "c016d26d-9e33-4d23-d571-6b7dbb796c38"
      },
      "execution_count": null,
      "outputs": [
        {
          "output_type": "stream",
          "name": "stdout",
          "text": [
            "1/1 [==============================] - 0s 41ms/step\n",
            "[[0.90559894]]\n"
          ]
        }
      ]
    },
    {
      "cell_type": "code",
      "source": [
        "import cv2\n",
        "image=cv2.imread('/content/gdrive/MyDrive/dataset/T51+T52BAD+T53BAD+T54BAD+T57BAD +T58BAD/Test/bad_dataset/DJI_0499.jpg')\n",
        "image_resized=cv2.resize(image,(128,128))\n",
        "image=np.expand_dims(image_resized,axis=0)\n",
        "pred=model.predict(image)\n",
        "print(pred)"
      ],
      "metadata": {
        "colab": {
          "base_uri": "https://localhost:8080/"
        },
        "id": "hcZzpJPZyJaR",
        "outputId": "0447349f-ce07-4220-ca57-8ee2424cfd9f"
      },
      "execution_count": null,
      "outputs": [
        {
          "output_type": "stream",
          "name": "stdout",
          "text": [
            "1/1 [==============================] - 0s 27ms/step\n",
            "[[0.6776151]]\n"
          ]
        }
      ]
    },
    {
      "cell_type": "code",
      "source": [
        "import cv2\n",
        "image=cv2.imread('/content/gdrive/MyDrive/dataset/T51+T52BAD+T53BAD+T54BAD+T57BAD +T58BAD/Test/bad_dataset/DJI_0501.jpg')\n",
        "image_resized=cv2.resize(image,(128,128))\n",
        "image=np.expand_dims(image_resized,axis=0)\n",
        "pred=model.predict(image)\n",
        "print(pred)"
      ],
      "metadata": {
        "colab": {
          "base_uri": "https://localhost:8080/"
        },
        "id": "qalg6PIcyJeX",
        "outputId": "dd173442-3349-4291-acee-5d33f562c23b"
      },
      "execution_count": null,
      "outputs": [
        {
          "output_type": "stream",
          "name": "stdout",
          "text": [
            "1/1 [==============================] - 0s 28ms/step\n",
            "[[0.8298572]]\n"
          ]
        }
      ]
    },
    {
      "cell_type": "code",
      "source": [
        "import cv2\n",
        "image=cv2.imread('/content/gdrive/MyDrive/dataset/T51+T52BAD+T53BAD+T54BAD+T57BAD +T58BAD/Test/bad_dataset/DJI_0503.jpg')\n",
        "image_resized=cv2.resize(image,(128,128))\n",
        "image=np.expand_dims(image_resized,axis=0)\n",
        "pred=model.predict(image)\n",
        "print(pred)"
      ],
      "metadata": {
        "colab": {
          "base_uri": "https://localhost:8080/"
        },
        "id": "45gJQtu8yJic",
        "outputId": "91b44ead-2aa1-4d95-d3e8-2f0e5d2caae7"
      },
      "execution_count": null,
      "outputs": [
        {
          "output_type": "stream",
          "name": "stdout",
          "text": [
            "1/1 [==============================] - 0s 28ms/step\n",
            "[[0.6452112]]\n"
          ]
        }
      ]
    },
    {
      "cell_type": "code",
      "source": [
        "import cv2\n",
        "image=cv2.imread('/content/gdrive/MyDrive/dataset/T51+T52BAD+T53BAD+T54BAD+T57BAD +T58BAD/Test/bad_dataset/DJI_0505.jpg')\n",
        "image_resized=cv2.resize(image,(128,128))\n",
        "image=np.expand_dims(image_resized,axis=0)\n",
        "pred=model.predict(image)\n",
        "print(pred)"
      ],
      "metadata": {
        "colab": {
          "base_uri": "https://localhost:8080/"
        },
        "id": "i7A98hWsyJrh",
        "outputId": "f1273b10-54b0-4dd0-eb0d-77decefd7902"
      },
      "execution_count": null,
      "outputs": [
        {
          "output_type": "stream",
          "name": "stdout",
          "text": [
            "1/1 [==============================] - 0s 36ms/step\n",
            "[[0.98755836]]\n"
          ]
        }
      ]
    },
    {
      "cell_type": "code",
      "source": [
        "import cv2\n",
        "image=cv2.imread('/content/gdrive/MyDrive/dataset/T51+T52BAD+T53BAD+T54BAD+T57BAD +T58BAD/Test/bad_dataset/DJI_0507.jpg')\n",
        "image_resized=cv2.resize(image,(128,128))\n",
        "image=np.expand_dims(image_resized,axis=0)\n",
        "pred=model.predict(image)\n",
        "print(pred)"
      ],
      "metadata": {
        "colab": {
          "base_uri": "https://localhost:8080/"
        },
        "id": "YCmCr-ztyJvY",
        "outputId": "221afbf0-abc9-413b-de99-990b98f930bc"
      },
      "execution_count": null,
      "outputs": [
        {
          "output_type": "stream",
          "name": "stdout",
          "text": [
            "1/1 [==============================] - 0s 26ms/step\n",
            "[[0.0622013]]\n"
          ]
        }
      ]
    },
    {
      "cell_type": "code",
      "source": [
        "import cv2\n",
        "image=cv2.imread('/content/gdrive/MyDrive/dataset/T51+T52BAD+T53BAD+T54BAD+T57BAD +T58BAD/Test/bad_dataset/DJI_0509.jpg')\n",
        "image_resized=cv2.resize(image,(128,128))\n",
        "image=np.expand_dims(image_resized,axis=0)\n",
        "pred=model.predict(image)\n",
        "print(pred)"
      ],
      "metadata": {
        "colab": {
          "base_uri": "https://localhost:8080/"
        },
        "id": "sPhR9XE0yJzf",
        "outputId": "37e953d7-7cc5-4870-9538-76c7f00e7681"
      },
      "execution_count": null,
      "outputs": [
        {
          "output_type": "stream",
          "name": "stdout",
          "text": [
            "1/1 [==============================] - 0s 35ms/step\n",
            "[[0.5335247]]\n"
          ]
        }
      ]
    },
    {
      "cell_type": "code",
      "source": [
        "import cv2\n",
        "image=cv2.imread('/content/gdrive/MyDrive/dataset/T51+T52BAD+T53BAD+T54BAD+T57BAD +T58BAD/Test/bad_dataset/DJI_0608.jpg')\n",
        "image_resized=cv2.resize(image,(128,128))\n",
        "image=np.expand_dims(image_resized,axis=0)\n",
        "pred=model.predict(image)\n",
        "print(pred)"
      ],
      "metadata": {
        "colab": {
          "base_uri": "https://localhost:8080/"
        },
        "id": "1hogmtY6yJ4H",
        "outputId": "fd995c9a-a7e4-4599-ce42-fc05632387af"
      },
      "execution_count": null,
      "outputs": [
        {
          "output_type": "stream",
          "name": "stdout",
          "text": [
            "1/1 [==============================] - 0s 26ms/step\n",
            "[[1.5109693e-09]]\n"
          ]
        }
      ]
    },
    {
      "cell_type": "code",
      "source": [
        "import cv2\n",
        "image=cv2.imread('/content/gdrive/MyDrive/dataset/T51+T52BAD+T53BAD+T54BAD+T57BAD +T58BAD/Test/bad_dataset/DJI_0610.jpg')\n",
        "image_resized=cv2.resize(image,(128,128))\n",
        "image=np.expand_dims(image_resized,axis=0)\n",
        "pred=model.predict(image)\n",
        "print(pred)"
      ],
      "metadata": {
        "colab": {
          "base_uri": "https://localhost:8080/"
        },
        "id": "yKgIi8cdyJ9p",
        "outputId": "386062a3-b556-47a5-920b-680e8ea72e93"
      },
      "execution_count": null,
      "outputs": [
        {
          "output_type": "stream",
          "name": "stdout",
          "text": [
            "1/1 [==============================] - 0s 49ms/step\n",
            "[[6.06603e-14]]\n"
          ]
        }
      ]
    },
    {
      "cell_type": "code",
      "source": [
        "import cv2\n",
        "image=cv2.imread('/content/gdrive/MyDrive/dataset/T51+T52BAD+T53BAD+T54BAD+T57BAD +T58BAD/Test/bad_dataset/DJI_0976.jpg')\n",
        "image_resized=cv2.resize(image,(128,128))\n",
        "image=np.expand_dims(image_resized,axis=0)\n",
        "pred=model.predict(image)\n",
        "print(pred)"
      ],
      "metadata": {
        "colab": {
          "base_uri": "https://localhost:8080/"
        },
        "id": "FwpUlXIjyKCf",
        "outputId": "6bdb16b7-2590-45e5-c241-9c3e14df104d"
      },
      "execution_count": null,
      "outputs": [
        {
          "output_type": "stream",
          "name": "stdout",
          "text": [
            "1/1 [==============================] - 0s 26ms/step\n",
            "[[0.36349052]]\n"
          ]
        }
      ]
    },
    {
      "cell_type": "code",
      "source": [
        "import cv2\n",
        "image=cv2.imread('/content/gdrive/MyDrive/dataset/T51+T52BAD+T53BAD+T54BAD+T57BAD +T58BAD/Test/bad_dataset/DJI_0978.jpg')\n",
        "image_resized=cv2.resize(image,(128,128))\n",
        "image=np.expand_dims(image_resized,axis=0)\n",
        "pred=model.predict(image)\n",
        "print(pred)"
      ],
      "metadata": {
        "colab": {
          "base_uri": "https://localhost:8080/"
        },
        "id": "_yueCjN7yKHq",
        "outputId": "041633eb-3bad-458a-bd51-d9e2bd438ae8"
      },
      "execution_count": null,
      "outputs": [
        {
          "output_type": "stream",
          "name": "stdout",
          "text": [
            "1/1 [==============================] - 0s 28ms/step\n",
            "[[0.9708812]]\n"
          ]
        }
      ]
    },
    {
      "cell_type": "code",
      "source": [
        "import cv2\n",
        "image=cv2.imread('/content/gdrive/MyDrive/dataset/T51+T52BAD+T53BAD+T54BAD+T57BAD +T58BAD/Test/bad_dataset/DJI_0980.jpg')\n",
        "image_resized=cv2.resize(image,(128,128))\n",
        "image=np.expand_dims(image_resized,axis=0)\n",
        "pred=model.predict(image)\n",
        "print(pred)"
      ],
      "metadata": {
        "colab": {
          "base_uri": "https://localhost:8080/"
        },
        "id": "WjUe7W3NyKNQ",
        "outputId": "ff00938d-be91-4918-9f25-6f1a97e638de"
      },
      "execution_count": null,
      "outputs": [
        {
          "output_type": "stream",
          "name": "stdout",
          "text": [
            "1/1 [==============================] - 0s 36ms/step\n",
            "[[0.96544117]]\n"
          ]
        }
      ]
    },
    {
      "cell_type": "code",
      "source": [
        "import cv2\n",
        "image=cv2.imread('/content/gdrive/MyDrive/dataset/T51+T52BAD+T53BAD+T54BAD+T57BAD +T58BAD/Test/bad_dataset/DJI_0982.jpg')\n",
        "image_resized=cv2.resize(image,(128,128))\n",
        "image=np.expand_dims(image_resized,axis=0)\n",
        "pred=model.predict(image)\n",
        "print(pred)"
      ],
      "metadata": {
        "colab": {
          "base_uri": "https://localhost:8080/"
        },
        "id": "4I6v0oFJyKSv",
        "outputId": "36eefea1-a125-4bc1-ecbf-7ae3d603df3a"
      },
      "execution_count": null,
      "outputs": [
        {
          "output_type": "stream",
          "name": "stdout",
          "text": [
            "1/1 [==============================] - 0s 26ms/step\n",
            "[[0.31655252]]\n"
          ]
        }
      ]
    },
    {
      "cell_type": "code",
      "source": [
        "import cv2\n",
        "image=cv2.imread('/content/gdrive/MyDrive/dataset/T51+T52BAD+T53BAD+T54BAD+T57BAD +T58BAD/Test/bad_dataset/DJI_0984.jpg')\n",
        "image_resized=cv2.resize(image,(128,128))\n",
        "image=np.expand_dims(image_resized,axis=0)\n",
        "pred=model.predict(image)\n",
        "print(pred)"
      ],
      "metadata": {
        "colab": {
          "base_uri": "https://localhost:8080/"
        },
        "id": "tnWMQvzbyqt-",
        "outputId": "4412f91c-2ea7-4e53-db6b-daa58eab7d93"
      },
      "execution_count": null,
      "outputs": [
        {
          "output_type": "stream",
          "name": "stdout",
          "text": [
            "1/1 [==============================] - 0s 26ms/step\n",
            "[[0.0020648]]\n"
          ]
        }
      ]
    },
    {
      "cell_type": "code",
      "source": [
        "import cv2\n",
        "image=cv2.imread('/content/gdrive/MyDrive/dataset/T51+T52BAD+T53BAD+T54BAD+T57BAD +T58BAD/Test/bad_dataset/DJI_0986.jpg')\n",
        "image_resized=cv2.resize(image,(128,128))\n",
        "image=np.expand_dims(image_resized,axis=0)\n",
        "pred=model.predict(image)\n",
        "print(pred)"
      ],
      "metadata": {
        "colab": {
          "base_uri": "https://localhost:8080/"
        },
        "id": "ykt9vcRByq3k",
        "outputId": "a8b8f43c-3a3c-4a05-eee1-989bcb59a8aa"
      },
      "execution_count": null,
      "outputs": [
        {
          "output_type": "stream",
          "name": "stdout",
          "text": [
            "1/1 [==============================] - 0s 26ms/step\n",
            "[[8.2865285e-05]]\n"
          ]
        }
      ]
    },
    {
      "cell_type": "code",
      "source": [
        "import cv2\n",
        "image=cv2.imread('/content/gdrive/MyDrive/dataset/T51+T52BAD+T53BAD+T54BAD+T57BAD +T58BAD/Test/good_dataset/DJI_0869.jpg')\n",
        "image_resized=cv2.resize(image,(128,128))\n",
        "image=np.expand_dims(image_resized,axis=0)\n",
        "pred=model.predict(image)\n",
        "print(pred)"
      ],
      "metadata": {
        "colab": {
          "base_uri": "https://localhost:8080/"
        },
        "id": "6RnbMQvzyq-U",
        "outputId": "e057534d-a641-4565-93a5-f1e9bdb44477"
      },
      "execution_count": null,
      "outputs": [
        {
          "output_type": "stream",
          "name": "stdout",
          "text": [
            "1/1 [==============================] - 0s 27ms/step\n",
            "[[0.92212033]]\n"
          ]
        }
      ]
    },
    {
      "cell_type": "code",
      "source": [
        "import cv2\n",
        "image=cv2.imread('/content/gdrive/MyDrive/dataset/T51+T52BAD+T53BAD+T54BAD+T57BAD +T58BAD/Test/good_dataset/DJI_0871.jpg')\n",
        "image_resized=cv2.resize(image,(128,128))\n",
        "image=np.expand_dims(image_resized,axis=0)\n",
        "pred=model.predict(image)\n",
        "print(pred)"
      ],
      "metadata": {
        "colab": {
          "base_uri": "https://localhost:8080/"
        },
        "id": "KMFiibNtyrGN",
        "outputId": "a87764e2-7a78-4887-ae6d-e65331b3fef3"
      },
      "execution_count": null,
      "outputs": [
        {
          "output_type": "stream",
          "name": "stdout",
          "text": [
            "1/1 [==============================] - 0s 26ms/step\n",
            "[[0.5983995]]\n"
          ]
        }
      ]
    },
    {
      "cell_type": "code",
      "source": [
        "import cv2\n",
        "image=cv2.imread('/content/gdrive/MyDrive/dataset/T51+T52BAD+T53BAD+T54BAD+T57BAD +T58BAD/Test/good_dataset/DJI_0873.jpg')\n",
        "image_resized=cv2.resize(image,(128,128))\n",
        "image=np.expand_dims(image_resized,axis=0)\n",
        "pred=model.predict(image)\n",
        "print(pred)"
      ],
      "metadata": {
        "colab": {
          "base_uri": "https://localhost:8080/"
        },
        "id": "9jOAHLVIyrTU",
        "outputId": "83e4dca0-54d0-4a7f-dec8-355673ecb363"
      },
      "execution_count": null,
      "outputs": [
        {
          "output_type": "stream",
          "name": "stdout",
          "text": [
            "1/1 [==============================] - 0s 39ms/step\n",
            "[[0.9341339]]\n"
          ]
        }
      ]
    },
    {
      "cell_type": "code",
      "source": [
        "import cv2\n",
        "image=cv2.imread('/content/gdrive/MyDrive/dataset/T51+T52BAD+T53BAD+T54BAD+T57BAD +T58BAD/Test/good_dataset/DJI_0875.jpg')\n",
        "image_resized=cv2.resize(image,(128,128))\n",
        "image=np.expand_dims(image_resized,axis=0)\n",
        "pred=model.predict(image)\n",
        "print(pred)"
      ],
      "metadata": {
        "colab": {
          "base_uri": "https://localhost:8080/"
        },
        "id": "GJTqbsALyyZu",
        "outputId": "d3095475-087f-46ff-f7cb-19459fe923bd"
      },
      "execution_count": null,
      "outputs": [
        {
          "output_type": "stream",
          "name": "stdout",
          "text": [
            "1/1 [==============================] - 0s 27ms/step\n",
            "[[0.893453]]\n"
          ]
        }
      ]
    },
    {
      "cell_type": "code",
      "source": [
        "import cv2\n",
        "image=cv2.imread('/content/gdrive/MyDrive/dataset/T51+T52BAD+T53BAD+T54BAD+T57BAD +T58BAD/Test/good_dataset/DJI_0877.jpg')\n",
        "image_resized=cv2.resize(image,(128,128))\n",
        "image=np.expand_dims(image_resized,axis=0)\n",
        "pred=model.predict(image)\n",
        "print(pred)"
      ],
      "metadata": {
        "colab": {
          "base_uri": "https://localhost:8080/"
        },
        "id": "J8bFdhRIyyhu",
        "outputId": "f2c62a98-90bc-43df-a515-7c7076d385b6"
      },
      "execution_count": null,
      "outputs": [
        {
          "output_type": "stream",
          "name": "stdout",
          "text": [
            "1/1 [==============================] - 0s 26ms/step\n",
            "[[0.92362285]]\n"
          ]
        }
      ]
    },
    {
      "cell_type": "code",
      "source": [
        "import cv2\n",
        "image=cv2.imread('/content/gdrive/MyDrive/dataset/T51+T52BAD+T53BAD+T54BAD+T57BAD +T58BAD/Test/good_dataset/DJI_0879.jpg')\n",
        "image_resized=cv2.resize(image,(128,128))\n",
        "image=np.expand_dims(image_resized,axis=0)\n",
        "pred=model.predict(image)\n",
        "print(pred)"
      ],
      "metadata": {
        "colab": {
          "base_uri": "https://localhost:8080/"
        },
        "id": "ktHb4Eleyyp2",
        "outputId": "7e8c4547-3d64-4fa2-ee28-29802fd712d7"
      },
      "execution_count": null,
      "outputs": [
        {
          "output_type": "stream",
          "name": "stdout",
          "text": [
            "1/1 [==============================] - 0s 25ms/step\n",
            "[[0.92395186]]\n"
          ]
        }
      ]
    },
    {
      "cell_type": "code",
      "source": [
        "import cv2\n",
        "image=cv2.imread('/content/gdrive/MyDrive/dataset/T51+T52BAD+T53BAD+T54BAD+T57BAD +T58BAD/Test/good_dataset/DJI_0881.jpg')\n",
        "image_resized=cv2.resize(image,(128,128))\n",
        "image=np.expand_dims(image_resized,axis=0)\n",
        "pred=model.predict(image)\n",
        "print(pred)"
      ],
      "metadata": {
        "colab": {
          "base_uri": "https://localhost:8080/"
        },
        "id": "ZdYn_4m9yy2e",
        "outputId": "e7e46c26-d152-4aa4-86aa-a2d238e9e371"
      },
      "execution_count": null,
      "outputs": [
        {
          "output_type": "stream",
          "name": "stdout",
          "text": [
            "1/1 [==============================] - 0s 25ms/step\n",
            "[[0.76839006]]\n"
          ]
        }
      ]
    },
    {
      "cell_type": "code",
      "source": [
        "import cv2\n",
        "image=cv2.imread('/content/gdrive/MyDrive/dataset/T51+T52BAD+T53BAD+T54BAD+T57BAD +T58BAD/Test/good_dataset/DJI_0883.jpg')\n",
        "image_resized=cv2.resize(image,(128,128))\n",
        "image=np.expand_dims(image_resized,axis=0)\n",
        "pred=model.predict(image)\n",
        "print(pred)"
      ],
      "metadata": {
        "colab": {
          "base_uri": "https://localhost:8080/"
        },
        "id": "NC_baL4Uyy8e",
        "outputId": "2dad9ab8-b683-4736-9cbc-0a05a283697c"
      },
      "execution_count": null,
      "outputs": [
        {
          "output_type": "stream",
          "name": "stdout",
          "text": [
            "1/1 [==============================] - 0s 30ms/step\n",
            "[[0.9971265]]\n"
          ]
        }
      ]
    },
    {
      "cell_type": "code",
      "source": [
        "import cv2\n",
        "image=cv2.imread('/content/gdrive/MyDrive/dataset/T51+T52BAD+T53BAD+T54BAD+T57BAD +T58BAD/Test/good_dataset/DJI_0885.jpg')\n",
        "image_resized=cv2.resize(image,(128,128))\n",
        "image=np.expand_dims(image_resized,axis=0)\n",
        "pred=model.predict(image)\n",
        "print(pred)"
      ],
      "metadata": {
        "colab": {
          "base_uri": "https://localhost:8080/"
        },
        "id": "3QD4J4NTyzD-",
        "outputId": "e1c8ad0d-2af1-4108-ea1d-046eb844c5af"
      },
      "execution_count": null,
      "outputs": [
        {
          "output_type": "stream",
          "name": "stdout",
          "text": [
            "1/1 [==============================] - 0s 28ms/step\n",
            "[[0.91131884]]\n"
          ]
        }
      ]
    },
    {
      "cell_type": "code",
      "source": [
        "import cv2\n",
        "image=cv2.imread('/content/gdrive/MyDrive/dataset/T51+T52BAD+T53BAD+T54BAD+T57BAD +T58BAD/Test/good_dataset/DJI_0887.jpg')\n",
        "image_resized=cv2.resize(image,(128,128))\n",
        "image=np.expand_dims(image_resized,axis=0)\n",
        "pred=model.predict(image)\n",
        "print(pred)"
      ],
      "metadata": {
        "colab": {
          "base_uri": "https://localhost:8080/"
        },
        "id": "1BMvl8uFy8ke",
        "outputId": "2e4f7bf2-85a3-4fdd-f50f-5e0c5c1750b0"
      },
      "execution_count": null,
      "outputs": [
        {
          "output_type": "stream",
          "name": "stdout",
          "text": [
            "1/1 [==============================] - 0s 27ms/step\n",
            "[[0.95514435]]\n"
          ]
        }
      ]
    },
    {
      "cell_type": "code",
      "source": [
        "import cv2\n",
        "image=cv2.imread('/content/gdrive/MyDrive/dataset/T51+T52BAD+T53BAD+T54BAD+T57BAD +T58BAD/Test/good_dataset/DJI_0889.jpg')\n",
        "image_resized=cv2.resize(image,(128,128))\n",
        "image=np.expand_dims(image_resized,axis=0)\n",
        "pred=model.predict(image)\n",
        "print(pred)"
      ],
      "metadata": {
        "colab": {
          "base_uri": "https://localhost:8080/"
        },
        "id": "CsUsEOMny8qn",
        "outputId": "e423551b-8be2-415e-f8f1-e4aeeeab8cda"
      },
      "execution_count": null,
      "outputs": [
        {
          "output_type": "stream",
          "name": "stdout",
          "text": [
            "1/1 [==============================] - 0s 26ms/step\n",
            "[[0.4470434]]\n"
          ]
        }
      ]
    },
    {
      "cell_type": "code",
      "source": [
        "import cv2\n",
        "image=cv2.imread('/content/gdrive/MyDrive/dataset/T51+T52BAD+T53BAD+T54BAD+T57BAD +T58BAD/Test/good_dataset/DJI_0891.jpg')\n",
        "image_resized=cv2.resize(image,(128,128))\n",
        "image=np.expand_dims(image_resized,axis=0)\n",
        "pred=model.predict(image)\n",
        "print(pred)"
      ],
      "metadata": {
        "colab": {
          "base_uri": "https://localhost:8080/"
        },
        "id": "ilfehi1ay8ym",
        "outputId": "5348aab7-963a-4c94-e1d5-c7550f5b22b8"
      },
      "execution_count": null,
      "outputs": [
        {
          "output_type": "stream",
          "name": "stdout",
          "text": [
            "1/1 [==============================] - 0s 31ms/step\n",
            "[[0.8415173]]\n"
          ]
        }
      ]
    },
    {
      "cell_type": "code",
      "source": [
        "import cv2\n",
        "image=cv2.imread('/content/gdrive/MyDrive/dataset/T51+T52BAD+T53BAD+T54BAD+T57BAD +T58BAD/Test/good_dataset/DJI_0893.jpg')\n",
        "image_resized=cv2.resize(image,(128,128))\n",
        "image=np.expand_dims(image_resized,axis=0)\n",
        "pred=model.predict(image)\n",
        "print(pred)"
      ],
      "metadata": {
        "colab": {
          "base_uri": "https://localhost:8080/"
        },
        "id": "RoYzi1l9y9C2",
        "outputId": "abc71171-a513-4f68-c152-51426e581994"
      },
      "execution_count": null,
      "outputs": [
        {
          "output_type": "stream",
          "name": "stdout",
          "text": [
            "1/1 [==============================] - 0s 28ms/step\n",
            "[[0.9433387]]\n"
          ]
        }
      ]
    },
    {
      "cell_type": "code",
      "source": [
        "import cv2\n",
        "image=cv2.imread('/content/gdrive/MyDrive/dataset/T51+T52BAD+T53BAD+T54BAD+T57BAD +T58BAD/Test/good_dataset/DJI_0895.jpg')\n",
        "image_resized=cv2.resize(image,(128,128))\n",
        "image=np.expand_dims(image_resized,axis=0)\n",
        "pred=model.predict(image)\n",
        "print(pred)"
      ],
      "metadata": {
        "colab": {
          "base_uri": "https://localhost:8080/"
        },
        "id": "_8pqP_hGy9Hf",
        "outputId": "beda7205-3392-47fa-a771-21cf1dea1834"
      },
      "execution_count": null,
      "outputs": [
        {
          "output_type": "stream",
          "name": "stdout",
          "text": [
            "1/1 [==============================] - 0s 27ms/step\n",
            "[[0.70881087]]\n"
          ]
        }
      ]
    },
    {
      "cell_type": "code",
      "source": [
        "import cv2\n",
        "image=cv2.imread('/content/gdrive/MyDrive/dataset/T51+T52BAD+T53BAD+T54BAD+T57BAD +T58BAD/Test/good_dataset/DJI_0897.jpg')\n",
        "image_resized=cv2.resize(image,(128,128))\n",
        "image=np.expand_dims(image_resized,axis=0)\n",
        "pred=model.predict(image)\n",
        "print(pred)"
      ],
      "metadata": {
        "colab": {
          "base_uri": "https://localhost:8080/"
        },
        "id": "NiJNYriNy9Y1",
        "outputId": "889037a5-2a48-4744-d9ea-6668036f4ca6"
      },
      "execution_count": null,
      "outputs": [
        {
          "output_type": "stream",
          "name": "stdout",
          "text": [
            "1/1 [==============================] - 0s 26ms/step\n",
            "[[0.9097913]]\n"
          ]
        }
      ]
    },
    {
      "cell_type": "code",
      "source": [
        "import cv2\n",
        "image=cv2.imread('/content/gdrive/MyDrive/dataset/T51+T52BAD+T53BAD+T54BAD+T57BAD +T58BAD/Test/good_dataset/DJI_0899.jpg')\n",
        "image_resized=cv2.resize(image,(128,128))\n",
        "image=np.expand_dims(image_resized,axis=0)\n",
        "pred=model.predict(image)\n",
        "print(pred)"
      ],
      "metadata": {
        "colab": {
          "base_uri": "https://localhost:8080/"
        },
        "id": "Un5E11G4ukwZ",
        "outputId": "414d7abf-aa31-4225-d1fd-7f1769b8b86d"
      },
      "execution_count": null,
      "outputs": [
        {
          "output_type": "stream",
          "name": "stdout",
          "text": [
            "1/1 [==============================] - 0s 25ms/step\n",
            "[[0.62355584]]\n"
          ]
        }
      ]
    },
    {
      "cell_type": "code",
      "source": [
        "import cv2\n",
        "image=cv2.imread('/content/gdrive/MyDrive/dataset/T51+T52BAD+T53BAD+T54BAD+T57BAD +T58BAD/Test/good_dataset/DJI_0901.jpg')\n",
        "image_resized=cv2.resize(image,(128,128))\n",
        "image=np.expand_dims(image_resized,axis=0)\n",
        "pred=model.predict(image)\n",
        "print(pred)"
      ],
      "metadata": {
        "colab": {
          "base_uri": "https://localhost:8080/"
        },
        "id": "IEt-OfTNuk3x",
        "outputId": "17382d2c-5360-48ad-b2fc-fea2c51c7fef"
      },
      "execution_count": null,
      "outputs": [
        {
          "output_type": "stream",
          "name": "stdout",
          "text": [
            "1/1 [==============================] - 0s 28ms/step\n",
            "[[0.9953244]]\n"
          ]
        }
      ]
    },
    {
      "cell_type": "code",
      "source": [
        "import cv2\n",
        "image=cv2.imread('/content/gdrive/MyDrive/dataset/T51+T52BAD+T53BAD+T54BAD+T57BAD +T58BAD/Test/good_dataset/DJI_0903.jpg')\n",
        "image_resized=cv2.resize(image,(128,128))\n",
        "image=np.expand_dims(image_resized,axis=0)\n",
        "pred=model.predict(image)\n",
        "print(pred)"
      ],
      "metadata": {
        "colab": {
          "base_uri": "https://localhost:8080/"
        },
        "id": "jqEQbSqTuk8X",
        "outputId": "eeb19674-b852-4fb2-f577-428acbe1b2d8"
      },
      "execution_count": null,
      "outputs": [
        {
          "output_type": "stream",
          "name": "stdout",
          "text": [
            "1/1 [==============================] - 0s 30ms/step\n",
            "[[0.97529805]]\n"
          ]
        }
      ]
    },
    {
      "cell_type": "code",
      "source": [
        "import cv2\n",
        "image=cv2.imread('/content/gdrive/MyDrive/dataset/T51+T52BAD+T53BAD+T54BAD+T57BAD +T58BAD/Test/good_dataset/DJI_0905.jpg')\n",
        "image_resized=cv2.resize(image,(128,128))\n",
        "image=np.expand_dims(image_resized,axis=0)\n",
        "pred=model.predict(image)\n",
        "print(pred)"
      ],
      "metadata": {
        "colab": {
          "base_uri": "https://localhost:8080/"
        },
        "id": "GNgI5i2julAo",
        "outputId": "6f3973b1-4397-42af-b8f8-c5c5fd9f6088"
      },
      "execution_count": null,
      "outputs": [
        {
          "output_type": "stream",
          "name": "stdout",
          "text": [
            "1/1 [==============================] - 0s 28ms/step\n",
            "[[0.9914443]]\n"
          ]
        }
      ]
    },
    {
      "cell_type": "code",
      "source": [
        "import cv2\n",
        "image=cv2.imread('/content/gdrive/MyDrive/dataset/T51+T52BAD+T53BAD+T54BAD+T57BAD +T58BAD/Test/good_dataset/DJI_0907.jpg')\n",
        "image_resized=cv2.resize(image,(128,128))\n",
        "image=np.expand_dims(image_resized,axis=0)\n",
        "pred=model.predict(image)\n",
        "print(pred)"
      ],
      "metadata": {
        "colab": {
          "base_uri": "https://localhost:8080/"
        },
        "id": "24nlTND8ulFJ",
        "outputId": "2ff87500-9ef8-43e7-867a-fd797bb6437b"
      },
      "execution_count": null,
      "outputs": [
        {
          "output_type": "stream",
          "name": "stdout",
          "text": [
            "1/1 [==============================] - 0s 27ms/step\n",
            "[[0.96677834]]\n"
          ]
        }
      ]
    },
    {
      "cell_type": "code",
      "source": [
        "import cv2\n",
        "image=cv2.imread('/content/gdrive/MyDrive/dataset/T51+T52BAD+T53BAD+T54BAD+T57BAD +T58BAD/Test/good_dataset/DJI_0909.jpg')\n",
        "image_resized=cv2.resize(image,(128,128))\n",
        "image=np.expand_dims(image_resized,axis=0)\n",
        "pred=model.predict(image)\n",
        "print(pred)"
      ],
      "metadata": {
        "colab": {
          "base_uri": "https://localhost:8080/"
        },
        "id": "cHXLMn-2ulK6",
        "outputId": "9b6a6654-2864-440d-98ba-92b19a6b2402"
      },
      "execution_count": null,
      "outputs": [
        {
          "output_type": "stream",
          "name": "stdout",
          "text": [
            "1/1 [==============================] - 0s 26ms/step\n",
            "[[0.9908931]]\n"
          ]
        }
      ]
    },
    {
      "cell_type": "code",
      "source": [
        "import cv2\n",
        "image=cv2.imread('/content/gdrive/MyDrive/dataset/T51+T52BAD+T53BAD+T54BAD+T57BAD +T58BAD/Test/good_dataset/DJI_0911.jpg')\n",
        "image_resized=cv2.resize(image,(128,128))\n",
        "image=np.expand_dims(image_resized,axis=0)\n",
        "pred=model.predict(image)\n",
        "print(pred)"
      ],
      "metadata": {
        "colab": {
          "base_uri": "https://localhost:8080/"
        },
        "id": "1gXCNCr5umJC",
        "outputId": "d4b1cecf-a684-427c-c02a-e159d59e6e9b"
      },
      "execution_count": null,
      "outputs": [
        {
          "output_type": "stream",
          "name": "stdout",
          "text": [
            "1/1 [==============================] - 0s 40ms/step\n",
            "[[0.9541645]]\n"
          ]
        }
      ]
    },
    {
      "cell_type": "code",
      "source": [
        "import cv2\n",
        "image=cv2.imread('/content/gdrive/MyDrive/dataset/T51+T52BAD+T53BAD+T54BAD+T57BAD +T58BAD/Test/good_dataset/DJI_0913.jpg')\n",
        "image_resized=cv2.resize(image,(128,128))\n",
        "image=np.expand_dims(image_resized,axis=0)\n",
        "pred=model.predict(image)\n",
        "print(pred)"
      ],
      "metadata": {
        "colab": {
          "base_uri": "https://localhost:8080/"
        },
        "id": "8WpctlAaumN2",
        "outputId": "23be7734-fcb9-409c-a5af-09a6a2e0323b"
      },
      "execution_count": null,
      "outputs": [
        {
          "output_type": "stream",
          "name": "stdout",
          "text": [
            "1/1 [==============================] - 0s 26ms/step\n",
            "[[0.9775532]]\n"
          ]
        }
      ]
    },
    {
      "cell_type": "code",
      "source": [
        "import cv2\n",
        "image=cv2.imread('/content/gdrive/MyDrive/dataset/T51+T52BAD+T53BAD+T54BAD+T57BAD +T58BAD/Test/good_dataset/DJI_0915.jpg')\n",
        "image_resized=cv2.resize(image,(128,128))\n",
        "image=np.expand_dims(image_resized,axis=0)\n",
        "pred=model.predict(image)\n",
        "print(pred)"
      ],
      "metadata": {
        "colab": {
          "base_uri": "https://localhost:8080/"
        },
        "id": "O6J_TmE_umSJ",
        "outputId": "945da0e4-4c00-49ec-f8fc-187cf39cb5d2"
      },
      "execution_count": null,
      "outputs": [
        {
          "output_type": "stream",
          "name": "stdout",
          "text": [
            "1/1 [==============================] - 0s 27ms/step\n",
            "[[0.9574385]]\n"
          ]
        }
      ]
    },
    {
      "cell_type": "code",
      "source": [
        "import cv2\n",
        "image=cv2.imread('/content/gdrive/MyDrive/dataset/T51+T52BAD+T53BAD+T54BAD+T57BAD +T58BAD/Test/good_dataset/DJI_0917.jpg')\n",
        "image_resized=cv2.resize(image,(128,128))\n",
        "image=np.expand_dims(image_resized,axis=0)\n",
        "pred=model.predict(image)\n",
        "print(pred)"
      ],
      "metadata": {
        "colab": {
          "base_uri": "https://localhost:8080/"
        },
        "id": "0LC-To6numWd",
        "outputId": "b777bddf-8cad-47e9-91c3-6bff41026615"
      },
      "execution_count": null,
      "outputs": [
        {
          "output_type": "stream",
          "name": "stdout",
          "text": [
            "1/1 [==============================] - 0s 31ms/step\n",
            "[[0.9265661]]\n"
          ]
        }
      ]
    },
    {
      "cell_type": "code",
      "source": [
        "import cv2\n",
        "image=cv2.imread('/content/gdrive/MyDrive/dataset/T51+T52BAD+T53BAD+T54BAD+T57BAD +T58BAD/Test/good_dataset/DJI_0919.jpg')\n",
        "image_resized=cv2.resize(image,(128,128))\n",
        "image=np.expand_dims(image_resized,axis=0)\n",
        "pred=model.predict(image)\n",
        "print(pred)"
      ],
      "metadata": {
        "colab": {
          "base_uri": "https://localhost:8080/"
        },
        "id": "UgkFmRYEuma4",
        "outputId": "10476fd9-3024-467e-b916-6c39f0ef46c8"
      },
      "execution_count": null,
      "outputs": [
        {
          "output_type": "stream",
          "name": "stdout",
          "text": [
            "1/1 [==============================] - 0s 28ms/step\n",
            "[[0.991621]]\n"
          ]
        }
      ]
    },
    {
      "cell_type": "code",
      "source": [
        "import cv2\n",
        "image=cv2.imread('/content/gdrive/MyDrive/dataset/T51+T52BAD+T53BAD+T54BAD+T57BAD +T58BAD/Test/good_dataset/DJI_0921.jpg')\n",
        "image_resized=cv2.resize(image,(128,128))\n",
        "image=np.expand_dims(image_resized,axis=0)\n",
        "pred=model.predict(image)\n",
        "print(pred)"
      ],
      "metadata": {
        "colab": {
          "base_uri": "https://localhost:8080/"
        },
        "id": "WLOFUWPUumfU",
        "outputId": "696c22f6-d3a6-4bc5-ad13-4cee6a74a53a"
      },
      "execution_count": null,
      "outputs": [
        {
          "output_type": "stream",
          "name": "stdout",
          "text": [
            "1/1 [==============================] - 0s 30ms/step\n",
            "[[0.99613154]]\n"
          ]
        }
      ]
    },
    {
      "cell_type": "code",
      "source": [
        "import cv2\n",
        "image=cv2.imread('/content/gdrive/MyDrive/dataset/T51+T52BAD+T53BAD+T54BAD+T57BAD +T58BAD/Test/good_dataset/DJI_0923.jpg')\n",
        "image_resized=cv2.resize(image,(128,128))\n",
        "image=np.expand_dims(image_resized,axis=0)\n",
        "pred=model.predict(image)\n",
        "print(pred)"
      ],
      "metadata": {
        "colab": {
          "base_uri": "https://localhost:8080/"
        },
        "id": "L82Kdd7fumje",
        "outputId": "3e1811a4-a5f3-4293-b40b-8deef2efee36"
      },
      "execution_count": null,
      "outputs": [
        {
          "output_type": "stream",
          "name": "stdout",
          "text": [
            "1/1 [==============================] - 0s 39ms/step\n",
            "[[0.99591124]]\n"
          ]
        }
      ]
    },
    {
      "cell_type": "code",
      "source": [
        "import cv2\n",
        "image=cv2.imread('/content/gdrive/MyDrive/dataset/T51+T52BAD+T53BAD+T54BAD+T57BAD +T58BAD/Test/good_dataset/DJI_0925.jpg')\n",
        "image_resized=cv2.resize(image,(128,128))\n",
        "image=np.expand_dims(image_resized,axis=0)\n",
        "pred=model.predict(image)\n",
        "print(pred)"
      ],
      "metadata": {
        "colab": {
          "base_uri": "https://localhost:8080/"
        },
        "id": "YiZBdzf7umnq",
        "outputId": "fc88fe70-b618-45a3-dee8-619232987347"
      },
      "execution_count": null,
      "outputs": [
        {
          "output_type": "stream",
          "name": "stdout",
          "text": [
            "1/1 [==============================] - 0s 38ms/step\n",
            "[[0.9886756]]\n"
          ]
        }
      ]
    },
    {
      "cell_type": "code",
      "source": [
        "import cv2\n",
        "image=cv2.imread('/content/gdrive/MyDrive/dataset/T51+T52BAD+T53BAD+T54BAD+T57BAD +T58BAD/Test/good_dataset/DJI_0927.jpg')\n",
        "image_resized=cv2.resize(image,(128,128))\n",
        "image=np.expand_dims(image_resized,axis=0)\n",
        "pred=model.predict(image)\n",
        "print(pred)"
      ],
      "metadata": {
        "colab": {
          "base_uri": "https://localhost:8080/"
        },
        "id": "dbvj7DLBumr4",
        "outputId": "9558d841-0ba0-4708-c0ee-6913bf0a7057"
      },
      "execution_count": null,
      "outputs": [
        {
          "output_type": "stream",
          "name": "stdout",
          "text": [
            "1/1 [==============================] - 0s 25ms/step\n",
            "[[0.96388465]]\n"
          ]
        }
      ]
    },
    {
      "cell_type": "code",
      "source": [
        "import cv2\n",
        "image=cv2.imread('/content/gdrive/MyDrive/dataset/T51+T52BAD+T53BAD+T54BAD+T57BAD +T58BAD/Test/good_dataset/DJI_0929.jpg')\n",
        "image_resized=cv2.resize(image,(128,128))\n",
        "image=np.expand_dims(image_resized,axis=0)\n",
        "pred=model.predict(image)\n",
        "print(pred)"
      ],
      "metadata": {
        "colab": {
          "base_uri": "https://localhost:8080/"
        },
        "id": "03dAP8NwumwA",
        "outputId": "01bc569f-e94a-4bc8-cea7-5c7dcd0cec48"
      },
      "execution_count": null,
      "outputs": [
        {
          "output_type": "stream",
          "name": "stdout",
          "text": [
            "1/1 [==============================] - 0s 26ms/step\n",
            "[[0.9085347]]\n"
          ]
        }
      ]
    },
    {
      "cell_type": "code",
      "source": [
        "import cv2\n",
        "image=cv2.imread('/content/gdrive/MyDrive/dataset/T51+T52BAD+T53BAD+T54BAD+T57BAD +T58BAD/Test/good_dataset/DJI_0931.jpg')\n",
        "image_resized=cv2.resize(image,(128,128))\n",
        "image=np.expand_dims(image_resized,axis=0)\n",
        "pred=model.predict(image)\n",
        "print(pred)"
      ],
      "metadata": {
        "colab": {
          "base_uri": "https://localhost:8080/"
        },
        "id": "MGV5Jwdcum1B",
        "outputId": "5a51066a-710e-437b-d15e-0f9446cebdf6"
      },
      "execution_count": null,
      "outputs": [
        {
          "output_type": "stream",
          "name": "stdout",
          "text": [
            "1/1 [==============================] - 0s 41ms/step\n",
            "[[0.79354227]]\n"
          ]
        }
      ]
    },
    {
      "cell_type": "code",
      "source": [
        "import cv2\n",
        "image=cv2.imread('/content/gdrive/MyDrive/dataset/T51+T52BAD+T53BAD+T54BAD+T57BAD +T58BAD/Test/good_dataset/DJI_0933.jpg')\n",
        "image_resized=cv2.resize(image,(128,128))\n",
        "image=np.expand_dims(image_resized,axis=0)\n",
        "pred=model.predict(image)\n",
        "print(pred)"
      ],
      "metadata": {
        "colab": {
          "base_uri": "https://localhost:8080/"
        },
        "id": "cZTxVwanum5m",
        "outputId": "89c7387b-1550-4a77-df64-706a525c73b2"
      },
      "execution_count": null,
      "outputs": [
        {
          "output_type": "stream",
          "name": "stdout",
          "text": [
            "1/1 [==============================] - 0s 35ms/step\n",
            "[[0.9474495]]\n"
          ]
        }
      ]
    },
    {
      "cell_type": "code",
      "source": [
        "import cv2\n",
        "image=cv2.imread('/content/gdrive/MyDrive/dataset/T51+T52BAD+T53BAD+T54BAD+T57BAD +T58BAD/Test/good_dataset/DJI_0935.jpg')\n",
        "image_resized=cv2.resize(image,(128,128))\n",
        "image=np.expand_dims(image_resized,axis=0)\n",
        "pred=model.predict(image)\n",
        "print(pred)"
      ],
      "metadata": {
        "colab": {
          "base_uri": "https://localhost:8080/"
        },
        "id": "lRzgy_JXum-4",
        "outputId": "acc04e3f-de79-428e-e080-d71a02caf398"
      },
      "execution_count": null,
      "outputs": [
        {
          "output_type": "stream",
          "name": "stdout",
          "text": [
            "1/1 [==============================] - 0s 27ms/step\n",
            "[[0.68136376]]\n"
          ]
        }
      ]
    },
    {
      "cell_type": "code",
      "source": [
        "import cv2\n",
        "image=cv2.imread('/content/gdrive/MyDrive/dataset/T51+T52BAD+T53BAD+T54BAD+T57BAD +T58BAD/Test/good_dataset/DJI_0937.jpg')\n",
        "image_resized=cv2.resize(image,(128,128))\n",
        "image=np.expand_dims(image_resized,axis=0)\n",
        "pred=model.predict(image)\n",
        "print(pred)"
      ],
      "metadata": {
        "colab": {
          "base_uri": "https://localhost:8080/"
        },
        "id": "58x3kL8munDg",
        "outputId": "6908a38c-331c-489f-ccdb-58e6cc7883da"
      },
      "execution_count": null,
      "outputs": [
        {
          "output_type": "stream",
          "name": "stdout",
          "text": [
            "1/1 [==============================] - 0s 29ms/step\n",
            "[[0.96847624]]\n"
          ]
        }
      ]
    },
    {
      "cell_type": "code",
      "source": [
        "import cv2\n",
        "image=cv2.imread('/content/gdrive/MyDrive/dataset/T51+T52BAD+T53BAD+T54BAD+T57BAD +T58BAD/Test/good_dataset/DJI_0939.jpg')\n",
        "image_resized=cv2.resize(image,(128,128))\n",
        "image=np.expand_dims(image_resized,axis=0)\n",
        "pred=model.predict(image)\n",
        "print(pred)"
      ],
      "metadata": {
        "colab": {
          "base_uri": "https://localhost:8080/"
        },
        "id": "QKUJE5-PunHr",
        "outputId": "597e18e1-2882-4ac4-c276-b0afb588a80e"
      },
      "execution_count": null,
      "outputs": [
        {
          "output_type": "stream",
          "name": "stdout",
          "text": [
            "1/1 [==============================] - 0s 26ms/step\n",
            "[[0.85411686]]\n"
          ]
        }
      ]
    },
    {
      "cell_type": "code",
      "source": [
        "import cv2\n",
        "image=cv2.imread('/content/gdrive/MyDrive/dataset/T51+T52BAD+T53BAD+T54BAD+T57BAD +T58BAD/Test/good_dataset/DJI_0941.jpg')\n",
        "image_resized=cv2.resize(image,(128,128))\n",
        "image=np.expand_dims(image_resized,axis=0)\n",
        "pred=model.predict(image)\n",
        "print(pred)"
      ],
      "metadata": {
        "colab": {
          "base_uri": "https://localhost:8080/"
        },
        "id": "LUC0j67sunMY",
        "outputId": "93210164-3872-48e1-fb3d-7e178805cb94"
      },
      "execution_count": null,
      "outputs": [
        {
          "output_type": "stream",
          "name": "stdout",
          "text": [
            "1/1 [==============================] - 0s 37ms/step\n",
            "[[0.9265464]]\n"
          ]
        }
      ]
    },
    {
      "cell_type": "code",
      "source": [
        "import cv2\n",
        "image=cv2.imread('/content/gdrive/MyDrive/dataset/T51+T52BAD+T53BAD+T54BAD+T57BAD +T58BAD/Test/good_dataset/DJI_0943.jpg')\n",
        "image_resized=cv2.resize(image,(128,128))\n",
        "image=np.expand_dims(image_resized,axis=0)\n",
        "pred=model.predict(image)\n",
        "print(pred)"
      ],
      "metadata": {
        "colab": {
          "base_uri": "https://localhost:8080/"
        },
        "id": "oPllpclQunPw",
        "outputId": "ab2322bc-1065-45e3-ab90-70e62188066d"
      },
      "execution_count": null,
      "outputs": [
        {
          "output_type": "stream",
          "name": "stdout",
          "text": [
            "1/1 [==============================] - 0s 29ms/step\n",
            "[[0.9881391]]\n"
          ]
        }
      ]
    },
    {
      "cell_type": "code",
      "source": [
        "import cv2\n",
        "image=cv2.imread('/content/gdrive/MyDrive/dataset/T51+T52BAD+T53BAD+T54BAD+T57BAD +T58BAD/Test/good_dataset/DJI_0945.jpg')\n",
        "image_resized=cv2.resize(image,(128,128))\n",
        "image=np.expand_dims(image_resized,axis=0)\n",
        "pred=model.predict(image)\n",
        "print(pred)"
      ],
      "metadata": {
        "colab": {
          "base_uri": "https://localhost:8080/"
        },
        "id": "qEl-hTpGunUc",
        "outputId": "ca49e232-25a6-4e71-ad8a-04d55375ebcd"
      },
      "execution_count": null,
      "outputs": [
        {
          "output_type": "stream",
          "name": "stdout",
          "text": [
            "1/1 [==============================] - 0s 28ms/step\n",
            "[[0.89014393]]\n"
          ]
        }
      ]
    },
    {
      "cell_type": "code",
      "source": [
        "import cv2\n",
        "image=cv2.imread('/content/gdrive/MyDrive/dataset/T51+T52BAD+T53BAD+T54BAD+T57BAD +T58BAD/Test/good_dataset/DJI_0947.jpg')\n",
        "image_resized=cv2.resize(image,(128,128))\n",
        "image=np.expand_dims(image_resized,axis=0)\n",
        "pred=model.predict(image)\n",
        "print(pred)"
      ],
      "metadata": {
        "colab": {
          "base_uri": "https://localhost:8080/"
        },
        "id": "jJ8NlozpunYJ",
        "outputId": "4f7400c3-e398-433c-c209-c09c30b22562"
      },
      "execution_count": null,
      "outputs": [
        {
          "output_type": "stream",
          "name": "stdout",
          "text": [
            "1/1 [==============================] - 0s 26ms/step\n",
            "[[0.96986234]]\n"
          ]
        }
      ]
    },
    {
      "cell_type": "code",
      "source": [
        "import cv2\n",
        "image=cv2.imread('/content/gdrive/MyDrive/dataset/T51+T52BAD+T53BAD+T54BAD+T57BAD +T58BAD/Test/good_dataset/DJI_0949.jpg')\n",
        "image_resized=cv2.resize(image,(128,128))\n",
        "image=np.expand_dims(image_resized,axis=0)\n",
        "pred=model.predict(image)\n",
        "print(pred)"
      ],
      "metadata": {
        "colab": {
          "base_uri": "https://localhost:8080/"
        },
        "id": "zyMfDSvIunbw",
        "outputId": "50c05604-3f1f-4660-b3b8-4c3e98aff123"
      },
      "execution_count": null,
      "outputs": [
        {
          "output_type": "stream",
          "name": "stdout",
          "text": [
            "1/1 [==============================] - 0s 26ms/step\n",
            "[[0.9885515]]\n"
          ]
        }
      ]
    },
    {
      "cell_type": "code",
      "source": [
        "import cv2\n",
        "image=cv2.imread('/content/gdrive/MyDrive/dataset/T51+T52BAD+T53BAD+T54BAD+T57BAD +T58BAD/Test/good_dataset/DJI_0951.jpg')\n",
        "image_resized=cv2.resize(image,(128,128))\n",
        "image=np.expand_dims(image_resized,axis=0)\n",
        "pred=model.predict(image)\n",
        "print(pred)"
      ],
      "metadata": {
        "colab": {
          "base_uri": "https://localhost:8080/"
        },
        "id": "Lf5ZY6pXv7j6",
        "outputId": "84c44cff-ebeb-4e46-d5df-452369908113"
      },
      "execution_count": null,
      "outputs": [
        {
          "output_type": "stream",
          "name": "stdout",
          "text": [
            "1/1 [==============================] - 0s 30ms/step\n",
            "[[0.98496675]]\n"
          ]
        }
      ]
    },
    {
      "cell_type": "code",
      "source": [
        "import cv2\n",
        "image=cv2.imread('/content/gdrive/MyDrive/dataset/T51+T52BAD+T53BAD+T54BAD+T57BAD +T58BAD/Test/good_dataset/DJI_0953.jpg')\n",
        "image_resized=cv2.resize(image,(128,128))\n",
        "image=np.expand_dims(image_resized,axis=0)\n",
        "pred=model.predict(image)\n",
        "print(pred)"
      ],
      "metadata": {
        "colab": {
          "base_uri": "https://localhost:8080/"
        },
        "id": "3SaXaaZsv7op",
        "outputId": "fb897e0f-f5a7-49b5-d396-ccebbd4eaba8"
      },
      "execution_count": null,
      "outputs": [
        {
          "output_type": "stream",
          "name": "stdout",
          "text": [
            "1/1 [==============================] - 0s 29ms/step\n",
            "[[0.99001604]]\n"
          ]
        }
      ]
    },
    {
      "cell_type": "code",
      "source": [
        "import cv2\n",
        "image=cv2.imread('/content/gdrive/MyDrive/dataset/T51+T52BAD+T53BAD+T54BAD+T57BAD +T58BAD/Test/good_dataset/DJI_0955.jpg')\n",
        "image_resized=cv2.resize(image,(128,128))\n",
        "image=np.expand_dims(image_resized,axis=0)\n",
        "pred=model.predict(image)\n",
        "print(pred)"
      ],
      "metadata": {
        "colab": {
          "base_uri": "https://localhost:8080/"
        },
        "id": "nqy8TB9Pv7sx",
        "outputId": "155a5adf-91a9-4342-c51d-90a7044d8c92"
      },
      "execution_count": null,
      "outputs": [
        {
          "output_type": "stream",
          "name": "stdout",
          "text": [
            "1/1 [==============================] - 0s 44ms/step\n",
            "[[0.95837617]]\n"
          ]
        }
      ]
    },
    {
      "cell_type": "code",
      "source": [
        "import cv2\n",
        "image=cv2.imread('/content/gdrive/MyDrive/dataset/T51+T52BAD+T53BAD+T54BAD+T57BAD +T58BAD/Test/good_dataset/DJI_0957.jpg')\n",
        "image_resized=cv2.resize(image,(128,128))\n",
        "image=np.expand_dims(image_resized,axis=0)\n",
        "pred=model.predict(image)\n",
        "print(pred)"
      ],
      "metadata": {
        "colab": {
          "base_uri": "https://localhost:8080/"
        },
        "id": "9XMCle0tv7ww",
        "outputId": "ce65e73d-0957-4287-8f8e-1689cb9827d8"
      },
      "execution_count": null,
      "outputs": [
        {
          "output_type": "stream",
          "name": "stdout",
          "text": [
            "1/1 [==============================] - 0s 26ms/step\n",
            "[[0.91470087]]\n"
          ]
        }
      ]
    },
    {
      "cell_type": "code",
      "source": [
        "import cv2\n",
        "image=cv2.imread('/content/gdrive/MyDrive/dataset/T51+T52BAD+T53BAD+T54BAD+T57BAD +T58BAD/Test/good_dataset/DJI_0959.jpg')\n",
        "image_resized=cv2.resize(image,(128,128))\n",
        "image=np.expand_dims(image_resized,axis=0)\n",
        "pred=model.predict(image)\n",
        "print(pred)"
      ],
      "metadata": {
        "colab": {
          "base_uri": "https://localhost:8080/"
        },
        "id": "SWMBeRWev71B",
        "outputId": "a6a58abf-16b1-4d9a-a61f-2be1ce156167"
      },
      "execution_count": null,
      "outputs": [
        {
          "output_type": "stream",
          "name": "stdout",
          "text": [
            "1/1 [==============================] - 0s 27ms/step\n",
            "[[0.97444963]]\n"
          ]
        }
      ]
    },
    {
      "cell_type": "code",
      "source": [
        "import cv2\n",
        "image=cv2.imread('/content/gdrive/MyDrive/dataset/T51+T52BAD+T53BAD+T54BAD+T57BAD +T58BAD/Test/good_dataset/DJI_0961.jpg')\n",
        "image_resized=cv2.resize(image,(128,128))\n",
        "image=np.expand_dims(image_resized,axis=0)\n",
        "pred=model.predict(image)\n",
        "print(pred)"
      ],
      "metadata": {
        "colab": {
          "base_uri": "https://localhost:8080/"
        },
        "id": "3ERpY_FSv746",
        "outputId": "718474b7-abdc-4c2a-c8ff-9bef71a4f8b4"
      },
      "execution_count": null,
      "outputs": [
        {
          "output_type": "stream",
          "name": "stdout",
          "text": [
            "1/1 [==============================] - 0s 39ms/step\n",
            "[[0.94555634]]\n"
          ]
        }
      ]
    },
    {
      "cell_type": "code",
      "source": [
        "import cv2\n",
        "image=cv2.imread('/content/gdrive/MyDrive/dataset/T51+T52BAD+T53BAD+T54BAD+T57BAD +T58BAD/Test/good_dataset/DJI_0963.jpg')\n",
        "image_resized=cv2.resize(image,(128,128))\n",
        "image=np.expand_dims(image_resized,axis=0)\n",
        "pred=model.predict(image)\n",
        "print(pred)"
      ],
      "metadata": {
        "colab": {
          "base_uri": "https://localhost:8080/"
        },
        "id": "XDx0RXjYv79A",
        "outputId": "ca98529d-e09a-4da2-a051-7669c9c58d06"
      },
      "execution_count": null,
      "outputs": [
        {
          "output_type": "stream",
          "name": "stdout",
          "text": [
            "1/1 [==============================] - 0s 29ms/step\n",
            "[[0.9673884]]\n"
          ]
        }
      ]
    },
    {
      "cell_type": "code",
      "source": [
        "import cv2\n",
        "image=cv2.imread('/content/gdrive/MyDrive/dataset/T51+T52BAD+T53BAD+T54BAD+T57BAD +T58BAD/Test/good_dataset/DJI_0965.jpg')\n",
        "image_resized=cv2.resize(image,(128,128))\n",
        "image=np.expand_dims(image_resized,axis=0)\n",
        "pred=model.predict(image)\n",
        "print(pred)"
      ],
      "metadata": {
        "colab": {
          "base_uri": "https://localhost:8080/"
        },
        "id": "4YJcqOWjv8BI",
        "outputId": "16b70c12-544d-4859-eadb-84909e28b680"
      },
      "execution_count": null,
      "outputs": [
        {
          "output_type": "stream",
          "name": "stdout",
          "text": [
            "1/1 [==============================] - 0s 25ms/step\n",
            "[[0.97660416]]\n"
          ]
        }
      ]
    },
    {
      "cell_type": "code",
      "source": [
        "import cv2\n",
        "image=cv2.imread('/content/gdrive/MyDrive/dataset/T51+T52BAD+T53BAD+T54BAD+T57BAD +T58BAD/Test/good_dataset/DJI_0967.jpg')\n",
        "image_resized=cv2.resize(image,(128,128))\n",
        "image=np.expand_dims(image_resized,axis=0)\n",
        "pred=model.predict(image)\n",
        "print(pred)"
      ],
      "metadata": {
        "colab": {
          "base_uri": "https://localhost:8080/"
        },
        "id": "cQckOnyDv8FA",
        "outputId": "83fa3deb-c0ca-4519-9f05-5a155cda1a1d"
      },
      "execution_count": null,
      "outputs": [
        {
          "output_type": "stream",
          "name": "stdout",
          "text": [
            "1/1 [==============================] - 0s 31ms/step\n",
            "[[0.9117475]]\n"
          ]
        }
      ]
    },
    {
      "cell_type": "code",
      "source": [
        "import cv2\n",
        "image=cv2.imread('/content/gdrive/MyDrive/dataset/T51+T52BAD+T53BAD+T54BAD+T57BAD +T58BAD/Test/good_dataset/DJI_0969.jpg')\n",
        "image_resized=cv2.resize(image,(128,128))\n",
        "image=np.expand_dims(image_resized,axis=0)\n",
        "pred=model.predict(image)\n",
        "print(pred)"
      ],
      "metadata": {
        "colab": {
          "base_uri": "https://localhost:8080/"
        },
        "id": "eqyFrLxov8Iq",
        "outputId": "c8c0aa8f-be98-4e43-f237-8abee50d6aa5"
      },
      "execution_count": null,
      "outputs": [
        {
          "output_type": "stream",
          "name": "stdout",
          "text": [
            "1/1 [==============================] - 0s 29ms/step\n",
            "[[0.61746365]]\n"
          ]
        }
      ]
    },
    {
      "cell_type": "code",
      "source": [
        "import cv2\n",
        "image=cv2.imread('/content/gdrive/MyDrive/dataset/T51+T52BAD+T53BAD+T54BAD+T57BAD +T58BAD/Test/good_dataset/DJI_0971.jpg')\n",
        "image_resized=cv2.resize(image,(128,128))\n",
        "image=np.expand_dims(image_resized,axis=0)\n",
        "pred=model.predict(image)\n",
        "print(pred)"
      ],
      "metadata": {
        "colab": {
          "base_uri": "https://localhost:8080/"
        },
        "id": "SSw78z_Bv8MC",
        "outputId": "ce51514e-d3a2-4743-844a-96ec6a5143b8"
      },
      "execution_count": null,
      "outputs": [
        {
          "output_type": "stream",
          "name": "stdout",
          "text": [
            "1/1 [==============================] - 0s 27ms/step\n",
            "[[0.3412497]]\n"
          ]
        }
      ]
    },
    {
      "cell_type": "code",
      "source": [
        "import cv2\n",
        "image=cv2.imread('/content/gdrive/MyDrive/dataset/T51+T52BAD+T53BAD+T54BAD+T57BAD +T58BAD/Test/good_dataset/DJI_0973.jpg')\n",
        "image_resized=cv2.resize(image,(128,128))\n",
        "image=np.expand_dims(image_resized,axis=0)\n",
        "pred=model.predict(image)\n",
        "print(pred)"
      ],
      "metadata": {
        "colab": {
          "base_uri": "https://localhost:8080/"
        },
        "id": "uPIQ1GYRwggJ",
        "outputId": "6d0cd7f6-6a14-4669-8c99-c551922d71d5"
      },
      "execution_count": null,
      "outputs": [
        {
          "output_type": "stream",
          "name": "stdout",
          "text": [
            "1/1 [==============================] - 0s 26ms/step\n",
            "[[0.6529738]]\n"
          ]
        }
      ]
    },
    {
      "cell_type": "code",
      "source": [
        "import cv2\n",
        "image=cv2.imread('/content/gdrive/MyDrive/dataset/T51+T52BAD+T53BAD+T54BAD+T57BAD +T58BAD/Test/good_dataset/DJI_0975.jpg')\n",
        "image_resized=cv2.resize(image,(128,128))\n",
        "image=np.expand_dims(image_resized,axis=0)\n",
        "pred=model.predict(image)\n",
        "print(pred)"
      ],
      "metadata": {
        "colab": {
          "base_uri": "https://localhost:8080/"
        },
        "id": "a1Q9O2gswgsH",
        "outputId": "700a09f3-b183-49de-d916-030f776d6cee"
      },
      "execution_count": null,
      "outputs": [
        {
          "output_type": "stream",
          "name": "stdout",
          "text": [
            "1/1 [==============================] - 0s 27ms/step\n",
            "[[0.83849126]]\n"
          ]
        }
      ]
    },
    {
      "cell_type": "code",
      "source": [
        "import cv2\n",
        "image=cv2.imread('/content/gdrive/MyDrive/dataset/T51+T52BAD+T53BAD+T54BAD+T57BAD +T58BAD/Test/good_dataset/DJI_0977.jpg')\n",
        "image_resized=cv2.resize(image,(128,128))\n",
        "image=np.expand_dims(image_resized,axis=0)\n",
        "pred=model.predict(image)\n",
        "print(pred)"
      ],
      "metadata": {
        "colab": {
          "base_uri": "https://localhost:8080/"
        },
        "id": "__UL6VTrwgyq",
        "outputId": "d5527ea1-ecad-4758-ab5f-6319a9966bcf"
      },
      "execution_count": null,
      "outputs": [
        {
          "output_type": "stream",
          "name": "stdout",
          "text": [
            "1/1 [==============================] - 0s 26ms/step\n",
            "[[0.5592985]]\n"
          ]
        }
      ]
    },
    {
      "cell_type": "code",
      "source": [
        "import cv2\n",
        "image=cv2.imread('/content/gdrive/MyDrive/dataset/T51+T52BAD+T53BAD+T54BAD+T57BAD +T58BAD/Test/good_dataset/DJI_0981.jpg')\n",
        "image_resized=cv2.resize(image,(128,128))\n",
        "image=np.expand_dims(image_resized,axis=0)\n",
        "pred=model.predict(image)\n",
        "print(pred)"
      ],
      "metadata": {
        "colab": {
          "base_uri": "https://localhost:8080/"
        },
        "id": "FC1i9yy7wg7J",
        "outputId": "ce723296-bc31-4db7-f822-e8d362d25469"
      },
      "execution_count": null,
      "outputs": [
        {
          "output_type": "stream",
          "name": "stdout",
          "text": [
            "1/1 [==============================] - 0s 38ms/step\n",
            "[[0.6265156]]\n"
          ]
        }
      ]
    },
    {
      "cell_type": "code",
      "source": [
        "import cv2\n",
        "image=cv2.imread('/content/gdrive/MyDrive/dataset/T51+T52BAD+T53BAD+T54BAD+T57BAD +T58BAD/Test/good_dataset/DJI_0983.jpg')\n",
        "image_resized=cv2.resize(image,(128,128))\n",
        "image=np.expand_dims(image_resized,axis=0)\n",
        "pred=model.predict(image)\n",
        "print(pred)"
      ],
      "metadata": {
        "colab": {
          "base_uri": "https://localhost:8080/"
        },
        "id": "yiJJNoMDwirZ",
        "outputId": "f70ee940-dd5b-4425-ca6a-17889b8bd3ac"
      },
      "execution_count": null,
      "outputs": [
        {
          "output_type": "stream",
          "name": "stdout",
          "text": [
            "1/1 [==============================] - 0s 30ms/step\n",
            "[[0.7551952]]\n"
          ]
        }
      ]
    },
    {
      "cell_type": "code",
      "source": [
        "import cv2\n",
        "image=cv2.imread('/content/gdrive/MyDrive/dataset/T51+T52BAD+T53BAD+T54BAD+T57BAD +T58BAD/Test/good_dataset/DJI_0985.jpg')\n",
        "image_resized=cv2.resize(image,(128,128))\n",
        "image=np.expand_dims(image_resized,axis=0)\n",
        "pred=model.predict(image)\n",
        "print(pred)"
      ],
      "metadata": {
        "colab": {
          "base_uri": "https://localhost:8080/"
        },
        "id": "qjV44lnhw4M6",
        "outputId": "02900353-c186-45be-a90b-36ced10f0e64"
      },
      "execution_count": null,
      "outputs": [
        {
          "output_type": "stream",
          "name": "stdout",
          "text": [
            "1/1 [==============================] - 0s 30ms/step\n",
            "[[0.35792086]]\n"
          ]
        }
      ]
    },
    {
      "cell_type": "code",
      "source": [
        "import cv2\n",
        "image=cv2.imread('/content/gdrive/MyDrive/dataset/T51+T52BAD+T53BAD+T54BAD+T57BAD +T58BAD/Test/good_dataset/DJI_0987.jpg')\n",
        "image_resized=cv2.resize(image,(128,128))\n",
        "image=np.expand_dims(image_resized,axis=0)\n",
        "pred=model.predict(image)\n",
        "print(pred)"
      ],
      "metadata": {
        "colab": {
          "base_uri": "https://localhost:8080/"
        },
        "id": "RSeIOW5R2uZ3",
        "outputId": "63b754d3-b69a-4c83-da1e-79662c8902ed"
      },
      "execution_count": null,
      "outputs": [
        {
          "output_type": "stream",
          "name": "stdout",
          "text": [
            "1/1 [==============================] - 0s 27ms/step\n",
            "[[0.9993117]]\n"
          ]
        }
      ]
    },
    {
      "cell_type": "code",
      "source": [
        "import cv2\n",
        "image=cv2.imread('/content/gdrive/MyDrive/dataset/T51+T52BAD+T53BAD+T54BAD+T57BAD +T58BAD/Test/good_dataset/DJI_0989.jpg')\n",
        "image_resized=cv2.resize(image,(128,128))\n",
        "image=np.expand_dims(image_resized,axis=0)\n",
        "pred=model.predict(image)\n",
        "print(pred)"
      ],
      "metadata": {
        "colab": {
          "base_uri": "https://localhost:8080/"
        },
        "outputId": "d279c33e-87b5-4ba4-ea69-8903eca9b77e",
        "id": "KDn8NoSgYbbL"
      },
      "execution_count": null,
      "outputs": [
        {
          "output_type": "stream",
          "name": "stdout",
          "text": [
            "1/1 [==============================] - 0s 27ms/step\n",
            "[[0.8064315]]\n"
          ]
        }
      ]
    },
    {
      "cell_type": "code",
      "source": [
        "import cv2\n",
        "image=cv2.imread('/content/gdrive/MyDrive/dataset/T51+T52BAD+T53BAD+T54BAD+T57BAD +T58BAD/Test/good_dataset/DJI_0991.jpg')\n",
        "image_resized=cv2.resize(image,(128,128))\n",
        "image=np.expand_dims(image_resized,axis=0)\n",
        "pred=model.predict(image)\n",
        "print(pred)"
      ],
      "metadata": {
        "colab": {
          "base_uri": "https://localhost:8080/"
        },
        "outputId": "daea9bb9-af57-4af3-accc-8dbc4c3023ae",
        "id": "8t6jT_dNYccq"
      },
      "execution_count": null,
      "outputs": [
        {
          "output_type": "stream",
          "name": "stdout",
          "text": [
            "1/1 [==============================] - 0s 29ms/step\n",
            "[[0.88566995]]\n"
          ]
        }
      ]
    },
    {
      "cell_type": "code",
      "source": [
        "import cv2\n",
        "image=cv2.imread('/content/gdrive/MyDrive/dataset/T51+T52BAD+T53BAD+T54BAD+T57BAD +T58BAD/Test/good_dataset/DJI_0993.jpg')\n",
        "image_resized=cv2.resize(image,(128,128))\n",
        "image=np.expand_dims(image_resized,axis=0)\n",
        "pred=model.predict(image)\n",
        "print(pred)"
      ],
      "metadata": {
        "colab": {
          "base_uri": "https://localhost:8080/"
        },
        "outputId": "02dddfb0-a3e0-488f-f2b5-0f1913a194d3",
        "id": "pXWIDoKCD6k5"
      },
      "execution_count": null,
      "outputs": [
        {
          "output_type": "stream",
          "name": "stdout",
          "text": [
            "1/1 [==============================] - 0s 25ms/step\n",
            "[[0.9310487]]\n"
          ]
        }
      ]
    },
    {
      "cell_type": "code",
      "source": [
        "import cv2\n",
        "image=cv2.imread('/content/gdrive/MyDrive/dataset/T51+T52BAD+T53BAD+T54BAD+T57BAD +T58BAD/Test/good_dataset/DJI_0995.jpg')\n",
        "image_resized=cv2.resize(image,(128,128))\n",
        "image=np.expand_dims(image_resized,axis=0)\n",
        "pred=model.predict(image)\n",
        "print(pred)"
      ],
      "metadata": {
        "colab": {
          "base_uri": "https://localhost:8080/"
        },
        "outputId": "d1a28c2c-4f6f-4da0-a34d-13d7428dd196",
        "id": "e6zQoTTfD7a-"
      },
      "execution_count": null,
      "outputs": [
        {
          "output_type": "stream",
          "name": "stdout",
          "text": [
            "1/1 [==============================] - 0s 47ms/step\n",
            "[[0.905407]]\n"
          ]
        }
      ]
    },
    {
      "cell_type": "code",
      "source": [
        "\n",
        "from sklearn.metrics import classification_report,confusion_matrix\n",
        "truth=['bad','bad','bad','bad','bad','bad','bad','bad','bad','bad','bad','bad','bad','bad','bad','bad','bad','bad','bad','bad','bad','bad','good','good','good','good','good','good','good','good','good','good','good','good','good','good','good','good','good','good','good','good','good','good','good','good','good','good','good','good','good','good','good','good','good','good','good','good','good','good','good','good','good','good','good','good','good','good','good','good','good','good','good','good','good','good','good','good','good','good','good','good','good','good','good','good']\n",
        "prediction=['bad','good','bad','bad','good','good','good','good','good','good','good','good','bad','bad','bad','good','good','good','good','good','good','good','good','good','good','bad','good','good','good','good','good','good','good','good','good','good','good','good','good','good','good','good','good','good','good','good','good','good','good','good','good','good','good','good','good','good','good','good','good','good','good','good','good','good','good','good','good','good','good','good','good','good','good','bad','bad','bad','bad','bad','bad','bad','bad','good','good','good','good','good']\n",
        "print(classification_report(truth,prediction))\n",
        "print(confusion_matrix(truth,prediction))"
      ],
      "metadata": {
        "colab": {
          "base_uri": "https://localhost:8080/"
        },
        "id": "UrtaRxfvwX53",
        "outputId": "fa4ab505-ea1b-44bb-e249-605dd8e3d00e"
      },
      "execution_count": null,
      "outputs": [
        {
          "output_type": "stream",
          "name": "stdout",
          "text": [
            "              precision    recall  f1-score   support\n",
            "\n",
            "         bad       0.40      0.27      0.32        22\n",
            "        good       0.77      0.86      0.81        64\n",
            "\n",
            "    accuracy                           0.71        86\n",
            "   macro avg       0.59      0.57      0.57        86\n",
            "weighted avg       0.68      0.71      0.69        86\n",
            "\n",
            "[[ 6 16]\n",
            " [ 9 55]]\n"
          ]
        }
      ]
    }
  ],
  "metadata": {
    "colab": {
      "provenance": [],
      "gpuType": "T4",
      "authorship_tag": "ABX9TyNAt8wTpGWI0aUiCfDAjD6A",
      "include_colab_link": true
    },
    "gpuClass": "standard",
    "kernelspec": {
      "display_name": "Python 3",
      "name": "python3"
    },
    "language_info": {
      "name": "python"
    }
  },
  "nbformat": 4,
  "nbformat_minor": 0
}