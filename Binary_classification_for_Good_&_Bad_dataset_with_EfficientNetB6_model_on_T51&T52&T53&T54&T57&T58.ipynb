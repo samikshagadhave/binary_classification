{
  "nbformat": 4,
  "nbformat_minor": 0,
  "metadata": {
    "colab": {
      "provenance": [],
      "gpuType": "T4",
      "authorship_tag": "ABX9TyM3QWxxlTfbGyfWTHSJMwVC",
      "include_colab_link": true
    },
    "kernelspec": {
      "name": "python3",
      "display_name": "Python 3"
    },
    "language_info": {
      "name": "python"
    },
    "gpuClass": "standard"
  },
  "cells": [
    {
      "cell_type": "markdown",
      "metadata": {
        "id": "view-in-github",
        "colab_type": "text"
      },
      "source": [
        "<a href=\"https://colab.research.google.com/github/samikshagadhave/binary_classification/blob/main/Binary_classification_for_Good_%26_Bad_dataset_with_EfficientNetB6_model_on_T51%26T52%26T53%26T54%26T57%26T58.ipynb\" target=\"_parent\"><img src=\"https://colab.research.google.com/assets/colab-badge.svg\" alt=\"Open In Colab\"/></a>"
      ]
    },
    {
      "cell_type": "code",
      "execution_count": null,
      "metadata": {
        "colab": {
          "base_uri": "https://localhost:8080/"
        },
        "id": "VOwvAY4KUr8g",
        "outputId": "56e20e78-1c70-483b-ceda-d84ff9eb3d44"
      },
      "outputs": [
        {
          "output_type": "stream",
          "name": "stdout",
          "text": [
            "Mounted at /content/gdrive\n"
          ]
        }
      ],
      "source": [
        "from google.colab import drive\n",
        "drive.mount(\"/content/gdrive\")"
      ]
    },
    {
      "cell_type": "code",
      "source": [
        "%cd /content/gdrive"
      ],
      "metadata": {
        "colab": {
          "base_uri": "https://localhost:8080/"
        },
        "id": "Wky_mmEwUvxR",
        "outputId": "1d83ea11-31f5-48f3-8284-8b8df458ebe5"
      },
      "execution_count": null,
      "outputs": [
        {
          "output_type": "stream",
          "name": "stdout",
          "text": [
            "/content/gdrive\n"
          ]
        }
      ]
    },
    {
      "cell_type": "code",
      "source": [
        "import pandas as pd\n",
        "\n",
        "df=pd.read_excel(r'/content/gdrive/MyDrive/dataset/T51+T52BAD+T53BAD+T54BAD+T57BAD +T58BAD/Train 1.xlsx')\n",
        "\n",
        "df['OR_Gate']=df['Tower']|df['Transmission line']|df['insulator']|df['vibration damper']\n",
        "#print(df['OR_Gate'])\n",
        "\n",
        "Bad_dataset=list(df[df['OR_Gate']==0][\"Image Name\"])\n",
        "#print(Bad_dataset)\n",
        "\n",
        "Good_dataset=list(df[df['OR_Gate']==1][\"Image Name\"])\n",
        "#print(Good_dataset)\n",
        "path=r\"/content/gdrive/MyDrive/dataset/T51+T52BAD+T53BAD+T54BAD+T57BAD +T58BAD/train/\"\n",
        "\n",
        "img_path_Bad_dataset=r\"/content/gdrive/MyDrive/dataset/T51+T52BAD+T53BAD+T54BAD+T57BAD +T58BAD/Train/bad_dataset/\"\n",
        "\n",
        "img_path_Good_dataset =r\"/content/gdrive/MyDrive/dataset/T51+T52BAD+T53BAD+T54BAD+T57BAD +T58BAD/Train/good_dataset/\"\n",
        "import shutil\n",
        "for i in Bad_dataset:\n",
        "   src_path=path+i\n",
        "   #print(src_path)\n",
        "   dest_path=img_path_Bad_dataset+i\n",
        "   #print(dest_path)\n",
        "   temp=shutil.copy(src_path,dest_path)\n",
        "   #print(temp)\n",
        "   print(\"bad_dataset folder created and relevant images have been moved\")\n",
        "for i in Good_dataset:\n",
        "   src_path=path+i\n",
        "   #print(src_path)\n",
        "   dest_path=img_path_Good_dataset+i\n",
        "   #print(dest_path)\n",
        "   temp=shutil.copy(src_path, dest_path)\n",
        "   print(\"good_dataset folder created and relevant images have been moved\")\n",
        "\n",
        "\n",
        "df=pd.read_excel(r'/content/gdrive/MyDrive/dataset/T51+T52BAD+T53BAD+T54BAD+T57BAD +T58BAD/Test 1.xlsx')\n",
        "\n",
        "df['OR_Gate']=df['Tower']|df['Transmission line']|df['insulator']|df['vibration damper']\n",
        "#print(df['OR_Gate'])\n",
        "\n",
        "Bad_dataset=list(df[df['OR_Gate']==0][\"Image Name\"])\n",
        "Good_dataset=list(df[df['OR_Gate']==1][\"Image Name\"])\n",
        "#print(Good_dataset)\n",
        "path=r\"/content/gdrive/MyDrive/dataset/T51+T52BAD+T53BAD+T54BAD+T57BAD +T58BAD/test/\"\n",
        "\n",
        "img_path_Bad_dataset=r\"/content/gdrive/MyDrive/dataset/T51+T52BAD+T53BAD+T54BAD+T57BAD +T58BAD/Test/bad_dataset/\"\n",
        "img_path_Good_dataset =r\"/content/gdrive/MyDrive/dataset/T51+T52BAD+T53BAD+T54BAD+T57BAD +T58BAD/Test/good_dataset/\"\n",
        "import shutil\n",
        "for i in Bad_dataset:\n",
        "   src_path=path+i\n",
        "   #print(src_path)\n",
        "   dest_path=img_path_Bad_dataset+i\n",
        "   #print(dest_path)\n",
        "   temp=shutil.copy(src_path,dest_path)\n",
        "   #print(temp)\n",
        "   print(\"bad_dataset folder created and relevant images have been moved\")\n",
        "for i in Good_dataset:\n",
        "   src_path=path+i\n",
        "   #print(src_path)\n",
        "   dest_path=img_path_Good_dataset+i\n",
        "   #print(dest_path)\n",
        "   temp=shutil.copy(src_path, dest_path)\n",
        "   print(\"good_dataset folder created and relevant images have been moved\")\n"
      ],
      "metadata": {
        "colab": {
          "base_uri": "https://localhost:8080/"
        },
        "id": "du5chXxegJnn",
        "outputId": "7af38591-460e-4695-afbe-812c06e008f7"
      },
      "execution_count": null,
      "outputs": [
        {
          "output_type": "stream",
          "name": "stdout",
          "text": [
            "bad_dataset folder created and relevant images have been moved\n",
            "bad_dataset folder created and relevant images have been moved\n",
            "bad_dataset folder created and relevant images have been moved\n",
            "bad_dataset folder created and relevant images have been moved\n",
            "bad_dataset folder created and relevant images have been moved\n",
            "bad_dataset folder created and relevant images have been moved\n",
            "bad_dataset folder created and relevant images have been moved\n",
            "bad_dataset folder created and relevant images have been moved\n",
            "bad_dataset folder created and relevant images have been moved\n",
            "bad_dataset folder created and relevant images have been moved\n",
            "bad_dataset folder created and relevant images have been moved\n",
            "bad_dataset folder created and relevant images have been moved\n",
            "bad_dataset folder created and relevant images have been moved\n",
            "bad_dataset folder created and relevant images have been moved\n",
            "bad_dataset folder created and relevant images have been moved\n",
            "bad_dataset folder created and relevant images have been moved\n",
            "bad_dataset folder created and relevant images have been moved\n",
            "bad_dataset folder created and relevant images have been moved\n",
            "bad_dataset folder created and relevant images have been moved\n",
            "bad_dataset folder created and relevant images have been moved\n",
            "bad_dataset folder created and relevant images have been moved\n",
            "bad_dataset folder created and relevant images have been moved\n",
            "bad_dataset folder created and relevant images have been moved\n",
            "bad_dataset folder created and relevant images have been moved\n",
            "bad_dataset folder created and relevant images have been moved\n",
            "bad_dataset folder created and relevant images have been moved\n",
            "bad_dataset folder created and relevant images have been moved\n",
            "bad_dataset folder created and relevant images have been moved\n",
            "bad_dataset folder created and relevant images have been moved\n",
            "bad_dataset folder created and relevant images have been moved\n",
            "bad_dataset folder created and relevant images have been moved\n",
            "bad_dataset folder created and relevant images have been moved\n",
            "bad_dataset folder created and relevant images have been moved\n",
            "bad_dataset folder created and relevant images have been moved\n",
            "good_dataset folder created and relevant images have been moved\n",
            "good_dataset folder created and relevant images have been moved\n",
            "good_dataset folder created and relevant images have been moved\n",
            "good_dataset folder created and relevant images have been moved\n",
            "good_dataset folder created and relevant images have been moved\n",
            "good_dataset folder created and relevant images have been moved\n",
            "good_dataset folder created and relevant images have been moved\n",
            "good_dataset folder created and relevant images have been moved\n",
            "good_dataset folder created and relevant images have been moved\n",
            "good_dataset folder created and relevant images have been moved\n",
            "good_dataset folder created and relevant images have been moved\n",
            "good_dataset folder created and relevant images have been moved\n",
            "good_dataset folder created and relevant images have been moved\n",
            "good_dataset folder created and relevant images have been moved\n",
            "good_dataset folder created and relevant images have been moved\n",
            "good_dataset folder created and relevant images have been moved\n",
            "good_dataset folder created and relevant images have been moved\n",
            "good_dataset folder created and relevant images have been moved\n",
            "good_dataset folder created and relevant images have been moved\n",
            "good_dataset folder created and relevant images have been moved\n",
            "good_dataset folder created and relevant images have been moved\n",
            "good_dataset folder created and relevant images have been moved\n",
            "good_dataset folder created and relevant images have been moved\n",
            "good_dataset folder created and relevant images have been moved\n",
            "good_dataset folder created and relevant images have been moved\n",
            "good_dataset folder created and relevant images have been moved\n",
            "good_dataset folder created and relevant images have been moved\n",
            "good_dataset folder created and relevant images have been moved\n",
            "good_dataset folder created and relevant images have been moved\n",
            "good_dataset folder created and relevant images have been moved\n",
            "good_dataset folder created and relevant images have been moved\n",
            "good_dataset folder created and relevant images have been moved\n",
            "good_dataset folder created and relevant images have been moved\n",
            "good_dataset folder created and relevant images have been moved\n",
            "good_dataset folder created and relevant images have been moved\n",
            "good_dataset folder created and relevant images have been moved\n",
            "good_dataset folder created and relevant images have been moved\n",
            "good_dataset folder created and relevant images have been moved\n",
            "good_dataset folder created and relevant images have been moved\n",
            "good_dataset folder created and relevant images have been moved\n",
            "good_dataset folder created and relevant images have been moved\n",
            "good_dataset folder created and relevant images have been moved\n",
            "good_dataset folder created and relevant images have been moved\n",
            "good_dataset folder created and relevant images have been moved\n",
            "good_dataset folder created and relevant images have been moved\n",
            "good_dataset folder created and relevant images have been moved\n",
            "good_dataset folder created and relevant images have been moved\n",
            "good_dataset folder created and relevant images have been moved\n",
            "good_dataset folder created and relevant images have been moved\n",
            "good_dataset folder created and relevant images have been moved\n",
            "good_dataset folder created and relevant images have been moved\n",
            "good_dataset folder created and relevant images have been moved\n",
            "good_dataset folder created and relevant images have been moved\n",
            "good_dataset folder created and relevant images have been moved\n",
            "good_dataset folder created and relevant images have been moved\n",
            "good_dataset folder created and relevant images have been moved\n",
            "good_dataset folder created and relevant images have been moved\n",
            "good_dataset folder created and relevant images have been moved\n",
            "good_dataset folder created and relevant images have been moved\n",
            "good_dataset folder created and relevant images have been moved\n",
            "good_dataset folder created and relevant images have been moved\n",
            "good_dataset folder created and relevant images have been moved\n",
            "good_dataset folder created and relevant images have been moved\n",
            "good_dataset folder created and relevant images have been moved\n",
            "good_dataset folder created and relevant images have been moved\n",
            "good_dataset folder created and relevant images have been moved\n",
            "good_dataset folder created and relevant images have been moved\n",
            "good_dataset folder created and relevant images have been moved\n",
            "good_dataset folder created and relevant images have been moved\n",
            "good_dataset folder created and relevant images have been moved\n",
            "good_dataset folder created and relevant images have been moved\n",
            "good_dataset folder created and relevant images have been moved\n",
            "good_dataset folder created and relevant images have been moved\n",
            "good_dataset folder created and relevant images have been moved\n",
            "good_dataset folder created and relevant images have been moved\n",
            "good_dataset folder created and relevant images have been moved\n",
            "good_dataset folder created and relevant images have been moved\n",
            "good_dataset folder created and relevant images have been moved\n",
            "good_dataset folder created and relevant images have been moved\n",
            "good_dataset folder created and relevant images have been moved\n",
            "good_dataset folder created and relevant images have been moved\n",
            "good_dataset folder created and relevant images have been moved\n",
            "good_dataset folder created and relevant images have been moved\n",
            "good_dataset folder created and relevant images have been moved\n",
            "good_dataset folder created and relevant images have been moved\n",
            "good_dataset folder created and relevant images have been moved\n",
            "good_dataset folder created and relevant images have been moved\n",
            "good_dataset folder created and relevant images have been moved\n",
            "good_dataset folder created and relevant images have been moved\n",
            "good_dataset folder created and relevant images have been moved\n",
            "good_dataset folder created and relevant images have been moved\n",
            "good_dataset folder created and relevant images have been moved\n",
            "good_dataset folder created and relevant images have been moved\n",
            "good_dataset folder created and relevant images have been moved\n",
            "good_dataset folder created and relevant images have been moved\n",
            "good_dataset folder created and relevant images have been moved\n",
            "good_dataset folder created and relevant images have been moved\n",
            "good_dataset folder created and relevant images have been moved\n",
            "good_dataset folder created and relevant images have been moved\n",
            "good_dataset folder created and relevant images have been moved\n",
            "good_dataset folder created and relevant images have been moved\n",
            "good_dataset folder created and relevant images have been moved\n",
            "good_dataset folder created and relevant images have been moved\n",
            "good_dataset folder created and relevant images have been moved\n",
            "good_dataset folder created and relevant images have been moved\n",
            "good_dataset folder created and relevant images have been moved\n",
            "good_dataset folder created and relevant images have been moved\n",
            "good_dataset folder created and relevant images have been moved\n",
            "good_dataset folder created and relevant images have been moved\n",
            "good_dataset folder created and relevant images have been moved\n",
            "good_dataset folder created and relevant images have been moved\n",
            "good_dataset folder created and relevant images have been moved\n",
            "good_dataset folder created and relevant images have been moved\n",
            "good_dataset folder created and relevant images have been moved\n",
            "good_dataset folder created and relevant images have been moved\n",
            "good_dataset folder created and relevant images have been moved\n",
            "good_dataset folder created and relevant images have been moved\n",
            "good_dataset folder created and relevant images have been moved\n",
            "good_dataset folder created and relevant images have been moved\n",
            "good_dataset folder created and relevant images have been moved\n",
            "good_dataset folder created and relevant images have been moved\n",
            "good_dataset folder created and relevant images have been moved\n",
            "good_dataset folder created and relevant images have been moved\n",
            "good_dataset folder created and relevant images have been moved\n",
            "good_dataset folder created and relevant images have been moved\n",
            "good_dataset folder created and relevant images have been moved\n",
            "good_dataset folder created and relevant images have been moved\n",
            "good_dataset folder created and relevant images have been moved\n",
            "good_dataset folder created and relevant images have been moved\n",
            "good_dataset folder created and relevant images have been moved\n",
            "good_dataset folder created and relevant images have been moved\n",
            "good_dataset folder created and relevant images have been moved\n",
            "good_dataset folder created and relevant images have been moved\n",
            "good_dataset folder created and relevant images have been moved\n",
            "good_dataset folder created and relevant images have been moved\n",
            "good_dataset folder created and relevant images have been moved\n",
            "good_dataset folder created and relevant images have been moved\n",
            "good_dataset folder created and relevant images have been moved\n",
            "good_dataset folder created and relevant images have been moved\n",
            "good_dataset folder created and relevant images have been moved\n",
            "good_dataset folder created and relevant images have been moved\n",
            "good_dataset folder created and relevant images have been moved\n",
            "good_dataset folder created and relevant images have been moved\n",
            "good_dataset folder created and relevant images have been moved\n",
            "good_dataset folder created and relevant images have been moved\n",
            "good_dataset folder created and relevant images have been moved\n",
            "good_dataset folder created and relevant images have been moved\n",
            "good_dataset folder created and relevant images have been moved\n",
            "good_dataset folder created and relevant images have been moved\n",
            "good_dataset folder created and relevant images have been moved\n",
            "good_dataset folder created and relevant images have been moved\n",
            "good_dataset folder created and relevant images have been moved\n",
            "good_dataset folder created and relevant images have been moved\n",
            "good_dataset folder created and relevant images have been moved\n",
            "good_dataset folder created and relevant images have been moved\n",
            "good_dataset folder created and relevant images have been moved\n",
            "good_dataset folder created and relevant images have been moved\n",
            "good_dataset folder created and relevant images have been moved\n",
            "good_dataset folder created and relevant images have been moved\n",
            "good_dataset folder created and relevant images have been moved\n",
            "good_dataset folder created and relevant images have been moved\n",
            "good_dataset folder created and relevant images have been moved\n",
            "good_dataset folder created and relevant images have been moved\n",
            "good_dataset folder created and relevant images have been moved\n",
            "good_dataset folder created and relevant images have been moved\n",
            "bad_dataset folder created and relevant images have been moved\n",
            "bad_dataset folder created and relevant images have been moved\n",
            "bad_dataset folder created and relevant images have been moved\n",
            "bad_dataset folder created and relevant images have been moved\n",
            "bad_dataset folder created and relevant images have been moved\n",
            "bad_dataset folder created and relevant images have been moved\n",
            "bad_dataset folder created and relevant images have been moved\n",
            "bad_dataset folder created and relevant images have been moved\n",
            "bad_dataset folder created and relevant images have been moved\n",
            "bad_dataset folder created and relevant images have been moved\n",
            "bad_dataset folder created and relevant images have been moved\n",
            "bad_dataset folder created and relevant images have been moved\n",
            "bad_dataset folder created and relevant images have been moved\n",
            "bad_dataset folder created and relevant images have been moved\n",
            "bad_dataset folder created and relevant images have been moved\n",
            "bad_dataset folder created and relevant images have been moved\n",
            "bad_dataset folder created and relevant images have been moved\n",
            "bad_dataset folder created and relevant images have been moved\n",
            "bad_dataset folder created and relevant images have been moved\n",
            "bad_dataset folder created and relevant images have been moved\n",
            "bad_dataset folder created and relevant images have been moved\n",
            "bad_dataset folder created and relevant images have been moved\n",
            "good_dataset folder created and relevant images have been moved\n",
            "good_dataset folder created and relevant images have been moved\n",
            "good_dataset folder created and relevant images have been moved\n",
            "good_dataset folder created and relevant images have been moved\n",
            "good_dataset folder created and relevant images have been moved\n",
            "good_dataset folder created and relevant images have been moved\n",
            "good_dataset folder created and relevant images have been moved\n",
            "good_dataset folder created and relevant images have been moved\n",
            "good_dataset folder created and relevant images have been moved\n",
            "good_dataset folder created and relevant images have been moved\n",
            "good_dataset folder created and relevant images have been moved\n",
            "good_dataset folder created and relevant images have been moved\n",
            "good_dataset folder created and relevant images have been moved\n",
            "good_dataset folder created and relevant images have been moved\n",
            "good_dataset folder created and relevant images have been moved\n",
            "good_dataset folder created and relevant images have been moved\n",
            "good_dataset folder created and relevant images have been moved\n",
            "good_dataset folder created and relevant images have been moved\n",
            "good_dataset folder created and relevant images have been moved\n",
            "good_dataset folder created and relevant images have been moved\n",
            "good_dataset folder created and relevant images have been moved\n",
            "good_dataset folder created and relevant images have been moved\n",
            "good_dataset folder created and relevant images have been moved\n",
            "good_dataset folder created and relevant images have been moved\n",
            "good_dataset folder created and relevant images have been moved\n",
            "good_dataset folder created and relevant images have been moved\n",
            "good_dataset folder created and relevant images have been moved\n",
            "good_dataset folder created and relevant images have been moved\n",
            "good_dataset folder created and relevant images have been moved\n",
            "good_dataset folder created and relevant images have been moved\n",
            "good_dataset folder created and relevant images have been moved\n",
            "good_dataset folder created and relevant images have been moved\n",
            "good_dataset folder created and relevant images have been moved\n",
            "good_dataset folder created and relevant images have been moved\n",
            "good_dataset folder created and relevant images have been moved\n",
            "good_dataset folder created and relevant images have been moved\n",
            "good_dataset folder created and relevant images have been moved\n",
            "good_dataset folder created and relevant images have been moved\n",
            "good_dataset folder created and relevant images have been moved\n",
            "good_dataset folder created and relevant images have been moved\n",
            "good_dataset folder created and relevant images have been moved\n",
            "good_dataset folder created and relevant images have been moved\n",
            "good_dataset folder created and relevant images have been moved\n",
            "good_dataset folder created and relevant images have been moved\n",
            "good_dataset folder created and relevant images have been moved\n",
            "good_dataset folder created and relevant images have been moved\n",
            "good_dataset folder created and relevant images have been moved\n",
            "good_dataset folder created and relevant images have been moved\n",
            "good_dataset folder created and relevant images have been moved\n",
            "good_dataset folder created and relevant images have been moved\n",
            "good_dataset folder created and relevant images have been moved\n",
            "good_dataset folder created and relevant images have been moved\n",
            "good_dataset folder created and relevant images have been moved\n",
            "good_dataset folder created and relevant images have been moved\n",
            "good_dataset folder created and relevant images have been moved\n",
            "good_dataset folder created and relevant images have been moved\n",
            "good_dataset folder created and relevant images have been moved\n",
            "good_dataset folder created and relevant images have been moved\n",
            "good_dataset folder created and relevant images have been moved\n",
            "good_dataset folder created and relevant images have been moved\n",
            "good_dataset folder created and relevant images have been moved\n",
            "good_dataset folder created and relevant images have been moved\n",
            "good_dataset folder created and relevant images have been moved\n",
            "good_dataset folder created and relevant images have been moved\n"
          ]
        }
      ]
    },
    {
      "cell_type": "code",
      "source": [
        "import tensorflow as tf\n",
        "from tensorflow import keras\n",
        "from tensorflow.keras.layers import Input, Lambda, Dense, Flatten,Dropout,Conv2D,GlobalAveragePooling2D\n",
        "from tensorflow.keras.models import Model\n",
        "from tensorflow.keras.preprocessing import image\n",
        "from tensorflow.keras.models import Sequential\n",
        "import numpy as np\n",
        "import pandas as pd\n",
        "import os\n",
        "import cv2\n",
        "import matplotlib.pyplot as plt\n",
        "\n",
        "train_ds=keras.utils.image_dataset_from_directory(\n",
        "    directory=r'/content/gdrive/MyDrive/dataset/T51+T52BAD+T53BAD+T54BAD+T57BAD +T58BAD/Train',\n",
        "    labels='inferred',\n",
        "    label_mode='int',\n",
        "    batch_size=4,\n",
        "    image_size=(528,528)\n",
        ")\n",
        "validation_ds=keras.utils.image_dataset_from_directory(\n",
        "    directory=r'/content/gdrive/MyDrive/dataset/T51+T52BAD+T53BAD+T54BAD+T57BAD +T58BAD/Test',\n",
        "    labels='inferred',\n",
        "    label_mode='int',\n",
        "    batch_size=4,\n",
        "    image_size=(528,528)\n",
        ")\n",
        "print(train_ds)\n",
        "print(validation_ds)\n",
        "from tensorflow.keras.applications import EfficientNetB6\n",
        "model=EfficientNetB6(weights='imagenet',include_top=False,input_shape=(528,528,3))\n",
        "my_model=Sequential([model,\n",
        "                     Conv2D(1024,3,1,activation='relu'),\n",
        "                     GlobalAveragePooling2D(),\n",
        "                     Dense(1024,activation='relu'),\n",
        "                     Dropout(0.2),\n",
        "                     Dense(1024,activation='relu'),\n",
        "                     Dropout(0.2),\n",
        "                     Dense(1,activation='sigmoid'),\n",
        "                     ])\n",
        "\n",
        "my_model.summary()\n",
        "\n",
        "\n"
      ],
      "metadata": {
        "colab": {
          "base_uri": "https://localhost:8080/"
        },
        "id": "RUuIX4ZpZVkT",
        "outputId": "63a05b0a-337b-463a-b7eb-2ac5567a9a51"
      },
      "execution_count": null,
      "outputs": [
        {
          "output_type": "stream",
          "name": "stdout",
          "text": [
            "Found 198 files belonging to 2 classes.\n",
            "Found 86 files belonging to 2 classes.\n",
            "<_BatchDataset element_spec=(TensorSpec(shape=(None, 528, 528, 3), dtype=tf.float32, name=None), TensorSpec(shape=(None,), dtype=tf.int32, name=None))>\n",
            "<_BatchDataset element_spec=(TensorSpec(shape=(None, 528, 528, 3), dtype=tf.float32, name=None), TensorSpec(shape=(None,), dtype=tf.int32, name=None))>\n",
            "Downloading data from https://storage.googleapis.com/keras-applications/efficientnetb6_notop.h5\n",
            "165234480/165234480 [==============================] - 8s 0us/step\n",
            "Model: \"sequential\"\n",
            "_________________________________________________________________\n",
            " Layer (type)                Output Shape              Param #   \n",
            "=================================================================\n",
            " efficientnetb6 (Functional)  (None, 17, 17, 2304)     40960143  \n",
            "                                                                 \n",
            " conv2d (Conv2D)             (None, 15, 15, 1024)      21234688  \n",
            "                                                                 \n",
            " global_average_pooling2d (G  (None, 1024)             0         \n",
            " lobalAveragePooling2D)                                          \n",
            "                                                                 \n",
            " dense (Dense)               (None, 1024)              1049600   \n",
            "                                                                 \n",
            " dropout (Dropout)           (None, 1024)              0         \n",
            "                                                                 \n",
            " dense_1 (Dense)             (None, 1024)              1049600   \n",
            "                                                                 \n",
            " dropout_1 (Dropout)         (None, 1024)              0         \n",
            "                                                                 \n",
            " dense_2 (Dense)             (None, 1)                 1025      \n",
            "                                                                 \n",
            "=================================================================\n",
            "Total params: 64,295,056\n",
            "Trainable params: 64,070,617\n",
            "Non-trainable params: 224,439\n",
            "_________________________________________________________________\n"
          ]
        }
      ]
    },
    {
      "cell_type": "code",
      "source": [
        "train_ds=train_ds.prefetch(tf.data.AUTOTUNE)\n",
        "train_ds"
      ],
      "metadata": {
        "colab": {
          "base_uri": "https://localhost:8080/"
        },
        "id": "22po7AacwVVA",
        "outputId": "08f7d658-8407-4de7-e648-67646ff99ffa"
      },
      "execution_count": null,
      "outputs": [
        {
          "output_type": "execute_result",
          "data": {
            "text/plain": [
              "<_PrefetchDataset element_spec=(TensorSpec(shape=(None, 528, 528, 3), dtype=tf.float32, name=None), TensorSpec(shape=(None,), dtype=tf.int32, name=None))>"
            ]
          },
          "metadata": {},
          "execution_count": 5
        }
      ]
    },
    {
      "cell_type": "code",
      "source": [
        "validation_ds=validation_ds.prefetch(tf.data.AUTOTUNE)\n",
        "validation_ds"
      ],
      "metadata": {
        "colab": {
          "base_uri": "https://localhost:8080/"
        },
        "id": "BCb5XD4MwVd9",
        "outputId": "c2fa336f-10c5-4ad1-d2ac-a8ee38831f16"
      },
      "execution_count": null,
      "outputs": [
        {
          "output_type": "execute_result",
          "data": {
            "text/plain": [
              "<_PrefetchDataset element_spec=(TensorSpec(shape=(None, 528, 528, 3), dtype=tf.float32, name=None), TensorSpec(shape=(None,), dtype=tf.int32, name=None))>"
            ]
          },
          "metadata": {},
          "execution_count": 6
        }
      ]
    },
    {
      "cell_type": "code",
      "source": [
        "from tensorflow.keras.optimizers import Adam\n",
        "from tensorflow.keras.losses import BinaryCrossentropy\n",
        "from tensorflow.keras import metrics\n",
        "metrics=['accuracy']\n",
        "my_model.compile(loss=BinaryCrossentropy(),optimizer=Adam(learning_rate=0.001),metrics=metrics)"
      ],
      "metadata": {
        "id": "5h6WMWwoxEwl"
      },
      "execution_count": null,
      "outputs": []
    },
    {
      "cell_type": "code",
      "source": [
        "history=my_model.fit(train_ds,epochs=30,validation_data=validation_ds)"
      ],
      "metadata": {
        "colab": {
          "base_uri": "https://localhost:8080/"
        },
        "id": "lgznnIVR-Ihu",
        "outputId": "6b8da863-4513-4d41-fdd1-cc64bf74ec9c"
      },
      "execution_count": null,
      "outputs": [
        {
          "output_type": "stream",
          "name": "stdout",
          "text": [
            "Epoch 1/30\n",
            "50/50 [==============================] - 71s 1s/step - loss: 0.1108 - accuracy: 0.9747 - val_loss: 7.3358 - val_accuracy: 0.3372\n",
            "Epoch 2/30\n",
            "50/50 [==============================] - 58s 1s/step - loss: 0.0442 - accuracy: 0.9899 - val_loss: 3.8705 - val_accuracy: 0.3837\n",
            "Epoch 3/30\n",
            "50/50 [==============================] - 57s 1s/step - loss: 7.5912e-04 - accuracy: 1.0000 - val_loss: 3.9764 - val_accuracy: 0.3837\n",
            "Epoch 4/30\n",
            "50/50 [==============================] - 57s 1s/step - loss: 1.3006e-04 - accuracy: 1.0000 - val_loss: 4.2285 - val_accuracy: 0.3837\n",
            "Epoch 5/30\n",
            "50/50 [==============================] - 59s 1s/step - loss: 0.0499 - accuracy: 0.9949 - val_loss: 3.6863 - val_accuracy: 0.3721\n",
            "Epoch 6/30\n",
            "50/50 [==============================] - 58s 1s/step - loss: 0.1694 - accuracy: 0.9596 - val_loss: 2.3918 - val_accuracy: 0.5930\n",
            "Epoch 7/30\n",
            "50/50 [==============================] - 58s 1s/step - loss: 0.1796 - accuracy: 0.9495 - val_loss: 1.9268 - val_accuracy: 0.6163\n",
            "Epoch 8/30\n",
            "50/50 [==============================] - 57s 1s/step - loss: 0.0436 - accuracy: 0.9848 - val_loss: 0.9586 - val_accuracy: 0.8023\n",
            "Epoch 9/30\n",
            "50/50 [==============================] - 57s 1s/step - loss: 0.0036 - accuracy: 1.0000 - val_loss: 4.5526 - val_accuracy: 0.7674\n",
            "Epoch 10/30\n",
            "50/50 [==============================] - 59s 1s/step - loss: 0.1870 - accuracy: 0.9495 - val_loss: 1.2783 - val_accuracy: 0.8256\n",
            "Epoch 11/30\n",
            "50/50 [==============================] - 58s 1s/step - loss: 0.2241 - accuracy: 0.9343 - val_loss: 1.7510 - val_accuracy: 0.3721\n",
            "Epoch 12/30\n",
            "50/50 [==============================] - 59s 1s/step - loss: 0.0199 - accuracy: 0.9949 - val_loss: 2.7781 - val_accuracy: 0.4767\n",
            "Epoch 13/30\n",
            "50/50 [==============================] - 57s 1s/step - loss: 0.0012 - accuracy: 1.0000 - val_loss: 3.2955 - val_accuracy: 0.5349\n",
            "Epoch 14/30\n",
            "50/50 [==============================] - 57s 1s/step - loss: 0.0468 - accuracy: 0.9798 - val_loss: 2.0294 - val_accuracy: 0.8256\n",
            "Epoch 15/30\n",
            "50/50 [==============================] - 60s 1s/step - loss: 0.0138 - accuracy: 0.9949 - val_loss: 3.3784 - val_accuracy: 0.5581\n",
            "Epoch 16/30\n",
            "50/50 [==============================] - 58s 1s/step - loss: 0.0015 - accuracy: 1.0000 - val_loss: 4.1089 - val_accuracy: 0.5349\n",
            "Epoch 17/30\n",
            "50/50 [==============================] - 57s 1s/step - loss: 0.0133 - accuracy: 0.9949 - val_loss: 2.4416 - val_accuracy: 0.7326\n",
            "Epoch 18/30\n",
            "50/50 [==============================] - 57s 1s/step - loss: 0.0045 - accuracy: 1.0000 - val_loss: 2.3480 - val_accuracy: 0.5930\n",
            "Epoch 19/30\n",
            "50/50 [==============================] - 60s 1s/step - loss: 0.0190 - accuracy: 0.9899 - val_loss: 2.4407 - val_accuracy: 0.6395\n",
            "Epoch 20/30\n",
            "50/50 [==============================] - 60s 1s/step - loss: 0.0180 - accuracy: 0.9949 - val_loss: 1.9890 - val_accuracy: 0.6512\n",
            "Epoch 21/30\n",
            "50/50 [==============================] - 58s 1s/step - loss: 9.0952e-04 - accuracy: 1.0000 - val_loss: 3.0712 - val_accuracy: 0.5581\n",
            "Epoch 22/30\n",
            "50/50 [==============================] - 57s 1s/step - loss: 8.1939e-06 - accuracy: 1.0000 - val_loss: 2.9637 - val_accuracy: 0.5581\n",
            "Epoch 23/30\n",
            "50/50 [==============================] - 57s 1s/step - loss: 1.1658e-04 - accuracy: 1.0000 - val_loss: 2.9560 - val_accuracy: 0.5581\n",
            "Epoch 24/30\n",
            "50/50 [==============================] - 61s 1s/step - loss: 3.6865e-05 - accuracy: 1.0000 - val_loss: 2.8145 - val_accuracy: 0.5581\n",
            "Epoch 25/30\n",
            "50/50 [==============================] - 58s 1s/step - loss: 4.9895e-05 - accuracy: 1.0000 - val_loss: 2.7494 - val_accuracy: 0.5698\n",
            "Epoch 26/30\n",
            "50/50 [==============================] - 58s 1s/step - loss: 1.2320e-05 - accuracy: 1.0000 - val_loss: 2.7655 - val_accuracy: 0.5698\n",
            "Epoch 27/30\n",
            "50/50 [==============================] - 57s 1s/step - loss: 6.0692e-05 - accuracy: 1.0000 - val_loss: 2.8153 - val_accuracy: 0.5581\n",
            "Epoch 28/30\n",
            "50/50 [==============================] - 60s 1s/step - loss: 7.5551e-05 - accuracy: 1.0000 - val_loss: 2.9179 - val_accuracy: 0.5581\n",
            "Epoch 29/30\n",
            "50/50 [==============================] - 58s 1s/step - loss: 1.8005e-05 - accuracy: 1.0000 - val_loss: 3.0253 - val_accuracy: 0.5581\n",
            "Epoch 30/30\n",
            "50/50 [==============================] - 59s 1s/step - loss: 0.0230 - accuracy: 0.9949 - val_loss: 2.0477 - val_accuracy: 0.5930\n"
          ]
        }
      ]
    },
    {
      "cell_type": "code",
      "source": [
        "import matplotlib.pyplot as plt\n",
        "plt.plot(history.history['accuracy'],color='red',label='train')\n",
        "plt.plot(history.history['val_accuracy'],color='blue',label='validation')\n",
        "plt.legend()\n",
        "plt.show()"
      ],
      "metadata": {
        "colab": {
          "base_uri": "https://localhost:8080/",
          "height": 430
        },
        "id": "9AW9N0mhdrGL",
        "outputId": "60c3dad7-967e-4bd2-86f4-23b0e59c7b10"
      },
      "execution_count": null,
      "outputs": [
        {
          "output_type": "display_data",
          "data": {
            "text/plain": [
              "<Figure size 640x480 with 1 Axes>"
            ],
            "image/png": "[encoded data removed]"
          },
          "metadata": {}
        }
      ]
    },
    {
      "cell_type": "code",
      "source": [
        "import matplotlib.pyplot as plt\n",
        "plt.plot(history.history['loss'],color='red',label='train')\n",
        "plt.plot(history.history['val_loss'],color='blue',label='validation')\n",
        "plt.legend()\n",
        "plt.show()"
      ],
      "metadata": {
        "colab": {
          "base_uri": "https://localhost:8080/",
          "height": 430
        },
        "id": "1mufzdhkeqIj",
        "outputId": "b721586a-4afb-4f92-f089-1c47d708e206"
      },
      "execution_count": null,
      "outputs": [
        {
          "output_type": "display_data",
          "data": {
            "text/plain": [
              "<Figure size 640x480 with 1 Axes>"
            ],
            "image/png": "[encoded data removed]"
          },
          "metadata": {}
        }
      ]
    },
    {
      "cell_type": "code",
      "source": [
        "import cv2\n",
        "test_img=cv2.imread(r'/content/gdrive/MyDrive/dataset/T51+T52BAD+T53BAD+T54BAD+T57BAD +T58BAD/Test/bad_dataset/DJI_0066.jpg')\n",
        "test_img=cv2.resize(test_img,(528,528))\n",
        "test_img\n",
        "img=np.asarray(test_img)\n",
        "img.shape\n",
        "from copy import deepcopy\n",
        "img_2=deepcopy(img)\n",
        "images=[img,img_2]\n",
        "prediction=my_model.predict(np.array(images))\n",
        "print(prediction)"
      ],
      "metadata": {
        "colab": {
          "base_uri": "https://localhost:8080/"
        },
        "id": "qrgURvbWDAfl",
        "outputId": "0ffe2c70-0346-44bc-9b56-0d360192e806"
      },
      "execution_count": null,
      "outputs": [
        {
          "output_type": "stream",
          "name": "stdout",
          "text": [
            "1/1 [==============================] - 4s 4s/step\n",
            "[[0.00056059]\n",
            " [0.00056059]]\n"
          ]
        }
      ]
    },
    {
      "cell_type": "code",
      "source": [
        "import cv2\n",
        "test_img=cv2.imread(r'/content/gdrive/MyDrive/dataset/T51+T52BAD+T53BAD+T54BAD+T57BAD +T58BAD/Test/bad_dataset/DJI_0108.jpg')\n",
        "test_img=cv2.resize(test_img,(528,528))\n",
        "test_img\n",
        "img=np.asarray(test_img)\n",
        "img.shape\n",
        "from copy import deepcopy\n",
        "img_2=deepcopy(img)\n",
        "images=[img,img_2]\n",
        "prediction=my_model.predict(np.array(images))\n",
        "print(prediction)"
      ],
      "metadata": {
        "colab": {
          "base_uri": "https://localhost:8080/"
        },
        "outputId": "68687b43-7144-4fb6-9b28-a167b4f970f2",
        "id": "Cn2jmkXF3V0b"
      },
      "execution_count": null,
      "outputs": [
        {
          "output_type": "stream",
          "name": "stdout",
          "text": [
            "1/1 [==============================] - 0s 75ms/step\n",
            "[[0.0020352]\n",
            " [0.0020352]]\n"
          ]
        }
      ]
    },
    {
      "cell_type": "code",
      "source": [
        "import cv2\n",
        "test_img=cv2.imread(r'/content/gdrive/MyDrive/dataset/T51+T52BAD+T53BAD+T54BAD+T57BAD +T58BAD/Test/bad_dataset/DJI_0110.jpg')\n",
        "test_img=cv2.resize(test_img,(528,528))\n",
        "test_img\n",
        "img=np.asarray(test_img)\n",
        "img.shape\n",
        "from copy import deepcopy\n",
        "img_2=deepcopy(img)\n",
        "images=[img,img_2]\n",
        "prediction=my_model.predict(np.array(images))\n",
        "print(prediction)"
      ],
      "metadata": {
        "colab": {
          "base_uri": "https://localhost:8080/"
        },
        "outputId": "30d7f9c8-efdc-4ee5-e64a-ae9d0e18d354",
        "id": "KAzWvPzm3W2x"
      },
      "execution_count": null,
      "outputs": [
        {
          "output_type": "stream",
          "name": "stdout",
          "text": [
            "1/1 [==============================] - 0s 53ms/step\n",
            "[[0.00024823]\n",
            " [0.00024823]]\n"
          ]
        }
      ]
    },
    {
      "cell_type": "code",
      "source": [
        "import cv2\n",
        "test_img=cv2.imread(r'/content/gdrive/MyDrive/dataset/T51+T52BAD+T53BAD+T54BAD+T57BAD +T58BAD/Test/bad_dataset/DJI_0489.jpg')\n",
        "test_img=cv2.resize(test_img,(528,528))\n",
        "test_img\n",
        "img=np.asarray(test_img)\n",
        "img.shape\n",
        "from copy import deepcopy\n",
        "img_2=deepcopy(img)\n",
        "images=[img,img_2]\n",
        "prediction=my_model.predict(np.array(images))\n",
        "print(prediction)"
      ],
      "metadata": {
        "colab": {
          "base_uri": "https://localhost:8080/"
        },
        "id": "F-luCjtyDArk",
        "outputId": "7ea89f41-3c7c-4e0a-8588-07148d095c06"
      },
      "execution_count": null,
      "outputs": [
        {
          "output_type": "stream",
          "name": "stdout",
          "text": [
            "1/1 [==============================] - 0s 52ms/step\n",
            "[[0.99994254]\n",
            " [0.99994254]]\n"
          ]
        }
      ]
    },
    {
      "cell_type": "code",
      "source": [
        "import cv2\n",
        "test_img=cv2.imread(r'/content/gdrive/MyDrive/dataset/T51+T52BAD+T53BAD+T54BAD+T57BAD +T58BAD/Test/bad_dataset/DJI_0491.jpg')\n",
        "test_img=cv2.resize(test_img,(528,528))\n",
        "test_img\n",
        "img=np.asarray(test_img)\n",
        "img.shape\n",
        "from copy import deepcopy\n",
        "img_2=deepcopy(img)\n",
        "images=[img,img_2]\n",
        "prediction=my_model.predict(np.array(images))\n",
        "print(prediction)"
      ],
      "metadata": {
        "id": "Y4fk0zDYQH9t",
        "colab": {
          "base_uri": "https://localhost:8080/"
        },
        "outputId": "7663eebe-6687-48b8-863a-7fe2ca686e56"
      },
      "execution_count": null,
      "outputs": [
        {
          "output_type": "stream",
          "name": "stdout",
          "text": [
            "1/1 [==============================] - 0s 52ms/step\n",
            "[[1.]\n",
            " [1.]]\n"
          ]
        }
      ]
    },
    {
      "cell_type": "code",
      "source": [
        "import cv2\n",
        "test_img=cv2.imread(r'/content/gdrive/MyDrive/dataset/T51+T52BAD+T53BAD+T54BAD+T57BAD +T58BAD/Test/bad_dataset/DJI_0493.jpg')\n",
        "test_img=cv2.resize(test_img,(528,528))\n",
        "test_img\n",
        "img=np.asarray(test_img)\n",
        "img.shape\n",
        "from copy import deepcopy\n",
        "img_2=deepcopy(img)\n",
        "images=[img,img_2]\n",
        "prediction=my_model.predict(np.array(images))\n",
        "print(prediction)\n",
        "prediction>0.5"
      ],
      "metadata": {
        "colab": {
          "base_uri": "https://localhost:8080/"
        },
        "id": "hP3WO3rEN9l8",
        "outputId": "7cfcc6d8-f66e-4eb6-89e1-2cf32c8e5ea7"
      },
      "execution_count": null,
      "outputs": [
        {
          "output_type": "stream",
          "name": "stdout",
          "text": [
            "1/1 [==============================] - 0s 57ms/step\n",
            "[[0.01139412]\n",
            " [0.01139412]]\n"
          ]
        },
        {
          "output_type": "execute_result",
          "data": {
            "text/plain": [
              "array([[False],\n",
              "       [False]])"
            ]
          },
          "metadata": {},
          "execution_count": 18
        }
      ]
    },
    {
      "cell_type": "code",
      "source": [
        "import cv2\n",
        "test_img=cv2.imread(r'/content/gdrive/MyDrive/dataset/T51+T52BAD+T53BAD+T54BAD+T57BAD +T58BAD/Test/bad_dataset/DJI_0495.jpg')\n",
        "test_img=cv2.resize(test_img,(528,528))\n",
        "test_img\n",
        "img=np.asarray(test_img)\n",
        "img.shape\n",
        "from copy import deepcopy\n",
        "img_2=deepcopy(img)\n",
        "images=[img,img_2]\n",
        "prediction=my_model.predict(np.array(images))\n",
        "print(prediction)\n"
      ],
      "metadata": {
        "colab": {
          "base_uri": "https://localhost:8080/"
        },
        "id": "HHgjYRjegRqZ",
        "outputId": "1dfa5eeb-7695-49d3-bdfa-03020dbfb5f6"
      },
      "execution_count": null,
      "outputs": [
        {
          "output_type": "stream",
          "name": "stdout",
          "text": [
            "1/1 [==============================] - 0s 63ms/step\n",
            "[[0.5594005]\n",
            " [0.5594005]]\n"
          ]
        }
      ]
    },
    {
      "cell_type": "code",
      "source": [
        "import cv2\n",
        "test_img=cv2.imread(r'/content/gdrive/MyDrive/dataset/T51+T52BAD+T53BAD+T54BAD+T57BAD +T58BAD/Test/bad_dataset/DJI_0497.jpg')\n",
        "test_img=cv2.resize(test_img,(528,528))\n",
        "test_img\n",
        "img=np.asarray(test_img)\n",
        "img.shape\n",
        "from copy import deepcopy\n",
        "img_2=deepcopy(img)\n",
        "images=[img,img_2]\n",
        "prediction=my_model.predict(np.array(images))\n",
        "print(prediction)"
      ],
      "metadata": {
        "colab": {
          "base_uri": "https://localhost:8080/"
        },
        "id": "-iOH72BgibB_",
        "outputId": "268242d9-da6c-422a-fd58-6679d20b699d"
      },
      "execution_count": null,
      "outputs": [
        {
          "output_type": "stream",
          "name": "stdout",
          "text": [
            "1/1 [==============================] - 0s 54ms/step\n",
            "[[0.9891065]\n",
            " [0.9891065]]\n"
          ]
        }
      ]
    },
    {
      "cell_type": "code",
      "source": [
        "import cv2\n",
        "test_img=cv2.imread(r'/content/gdrive/MyDrive/dataset/T51+T52BAD+T53BAD+T54BAD+T57BAD +T58BAD/Test/bad_dataset/DJI_0499.jpg')\n",
        "test_img=cv2.resize(test_img,(528,528))\n",
        "test_img\n",
        "img=np.asarray(test_img)\n",
        "img.shape\n",
        "from copy import deepcopy\n",
        "img_2=deepcopy(img)\n",
        "images=[img,img_2]\n",
        "prediction=my_model.predict(np.array(images))\n",
        "print(prediction)"
      ],
      "metadata": {
        "id": "KGUcOcnHRCRw",
        "colab": {
          "base_uri": "https://localhost:8080/"
        },
        "outputId": "ab6cc2ab-d692-45be-dbe4-a669b5bd885d"
      },
      "execution_count": null,
      "outputs": [
        {
          "output_type": "stream",
          "name": "stdout",
          "text": [
            "1/1 [==============================] - 0s 51ms/step\n",
            "[[0.9808837]\n",
            " [0.9808837]]\n"
          ]
        }
      ]
    },
    {
      "cell_type": "code",
      "source": [
        "import cv2\n",
        "test_img=cv2.imread(r'/content/gdrive/MyDrive/dataset/T51+T52BAD+T53BAD+T54BAD+T57BAD +T58BAD/Test/bad_dataset/DJI_0501.jpg')\n",
        "test_img=cv2.resize(test_img,(528,528))\n",
        "test_img\n",
        "img=np.asarray(test_img)\n",
        "img.shape\n",
        "from copy import deepcopy\n",
        "img_2=deepcopy(img)\n",
        "images=[img,img_2]\n",
        "prediction=my_model.predict(np.array(images))\n",
        "print(prediction)"
      ],
      "metadata": {
        "colab": {
          "base_uri": "https://localhost:8080/"
        },
        "id": "l7dNeTQvROe4",
        "outputId": "5c86f6ff-1c38-4a06-d732-eb4f4b730e3f"
      },
      "execution_count": null,
      "outputs": [
        {
          "output_type": "stream",
          "name": "stdout",
          "text": [
            "1/1 [==============================] - 0s 52ms/step\n",
            "[[0.9859409]\n",
            " [0.9859409]]\n"
          ]
        }
      ]
    },
    {
      "cell_type": "code",
      "source": [
        "import cv2\n",
        "test_img=cv2.imread(r'/content/gdrive/MyDrive/dataset/T51+T52BAD+T53BAD+T54BAD+T57BAD +T58BAD/Test/bad_dataset/DJI_0503.jpg')\n",
        "test_img=cv2.resize(test_img,(528,528))\n",
        "test_img\n",
        "img=np.asarray(test_img)\n",
        "img.shape\n",
        "from copy import deepcopy\n",
        "img_2=deepcopy(img)\n",
        "images=[img,img_2]\n",
        "prediction=my_model.predict(np.array(images))\n",
        "print(prediction)"
      ],
      "metadata": {
        "colab": {
          "base_uri": "https://localhost:8080/"
        },
        "id": "0UxTKff1pcRz",
        "outputId": "82af201c-1c74-4666-9fae-6bd35b0bf192"
      },
      "execution_count": null,
      "outputs": [
        {
          "output_type": "stream",
          "name": "stdout",
          "text": [
            "1/1 [==============================] - 0s 52ms/step\n",
            "[[0.9977187]\n",
            " [0.9977187]]\n"
          ]
        }
      ]
    },
    {
      "cell_type": "code",
      "source": [
        "import cv2\n",
        "test_img=cv2.imread(r'/content/gdrive/MyDrive/dataset/T51+T52BAD+T53BAD+T54BAD+T57BAD +T58BAD/Test/bad_dataset/DJI_0505.jpg')\n",
        "test_img=cv2.resize(test_img,(528,528))\n",
        "test_img\n",
        "img=np.asarray(test_img)\n",
        "img.shape\n",
        "from copy import deepcopy\n",
        "img_2=deepcopy(img)\n",
        "images=[img,img_2]\n",
        "prediction=my_model.predict(np.array(images))\n",
        "print(prediction)"
      ],
      "metadata": {
        "colab": {
          "base_uri": "https://localhost:8080/"
        },
        "id": "_rLa93IXpcaD",
        "outputId": "5c9af0bc-6d2e-4336-8a6b-31c34d96fac2"
      },
      "execution_count": null,
      "outputs": [
        {
          "output_type": "stream",
          "name": "stdout",
          "text": [
            "1/1 [==============================] - 0s 63ms/step\n",
            "[[0.99867564]\n",
            " [0.99867564]]\n"
          ]
        }
      ]
    },
    {
      "cell_type": "code",
      "source": [
        "import cv2\n",
        "test_img=cv2.imread(r'/content/gdrive/MyDrive/dataset/T51+T52BAD+T53BAD+T54BAD+T57BAD +T58BAD/Test/bad_dataset/DJI_0507.jpg')\n",
        "test_img=cv2.resize(test_img,(528,528))\n",
        "test_img\n",
        "img=np.asarray(test_img)\n",
        "img.shape\n",
        "from copy import deepcopy\n",
        "img_2=deepcopy(img)\n",
        "images=[img,img_2]\n",
        "prediction=my_model.predict(np.array(images))\n",
        "print(prediction)"
      ],
      "metadata": {
        "colab": {
          "base_uri": "https://localhost:8080/"
        },
        "id": "3py5wCvppcgG",
        "outputId": "3a98321f-2c5d-4418-c0e6-9bd812128d48"
      },
      "execution_count": null,
      "outputs": [
        {
          "output_type": "stream",
          "name": "stdout",
          "text": [
            "1/1 [==============================] - 0s 53ms/step\n",
            "[[0.986016]\n",
            " [0.986016]]\n"
          ]
        }
      ]
    },
    {
      "cell_type": "code",
      "source": [
        "import cv2\n",
        "test_img=cv2.imread(r'/content/gdrive/MyDrive/dataset/T51+T52BAD+T53BAD+T54BAD+T57BAD +T58BAD/Test/bad_dataset/DJI_0509.jpg')\n",
        "test_img=cv2.resize(test_img,(528,528))\n",
        "test_img\n",
        "img=np.asarray(test_img)\n",
        "img.shape\n",
        "from copy import deepcopy\n",
        "img_2=deepcopy(img)\n",
        "images=[img,img_2]\n",
        "prediction=my_model.predict(np.array(images))\n",
        "print(prediction)"
      ],
      "metadata": {
        "colab": {
          "base_uri": "https://localhost:8080/"
        },
        "id": "VZj2-Wccpcks",
        "outputId": "c17acf2c-a7d6-4b2e-f439-a4d168615919"
      },
      "execution_count": null,
      "outputs": [
        {
          "output_type": "stream",
          "name": "stdout",
          "text": [
            "1/1 [==============================] - 0s 53ms/step\n",
            "[[0.9999869]\n",
            " [0.9999869]]\n"
          ]
        }
      ]
    },
    {
      "cell_type": "code",
      "source": [
        "import cv2\n",
        "test_img=cv2.imread(r'/content/gdrive/MyDrive/dataset/T51+T52BAD+T53BAD+T54BAD+T57BAD +T58BAD/Test/bad_dataset/DJI_0608.jpg')\n",
        "test_img=cv2.resize(test_img,(528,528))\n",
        "test_img\n",
        "img=np.asarray(test_img)\n",
        "img.shape\n",
        "from copy import deepcopy\n",
        "img_2=deepcopy(img)\n",
        "images=[img,img_2]\n",
        "prediction=my_model.predict(np.array(images))\n",
        "print(prediction)"
      ],
      "metadata": {
        "colab": {
          "base_uri": "https://localhost:8080/"
        },
        "id": "DN8Y72HApcsc",
        "outputId": "d06f41af-e33d-47ff-c450-6a71ca7d7c56"
      },
      "execution_count": null,
      "outputs": [
        {
          "output_type": "stream",
          "name": "stdout",
          "text": [
            "1/1 [==============================] - 0s 51ms/step\n",
            "[[0.99254465]\n",
            " [0.99254465]]\n"
          ]
        }
      ]
    },
    {
      "cell_type": "code",
      "source": [
        "import cv2\n",
        "test_img=cv2.imread(r'/content/gdrive/MyDrive/dataset/T51+T52BAD+T53BAD+T54BAD+T57BAD +T58BAD/Test/bad_dataset/DJI_0610.jpg')\n",
        "test_img=cv2.resize(test_img,(528,528))\n",
        "test_img\n",
        "img=np.asarray(test_img)\n",
        "img.shape\n",
        "from copy import deepcopy\n",
        "img_2=deepcopy(img)\n",
        "images=[img,img_2]\n",
        "prediction=my_model.predict(np.array(images))\n",
        "print(prediction)"
      ],
      "metadata": {
        "colab": {
          "base_uri": "https://localhost:8080/"
        },
        "id": "K5i94JRVplWM",
        "outputId": "4a764a09-8904-40b1-e10a-ac752b125b8e"
      },
      "execution_count": null,
      "outputs": [
        {
          "output_type": "stream",
          "name": "stdout",
          "text": [
            "1/1 [==============================] - 0s 53ms/step\n",
            "[[0.97452503]\n",
            " [0.97452503]]\n"
          ]
        }
      ]
    },
    {
      "cell_type": "code",
      "source": [
        "import cv2\n",
        "test_img=cv2.imread(r'/content/gdrive/MyDrive/dataset/T51+T52BAD+T53BAD+T54BAD+T57BAD +T58BAD/Test/bad_dataset/DJI_0976.jpg')\n",
        "test_img=cv2.resize(test_img,(528,528))\n",
        "test_img\n",
        "img=np.asarray(test_img)\n",
        "img.shape\n",
        "from copy import deepcopy\n",
        "img_2=deepcopy(img)\n",
        "images=[img,img_2]\n",
        "prediction=my_model.predict(np.array(images))\n",
        "print(prediction)"
      ],
      "metadata": {
        "colab": {
          "base_uri": "https://localhost:8080/"
        },
        "id": "E4W-iUVGpljT",
        "outputId": "795c65b5-8e36-4f73-9941-c8bffb96b3da"
      },
      "execution_count": null,
      "outputs": [
        {
          "output_type": "stream",
          "name": "stdout",
          "text": [
            "1/1 [==============================] - 0s 67ms/step\n",
            "[[0.0046785]\n",
            " [0.0046785]]\n"
          ]
        }
      ]
    },
    {
      "cell_type": "code",
      "source": [
        "import cv2\n",
        "test_img=cv2.imread(r'/content/gdrive/MyDrive/dataset/T51+T52BAD+T53BAD+T54BAD+T57BAD +T58BAD/Test/bad_dataset/DJI_0978.jpg')\n",
        "test_img=cv2.resize(test_img,(528,528))\n",
        "test_img\n",
        "img=np.asarray(test_img)\n",
        "img.shape\n",
        "from copy import deepcopy\n",
        "img_2=deepcopy(img)\n",
        "images=[img,img_2]\n",
        "prediction=my_model.predict(np.array(images))\n",
        "print(prediction)"
      ],
      "metadata": {
        "colab": {
          "base_uri": "https://localhost:8080/"
        },
        "id": "zF0oiJgvplu1",
        "outputId": "a93447d9-69e8-400c-89c0-d71247a2e8f9"
      },
      "execution_count": null,
      "outputs": [
        {
          "output_type": "stream",
          "name": "stdout",
          "text": [
            "1/1 [==============================] - 0s 51ms/step\n",
            "[[2.4678904e-05]\n",
            " [2.4678904e-05]]\n"
          ]
        }
      ]
    },
    {
      "cell_type": "code",
      "source": [
        "import cv2\n",
        "test_img=cv2.imread(r'/content/gdrive/MyDrive/dataset/T51+T52BAD+T53BAD+T54BAD+T57BAD +T58BAD/Test/bad_dataset/DJI_0980.jpg')\n",
        "test_img=cv2.resize(test_img,(528,528))\n",
        "test_img\n",
        "img=np.asarray(test_img)\n",
        "img.shape\n",
        "from copy import deepcopy\n",
        "img_2=deepcopy(img)\n",
        "images=[img,img_2]\n",
        "prediction=my_model.predict(np.array(images))\n",
        "print(prediction)"
      ],
      "metadata": {
        "colab": {
          "base_uri": "https://localhost:8080/"
        },
        "id": "qzenyCJFpl3v",
        "outputId": "efba6f1a-1e32-4c0e-b0f5-6d4e58d3e1b4"
      },
      "execution_count": null,
      "outputs": [
        {
          "output_type": "stream",
          "name": "stdout",
          "text": [
            "1/1 [==============================] - 0s 59ms/step\n",
            "[[0.9937283]\n",
            " [0.9937283]]\n"
          ]
        }
      ]
    },
    {
      "cell_type": "code",
      "source": [
        "import cv2\n",
        "test_img=cv2.imread(r'/content/gdrive/MyDrive/dataset/T51+T52BAD+T53BAD+T54BAD+T57BAD +T58BAD/Test/bad_dataset/DJI_0982.jpg')\n",
        "test_img=cv2.resize(test_img,(528,528))\n",
        "test_img\n",
        "img=np.asarray(test_img)\n",
        "img.shape\n",
        "from copy import deepcopy\n",
        "img_2=deepcopy(img)\n",
        "images=[img,img_2]\n",
        "prediction=my_model.predict(np.array(images))\n",
        "print(prediction)"
      ],
      "metadata": {
        "colab": {
          "base_uri": "https://localhost:8080/"
        },
        "id": "mIeOxfNRpmFT",
        "outputId": "385bfee3-0be0-4a16-8552-2c81120b410c"
      },
      "execution_count": null,
      "outputs": [
        {
          "output_type": "stream",
          "name": "stdout",
          "text": [
            "1/1 [==============================] - 0s 62ms/step\n",
            "[[0.9790911]\n",
            " [0.9790911]]\n"
          ]
        }
      ]
    },
    {
      "cell_type": "code",
      "source": [
        "import cv2\n",
        "test_img=cv2.imread(r'/content/gdrive/MyDrive/dataset/T51+T52BAD+T53BAD+T54BAD+T57BAD +T58BAD/Test/bad_dataset/DJI_0984.jpg')\n",
        "test_img=cv2.resize(test_img,(528,528))\n",
        "test_img\n",
        "img=np.asarray(test_img)\n",
        "img.shape\n",
        "from copy import deepcopy\n",
        "img_2=deepcopy(img)\n",
        "images=[img,img_2]\n",
        "prediction=my_model.predict(np.array(images))\n",
        "print(prediction)"
      ],
      "metadata": {
        "colab": {
          "base_uri": "https://localhost:8080/"
        },
        "id": "3GOexR-DpylC",
        "outputId": "d5d04b39-874a-4421-df11-43a4f26aa861"
      },
      "execution_count": null,
      "outputs": [
        {
          "output_type": "stream",
          "name": "stdout",
          "text": [
            "1/1 [==============================] - 0s 55ms/step\n",
            "[[0.9928848]\n",
            " [0.9928848]]\n"
          ]
        }
      ]
    },
    {
      "cell_type": "code",
      "source": [
        "import cv2\n",
        "test_img=cv2.imread(r'/content/gdrive/MyDrive/dataset/T51+T52BAD+T53BAD+T54BAD+T57BAD +T58BAD/Test/bad_dataset/DJI_0986.jpg')\n",
        "test_img=cv2.resize(test_img,(528,528))\n",
        "test_img\n",
        "img=np.asarray(test_img)\n",
        "img.shape\n",
        "from copy import deepcopy\n",
        "img_2=deepcopy(img)\n",
        "images=[img,img_2]\n",
        "prediction=my_model.predict(np.array(images))\n",
        "print(prediction)"
      ],
      "metadata": {
        "colab": {
          "base_uri": "https://localhost:8080/"
        },
        "id": "xCT3JYatp4Ex",
        "outputId": "c7393448-88a5-4814-c2dc-3c350cc59c79"
      },
      "execution_count": null,
      "outputs": [
        {
          "output_type": "stream",
          "name": "stdout",
          "text": [
            "1/1 [==============================] - 0s 51ms/step\n",
            "[[0.993856]\n",
            " [0.993856]]\n"
          ]
        }
      ]
    },
    {
      "cell_type": "code",
      "source": [
        "import cv2\n",
        "test_img=cv2.imread(r'/content/gdrive/MyDrive/dataset/T51+T52BAD+T53BAD+T54BAD+T57BAD +T58BAD/Test/good_dataset/DJI_0869.jpg')\n",
        "test_img=cv2.resize(test_img,(528,528))\n",
        "test_img\n",
        "img=np.asarray(test_img)\n",
        "img.shape\n",
        "from copy import deepcopy\n",
        "img_2=deepcopy(img)\n",
        "images=[img,img_2]\n",
        "prediction=my_model.predict(np.array(images))\n",
        "print(prediction)"
      ],
      "metadata": {
        "colab": {
          "base_uri": "https://localhost:8080/"
        },
        "id": "o3Eh3uEiqIr3",
        "outputId": "069b2d29-582a-4f60-87e0-35f6f7777997"
      },
      "execution_count": null,
      "outputs": [
        {
          "output_type": "stream",
          "name": "stdout",
          "text": [
            "1/1 [==============================] - 0s 64ms/step\n",
            "[[1.]\n",
            " [1.]]\n"
          ]
        }
      ]
    },
    {
      "cell_type": "code",
      "source": [
        "import cv2\n",
        "test_img=cv2.imread(r'/content/gdrive/MyDrive/dataset/T51+T52BAD+T53BAD+T54BAD+T57BAD +T58BAD/Test/good_dataset/DJI_0871.jpg')\n",
        "test_img=cv2.resize(test_img,(528,528))\n",
        "test_img\n",
        "img=np.asarray(test_img)\n",
        "img.shape\n",
        "from copy import deepcopy\n",
        "img_2=deepcopy(img)\n",
        "images=[img,img_2]\n",
        "prediction=my_model.predict(np.array(images))\n",
        "print(prediction)"
      ],
      "metadata": {
        "colab": {
          "base_uri": "https://localhost:8080/"
        },
        "id": "utG_g5COqKr1",
        "outputId": "43c3ff00-15ac-4225-af5b-1ac3d7fa3fd2"
      },
      "execution_count": null,
      "outputs": [
        {
          "output_type": "stream",
          "name": "stdout",
          "text": [
            "1/1 [==============================] - 0s 53ms/step\n",
            "[[1.]\n",
            " [1.]]\n"
          ]
        }
      ]
    },
    {
      "cell_type": "code",
      "source": [
        "import cv2\n",
        "test_img=cv2.imread(r'/content/gdrive/MyDrive/dataset/T51+T52BAD+T53BAD+T54BAD+T57BAD +T58BAD/Test/good_dataset/DJI_0873.jpg')\n",
        "test_img=cv2.resize(test_img,(528,528))\n",
        "test_img\n",
        "img=np.asarray(test_img)\n",
        "img.shape\n",
        "from copy import deepcopy\n",
        "img_2=deepcopy(img)\n",
        "images=[img,img_2]\n",
        "prediction=my_model.predict(np.array(images))\n",
        "print(prediction)"
      ],
      "metadata": {
        "colab": {
          "base_uri": "https://localhost:8080/"
        },
        "id": "7Juo2ZGLqMzo",
        "outputId": "732af594-95e7-4e74-9586-8ba5acd678c3"
      },
      "execution_count": null,
      "outputs": [
        {
          "output_type": "stream",
          "name": "stdout",
          "text": [
            "1/1 [==============================] - 0s 51ms/step\n",
            "[[1.]\n",
            " [1.]]\n"
          ]
        }
      ]
    },
    {
      "cell_type": "code",
      "source": [
        "import cv2\n",
        "test_img=cv2.imread(r'/content/gdrive/MyDrive/dataset/T51+T52BAD+T53BAD+T54BAD+T57BAD +T58BAD/Test/good_dataset/DJI_0875.jpg')\n",
        "test_img=cv2.resize(test_img,(528,528))\n",
        "test_img\n",
        "img=np.asarray(test_img)\n",
        "img.shape\n",
        "from copy import deepcopy\n",
        "img_2=deepcopy(img)\n",
        "images=[img,img_2]\n",
        "prediction=my_model.predict(np.array(images))\n",
        "print(prediction)"
      ],
      "metadata": {
        "colab": {
          "base_uri": "https://localhost:8080/"
        },
        "id": "52YICEpyqM9N",
        "outputId": "cdff54f1-b181-4c79-b19b-838da8718780"
      },
      "execution_count": null,
      "outputs": [
        {
          "output_type": "stream",
          "name": "stdout",
          "text": [
            "1/1 [==============================] - 0s 59ms/step\n",
            "[[1.]\n",
            " [1.]]\n"
          ]
        }
      ]
    },
    {
      "cell_type": "code",
      "source": [
        "import cv2\n",
        "test_img=cv2.imread(r'/content/gdrive/MyDrive/dataset/T51+T52BAD+T53BAD+T54BAD+T57BAD +T58BAD/Test/good_dataset/DJI_0877.jpg')\n",
        "test_img=cv2.resize(test_img,(528,528))\n",
        "test_img\n",
        "img=np.asarray(test_img)\n",
        "img.shape\n",
        "from copy import deepcopy\n",
        "img_2=deepcopy(img)\n",
        "images=[img,img_2]\n",
        "prediction=my_model.predict(np.array(images))\n",
        "print(prediction)"
      ],
      "metadata": {
        "colab": {
          "base_uri": "https://localhost:8080/"
        },
        "id": "1NQwfu_7qPku",
        "outputId": "d4e436bd-010b-4d38-82bf-3d3c2b7ee379"
      },
      "execution_count": null,
      "outputs": [
        {
          "output_type": "stream",
          "name": "stdout",
          "text": [
            "1/1 [==============================] - 0s 55ms/step\n",
            "[[1.]\n",
            " [1.]]\n"
          ]
        }
      ]
    },
    {
      "cell_type": "code",
      "source": [
        "import cv2\n",
        "test_img=cv2.imread(r'/content/gdrive/MyDrive/dataset/T51+T52BAD+T53BAD+T54BAD+T57BAD +T58BAD/Test/good_dataset/DJI_0879.jpg')\n",
        "test_img=cv2.resize(test_img,(528,528))\n",
        "test_img\n",
        "img=np.asarray(test_img)\n",
        "img.shape\n",
        "from copy import deepcopy\n",
        "img_2=deepcopy(img)\n",
        "images=[img,img_2]\n",
        "prediction=my_model.predict(np.array(images))\n",
        "print(prediction)"
      ],
      "metadata": {
        "colab": {
          "base_uri": "https://localhost:8080/"
        },
        "id": "6q3Mhoq2qSI1",
        "outputId": "f3d3e87c-a7a2-427a-e0e1-a879a15d0580"
      },
      "execution_count": null,
      "outputs": [
        {
          "output_type": "stream",
          "name": "stdout",
          "text": [
            "1/1 [==============================] - 0s 53ms/step\n",
            "[[1.]\n",
            " [1.]]\n"
          ]
        }
      ]
    },
    {
      "cell_type": "code",
      "source": [
        "import cv2\n",
        "test_img=cv2.imread(r'/content/gdrive/MyDrive/dataset/T51+T52BAD+T53BAD+T54BAD+T57BAD +T58BAD/Test/good_dataset/DJI_0881.jpg')\n",
        "test_img=cv2.resize(test_img,(528,528))\n",
        "test_img\n",
        "img=np.asarray(test_img)\n",
        "img.shape\n",
        "from copy import deepcopy\n",
        "img_2=deepcopy(img)\n",
        "images=[img,img_2]\n",
        "prediction=my_model.predict(np.array(images))\n",
        "print(prediction)"
      ],
      "metadata": {
        "colab": {
          "base_uri": "https://localhost:8080/"
        },
        "id": "ASMHQsl0qVb9",
        "outputId": "df8923fc-5921-4d1e-cdb8-391aac13aa45"
      },
      "execution_count": null,
      "outputs": [
        {
          "output_type": "stream",
          "name": "stdout",
          "text": [
            "1/1 [==============================] - 0s 52ms/step\n",
            "[[1.]\n",
            " [1.]]\n"
          ]
        }
      ]
    },
    {
      "cell_type": "code",
      "source": [
        "import cv2\n",
        "test_img=cv2.imread(r'/content/gdrive/MyDrive/dataset/T51+T52BAD+T53BAD+T54BAD+T57BAD +T58BAD/Test/good_dataset/DJI_0883.jpg')\n",
        "test_img=cv2.resize(test_img,(528,528))\n",
        "test_img\n",
        "img=np.asarray(test_img)\n",
        "img.shape\n",
        "from copy import deepcopy\n",
        "img_2=deepcopy(img)\n",
        "images=[img,img_2]\n",
        "prediction=my_model.predict(np.array(images))\n",
        "print(prediction)"
      ],
      "metadata": {
        "colab": {
          "base_uri": "https://localhost:8080/"
        },
        "id": "A_SSXtsvqYK-",
        "outputId": "73df7f58-04ce-4a4c-941f-ac311787e362"
      },
      "execution_count": null,
      "outputs": [
        {
          "output_type": "stream",
          "name": "stdout",
          "text": [
            "1/1 [==============================] - 0s 51ms/step\n",
            "[[1.]\n",
            " [1.]]\n"
          ]
        }
      ]
    },
    {
      "cell_type": "code",
      "source": [
        "import cv2\n",
        "test_img=cv2.imread(r'/content/gdrive/MyDrive/dataset/T51+T52BAD+T53BAD+T54BAD+T57BAD +T58BAD/Test/good_dataset/DJI_0885.jpg')\n",
        "test_img=cv2.resize(test_img,(528,528))\n",
        "test_img\n",
        "img=np.asarray(test_img)\n",
        "img.shape\n",
        "from copy import deepcopy\n",
        "img_2=deepcopy(img)\n",
        "images=[img,img_2]\n",
        "prediction=my_model.predict(np.array(images))\n",
        "print(prediction)"
      ],
      "metadata": {
        "colab": {
          "base_uri": "https://localhost:8080/"
        },
        "id": "oCdbpgNyqdBm",
        "outputId": "951c23f1-e33b-49c8-80c8-b32f5cf5a8ec"
      },
      "execution_count": null,
      "outputs": [
        {
          "output_type": "stream",
          "name": "stdout",
          "text": [
            "1/1 [==============================] - 0s 52ms/step\n",
            "[[1.]\n",
            " [1.]]\n"
          ]
        }
      ]
    },
    {
      "cell_type": "code",
      "source": [
        "import cv2\n",
        "test_img=cv2.imread(r'/content/gdrive/MyDrive/dataset/T51+T52BAD+T53BAD+T54BAD+T57BAD +T58BAD/Test/good_dataset/DJI_0887.jpg')\n",
        "test_img=cv2.resize(test_img,(528,528))\n",
        "test_img\n",
        "img=np.asarray(test_img)\n",
        "img.shape\n",
        "from copy import deepcopy\n",
        "img_2=deepcopy(img)\n",
        "images=[img,img_2]\n",
        "prediction=my_model.predict(np.array(images))\n",
        "print(prediction)"
      ],
      "metadata": {
        "colab": {
          "base_uri": "https://localhost:8080/"
        },
        "id": "HOdwFsj2qfEA",
        "outputId": "76aaffb2-f329-4052-fab4-de91f0d4319e"
      },
      "execution_count": null,
      "outputs": [
        {
          "output_type": "stream",
          "name": "stdout",
          "text": [
            "1/1 [==============================] - 0s 50ms/step\n",
            "[[0.00111257]\n",
            " [0.00111257]]\n"
          ]
        }
      ]
    },
    {
      "cell_type": "code",
      "source": [
        "import cv2\n",
        "test_img=cv2.imread(r'/content/gdrive/MyDrive/dataset/T51+T52BAD+T53BAD+T54BAD+T57BAD +T58BAD/Test/good_dataset/DJI_0889.jpg')\n",
        "test_img=cv2.resize(test_img,(528,528))\n",
        "test_img\n",
        "img=np.asarray(test_img)\n",
        "img.shape\n",
        "from copy import deepcopy\n",
        "img_2=deepcopy(img)\n",
        "images=[img,img_2]\n",
        "prediction=my_model.predict(np.array(images))\n",
        "print(prediction)"
      ],
      "metadata": {
        "colab": {
          "base_uri": "https://localhost:8080/"
        },
        "id": "caW8Uk3mqjCZ",
        "outputId": "6319de35-1256-4667-a205-d6d08a12655c"
      },
      "execution_count": null,
      "outputs": [
        {
          "output_type": "stream",
          "name": "stdout",
          "text": [
            "1/1 [==============================] - 0s 66ms/step\n",
            "[[0.12551564]\n",
            " [0.12551564]]\n"
          ]
        }
      ]
    },
    {
      "cell_type": "code",
      "source": [
        "import cv2\n",
        "test_img=cv2.imread(r'/content/gdrive/MyDrive/dataset/T51+T52BAD+T53BAD+T54BAD+T57BAD +T58BAD/Test/good_dataset/DJI_0891.jpg')\n",
        "test_img=cv2.resize(test_img,(528,528))\n",
        "test_img\n",
        "img=np.asarray(test_img)\n",
        "img.shape\n",
        "from copy import deepcopy\n",
        "img_2=deepcopy(img)\n",
        "images=[img,img_2]\n",
        "prediction=my_model.predict(np.array(images))\n",
        "print(prediction)"
      ],
      "metadata": {
        "colab": {
          "base_uri": "https://localhost:8080/"
        },
        "id": "2PTDaAxkqlPT",
        "outputId": "f3ad46eb-f180-4650-e8ec-ff2f009f5a02"
      },
      "execution_count": null,
      "outputs": [
        {
          "output_type": "stream",
          "name": "stdout",
          "text": [
            "1/1 [==============================] - 0s 52ms/step\n",
            "[[0.99864227]\n",
            " [0.99864227]]\n"
          ]
        }
      ]
    },
    {
      "cell_type": "code",
      "source": [
        "import cv2\n",
        "test_img=cv2.imread(r'/content/gdrive/MyDrive/dataset/T51+T52BAD+T53BAD+T54BAD+T57BAD +T58BAD/Test/good_dataset/DJI_0893.jpg')\n",
        "test_img=cv2.resize(test_img,(528,528))\n",
        "test_img\n",
        "img=np.asarray(test_img)\n",
        "img.shape\n",
        "from copy import deepcopy\n",
        "img_2=deepcopy(img)\n",
        "images=[img,img_2]\n",
        "prediction=my_model.predict(np.array(images))\n",
        "print(prediction)"
      ],
      "metadata": {
        "colab": {
          "base_uri": "https://localhost:8080/"
        },
        "id": "FsV3ObwDqp67",
        "outputId": "8458f1a3-c8db-4d56-8460-5f6d5a8cc450"
      },
      "execution_count": null,
      "outputs": [
        {
          "output_type": "stream",
          "name": "stdout",
          "text": [
            "1/1 [==============================] - 0s 53ms/step\n",
            "[[0.99695504]\n",
            " [0.99695504]]\n"
          ]
        }
      ]
    },
    {
      "cell_type": "code",
      "source": [
        "import cv2\n",
        "test_img=cv2.imread(r'/content/gdrive/MyDrive/dataset/T51+T52BAD+T53BAD+T54BAD+T57BAD +T58BAD/Test/good_dataset/DJI_0895.jpg')\n",
        "test_img=cv2.resize(test_img,(528,528))\n",
        "test_img\n",
        "img=np.asarray(test_img)\n",
        "img.shape\n",
        "from copy import deepcopy\n",
        "img_2=deepcopy(img)\n",
        "images=[img,img_2]\n",
        "prediction=my_model.predict(np.array(images))\n",
        "print(prediction)"
      ],
      "metadata": {
        "colab": {
          "base_uri": "https://localhost:8080/"
        },
        "id": "YlkSpiTfqrxH",
        "outputId": "d1d17e94-1740-40f0-f636-ce93f57b3ea9"
      },
      "execution_count": null,
      "outputs": [
        {
          "output_type": "stream",
          "name": "stdout",
          "text": [
            "1/1 [==============================] - 0s 55ms/step\n",
            "[[0.9961008]\n",
            " [0.9961008]]\n"
          ]
        }
      ]
    },
    {
      "cell_type": "code",
      "source": [
        "import cv2\n",
        "test_img=cv2.imread(r'/content/gdrive/MyDrive/dataset/T51+T52BAD+T53BAD+T54BAD+T57BAD +T58BAD/Test/good_dataset/DJI_0897.jpg')\n",
        "test_img=cv2.resize(test_img,(528,528))\n",
        "test_img\n",
        "img=np.asarray(test_img)\n",
        "img.shape\n",
        "from copy import deepcopy\n",
        "img_2=deepcopy(img)\n",
        "images=[img,img_2]\n",
        "prediction=my_model.predict(np.array(images))\n",
        "print(prediction)"
      ],
      "metadata": {
        "colab": {
          "base_uri": "https://localhost:8080/"
        },
        "id": "rqCv1AL1qr76",
        "outputId": "c98176fb-48ff-4c84-f110-fd8a63f90a61"
      },
      "execution_count": null,
      "outputs": [
        {
          "output_type": "stream",
          "name": "stdout",
          "text": [
            "1/1 [==============================] - 0s 51ms/step\n",
            "[[0.6741685]\n",
            " [0.6741685]]\n"
          ]
        }
      ]
    },
    {
      "cell_type": "code",
      "source": [
        "import cv2\n",
        "test_img=cv2.imread(r'/content/gdrive/MyDrive/dataset/T51+T52BAD+T53BAD+T54BAD+T57BAD +T58BAD/Test/good_dataset/DJI_0899.jpg')\n",
        "test_img=cv2.resize(test_img,(528,528))\n",
        "test_img\n",
        "img=np.asarray(test_img)\n",
        "img.shape\n",
        "from copy import deepcopy\n",
        "img_2=deepcopy(img)\n",
        "images=[img,img_2]\n",
        "prediction=my_model.predict(np.array(images))\n",
        "print(prediction)"
      ],
      "metadata": {
        "colab": {
          "base_uri": "https://localhost:8080/"
        },
        "id": "iKconRzXqsDL",
        "outputId": "1fb9f12a-7770-4827-8578-2cb5574e098c"
      },
      "execution_count": null,
      "outputs": [
        {
          "output_type": "stream",
          "name": "stdout",
          "text": [
            "1/1 [==============================] - 0s 51ms/step\n",
            "[[0.01717129]\n",
            " [0.01717129]]\n"
          ]
        }
      ]
    },
    {
      "cell_type": "code",
      "source": [
        "import cv2\n",
        "test_img=cv2.imread(r'/content/gdrive/MyDrive/dataset/T51+T52BAD+T53BAD+T54BAD+T57BAD +T58BAD/Test/good_dataset/DJI_0901.jpg')\n",
        "test_img=cv2.resize(test_img,(528,528))\n",
        "test_img\n",
        "img=np.asarray(test_img)\n",
        "img.shape\n",
        "from copy import deepcopy\n",
        "img_2=deepcopy(img)\n",
        "images=[img,img_2]\n",
        "prediction=my_model.predict(np.array(images))\n",
        "print(prediction)"
      ],
      "metadata": {
        "colab": {
          "base_uri": "https://localhost:8080/"
        },
        "id": "v_YOz1rJqxoU",
        "outputId": "32721123-d620-4add-e78f-0ec9554c8b5d"
      },
      "execution_count": null,
      "outputs": [
        {
          "output_type": "stream",
          "name": "stdout",
          "text": [
            "1/1 [==============================] - 0s 64ms/step\n",
            "[[0.9883499]\n",
            " [0.9883499]]\n"
          ]
        }
      ]
    },
    {
      "cell_type": "code",
      "source": [
        "import cv2\n",
        "test_img=cv2.imread(r'/content/gdrive/MyDrive/dataset/T51+T52BAD+T53BAD+T54BAD+T57BAD +T58BAD/Test/good_dataset/DJI_0903.jpg')\n",
        "test_img=cv2.resize(test_img,(528,528))\n",
        "test_img\n",
        "img=np.asarray(test_img)\n",
        "img.shape\n",
        "from copy import deepcopy\n",
        "img_2=deepcopy(img)\n",
        "images=[img,img_2]\n",
        "prediction=my_model.predict(np.array(images))\n",
        "print(prediction)"
      ],
      "metadata": {
        "colab": {
          "base_uri": "https://localhost:8080/"
        },
        "id": "lbEVfPpAqxzK",
        "outputId": "a6c26a09-6a9d-4bb7-fd45-d4207e18a223"
      },
      "execution_count": null,
      "outputs": [
        {
          "output_type": "stream",
          "name": "stdout",
          "text": [
            "1/1 [==============================] - 0s 50ms/step\n",
            "[[0.9874671]\n",
            " [0.9874671]]\n"
          ]
        }
      ]
    },
    {
      "cell_type": "code",
      "source": [
        "import cv2\n",
        "test_img=cv2.imread(r'/content/gdrive/MyDrive/dataset/T51+T52BAD+T53BAD+T54BAD+T57BAD +T58BAD/Test/good_dataset/DJI_0905.jpg')\n",
        "test_img=cv2.resize(test_img,(528,528))\n",
        "test_img\n",
        "img=np.asarray(test_img)\n",
        "img.shape\n",
        "from copy import deepcopy\n",
        "img_2=deepcopy(img)\n",
        "images=[img,img_2]\n",
        "prediction=my_model.predict(np.array(images))\n",
        "print(prediction)"
      ],
      "metadata": {
        "colab": {
          "base_uri": "https://localhost:8080/"
        },
        "id": "g11mDVg-qx9y",
        "outputId": "57c3089b-4e6a-42cc-88bb-c5011d63d30a"
      },
      "execution_count": null,
      "outputs": [
        {
          "output_type": "stream",
          "name": "stdout",
          "text": [
            "1/1 [==============================] - 0s 52ms/step\n",
            "[[0.2189003]\n",
            " [0.2189003]]\n"
          ]
        }
      ]
    },
    {
      "cell_type": "code",
      "source": [
        "import cv2\n",
        "test_img=cv2.imread(r'/content/gdrive/MyDrive/dataset/T51+T52BAD+T53BAD+T54BAD+T57BAD +T58BAD/Test/good_dataset/DJI_0907.jpg')\n",
        "test_img=cv2.resize(test_img,(528,528))\n",
        "test_img\n",
        "img=np.asarray(test_img)\n",
        "img.shape\n",
        "from copy import deepcopy\n",
        "img_2=deepcopy(img)\n",
        "images=[img,img_2]\n",
        "prediction=my_model.predict(np.array(images))\n",
        "print(prediction)"
      ],
      "metadata": {
        "id": "25As9VPKv4eP",
        "colab": {
          "base_uri": "https://localhost:8080/"
        },
        "outputId": "b34e455b-77ab-4a00-bf40-d923d655c2e0"
      },
      "execution_count": null,
      "outputs": [
        {
          "output_type": "stream",
          "name": "stdout",
          "text": [
            "1/1 [==============================] - 0s 66ms/step\n",
            "[[0.9997049]\n",
            " [0.9997049]]\n"
          ]
        }
      ]
    },
    {
      "cell_type": "code",
      "source": [
        "import cv2\n",
        "test_img=cv2.imread(r'/content/gdrive/MyDrive/dataset/T51+T52BAD+T53BAD+T54BAD+T57BAD +T58BAD/Test/good_dataset/DJI_0909.jpg')\n",
        "test_img=cv2.resize(test_img,(528,528))\n",
        "test_img\n",
        "img=np.asarray(test_img)\n",
        "img.shape\n",
        "from copy import deepcopy\n",
        "img_2=deepcopy(img)\n",
        "images=[img,img_2]\n",
        "prediction=my_model.predict(np.array(images))\n",
        "print(prediction)"
      ],
      "metadata": {
        "colab": {
          "base_uri": "https://localhost:8080/"
        },
        "id": "DpR69Pxev78Y",
        "outputId": "62c6f18f-1a54-4870-df13-18847e281f3c"
      },
      "execution_count": null,
      "outputs": [
        {
          "output_type": "stream",
          "name": "stdout",
          "text": [
            "1/1 [==============================] - 0s 55ms/step\n",
            "[[0.997143]\n",
            " [0.997143]]\n"
          ]
        }
      ]
    },
    {
      "cell_type": "code",
      "source": [
        "import cv2\n",
        "test_img=cv2.imread(r'/content/gdrive/MyDrive/dataset/T51+T52BAD+T53BAD+T54BAD+T57BAD +T58BAD/Test/good_dataset/DJI_0911.jpg')\n",
        "test_img=cv2.resize(test_img,(528,528))\n",
        "test_img\n",
        "img=np.asarray(test_img)\n",
        "img.shape\n",
        "from copy import deepcopy\n",
        "img_2=deepcopy(img)\n",
        "images=[img,img_2]\n",
        "prediction=my_model.predict(np.array(images))\n",
        "print(prediction)"
      ],
      "metadata": {
        "colab": {
          "base_uri": "https://localhost:8080/"
        },
        "id": "EshdBjlWv933",
        "outputId": "8cabb8f8-fce9-4a19-84a2-928a6fa54943"
      },
      "execution_count": null,
      "outputs": [
        {
          "output_type": "stream",
          "name": "stdout",
          "text": [
            "1/1 [==============================] - 0s 52ms/step\n",
            "[[0.9998386]\n",
            " [0.9998386]]\n"
          ]
        }
      ]
    },
    {
      "cell_type": "code",
      "source": [
        "import cv2\n",
        "test_img=cv2.imread(r'/content/gdrive/MyDrive/dataset/T51+T52BAD+T53BAD+T54BAD+T57BAD +T58BAD/Test/good_dataset/DJI_0913.jpg')\n",
        "test_img=cv2.resize(test_img,(528,528))\n",
        "test_img\n",
        "img=np.asarray(test_img)\n",
        "img.shape\n",
        "from copy import deepcopy\n",
        "img_2=deepcopy(img)\n",
        "images=[img,img_2]\n",
        "prediction=my_model.predict(np.array(images))\n",
        "print(prediction)"
      ],
      "metadata": {
        "colab": {
          "base_uri": "https://localhost:8080/"
        },
        "id": "3-VKZsaFwA27",
        "outputId": "5f37cef1-9615-49b8-aaf6-c4e2057ef448"
      },
      "execution_count": null,
      "outputs": [
        {
          "output_type": "stream",
          "name": "stdout",
          "text": [
            "1/1 [==============================] - 0s 50ms/step\n",
            "[[0.9999361]\n",
            " [0.9999361]]\n"
          ]
        }
      ]
    },
    {
      "cell_type": "code",
      "source": [
        "import cv2\n",
        "test_img=cv2.imread(r'/content/gdrive/MyDrive/dataset/T51+T52BAD+T53BAD+T54BAD+T57BAD +T58BAD/Test/good_dataset/DJI_0915.jpg')\n",
        "test_img=cv2.resize(test_img,(528,528))\n",
        "test_img\n",
        "img=np.asarray(test_img)\n",
        "img.shape\n",
        "from copy import deepcopy\n",
        "img_2=deepcopy(img)\n",
        "images=[img,img_2]\n",
        "prediction=my_model.predict(np.array(images))\n",
        "print(prediction)"
      ],
      "metadata": {
        "colab": {
          "base_uri": "https://localhost:8080/"
        },
        "id": "6PljATDxwCna",
        "outputId": "d9f75464-68f6-4554-925e-21f34073243f"
      },
      "execution_count": null,
      "outputs": [
        {
          "output_type": "stream",
          "name": "stdout",
          "text": [
            "1/1 [==============================] - 0s 51ms/step\n",
            "[[0.99999464]\n",
            " [0.99999464]]\n"
          ]
        }
      ]
    },
    {
      "cell_type": "code",
      "source": [
        "import cv2\n",
        "test_img=cv2.imread(r'/content/gdrive/MyDrive/dataset/T51+T52BAD+T53BAD+T54BAD+T57BAD +T58BAD/Test/good_dataset/DJI_0917.jpg')\n",
        "test_img=cv2.resize(test_img,(528,528))\n",
        "test_img\n",
        "img=np.asarray(test_img)\n",
        "img.shape\n",
        "from copy import deepcopy\n",
        "img_2=deepcopy(img)\n",
        "images=[img,img_2]\n",
        "prediction=my_model.predict(np.array(images))\n",
        "print(prediction)"
      ],
      "metadata": {
        "colab": {
          "base_uri": "https://localhost:8080/"
        },
        "id": "59b5FEdJwHip",
        "outputId": "4ffe0fbf-4f51-4eae-ae8b-65b068603f21"
      },
      "execution_count": null,
      "outputs": [
        {
          "output_type": "stream",
          "name": "stdout",
          "text": [
            "1/1 [==============================] - 0s 54ms/step\n",
            "[[0.99998736]\n",
            " [0.99998736]]\n"
          ]
        }
      ]
    },
    {
      "cell_type": "code",
      "source": [
        "import cv2\n",
        "test_img=cv2.imread(r'/content/gdrive/MyDrive/dataset/T51+T52BAD+T53BAD+T54BAD+T57BAD +T58BAD/Test/good_dataset/DJI_0919.jpg')\n",
        "test_img=cv2.resize(test_img,(528,528))\n",
        "test_img\n",
        "img=np.asarray(test_img)\n",
        "img.shape\n",
        "from copy import deepcopy\n",
        "img_2=deepcopy(img)\n",
        "images=[img,img_2]\n",
        "prediction=my_model.predict(np.array(images))\n",
        "print(prediction)"
      ],
      "metadata": {
        "colab": {
          "base_uri": "https://localhost:8080/"
        },
        "id": "SR5lqBFjwKQF",
        "outputId": "a9246c75-dfa0-4813-fd0c-69b907d72a3f"
      },
      "execution_count": null,
      "outputs": [
        {
          "output_type": "stream",
          "name": "stdout",
          "text": [
            "1/1 [==============================] - 0s 53ms/step\n",
            "[[0.99935716]\n",
            " [0.99935716]]\n"
          ]
        }
      ]
    },
    {
      "cell_type": "code",
      "source": [
        "import cv2\n",
        "test_img=cv2.imread(r'/content/gdrive/MyDrive/dataset/T51+T52BAD+T53BAD+T54BAD+T57BAD +T58BAD/Test/good_dataset/DJI_0921.jpg')\n",
        "test_img=cv2.resize(test_img,(528,528))\n",
        "test_img\n",
        "img=np.asarray(test_img)\n",
        "img.shape\n",
        "from copy import deepcopy\n",
        "img_2=deepcopy(img)\n",
        "images=[img,img_2]\n",
        "prediction=my_model.predict(np.array(images))\n",
        "print(prediction)"
      ],
      "metadata": {
        "colab": {
          "base_uri": "https://localhost:8080/"
        },
        "id": "Vzh3FxVXwO89",
        "outputId": "86a7b1aa-c008-416e-f712-d6f6f17eedd1"
      },
      "execution_count": null,
      "outputs": [
        {
          "output_type": "stream",
          "name": "stdout",
          "text": [
            "1/1 [==============================] - 0s 53ms/step\n",
            "[[0.9994578]\n",
            " [0.9994578]]\n"
          ]
        }
      ]
    },
    {
      "cell_type": "code",
      "source": [
        "import cv2\n",
        "test_img=cv2.imread(r'/content/gdrive/MyDrive/dataset/T51+T52BAD+T53BAD+T54BAD+T57BAD +T58BAD/Test/good_dataset/DJI_0923.jpg')\n",
        "test_img=cv2.resize(test_img,(528,528))\n",
        "test_img\n",
        "img=np.asarray(test_img)\n",
        "img.shape\n",
        "from copy import deepcopy\n",
        "img_2=deepcopy(img)\n",
        "images=[img,img_2]\n",
        "prediction=my_model.predict(np.array(images))\n",
        "print(prediction)"
      ],
      "metadata": {
        "colab": {
          "base_uri": "https://localhost:8080/"
        },
        "id": "qL8U8WDqwRBY",
        "outputId": "9981d632-d531-4a17-ee2c-a4a68fb0c00c"
      },
      "execution_count": null,
      "outputs": [
        {
          "output_type": "stream",
          "name": "stdout",
          "text": [
            "1/1 [==============================] - 0s 57ms/step\n",
            "[[0.99999976]\n",
            " [0.99999976]]\n"
          ]
        }
      ]
    },
    {
      "cell_type": "code",
      "source": [
        "import cv2\n",
        "test_img=cv2.imread(r'/content/gdrive/MyDrive/dataset/T51+T52BAD+T53BAD+T54BAD+T57BAD +T58BAD/Test/good_dataset/DJI_0925.jpg')\n",
        "test_img=cv2.resize(test_img,(528,528))\n",
        "test_img\n",
        "img=np.asarray(test_img)\n",
        "img.shape\n",
        "from copy import deepcopy\n",
        "img_2=deepcopy(img)\n",
        "images=[img,img_2]\n",
        "prediction=my_model.predict(np.array(images))\n",
        "print(prediction)"
      ],
      "metadata": {
        "colab": {
          "base_uri": "https://localhost:8080/"
        },
        "id": "JsEsvXubwa1A",
        "outputId": "6469d101-0a05-48ed-8316-00e3c25e17d5"
      },
      "execution_count": null,
      "outputs": [
        {
          "output_type": "stream",
          "name": "stdout",
          "text": [
            "1/1 [==============================] - 0s 56ms/step\n",
            "[[0.99998426]\n",
            " [0.99998426]]\n"
          ]
        }
      ]
    },
    {
      "cell_type": "code",
      "source": [
        "import cv2\n",
        "test_img=cv2.imread(r'/content/gdrive/MyDrive/dataset/T51+T52BAD+T53BAD+T54BAD+T57BAD +T58BAD/Test/good_dataset/DJI_0927.jpg')\n",
        "test_img=cv2.resize(test_img,(528,528))\n",
        "test_img\n",
        "img=np.asarray(test_img)\n",
        "img.shape\n",
        "from copy import deepcopy\n",
        "img_2=deepcopy(img)\n",
        "images=[img,img_2]\n",
        "prediction=my_model.predict(np.array(images))\n",
        "print(prediction)"
      ],
      "metadata": {
        "id": "IeNlgYCHwddw",
        "colab": {
          "base_uri": "https://localhost:8080/"
        },
        "outputId": "68451789-3649-4fc4-bdd2-990fa8b4d12d"
      },
      "execution_count": null,
      "outputs": [
        {
          "output_type": "stream",
          "name": "stdout",
          "text": [
            "1/1 [==============================] - 0s 53ms/step\n",
            "[[0.99976796]\n",
            " [0.99976796]]\n"
          ]
        }
      ]
    },
    {
      "cell_type": "code",
      "source": [
        "import cv2\n",
        "test_img=cv2.imread(r'/content/gdrive/MyDrive/dataset/T51+T52BAD+T53BAD+T54BAD+T57BAD +T58BAD/Test/good_dataset/DJI_0929.jpg')\n",
        "test_img=cv2.resize(test_img,(528,528))\n",
        "test_img\n",
        "img=np.asarray(test_img)\n",
        "img.shape\n",
        "from copy import deepcopy\n",
        "img_2=deepcopy(img)\n",
        "images=[img,img_2]\n",
        "prediction=my_model.predict(np.array(images))\n",
        "print(prediction)"
      ],
      "metadata": {
        "colab": {
          "base_uri": "https://localhost:8080/"
        },
        "id": "CZHAca5LwfFR",
        "outputId": "0e540a79-2fde-4568-ccac-e192db1a9b81"
      },
      "execution_count": null,
      "outputs": [
        {
          "output_type": "stream",
          "name": "stdout",
          "text": [
            "1/1 [==============================] - 0s 51ms/step\n",
            "[[0.99996865]\n",
            " [0.99996865]]\n"
          ]
        }
      ]
    },
    {
      "cell_type": "code",
      "source": [
        "import cv2\n",
        "test_img=cv2.imread(r'/content/gdrive/MyDrive/dataset/T51+T52BAD+T53BAD+T54BAD+T57BAD +T58BAD/Test/good_dataset/DJI_0931.jpg')\n",
        "test_img=cv2.resize(test_img,(528,528))\n",
        "test_img\n",
        "img=np.asarray(test_img)\n",
        "img.shape\n",
        "from copy import deepcopy\n",
        "img_2=deepcopy(img)\n",
        "images=[img,img_2]\n",
        "prediction=my_model.predict(np.array(images))\n",
        "print(prediction)"
      ],
      "metadata": {
        "colab": {
          "base_uri": "https://localhost:8080/"
        },
        "id": "Sr8b58CLwhwg",
        "outputId": "887a002a-c3e4-4267-cfcd-58420ff719e9"
      },
      "execution_count": null,
      "outputs": [
        {
          "output_type": "stream",
          "name": "stdout",
          "text": [
            "1/1 [==============================] - 0s 50ms/step\n",
            "[[0.99999964]\n",
            " [0.99999964]]\n"
          ]
        }
      ]
    },
    {
      "cell_type": "code",
      "source": [
        "import cv2\n",
        "test_img=cv2.imread(r'/content/gdrive/MyDrive/dataset/T51+T52BAD+T53BAD+T54BAD+T57BAD +T58BAD/Test/good_dataset/DJI_0933.jpg')\n",
        "test_img=cv2.resize(test_img,(528,528))\n",
        "test_img\n",
        "img=np.asarray(test_img)\n",
        "img.shape\n",
        "from copy import deepcopy\n",
        "img_2=deepcopy(img)\n",
        "images=[img,img_2]\n",
        "prediction=my_model.predict(np.array(images))\n",
        "print(prediction)"
      ],
      "metadata": {
        "colab": {
          "base_uri": "https://localhost:8080/"
        },
        "id": "S0zlSYdDxypp",
        "outputId": "8d2f7402-b8c1-4112-c5e6-10ba2ed7740e"
      },
      "execution_count": null,
      "outputs": [
        {
          "output_type": "stream",
          "name": "stdout",
          "text": [
            "1/1 [==============================] - 0s 51ms/step\n",
            "[[0.999997]\n",
            " [0.999997]]\n"
          ]
        }
      ]
    },
    {
      "cell_type": "code",
      "source": [
        "import cv2\n",
        "test_img=cv2.imread(r'/content/gdrive/MyDrive/dataset/T51+T52BAD+T53BAD+T54BAD+T57BAD +T58BAD/Test/good_dataset/DJI_0935.jpg')\n",
        "test_img=cv2.resize(test_img,(528,528))\n",
        "test_img\n",
        "img=np.asarray(test_img)\n",
        "img.shape\n",
        "from copy import deepcopy\n",
        "img_2=deepcopy(img)\n",
        "images=[img,img_2]\n",
        "prediction=my_model.predict(np.array(images))\n",
        "print(prediction)"
      ],
      "metadata": {
        "colab": {
          "base_uri": "https://localhost:8080/"
        },
        "id": "X8R0Qz_bx4aX",
        "outputId": "c97450a7-f2be-46c2-e16b-0b79b67242e3"
      },
      "execution_count": null,
      "outputs": [
        {
          "output_type": "stream",
          "name": "stdout",
          "text": [
            "1/1 [==============================] - 0s 67ms/step\n",
            "[[0.00159449]\n",
            " [0.00159449]]\n"
          ]
        }
      ]
    },
    {
      "cell_type": "code",
      "source": [
        "import cv2\n",
        "test_img=cv2.imread(r'/content/gdrive/MyDrive/dataset/T51+T52BAD+T53BAD+T54BAD+T57BAD +T58BAD/Test/good_dataset/DJI_0937.jpg')\n",
        "test_img=cv2.resize(test_img,(528,528))\n",
        "test_img\n",
        "img=np.asarray(test_img)\n",
        "img.shape\n",
        "from copy import deepcopy\n",
        "img_2=deepcopy(img)\n",
        "images=[img,img_2]\n",
        "prediction=my_model.predict(np.array(images))\n",
        "print(prediction)"
      ],
      "metadata": {
        "colab": {
          "base_uri": "https://localhost:8080/"
        },
        "id": "YB4VRHN7x8Nq",
        "outputId": "933b9d00-95a5-4d8c-f2c5-73a2be9ea67d"
      },
      "execution_count": null,
      "outputs": [
        {
          "output_type": "stream",
          "name": "stdout",
          "text": [
            "1/1 [==============================] - 0s 50ms/step\n",
            "[[0.996813]\n",
            " [0.996813]]\n"
          ]
        }
      ]
    },
    {
      "cell_type": "code",
      "source": [
        "import cv2\n",
        "test_img=cv2.imread(r'/content/gdrive/MyDrive/dataset/T51+T52BAD+T53BAD+T54BAD+T57BAD +T58BAD/Test/good_dataset/DJI_0939.jpg')\n",
        "test_img=cv2.resize(test_img,(528,528))\n",
        "test_img\n",
        "img=np.asarray(test_img)\n",
        "img.shape\n",
        "from copy import deepcopy\n",
        "img_2=deepcopy(img)\n",
        "images=[img,img_2]\n",
        "prediction=my_model.predict(np.array(images))\n",
        "print(prediction)"
      ],
      "metadata": {
        "colab": {
          "base_uri": "https://localhost:8080/"
        },
        "id": "Y3FSNegXx_l4",
        "outputId": "3910d29f-96a1-4d5c-a106-f10345b4f623"
      },
      "execution_count": null,
      "outputs": [
        {
          "output_type": "stream",
          "name": "stdout",
          "text": [
            "1/1 [==============================] - 0s 52ms/step\n",
            "[[0.97200215]\n",
            " [0.97200215]]\n"
          ]
        }
      ]
    },
    {
      "cell_type": "code",
      "source": [
        "import cv2\n",
        "test_img=cv2.imread(r'/content/gdrive/MyDrive/dataset/T51+T52BAD+T53BAD+T54BAD+T57BAD +T58BAD/Test/good_dataset/DJI_0941.jpg')\n",
        "test_img=cv2.resize(test_img,(528,528))\n",
        "test_img\n",
        "img=np.asarray(test_img)\n",
        "img.shape\n",
        "from copy import deepcopy\n",
        "img_2=deepcopy(img)\n",
        "images=[img,img_2]\n",
        "prediction=my_model.predict(np.array(images))\n",
        "print(prediction)"
      ],
      "metadata": {
        "colab": {
          "base_uri": "https://localhost:8080/"
        },
        "id": "rLd0hL0wx_w3",
        "outputId": "f4d71d76-bdbe-4a9b-dfaa-a43b2c85d993"
      },
      "execution_count": null,
      "outputs": [
        {
          "output_type": "stream",
          "name": "stdout",
          "text": [
            "1/1 [==============================] - 0s 55ms/step\n",
            "[[0.00185269]\n",
            " [0.00185269]]\n"
          ]
        }
      ]
    },
    {
      "cell_type": "code",
      "source": [
        "import cv2\n",
        "test_img=cv2.imread(r'/content/gdrive/MyDrive/dataset/T51+T52BAD+T53BAD+T54BAD+T57BAD +T58BAD/Test/good_dataset/DJI_0943.jpg')\n",
        "test_img=cv2.resize(test_img,(528,528))\n",
        "test_img\n",
        "img=np.asarray(test_img)\n",
        "img.shape\n",
        "from copy import deepcopy\n",
        "img_2=deepcopy(img)\n",
        "images=[img,img_2]\n",
        "prediction=my_model.predict(np.array(images))\n",
        "print(prediction)"
      ],
      "metadata": {
        "colab": {
          "base_uri": "https://localhost:8080/"
        },
        "id": "_YCyQSaox_4Y",
        "outputId": "a9cc559f-e4c9-4469-a27e-9a16b55e0c51"
      },
      "execution_count": null,
      "outputs": [
        {
          "output_type": "stream",
          "name": "stdout",
          "text": [
            "1/1 [==============================] - 0s 65ms/step\n",
            "[[0.00071411]\n",
            " [0.00071411]]\n"
          ]
        }
      ]
    },
    {
      "cell_type": "code",
      "source": [
        "import cv2\n",
        "test_img=cv2.imread(r'/content/gdrive/MyDrive/dataset/T51+T52BAD+T53BAD+T54BAD+T57BAD +T58BAD/Test/good_dataset/DJI_0945.jpg')\n",
        "test_img=cv2.resize(test_img,(528,528))\n",
        "test_img\n",
        "img=np.asarray(test_img)\n",
        "img.shape\n",
        "from copy import deepcopy\n",
        "img_2=deepcopy(img)\n",
        "images=[img,img_2]\n",
        "prediction=my_model.predict(np.array(images))\n",
        "print(prediction)"
      ],
      "metadata": {
        "colab": {
          "base_uri": "https://localhost:8080/"
        },
        "id": "BsX_OheUx_-l",
        "outputId": "f4b94338-bcf6-43d6-e7ff-d587614df422"
      },
      "execution_count": null,
      "outputs": [
        {
          "output_type": "stream",
          "name": "stdout",
          "text": [
            "1/1 [==============================] - 0s 51ms/step\n",
            "[[0.07298041]\n",
            " [0.07298041]]\n"
          ]
        }
      ]
    },
    {
      "cell_type": "code",
      "source": [
        "import cv2\n",
        "test_img=cv2.imread(r'/content/gdrive/MyDrive/dataset/T51+T52BAD+T53BAD+T54BAD+T57BAD +T58BAD/Test/good_dataset/DJI_0947.jpg')\n",
        "test_img=cv2.resize(test_img,(528,528))\n",
        "test_img\n",
        "img=np.asarray(test_img)\n",
        "img.shape\n",
        "from copy import deepcopy\n",
        "img_2=deepcopy(img)\n",
        "images=[img,img_2]\n",
        "prediction=my_model.predict(np.array(images))\n",
        "print(prediction)"
      ],
      "metadata": {
        "colab": {
          "base_uri": "https://localhost:8080/"
        },
        "id": "Q8GmMovVyADu",
        "outputId": "5dc2ffe5-cb3c-49ce-8f15-0086e3b16308"
      },
      "execution_count": null,
      "outputs": [
        {
          "output_type": "stream",
          "name": "stdout",
          "text": [
            "1/1 [==============================] - 0s 51ms/step\n",
            "[[0.97149974]\n",
            " [0.97149974]]\n"
          ]
        }
      ]
    },
    {
      "cell_type": "code",
      "source": [
        "import cv2\n",
        "test_img=cv2.imread(r'/content/gdrive/MyDrive/dataset/T51+T52BAD+T53BAD+T54BAD+T57BAD +T58BAD/Test/good_dataset/DJI_0949.jpg')\n",
        "test_img=cv2.resize(test_img,(528,528))\n",
        "test_img\n",
        "img=np.asarray(test_img)\n",
        "img.shape\n",
        "from copy import deepcopy\n",
        "img_2=deepcopy(img)\n",
        "images=[img,img_2]\n",
        "prediction=my_model.predict(np.array(images))\n",
        "print(prediction)"
      ],
      "metadata": {
        "colab": {
          "base_uri": "https://localhost:8080/"
        },
        "id": "6qAfVTIYyAMe",
        "outputId": "7a7eea69-a236-458a-feb4-d95ae3a0d084"
      },
      "execution_count": null,
      "outputs": [
        {
          "output_type": "stream",
          "name": "stdout",
          "text": [
            "1/1 [==============================] - 0s 61ms/step\n",
            "[[0.9999982]\n",
            " [0.9999982]]\n"
          ]
        }
      ]
    },
    {
      "cell_type": "code",
      "source": [
        "import cv2\n",
        "test_img=cv2.imread(r'/content/gdrive/MyDrive/dataset/T51+T52BAD+T53BAD+T54BAD+T57BAD +T58BAD/Test/good_dataset/DJI_0951.jpg')\n",
        "test_img=cv2.resize(test_img,(528,528))\n",
        "test_img\n",
        "img=np.asarray(test_img)\n",
        "img.shape\n",
        "from copy import deepcopy\n",
        "img_2=deepcopy(img)\n",
        "images=[img,img_2]\n",
        "prediction=my_model.predict(np.array(images))\n",
        "print(prediction)"
      ],
      "metadata": {
        "colab": {
          "base_uri": "https://localhost:8080/"
        },
        "id": "2oKomCqEyAUb",
        "outputId": "df45909c-8da4-4c0c-dd94-4a7d54530997"
      },
      "execution_count": null,
      "outputs": [
        {
          "output_type": "stream",
          "name": "stdout",
          "text": [
            "1/1 [==============================] - 0s 63ms/step\n",
            "[[1.]\n",
            " [1.]]\n"
          ]
        }
      ]
    },
    {
      "cell_type": "code",
      "source": [
        "import cv2\n",
        "test_img=cv2.imread(r'/content/gdrive/MyDrive/dataset/T51+T52BAD+T53BAD+T54BAD+T57BAD +T58BAD/Test/good_dataset/DJI_0953.jpg')\n",
        "test_img=cv2.resize(test_img,(528,528))\n",
        "test_img\n",
        "img=np.asarray(test_img)\n",
        "img.shape\n",
        "from copy import deepcopy\n",
        "img_2=deepcopy(img)\n",
        "images=[img,img_2]\n",
        "prediction=my_model.predict(np.array(images))\n",
        "print(prediction)"
      ],
      "metadata": {
        "colab": {
          "base_uri": "https://localhost:8080/"
        },
        "id": "HgCuieXOyXow",
        "outputId": "18612199-7eb0-4e69-dc62-8c1518ede2b2"
      },
      "execution_count": null,
      "outputs": [
        {
          "output_type": "stream",
          "name": "stdout",
          "text": [
            "1/1 [==============================] - 0s 54ms/step\n",
            "[[0.9999999]\n",
            " [0.9999999]]\n"
          ]
        }
      ]
    },
    {
      "cell_type": "code",
      "source": [
        "import cv2\n",
        "test_img=cv2.imread(r'/content/gdrive/MyDrive/dataset/T51+T52BAD+T53BAD+T54BAD+T57BAD +T58BAD/Test/good_dataset/DJI_0955.jpg')\n",
        "test_img=cv2.resize(test_img,(528,528))\n",
        "test_img\n",
        "img=np.asarray(test_img)\n",
        "img.shape\n",
        "from copy import deepcopy\n",
        "img_2=deepcopy(img)\n",
        "images=[img,img_2]\n",
        "prediction=my_model.predict(np.array(images))\n",
        "print(prediction)"
      ],
      "metadata": {
        "colab": {
          "base_uri": "https://localhost:8080/"
        },
        "id": "DRRXN3vVyX0_",
        "outputId": "440c4d3b-1af7-4532-d42f-08c23dfd7168"
      },
      "execution_count": null,
      "outputs": [
        {
          "output_type": "stream",
          "name": "stdout",
          "text": [
            "1/1 [==============================] - 0s 56ms/step\n",
            "[[0.9999999]\n",
            " [0.9999999]]\n"
          ]
        }
      ]
    },
    {
      "cell_type": "code",
      "source": [
        "import cv2\n",
        "test_img=cv2.imread(r'/content/gdrive/MyDrive/dataset/T51+T52BAD+T53BAD+T54BAD+T57BAD +T58BAD/Test/good_dataset/DJI_0957.jpg')\n",
        "test_img=cv2.resize(test_img,(528,528))\n",
        "test_img\n",
        "img=np.asarray(test_img)\n",
        "img.shape\n",
        "from copy import deepcopy\n",
        "img_2=deepcopy(img)\n",
        "images=[img,img_2]\n",
        "prediction=my_model.predict(np.array(images))\n",
        "print(prediction)"
      ],
      "metadata": {
        "colab": {
          "base_uri": "https://localhost:8080/"
        },
        "id": "DMzdCyTLyX7c",
        "outputId": "0e3cc7bb-0155-4a90-d063-c8fd06473126"
      },
      "execution_count": null,
      "outputs": [
        {
          "output_type": "stream",
          "name": "stdout",
          "text": [
            "1/1 [==============================] - 0s 51ms/step\n",
            "[[0.99999964]\n",
            " [0.99999964]]\n"
          ]
        }
      ]
    },
    {
      "cell_type": "code",
      "source": [
        "import cv2\n",
        "test_img=cv2.imread(r'/content/gdrive/MyDrive/dataset/T51+T52BAD+T53BAD+T54BAD+T57BAD +T58BAD/Test/good_dataset/DJI_0959.jpg')\n",
        "test_img=cv2.resize(test_img,(528,528))\n",
        "test_img\n",
        "img=np.asarray(test_img)\n",
        "img.shape\n",
        "from copy import deepcopy\n",
        "img_2=deepcopy(img)\n",
        "images=[img,img_2]\n",
        "prediction=my_model.predict(np.array(images))\n",
        "print(prediction)"
      ],
      "metadata": {
        "colab": {
          "base_uri": "https://localhost:8080/"
        },
        "id": "0qnLdt6yyYC4",
        "outputId": "95492238-830a-4a32-bf86-7d17a1909a4d"
      },
      "execution_count": null,
      "outputs": [
        {
          "output_type": "stream",
          "name": "stdout",
          "text": [
            "1/1 [==============================] - 0s 55ms/step\n",
            "[[1.]\n",
            " [1.]]\n"
          ]
        }
      ]
    },
    {
      "cell_type": "code",
      "source": [
        "import cv2\n",
        "test_img=cv2.imread(r'/content/gdrive/MyDrive/dataset/T51+T52BAD+T53BAD+T54BAD+T57BAD +T58BAD/Test/good_dataset/DJI_0961.jpg')\n",
        "test_img=cv2.resize(test_img,(528,528))\n",
        "test_img\n",
        "img=np.asarray(test_img)\n",
        "img.shape\n",
        "from copy import deepcopy\n",
        "img_2=deepcopy(img)\n",
        "images=[img,img_2]\n",
        "prediction=my_model.predict(np.array(images))\n",
        "print(prediction)"
      ],
      "metadata": {
        "colab": {
          "base_uri": "https://localhost:8080/"
        },
        "id": "6QvAIQdKyYJq",
        "outputId": "00cc4900-cf0d-48b7-e330-6949b84f3612"
      },
      "execution_count": null,
      "outputs": [
        {
          "output_type": "stream",
          "name": "stdout",
          "text": [
            "1/1 [==============================] - 0s 50ms/step\n",
            "[[0.99956375]\n",
            " [0.99956375]]\n"
          ]
        }
      ]
    },
    {
      "cell_type": "code",
      "source": [
        "import cv2\n",
        "test_img=cv2.imread(r'/content/gdrive/MyDrive/dataset/T51+T52BAD+T53BAD+T54BAD+T57BAD +T58BAD/Test/good_dataset/DJI_0963.jpg')\n",
        "test_img=cv2.resize(test_img,(528,528))\n",
        "test_img\n",
        "img=np.asarray(test_img)\n",
        "img.shape\n",
        "from copy import deepcopy\n",
        "img_2=deepcopy(img)\n",
        "images=[img,img_2]\n",
        "prediction=my_model.predict(np.array(images))\n",
        "print(prediction)"
      ],
      "metadata": {
        "colab": {
          "base_uri": "https://localhost:8080/"
        },
        "id": "Wo_axcLWyYSg",
        "outputId": "9f663525-b584-4e47-f30c-114948e5cfbe"
      },
      "execution_count": null,
      "outputs": [
        {
          "output_type": "stream",
          "name": "stdout",
          "text": [
            "1/1 [==============================] - 0s 52ms/step\n",
            "[[0.01173404]\n",
            " [0.01173404]]\n"
          ]
        }
      ]
    },
    {
      "cell_type": "code",
      "source": [
        "import cv2\n",
        "test_img=cv2.imread(r'/content/gdrive/MyDrive/dataset/T51+T52BAD+T53BAD+T54BAD+T57BAD +T58BAD/Test/good_dataset/DJI_0965.jpg')\n",
        "test_img=cv2.resize(test_img,(528,528))\n",
        "test_img\n",
        "img=np.asarray(test_img)\n",
        "img.shape\n",
        "from copy import deepcopy\n",
        "img_2=deepcopy(img)\n",
        "images=[img,img_2]\n",
        "prediction=my_model.predict(np.array(images))\n",
        "print(prediction)"
      ],
      "metadata": {
        "colab": {
          "base_uri": "https://localhost:8080/"
        },
        "id": "NRMlsbE6ytLP",
        "outputId": "e4f5aac7-feb9-4177-dc62-8b3300c8a6a7"
      },
      "execution_count": null,
      "outputs": [
        {
          "output_type": "stream",
          "name": "stdout",
          "text": [
            "1/1 [==============================] - 0s 52ms/step\n",
            "[[0.9999496]\n",
            " [0.9999496]]\n"
          ]
        }
      ]
    },
    {
      "cell_type": "code",
      "source": [
        "import cv2\n",
        "test_img=cv2.imread(r'/content/gdrive/MyDrive/dataset/T51+T52BAD+T53BAD+T54BAD+T57BAD +T58BAD/Test/good_dataset/DJI_0967.jpg')\n",
        "test_img=cv2.resize(test_img,(528,528))\n",
        "test_img\n",
        "img=np.asarray(test_img)\n",
        "img.shape\n",
        "from copy import deepcopy\n",
        "img_2=deepcopy(img)\n",
        "images=[img,img_2]\n",
        "prediction=my_model.predict(np.array(images))\n",
        "print(prediction)"
      ],
      "metadata": {
        "colab": {
          "base_uri": "https://localhost:8080/"
        },
        "id": "d8uBtuiXyuC5",
        "outputId": "e8111c87-810d-457f-dd17-748f82fa5341"
      },
      "execution_count": null,
      "outputs": [
        {
          "output_type": "stream",
          "name": "stdout",
          "text": [
            "1/1 [==============================] - 0s 56ms/step\n",
            "[[0.00213414]\n",
            " [0.00213414]]\n"
          ]
        }
      ]
    },
    {
      "cell_type": "code",
      "source": [
        "import cv2\n",
        "test_img=cv2.imread(r'/content/gdrive/MyDrive/dataset/T51+T52BAD+T53BAD+T54BAD+T57BAD +T58BAD/Test/good_dataset/DJI_0969.jpg')\n",
        "test_img=cv2.resize(test_img,(528,528))\n",
        "test_img\n",
        "img=np.asarray(test_img)\n",
        "img.shape\n",
        "from copy import deepcopy\n",
        "img_2=deepcopy(img)\n",
        "images=[img,img_2]\n",
        "prediction=my_model.predict(np.array(images))\n",
        "print(prediction)"
      ],
      "metadata": {
        "colab": {
          "base_uri": "https://localhost:8080/"
        },
        "id": "14icMaZHyuKO",
        "outputId": "e0779047-b87f-4195-c195-081865ae1e02"
      },
      "execution_count": null,
      "outputs": [
        {
          "output_type": "stream",
          "name": "stdout",
          "text": [
            "1/1 [==============================] - 0s 65ms/step\n",
            "[[0.5091571]\n",
            " [0.5091571]]\n"
          ]
        }
      ]
    },
    {
      "cell_type": "code",
      "source": [
        "import cv2\n",
        "test_img=cv2.imread(r'/content/gdrive/MyDrive/dataset/T51+T52BAD+T53BAD+T54BAD+T57BAD +T58BAD/Test/good_dataset/DJI_0971.jpg')\n",
        "test_img=cv2.resize(test_img,(528,528))\n",
        "test_img\n",
        "img=np.asarray(test_img)\n",
        "img.shape\n",
        "from copy import deepcopy\n",
        "img_2=deepcopy(img)\n",
        "images=[img,img_2]\n",
        "prediction=my_model.predict(np.array(images))\n",
        "print(prediction)"
      ],
      "metadata": {
        "colab": {
          "base_uri": "https://localhost:8080/"
        },
        "id": "63qU-ty-yuSH",
        "outputId": "e558f6dc-3b9f-4287-8abe-a60d1f87aebd"
      },
      "execution_count": null,
      "outputs": [
        {
          "output_type": "stream",
          "name": "stdout",
          "text": [
            "1/1 [==============================] - 0s 55ms/step\n",
            "[[0.05067952]\n",
            " [0.05067952]]\n"
          ]
        }
      ]
    },
    {
      "cell_type": "code",
      "source": [
        "import cv2\n",
        "test_img=cv2.imread(r'/content/gdrive/MyDrive/dataset/T51+T52BAD+T53BAD+T54BAD+T57BAD +T58BAD/Test/good_dataset/DJI_0973.jpg')\n",
        "test_img=cv2.resize(test_img,(528,528))\n",
        "test_img\n",
        "img=np.asarray(test_img)\n",
        "img.shape\n",
        "from copy import deepcopy\n",
        "img_2=deepcopy(img)\n",
        "images=[img,img_2]\n",
        "prediction=my_model.predict(np.array(images))\n",
        "print(prediction)"
      ],
      "metadata": {
        "colab": {
          "base_uri": "https://localhost:8080/"
        },
        "id": "ESVvGvT5yuYN",
        "outputId": "42587de5-86cf-4ea8-b186-29cd6ed656eb"
      },
      "execution_count": null,
      "outputs": [
        {
          "output_type": "stream",
          "name": "stdout",
          "text": [
            "1/1 [==============================] - 0s 53ms/step\n",
            "[[0.23100393]\n",
            " [0.23100393]]\n"
          ]
        }
      ]
    },
    {
      "cell_type": "code",
      "source": [
        "import cv2\n",
        "test_img=cv2.imread(r'/content/gdrive/MyDrive/dataset/T51+T52BAD+T53BAD+T54BAD+T57BAD +T58BAD/Test/good_dataset/DJI_0975.jpg')\n",
        "test_img=cv2.resize(test_img,(528,528))\n",
        "test_img\n",
        "img=np.asarray(test_img)\n",
        "img.shape\n",
        "from copy import deepcopy\n",
        "img_2=deepcopy(img)\n",
        "images=[img,img_2]\n",
        "prediction=my_model.predict(np.array(images))\n",
        "print(prediction)"
      ],
      "metadata": {
        "colab": {
          "base_uri": "https://localhost:8080/"
        },
        "id": "Ut-PpBexyueH",
        "outputId": "c12564cf-c4ab-49ce-ae07-3902db370c57"
      },
      "execution_count": null,
      "outputs": [
        {
          "output_type": "stream",
          "name": "stdout",
          "text": [
            "1/1 [==============================] - 0s 74ms/step\n",
            "[[0.22632577]\n",
            " [0.22632577]]\n"
          ]
        }
      ]
    },
    {
      "cell_type": "code",
      "source": [
        "import cv2\n",
        "test_img=cv2.imread(r'/content/gdrive/MyDrive/dataset/T51+T52BAD+T53BAD+T54BAD+T57BAD +T58BAD/Test/good_dataset/DJI_0977.jpg')\n",
        "test_img=cv2.resize(test_img,(528,528))\n",
        "test_img\n",
        "img=np.asarray(test_img)\n",
        "img.shape\n",
        "from copy import deepcopy\n",
        "img_2=deepcopy(img)\n",
        "images=[img,img_2]\n",
        "prediction=my_model.predict(np.array(images))\n",
        "print(prediction)"
      ],
      "metadata": {
        "colab": {
          "base_uri": "https://localhost:8080/"
        },
        "id": "JMWmEvNNyukI",
        "outputId": "590e9536-e279-4628-a60f-b53530b48b03"
      },
      "execution_count": null,
      "outputs": [
        {
          "output_type": "stream",
          "name": "stdout",
          "text": [
            "1/1 [==============================] - 0s 53ms/step\n",
            "[[0.4327812]\n",
            " [0.4327812]]\n"
          ]
        }
      ]
    },
    {
      "cell_type": "code",
      "source": [
        "import cv2\n",
        "test_img=cv2.imread(r'/content/gdrive/MyDrive/dataset/T51+T52BAD+T53BAD+T54BAD+T57BAD +T58BAD/Test/good_dataset/DJI_0979.jpg')\n",
        "test_img=cv2.resize(test_img,(528,528))\n",
        "test_img\n",
        "img=np.asarray(test_img)\n",
        "img.shape\n",
        "from copy import deepcopy\n",
        "img_2=deepcopy(img)\n",
        "images=[img,img_2]\n",
        "prediction=my_model.predict(np.array(images))\n",
        "print(prediction)"
      ],
      "metadata": {
        "colab": {
          "base_uri": "https://localhost:8080/"
        },
        "id": "bLMJknWkyup-",
        "outputId": "0a0e5025-20c8-4ec1-d156-ae3a13fdc495"
      },
      "execution_count": null,
      "outputs": [
        {
          "output_type": "stream",
          "name": "stdout",
          "text": [
            "1/1 [==============================] - 0s 54ms/step\n",
            "[[0.96267694]\n",
            " [0.96267694]]\n"
          ]
        }
      ]
    },
    {
      "cell_type": "code",
      "source": [
        "import cv2\n",
        "test_img=cv2.imread(r'/content/gdrive/MyDrive/dataset/T51+T52BAD+T53BAD+T54BAD+T57BAD +T58BAD/Test/good_dataset/DJI_0981.jpg')\n",
        "test_img=cv2.resize(test_img,(528,528))\n",
        "test_img\n",
        "img=np.asarray(test_img)\n",
        "img.shape\n",
        "from copy import deepcopy\n",
        "img_2=deepcopy(img)\n",
        "images=[img,img_2]\n",
        "prediction=my_model.predict(np.array(images))\n",
        "print(prediction)"
      ],
      "metadata": {
        "colab": {
          "base_uri": "https://localhost:8080/"
        },
        "id": "by582it0yu03",
        "outputId": "cad83134-97b6-4ab4-c626-4e830411bf2d"
      },
      "execution_count": null,
      "outputs": [
        {
          "output_type": "stream",
          "name": "stdout",
          "text": [
            "1/1 [==============================] - 0s 50ms/step\n",
            "[[0.9989567]\n",
            " [0.9989567]]\n"
          ]
        }
      ]
    },
    {
      "cell_type": "code",
      "source": [
        "import cv2\n",
        "test_img=cv2.imread(r'/content/gdrive/MyDrive/dataset/T51+T52BAD+T53BAD+T54BAD+T57BAD +T58BAD/Test/good_dataset/DJI_0983.jpg')\n",
        "test_img=cv2.resize(test_img,(528,528))\n",
        "test_img\n",
        "img=np.asarray(test_img)\n",
        "img.shape\n",
        "from copy import deepcopy\n",
        "img_2=deepcopy(img)\n",
        "images=[img,img_2]\n",
        "prediction=my_model.predict(np.array(images))\n",
        "print(prediction)"
      ],
      "metadata": {
        "colab": {
          "base_uri": "https://localhost:8080/"
        },
        "id": "StoG_JBTyu7E",
        "outputId": "5fd4085a-ff0b-41ef-fbe2-cd4daa6fbeff"
      },
      "execution_count": null,
      "outputs": [
        {
          "output_type": "stream",
          "name": "stdout",
          "text": [
            "1/1 [==============================] - 0s 74ms/step\n",
            "[[0.9999906]\n",
            " [0.9999906]]\n"
          ]
        }
      ]
    },
    {
      "cell_type": "code",
      "source": [
        "import cv2\n",
        "test_img=cv2.imread(r'/content/gdrive/MyDrive/dataset/T51+T52BAD+T53BAD+T54BAD+T57BAD +T58BAD/Test/good_dataset/DJI_0985.jpg')\n",
        "test_img=cv2.resize(test_img,(528,528))\n",
        "test_img\n",
        "img=np.asarray(test_img)\n",
        "img.shape\n",
        "from copy import deepcopy\n",
        "img_2=deepcopy(img)\n",
        "images=[img,img_2]\n",
        "prediction=my_model.predict(np.array(images))\n",
        "print(prediction)"
      ],
      "metadata": {
        "colab": {
          "base_uri": "https://localhost:8080/"
        },
        "id": "0gBAmN6jyvA8",
        "outputId": "7882cf6d-6323-46d6-d1f5-749fb0330dac"
      },
      "execution_count": null,
      "outputs": [
        {
          "output_type": "stream",
          "name": "stdout",
          "text": [
            "1/1 [==============================] - 0s 54ms/step\n",
            "[[0.99998736]\n",
            " [0.99998736]]\n"
          ]
        }
      ]
    },
    {
      "cell_type": "code",
      "source": [
        "import cv2\n",
        "test_img=cv2.imread(r'/content/gdrive/MyDrive/dataset/T51+T52BAD+T53BAD+T54BAD+T57BAD +T58BAD/Test/good_dataset/DJI_0987.jpg')\n",
        "test_img=cv2.resize(test_img,(528,528))\n",
        "test_img\n",
        "img=np.asarray(test_img)\n",
        "img.shape\n",
        "from copy import deepcopy\n",
        "img_2=deepcopy(img)\n",
        "images=[img,img_2]\n",
        "prediction=my_model.predict(np.array(images))\n",
        "print(prediction)"
      ],
      "metadata": {
        "colab": {
          "base_uri": "https://localhost:8080/"
        },
        "id": "ARXQVo0ryvG0",
        "outputId": "e7f46690-4eeb-4a60-efe0-0d804e8b2aa0"
      },
      "execution_count": null,
      "outputs": [
        {
          "output_type": "stream",
          "name": "stdout",
          "text": [
            "1/1 [==============================] - 0s 55ms/step\n",
            "[[0.9999975]\n",
            " [0.9999975]]\n"
          ]
        }
      ]
    },
    {
      "cell_type": "code",
      "source": [
        "import cv2\n",
        "test_img=cv2.imread(r'/content/gdrive/MyDrive/dataset/T51+T52BAD+T53BAD+T54BAD+T57BAD +T58BAD/Test/good_dataset/DJI_0989.jpg')\n",
        "test_img=cv2.resize(test_img,(528,528))\n",
        "test_img\n",
        "img=np.asarray(test_img)\n",
        "img.shape\n",
        "from copy import deepcopy\n",
        "img_2=deepcopy(img)\n",
        "images=[img,img_2]\n",
        "prediction=my_model.predict(np.array(images))\n",
        "print(prediction)"
      ],
      "metadata": {
        "colab": {
          "base_uri": "https://localhost:8080/"
        },
        "id": "ClPU_En8yvNC",
        "outputId": "b9231ba3-4415-4639-d7c7-487b0ad60694"
      },
      "execution_count": null,
      "outputs": [
        {
          "output_type": "stream",
          "name": "stdout",
          "text": [
            "1/1 [==============================] - 0s 52ms/step\n",
            "[[0.7920455]\n",
            " [0.7920455]]\n"
          ]
        }
      ]
    },
    {
      "cell_type": "code",
      "source": [
        "import cv2\n",
        "test_img=cv2.imread(r'/content/gdrive/MyDrive/dataset/T51+T52BAD+T53BAD+T54BAD+T57BAD +T58BAD/Test/good_dataset/DJI_0991.jpg')\n",
        "test_img=cv2.resize(test_img,(528,528))\n",
        "test_img\n",
        "img=np.asarray(test_img)\n",
        "img.shape\n",
        "from copy import deepcopy\n",
        "img_2=deepcopy(img)\n",
        "images=[img,img_2]\n",
        "prediction=my_model.predict(np.array(images))\n",
        "print(prediction)"
      ],
      "metadata": {
        "colab": {
          "base_uri": "https://localhost:8080/"
        },
        "outputId": "9906b529-f913-41c9-a799-bf51ae8bf29d",
        "id": "W122F5OD4qCa"
      },
      "execution_count": null,
      "outputs": [
        {
          "output_type": "stream",
          "name": "stdout",
          "text": [
            "1/1 [==============================] - 0s 52ms/step\n",
            "[[0.9913083]\n",
            " [0.9913083]]\n"
          ]
        }
      ]
    },
    {
      "cell_type": "code",
      "source": [
        "import cv2\n",
        "test_img=cv2.imread(r'/content/gdrive/MyDrive/dataset/T51+T52BAD+T53BAD+T54BAD+T57BAD +T58BAD/Test/good_dataset/DJI_0993.jpg')\n",
        "test_img=cv2.resize(test_img,(528,528))\n",
        "test_img\n",
        "img=np.asarray(test_img)\n",
        "img.shape\n",
        "from copy import deepcopy\n",
        "img_2=deepcopy(img)\n",
        "images=[img,img_2]\n",
        "prediction=my_model.predict(np.array(images))\n",
        "print(prediction)"
      ],
      "metadata": {
        "colab": {
          "base_uri": "https://localhost:8080/"
        },
        "outputId": "d756353d-aeb9-45ff-d159-ed39eb098cbc",
        "id": "DHPfgCAu4rNy"
      },
      "execution_count": null,
      "outputs": [
        {
          "output_type": "stream",
          "name": "stdout",
          "text": [
            "1/1 [==============================] - 0s 62ms/step\n",
            "[[0.6085975]\n",
            " [0.6085975]]\n"
          ]
        }
      ]
    },
    {
      "cell_type": "code",
      "source": [
        "import cv2\n",
        "test_img=cv2.imread(r'/content/gdrive/MyDrive/dataset/T51+T52BAD+T53BAD+T54BAD+T57BAD +T58BAD/Test/good_dataset/DJI_0995.jpg')\n",
        "test_img=cv2.resize(test_img,(528,528))\n",
        "test_img\n",
        "img=np.asarray(test_img)\n",
        "img.shape\n",
        "from copy import deepcopy\n",
        "img_2=deepcopy(img)\n",
        "images=[img,img_2]\n",
        "prediction=my_model.predict(np.array(images))\n",
        "print(prediction)"
      ],
      "metadata": {
        "colab": {
          "base_uri": "https://localhost:8080/"
        },
        "outputId": "973282e3-d4c6-440d-a692-920e25685d62",
        "id": "7VXkxegwbZ53"
      },
      "execution_count": null,
      "outputs": [
        {
          "output_type": "stream",
          "name": "stdout",
          "text": [
            "1/1 [==============================] - 0s 53ms/step\n",
            "[[0.99823016]\n",
            " [0.99823016]]\n"
          ]
        }
      ]
    },
    {
      "cell_type": "code",
      "source": [
        "from sklearn.metrics import classification_report,confusion_matrix\n",
        "truth=['bad','bad','bad','bad','bad','bad','bad','bad','bad','bad','bad','bad','bad','bad','bad','bad','bad','bad','bad','bad','bad','bad','good','good','good','good','good','good','good','good','good','good','good','good','good','good','good','good','good','good','good','good','good','good','good','good','good','good','good','good','good','good','good','good','good','good','good','good','good','good','good','good','good','good','good','good','good','good','good','good','good','good','good','good','good','good','good','good','good','good','good','good','good','good','good','good']\n",
        "prediction=['bad','bad','bad','good','good','bad','good','good','good','good','good','good','good','good','good','good','bad','bad','good','good','good','good','good','good','good','good','good','good','good','good','good','good','bad','bad','good','good','good','good','bad','good','good','bad','good','good','good','good','good','good','good','good','good','good','good','good','good','good','bad','good','good','bad','bad','bad','good','good','good','good','good','good','good','good','bad','good','bad','good','bad','bad','bad','bad','good','good','good','good','good','good','good','good']\n",
        "print(classification_report(truth,prediction))\n",
        "print(confusion_matrix(truth,prediction))"
      ],
      "metadata": {
        "colab": {
          "base_uri": "https://localhost:8080/"
        },
        "id": "h5iGQqMP3jtY",
        "outputId": "2bccc638-b01c-4112-81c0-e3e5b4653783"
      },
      "execution_count": null,
      "outputs": [
        {
          "output_type": "stream",
          "name": "stdout",
          "text": [
            "              precision    recall  f1-score   support\n",
            "\n",
            "         bad       0.30      0.27      0.29        22\n",
            "        good       0.76      0.78      0.77        64\n",
            "\n",
            "    accuracy                           0.65        86\n",
            "   macro avg       0.53      0.53      0.53        86\n",
            "weighted avg       0.64      0.65      0.65        86\n",
            "\n",
            "[[ 6 16]\n",
            " [14 50]]\n"
          ]
        }
      ]
    },
    {
      "cell_type": "markdown",
      "source": [],
      "metadata": {
        "id": "4OeGk9AS4wSi"
      }
    },
    {
      "cell_type": "markdown",
      "source": [],
      "metadata": {
        "id": "SlaUdcj54wE7"
      }
    }
  ]
}